{
  "cells": [
    {
      "cell_type": "markdown",
      "metadata": {
        "id": "view-in-github",
        "colab_type": "text"
      },
      "source": [
        "<a href=\"https://colab.research.google.com/github/Untick/InspectrumClinic_RS_gr2/blob/main/Taranov%20Anatoly/InspectrumClinicRSgr2_TA.ipynb\" target=\"_parent\"><img src=\"https://colab.research.google.com/assets/colab-badge.svg\" alt=\"Open In Colab\"/></a>"
      ]
    },
    {
      "cell_type": "markdown",
      "metadata": {
        "id": "8gwbrbmV-Th-"
      },
      "source": [
        "# ТЕХНИЧЕСКОЕ ЗАДАНИЕ\n",
        "\n"
      ]
    },
    {
      "cell_type": "markdown",
      "metadata": {
        "id": "zeDPgEOkymqf"
      },
      "source": [
        "Рекомендательная система для профпатолога (INSPECTRUM CLINIC)\n",
        "\n",
        "Цель: Разработать прототип системы, реализующей функцию рекомендательной системы для врача профпатолога.\n",
        "\n",
        "Принцип работы: Система должна помогать врачу вынести решение о том годен, не годен или ограниченно годен человек на определенной должности. В датасете целевым столбцом для предсказания нейросетью является столбец под названием: “ЗаключениеМК”. Система может дополнять вердикт мнением, почему человек не годен, или почему ограниченно годен.\n",
        "\n",
        "Требования интерфейсу: Минимальный уровень реализации: notebook google colaboratory. Требуется реализовать простой веб-интерфейс для загрузки анализируемого моделью нейросети набора данных и удобным выводом результатов вынесенного решения.\n",
        "\n",
        "Дополнительно: передача продвинутой системы веб-интерфейса, дополняющей вердикт мнением, почему человек не годен, или почему ограниченно годен.\n",
        "\n",
        "Требования к тестированию, метрикам качества: Оценка результатов работы системы производится Заказчиком на тестовом наборе Заказчика. Метрика точности - точность рекомендации должна быть не ниже 95%"
      ]
    },
    {
      "cell_type": "markdown",
      "source": [],
      "metadata": {
        "id": "fQ8nfgFuLpYP"
      }
    },
    {
      "cell_type": "markdown",
      "source": [
        "# Загрузка библиотек и датасета"
      ],
      "metadata": {
        "id": "bQ-reBL1LrLd"
      }
    },
    {
      "cell_type": "code",
      "execution_count": null,
      "metadata": {
        "id": "0_cb-YDAJoEb"
      },
      "outputs": [],
      "source": [
        "# Импорт библиотек и инструментов\n",
        "from google.colab import files              # Импортируем библиотеку files для работы с файлами\n",
        "import re                                   # Регулярные выражения\n",
        "import pandas as pd                         # Импортируем библиотеку обработки и анализа данных pandas\n",
        "import matplotlib.pyplot as plt             # Импортируем модуль pyplot библиотеки matplotlib для построения графиков\n",
        "import seaborn as sns                       # Импортируем модуль seaborn библиотеки matplotlib для построения графиков\n",
        "import datetime                             # Импортируем модуль datetime для обработки данных в формете даты\n",
        "import numpy as np                          # Импортируем библиотеку numpy\n",
        "\n",
        "%matplotlib inline\n",
        "import gdown\n",
        "from tensorflow.keras import utils\n",
        "from tensorflow.keras.preprocessing.text import Tokenizer, text_to_word_sequence\n",
        "from sklearn.preprocessing import StandardScaler\n",
        "from sklearn.model_selection import train_test_split\n",
        "from IPython.display import clear_output"
      ]
    },
    {
      "cell_type": "code",
      "execution_count": null,
      "metadata": {
        "colab": {
          "base_uri": "https://localhost:8080/"
        },
        "id": "NSaCOOQIdOZf",
        "outputId": "21322f63-b930-4573-9a82-d29cbe9fc84e"
      },
      "outputs": [
        {
          "output_type": "stream",
          "name": "stdout",
          "text": [
            "Drive already mounted at /content/drive; to attempt to forcibly remount, call drive.mount(\"/content/drive\", force_remount=True).\n"
          ]
        }
      ],
      "source": [
        "                                            # Для загрузки данных используем drive\n",
        "from google.colab import drive\n",
        "drive.mount('/content/drive')"
      ]
    },
    {
      "cell_type": "code",
      "execution_count": null,
      "metadata": {
        "id": "K2rzF4ilNPcE"
      },
      "outputs": [],
      "source": [
        "data = pd.read_excel('/content/drive/MyDrive/БазыCSV/InClinic/датасет профпатолог часть.xlsx')       # Загрузка файла из диска в colab"
      ]
    },
    {
      "cell_type": "code",
      "source": [
        "#data2 = pd.read_csv('neiro_06-23.csv', sep = ';', on_bad_lines='skip', engine='python' )"
      ],
      "metadata": {
        "id": "LhZ7zYxibhRD"
      },
      "execution_count": null,
      "outputs": []
    },
    {
      "cell_type": "markdown",
      "metadata": {
        "id": "wlQ2MAoAvZUy"
      },
      "source": [
        "# Анализ формы и состава данных\n",
        "\n",
        "В ходе анализа предоставленной базы данных выяснилось что достаточно большая часть содержит информацию не влияющую на выполнение задачи по техническому заданию. Принято решение создания датафрейма на позициях необходимых для решения задачи.\n",
        "\n",
        "\n",
        "---\n",
        "\n",
        "Запускать только при необходимости анализа"
      ]
    },
    {
      "cell_type": "code",
      "source": [
        "# путь до папки, содержащей файлы (замените на ваш путь)\n",
        "folder_path = '/content/drive/MyDrive/Работа в УИИ/Профпатолог стажировка (старички) 01.04/datasets/24.06'\n",
        "\n",
        "# получаем список файлов в папке\n",
        "file_list = os.listdir(folder_path)\n",
        "\n",
        "# последовательно выводим содержимое каждого .csv файла\n",
        "for file_name in file_list:\n",
        "    if file_name.endswith('.csv'):\n",
        "        file_path = os.path.join(folder_path, file_name)\n",
        "        print(\"Contens of \", file_name, \":\")\n",
        "        try:\n",
        "            df = pd.read_csv(file_path, sep=',')\n",
        "        except:\n",
        "            try:\n",
        "                df = pd.read_csv(file_path, sep=';')\n",
        "            except:\n",
        "                print(\"Could not determine separator\")\n",
        "                continue\n",
        "        display(df) # выводим содержимое файла в виде таблицы"
      ],
      "metadata": {
        "id": "2iDrHkgNsNgx"
      },
      "execution_count": null,
      "outputs": []
    },
    {
      "cell_type": "code",
      "execution_count": null,
      "metadata": {
        "colab": {
          "base_uri": "https://localhost:8080/"
        },
        "id": "oh2FEm_Ku5Gs",
        "outputId": "9bfaada8-b88d-4816-a78a-cef271b3517a"
      },
      "outputs": [
        {
          "name": "stdout",
          "output_type": "stream",
          "text": [
            "(1982, 4587)\n",
            "9091434\n"
          ]
        },
        {
          "data": {
            "text/plain": [
              "8106978"
            ]
          },
          "execution_count": 5,
          "metadata": {},
          "output_type": "execute_result"
        }
      ],
      "source": [
        "print(data.shape)                            # Форма и размер\n",
        "print(data.size)                             # Колличество элементов\n",
        "data.isna().sum().sum()                      # Вычислит общее количество пропусков во всей таблице\n",
        "#data.info()                                 # Сводная информация\n",
        "#data.head()                                 # Вывод первых 5 строк таблицы"
      ]
    },
    {
      "cell_type": "code",
      "execution_count": null,
      "metadata": {
        "colab": {
          "base_uri": "https://localhost:8080/",
          "height": 320
        },
        "id": "Oje2U5h86Igp",
        "outputId": "05f0a5b8-457e-41d9-d181-800113d484cf"
      },
      "outputs": [
        {
          "data": {
            "text/html": [
              "\n",
              "  <div id=\"df-fe307086-01e6-44c1-bb30-59da296a8519\">\n",
              "    <div class=\"colab-df-container\">\n",
              "      <div>\n",
              "<style scoped>\n",
              "    .dataframe tbody tr th:only-of-type {\n",
              "        vertical-align: middle;\n",
              "    }\n",
              "\n",
              "    .dataframe tbody tr th {\n",
              "        vertical-align: top;\n",
              "    }\n",
              "\n",
              "    .dataframe thead th {\n",
              "        text-align: right;\n",
              "    }\n",
              "</style>\n",
              "<table border=\"1\" class=\"dataframe\">\n",
              "  <thead>\n",
              "    <tr style=\"text-align: right;\">\n",
              "      <th></th>\n",
              "      <th>ДокументПрохождениеМедосмотра</th>\n",
              "      <th>Клиент</th>\n",
              "      <th>КлиентПол</th>\n",
              "      <th>КлиентПолПредставление</th>\n",
              "      <th>ТипМедосмотра</th>\n",
              "      <th>ТипМедосмотраПредставление</th>\n",
              "      <th>Контрагент</th>\n",
              "      <th>Цех</th>\n",
              "      <th>Профессия</th>\n",
              "      <th>ЗаключениеМК</th>\n",
              "      <th>...</th>\n",
              "      <th>Оториноларингология3_Аудиометрия1_Значение</th>\n",
              "      <th>Оториноларингология3_Аудиометрия1_ЗначениеПредставление</th>\n",
              "      <th>Оториноларингология1_ЖалобыДополнение_Значение</th>\n",
              "      <th>Оториноларингология1_ЖалобыДополнение_ЗначениеПредставление</th>\n",
              "      <th>Стоматология2_ВП2_Значение</th>\n",
              "      <th>Стоматология2_ВП2_ЗначениеПредставление</th>\n",
              "      <th>Терапия2_ЗаключениеФОГК_Значение</th>\n",
              "      <th>Терапия2_ЗаключениеФОГК_ЗначениеПредставление</th>\n",
              "      <th>Офтальмология1_ДвигательныйАппаратГлазДополнение_Значение</th>\n",
              "      <th>Офтальмология1_ДвигательныйАппаратГлазДополнение_ЗначениеПредставление</th>\n",
              "    </tr>\n",
              "  </thead>\n",
              "  <tbody>\n",
              "    <tr>\n",
              "      <th>count</th>\n",
              "      <td>1982</td>\n",
              "      <td>1982</td>\n",
              "      <td>1982</td>\n",
              "      <td>1982</td>\n",
              "      <td>1982</td>\n",
              "      <td>1982</td>\n",
              "      <td>1982</td>\n",
              "      <td>802</td>\n",
              "      <td>1982</td>\n",
              "      <td>1575</td>\n",
              "      <td>...</td>\n",
              "      <td>1</td>\n",
              "      <td>1</td>\n",
              "      <td>1</td>\n",
              "      <td>1</td>\n",
              "      <td>1</td>\n",
              "      <td>1</td>\n",
              "      <td>1</td>\n",
              "      <td>1</td>\n",
              "      <td>1</td>\n",
              "      <td>1</td>\n",
              "    </tr>\n",
              "    <tr>\n",
              "      <th>unique</th>\n",
              "      <td>1915</td>\n",
              "      <td>1911</td>\n",
              "      <td>2</td>\n",
              "      <td>2</td>\n",
              "      <td>2</td>\n",
              "      <td>2</td>\n",
              "      <td>177</td>\n",
              "      <td>183</td>\n",
              "      <td>690</td>\n",
              "      <td>9</td>\n",
              "      <td>...</td>\n",
              "      <td>1</td>\n",
              "      <td>1</td>\n",
              "      <td>1</td>\n",
              "      <td>1</td>\n",
              "      <td>1</td>\n",
              "      <td>1</td>\n",
              "      <td>1</td>\n",
              "      <td>1</td>\n",
              "      <td>1</td>\n",
              "      <td>1</td>\n",
              "    </tr>\n",
              "    <tr>\n",
              "      <th>top</th>\n",
              "      <td>e334cb0e-55a6-11ed-8108-0cc47aab8067</td>\n",
              "      <td>116fe6a1-455f-11ed-8107-0cc47aab8067</td>\n",
              "      <td>Мужской</td>\n",
              "      <td>Мужской</td>\n",
              "      <td>Периодический</td>\n",
              "      <td>Периодический</td>\n",
              "      <td>173d6ba7-12fe-11e7-80d3-708bcd7f83cd</td>\n",
              "      <td>Без отдела</td>\n",
              "      <td>Водитель</td>\n",
              "      <td>Годен</td>\n",
              "      <td>...</td>\n",
              "      <td>2934f2d1-8e1f-11ec-80fe-0cc47aab8067</td>\n",
              "      <td>не подлежит обследованию</td>\n",
              "      <td>на ком в горле.</td>\n",
              "      <td>на ком в горле.</td>\n",
              "      <td>C</td>\n",
              "      <td>C</td>\n",
              "      <td>Рекомендации: лекарственные препараты принимат...</td>\n",
              "      <td>Рекомендации: лекарственные препараты принимат...</td>\n",
              "      <td>девиация левого глаза к носу до 25 градусов</td>\n",
              "      <td>девиация левого глаза к носу до 25 градусов</td>\n",
              "    </tr>\n",
              "    <tr>\n",
              "      <th>freq</th>\n",
              "      <td>2</td>\n",
              "      <td>3</td>\n",
              "      <td>1451</td>\n",
              "      <td>1451</td>\n",
              "      <td>1981</td>\n",
              "      <td>1981</td>\n",
              "      <td>162</td>\n",
              "      <td>63</td>\n",
              "      <td>55</td>\n",
              "      <td>1434</td>\n",
              "      <td>...</td>\n",
              "      <td>1</td>\n",
              "      <td>1</td>\n",
              "      <td>1</td>\n",
              "      <td>1</td>\n",
              "      <td>1</td>\n",
              "      <td>1</td>\n",
              "      <td>1</td>\n",
              "      <td>1</td>\n",
              "      <td>1</td>\n",
              "      <td>1</td>\n",
              "    </tr>\n",
              "  </tbody>\n",
              "</table>\n",
              "<p>4 rows × 3290 columns</p>\n",
              "</div>\n",
              "      <button class=\"colab-df-convert\" onclick=\"convertToInteractive('df-fe307086-01e6-44c1-bb30-59da296a8519')\"\n",
              "              title=\"Convert this dataframe to an interactive table.\"\n",
              "              style=\"display:none;\">\n",
              "        \n",
              "  <svg xmlns=\"http://www.w3.org/2000/svg\" height=\"24px\"viewBox=\"0 0 24 24\"\n",
              "       width=\"24px\">\n",
              "    <path d=\"M0 0h24v24H0V0z\" fill=\"none\"/>\n",
              "    <path d=\"M18.56 5.44l.94 2.06.94-2.06 2.06-.94-2.06-.94-.94-2.06-.94 2.06-2.06.94zm-11 1L8.5 8.5l.94-2.06 2.06-.94-2.06-.94L8.5 2.5l-.94 2.06-2.06.94zm10 10l.94 2.06.94-2.06 2.06-.94-2.06-.94-.94-2.06-.94 2.06-2.06.94z\"/><path d=\"M17.41 7.96l-1.37-1.37c-.4-.4-.92-.59-1.43-.59-.52 0-1.04.2-1.43.59L10.3 9.45l-7.72 7.72c-.78.78-.78 2.05 0 2.83L4 21.41c.39.39.9.59 1.41.59.51 0 1.02-.2 1.41-.59l7.78-7.78 2.81-2.81c.8-.78.8-2.07 0-2.86zM5.41 20L4 18.59l7.72-7.72 1.47 1.35L5.41 20z\"/>\n",
              "  </svg>\n",
              "      </button>\n",
              "      \n",
              "  <style>\n",
              "    .colab-df-container {\n",
              "      display:flex;\n",
              "      flex-wrap:wrap;\n",
              "      gap: 12px;\n",
              "    }\n",
              "\n",
              "    .colab-df-convert {\n",
              "      background-color: #E8F0FE;\n",
              "      border: none;\n",
              "      border-radius: 50%;\n",
              "      cursor: pointer;\n",
              "      display: none;\n",
              "      fill: #1967D2;\n",
              "      height: 32px;\n",
              "      padding: 0 0 0 0;\n",
              "      width: 32px;\n",
              "    }\n",
              "\n",
              "    .colab-df-convert:hover {\n",
              "      background-color: #E2EBFA;\n",
              "      box-shadow: 0px 1px 2px rgba(60, 64, 67, 0.3), 0px 1px 3px 1px rgba(60, 64, 67, 0.15);\n",
              "      fill: #174EA6;\n",
              "    }\n",
              "\n",
              "    [theme=dark] .colab-df-convert {\n",
              "      background-color: #3B4455;\n",
              "      fill: #D2E3FC;\n",
              "    }\n",
              "\n",
              "    [theme=dark] .colab-df-convert:hover {\n",
              "      background-color: #434B5C;\n",
              "      box-shadow: 0px 1px 3px 1px rgba(0, 0, 0, 0.15);\n",
              "      filter: drop-shadow(0px 1px 2px rgba(0, 0, 0, 0.3));\n",
              "      fill: #FFFFFF;\n",
              "    }\n",
              "  </style>\n",
              "\n",
              "      <script>\n",
              "        const buttonEl =\n",
              "          document.querySelector('#df-fe307086-01e6-44c1-bb30-59da296a8519 button.colab-df-convert');\n",
              "        buttonEl.style.display =\n",
              "          google.colab.kernel.accessAllowed ? 'block' : 'none';\n",
              "\n",
              "        async function convertToInteractive(key) {\n",
              "          const element = document.querySelector('#df-fe307086-01e6-44c1-bb30-59da296a8519');\n",
              "          const dataTable =\n",
              "            await google.colab.kernel.invokeFunction('convertToInteractive',\n",
              "                                                     [key], {});\n",
              "          if (!dataTable) return;\n",
              "\n",
              "          const docLinkHtml = 'Like what you see? Visit the ' +\n",
              "            '<a target=\"_blank\" href=https://colab.research.google.com/notebooks/data_table.ipynb>data table notebook</a>'\n",
              "            + ' to learn more about interactive tables.';\n",
              "          element.innerHTML = '';\n",
              "          dataTable['output_type'] = 'display_data';\n",
              "          await google.colab.output.renderOutput(dataTable, element);\n",
              "          const docLink = document.createElement('div');\n",
              "          docLink.innerHTML = docLinkHtml;\n",
              "          element.appendChild(docLink);\n",
              "        }\n",
              "      </script>\n",
              "    </div>\n",
              "  </div>\n",
              "  "
            ],
            "text/plain": [
              "               ДокументПрохождениеМедосмотра  \\\n",
              "count                                   1982   \n",
              "unique                                  1915   \n",
              "top     e334cb0e-55a6-11ed-8108-0cc47aab8067   \n",
              "freq                                       2   \n",
              "\n",
              "                                      Клиент КлиентПол КлиентПолПредставление  \\\n",
              "count                                   1982      1982                   1982   \n",
              "unique                                  1911         2                      2   \n",
              "top     116fe6a1-455f-11ed-8107-0cc47aab8067   Мужской                Мужской   \n",
              "freq                                       3      1451                   1451   \n",
              "\n",
              "        ТипМедосмотра ТипМедосмотраПредставление  \\\n",
              "count            1982                       1982   \n",
              "unique              2                          2   \n",
              "top     Периодический              Периодический   \n",
              "freq             1981                       1981   \n",
              "\n",
              "                                  Контрагент         Цех Профессия  \\\n",
              "count                                   1982         802      1982   \n",
              "unique                                   177         183       690   \n",
              "top     173d6ba7-12fe-11e7-80d3-708bcd7f83cd  Без отдела  Водитель   \n",
              "freq                                     162          63        55   \n",
              "\n",
              "       ЗаключениеМК  ... Оториноларингология3_Аудиометрия1_Значение  \\\n",
              "count          1575  ...                                          1   \n",
              "unique            9  ...                                          1   \n",
              "top           Годен  ...       2934f2d1-8e1f-11ec-80fe-0cc47aab8067   \n",
              "freq           1434  ...                                          1   \n",
              "\n",
              "       Оториноларингология3_Аудиометрия1_ЗначениеПредставление  \\\n",
              "count                                                   1        \n",
              "unique                                                  1        \n",
              "top                              не подлежит обследованию        \n",
              "freq                                                    1        \n",
              "\n",
              "       Оториноларингология1_ЖалобыДополнение_Значение  \\\n",
              "count                                               1   \n",
              "unique                                              1   \n",
              "top                                   на ком в горле.   \n",
              "freq                                                1   \n",
              "\n",
              "       Оториноларингология1_ЖалобыДополнение_ЗначениеПредставление  \\\n",
              "count                                                   1            \n",
              "unique                                                  1            \n",
              "top                                       на ком в горле.            \n",
              "freq                                                    1            \n",
              "\n",
              "       Стоматология2_ВП2_Значение Стоматология2_ВП2_ЗначениеПредставление  \\\n",
              "count                           1                                       1   \n",
              "unique                          1                                       1   \n",
              "top                             C                                       C   \n",
              "freq                            1                                       1   \n",
              "\n",
              "                         Терапия2_ЗаключениеФОГК_Значение  \\\n",
              "count                                                   1   \n",
              "unique                                                  1   \n",
              "top     Рекомендации: лекарственные препараты принимат...   \n",
              "freq                                                    1   \n",
              "\n",
              "            Терапия2_ЗаключениеФОГК_ЗначениеПредставление  \\\n",
              "count                                                   1   \n",
              "unique                                                  1   \n",
              "top     Рекомендации: лекарственные препараты принимат...   \n",
              "freq                                                    1   \n",
              "\n",
              "       Офтальмология1_ДвигательныйАппаратГлазДополнение_Значение  \\\n",
              "count                                                   1          \n",
              "unique                                                  1          \n",
              "top           девиация левого глаза к носу до 25 градусов          \n",
              "freq                                                    1          \n",
              "\n",
              "       Офтальмология1_ДвигательныйАппаратГлазДополнение_ЗначениеПредставление  \n",
              "count                                                   1                      \n",
              "unique                                                  1                      \n",
              "top           девиация левого глаза к носу до 25 градусов                      \n",
              "freq                                                    1                      \n",
              "\n",
              "[4 rows x 3290 columns]"
            ]
          },
          "execution_count": 8,
          "metadata": {},
          "output_type": "execute_result"
        }
      ],
      "source": [
        "data.describe(include=['O'])                  # Статистика"
      ]
    },
    {
      "cell_type": "code",
      "execution_count": null,
      "metadata": {
        "id": "dhBfGAvGHUyp"
      },
      "outputs": [],
      "source": [
        "data.info([0,-1])                              # Анализ состава информации в столбцах"
      ]
    },
    {
      "cell_type": "code",
      "execution_count": null,
      "metadata": {
        "id": "bRY2xEhM3QDJ"
      },
      "outputs": [],
      "source": [
        "# Выведем уникальные значения для данной колонки\n",
        "#display(data['Профессия'].unique())"
      ]
    },
    {
      "cell_type": "code",
      "execution_count": null,
      "metadata": {
        "id": "JwC-6LzEs1Xa"
      },
      "outputs": [],
      "source": [
        "# Индекс в таблице датафрейма 12\n",
        "#n = 12\n",
        "# Значения каждого столбца\n",
        "#for i in range(len(data.values[n])):\n",
        "#   print('{:>2}  {}'.format(i, data.values[i][n]))"
      ]
    },
    {
      "cell_type": "code",
      "execution_count": null,
      "metadata": {
        "colab": {
          "base_uri": "https://localhost:8080/",
          "height": 86
        },
        "id": "O1Z8yBHrssIV",
        "outputId": "9d0e3303-53e6-4ba6-e7d2-b3397aba56f5"
      },
      "outputs": [
        {
          "data": {
            "text/plain": [
              "array(['Годен', 'ГоденСКоррекциейЗрения', 'ГоденБезРаботНаВысотах',\n",
              "       'НуждаетсяВДообследованииИЛечении', 'ВременноНегоден',\n",
              "       'ОграниченноГоден', nan, 'машинист бульдозера', 'Газоспасатель',\n",
              "       ' Газоспасатель'], dtype=object)"
            ]
          },
          "metadata": {},
          "output_type": "display_data"
        }
      ],
      "source": [
        "# Выведем уникальные значения для данной колонки\n",
        "display(data['ЗаключениеМК'].unique())"
      ]
    },
    {
      "cell_type": "markdown",
      "metadata": {
        "id": "XnzlbvgQ8mLL"
      },
      "source": [
        "# Отбор столбцов с целевыми данными\n",
        "\n",
        "* Отбор столбцов - персона/профессия/статус:\n",
        "\"КлиентДатаРождения\",  \"КлиентПол\",  \"ТипМедосмотраПредставление\", \"ПсихОсвидетельствование\",  \"Цех\", \"Профессия\", \"ЗаключениеМК\", \"ЗаключениеМКПредставление\",  \"ДиспансернаяГруппаПредставление\",\n",
        "\"ВредныеФакторы\".\n",
        "\n",
        "* Отбор столбцов по специализациям врачей\n",
        " с целевой информацией - Специализация/обследование/состояние:\n",
        "\"МКБ101\",  \"МКБ102\", \"МКБ103\",  \"МКБ104\", \" Представление\", \"ДиагнозПредставление\",   \"Диагноз_ЗначениеПредставление\",\n",
        "\"ПрофнепригодностьВременнаяПредставление\",  \"ПрофнепригодностьВременнаяПредставление1\", \"ПрофнепригодностьВременная1\",\"Анамнез_ЗначениеПредставление\",  \"Профессиональное1\", \"ЖалобыДополнение\", \"Рекомендация1\", \"Заключение\".\n"
      ]
    },
    {
      "cell_type": "code",
      "execution_count": null,
      "metadata": {
        "id": "EAulDY_ncK2L"
      },
      "outputs": [],
      "source": [
        "# Создание копии таблицы\n",
        "df = data.copy()"
      ]
    },
    {
      "cell_type": "code",
      "execution_count": null,
      "metadata": {
        "id": "CYhg6FkFKt4E"
      },
      "outputs": [],
      "source": [
        "# Список столбцов с персональными данными\n",
        "person = ['КлиентДатаРождения', 'КлиентПол', 'Профессия','ВредныеФакторы',\n",
        "          'ПсихОсвидетельствование', 'ЗаключениеМК', 'ЗаключениеМКПредставление']\n",
        "def person_columns(df):\n",
        "    person = []\n",
        "    for column in df.columns:\n",
        "                columns_selected.append(df[column])\n",
        "    return df[person]\n",
        "\n",
        "person_dat = df[person]"
      ]
    },
    {
      "cell_type": "code",
      "execution_count": null,
      "metadata": {
        "id": "0UeNJZqgEH3J"
      },
      "outputs": [],
      "source": [
        "words = {\"МКБ101\", \"МКБ102\",\"МКБ103\", \"МКБ104\",  \"Представление\",\n",
        "         \"ПрофнепригодностьВременнаяПредставление\",\"ПрофнепригодностьВременнаяПредставление1\",\n",
        "         \"ПрофнепригодностьВременная1\",\"ЖалобыДополнение\",\"Заключение\"}\n",
        "def find_columns(df, words):\n",
        "    '''\n",
        "    Функция для поиска столбцов в датафрейме df,\n",
        "    которые содержат заданные слова из списка words.\n",
        "    Аргументы:\n",
        "    - df: датафрейм, в котором нужно искать столбцы\n",
        "    - words: список слов, которые нужно найти в названиях столбцов\n",
        "    Возвращает:\n",
        "    - новый датафрейм, состоящий только из целевых столбцов\n",
        "    '''\n",
        "    #разделяем названия столбцов на отдельные слова\n",
        "    column_words = [s.split('_') for s in df.columns]\n",
        "    # ищем вхождения каждого слова из списка words\n",
        "    # в каждом списке слов из column_words\n",
        "    word_indices = {}\n",
        "    for i, cw in enumerate(column_words):\n",
        "        for word in words:\n",
        "            if word in cw:\n",
        "                if i not in word_indices:\n",
        "                    word_indices[i] = 1\n",
        "                else:\n",
        "                    word_indices[i] += 1\n",
        "\n",
        "    #составляем список индексов столбцов, которые содержат\n",
        "    #хотя бы одно искомое слово\n",
        "    index_list = [i for i, count in word_indices.items() if count > 0]\n",
        "\n",
        "    #возвращаем новый датафрейм, состоящий только из найденных столбцов\n",
        "    return df.iloc[:, index_list]\n",
        "\n",
        "diagnosis_dat = find_columns(df, words)\n"
      ]
    },
    {
      "cell_type": "code",
      "execution_count": null,
      "metadata": {
        "colab": {
          "base_uri": "https://localhost:8080/"
        },
        "id": "cbA_pNSCiBOb",
        "outputId": "f52fd7c5-f6e7-430d-ae42-6ecf23489003"
      },
      "outputs": [
        {
          "output_type": "stream",
          "name": "stdout",
          "text": [
            "(1982, 214)\n"
          ]
        }
      ],
      "source": [
        "result = pd.concat([person_dat, diagnosis_dat], axis=1)\n",
        "health_survey = result\n",
        "# Преобразуем дату рождения, нам нужен только год.\n",
        "health_survey['КлиентДатаРождения'] = pd.DatetimeIndex(health_survey['КлиентДатаРождения']).year.astype(str)\n",
        "# Извлечь год из даты и сохранить результаты как числовые значения\n",
        "health_survey['КлиентДатаРождения'] = pd.DatetimeIndex(health_survey['КлиентДатаРождения']).year\n",
        "# Преобразовать числовые значения года в строковый формат\n",
        "health_survey['КлиентДатаРождения'] = health_survey['КлиентДатаРождения'].astype(str)\n",
        "print(health_survey.shape)\n",
        "#health_survey.head(1)"
      ]
    },
    {
      "cell_type": "code",
      "source": [
        "# Удаляем полностью пустые столбцы\n",
        "health_survey.dropna(axis=1, how='all', inplace=True)\n",
        "# Удаляем дубликаты столбцов\n",
        "health_survey = health_survey.loc[:,~health_survey.columns.duplicated()]\n",
        "# Удаляем полностью пустые строки\n",
        "health_survey.dropna(axis=0, how='all', inplace=True)\n",
        "# Доля пропусков от общего количества элементов\n",
        "health_survey.head(2).isna().sum() / health_survey.head(2).shape[0]\n",
        "# Вычислим общее количество пропусков во всей таблице\n",
        "health_survey.head(2).isna().sum().sum()\n",
        "proc = health_survey.head(2).isna().sum().sum() / health_survey.head(2).size\n",
        "# Вычислим общее количество пропусков в процентах во всей таблице\n",
        "print('{:.1%}'.format(proc))"
      ],
      "metadata": {
        "colab": {
          "base_uri": "https://localhost:8080/"
        },
        "id": "HnI_9DrYN3MP",
        "outputId": "1d40686d-c4c7-4430-943c-82cf857696c0"
      },
      "execution_count": null,
      "outputs": [
        {
          "output_type": "stream",
          "name": "stdout",
          "text": [
            "89.3%\n"
          ]
        }
      ]
    },
    {
      "cell_type": "code",
      "execution_count": null,
      "metadata": {
        "colab": {
          "base_uri": "https://localhost:8080/",
          "height": 278
        },
        "id": "TifgTi-Kw7RR",
        "outputId": "7c3c842e-9e8e-4599-c57f-958a9899df74"
      },
      "outputs": [
        {
          "output_type": "stream",
          "name": "stdout",
          "text": [
            "(1982, 214)\n",
            "424148\n"
          ]
        },
        {
          "output_type": "execute_result",
          "data": {
            "text/plain": [
              "  КлиентДатаРождения КлиентПол                                  Профессия  \\\n",
              "0               1976   Женский  Ведущий специалист по организации обуения   \n",
              "\n",
              "  ВредныеФакторы  ПсихОсвидетельствование ЗаключениеМК  \\\n",
              "0           11.4                    False        Годен   \n",
              "\n",
              "             ЗаключениеМКПредставление                           Заключение  \\\n",
              "0  Годен к работе в указанных условиях  Годен к работе в указанных условиях   \n",
              "\n",
              "  Рентгенология1_Заключение_Значение  \\\n",
              "0                      без патологий   \n",
              "\n",
              "  Рентгенология1_Заключение_ЗначениеПредставление  ... Психиатрия3_МКБ102  \\\n",
              "0                                   без патологий  ...         Нет данных   \n",
              "\n",
              "  Психиатрия4_МКБ101 Психиатрия4_ПрофнепригодностьВременная1  \\\n",
              "0         Нет данных                              Нет данных   \n",
              "\n",
              "  Психиатрия4_ПрофнепригодностьВременнаяПредставление1 Психиатрия4_МКБ102  \\\n",
              "0                                         Нет данных           Нет данных   \n",
              "\n",
              "  Оториноларингология3_МКБ101  \\\n",
              "0                  Нет данных   \n",
              "\n",
              "  Оториноларингология3_ПрофнепригодностьВременная1  \\\n",
              "0                                       Нет данных   \n",
              "\n",
              "  Оториноларингология3_ПрофнепригодностьВременнаяПредставление1  \\\n",
              "0                                         Нет данных              \n",
              "\n",
              "  Оториноларингология1_ЖалобыДополнение_Значение  \\\n",
              "0                                     Нет данных   \n",
              "\n",
              "  Оториноларингология1_ЖалобыДополнение_ЗначениеПредставление  \n",
              "0                                         Нет данных           \n",
              "\n",
              "[1 rows x 214 columns]"
            ],
            "text/html": [
              "\n",
              "  <div id=\"df-48837872-5b33-47fa-97ef-2d987ec3583d\">\n",
              "    <div class=\"colab-df-container\">\n",
              "      <div>\n",
              "<style scoped>\n",
              "    .dataframe tbody tr th:only-of-type {\n",
              "        vertical-align: middle;\n",
              "    }\n",
              "\n",
              "    .dataframe tbody tr th {\n",
              "        vertical-align: top;\n",
              "    }\n",
              "\n",
              "    .dataframe thead th {\n",
              "        text-align: right;\n",
              "    }\n",
              "</style>\n",
              "<table border=\"1\" class=\"dataframe\">\n",
              "  <thead>\n",
              "    <tr style=\"text-align: right;\">\n",
              "      <th></th>\n",
              "      <th>КлиентДатаРождения</th>\n",
              "      <th>КлиентПол</th>\n",
              "      <th>Профессия</th>\n",
              "      <th>ВредныеФакторы</th>\n",
              "      <th>ПсихОсвидетельствование</th>\n",
              "      <th>ЗаключениеМК</th>\n",
              "      <th>ЗаключениеМКПредставление</th>\n",
              "      <th>Заключение</th>\n",
              "      <th>Рентгенология1_Заключение_Значение</th>\n",
              "      <th>Рентгенология1_Заключение_ЗначениеПредставление</th>\n",
              "      <th>...</th>\n",
              "      <th>Психиатрия3_МКБ102</th>\n",
              "      <th>Психиатрия4_МКБ101</th>\n",
              "      <th>Психиатрия4_ПрофнепригодностьВременная1</th>\n",
              "      <th>Психиатрия4_ПрофнепригодностьВременнаяПредставление1</th>\n",
              "      <th>Психиатрия4_МКБ102</th>\n",
              "      <th>Оториноларингология3_МКБ101</th>\n",
              "      <th>Оториноларингология3_ПрофнепригодностьВременная1</th>\n",
              "      <th>Оториноларингология3_ПрофнепригодностьВременнаяПредставление1</th>\n",
              "      <th>Оториноларингология1_ЖалобыДополнение_Значение</th>\n",
              "      <th>Оториноларингология1_ЖалобыДополнение_ЗначениеПредставление</th>\n",
              "    </tr>\n",
              "  </thead>\n",
              "  <tbody>\n",
              "    <tr>\n",
              "      <th>0</th>\n",
              "      <td>1976</td>\n",
              "      <td>Женский</td>\n",
              "      <td>Ведущий специалист по организации обуения</td>\n",
              "      <td>11.4</td>\n",
              "      <td>False</td>\n",
              "      <td>Годен</td>\n",
              "      <td>Годен к работе в указанных условиях</td>\n",
              "      <td>Годен к работе в указанных условиях</td>\n",
              "      <td>без патологий</td>\n",
              "      <td>без патологий</td>\n",
              "      <td>...</td>\n",
              "      <td>Нет данных</td>\n",
              "      <td>Нет данных</td>\n",
              "      <td>Нет данных</td>\n",
              "      <td>Нет данных</td>\n",
              "      <td>Нет данных</td>\n",
              "      <td>Нет данных</td>\n",
              "      <td>Нет данных</td>\n",
              "      <td>Нет данных</td>\n",
              "      <td>Нет данных</td>\n",
              "      <td>Нет данных</td>\n",
              "    </tr>\n",
              "  </tbody>\n",
              "</table>\n",
              "<p>1 rows × 214 columns</p>\n",
              "</div>\n",
              "      <button class=\"colab-df-convert\" onclick=\"convertToInteractive('df-48837872-5b33-47fa-97ef-2d987ec3583d')\"\n",
              "              title=\"Convert this dataframe to an interactive table.\"\n",
              "              style=\"display:none;\">\n",
              "        \n",
              "  <svg xmlns=\"http://www.w3.org/2000/svg\" height=\"24px\"viewBox=\"0 0 24 24\"\n",
              "       width=\"24px\">\n",
              "    <path d=\"M0 0h24v24H0V0z\" fill=\"none\"/>\n",
              "    <path d=\"M18.56 5.44l.94 2.06.94-2.06 2.06-.94-2.06-.94-.94-2.06-.94 2.06-2.06.94zm-11 1L8.5 8.5l.94-2.06 2.06-.94-2.06-.94L8.5 2.5l-.94 2.06-2.06.94zm10 10l.94 2.06.94-2.06 2.06-.94-2.06-.94-.94-2.06-.94 2.06-2.06.94z\"/><path d=\"M17.41 7.96l-1.37-1.37c-.4-.4-.92-.59-1.43-.59-.52 0-1.04.2-1.43.59L10.3 9.45l-7.72 7.72c-.78.78-.78 2.05 0 2.83L4 21.41c.39.39.9.59 1.41.59.51 0 1.02-.2 1.41-.59l7.78-7.78 2.81-2.81c.8-.78.8-2.07 0-2.86zM5.41 20L4 18.59l7.72-7.72 1.47 1.35L5.41 20z\"/>\n",
              "  </svg>\n",
              "      </button>\n",
              "      \n",
              "  <style>\n",
              "    .colab-df-container {\n",
              "      display:flex;\n",
              "      flex-wrap:wrap;\n",
              "      gap: 12px;\n",
              "    }\n",
              "\n",
              "    .colab-df-convert {\n",
              "      background-color: #E8F0FE;\n",
              "      border: none;\n",
              "      border-radius: 50%;\n",
              "      cursor: pointer;\n",
              "      display: none;\n",
              "      fill: #1967D2;\n",
              "      height: 32px;\n",
              "      padding: 0 0 0 0;\n",
              "      width: 32px;\n",
              "    }\n",
              "\n",
              "    .colab-df-convert:hover {\n",
              "      background-color: #E2EBFA;\n",
              "      box-shadow: 0px 1px 2px rgba(60, 64, 67, 0.3), 0px 1px 3px 1px rgba(60, 64, 67, 0.15);\n",
              "      fill: #174EA6;\n",
              "    }\n",
              "\n",
              "    [theme=dark] .colab-df-convert {\n",
              "      background-color: #3B4455;\n",
              "      fill: #D2E3FC;\n",
              "    }\n",
              "\n",
              "    [theme=dark] .colab-df-convert:hover {\n",
              "      background-color: #434B5C;\n",
              "      box-shadow: 0px 1px 3px 1px rgba(0, 0, 0, 0.15);\n",
              "      filter: drop-shadow(0px 1px 2px rgba(0, 0, 0, 0.3));\n",
              "      fill: #FFFFFF;\n",
              "    }\n",
              "  </style>\n",
              "\n",
              "      <script>\n",
              "        const buttonEl =\n",
              "          document.querySelector('#df-48837872-5b33-47fa-97ef-2d987ec3583d button.colab-df-convert');\n",
              "        buttonEl.style.display =\n",
              "          google.colab.kernel.accessAllowed ? 'block' : 'none';\n",
              "\n",
              "        async function convertToInteractive(key) {\n",
              "          const element = document.querySelector('#df-48837872-5b33-47fa-97ef-2d987ec3583d');\n",
              "          const dataTable =\n",
              "            await google.colab.kernel.invokeFunction('convertToInteractive',\n",
              "                                                     [key], {});\n",
              "          if (!dataTable) return;\n",
              "\n",
              "          const docLinkHtml = 'Like what you see? Visit the ' +\n",
              "            '<a target=\"_blank\" href=https://colab.research.google.com/notebooks/data_table.ipynb>data table notebook</a>'\n",
              "            + ' to learn more about interactive tables.';\n",
              "          element.innerHTML = '';\n",
              "          dataTable['output_type'] = 'display_data';\n",
              "          await google.colab.output.renderOutput(dataTable, element);\n",
              "          const docLink = document.createElement('div');\n",
              "          docLink.innerHTML = docLinkHtml;\n",
              "          element.appendChild(docLink);\n",
              "        }\n",
              "      </script>\n",
              "    </div>\n",
              "  </div>\n",
              "  "
            ]
          },
          "metadata": {},
          "execution_count": 57
        }
      ],
      "source": [
        "# Замена всех пропусков на слово \"Нет данных\"\n",
        "health_survey.fillna(\"Нет данных\", inplace=True)\n",
        "# Форма и размер\n",
        "print(health_survey.shape)\n",
        "# Колличество элементов\n",
        "print(health_survey.size)\n",
        "health_survey.head(1)"
      ]
    },
    {
      "cell_type": "code",
      "source": [
        "health_survey.to_csv('/content/drive/MyDrive/БазыCSV/InClinic/health_survey.csv', index = False)"
      ],
      "metadata": {
        "id": "O9dQ1xbOpPj2"
      },
      "execution_count": null,
      "outputs": []
    },
    {
      "cell_type": "markdown",
      "source": [],
      "metadata": {
        "id": "8DFJfExdKNJ2"
      }
    },
    {
      "cell_type": "markdown",
      "source": [
        "# Классификация условий труда"
      ],
      "metadata": {
        "id": "IRXnHTWiLIZ8"
      }
    },
    {
      "cell_type": "markdown",
      "source": [
        "\n",
        "\n",
        "Согласно действующему законодательству, вся трудовая деятельность условно\n",
        "подразделяется на 4 категории, каждая из которых основывается на степени факторов риска для здоровья и жизни:\n",
        "\n",
        "---\n",
        "\n",
        "* Оптимальный — на территории и во внутренних помещениях сохраняется и\n",
        "поддерживается здоровый микроклимат, положительно влияющий на производительность труда;\n",
        "\n",
        "* Допустимый — сохраняются нормальные условия, уровень вредных факторов не превышает допустимых норм;\n",
        "\n",
        "* Вредный — превышаются допустимые нормы, что причиняет вред здоровью человека;\n",
        "\n",
        "* Опасный — условия труда способны повлечь причинение тяжкого вреда здоровью, иногда несут угрозу жизни.\n",
        "\n",
        "---\n",
        "\n",
        "В свою очередь, вредные и опасные производства подразделяются между собой на 4 степени тяжести:\n",
        "\n",
        "1 Изменения, начавшиеся в организме человека, носят обратимый характер и обычно проявляются после завершения трудовой деятельности. Такие недуги на медицинском сленге называются «профессиональными заболеваниями»;\n",
        "\n",
        "2 Патологические изменения проявляются более выражено и часто приводят к временной потере трудоспособности (человек регулярно уходит на больничный). Здесь наиболее часто развиваются хронические недуги, вызванные профессиональной деятельностью;\n",
        "\n",
        "3 В организме протекают необратимые процессы, способные повлечь частичную потерю трудоспособности;\n",
        "\n",
        "4 Происходят тяжелые функциональные расстройства внутренних органов и систем, что в запущенных случаях приводит к присвоению нерабочей группы инвалидности.\n",
        "\n",
        "\n",
        "---\n",
        "\n",
        "\n",
        "К сожалению \"СОУТ\"(специальная оценка условий труда) пока не располагает системой привязки категории рисков к группам профессии, к примеру ISCO-08, или иные подобные классификаторы.\n",
        " Единых методических указаний по управлению профессиональными\n",
        "рисками пока не существует. Одна из причин - огромное разнообразие профессий и рисков. В одну только Систему стандартов безопасности труда (ССБТ) по состоянию на 2020 год\n",
        "входит около 400 документов.\n",
        "\n",
        "---\n",
        "\n",
        "ISCO-08 делит рабочие места на 10 основных групп:\n",
        "\n",
        "* Менеджеры\n",
        "* Профессиональный\n",
        "* Техники и младшие специалисты\n",
        "* Работники канцелярской поддержки\n",
        "* Работники сферы обслуживания и продаж\n",
        "* Квалифицированные работники сельского, лесного и рыбного хозяйства\n",
        "* Работники, связанные с ремеслами\n",
        "* Операторы заводов и станков, а также монтажники\n",
        "* Элементарные профессии\n",
        "* Профессии в вооруженных силах\n"
      ],
      "metadata": {
        "id": "Eb_ABLrzfIi9"
      }
    },
    {
      "cell_type": "markdown",
      "source": [
        "# Анализ данных в отобранных столбцах, отбраковка.\n",
        "\n",
        "По результату анализа данных в отобранных столбцах остаются только столбцы содержащие условно-полноценную информацию небходимую для обучения \"НС\"\n",
        "\n",
        "person - КлиентДатаРождения, КлиентПол, Профессия, ВредныеФакторы,\n",
        "ПсихОсвидетельствование, ЗаключениеМК,  ЗаключениеМКПредставление.\n",
        "\n",
        "words - МКБ101, МКБ102, МКБ103, МКБ104,  Представление, ПрофнепригодностьВременнаяПредставление,\n",
        "ПрофнепригодностьВременнаяПредставление1, ПрофнепригодностьВременная1, ЖалобыДополнение, Заключение.\n",
        "\n",
        "\n",
        "---\n",
        "\n",
        "Запускать только при необходимости анализа"
      ],
      "metadata": {
        "id": "KEhcbKIDBa6s"
      }
    },
    {
      "cell_type": "markdown",
      "source": [
        "Персона"
      ],
      "metadata": {
        "id": "9447hhTOEe8E"
      }
    },
    {
      "cell_type": "code",
      "source": [
        "# Уникальные значения колонки\n",
        "unique_values = []\n",
        "for column in health_survey.columns:\n",
        "    if 'КлиентПол' in column:\n",
        "        unique_values.extend(health_survey[column].unique())\n",
        "unique_values = list(set(unique_values))\n",
        "print(unique_values)"
      ],
      "metadata": {
        "colab": {
          "base_uri": "https://localhost:8080/"
        },
        "id": "peRRhar9BpHh",
        "outputId": "67563fec-3efd-4d25-d3bc-1ccc983ab034"
      },
      "execution_count": null,
      "outputs": [
        {
          "output_type": "stream",
          "name": "stdout",
          "text": [
            "['Мужской', 'Женский']\n"
          ]
        }
      ]
    },
    {
      "cell_type": "code",
      "source": [
        "# Уникальные значения колонки\n",
        "unique_values = []\n",
        "for column in health_survey.columns:\n",
        "    if 'Профессия' in column:\n",
        "        unique_values.extend(health_survey[column].unique())\n",
        "unique_values = list(set(unique_values))\n",
        "unique_values"
      ],
      "metadata": {
        "id": "wlYYO4c1Bo0R"
      },
      "execution_count": null,
      "outputs": []
    },
    {
      "cell_type": "code",
      "source": [
        "# Уникальные значения колонки\n",
        "unique_values = []\n",
        "for column in health_survey.columns:\n",
        "    if 'ВредныеФакторы' in column:\n",
        "        unique_values.extend(health_survey[column].unique())\n",
        "unique_values = list(set(unique_values))\n",
        "print(unique_values)"
      ],
      "metadata": {
        "id": "kF7JFZCuFvuy",
        "colab": {
          "base_uri": "https://localhost:8080/"
        },
        "outputId": "0973dc99-4ae4-450c-f495-3b94f2182eeb"
      },
      "execution_count": null,
      "outputs": [
        {
          "output_type": "stream",
          "name": "stdout",
          "text": [
            "['5.1,6.2,11.1,11.4', '1.50,3.4,4.4', '4.3.2,11.1,11.3,11.4,12,18.1,18.2', '26', 'Годен к работе в указанных условиях', '1.34.1,1.8.1.1,1.29.1', '8,11.1,18.2', '3.1,4.3.1,4.4,5.1', '5.1,6.2,10,11.1,11.4', '10,11.4,11.1', '1.1,1.8.1.1', '4.3.2,6.1,11.1', '1.14.2,1.37.1,1.45.1,1.49.14,13', '18.1', '1.29.2,4.3.2,11.1,11.4,13', '4.4,11.1,11.4,15,18.1,18.2', '4.3.2,11.1,11.3,11.4,18.1,18.2,8', '4.2.5,4.7,5.1,6.2,11.1', '6.2,11.3,3.1.7,4.2.1,4.4,5.1', '1.1,1.8.1.1,1.8.1.2,1.8.2.1,1.8.2.2,1.8.3.1,1.8.3.2,4.2.5', '4.4,18.1,3.1,11,5.1', '4.2.5,4.4', '1.8.1.1,1.8.2.1,1.14.2,1.19.1,1.34.1,1.37.1,1.50', '3.1.7,4.2.1,4.7,5.1,6.1,11.1,12,13', '18,18.1,18.2', '1.30.1,1.45.1,5.1', '4.3.1,10,11.1', '11.3', '3.1.2,4.4,15', '1.3,1.14.2,5.1', '4.2.5,1.29.2,4.7,4.4,4.1,6.2,11.1', '13,11.1,11.4', '11.1,18.2,4.3.2,4.4', '4.3.2,4.4', '4.1,4.2.5,4.7,5.1,11.1', '4.7,11.1,11.4', '3.1.2,1.19.1,4.3.1,15,1.50,6.1', '4.2.5,4.3.1,4.4,4.7,4.8,4.9,5.1,6,9', '1.1,5.1,6.1', '1.14.2,1.30.1,4.3.1,4.4,5.1,6.1,6.2,15', '1.8.1.1,1.14.2,1.29.2,1.37.1,1.50,6.1,17', '1.1,4.3.1,4.3.2,4.6,18.1,18.2', '4.2.3,4.5', '1.30.1,1.29.2,1.34.1,1.14.2,1.29.4,1.36.1,1.37.1,1.50', '1.1,1.39,4.4,5.1,6.1,11.4', '18.1,23', '11.1,11.4,15,4.4', '1.1,1.23,1.39,4.4,5.1,6.1,11.1,1.17', '5.1,23', '4.2.5,6.1,11.1', '4.4,5.1,11.4', '1.1,1.3,1.50,4.3.1,4.3.2,4.6,6.1,18.1,18.2', '1.29.2,4.1,4.3.2,11.1,11.4,18.2', '6.1,1.50,3.1.2,4.3.1,15', '4.4,13,11.1,11.4', '15,9,6.1,11.4', '4.2.5,11.1,6.2', '18.2', '5.1,11.1,23,11.4', '1.29.2,4.1,4.3.2,5.1,11.1,11.3,17,18.2', '4.2.5,6.2,9,27', '1.36.1,3.1.7,4.4,4.7,5.1', '11.1,6', '1.1,4.3.1,4.3.2,4.6,18.1', '1.50,4.3.2,4.4,18.1', '5.1,11.1,15', '1.1,4.2.5', '6.2,4.1', '11.1,3.1.7,6,5.1,4.4,4.2.1', '4.2.5,18.1,23', '1.36.1,1.1,1.8.1.1', '18.2,18.1,18,4.3.2,11.1,11.3,11.4', '1.29.2,4.4,4.2.5,4.1,4.7,6.2,11.1', '1.29.2,4.1,4.2.5,5.1,11.1,11.3', '4.3.2,11.1,11.3,11.4,18.1,18.2', '4.1,4.1', '4.7,4.8,6.1,5.1,9,11.1', '3.1.7,1.39,4.2.3,4.2.1,1.1,5.1,6.1', '4.2.5,5.1,11.1', '4.3.1,4.4,6.1,11.1,18.1', '4.1,5.1,6.1,11.1', '11.1,18.2,11.4,18.1', '1.50,1.34.1,1.37.1', '4.4', '1.30.1,4.4,6.1,6.2', '6.1,9,15', '4.1,5.1,18.1', '1.29.2,4.1,4.3.2,17,18.2', '4.3.1,4.3.2,8', '1.37.1,1.29.2,1.50,1.14.2,1.8.1.1,17,6.1', '4.3.1,4.4,5.1,15', '6,9', '1.8.1.1,1.8.2.1,1.14.2,1.19.1,1.37.1,1.50,1.34.1', '1.8.1.1,1.14.2,1.37.1,1.50,17', '18,18.1', '1.39,3.1.7,4.2,4.4,4.7,4.8,5.1,6,17', '4.7,5.1,11.1', '1.30.1,4.4,5.1,6.1,6.2', '4.7,5.1,23', '1.50,3.1.2,4.3.1,15', '4.4,6,11.1', '11.1,18.1,18.2,6.2,8', '1.50,4.3.1,4.3.2,11.1,18', '4.3.2,4.2.5,4.1,17', '18.1,4.4,11.1,11.4,18.2', '4.2.5,6,11', '6.1,11.1', '18.2,18.1', '4.3.2,11.1,11.3,11.4,18,18.1,18.2', '1.14.2,1.24,1.37.1,1.37.1.2,1.49.14,1.14.2,1.24,1.37.1,1.37.1.2,1.49.14', '1.2,1.37,1.48', '4.2.5,4.1,4.3.2,13,17', '4.4,5.1,6.1', '5.1,6.2,6.1', '4.7,6.1,11.1,12,13,15', '11,18.2', '4.4,5.1', '3.1.7,5.1,11.1,11.4', '4.2.5,15', '1.8.1.1,1.50', '4.4,5.1,6.1,11.1,15', '4.1,4.2.5,11.1,13,17,4.3.2,11.4', '6.1,11.1,11.4,18.2', '1.1,1.29.1,1.29.2,1.30.1,3.1.8.2,5.1,1.15', '18.1,11.1,11.4', '11.3,23,26', '11.1,11.4,6.1', '5.1,23,15', '5.1,11.1,11.4', '6.2,11.1,13', '4.2.5,11.1,11.4,18.1', '1.1,1.23,1.39,3.1.7,4.2.1,5.1,9,15', '4.3.1,6.1,9', '1.50,4.3.1,4.3.2,4.4,11.1,18', '4.2.5,4.7,5.1,11.1', '11.1,4.4,11.4,15', '12,17,1.15,4.4,4.7,18.2,4.3.2,6.2', '4.3.2,4.4,4.7,18.2', '1.8.1,1.8.2,1.8.3,1.24,1.48', '1.36.1,4.3.2,4.4,4.7,5.1,6.1,11.1', '4.4,11.1,13,11.4', '18.2,18.1,18,4.3.2,11.1,11.3,11.4,18,18.1,18.2', '4.2,4.8,5.2,27', '1.1,1.8.1.1,1.8.1.2,1.14.2,1.18.3,1.29.1,1.29.2,1.30.1,1.34.1,1.36.1,1.37.1,1.50,6.1', '1.30.1,1.29.2,1.34.1,1.36.1,1.14.2,1.50,1.37.1,1.29.4', '4.4,4.7,4.8,5.1,6,15,17', '1.29.2,4.2.5,4.4,4.7,4.1,11.1,6.2', '1.29.2,4.3.2,18.2,17', '18.2,18.1,4.4,11.1,11.4', '6,11.1', '4.2.5,11.1,11.4', '6.2,1.14.2,1.37.1.1,1.3,26', '4.2.5,4.7,6.1,18.1', '1.29.2,4.1,4.3.2,11.4,11.2,17,18.2', '1.50,5.1', '1.29.2,17,18.2,4.1,4.3.2', '11.1,4.2.5', '3.1.2,4.8,15', '1.14.2,1.23,3.1.7', '4.1,12', '4.1,4.2.5,4.3.2,11.1,11.4,13,17', '6,6.1,9,6,6.1,9', '4.1,5.1,6.1', '4.3.1,4.3.2,11.4,18.2', '18,1.1,1.50,4.3.1,4.3.2,4.6,18', '27', '4.4,6.1,11', '12,17,1.15,4.4,4.7,18.2,6.2', '11.3,11.4,23,26', '1.8.1.1,1.8.1.2,1.8.2.1,1.8.2.2,1.8.3.1,1.8.3.2,1.48,5.1', '4.4,5.1,15', '4.2.5,6.2,9', '1.50,1.8.1.1', '5.1,6.1,11.1', '6.2', '1.1,1.15,1.29.1,1.29.2,1.30.1,3.1.8.2,5.1', '6.1,6.2', '4.2.5,4.4,12,13,6.1', '1.1,1.39,4.4,15', '18.2,1.1,1.3,1.39,4.3.1,4.3.2,4.4,5.1,11.1,12', '6.2,11.1,4.4,5.1', '11.1,18.2', '4.2.5,1.29.2,4.1,4.7,4.4,6.2,11.1', '8,11.1,11.4,18,18.2', '10,11.1,11.4', '4.2.5,1.29.2,4.1,4.4,4.7,11.1,6.2', '4.7,4.8,5.1,6,17', '6.1,9', '18.2,1.1,1.29.2,1.36.1,1.39,1.50,11.1,12', '5.1,5.1', '6.1,9,18.1', '5.1,6.1,6.2', '1.1,4.2.5,4.4', '18.2,1.1,1.3,1.36.1,1.39,4.3.1,4.3.2,4.4,5.1,11.1,18.2', '18.2,18.1,1.1,1.39,1.50,4.3.2,5.1,11.1,11.3,11.4', '15', '4.4,4.3.2,4.3.1,5.1,1.39,1.1,1.3,18.2,11.1', '4.4,5.1,10,11.1,11.4', '11.1,4.4,6,5.1', '4.4,11.1,11.4,18', '4.7,4.8,5.1,6.2', '11.1,11.4,10', '22', '4.4,5.1,15,23', '1.50,4.3.2,4.4,18.1,18.2', '1.50,4.2.5,4.1,1.8.1.1', '4.4,11.1', '6.2,11.1', '1.29.2,4.1,4.3.2,11.1,5.1,11.3,18.2', '1.8.1.1,1.8.2.1,1.14.2,1.34.1,1.37.1,1.50,1.19.1', '4.3.2,11.1,11.3,11.4,4.3.2,11.1,11.3,11.4', '5.1,11,13', '5.2.1', '1.36,4.7,5.1,11.1', '4.3.2,4.4,5.1,6.2,11.1,11.4,18.1', '3.1.7,1.39,4.2.1,4.2.3,1.1,5.1,6.1', '4.2.5,11.1,4.9', '4.3.2,4.4,11.1,18.1', '5.1,6.1,9,11.1', '9,6.2', '1.14.1,1.50', '1.1,1.8.1.1,1.8.1.2,1.8.2.2,1.8.3.1,1.8.3.2,4.2.5', '11.1,11.4,4.2.5', '4.1,11.1,11.4,4.2.5', '1.30.1,3.1.8.1', '4.2.5,11.1,11.4,13', '1.1,1.50,4.3.1,4.3.2,4.4,4.6,5.1,6.1', '2.4.3', '18.2,11.1', '4.1,6.2,4.1,6.2', '1.50,3.1.8.2', '4.4,11.4,11.1,15', '11.1,11.4,13,4.4', '1.29.2,4.1,4.3.2,11.1,18.2,11.4', '5.1,11.1,6.1', '6.2,9,11.1,11.4', '18.1,11.1,6.2', '4.7,11.4', '3.1.8.2,11.1', '12,15,6.1', '1.19.1,1.50,3.1.2,4.3.1,6.1,15', '11.1,18.1,11.4', '4.3.2,11.1,11.3,11.4,18,18.2,4.3.2,11.1,11.3,11.4,18,18.2', '4.2.5,4.3.1,4.4,5.1,15', '1.36.1,6.2', '1.14.2,1.29.1,1.37.1,1.50', '11,18', '4.2.3,6.1,11.1', '4.7,4.8,5.1', '11.1,15,11.4', '1.14.2,1.29.2,1.29.4,1.30.1,1.34.1,1.36.1,1.37.1,1.50', '1.30.1,1.50,4.4,6.1,6.2,18.1', '1.1,1.8.1.1,1.8.1.2,1.14.2,1.18.3,1.19.1,1.29.2,1.30.1,1.29.1,1.37.1,1.34.1,1.50', '11.1', '4.2.5', '11.4', '4.7,4.8,5.1,6,17,26', '6.1,11.1,18.2,11.4', '1.48,1.48', '11.1,18.2,4.2.5,11.4', '23,5.2', '3.1.7,4.7,5.1,6.1,11.1,12,13,15', '5.1,6.2,11.1,11.3,11.4', '6,6.1,9,18.1,18.2,6,6.1,9,18.1,18.2', '6.2,1.14.2,1.37.1.1,1.3', '4.2.5,5.1', '18,9,11.1,11.4', '6.2,11.1,11.4,9', '4.4,11.1,18.1', '11', '1.29.2,4.1,4.2.5,4.4,4.7,6.2,11.1', '1.29.2,4.4,4.7,4.2.5,6.2,11.1', '11.1,13,11.4,4.4', '1.50,4.4,15', '11.1,11.4', '1.1,1.30.1,1.36.1', '4.4,11.1,11.4,13', '4.1,4.2.5,4.3.2,13,17', '11.1,11.4,1.48', '4.3.2,4.7,4.4,18.2', '23,25', '6.1,15', '5.1,9,11.1,6.1', '11.1,11.4,13', '1.1,1.8.1.1,1.8.1.2,1.14.2,1.18.3,1.19.1,1.29.1,1.29.2,1.30.1,1.36.1,1.37.1,1.34.1,1.50', '1.1,1.8.1.1,1.36.1', '6,17', '10,11.1,11.4,4.2.5', '1.29.2,4.1,4.3.2,17,18.2,11.1,11.4,13', '4.2.5,4.9,11', '4.3.2,11.1,11.3,11.4', '4.3.1,4.3.2,4.4,6.1,8', '1.29.2,4.3.2,11.1,13,11.4', '6.1,12,15', '4.2.5,4.1,11.1', '1.50,4.3.1,3.1.2,15', '1.50,4.3.1,4.3.2,5.1,11.1,18.2', '1.1,3.1.7,4.2.1,4.2.3,5.1,6.1', '11.1,18.2,11.4', '1.1,1.3,1.39,1.50,4.3.1,4.3.2,4.6,4.7,4.8,5.1,6.1,18.1,18.2', '9,11.1', '15,4.4,5.1', '1.50,6.2,11.1,18.2', '4.3.2,11.1,11.3,11.4,12,18,18.1', '5.2', '4.4,5.1,6.1,15', 'II', '6.2,11.3', '18.1,18.2,23', '3.1.7,4.2.1,6.2,9,12,13,15,17,24', '18.1,22', '4.2.5,11.1,27', '11.1,11.4,18.1', '3.1.7,5.1', '4.4,11.1,18.1,11.4,18.2', '4.4,4.7', '1.36.1,3.1.7,4.4,4.7,5.1,12', '18.1,1.30.1,1.50,4.4,6.1,6.2', '1.29.2,4.2.5,4.4,4.7,6.2,11.1', '3.1.8.3,4.4,15,3.1.8.3,4.4,15', '24', '1.3,1.37.1,1.37.1.1,1.49.2,15', '1.39,3.1.7,4.2,4.4,4.7,5.1,6,17', '4.4,11.1,18.1,18.2,11.4', '1.1,1.23,1.39,3.1.2,3.1.7,4.2.1,4.3.1,5.1,9,13', '17,27', '1.29.2,4.4,4.2.5,4.7,4.1,11.1,6.2', '27,4.2.5,4.4', '4.2.5,6.2,4.2.5,6.2', '1.1,1.3,1.50,4.3.1,4.3.2,4.6,5.1,6,6.1,8,18.2', '11,18,18.1,18.2', '1.29.2,4.1,4.3.2,11.1,17,18.2,11.4', '5.1', '5.1,6.2,3.1.7,4.8,4.2,4.4,11.1', '23,15,4.4,5.1', '1.30.1,1.34.1,1.37.1', '5.1,6.1', '1.1,1.23,1.29.2,1.39,3.1.7,4.4,4.8,5.1,6,9,13,17', '4.4,4.7,18.2,4.3.2', '1.8.1.1,1.8.1.2,1.8.2.1,1.8.2.2,1.8.3.1,1.8.3.2,1.48,1.49,4.2.4,4.2.5,4.7,5.1', '4.2.5,4.7,5.1,6.1,9,18.1', '4.1,6.1,11.1', '11.1,6.2,11.4', '4.4,11.1,11.4,18.1,18.2', '9,23', '3.1.8.2', '1.50,4.3.1', '5.1,9,11.1,6,4.4', '5.1,15', '18.2,23', '1.3,1.50,6,6.1,9', '11.1,11.4,9', '4.2.5,6,14,11.3,11.4', '18.2,18.1,11.1', '1.29.1,5.1,6.1,9,11.1,15', '5.1,11.1,23,11.4,6.2', '18.2,18,4.3.2,11.1,11.3,11.4,18.2,18,4.3.2,11.1,11.3,11.4', '6', '6.2,4.1,6.2,4.1', '1.50,4.3.2,4.4,8,18.1,18.2', '6.1,6.2,15', '11.1,10,11.4', '11.1,23', '11.1,18.1,18.2', '4.7,5.1,6,9', '1.29.2,4.7,4.2.5,4.4,4.1,11.1,6.2', '11.1,11.4,18.1,4.4,18.2', '11.1,11.4,18.1,18.2', '4.3.2,4.6', '18.2,4.4,4.7,4.3.2', '18.1,18.2', '4.3.1,4.4,15', '1.29.2,4.3.2,11.1,11.4,4.1,17,18.2', '3.1.7,5.1,3.1.7,5.1', '4.1,4.2.5,4.1,4.2.5', '4.2.5,11.1', '9,6.1,6.2', '6.1,11.1,4.2.1,12,4.7,5.1,13,3.1.7', '4.2.5,6.1,9,15,18.1', '4.2.5,4.1,4.3.2,11.1,11.4,13,17', '11.4,13', '5.1,18.1', '4.3.2,17,1.29.2,18.2', '23', '1.1,1.30.1,3.1.8.2,1.29.2,1.15,1.29.1', '1.1,1.8.1.1,1.29,4.2.5,5.1', '1.34.1,1.19.1,1.14.2,1.50,1.37.1,1.8.1.1,1.8.2.1', '1.50,4.2.5,4.4,18.1', '1.50,5.1,18.1', '1.1,1.8.1.1,1.8.1.2,1.14.2,1.18.3,1.19.1,1.29.1,1.29.2,1.30.1,1.36.1,1.37.1.1,1.34.1,1.50', '1.1,1.3,1.36.1,1.39,4.3.1,4.3.2,4.4,5.1,11.1,18.2', '4.2.1,4.4,4.7,11.1,4.8,4.9,6.1,5.1,3.1.7', '1.29.2,4.3.2,11.1,18.2,11.4', '4.4,18.1', '4.1', '1.37.1,5.1,6,17', '1.29.2,4.1,4.3.2,11.1,11.4,17,18.2', '1.48,1.2,1.37', '3.4,4.2.5', '4.2.1,4.4,4.7,4.8,4.9,6.1,3.1.7,5.1,11.1', '1.29.2,4.3.2,11.4,17,18.2', '6.1,1.17,1.36.1,4.3.1,5.1,3.1.7,26', '25', '4.4,5.1,6.2,11.1,11.4', '5.1,11.4,11.1', '5.1,6,11.1,4.4', '3.1.7,11.1,5.1,6.1', '4.2.5,4.2.5', '1.30.1,1.29.2,1.34.1,1.36.1,1.14.2,1.37.1.1,1.29.4', '4.8,5.1,11.1,23', '4.1,5.1', '1.29.2,4.4,4.2.5,4.7,11.1,6.2', '4.2.3,4.2.4,9,26,4.7,2.4', '6.2,11.1,18.2', '4.2.5,23', '4.4,11.1,11.4,15', '4.7,4.8,5.1,6,6.1,17', '4.3.2,8,11.1,11.3,11.4,18,18.1', '9', '1.37.1,4.8,15', '4.2.5,11.1,11.4,10', '1.50,3.4,4.4,5.1', '4.2.5,4.3.2', '1.1,1.23,1.39,3.1.7,4.2.1,4.4,4.8,5.1,6.1,9', '5.1,11.4,9,6.1', '1.34.1,1.37.1,1.50', '4.3.2,8,11.1,11.3,11.4,18.1,18.2', '6.1,9,11.1,4.7,13', '1.1,1.8.1.1,1.8.1.2,1.14.2,1.18.3,1.19.1,1.29.1,1.29.2,1.30.1,1.34.1,1.36.1,1.37.1,1.50', '6,6.1,9,18.1,6,6.1,9,18.1', '1.29.2,1.29.4,1.30.1,1.34.1,1.36.1,1.37.1,1.50,1.14.2', '4.2.5,4.3.2,4.4,4.7,4.8,5.1,6.1,6.2,9,11.1,11.4', '3.1,4.4,5.1,18.1,11', '3.1.2,4.3.1,4.4,5.1,6.2,11.4', '9,11.1,11.4', '18.1,1.1,1.3,1.39,4.3.1,4.3.2,4.4,5.1,11.1', '4.2.5,6.1,9', '1.49,5.1', '1.50,4.3.1,4.3.2,4.4,4.7,4.9,5.1,11.1,18.2', '23,5.1,15', '1.29.2,11.1,11.4,17,18.2,4.1,4.3.2', '4.1,4.7,4.8,5.1,4.1,4.7,4.8,5.1', '1.48,1.37,1.2', '4.1,4.7,4.8,5.1,6.2,4.1,4.7,4.8,5.1,6.2', '1.50,4.2.5,6,6.1,6.2,9,11,11.1,11.4', '6.1,6.2,4.4,9', '1.29.2,1.50', '4.2.5,4.4,11.1,18.1', '1.39,3.1.7,4.4,4.7,4.8,5.1,6,12,17', '4.2.5,23,4.2.5,23', '6.2,18.1,23', '23,11.1,11.4,5.1', '1.1,1.23,1.39,3.1.7,4.2.1,4.4,4.8,5.1,9', '4.2.5,27', '6.1', '4.2.5,6.1', '4.2.5,11.1,1.29.2,4.1,4.4,4.7,6.2', '18.2,11.1,11.4', '1.15,4.4,4.7,6.2,12,17', '4.7,4.8,6.1,5.1,11.1', '25,25', '11.1,18.1', '1.1,1.39,5.1,11.4,18.1,18.2,4.3.1,4.3.2', '6.1,6.2,9', '4.3.2,11.4,18.1,18.2', '1.1,1.8.1.1,1.8.1.2,1.8.2.2,1.8.3.1,1.8.3.2,4.2.5,18.1,18.2', '1.3,1.14.2,1.50,5.1,6.1,11.1,18.1', '4.2,4.8,5.2,27,4.1', '6.2,9', '1.29.1,9,11.1,11.4', '6.1,6.2,9,4.4', '18.2,18.1,1.1,1.3,1.36.1,1.39,4.3.1,4.3.2,4.4,5.1,11.1,12', '15,23', '4.4,15,11.1,11.4', '4.1,4.3.2,11.1,11.4,4.2.5,13,17', '4.2.5,4.7,5.1,6.1,18.1', '1.15,4.4,4.7,6.2,12,17,18.2', '1.50,3.1.2,4.3.1,6.1,15', '4.2.5,4.4,4.7,4.8,4.9,4.10,5.1,6.1,9,11.1,11.3', '4.4,5.1,6,11.1', '1.50,4.3.1,15', '4.2.5,4.3.2,4.4,4.7,6.2,11.1,12', '4.3.2,11.1,11.3,11.4,18.1,18.2,12', '1.23,1.46,3.4', '1.1,1.8.1.1,1.34.1', '4.4,11.1,9', '5.1,6', '18.2,1.1,1.3,1.39,4.3.1,4.3.2,4.4,5.1,8,11.1,18.2', '1.14.2,1.29.2,1.29.4,1.30.1,1.34.1,1.36.1,1.37.1', '11.1,11.4,27', '4.4,15', '4.1,6.2,18.1,18.2,4.1,6.2,18.1,18.2', '6.1,9,6.1,9', '1.1,1.50,4.3.1,4.3.2,4.6,18.1,18.2,26', '1.29.2,4.2.5,4.4,4.7,11.1,6.2', '4.4,5.1,11.1,6.1,15', '18,23', '4.3.2,11.4,1.29.2,17,11.1', '1.29.2,4.1,4.3.2,5.1,11.1,11.3,18.2', '4.2.5,10,11.1,11.4', '5.1,11.3,11.4,18.1,18.2', '10,11.1', '11.1,11.4,4.4,15', '1.29.1', '4.4,6.1', '1.1,1.8.1.1,1.8.1.2,1.14.2,1.18.3,1.19.1,1.29.1,1.29.2,1.30.1,1.34.1,1.36.1,1.50,1.37.1', '1.1,1.8.1.1,1.8.1.2,1.8.2.1,1.8.2.2,1.8.3.1,1.8.3.2,18.1,18.2', '1.30.1', '4.1,4.2.5,4.4,4.1,4.2.5,4.4', '4.2.5,13,4.3.2,18.2', '4.1,4.2.5,4.4,6.2,1.29.2,4.7,11.1', '5.1,11.1,11.4,23', 'IIIа', '4.4,4.5,6.1', '5.1,6,11.1,11.4']\n"
          ]
        }
      ]
    },
    {
      "cell_type": "markdown",
      "source": [
        "Результаты обследования"
      ],
      "metadata": {
        "id": "Lw1XMV7IJkOq"
      }
    },
    {
      "cell_type": "code",
      "source": [
        "# Уникальные значения колонки\n",
        "unique_values = []\n",
        "for column in health_survey.columns:\n",
        "    if 'ПсихОсвидетельствование' in column:\n",
        "        unique_values.extend(health_survey[column].unique())\n",
        "unique_values = list(set(unique_values))\n",
        "unique_values"
      ],
      "metadata": {
        "colab": {
          "base_uri": "https://localhost:8080/"
        },
        "outputId": "b1521eef-9468-4835-f281-ffed9ae7bc86",
        "id": "FnS1XNpUE0SV"
      },
      "execution_count": null,
      "outputs": [
        {
          "output_type": "execute_result",
          "data": {
            "text/plain": [
              "[False, True]"
            ]
          },
          "metadata": {},
          "execution_count": 26
        }
      ]
    },
    {
      "cell_type": "code",
      "source": [
        "# Уникальные значения колонки\n",
        "unique_values = []\n",
        "for column in health_survey.columns:\n",
        "    if 'ЗаключениеМК' in column:\n",
        "        unique_values.extend(health_survey[column].unique())\n",
        "unique_values = list(set(unique_values))\n",
        "print(unique_values)"
      ],
      "metadata": {
        "colab": {
          "base_uri": "https://localhost:8080/"
        },
        "id": "syAnM9zZBJhT",
        "outputId": "47851e70-db78-4d29-9941-afe4346e19ea"
      },
      "execution_count": null,
      "outputs": [
        {
          "output_type": "stream",
          "name": "stdout",
          "text": [
            "['НуждаетсяВДообследованииИЛечении', 'машинист бульдозера', ' Газоспасатель', 'Газоспасатель', 'Временно не годен', 'ГоденБезРаботНаВысотах', 'Годен к работе в указанных условиях', 'ОграниченноГоден', 'ВременноНегоден', 'ГоденСКоррекциейЗрения', 'Нуждается в дообследовании и лечении', 'Ограниченно годен', 'Годен к работе в указанных условиях (без работ на высотах)', 'Годен к работе в указанных условиях (с коррекцией зрения)', 'тракторист', 'Годен', 'Нет данных']\n"
          ]
        }
      ]
    },
    {
      "cell_type": "code",
      "source": [
        "# Уникальные значения колонки\n",
        "unique_values = []\n",
        "for column in health_survey.columns:\n",
        "    if 'ЗаключениеМКПредставление' in column:\n",
        "        unique_values.extend(health_survey[column].unique())\n",
        "unique_values = list(set(unique_values))\n",
        "print(unique_values)"
      ],
      "metadata": {
        "colab": {
          "base_uri": "https://localhost:8080/"
        },
        "id": "m36WZRb-BIcQ",
        "outputId": "eef29424-9e6e-4fd6-8eb8-58a0164952b7"
      },
      "execution_count": null,
      "outputs": [
        {
          "output_type": "stream",
          "name": "stdout",
          "text": [
            "['Временно не годен', 'Годен к работе в указанных условиях', 'Нуждается в дообследовании и лечении', 'ГоденСКоррекциейЗрения', 'Ограниченно годен', 'Годен к работе в указанных условиях (без работ на высотах)', 'Годен к работе в указанных условиях (с коррекцией зрения)', 'тракторист', 'Годен', 'Нет данных']\n"
          ]
        }
      ]
    },
    {
      "cell_type": "code",
      "source": [
        "# Уникальные значения колонки\n",
        "unique_values = []\n",
        "for column in health_survey.columns:\n",
        "    if \"Представление\" in column:\n",
        "        unique_values.extend(health_survey[column].unique())\n",
        "unique_values = list(set(unique_values))\n",
        "unique_values"
      ],
      "metadata": {
        "id": "6_0u-SUVAS_t"
      },
      "execution_count": null,
      "outputs": []
    },
    {
      "cell_type": "code",
      "source": [
        "# Уникальные значения колонки\n",
        "unique_values = []\n",
        "for column in health_survey.columns:\n",
        "    if \"МКБ101\" in column:\n",
        "        unique_values.extend(health_survey[column].unique())\n",
        "unique_values = list(set(unique_values))\n",
        "print(unique_values)"
      ],
      "metadata": {
        "colab": {
          "base_uri": "https://localhost:8080/"
        },
        "id": "OUj2y63YKWvs",
        "outputId": "a28d76b9-8018-42a7-d954-630601ba6a69"
      },
      "execution_count": null,
      "outputs": [
        {
          "output_type": "stream",
          "name": "stdout",
          "text": [
            "['I69.4', 'K82.8', 'K03.66', 'Q12.0', 'I11.9', 'N83.2', 'K08.2', 'K04.5', 'I25.9', 'K25.7', 'H53.0', 'F41.0', 'K29.8', 'L20.8', 'I25.2', 'F98.5', 'S68.2', 'I83.9', 'E10.9', 'K86.1', 'K80.1', 'H50.9', 'D25.9', 'I67.2', 'K29.4', 'H25.1', 'F10.7', 'H90.4', 'Амбулаторная помощь при необходимости', 'E11.9', 'H52.1', 'H11.0', 'K43.6', 'H02.4', 'K25.9', 'M42.1', 'K81.9', 'I70', 'нет', 'Нет данных', 'H52.2', 'G25.0', 'I66.9', 'K00.0', 'Z00.0', 'T90.4', 'N60.2', 'J33.0', 'K02.1', 'H35.0', 'D25', 'J45.9', 'K29.5', 'G58.9', 'K29.6', 'L40.0', 'S51.9', 'N80.0', 'K05.3', 'K29.7', 'H40.1', 'I67.9', 'G99.0', 'K26.7', 'K02.0', 'E11.8', 'T94.0', 'K82.9', 'T92.0', 'H93.0', 'R25.1', 'F06.7', 'G12.1', 'J37.0', 'E14.8', 'H47.2', 'H40.9', 'K80.5', 'J30.1', 'H01.0', 'H91.1', 'K40.9', '[Z00.0] Общий медицинский осмотр_x000D_\\n', 'K29.3', 'H25.0', 'чистая', 'H90.5', 'G90.9', 'F06.6', 'G90.8', 'I49.9', 'F10.1', 'F70.0', 'F07.0', 'H90.3', 'H66.1', 'K26.9', 'H52.0', 'K76.0', 'H74.1']\n"
          ]
        }
      ]
    },
    {
      "cell_type": "code",
      "source": [
        "# Уникальные значения колонки\n",
        "unique_values = []\n",
        "for column in health_survey.columns:\n",
        "    if \"МКБ102\" in column:\n",
        "        unique_values.extend(health_survey[column].unique())\n",
        "unique_values = list(set(unique_values))\n",
        "print(unique_values)"
      ],
      "metadata": {
        "colab": {
          "base_uri": "https://localhost:8080/"
        },
        "id": "UVvogxTdKWo6",
        "outputId": "52332ea6-4989-4c50-b4e0-b0862426e951"
      },
      "execution_count": null,
      "outputs": [
        {
          "output_type": "stream",
          "name": "stdout",
          "text": [
            "['C53.9', 'K05.3', 'H02.4', 'I49.8', 'H17.1', 'M42.1', 'I11.9', 'J45.8', 'H91.1', 'K40.9', 'I67.9', 'H53.0', 'K29.3', 'H25.0', 'K29.8', 'Нет данных', 'K05.4', 'I25.8', 'H52.2', 'K26.7', 'K02.0', 'I25.2', 'D35.2', 'K00.0', 'Z00.0', 'T94.0', 'I49.9', 'H90.3', 'J33.0', 'H52.0', 'K02.1', 'K86.1', 'H50.9', 'D25.9', 'N28.1', 'K29.6', 'H74.1', 'H47.2', 'K44.9', 'H52.1']\n"
          ]
        }
      ]
    },
    {
      "cell_type": "code",
      "source": [
        "# Уникальные значения колонки\n",
        "unique_values = []\n",
        "for column in health_survey.columns:\n",
        "    if \"МКБ103\" in column:\n",
        "        unique_values.extend(health_survey[column].unique())\n",
        "unique_values = list(set(unique_values))\n",
        "print(unique_values)"
      ],
      "metadata": {
        "colab": {
          "base_uri": "https://localhost:8080/"
        },
        "id": "QFEN2PH3KWiq",
        "outputId": "8abdb174-3b94-4478-f64f-247a3ff72e63"
      },
      "execution_count": null,
      "outputs": [
        {
          "output_type": "stream",
          "name": "stdout",
          "text": [
            "['I11.9', 'J45.8', 'H52.0', 'I25.8', 'H52.2', 'I25.2', 'K80.2', '[Z00.0] Общий медицинский осмотр_x000D_\\n', 'K29.3', 'H90.3', 'H52.1', 'Нет данных']\n"
          ]
        }
      ]
    },
    {
      "cell_type": "code",
      "source": [
        "# Уникальные значения колонки\n",
        "unique_values = []\n",
        "for column in health_survey.columns:\n",
        "    if \"МКБ104\" in column:\n",
        "        unique_values.extend(health_survey[column].unique())\n",
        "unique_values = list(set(unique_values))\n",
        "print(unique_values)"
      ],
      "metadata": {
        "colab": {
          "base_uri": "https://localhost:8080/"
        },
        "id": "hcMtAPVkD2d2",
        "outputId": "ad1d0a9f-c880-42db-ed46-4c403ba64af8"
      },
      "execution_count": null,
      "outputs": [
        {
          "output_type": "stream",
          "name": "stdout",
          "text": [
            "['I11.9', 'H52.0', 'H52.2', 'I25.2', 'K80.2', 'H90.3', 'H52.1', 'Нет данных']\n"
          ]
        }
      ]
    },
    {
      "cell_type": "code",
      "source": [
        "# Уникальные значения колонки\n",
        "unique_values = []\n",
        "for column in health_survey.columns:\n",
        "    if \"ПрофнепригодностьВременнаяПредставление\" in column:\n",
        "        unique_values.extend(health_survey[column].unique())\n",
        "unique_values = list(set(unique_values))\n",
        "print(unique_values)"
      ],
      "metadata": {
        "colab": {
          "base_uri": "https://localhost:8080/"
        },
        "id": "ix0To04SD1_t",
        "outputId": "b8e7d903-ec93-49c4-ee4b-2c62fe5dad5d"
      },
      "execution_count": null,
      "outputs": [
        {
          "output_type": "stream",
          "name": "stdout",
          "text": [
            "['БИТУФА_НеВыявлена', 'Временно не годен', 'Не годен', 'Годен, кроме п.', 'Годен', 'Нет данных']\n"
          ]
        }
      ]
    },
    {
      "cell_type": "code",
      "source": [
        "# Уникальные значения колонки\n",
        "unique_values = []\n",
        "for column in health_survey.columns:\n",
        "    if \"ПрофнепригодностьВременнаяПредставление1\" in column:\n",
        "        unique_values.extend(health_survey[column].unique())\n",
        "unique_values = list(set(unique_values))\n",
        "print(unique_values)"
      ],
      "metadata": {
        "colab": {
          "base_uri": "https://localhost:8080/"
        },
        "id": "3PAwhqPADxU2",
        "outputId": "3994342e-9861-4589-f741-64816bc15ef2"
      },
      "execution_count": null,
      "outputs": [
        {
          "output_type": "stream",
          "name": "stdout",
          "text": [
            "['БИТУФА_НеВыявлена', 'Временно не годен', 'Не годен', 'Годен, кроме п.', 'Годен', 'Нет данных']\n"
          ]
        }
      ]
    },
    {
      "cell_type": "code",
      "source": [
        "# Уникальные значения колонки\n",
        "unique_values = []\n",
        "for column in health_survey.columns:\n",
        "    if \"ПрофнепригодностьВременная1\" in column:\n",
        "        unique_values.extend(health_survey[column].unique())\n",
        "unique_values = list(set(unique_values))\n",
        "print(unique_values)\n",
        "\n"
      ],
      "metadata": {
        "colab": {
          "base_uri": "https://localhost:8080/"
        },
        "id": "vhkq_uaU6OfV",
        "outputId": "a3f597f3-1110-496e-a882-624bf8a15b4a"
      },
      "execution_count": null,
      "outputs": [
        {
          "output_type": "stream",
          "name": "stdout",
          "text": [
            "['Временная', 'false', 'Нет данных', 'ХР_ГоденКромеПунктов', 'Постоянная', 'БИТУФА_НеВыявлена']\n"
          ]
        }
      ]
    },
    {
      "cell_type": "code",
      "source": [
        "# Уникальные значения колонки\n",
        "unique_values = []\n",
        "for column in health_survey.columns:\n",
        "    if \"ЖалобыДополнение\" in column:\n",
        "        unique_values.extend(health_survey[column].unique())\n",
        "unique_values = list(set(unique_values))\n",
        "unique_values"
      ],
      "metadata": {
        "id": "-WBZWh5TSI3s"
      },
      "execution_count": null,
      "outputs": []
    },
    {
      "cell_type": "code",
      "source": [
        "# Уникальные значения колонки\n",
        "unique_values = []\n",
        "for column in health_survey.columns:\n",
        "    if 'Заключение' in column:\n",
        "        unique_values.extend(health_survey[column].unique())\n",
        "unique_values = list(set(unique_values))\n",
        "unique_values"
      ],
      "metadata": {
        "id": "vbss4wbPteoz"
      },
      "execution_count": null,
      "outputs": []
    },
    {
      "cell_type": "markdown",
      "source": [
        "# Корректировка данных\n",
        "\n",
        "\n",
        "\n",
        "План:\n",
        "\n",
        "Сделать выборку в колонке 'Профессия' по основному показателю профессии.\n",
        "\n",
        "Создать списки категорий профессий по должностям с разделением на степени факторов риска.\n",
        "\n",
        "Степени факторов риска: Оптимальный,  Допустимый,  Вредный,  Опасный.\n",
        "\n",
        "Присвоить категории профессии индекс факторов риска, создать новую колонку 'класс безопасности' и заполнить соответствующими значениями индексов.\n",
        "\n",
        "Создать матрицу корреляции 'Профессия' - 'класс безопасности' - 'ВредныеФакторы'.  Анализ.\n",
        "\n",
        "Создать матрицу корреляции 'Профессия' - 'класс безопасности' - 'ВредныеФакторы' --- 'Возраст' - 'Пол' - 'Представление' - 'Заключение'.  Анализ.\n",
        "\n",
        " Ранжирование рисков.\n",
        "\n"
      ],
      "metadata": {
        "id": "2hZ_oBptqmtF"
      }
    },
    {
      "cell_type": "code",
      "source": [
        "health_survey = pd.read_csv('/content/drive/MyDrive/БазыCSV/InClinic/health_survey.csv')"
      ],
      "metadata": {
        "id": "Gofl1xy_shMt"
      },
      "execution_count": null,
      "outputs": []
    },
    {
      "cell_type": "code",
      "source": [
        "df_p = pd.read_excel('/content/drive/MyDrive/БазыCSV/InClinic/Проф2.xlsx')"
      ],
      "metadata": {
        "id": "i-dcedME1OQu"
      },
      "execution_count": null,
      "outputs": []
    },
    {
      "cell_type": "code",
      "source": [
        "# Создание копии таблицы\n",
        "df_edit =health_survey.copy()"
      ],
      "metadata": {
        "id": "xaUcrMg-jcy3"
      },
      "execution_count": null,
      "outputs": []
    },
    {
      "cell_type": "code",
      "source": [
        "df_edit.head(1)"
      ],
      "metadata": {
        "id": "q6MHdAcvs8S7"
      },
      "execution_count": null,
      "outputs": []
    },
    {
      "cell_type": "markdown",
      "source": [
        "РАБОТА С КОЛОНКОЙ \"Профессия\" НЕ ЗАКОНЧЕНА"
      ],
      "metadata": {
        "id": "75axwdxBs2rt"
      }
    },
    {
      "cell_type": "code",
      "source": [
        "# Создаём пустой словарь\n",
        "my_dict = {}\n",
        "\n",
        "# Проходим по всему датафрейму и заносим данные в словарь\n",
        "for index, row in df_p.iterrows():\n",
        "    my_dict[row[0]] = row[1]\n",
        "\n",
        "# Создаём список ключей для поиска в датафрейме\n",
        "keys = list(my_dict.keys())\n",
        "\n",
        "for row in df_edit['Профессия']:   # перебор колонки 'Профессия' из датафрейма df_edit\n",
        "    for word in df_p.iloc[:,0]:    # поиск вхождения слов из df_p[:, 0] в каждой строке колонки 'Профессия'\n",
        "        if row.str.contains(word):    # если колонка содержит слово из df_p[:, 0], то\n",
        "            row['Профессия'] = word # значение в колонке 'Профессия' присваивается соответствующему ключевому слову из df_p\n",
        "\n",
        "# Создаём новую колонку 'класс безопасности' и помещаем её под индексом [3]\n",
        "df_edit.insert(3, 'класс безопасности', '0')\n",
        "\n",
        "# Обновляем новую колонку значениями из словаря, если соответствующий ключ присутствует в выбранных строках\n",
        "for index, row in selected_rows.iterrows():\n",
        "    if row['Профессия'] in my_dict.keys():\n",
        "        df_edit.at[index, 'класс безопасности'] = my_dict[row['Профессия']]"
      ],
      "metadata": {
        "colab": {
          "base_uri": "https://localhost:8080/",
          "height": 234
        },
        "id": "CQgOdLtPtu1M",
        "outputId": "5df2e87e-d867-4121-ba82-2f7efc745f9d"
      },
      "execution_count": null,
      "outputs": [
        {
          "output_type": "error",
          "ename": "AttributeError",
          "evalue": "ignored",
          "traceback": [
            "\u001b[0;31m---------------------------------------------------------------------------\u001b[0m",
            "\u001b[0;31mAttributeError\u001b[0m                            Traceback (most recent call last)",
            "\u001b[0;32m<ipython-input-84-430b8e781432>\u001b[0m in \u001b[0;36m<cell line: 11>\u001b[0;34m()\u001b[0m\n\u001b[1;32m     11\u001b[0m \u001b[0;32mfor\u001b[0m \u001b[0mrow\u001b[0m \u001b[0;32min\u001b[0m \u001b[0mdf_edit\u001b[0m\u001b[0;34m[\u001b[0m\u001b[0;34m'Профессия'\u001b[0m\u001b[0;34m]\u001b[0m\u001b[0;34m:\u001b[0m   \u001b[0;31m# перебор колонки 'Профессия' из датафрейма df_edit\u001b[0m\u001b[0;34m\u001b[0m\u001b[0;34m\u001b[0m\u001b[0m\n\u001b[1;32m     12\u001b[0m     \u001b[0;32mfor\u001b[0m \u001b[0mword\u001b[0m \u001b[0;32min\u001b[0m \u001b[0mdf_p\u001b[0m\u001b[0;34m.\u001b[0m\u001b[0miloc\u001b[0m\u001b[0;34m[\u001b[0m\u001b[0;34m:\u001b[0m\u001b[0;34m,\u001b[0m\u001b[0;36m0\u001b[0m\u001b[0;34m]\u001b[0m\u001b[0;34m:\u001b[0m    \u001b[0;31m# поиск вхождения слов из df_p[:, 0] в каждой строке колонки 'Профессия'\u001b[0m\u001b[0;34m\u001b[0m\u001b[0;34m\u001b[0m\u001b[0m\n\u001b[0;32m---> 13\u001b[0;31m         \u001b[0;32mif\u001b[0m \u001b[0mrow\u001b[0m\u001b[0;34m.\u001b[0m\u001b[0mstr\u001b[0m\u001b[0;34m.\u001b[0m\u001b[0mcontains\u001b[0m\u001b[0;34m(\u001b[0m\u001b[0mword\u001b[0m\u001b[0;34m)\u001b[0m\u001b[0;34m:\u001b[0m    \u001b[0;31m# если колонка содержит слово из df_p[:, 0], то\u001b[0m\u001b[0;34m\u001b[0m\u001b[0;34m\u001b[0m\u001b[0m\n\u001b[0m\u001b[1;32m     14\u001b[0m             \u001b[0mrow\u001b[0m\u001b[0;34m[\u001b[0m\u001b[0;34m'Профессия'\u001b[0m\u001b[0;34m]\u001b[0m \u001b[0;34m=\u001b[0m \u001b[0mword\u001b[0m \u001b[0;31m# значение в колонке 'Профессия' присваивается соответствующему ключевому слову из df_p\u001b[0m\u001b[0;34m\u001b[0m\u001b[0;34m\u001b[0m\u001b[0m\n\u001b[1;32m     15\u001b[0m \u001b[0;34m\u001b[0m\u001b[0m\n",
            "\u001b[0;31mAttributeError\u001b[0m: 'str' object has no attribute 'str'"
          ]
        }
      ]
    },
    {
      "cell_type": "code",
      "source": [
        "# Создаём пустой словарь\n",
        "my_dict = {}\n",
        "\n",
        "# Проходим по всему датафрейму и заносим данные в словарь\n",
        "for index, row in df_p.iterrows():\n",
        "    my_dict[row[0]] = row[1]\n",
        "\n",
        "# Создаём список ключей для поиска в датафрейме\n",
        "keys = list(my_dict.keys())\n",
        "\n",
        "# Проходим по колонке 'Профессия' и делаем выборку строк, содержащих ключевые слова\n",
        "selected_rows = df_edit[df_edit['Профессия'].str.contains('|'.join(keys))]\n",
        "\n",
        "# Создаём новую колонку 'класс безопасности' и помещаем её под индексом [3]\n",
        "df_edit.insert(3, 'класс безопасности', '0')\n",
        "\n",
        "# Обновляем новую колонку значениями из словаря, если соответствующий ключ присутствует в выбранных строках\n",
        "for index, row in selected_rows.iterrows():\n",
        "    if row['Профессия'] in my_dict.keys():\n",
        "        df_edit.at[index, 'класс безопасности'] = my_dict[row['Профессия']]"
      ],
      "metadata": {
        "id": "-1JncTFzdbCq"
      },
      "execution_count": null,
      "outputs": []
    },
    {
      "cell_type": "code",
      "source": [
        "df_edit.head(1)"
      ],
      "metadata": {
        "colab": {
          "base_uri": "https://localhost:8080/",
          "height": 261
        },
        "id": "LgPzDCPPd1yD",
        "outputId": "90ac0fed-e1c4-440b-cc78-1a465148d8de"
      },
      "execution_count": null,
      "outputs": [
        {
          "output_type": "execute_result",
          "data": {
            "text/plain": [
              "   КлиентДатаРождения КлиентПол                                  Профессия  \\\n",
              "0                1976   Женский  Ведущий специалист по организации обуения   \n",
              "\n",
              "  класс безопасности ВредныеФакторы  ПсихОсвидетельствование ЗаключениеМК  \\\n",
              "0                  0           11.4                    False        Годен   \n",
              "\n",
              "             ЗаключениеМКПредставление                           Заключение  \\\n",
              "0  Годен к работе в указанных условиях  Годен к работе в указанных условиях   \n",
              "\n",
              "  Рентгенология1_Заключение_Значение  ... Психиатрия3_МКБ102  \\\n",
              "0                      без патологий  ...         Нет данных   \n",
              "\n",
              "  Психиатрия4_МКБ101 Психиатрия4_ПрофнепригодностьВременная1  \\\n",
              "0         Нет данных                              Нет данных   \n",
              "\n",
              "  Психиатрия4_ПрофнепригодностьВременнаяПредставление1 Психиатрия4_МКБ102  \\\n",
              "0                                         Нет данных           Нет данных   \n",
              "\n",
              "  Оториноларингология3_МКБ101  \\\n",
              "0                  Нет данных   \n",
              "\n",
              "  Оториноларингология3_ПрофнепригодностьВременная1  \\\n",
              "0                                       Нет данных   \n",
              "\n",
              "  Оториноларингология3_ПрофнепригодностьВременнаяПредставление1  \\\n",
              "0                                         Нет данных              \n",
              "\n",
              "  Оториноларингология1_ЖалобыДополнение_Значение  \\\n",
              "0                                     Нет данных   \n",
              "\n",
              "  Оториноларингология1_ЖалобыДополнение_ЗначениеПредставление  \n",
              "0                                         Нет данных           \n",
              "\n",
              "[1 rows x 215 columns]"
            ],
            "text/html": [
              "\n",
              "  <div id=\"df-304824dd-6b46-4813-8afe-5cf61f9483b2\">\n",
              "    <div class=\"colab-df-container\">\n",
              "      <div>\n",
              "<style scoped>\n",
              "    .dataframe tbody tr th:only-of-type {\n",
              "        vertical-align: middle;\n",
              "    }\n",
              "\n",
              "    .dataframe tbody tr th {\n",
              "        vertical-align: top;\n",
              "    }\n",
              "\n",
              "    .dataframe thead th {\n",
              "        text-align: right;\n",
              "    }\n",
              "</style>\n",
              "<table border=\"1\" class=\"dataframe\">\n",
              "  <thead>\n",
              "    <tr style=\"text-align: right;\">\n",
              "      <th></th>\n",
              "      <th>КлиентДатаРождения</th>\n",
              "      <th>КлиентПол</th>\n",
              "      <th>Профессия</th>\n",
              "      <th>класс безопасности</th>\n",
              "      <th>ВредныеФакторы</th>\n",
              "      <th>ПсихОсвидетельствование</th>\n",
              "      <th>ЗаключениеМК</th>\n",
              "      <th>ЗаключениеМКПредставление</th>\n",
              "      <th>Заключение</th>\n",
              "      <th>Рентгенология1_Заключение_Значение</th>\n",
              "      <th>...</th>\n",
              "      <th>Психиатрия3_МКБ102</th>\n",
              "      <th>Психиатрия4_МКБ101</th>\n",
              "      <th>Психиатрия4_ПрофнепригодностьВременная1</th>\n",
              "      <th>Психиатрия4_ПрофнепригодностьВременнаяПредставление1</th>\n",
              "      <th>Психиатрия4_МКБ102</th>\n",
              "      <th>Оториноларингология3_МКБ101</th>\n",
              "      <th>Оториноларингология3_ПрофнепригодностьВременная1</th>\n",
              "      <th>Оториноларингология3_ПрофнепригодностьВременнаяПредставление1</th>\n",
              "      <th>Оториноларингология1_ЖалобыДополнение_Значение</th>\n",
              "      <th>Оториноларингология1_ЖалобыДополнение_ЗначениеПредставление</th>\n",
              "    </tr>\n",
              "  </thead>\n",
              "  <tbody>\n",
              "    <tr>\n",
              "      <th>0</th>\n",
              "      <td>1976</td>\n",
              "      <td>Женский</td>\n",
              "      <td>Ведущий специалист по организации обуения</td>\n",
              "      <td>0</td>\n",
              "      <td>11.4</td>\n",
              "      <td>False</td>\n",
              "      <td>Годен</td>\n",
              "      <td>Годен к работе в указанных условиях</td>\n",
              "      <td>Годен к работе в указанных условиях</td>\n",
              "      <td>без патологий</td>\n",
              "      <td>...</td>\n",
              "      <td>Нет данных</td>\n",
              "      <td>Нет данных</td>\n",
              "      <td>Нет данных</td>\n",
              "      <td>Нет данных</td>\n",
              "      <td>Нет данных</td>\n",
              "      <td>Нет данных</td>\n",
              "      <td>Нет данных</td>\n",
              "      <td>Нет данных</td>\n",
              "      <td>Нет данных</td>\n",
              "      <td>Нет данных</td>\n",
              "    </tr>\n",
              "  </tbody>\n",
              "</table>\n",
              "<p>1 rows × 215 columns</p>\n",
              "</div>\n",
              "      <button class=\"colab-df-convert\" onclick=\"convertToInteractive('df-304824dd-6b46-4813-8afe-5cf61f9483b2')\"\n",
              "              title=\"Convert this dataframe to an interactive table.\"\n",
              "              style=\"display:none;\">\n",
              "        \n",
              "  <svg xmlns=\"http://www.w3.org/2000/svg\" height=\"24px\"viewBox=\"0 0 24 24\"\n",
              "       width=\"24px\">\n",
              "    <path d=\"M0 0h24v24H0V0z\" fill=\"none\"/>\n",
              "    <path d=\"M18.56 5.44l.94 2.06.94-2.06 2.06-.94-2.06-.94-.94-2.06-.94 2.06-2.06.94zm-11 1L8.5 8.5l.94-2.06 2.06-.94-2.06-.94L8.5 2.5l-.94 2.06-2.06.94zm10 10l.94 2.06.94-2.06 2.06-.94-2.06-.94-.94-2.06-.94 2.06-2.06.94z\"/><path d=\"M17.41 7.96l-1.37-1.37c-.4-.4-.92-.59-1.43-.59-.52 0-1.04.2-1.43.59L10.3 9.45l-7.72 7.72c-.78.78-.78 2.05 0 2.83L4 21.41c.39.39.9.59 1.41.59.51 0 1.02-.2 1.41-.59l7.78-7.78 2.81-2.81c.8-.78.8-2.07 0-2.86zM5.41 20L4 18.59l7.72-7.72 1.47 1.35L5.41 20z\"/>\n",
              "  </svg>\n",
              "      </button>\n",
              "      \n",
              "  <style>\n",
              "    .colab-df-container {\n",
              "      display:flex;\n",
              "      flex-wrap:wrap;\n",
              "      gap: 12px;\n",
              "    }\n",
              "\n",
              "    .colab-df-convert {\n",
              "      background-color: #E8F0FE;\n",
              "      border: none;\n",
              "      border-radius: 50%;\n",
              "      cursor: pointer;\n",
              "      display: none;\n",
              "      fill: #1967D2;\n",
              "      height: 32px;\n",
              "      padding: 0 0 0 0;\n",
              "      width: 32px;\n",
              "    }\n",
              "\n",
              "    .colab-df-convert:hover {\n",
              "      background-color: #E2EBFA;\n",
              "      box-shadow: 0px 1px 2px rgba(60, 64, 67, 0.3), 0px 1px 3px 1px rgba(60, 64, 67, 0.15);\n",
              "      fill: #174EA6;\n",
              "    }\n",
              "\n",
              "    [theme=dark] .colab-df-convert {\n",
              "      background-color: #3B4455;\n",
              "      fill: #D2E3FC;\n",
              "    }\n",
              "\n",
              "    [theme=dark] .colab-df-convert:hover {\n",
              "      background-color: #434B5C;\n",
              "      box-shadow: 0px 1px 3px 1px rgba(0, 0, 0, 0.15);\n",
              "      filter: drop-shadow(0px 1px 2px rgba(0, 0, 0, 0.3));\n",
              "      fill: #FFFFFF;\n",
              "    }\n",
              "  </style>\n",
              "\n",
              "      <script>\n",
              "        const buttonEl =\n",
              "          document.querySelector('#df-304824dd-6b46-4813-8afe-5cf61f9483b2 button.colab-df-convert');\n",
              "        buttonEl.style.display =\n",
              "          google.colab.kernel.accessAllowed ? 'block' : 'none';\n",
              "\n",
              "        async function convertToInteractive(key) {\n",
              "          const element = document.querySelector('#df-304824dd-6b46-4813-8afe-5cf61f9483b2');\n",
              "          const dataTable =\n",
              "            await google.colab.kernel.invokeFunction('convertToInteractive',\n",
              "                                                     [key], {});\n",
              "          if (!dataTable) return;\n",
              "\n",
              "          const docLinkHtml = 'Like what you see? Visit the ' +\n",
              "            '<a target=\"_blank\" href=https://colab.research.google.com/notebooks/data_table.ipynb>data table notebook</a>'\n",
              "            + ' to learn more about interactive tables.';\n",
              "          element.innerHTML = '';\n",
              "          dataTable['output_type'] = 'display_data';\n",
              "          await google.colab.output.renderOutput(dataTable, element);\n",
              "          const docLink = document.createElement('div');\n",
              "          docLink.innerHTML = docLinkHtml;\n",
              "          element.appendChild(docLink);\n",
              "        }\n",
              "      </script>\n",
              "    </div>\n",
              "  </div>\n",
              "  "
            ]
          },
          "metadata": {},
          "execution_count": 87
        }
      ]
    },
    {
      "cell_type": "code",
      "source": [
        "import pandas as pd\n",
        "\n",
        "# Загружаем датафрейм df_p\n",
        "#df_p = pd.read_csv('path_to_file')\n",
        "\n",
        "# Задаём список значений из колонки 0 для поиска\n",
        "list_col_0 = df_p.iloc[:, 0].tolist()\n",
        "\n",
        "# Импортируем датафрейм df_edit\n",
        "#df_edit = pd.read_csv('path_to_file')\n",
        "\n",
        "# Создаём словарь для значений колонок из df_p\n",
        "my_dict = dict(zip(df_p.iloc[:,0], df_p.iloc[:,1]))\n",
        "\n",
        "# Создаём список индексов, в которых происходит вхождение слов из списка колонки 0 из df_p\n",
        "index_list = []\n",
        "for i in range(len(df_edit)):\n",
        "    if any(word in df_edit['Профессия'][i] for word in list_col_0):\n",
        "        index_list.append(i)\n",
        "\n",
        "# Присваиваем статус ключа значениям колонки 'Профессия', указанным в полученном списке индексов\n",
        "df_edit.loc[index_list, 'Профессия'] = df_edit.loc[index_list, 'Профессия'].apply(lambda x: my_dict[x])\n",
        "\n",
        "# Создаём колонку 'класс безопасности' и заполняем её нулями\n",
        "df_edit.insert(2, 'класс безопасности', 0)\n",
        "\n",
        "# Присваиваем статус ключа значениям колонки 'класс без\n"
      ],
      "metadata": {
        "colab": {
          "base_uri": "https://localhost:8080/",
          "height": 432
        },
        "id": "ya0gzYI5eO3H",
        "outputId": "eee610b0-1515-4dc2-8aae-89d9eb9bdb0e"
      },
      "execution_count": null,
      "outputs": [
        {
          "output_type": "error",
          "ename": "KeyError",
          "evalue": "ignored",
          "traceback": [
            "\u001b[0;31m---------------------------------------------------------------------------\u001b[0m",
            "\u001b[0;31mKeyError\u001b[0m                                  Traceback (most recent call last)",
            "\u001b[0;32m/usr/local/lib/python3.10/dist-packages/pandas/core/indexes/base.py\u001b[0m in \u001b[0;36mget_loc\u001b[0;34m(self, key, method, tolerance)\u001b[0m\n\u001b[1;32m   3801\u001b[0m             \u001b[0;32mtry\u001b[0m\u001b[0;34m:\u001b[0m\u001b[0;34m\u001b[0m\u001b[0;34m\u001b[0m\u001b[0m\n\u001b[0;32m-> 3802\u001b[0;31m                 \u001b[0;32mreturn\u001b[0m \u001b[0mself\u001b[0m\u001b[0;34m.\u001b[0m\u001b[0m_engine\u001b[0m\u001b[0;34m.\u001b[0m\u001b[0mget_loc\u001b[0m\u001b[0;34m(\u001b[0m\u001b[0mcasted_key\u001b[0m\u001b[0;34m)\u001b[0m\u001b[0;34m\u001b[0m\u001b[0;34m\u001b[0m\u001b[0m\n\u001b[0m\u001b[1;32m   3803\u001b[0m             \u001b[0;32mexcept\u001b[0m \u001b[0mKeyError\u001b[0m \u001b[0;32mas\u001b[0m \u001b[0merr\u001b[0m\u001b[0;34m:\u001b[0m\u001b[0;34m\u001b[0m\u001b[0;34m\u001b[0m\u001b[0m\n",
            "\u001b[0;32m/usr/local/lib/python3.10/dist-packages/pandas/_libs/index.pyx\u001b[0m in \u001b[0;36mpandas._libs.index.IndexEngine.get_loc\u001b[0;34m()\u001b[0m\n",
            "\u001b[0;32m/usr/local/lib/python3.10/dist-packages/pandas/_libs/index.pyx\u001b[0m in \u001b[0;36mpandas._libs.index.IndexEngine.get_loc\u001b[0;34m()\u001b[0m\n",
            "\u001b[0;32m/usr/local/lib/python3.10/dist-packages/pandas/_libs/index.pyx\u001b[0m in \u001b[0;36mpandas._libs.index.IndexEngine._get_loc_duplicates\u001b[0;34m()\u001b[0m\n",
            "\u001b[0;32m/usr/local/lib/python3.10/dist-packages/pandas/_libs/index.pyx\u001b[0m in \u001b[0;36mpandas._libs.index.IndexEngine._maybe_get_bool_indexer\u001b[0;34m()\u001b[0m\n",
            "\u001b[0;32m/usr/local/lib/python3.10/dist-packages/pandas/_libs/index.pyx\u001b[0m in \u001b[0;36mpandas._libs.index._unpack_bool_indexer\u001b[0;34m()\u001b[0m\n",
            "\u001b[0;31mKeyError\u001b[0m: 0",
            "\nThe above exception was the direct cause of the following exception:\n",
            "\u001b[0;31mKeyError\u001b[0m                                  Traceback (most recent call last)",
            "\u001b[0;32m<ipython-input-19-54143c490910>\u001b[0m in \u001b[0;36m<cell line: 17>\u001b[0;34m()\u001b[0m\n\u001b[1;32m     16\u001b[0m \u001b[0mindex_list\u001b[0m \u001b[0;34m=\u001b[0m \u001b[0;34m[\u001b[0m\u001b[0;34m]\u001b[0m\u001b[0;34m\u001b[0m\u001b[0;34m\u001b[0m\u001b[0m\n\u001b[1;32m     17\u001b[0m \u001b[0;32mfor\u001b[0m \u001b[0mi\u001b[0m \u001b[0;32min\u001b[0m \u001b[0mrange\u001b[0m\u001b[0;34m(\u001b[0m\u001b[0mlen\u001b[0m\u001b[0;34m(\u001b[0m\u001b[0mdf_edit\u001b[0m\u001b[0;34m)\u001b[0m\u001b[0;34m)\u001b[0m\u001b[0;34m:\u001b[0m\u001b[0;34m\u001b[0m\u001b[0;34m\u001b[0m\u001b[0m\n\u001b[0;32m---> 18\u001b[0;31m     \u001b[0;32mif\u001b[0m \u001b[0many\u001b[0m\u001b[0;34m(\u001b[0m\u001b[0mword\u001b[0m \u001b[0;32min\u001b[0m \u001b[0mdf_edit\u001b[0m\u001b[0;34m[\u001b[0m\u001b[0;34m'Профессия'\u001b[0m\u001b[0;34m]\u001b[0m\u001b[0;34m[\u001b[0m\u001b[0mi\u001b[0m\u001b[0;34m]\u001b[0m \u001b[0;32mfor\u001b[0m \u001b[0mword\u001b[0m \u001b[0;32min\u001b[0m \u001b[0mlist_col_0\u001b[0m\u001b[0;34m)\u001b[0m\u001b[0;34m:\u001b[0m\u001b[0;34m\u001b[0m\u001b[0;34m\u001b[0m\u001b[0m\n\u001b[0m\u001b[1;32m     19\u001b[0m         \u001b[0mindex_list\u001b[0m\u001b[0;34m.\u001b[0m\u001b[0mappend\u001b[0m\u001b[0;34m(\u001b[0m\u001b[0mi\u001b[0m\u001b[0;34m)\u001b[0m\u001b[0;34m\u001b[0m\u001b[0;34m\u001b[0m\u001b[0m\n\u001b[1;32m     20\u001b[0m \u001b[0;34m\u001b[0m\u001b[0m\n",
            "\u001b[0;32m<ipython-input-19-54143c490910>\u001b[0m in \u001b[0;36m<genexpr>\u001b[0;34m(.0)\u001b[0m\n\u001b[1;32m     16\u001b[0m \u001b[0mindex_list\u001b[0m \u001b[0;34m=\u001b[0m \u001b[0;34m[\u001b[0m\u001b[0;34m]\u001b[0m\u001b[0;34m\u001b[0m\u001b[0;34m\u001b[0m\u001b[0m\n\u001b[1;32m     17\u001b[0m \u001b[0;32mfor\u001b[0m \u001b[0mi\u001b[0m \u001b[0;32min\u001b[0m \u001b[0mrange\u001b[0m\u001b[0;34m(\u001b[0m\u001b[0mlen\u001b[0m\u001b[0;34m(\u001b[0m\u001b[0mdf_edit\u001b[0m\u001b[0;34m)\u001b[0m\u001b[0;34m)\u001b[0m\u001b[0;34m:\u001b[0m\u001b[0;34m\u001b[0m\u001b[0;34m\u001b[0m\u001b[0m\n\u001b[0;32m---> 18\u001b[0;31m     \u001b[0;32mif\u001b[0m \u001b[0many\u001b[0m\u001b[0;34m(\u001b[0m\u001b[0mword\u001b[0m \u001b[0;32min\u001b[0m \u001b[0mdf_edit\u001b[0m\u001b[0;34m[\u001b[0m\u001b[0;34m'Профессия'\u001b[0m\u001b[0;34m]\u001b[0m\u001b[0;34m[\u001b[0m\u001b[0mi\u001b[0m\u001b[0;34m]\u001b[0m \u001b[0;32mfor\u001b[0m \u001b[0mword\u001b[0m \u001b[0;32min\u001b[0m \u001b[0mlist_col_0\u001b[0m\u001b[0;34m)\u001b[0m\u001b[0;34m:\u001b[0m\u001b[0;34m\u001b[0m\u001b[0;34m\u001b[0m\u001b[0m\n\u001b[0m\u001b[1;32m     19\u001b[0m         \u001b[0mindex_list\u001b[0m\u001b[0;34m.\u001b[0m\u001b[0mappend\u001b[0m\u001b[0;34m(\u001b[0m\u001b[0mi\u001b[0m\u001b[0;34m)\u001b[0m\u001b[0;34m\u001b[0m\u001b[0;34m\u001b[0m\u001b[0m\n\u001b[1;32m     20\u001b[0m \u001b[0;34m\u001b[0m\u001b[0m\n",
            "\u001b[0;32m/usr/local/lib/python3.10/dist-packages/pandas/core/series.py\u001b[0m in \u001b[0;36m__getitem__\u001b[0;34m(self, key)\u001b[0m\n\u001b[1;32m    979\u001b[0m \u001b[0;34m\u001b[0m\u001b[0m\n\u001b[1;32m    980\u001b[0m         \u001b[0;32melif\u001b[0m \u001b[0mkey_is_scalar\u001b[0m\u001b[0;34m:\u001b[0m\u001b[0;34m\u001b[0m\u001b[0;34m\u001b[0m\u001b[0m\n\u001b[0;32m--> 981\u001b[0;31m             \u001b[0;32mreturn\u001b[0m \u001b[0mself\u001b[0m\u001b[0;34m.\u001b[0m\u001b[0m_get_value\u001b[0m\u001b[0;34m(\u001b[0m\u001b[0mkey\u001b[0m\u001b[0;34m)\u001b[0m\u001b[0;34m\u001b[0m\u001b[0;34m\u001b[0m\u001b[0m\n\u001b[0m\u001b[1;32m    982\u001b[0m \u001b[0;34m\u001b[0m\u001b[0m\n\u001b[1;32m    983\u001b[0m         \u001b[0;32mif\u001b[0m \u001b[0mis_hashable\u001b[0m\u001b[0;34m(\u001b[0m\u001b[0mkey\u001b[0m\u001b[0;34m)\u001b[0m\u001b[0;34m:\u001b[0m\u001b[0;34m\u001b[0m\u001b[0;34m\u001b[0m\u001b[0m\n",
            "\u001b[0;32m/usr/local/lib/python3.10/dist-packages/pandas/core/series.py\u001b[0m in \u001b[0;36m_get_value\u001b[0;34m(self, label, takeable)\u001b[0m\n\u001b[1;32m   1087\u001b[0m \u001b[0;34m\u001b[0m\u001b[0m\n\u001b[1;32m   1088\u001b[0m         \u001b[0;31m# Similar to Index.get_value, but we do not fall back to positional\u001b[0m\u001b[0;34m\u001b[0m\u001b[0;34m\u001b[0m\u001b[0m\n\u001b[0;32m-> 1089\u001b[0;31m         \u001b[0mloc\u001b[0m \u001b[0;34m=\u001b[0m \u001b[0mself\u001b[0m\u001b[0;34m.\u001b[0m\u001b[0mindex\u001b[0m\u001b[0;34m.\u001b[0m\u001b[0mget_loc\u001b[0m\u001b[0;34m(\u001b[0m\u001b[0mlabel\u001b[0m\u001b[0;34m)\u001b[0m\u001b[0;34m\u001b[0m\u001b[0;34m\u001b[0m\u001b[0m\n\u001b[0m\u001b[1;32m   1090\u001b[0m         \u001b[0;32mreturn\u001b[0m \u001b[0mself\u001b[0m\u001b[0;34m.\u001b[0m\u001b[0mindex\u001b[0m\u001b[0;34m.\u001b[0m\u001b[0m_get_values_for_loc\u001b[0m\u001b[0;34m(\u001b[0m\u001b[0mself\u001b[0m\u001b[0;34m,\u001b[0m \u001b[0mloc\u001b[0m\u001b[0;34m,\u001b[0m \u001b[0mlabel\u001b[0m\u001b[0;34m)\u001b[0m\u001b[0;34m\u001b[0m\u001b[0;34m\u001b[0m\u001b[0m\n\u001b[1;32m   1091\u001b[0m \u001b[0;34m\u001b[0m\u001b[0m\n",
            "\u001b[0;32m/usr/local/lib/python3.10/dist-packages/pandas/core/indexes/base.py\u001b[0m in \u001b[0;36mget_loc\u001b[0;34m(self, key, method, tolerance)\u001b[0m\n\u001b[1;32m   3802\u001b[0m                 \u001b[0;32mreturn\u001b[0m \u001b[0mself\u001b[0m\u001b[0;34m.\u001b[0m\u001b[0m_engine\u001b[0m\u001b[0;34m.\u001b[0m\u001b[0mget_loc\u001b[0m\u001b[0;34m(\u001b[0m\u001b[0mcasted_key\u001b[0m\u001b[0;34m)\u001b[0m\u001b[0;34m\u001b[0m\u001b[0;34m\u001b[0m\u001b[0m\n\u001b[1;32m   3803\u001b[0m             \u001b[0;32mexcept\u001b[0m \u001b[0mKeyError\u001b[0m \u001b[0;32mas\u001b[0m \u001b[0merr\u001b[0m\u001b[0;34m:\u001b[0m\u001b[0;34m\u001b[0m\u001b[0;34m\u001b[0m\u001b[0m\n\u001b[0;32m-> 3804\u001b[0;31m                 \u001b[0;32mraise\u001b[0m \u001b[0mKeyError\u001b[0m\u001b[0;34m(\u001b[0m\u001b[0mkey\u001b[0m\u001b[0;34m)\u001b[0m \u001b[0;32mfrom\u001b[0m \u001b[0merr\u001b[0m\u001b[0;34m\u001b[0m\u001b[0;34m\u001b[0m\u001b[0m\n\u001b[0m\u001b[1;32m   3805\u001b[0m             \u001b[0;32mexcept\u001b[0m \u001b[0mTypeError\u001b[0m\u001b[0;34m:\u001b[0m\u001b[0;34m\u001b[0m\u001b[0;34m\u001b[0m\u001b[0m\n\u001b[1;32m   3806\u001b[0m                 \u001b[0;31m# If we have a listlike key, _check_indexing_error will raise\u001b[0m\u001b[0;34m\u001b[0m\u001b[0;34m\u001b[0m\u001b[0m\n",
            "\u001b[0;31mKeyError\u001b[0m: 0"
          ]
        }
      ]
    },
    {
      "cell_type": "code",
      "source": [
        "# Загружаем датафрейм df_p\n",
        "import pandas as pd\n",
        "df_p = pd.DataFrame()\n",
        "my_dict = {}\n",
        "\n",
        "for index, row in df_p.iterrows():\n",
        "    my_dict[row[0]] = row[1]\n",
        "\n",
        "# Задаём список значений из колонки 0 для поиска\n",
        "list_col_0 = df.iloc[:, 0].tolist()\n",
        "\n",
        "# Импортируем датафрейм health_survey\n",
        "df_edit = pd.DataFrame()\n",
        "\n",
        "# Создаём список индексов, в которых происходит вхождение слов из списка колонки 0 из df_p\n",
        "index_list = []\n",
        "for i in range(len(df_edit)):\n",
        "    if any(word in df_edit['Профессия'][i] for word in list_col_0):\n",
        "        index_list.append(i)\n",
        "\n",
        "# Присваиваем статус ключа значениям колонки 'Профессия', указанным в полученном списке индексов\n",
        "df_edit.loc[index_list, 'Профессия'] = my_dict{:, 0}\n",
        "\n",
        "# Создаём колонку 'класс безопасности' и заполняем её нулями\n",
        "df_edit.insert(2, 'класс безопасности', 0)\n",
        "\n",
        "# Присваиваем статус ключа значениям колонки 'класс безопасности', указанным в полученном списке индексов\n",
        "df_edit.loc[index_list, 'класс безопасности'] = my_dict{:, 1}\n"
      ],
      "metadata": {
        "colab": {
          "base_uri": "https://localhost:8080/",
          "height": 130
        },
        "id": "29Pv7_EuR4ri",
        "outputId": "22f8366f-3ffc-4c10-b60c-e4d5f6db5345"
      },
      "execution_count": null,
      "outputs": [
        {
          "output_type": "error",
          "ename": "SyntaxError",
          "evalue": "ignored",
          "traceback": [
            "\u001b[0;36m  File \u001b[0;32m\"<ipython-input-64-73efda192d88>\"\u001b[0;36m, line \u001b[0;32m22\u001b[0m\n\u001b[0;31m    df_edit.loc[index_list, 'Профессия'] = my_dict{0,:}\u001b[0m\n\u001b[0m                                                  ^\u001b[0m\n\u001b[0;31mSyntaxError\u001b[0m\u001b[0;31m:\u001b[0m invalid syntax\n"
          ]
        }
      ]
    },
    {
      "cell_type": "code",
      "source": [
        "health_survey.loc[index_list, 'Профессия'] = 'active'\n"
      ],
      "metadata": {
        "id": "WoBmO3KtZ6Cm"
      },
      "execution_count": null,
      "outputs": []
    },
    {
      "cell_type": "code",
      "source": [
        "# Создание словаря\n",
        "dic = {df_p.iloc[i,0]: df_p.iloc[i,1] for i in range(len(df_p))}"
      ],
      "metadata": {
        "id": "Va7-5Q0r2ihy"
      },
      "execution_count": null,
      "outputs": []
    },
    {
      "cell_type": "code",
      "source": [
        "# создание списка слов из колонки 0 датафрейма df_p\n",
        "words = list(df_p['0'])\n",
        "\n",
        "# выборка индексов ячеек строк в значениях которых есть слова, соответствующие словам из колонки 0 из df_p\n",
        "indices = []\n",
        "for index, row in health_survey.iterrows():\n",
        "    if any(word in row['Профессия'] for word in words):\n",
        "        indices.append(index)\n",
        "\n",
        "# создание словаря my_dict, используя первую колонку как ключ и вторую как значение\n",
        "my_dict = dict(zip(df_p.iloc[:,0], df_p.iloc[:,1]))\n",
        "\n",
        "# присвоение\n"
      ],
      "metadata": {
        "colab": {
          "base_uri": "https://localhost:8080/",
          "height": 501
        },
        "id": "2CVRvZ4FYTjd",
        "outputId": "840311af-ee80-45fc-92e4-123331f576d7"
      },
      "execution_count": null,
      "outputs": [
        {
          "output_type": "error",
          "ename": "KeyError",
          "evalue": "ignored",
          "traceback": [
            "\u001b[0;31m---------------------------------------------------------------------------\u001b[0m",
            "\u001b[0;31mKeyError\u001b[0m                                  Traceback (most recent call last)",
            "\u001b[0;32m/usr/local/lib/python3.10/dist-packages/pandas/core/indexes/base.py\u001b[0m in \u001b[0;36mget_loc\u001b[0;34m(self, key, method, tolerance)\u001b[0m\n\u001b[1;32m   3801\u001b[0m             \u001b[0;32mtry\u001b[0m\u001b[0;34m:\u001b[0m\u001b[0;34m\u001b[0m\u001b[0;34m\u001b[0m\u001b[0m\n\u001b[0;32m-> 3802\u001b[0;31m                 \u001b[0;32mreturn\u001b[0m \u001b[0mself\u001b[0m\u001b[0;34m.\u001b[0m\u001b[0m_engine\u001b[0m\u001b[0;34m.\u001b[0m\u001b[0mget_loc\u001b[0m\u001b[0;34m(\u001b[0m\u001b[0mcasted_key\u001b[0m\u001b[0;34m)\u001b[0m\u001b[0;34m\u001b[0m\u001b[0;34m\u001b[0m\u001b[0m\n\u001b[0m\u001b[1;32m   3803\u001b[0m             \u001b[0;32mexcept\u001b[0m \u001b[0mKeyError\u001b[0m \u001b[0;32mas\u001b[0m \u001b[0merr\u001b[0m\u001b[0;34m:\u001b[0m\u001b[0;34m\u001b[0m\u001b[0;34m\u001b[0m\u001b[0m\n",
            "\u001b[0;32m/usr/local/lib/python3.10/dist-packages/pandas/_libs/index.pyx\u001b[0m in \u001b[0;36mpandas._libs.index.IndexEngine.get_loc\u001b[0;34m()\u001b[0m\n",
            "\u001b[0;32m/usr/local/lib/python3.10/dist-packages/pandas/_libs/index.pyx\u001b[0m in \u001b[0;36mpandas._libs.index.IndexEngine.get_loc\u001b[0;34m()\u001b[0m\n",
            "\u001b[0;32mpandas/_libs/hashtable_class_helper.pxi\u001b[0m in \u001b[0;36mpandas._libs.hashtable.PyObjectHashTable.get_item\u001b[0;34m()\u001b[0m\n",
            "\u001b[0;32mpandas/_libs/hashtable_class_helper.pxi\u001b[0m in \u001b[0;36mpandas._libs.hashtable.PyObjectHashTable.get_item\u001b[0;34m()\u001b[0m\n",
            "\u001b[0;31mKeyError\u001b[0m: '0'",
            "\nThe above exception was the direct cause of the following exception:\n",
            "\u001b[0;31mKeyError\u001b[0m                                  Traceback (most recent call last)",
            "\u001b[0;32m<ipython-input-37-4c2d636a62ec>\u001b[0m in \u001b[0;36m<cell line: 2>\u001b[0;34m()\u001b[0m\n\u001b[1;32m      1\u001b[0m \u001b[0;31m# создание списка слов из колонки 0 датафрейма df_p\u001b[0m\u001b[0;34m\u001b[0m\u001b[0;34m\u001b[0m\u001b[0m\n\u001b[0;32m----> 2\u001b[0;31m \u001b[0mwords\u001b[0m \u001b[0;34m=\u001b[0m \u001b[0mlist\u001b[0m\u001b[0;34m(\u001b[0m\u001b[0mdf_p\u001b[0m\u001b[0;34m[\u001b[0m\u001b[0;34m'0'\u001b[0m\u001b[0;34m]\u001b[0m\u001b[0;34m)\u001b[0m\u001b[0;34m\u001b[0m\u001b[0;34m\u001b[0m\u001b[0m\n\u001b[0m\u001b[1;32m      3\u001b[0m \u001b[0;34m\u001b[0m\u001b[0m\n\u001b[1;32m      4\u001b[0m \u001b[0;31m# выборка индексов ячеек строк в значениях которых есть слова, соответствующие словам из колонки 0 из df_p\u001b[0m\u001b[0;34m\u001b[0m\u001b[0;34m\u001b[0m\u001b[0m\n\u001b[1;32m      5\u001b[0m \u001b[0mindices\u001b[0m \u001b[0;34m=\u001b[0m \u001b[0;34m[\u001b[0m\u001b[0;34m]\u001b[0m\u001b[0;34m\u001b[0m\u001b[0;34m\u001b[0m\u001b[0m\n",
            "\u001b[0;32m/usr/local/lib/python3.10/dist-packages/pandas/core/frame.py\u001b[0m in \u001b[0;36m__getitem__\u001b[0;34m(self, key)\u001b[0m\n\u001b[1;32m   3805\u001b[0m             \u001b[0;32mif\u001b[0m \u001b[0mself\u001b[0m\u001b[0;34m.\u001b[0m\u001b[0mcolumns\u001b[0m\u001b[0;34m.\u001b[0m\u001b[0mnlevels\u001b[0m \u001b[0;34m>\u001b[0m \u001b[0;36m1\u001b[0m\u001b[0;34m:\u001b[0m\u001b[0;34m\u001b[0m\u001b[0;34m\u001b[0m\u001b[0m\n\u001b[1;32m   3806\u001b[0m                 \u001b[0;32mreturn\u001b[0m \u001b[0mself\u001b[0m\u001b[0;34m.\u001b[0m\u001b[0m_getitem_multilevel\u001b[0m\u001b[0;34m(\u001b[0m\u001b[0mkey\u001b[0m\u001b[0;34m)\u001b[0m\u001b[0;34m\u001b[0m\u001b[0;34m\u001b[0m\u001b[0m\n\u001b[0;32m-> 3807\u001b[0;31m             \u001b[0mindexer\u001b[0m \u001b[0;34m=\u001b[0m \u001b[0mself\u001b[0m\u001b[0;34m.\u001b[0m\u001b[0mcolumns\u001b[0m\u001b[0;34m.\u001b[0m\u001b[0mget_loc\u001b[0m\u001b[0;34m(\u001b[0m\u001b[0mkey\u001b[0m\u001b[0;34m)\u001b[0m\u001b[0;34m\u001b[0m\u001b[0;34m\u001b[0m\u001b[0m\n\u001b[0m\u001b[1;32m   3808\u001b[0m             \u001b[0;32mif\u001b[0m \u001b[0mis_integer\u001b[0m\u001b[0;34m(\u001b[0m\u001b[0mindexer\u001b[0m\u001b[0;34m)\u001b[0m\u001b[0;34m:\u001b[0m\u001b[0;34m\u001b[0m\u001b[0;34m\u001b[0m\u001b[0m\n\u001b[1;32m   3809\u001b[0m                 \u001b[0mindexer\u001b[0m \u001b[0;34m=\u001b[0m \u001b[0;34m[\u001b[0m\u001b[0mindexer\u001b[0m\u001b[0;34m]\u001b[0m\u001b[0;34m\u001b[0m\u001b[0;34m\u001b[0m\u001b[0m\n",
            "\u001b[0;32m/usr/local/lib/python3.10/dist-packages/pandas/core/indexes/base.py\u001b[0m in \u001b[0;36mget_loc\u001b[0;34m(self, key, method, tolerance)\u001b[0m\n\u001b[1;32m   3802\u001b[0m                 \u001b[0;32mreturn\u001b[0m \u001b[0mself\u001b[0m\u001b[0;34m.\u001b[0m\u001b[0m_engine\u001b[0m\u001b[0;34m.\u001b[0m\u001b[0mget_loc\u001b[0m\u001b[0;34m(\u001b[0m\u001b[0mcasted_key\u001b[0m\u001b[0;34m)\u001b[0m\u001b[0;34m\u001b[0m\u001b[0;34m\u001b[0m\u001b[0m\n\u001b[1;32m   3803\u001b[0m             \u001b[0;32mexcept\u001b[0m \u001b[0mKeyError\u001b[0m \u001b[0;32mas\u001b[0m \u001b[0merr\u001b[0m\u001b[0;34m:\u001b[0m\u001b[0;34m\u001b[0m\u001b[0;34m\u001b[0m\u001b[0m\n\u001b[0;32m-> 3804\u001b[0;31m                 \u001b[0;32mraise\u001b[0m \u001b[0mKeyError\u001b[0m\u001b[0;34m(\u001b[0m\u001b[0mkey\u001b[0m\u001b[0;34m)\u001b[0m \u001b[0;32mfrom\u001b[0m \u001b[0merr\u001b[0m\u001b[0;34m\u001b[0m\u001b[0;34m\u001b[0m\u001b[0m\n\u001b[0m\u001b[1;32m   3805\u001b[0m             \u001b[0;32mexcept\u001b[0m \u001b[0mTypeError\u001b[0m\u001b[0;34m:\u001b[0m\u001b[0;34m\u001b[0m\u001b[0;34m\u001b[0m\u001b[0m\n\u001b[1;32m   3806\u001b[0m                 \u001b[0;31m# If we have a listlike key, _check_indexing_error will raise\u001b[0m\u001b[0;34m\u001b[0m\u001b[0;34m\u001b[0m\u001b[0m\n",
            "\u001b[0;31mKeyError\u001b[0m: '0'"
          ]
        }
      ]
    },
    {
      "cell_type": "code",
      "source": [
        "my_dict = dict(zip(df_p.iloc[:, 0], df_p.iloc[:, 1]))\n",
        "\n",
        "for index, row in health_survey.iterrows():\n",
        "    professions = row['Профессия'].split()\n",
        "    matching_indexes = [i for i, word in enumerate(professions) if any(key in word for key in my_dict.keys())]\n",
        "    for i in matching_indexes:\n",
        "        health_survey.at[index, 'статус'] = my_dict.get(professions[i])\n",
        "\n",
        "health_survey['класс безопасности'] = [my_dict.get(job, 'Unknown') for job in health_survey['Профессия']]\n"
      ],
      "metadata": {
        "id": "jfiataOlothe"
      },
      "execution_count": null,
      "outputs": []
    },
    {
      "cell_type": "code",
      "source": [
        "health_survey"
      ],
      "metadata": {
        "id": "cjxUqv4fo1Jp"
      },
      "execution_count": null,
      "outputs": []
    },
    {
      "cell_type": "code",
      "source": [
        "# создаем пустой словарь \"my_dict\"\n",
        "my_dict = {}\n",
        "\n",
        "# проходимся по всем строкам в датафрейме \"df_p\"\n",
        "for index, row in df_p.iterrows():\n",
        "    # добавляем первую колонку в качестве ключа и вторую колонку в качестве значения словаря\n",
        "    my_dict[row[0]] = row[1]\n",
        "\n",
        "for index, row in health_survey.iterrows():\n",
        "    professions = row['Профессия'].split()\n",
        "    matching_indexes = [i for i, word in enumerate(professions) if any(key in word for key in my_dict.keys())]\n",
        "    for i in matching_indexes:\n",
        "        health_survey.at[index, 'статус'] = my_dict.get(professions[i])\n",
        "\n",
        "\n",
        "# создаем новую колонку \"класс безопасности\" в датафрейме \"health_survey\" и заполняем ее значениями из словаря в соответствии с ключами из колонки \"Профессия\"\n",
        "health_survey[2,'класс безопасности'] = \"\"\n",
        "for index, row in health_survey.iterrows():\n",
        "    if index in indexes:\n",
        "        # присваиваем значение соответствующего ключа из словаря \"my_dict\"\n",
        "        health_survey.at[index, 'класс безопасности'] = my_dict[row['Профессия']]"
      ],
      "metadata": {
        "id": "XDtY2m0TfnXE",
        "colab": {
          "base_uri": "https://localhost:8080/",
          "height": 234
        },
        "outputId": "02b6cb3d-7649-4596-bd5c-6a697150e570"
      },
      "execution_count": null,
      "outputs": [
        {
          "output_type": "error",
          "ename": "NameError",
          "evalue": "ignored",
          "traceback": [
            "\u001b[0;31m---------------------------------------------------------------------------\u001b[0m",
            "\u001b[0;31mNameError\u001b[0m                                 Traceback (most recent call last)",
            "\u001b[0;32m<ipython-input-18-045bce47fe14>\u001b[0m in \u001b[0;36m<cell line: 18>\u001b[0;34m()\u001b[0m\n\u001b[1;32m     17\u001b[0m \u001b[0mhealth_survey\u001b[0m\u001b[0;34m[\u001b[0m\u001b[0;36m2\u001b[0m\u001b[0;34m,\u001b[0m\u001b[0;34m'класс безопасности'\u001b[0m\u001b[0;34m]\u001b[0m \u001b[0;34m=\u001b[0m \u001b[0;34m\"\"\u001b[0m\u001b[0;34m\u001b[0m\u001b[0;34m\u001b[0m\u001b[0m\n\u001b[1;32m     18\u001b[0m \u001b[0;32mfor\u001b[0m \u001b[0mindex\u001b[0m\u001b[0;34m,\u001b[0m \u001b[0mrow\u001b[0m \u001b[0;32min\u001b[0m \u001b[0mhealth_survey\u001b[0m\u001b[0;34m.\u001b[0m\u001b[0miterrows\u001b[0m\u001b[0;34m(\u001b[0m\u001b[0;34m)\u001b[0m\u001b[0;34m:\u001b[0m\u001b[0;34m\u001b[0m\u001b[0;34m\u001b[0m\u001b[0m\n\u001b[0;32m---> 19\u001b[0;31m     \u001b[0;32mif\u001b[0m \u001b[0mindex\u001b[0m \u001b[0;32min\u001b[0m \u001b[0mindexes\u001b[0m\u001b[0;34m:\u001b[0m\u001b[0;34m\u001b[0m\u001b[0;34m\u001b[0m\u001b[0m\n\u001b[0m\u001b[1;32m     20\u001b[0m         \u001b[0;31m# присваиваем значение соответствующего ключа из словаря \"my_dict\"\u001b[0m\u001b[0;34m\u001b[0m\u001b[0;34m\u001b[0m\u001b[0m\n\u001b[1;32m     21\u001b[0m         \u001b[0mhealth_survey\u001b[0m\u001b[0;34m.\u001b[0m\u001b[0mat\u001b[0m\u001b[0;34m[\u001b[0m\u001b[0mindex\u001b[0m\u001b[0;34m,\u001b[0m \u001b[0;34m'класс безопасности'\u001b[0m\u001b[0;34m]\u001b[0m \u001b[0;34m=\u001b[0m \u001b[0mmy_dict\u001b[0m\u001b[0;34m[\u001b[0m\u001b[0mrow\u001b[0m\u001b[0;34m[\u001b[0m\u001b[0;34m'Профессия'\u001b[0m\u001b[0;34m]\u001b[0m\u001b[0;34m]\u001b[0m\u001b[0;34m\u001b[0m\u001b[0;34m\u001b[0m\u001b[0m\n",
            "\u001b[0;31mNameError\u001b[0m: name 'indexes' is not defined"
          ]
        }
      ]
    },
    {
      "cell_type": "code",
      "source": [
        "# создаем пустой словарь \"my_dict\"\n",
        "my_dict = {}\n",
        "\n",
        "# проходимся по всем строкам в датафрейме \"df_p\"\n",
        "for index, row in df_p.iterrows():\n",
        "    # добавляем первую колонку в качестве ключа и вторую колонку в качестве значения словаря\n",
        "    my_dict[row[0]] = row[1]\n",
        "\n",
        "# создаем список для индексов строк в колонке \"Профессия\", где есть вхождения из колонки 0 в \"df_p\"\n",
        "indexes = []\n",
        "for index, row in health_survey.iterrows():\n",
        "    for word in df_p[0]:\n",
        "        if word in row['Профессия']:\n",
        "            # добавляем индекс строки в список\n",
        "            indexes.append(index)\n",
        "\n",
        "# создаем новую колонку \"класс безопасности\" в датафрейме \"health_survey\" и заполняем ее значениями из словаря в соответствии с ключами из колонки \"Профессия\"\n",
        "health_survey['класс безопасности'] = \"\"\n",
        "for index, row in health_survey.iterrows():\n",
        "    if index in indexes:\n",
        "        # присваиваем значение соответствующего ключа из словаря \"my_dict\"\n",
        "        health_survey.at[index, 'класс безопасности'] = my_dict[row['Профессия']]\n"
      ],
      "metadata": {
        "colab": {
          "base_uri": "https://localhost:8080/",
          "height": 501
        },
        "id": "HkYQwE97bOWc",
        "outputId": "b53915e9-4594-4b1d-ed93-e282409bedbe"
      },
      "execution_count": null,
      "outputs": [
        {
          "output_type": "error",
          "ename": "KeyError",
          "evalue": "ignored",
          "traceback": [
            "\u001b[0;31m---------------------------------------------------------------------------\u001b[0m",
            "\u001b[0;31mKeyError\u001b[0m                                  Traceback (most recent call last)",
            "\u001b[0;32m/usr/local/lib/python3.10/dist-packages/pandas/core/indexes/base.py\u001b[0m in \u001b[0;36mget_loc\u001b[0;34m(self, key, method, tolerance)\u001b[0m\n\u001b[1;32m   3801\u001b[0m             \u001b[0;32mtry\u001b[0m\u001b[0;34m:\u001b[0m\u001b[0;34m\u001b[0m\u001b[0;34m\u001b[0m\u001b[0m\n\u001b[0;32m-> 3802\u001b[0;31m                 \u001b[0;32mreturn\u001b[0m \u001b[0mself\u001b[0m\u001b[0;34m.\u001b[0m\u001b[0m_engine\u001b[0m\u001b[0;34m.\u001b[0m\u001b[0mget_loc\u001b[0m\u001b[0;34m(\u001b[0m\u001b[0mcasted_key\u001b[0m\u001b[0;34m)\u001b[0m\u001b[0;34m\u001b[0m\u001b[0;34m\u001b[0m\u001b[0m\n\u001b[0m\u001b[1;32m   3803\u001b[0m             \u001b[0;32mexcept\u001b[0m \u001b[0mKeyError\u001b[0m \u001b[0;32mas\u001b[0m \u001b[0merr\u001b[0m\u001b[0;34m:\u001b[0m\u001b[0;34m\u001b[0m\u001b[0;34m\u001b[0m\u001b[0m\n",
            "\u001b[0;32m/usr/local/lib/python3.10/dist-packages/pandas/_libs/index.pyx\u001b[0m in \u001b[0;36mpandas._libs.index.IndexEngine.get_loc\u001b[0;34m()\u001b[0m\n",
            "\u001b[0;32m/usr/local/lib/python3.10/dist-packages/pandas/_libs/index.pyx\u001b[0m in \u001b[0;36mpandas._libs.index.IndexEngine.get_loc\u001b[0;34m()\u001b[0m\n",
            "\u001b[0;32mpandas/_libs/hashtable_class_helper.pxi\u001b[0m in \u001b[0;36mpandas._libs.hashtable.PyObjectHashTable.get_item\u001b[0;34m()\u001b[0m\n",
            "\u001b[0;32mpandas/_libs/hashtable_class_helper.pxi\u001b[0m in \u001b[0;36mpandas._libs.hashtable.PyObjectHashTable.get_item\u001b[0;34m()\u001b[0m\n",
            "\u001b[0;31mKeyError\u001b[0m: 0",
            "\nThe above exception was the direct cause of the following exception:\n",
            "\u001b[0;31mKeyError\u001b[0m                                  Traceback (most recent call last)",
            "\u001b[0;32m<ipython-input-67-61c29582ced3>\u001b[0m in \u001b[0;36m<cell line: 11>\u001b[0;34m()\u001b[0m\n\u001b[1;32m     10\u001b[0m \u001b[0mindexes\u001b[0m \u001b[0;34m=\u001b[0m \u001b[0;34m[\u001b[0m\u001b[0;34m]\u001b[0m\u001b[0;34m\u001b[0m\u001b[0;34m\u001b[0m\u001b[0m\n\u001b[1;32m     11\u001b[0m \u001b[0;32mfor\u001b[0m \u001b[0mindex\u001b[0m\u001b[0;34m,\u001b[0m \u001b[0mrow\u001b[0m \u001b[0;32min\u001b[0m \u001b[0mhealth_survey\u001b[0m\u001b[0;34m.\u001b[0m\u001b[0miterrows\u001b[0m\u001b[0;34m(\u001b[0m\u001b[0;34m)\u001b[0m\u001b[0;34m:\u001b[0m\u001b[0;34m\u001b[0m\u001b[0;34m\u001b[0m\u001b[0m\n\u001b[0;32m---> 12\u001b[0;31m     \u001b[0;32mfor\u001b[0m \u001b[0mword\u001b[0m \u001b[0;32min\u001b[0m \u001b[0mdf_p\u001b[0m\u001b[0;34m[\u001b[0m\u001b[0;36m0\u001b[0m\u001b[0;34m]\u001b[0m\u001b[0;34m:\u001b[0m\u001b[0;34m\u001b[0m\u001b[0;34m\u001b[0m\u001b[0m\n\u001b[0m\u001b[1;32m     13\u001b[0m         \u001b[0;32mif\u001b[0m \u001b[0mword\u001b[0m \u001b[0;32min\u001b[0m \u001b[0mrow\u001b[0m\u001b[0;34m[\u001b[0m\u001b[0;34m'Профессия'\u001b[0m\u001b[0;34m]\u001b[0m\u001b[0;34m:\u001b[0m\u001b[0;34m\u001b[0m\u001b[0;34m\u001b[0m\u001b[0m\n\u001b[1;32m     14\u001b[0m             \u001b[0;31m# добавляем индекс строки в список\u001b[0m\u001b[0;34m\u001b[0m\u001b[0;34m\u001b[0m\u001b[0m\n",
            "\u001b[0;32m/usr/local/lib/python3.10/dist-packages/pandas/core/frame.py\u001b[0m in \u001b[0;36m__getitem__\u001b[0;34m(self, key)\u001b[0m\n\u001b[1;32m   3805\u001b[0m             \u001b[0;32mif\u001b[0m \u001b[0mself\u001b[0m\u001b[0;34m.\u001b[0m\u001b[0mcolumns\u001b[0m\u001b[0;34m.\u001b[0m\u001b[0mnlevels\u001b[0m \u001b[0;34m>\u001b[0m \u001b[0;36m1\u001b[0m\u001b[0;34m:\u001b[0m\u001b[0;34m\u001b[0m\u001b[0;34m\u001b[0m\u001b[0m\n\u001b[1;32m   3806\u001b[0m                 \u001b[0;32mreturn\u001b[0m \u001b[0mself\u001b[0m\u001b[0;34m.\u001b[0m\u001b[0m_getitem_multilevel\u001b[0m\u001b[0;34m(\u001b[0m\u001b[0mkey\u001b[0m\u001b[0;34m)\u001b[0m\u001b[0;34m\u001b[0m\u001b[0;34m\u001b[0m\u001b[0m\n\u001b[0;32m-> 3807\u001b[0;31m             \u001b[0mindexer\u001b[0m \u001b[0;34m=\u001b[0m \u001b[0mself\u001b[0m\u001b[0;34m.\u001b[0m\u001b[0mcolumns\u001b[0m\u001b[0;34m.\u001b[0m\u001b[0mget_loc\u001b[0m\u001b[0;34m(\u001b[0m\u001b[0mkey\u001b[0m\u001b[0;34m)\u001b[0m\u001b[0;34m\u001b[0m\u001b[0;34m\u001b[0m\u001b[0m\n\u001b[0m\u001b[1;32m   3808\u001b[0m             \u001b[0;32mif\u001b[0m \u001b[0mis_integer\u001b[0m\u001b[0;34m(\u001b[0m\u001b[0mindexer\u001b[0m\u001b[0;34m)\u001b[0m\u001b[0;34m:\u001b[0m\u001b[0;34m\u001b[0m\u001b[0;34m\u001b[0m\u001b[0m\n\u001b[1;32m   3809\u001b[0m                 \u001b[0mindexer\u001b[0m \u001b[0;34m=\u001b[0m \u001b[0;34m[\u001b[0m\u001b[0mindexer\u001b[0m\u001b[0;34m]\u001b[0m\u001b[0;34m\u001b[0m\u001b[0;34m\u001b[0m\u001b[0m\n",
            "\u001b[0;32m/usr/local/lib/python3.10/dist-packages/pandas/core/indexes/base.py\u001b[0m in \u001b[0;36mget_loc\u001b[0;34m(self, key, method, tolerance)\u001b[0m\n\u001b[1;32m   3802\u001b[0m                 \u001b[0;32mreturn\u001b[0m \u001b[0mself\u001b[0m\u001b[0;34m.\u001b[0m\u001b[0m_engine\u001b[0m\u001b[0;34m.\u001b[0m\u001b[0mget_loc\u001b[0m\u001b[0;34m(\u001b[0m\u001b[0mcasted_key\u001b[0m\u001b[0;34m)\u001b[0m\u001b[0;34m\u001b[0m\u001b[0;34m\u001b[0m\u001b[0m\n\u001b[1;32m   3803\u001b[0m             \u001b[0;32mexcept\u001b[0m \u001b[0mKeyError\u001b[0m \u001b[0;32mas\u001b[0m \u001b[0merr\u001b[0m\u001b[0;34m:\u001b[0m\u001b[0;34m\u001b[0m\u001b[0;34m\u001b[0m\u001b[0m\n\u001b[0;32m-> 3804\u001b[0;31m                 \u001b[0;32mraise\u001b[0m \u001b[0mKeyError\u001b[0m\u001b[0;34m(\u001b[0m\u001b[0mkey\u001b[0m\u001b[0;34m)\u001b[0m \u001b[0;32mfrom\u001b[0m \u001b[0merr\u001b[0m\u001b[0;34m\u001b[0m\u001b[0;34m\u001b[0m\u001b[0m\n\u001b[0m\u001b[1;32m   3805\u001b[0m             \u001b[0;32mexcept\u001b[0m \u001b[0mTypeError\u001b[0m\u001b[0;34m:\u001b[0m\u001b[0;34m\u001b[0m\u001b[0;34m\u001b[0m\u001b[0m\n\u001b[1;32m   3806\u001b[0m                 \u001b[0;31m# If we have a listlike key, _check_indexing_error will raise\u001b[0m\u001b[0;34m\u001b[0m\u001b[0;34m\u001b[0m\u001b[0m\n",
            "\u001b[0;31mKeyError\u001b[0m: 0"
          ]
        }
      ]
    },
    {
      "cell_type": "code",
      "source": [
        "# Создание словаря\n",
        "dic = {df_p.iloc[i,0]: df_p.iloc[i,1] for i in range(len(df_p))}\n",
        "\n",
        "# Прохождение по колонке 'Профессия' в 'health_survey' и присвоение статуса ключа\n",
        "for i in range(len(health_survey)):\n",
        "    for j in range(len(df_p)):\n",
        "        if df_p.iloc[j,0] in health_survey.loc[i,'Профессия']:\n",
        "            health_survey.loc[i,'Статус'] = dic[df_p.iloc[j,0]]\n",
        "\n",
        "# Создание колонки 'класс безопасности' и заполнение значений из словаря\n",
        "health_survey.insert(2, 'Класс безопасности', '')\n",
        "for i in range(len(health_survey)):\n",
        "    if health_survey.loc[i,'Профессия'] in dic:\n",
        "        health_survey.loc[i,'Класс безопасности'] = dic[health_survey.loc[i,'Профессия']]\n"
      ],
      "metadata": {
        "id": "rH-Hjp11eDiS",
        "colab": {
          "base_uri": "https://localhost:8080/",
          "height": 432
        },
        "outputId": "bdfbefae-2941-4cba-b309-2f5de14b2f90"
      },
      "execution_count": null,
      "outputs": [
        {
          "output_type": "error",
          "ename": "KeyError",
          "evalue": "ignored",
          "traceback": [
            "\u001b[0;31m---------------------------------------------------------------------------\u001b[0m",
            "\u001b[0;31mKeyError\u001b[0m                                  Traceback (most recent call last)",
            "\u001b[0;32m/usr/local/lib/python3.10/dist-packages/pandas/core/indexes/base.py\u001b[0m in \u001b[0;36mget_loc\u001b[0;34m(self, key, method, tolerance)\u001b[0m\n\u001b[1;32m   3801\u001b[0m             \u001b[0;32mtry\u001b[0m\u001b[0;34m:\u001b[0m\u001b[0;34m\u001b[0m\u001b[0;34m\u001b[0m\u001b[0m\n\u001b[0;32m-> 3802\u001b[0;31m                 \u001b[0;32mreturn\u001b[0m \u001b[0mself\u001b[0m\u001b[0;34m.\u001b[0m\u001b[0m_engine\u001b[0m\u001b[0;34m.\u001b[0m\u001b[0mget_loc\u001b[0m\u001b[0;34m(\u001b[0m\u001b[0mcasted_key\u001b[0m\u001b[0;34m)\u001b[0m\u001b[0;34m\u001b[0m\u001b[0;34m\u001b[0m\u001b[0m\n\u001b[0m\u001b[1;32m   3803\u001b[0m             \u001b[0;32mexcept\u001b[0m \u001b[0mKeyError\u001b[0m \u001b[0;32mas\u001b[0m \u001b[0merr\u001b[0m\u001b[0;34m:\u001b[0m\u001b[0;34m\u001b[0m\u001b[0;34m\u001b[0m\u001b[0m\n",
            "\u001b[0;32m/usr/local/lib/python3.10/dist-packages/pandas/_libs/index.pyx\u001b[0m in \u001b[0;36mpandas._libs.index.IndexEngine.get_loc\u001b[0;34m()\u001b[0m\n",
            "\u001b[0;32m/usr/local/lib/python3.10/dist-packages/pandas/_libs/index.pyx\u001b[0m in \u001b[0;36mpandas._libs.index.IndexEngine.get_loc\u001b[0;34m()\u001b[0m\n",
            "\u001b[0;32m/usr/local/lib/python3.10/dist-packages/pandas/_libs/index.pyx\u001b[0m in \u001b[0;36mpandas._libs.index.IndexEngine._get_loc_duplicates\u001b[0;34m()\u001b[0m\n",
            "\u001b[0;32m/usr/local/lib/python3.10/dist-packages/pandas/_libs/index.pyx\u001b[0m in \u001b[0;36mpandas._libs.index.IndexEngine._maybe_get_bool_indexer\u001b[0;34m()\u001b[0m\n",
            "\u001b[0;32m/usr/local/lib/python3.10/dist-packages/pandas/_libs/index.pyx\u001b[0m in \u001b[0;36mpandas._libs.index._unpack_bool_indexer\u001b[0;34m()\u001b[0m\n",
            "\u001b[0;31mKeyError\u001b[0m: 0",
            "\nThe above exception was the direct cause of the following exception:\n",
            "\u001b[0;31mKeyError\u001b[0m                                  Traceback (most recent call last)",
            "\u001b[0;32m<ipython-input-23-96688971e290>\u001b[0m in \u001b[0;36m<cell line: 5>\u001b[0;34m()\u001b[0m\n\u001b[1;32m      5\u001b[0m \u001b[0;32mfor\u001b[0m \u001b[0mi\u001b[0m \u001b[0;32min\u001b[0m \u001b[0mrange\u001b[0m\u001b[0;34m(\u001b[0m\u001b[0mlen\u001b[0m\u001b[0;34m(\u001b[0m\u001b[0mhealth_survey\u001b[0m\u001b[0;34m)\u001b[0m\u001b[0;34m)\u001b[0m\u001b[0;34m:\u001b[0m\u001b[0;34m\u001b[0m\u001b[0;34m\u001b[0m\u001b[0m\n\u001b[1;32m      6\u001b[0m     \u001b[0;32mfor\u001b[0m \u001b[0mj\u001b[0m \u001b[0;32min\u001b[0m \u001b[0mrange\u001b[0m\u001b[0;34m(\u001b[0m\u001b[0mlen\u001b[0m\u001b[0;34m(\u001b[0m\u001b[0mdf_p\u001b[0m\u001b[0;34m)\u001b[0m\u001b[0;34m)\u001b[0m\u001b[0;34m:\u001b[0m\u001b[0;34m\u001b[0m\u001b[0;34m\u001b[0m\u001b[0m\n\u001b[0;32m----> 7\u001b[0;31m         \u001b[0;32mif\u001b[0m \u001b[0mdf_p\u001b[0m\u001b[0;34m.\u001b[0m\u001b[0miloc\u001b[0m\u001b[0;34m[\u001b[0m\u001b[0mj\u001b[0m\u001b[0;34m,\u001b[0m\u001b[0;36m0\u001b[0m\u001b[0;34m]\u001b[0m \u001b[0;32min\u001b[0m \u001b[0mhealth_survey\u001b[0m\u001b[0;34m.\u001b[0m\u001b[0mloc\u001b[0m\u001b[0;34m[\u001b[0m\u001b[0mi\u001b[0m\u001b[0;34m,\u001b[0m\u001b[0;34m'Профессия'\u001b[0m\u001b[0;34m]\u001b[0m\u001b[0;34m:\u001b[0m\u001b[0;34m\u001b[0m\u001b[0;34m\u001b[0m\u001b[0m\n\u001b[0m\u001b[1;32m      8\u001b[0m             \u001b[0mhealth_survey\u001b[0m\u001b[0;34m.\u001b[0m\u001b[0mloc\u001b[0m\u001b[0;34m[\u001b[0m\u001b[0mi\u001b[0m\u001b[0;34m,\u001b[0m\u001b[0;34m'Статус'\u001b[0m\u001b[0;34m]\u001b[0m \u001b[0;34m=\u001b[0m \u001b[0mdic\u001b[0m\u001b[0;34m[\u001b[0m\u001b[0mdf_p\u001b[0m\u001b[0;34m.\u001b[0m\u001b[0miloc\u001b[0m\u001b[0;34m[\u001b[0m\u001b[0mj\u001b[0m\u001b[0;34m,\u001b[0m\u001b[0;36m0\u001b[0m\u001b[0;34m]\u001b[0m\u001b[0;34m]\u001b[0m\u001b[0;34m\u001b[0m\u001b[0;34m\u001b[0m\u001b[0m\n\u001b[1;32m      9\u001b[0m \u001b[0;34m\u001b[0m\u001b[0m\n",
            "\u001b[0;32m/usr/local/lib/python3.10/dist-packages/pandas/core/indexing.py\u001b[0m in \u001b[0;36m__getitem__\u001b[0;34m(self, key)\u001b[0m\n\u001b[1;32m   1065\u001b[0m             \u001b[0;32mif\u001b[0m \u001b[0mself\u001b[0m\u001b[0;34m.\u001b[0m\u001b[0m_is_scalar_access\u001b[0m\u001b[0;34m(\u001b[0m\u001b[0mkey\u001b[0m\u001b[0;34m)\u001b[0m\u001b[0;34m:\u001b[0m\u001b[0;34m\u001b[0m\u001b[0;34m\u001b[0m\u001b[0m\n\u001b[1;32m   1066\u001b[0m                 \u001b[0;32mreturn\u001b[0m \u001b[0mself\u001b[0m\u001b[0;34m.\u001b[0m\u001b[0mobj\u001b[0m\u001b[0;34m.\u001b[0m\u001b[0m_get_value\u001b[0m\u001b[0;34m(\u001b[0m\u001b[0;34m*\u001b[0m\u001b[0mkey\u001b[0m\u001b[0;34m,\u001b[0m \u001b[0mtakeable\u001b[0m\u001b[0;34m=\u001b[0m\u001b[0mself\u001b[0m\u001b[0;34m.\u001b[0m\u001b[0m_takeable\u001b[0m\u001b[0;34m)\u001b[0m\u001b[0;34m\u001b[0m\u001b[0;34m\u001b[0m\u001b[0m\n\u001b[0;32m-> 1067\u001b[0;31m             \u001b[0;32mreturn\u001b[0m \u001b[0mself\u001b[0m\u001b[0;34m.\u001b[0m\u001b[0m_getitem_tuple\u001b[0m\u001b[0;34m(\u001b[0m\u001b[0mkey\u001b[0m\u001b[0;34m)\u001b[0m\u001b[0;34m\u001b[0m\u001b[0;34m\u001b[0m\u001b[0m\n\u001b[0m\u001b[1;32m   1068\u001b[0m         \u001b[0;32melse\u001b[0m\u001b[0;34m:\u001b[0m\u001b[0;34m\u001b[0m\u001b[0;34m\u001b[0m\u001b[0m\n\u001b[1;32m   1069\u001b[0m             \u001b[0;31m# we by definition only have the 0th axis\u001b[0m\u001b[0;34m\u001b[0m\u001b[0;34m\u001b[0m\u001b[0m\n",
            "\u001b[0;32m/usr/local/lib/python3.10/dist-packages/pandas/core/indexing.py\u001b[0m in \u001b[0;36m_getitem_tuple\u001b[0;34m(self, tup)\u001b[0m\n\u001b[1;32m   1245\u001b[0m         \u001b[0;32mwith\u001b[0m \u001b[0msuppress\u001b[0m\u001b[0;34m(\u001b[0m\u001b[0mIndexingError\u001b[0m\u001b[0;34m)\u001b[0m\u001b[0;34m:\u001b[0m\u001b[0;34m\u001b[0m\u001b[0;34m\u001b[0m\u001b[0m\n\u001b[1;32m   1246\u001b[0m             \u001b[0mtup\u001b[0m \u001b[0;34m=\u001b[0m \u001b[0mself\u001b[0m\u001b[0;34m.\u001b[0m\u001b[0m_expand_ellipsis\u001b[0m\u001b[0;34m(\u001b[0m\u001b[0mtup\u001b[0m\u001b[0;34m)\u001b[0m\u001b[0;34m\u001b[0m\u001b[0;34m\u001b[0m\u001b[0m\n\u001b[0;32m-> 1247\u001b[0;31m             \u001b[0;32mreturn\u001b[0m \u001b[0mself\u001b[0m\u001b[0;34m.\u001b[0m\u001b[0m_getitem_lowerdim\u001b[0m\u001b[0;34m(\u001b[0m\u001b[0mtup\u001b[0m\u001b[0;34m)\u001b[0m\u001b[0;34m\u001b[0m\u001b[0;34m\u001b[0m\u001b[0m\n\u001b[0m\u001b[1;32m   1248\u001b[0m \u001b[0;34m\u001b[0m\u001b[0m\n\u001b[1;32m   1249\u001b[0m         \u001b[0;31m# no multi-index, so validate all of the indexers\u001b[0m\u001b[0;34m\u001b[0m\u001b[0;34m\u001b[0m\u001b[0m\n",
            "\u001b[0;32m/usr/local/lib/python3.10/dist-packages/pandas/core/indexing.py\u001b[0m in \u001b[0;36m_getitem_lowerdim\u001b[0;34m(self, tup)\u001b[0m\n\u001b[1;32m    965\u001b[0m                 \u001b[0;31m# We don't need to check for tuples here because those are\u001b[0m\u001b[0;34m\u001b[0m\u001b[0;34m\u001b[0m\u001b[0m\n\u001b[1;32m    966\u001b[0m                 \u001b[0;31m#  caught by the _is_nested_tuple_indexer check above.\u001b[0m\u001b[0;34m\u001b[0m\u001b[0;34m\u001b[0m\u001b[0m\n\u001b[0;32m--> 967\u001b[0;31m                 \u001b[0msection\u001b[0m \u001b[0;34m=\u001b[0m \u001b[0mself\u001b[0m\u001b[0;34m.\u001b[0m\u001b[0m_getitem_axis\u001b[0m\u001b[0;34m(\u001b[0m\u001b[0mkey\u001b[0m\u001b[0;34m,\u001b[0m \u001b[0maxis\u001b[0m\u001b[0;34m=\u001b[0m\u001b[0mi\u001b[0m\u001b[0;34m)\u001b[0m\u001b[0;34m\u001b[0m\u001b[0;34m\u001b[0m\u001b[0m\n\u001b[0m\u001b[1;32m    968\u001b[0m \u001b[0;34m\u001b[0m\u001b[0m\n\u001b[1;32m    969\u001b[0m                 \u001b[0;31m# We should never have a scalar section here, because\u001b[0m\u001b[0;34m\u001b[0m\u001b[0;34m\u001b[0m\u001b[0m\n",
            "\u001b[0;32m/usr/local/lib/python3.10/dist-packages/pandas/core/indexing.py\u001b[0m in \u001b[0;36m_getitem_axis\u001b[0;34m(self, key, axis)\u001b[0m\n\u001b[1;32m   1310\u001b[0m         \u001b[0;31m# fall thru to straight lookup\u001b[0m\u001b[0;34m\u001b[0m\u001b[0;34m\u001b[0m\u001b[0m\n\u001b[1;32m   1311\u001b[0m         \u001b[0mself\u001b[0m\u001b[0;34m.\u001b[0m\u001b[0m_validate_key\u001b[0m\u001b[0;34m(\u001b[0m\u001b[0mkey\u001b[0m\u001b[0;34m,\u001b[0m \u001b[0maxis\u001b[0m\u001b[0;34m)\u001b[0m\u001b[0;34m\u001b[0m\u001b[0;34m\u001b[0m\u001b[0m\n\u001b[0;32m-> 1312\u001b[0;31m         \u001b[0;32mreturn\u001b[0m \u001b[0mself\u001b[0m\u001b[0;34m.\u001b[0m\u001b[0m_get_label\u001b[0m\u001b[0;34m(\u001b[0m\u001b[0mkey\u001b[0m\u001b[0;34m,\u001b[0m \u001b[0maxis\u001b[0m\u001b[0;34m=\u001b[0m\u001b[0maxis\u001b[0m\u001b[0;34m)\u001b[0m\u001b[0;34m\u001b[0m\u001b[0;34m\u001b[0m\u001b[0m\n\u001b[0m\u001b[1;32m   1313\u001b[0m \u001b[0;34m\u001b[0m\u001b[0m\n\u001b[1;32m   1314\u001b[0m     \u001b[0;32mdef\u001b[0m \u001b[0m_get_slice_axis\u001b[0m\u001b[0;34m(\u001b[0m\u001b[0mself\u001b[0m\u001b[0;34m,\u001b[0m \u001b[0mslice_obj\u001b[0m\u001b[0;34m:\u001b[0m \u001b[0mslice\u001b[0m\u001b[0;34m,\u001b[0m \u001b[0maxis\u001b[0m\u001b[0;34m:\u001b[0m \u001b[0mint\u001b[0m\u001b[0;34m)\u001b[0m\u001b[0;34m:\u001b[0m\u001b[0;34m\u001b[0m\u001b[0;34m\u001b[0m\u001b[0m\n",
            "\u001b[0;32m/usr/local/lib/python3.10/dist-packages/pandas/core/indexing.py\u001b[0m in \u001b[0;36m_get_label\u001b[0;34m(self, label, axis)\u001b[0m\n\u001b[1;32m   1258\u001b[0m     \u001b[0;32mdef\u001b[0m \u001b[0m_get_label\u001b[0m\u001b[0;34m(\u001b[0m\u001b[0mself\u001b[0m\u001b[0;34m,\u001b[0m \u001b[0mlabel\u001b[0m\u001b[0;34m,\u001b[0m \u001b[0maxis\u001b[0m\u001b[0;34m:\u001b[0m \u001b[0mint\u001b[0m\u001b[0;34m)\u001b[0m\u001b[0;34m:\u001b[0m\u001b[0;34m\u001b[0m\u001b[0;34m\u001b[0m\u001b[0m\n\u001b[1;32m   1259\u001b[0m         \u001b[0;31m# GH#5567 this will fail if the label is not present in the axis.\u001b[0m\u001b[0;34m\u001b[0m\u001b[0;34m\u001b[0m\u001b[0m\n\u001b[0;32m-> 1260\u001b[0;31m         \u001b[0;32mreturn\u001b[0m \u001b[0mself\u001b[0m\u001b[0;34m.\u001b[0m\u001b[0mobj\u001b[0m\u001b[0;34m.\u001b[0m\u001b[0mxs\u001b[0m\u001b[0;34m(\u001b[0m\u001b[0mlabel\u001b[0m\u001b[0;34m,\u001b[0m \u001b[0maxis\u001b[0m\u001b[0;34m=\u001b[0m\u001b[0maxis\u001b[0m\u001b[0;34m)\u001b[0m\u001b[0;34m\u001b[0m\u001b[0;34m\u001b[0m\u001b[0m\n\u001b[0m\u001b[1;32m   1261\u001b[0m \u001b[0;34m\u001b[0m\u001b[0m\n\u001b[1;32m   1262\u001b[0m     \u001b[0;32mdef\u001b[0m \u001b[0m_handle_lowerdim_multi_index_axis0\u001b[0m\u001b[0;34m(\u001b[0m\u001b[0mself\u001b[0m\u001b[0;34m,\u001b[0m \u001b[0mtup\u001b[0m\u001b[0;34m:\u001b[0m \u001b[0mtuple\u001b[0m\u001b[0;34m)\u001b[0m\u001b[0;34m:\u001b[0m\u001b[0;34m\u001b[0m\u001b[0;34m\u001b[0m\u001b[0m\n",
            "\u001b[0;32m/usr/local/lib/python3.10/dist-packages/pandas/core/generic.py\u001b[0m in \u001b[0;36mxs\u001b[0;34m(self, key, axis, level, drop_level)\u001b[0m\n\u001b[1;32m   4054\u001b[0m                     \u001b[0mnew_index\u001b[0m \u001b[0;34m=\u001b[0m \u001b[0mindex\u001b[0m\u001b[0;34m[\u001b[0m\u001b[0mloc\u001b[0m\u001b[0;34m]\u001b[0m\u001b[0;34m\u001b[0m\u001b[0;34m\u001b[0m\u001b[0m\n\u001b[1;32m   4055\u001b[0m         \u001b[0;32melse\u001b[0m\u001b[0;34m:\u001b[0m\u001b[0;34m\u001b[0m\u001b[0;34m\u001b[0m\u001b[0m\n\u001b[0;32m-> 4056\u001b[0;31m             \u001b[0mloc\u001b[0m \u001b[0;34m=\u001b[0m \u001b[0mindex\u001b[0m\u001b[0;34m.\u001b[0m\u001b[0mget_loc\u001b[0m\u001b[0;34m(\u001b[0m\u001b[0mkey\u001b[0m\u001b[0;34m)\u001b[0m\u001b[0;34m\u001b[0m\u001b[0;34m\u001b[0m\u001b[0m\n\u001b[0m\u001b[1;32m   4057\u001b[0m \u001b[0;34m\u001b[0m\u001b[0m\n\u001b[1;32m   4058\u001b[0m             \u001b[0;32mif\u001b[0m \u001b[0misinstance\u001b[0m\u001b[0;34m(\u001b[0m\u001b[0mloc\u001b[0m\u001b[0;34m,\u001b[0m \u001b[0mnp\u001b[0m\u001b[0;34m.\u001b[0m\u001b[0mndarray\u001b[0m\u001b[0;34m)\u001b[0m\u001b[0;34m:\u001b[0m\u001b[0;34m\u001b[0m\u001b[0;34m\u001b[0m\u001b[0m\n",
            "\u001b[0;32m/usr/local/lib/python3.10/dist-packages/pandas/core/indexes/base.py\u001b[0m in \u001b[0;36mget_loc\u001b[0;34m(self, key, method, tolerance)\u001b[0m\n\u001b[1;32m   3802\u001b[0m                 \u001b[0;32mreturn\u001b[0m \u001b[0mself\u001b[0m\u001b[0;34m.\u001b[0m\u001b[0m_engine\u001b[0m\u001b[0;34m.\u001b[0m\u001b[0mget_loc\u001b[0m\u001b[0;34m(\u001b[0m\u001b[0mcasted_key\u001b[0m\u001b[0;34m)\u001b[0m\u001b[0;34m\u001b[0m\u001b[0;34m\u001b[0m\u001b[0m\n\u001b[1;32m   3803\u001b[0m             \u001b[0;32mexcept\u001b[0m \u001b[0mKeyError\u001b[0m \u001b[0;32mas\u001b[0m \u001b[0merr\u001b[0m\u001b[0;34m:\u001b[0m\u001b[0;34m\u001b[0m\u001b[0;34m\u001b[0m\u001b[0m\n\u001b[0;32m-> 3804\u001b[0;31m                 \u001b[0;32mraise\u001b[0m \u001b[0mKeyError\u001b[0m\u001b[0;34m(\u001b[0m\u001b[0mkey\u001b[0m\u001b[0;34m)\u001b[0m \u001b[0;32mfrom\u001b[0m \u001b[0merr\u001b[0m\u001b[0;34m\u001b[0m\u001b[0;34m\u001b[0m\u001b[0m\n\u001b[0m\u001b[1;32m   3805\u001b[0m             \u001b[0;32mexcept\u001b[0m \u001b[0mTypeError\u001b[0m\u001b[0;34m:\u001b[0m\u001b[0;34m\u001b[0m\u001b[0;34m\u001b[0m\u001b[0m\n\u001b[1;32m   3806\u001b[0m                 \u001b[0;31m# If we have a listlike key, _check_indexing_error will raise\u001b[0m\u001b[0;34m\u001b[0m\u001b[0;34m\u001b[0m\u001b[0m\n",
            "\u001b[0;31mKeyError\u001b[0m: 0"
          ]
        }
      ]
    },
    {
      "cell_type": "code",
      "source": [
        "import pandas as pd\n",
        "\n",
        "# Создание словаря из датафрейма df_prof\n",
        "df_p = pd.DataFrame({'Ключ': df_p.iloc[:, 0], 'Значение': df_p.iloc[:, 1]})\n",
        "dictionary = dict(zip(df_p['Ключ'], df_p['Значение']))\n",
        "\n",
        "# Замена значений в колонке 'Профессия' датафрейма 'health_survey' на значения из словаря\n",
        "professions = health_survey['Профессия'].tolist()\n",
        "health_survey['Профессия'] = [dictionary.get(prof, prof) for prof in professions]\n",
        "\n",
        "# Создание колонки 'класс безопасности' и заполнение значениями из словаря\n",
        "health_survey['класс безопасности'] = [dictionary.get(prof, '') for prof in professions]\n",
        "\n",
        "health_survey.head(3)\n"
      ],
      "metadata": {
        "id": "pf93-xzj-HgF"
      },
      "execution_count": null,
      "outputs": []
    },
    {
      "cell_type": "code",
      "source": [
        "dictionary"
      ],
      "metadata": {
        "id": "6aEdrpnp_H7_"
      },
      "execution_count": null,
      "outputs": []
    },
    {
      "cell_type": "code",
      "source": [
        "# Создаем словарь из df_prof\n",
        "dictionary = dict(zip(df_p.iloc[:, 0], df_p.iloc[:, 1]))\n",
        "\n",
        "# Проходим по колонке 'Профессия' в 'health_survey' и заменяем значения на значения из списка ключей словаря\n",
        "for i, value in enumerate(health_survey['Профессия']):\n",
        "    for key in dictionary.keys():\n",
        "        if key in value:\n",
        "            health_survey.loc[i, 'Профессия'] = dictionary[key], inplace=True\n",
        "\n"
      ],
      "metadata": {
        "id": "p8G8aHG1OzAW"
      },
      "execution_count": null,
      "outputs": []
    },
    {
      "cell_type": "code",
      "source": [
        "health_survey.head(1)"
      ],
      "metadata": {
        "colab": {
          "base_uri": "https://localhost:8080/",
          "height": 275
        },
        "id": "W_hhgbBHQD4t",
        "outputId": "c5cc72df-6e2c-4a22-8a95-f7f55f64f19c"
      },
      "execution_count": null,
      "outputs": [
        {
          "output_type": "execute_result",
          "data": {
            "text/plain": [
              "                   КлиентПол                                  Профессия  \\\n",
              "КлиентДатаРождения                                                        \n",
              "1976                 Женский  Ведущий специалист по организации обуения   \n",
              "\n",
              "                   ВредныеФакторы  ПсихОсвидетельствование ЗаключениеМК  \\\n",
              "КлиентДатаРождения                                                        \n",
              "1976                         11.4                    False        Годен   \n",
              "\n",
              "                              ЗаключениеМКПредставление  \\\n",
              "КлиентДатаРождения                                        \n",
              "1976                Годен к работе в указанных условиях   \n",
              "\n",
              "                                             Заключение  \\\n",
              "КлиентДатаРождения                                        \n",
              "1976                Годен к работе в указанных условиях   \n",
              "\n",
              "                   Рентгенология1_Заключение_Значение  \\\n",
              "КлиентДатаРождения                                      \n",
              "1976                                    без патологий   \n",
              "\n",
              "                   Рентгенология1_Заключение_ЗначениеПредставление  \\\n",
              "КлиентДатаРождения                                                   \n",
              "1976                                                 без патологий   \n",
              "\n",
              "                   ПсихиатрияНаркология1_МКБ101  ... Психиатрия3_МКБ102  \\\n",
              "КлиентДатаРождения                               ...                      \n",
              "1976                                      Z00.0  ...         Нет данных   \n",
              "\n",
              "                   Психиатрия4_МКБ101 Психиатрия4_ПрофнепригодностьВременная1  \\\n",
              "КлиентДатаРождения                                                              \n",
              "1976                       Нет данных                              Нет данных   \n",
              "\n",
              "                   Психиатрия4_ПрофнепригодностьВременнаяПредставление1  \\\n",
              "КлиентДатаРождения                                                        \n",
              "1976                                                       Нет данных     \n",
              "\n",
              "                   Психиатрия4_МКБ102 Оториноларингология3_МКБ101  \\\n",
              "КлиентДатаРождения                                                  \n",
              "1976                       Нет данных                  Нет данных   \n",
              "\n",
              "                   Оториноларингология3_ПрофнепригодностьВременная1  \\\n",
              "КлиентДатаРождения                                                    \n",
              "1976                                                     Нет данных   \n",
              "\n",
              "                   Оториноларингология3_ПрофнепригодностьВременнаяПредставление1  \\\n",
              "КлиентДатаРождения                                                                 \n",
              "1976                                                       Нет данных              \n",
              "\n",
              "                   Оториноларингология1_ЖалобыДополнение_Значение  \\\n",
              "КлиентДатаРождения                                                  \n",
              "1976                                                   Нет данных   \n",
              "\n",
              "                   Оториноларингология1_ЖалобыДополнение_ЗначениеПредставление  \n",
              "КлиентДатаРождения                                                              \n",
              "1976                                                       Нет данных           \n",
              "\n",
              "[1 rows x 213 columns]"
            ],
            "text/html": [
              "\n",
              "  <div id=\"df-ade12230-3202-495c-92ea-6dd6ca98e75b\">\n",
              "    <div class=\"colab-df-container\">\n",
              "      <div>\n",
              "<style scoped>\n",
              "    .dataframe tbody tr th:only-of-type {\n",
              "        vertical-align: middle;\n",
              "    }\n",
              "\n",
              "    .dataframe tbody tr th {\n",
              "        vertical-align: top;\n",
              "    }\n",
              "\n",
              "    .dataframe thead th {\n",
              "        text-align: right;\n",
              "    }\n",
              "</style>\n",
              "<table border=\"1\" class=\"dataframe\">\n",
              "  <thead>\n",
              "    <tr style=\"text-align: right;\">\n",
              "      <th></th>\n",
              "      <th>КлиентПол</th>\n",
              "      <th>Профессия</th>\n",
              "      <th>ВредныеФакторы</th>\n",
              "      <th>ПсихОсвидетельствование</th>\n",
              "      <th>ЗаключениеМК</th>\n",
              "      <th>ЗаключениеМКПредставление</th>\n",
              "      <th>Заключение</th>\n",
              "      <th>Рентгенология1_Заключение_Значение</th>\n",
              "      <th>Рентгенология1_Заключение_ЗначениеПредставление</th>\n",
              "      <th>ПсихиатрияНаркология1_МКБ101</th>\n",
              "      <th>...</th>\n",
              "      <th>Психиатрия3_МКБ102</th>\n",
              "      <th>Психиатрия4_МКБ101</th>\n",
              "      <th>Психиатрия4_ПрофнепригодностьВременная1</th>\n",
              "      <th>Психиатрия4_ПрофнепригодностьВременнаяПредставление1</th>\n",
              "      <th>Психиатрия4_МКБ102</th>\n",
              "      <th>Оториноларингология3_МКБ101</th>\n",
              "      <th>Оториноларингология3_ПрофнепригодностьВременная1</th>\n",
              "      <th>Оториноларингология3_ПрофнепригодностьВременнаяПредставление1</th>\n",
              "      <th>Оториноларингология1_ЖалобыДополнение_Значение</th>\n",
              "      <th>Оториноларингология1_ЖалобыДополнение_ЗначениеПредставление</th>\n",
              "    </tr>\n",
              "    <tr>\n",
              "      <th>КлиентДатаРождения</th>\n",
              "      <th></th>\n",
              "      <th></th>\n",
              "      <th></th>\n",
              "      <th></th>\n",
              "      <th></th>\n",
              "      <th></th>\n",
              "      <th></th>\n",
              "      <th></th>\n",
              "      <th></th>\n",
              "      <th></th>\n",
              "      <th></th>\n",
              "      <th></th>\n",
              "      <th></th>\n",
              "      <th></th>\n",
              "      <th></th>\n",
              "      <th></th>\n",
              "      <th></th>\n",
              "      <th></th>\n",
              "      <th></th>\n",
              "      <th></th>\n",
              "      <th></th>\n",
              "    </tr>\n",
              "  </thead>\n",
              "  <tbody>\n",
              "    <tr>\n",
              "      <th>1976</th>\n",
              "      <td>Женский</td>\n",
              "      <td>Ведущий специалист по организации обуения</td>\n",
              "      <td>11.4</td>\n",
              "      <td>False</td>\n",
              "      <td>Годен</td>\n",
              "      <td>Годен к работе в указанных условиях</td>\n",
              "      <td>Годен к работе в указанных условиях</td>\n",
              "      <td>без патологий</td>\n",
              "      <td>без патологий</td>\n",
              "      <td>Z00.0</td>\n",
              "      <td>...</td>\n",
              "      <td>Нет данных</td>\n",
              "      <td>Нет данных</td>\n",
              "      <td>Нет данных</td>\n",
              "      <td>Нет данных</td>\n",
              "      <td>Нет данных</td>\n",
              "      <td>Нет данных</td>\n",
              "      <td>Нет данных</td>\n",
              "      <td>Нет данных</td>\n",
              "      <td>Нет данных</td>\n",
              "      <td>Нет данных</td>\n",
              "    </tr>\n",
              "  </tbody>\n",
              "</table>\n",
              "<p>1 rows × 213 columns</p>\n",
              "</div>\n",
              "      <button class=\"colab-df-convert\" onclick=\"convertToInteractive('df-ade12230-3202-495c-92ea-6dd6ca98e75b')\"\n",
              "              title=\"Convert this dataframe to an interactive table.\"\n",
              "              style=\"display:none;\">\n",
              "        \n",
              "  <svg xmlns=\"http://www.w3.org/2000/svg\" height=\"24px\"viewBox=\"0 0 24 24\"\n",
              "       width=\"24px\">\n",
              "    <path d=\"M0 0h24v24H0V0z\" fill=\"none\"/>\n",
              "    <path d=\"M18.56 5.44l.94 2.06.94-2.06 2.06-.94-2.06-.94-.94-2.06-.94 2.06-2.06.94zm-11 1L8.5 8.5l.94-2.06 2.06-.94-2.06-.94L8.5 2.5l-.94 2.06-2.06.94zm10 10l.94 2.06.94-2.06 2.06-.94-2.06-.94-.94-2.06-.94 2.06-2.06.94z\"/><path d=\"M17.41 7.96l-1.37-1.37c-.4-.4-.92-.59-1.43-.59-.52 0-1.04.2-1.43.59L10.3 9.45l-7.72 7.72c-.78.78-.78 2.05 0 2.83L4 21.41c.39.39.9.59 1.41.59.51 0 1.02-.2 1.41-.59l7.78-7.78 2.81-2.81c.8-.78.8-2.07 0-2.86zM5.41 20L4 18.59l7.72-7.72 1.47 1.35L5.41 20z\"/>\n",
              "  </svg>\n",
              "      </button>\n",
              "      \n",
              "  <style>\n",
              "    .colab-df-container {\n",
              "      display:flex;\n",
              "      flex-wrap:wrap;\n",
              "      gap: 12px;\n",
              "    }\n",
              "\n",
              "    .colab-df-convert {\n",
              "      background-color: #E8F0FE;\n",
              "      border: none;\n",
              "      border-radius: 50%;\n",
              "      cursor: pointer;\n",
              "      display: none;\n",
              "      fill: #1967D2;\n",
              "      height: 32px;\n",
              "      padding: 0 0 0 0;\n",
              "      width: 32px;\n",
              "    }\n",
              "\n",
              "    .colab-df-convert:hover {\n",
              "      background-color: #E2EBFA;\n",
              "      box-shadow: 0px 1px 2px rgba(60, 64, 67, 0.3), 0px 1px 3px 1px rgba(60, 64, 67, 0.15);\n",
              "      fill: #174EA6;\n",
              "    }\n",
              "\n",
              "    [theme=dark] .colab-df-convert {\n",
              "      background-color: #3B4455;\n",
              "      fill: #D2E3FC;\n",
              "    }\n",
              "\n",
              "    [theme=dark] .colab-df-convert:hover {\n",
              "      background-color: #434B5C;\n",
              "      box-shadow: 0px 1px 3px 1px rgba(0, 0, 0, 0.15);\n",
              "      filter: drop-shadow(0px 1px 2px rgba(0, 0, 0, 0.3));\n",
              "      fill: #FFFFFF;\n",
              "    }\n",
              "  </style>\n",
              "\n",
              "      <script>\n",
              "        const buttonEl =\n",
              "          document.querySelector('#df-ade12230-3202-495c-92ea-6dd6ca98e75b button.colab-df-convert');\n",
              "        buttonEl.style.display =\n",
              "          google.colab.kernel.accessAllowed ? 'block' : 'none';\n",
              "\n",
              "        async function convertToInteractive(key) {\n",
              "          const element = document.querySelector('#df-ade12230-3202-495c-92ea-6dd6ca98e75b');\n",
              "          const dataTable =\n",
              "            await google.colab.kernel.invokeFunction('convertToInteractive',\n",
              "                                                     [key], {});\n",
              "          if (!dataTable) return;\n",
              "\n",
              "          const docLinkHtml = 'Like what you see? Visit the ' +\n",
              "            '<a target=\"_blank\" href=https://colab.research.google.com/notebooks/data_table.ipynb>data table notebook</a>'\n",
              "            + ' to learn more about interactive tables.';\n",
              "          element.innerHTML = '';\n",
              "          dataTable['output_type'] = 'display_data';\n",
              "          await google.colab.output.renderOutput(dataTable, element);\n",
              "          const docLink = document.createElement('div');\n",
              "          docLink.innerHTML = docLinkHtml;\n",
              "          element.appendChild(docLink);\n",
              "        }\n",
              "      </script>\n",
              "    </div>\n",
              "  </div>\n",
              "  "
            ]
          },
          "metadata": {},
          "execution_count": 65
        }
      ]
    },
    {
      "cell_type": "code",
      "source": [
        "# Создаем колонку 'класс безопасности' и заполняем ее значениями из словаря\n",
        "health_survey.insert(2, 'класс безопасности', '')\n",
        "for i, value in enumerate(health_survey['Профессия']):\n",
        "    if value in dictionary.keys():\n",
        "        health_survey.loc[i, 'класс безопасности'] = dictionary[value]"
      ],
      "metadata": {
        "colab": {
          "base_uri": "https://localhost:8080/",
          "height": 356
        },
        "id": "-GknrHX_PvFj",
        "outputId": "e0295050-9d36-4d27-be11-1d0d4ec1699a"
      },
      "execution_count": null,
      "outputs": [
        {
          "output_type": "error",
          "ename": "ValueError",
          "evalue": "ignored",
          "traceback": [
            "\u001b[0;31m---------------------------------------------------------------------------\u001b[0m",
            "\u001b[0;31mValueError\u001b[0m                                Traceback (most recent call last)",
            "\u001b[0;32m<ipython-input-56-2ff9b27b48fa>\u001b[0m in \u001b[0;36m<cell line: 2>\u001b[0;34m()\u001b[0m\n\u001b[1;32m      1\u001b[0m \u001b[0;31m# Создаем колонку 'класс безопасности' и заполняем ее значениями из словаря\u001b[0m\u001b[0;34m\u001b[0m\u001b[0;34m\u001b[0m\u001b[0m\n\u001b[0;32m----> 2\u001b[0;31m \u001b[0mhealth_survey\u001b[0m\u001b[0;34m.\u001b[0m\u001b[0minsert\u001b[0m\u001b[0;34m(\u001b[0m\u001b[0;36m2\u001b[0m\u001b[0;34m,\u001b[0m \u001b[0;34m'класс безопасности'\u001b[0m\u001b[0;34m,\u001b[0m \u001b[0;34m''\u001b[0m\u001b[0;34m)\u001b[0m\u001b[0;34m\u001b[0m\u001b[0;34m\u001b[0m\u001b[0m\n\u001b[0m\u001b[1;32m      3\u001b[0m \u001b[0;32mfor\u001b[0m \u001b[0mi\u001b[0m\u001b[0;34m,\u001b[0m \u001b[0mvalue\u001b[0m \u001b[0;32min\u001b[0m \u001b[0menumerate\u001b[0m\u001b[0;34m(\u001b[0m\u001b[0mhealth_survey\u001b[0m\u001b[0;34m[\u001b[0m\u001b[0;34m'Профессия'\u001b[0m\u001b[0;34m]\u001b[0m\u001b[0;34m)\u001b[0m\u001b[0;34m:\u001b[0m\u001b[0;34m\u001b[0m\u001b[0;34m\u001b[0m\u001b[0m\n\u001b[1;32m      4\u001b[0m     \u001b[0;32mif\u001b[0m \u001b[0mvalue\u001b[0m \u001b[0;32min\u001b[0m \u001b[0mdictionary\u001b[0m\u001b[0;34m.\u001b[0m\u001b[0mkeys\u001b[0m\u001b[0;34m(\u001b[0m\u001b[0;34m)\u001b[0m\u001b[0;34m:\u001b[0m\u001b[0;34m\u001b[0m\u001b[0;34m\u001b[0m\u001b[0m\n\u001b[1;32m      5\u001b[0m         \u001b[0mhealth_survey\u001b[0m\u001b[0;34m.\u001b[0m\u001b[0mloc\u001b[0m\u001b[0;34m[\u001b[0m\u001b[0mi\u001b[0m\u001b[0;34m,\u001b[0m \u001b[0;34m'класс безопасности'\u001b[0m\u001b[0;34m]\u001b[0m \u001b[0;34m=\u001b[0m \u001b[0mdictionary\u001b[0m\u001b[0;34m[\u001b[0m\u001b[0mvalue\u001b[0m\u001b[0;34m]\u001b[0m\u001b[0;34m\u001b[0m\u001b[0;34m\u001b[0m\u001b[0m\n",
            "\u001b[0;32m/usr/local/lib/python3.10/dist-packages/pandas/core/frame.py\u001b[0m in \u001b[0;36minsert\u001b[0;34m(self, loc, column, value, allow_duplicates)\u001b[0m\n\u001b[1;32m   4815\u001b[0m         \u001b[0;32mif\u001b[0m \u001b[0;32mnot\u001b[0m \u001b[0mallow_duplicates\u001b[0m \u001b[0;32mand\u001b[0m \u001b[0mcolumn\u001b[0m \u001b[0;32min\u001b[0m \u001b[0mself\u001b[0m\u001b[0;34m.\u001b[0m\u001b[0mcolumns\u001b[0m\u001b[0;34m:\u001b[0m\u001b[0;34m\u001b[0m\u001b[0;34m\u001b[0m\u001b[0m\n\u001b[1;32m   4816\u001b[0m             \u001b[0;31m# Should this be a different kind of error??\u001b[0m\u001b[0;34m\u001b[0m\u001b[0;34m\u001b[0m\u001b[0m\n\u001b[0;32m-> 4817\u001b[0;31m             \u001b[0;32mraise\u001b[0m \u001b[0mValueError\u001b[0m\u001b[0;34m(\u001b[0m\u001b[0;34mf\"cannot insert {column}, already exists\"\u001b[0m\u001b[0;34m)\u001b[0m\u001b[0;34m\u001b[0m\u001b[0;34m\u001b[0m\u001b[0m\n\u001b[0m\u001b[1;32m   4818\u001b[0m         \u001b[0;32mif\u001b[0m \u001b[0;32mnot\u001b[0m \u001b[0misinstance\u001b[0m\u001b[0;34m(\u001b[0m\u001b[0mloc\u001b[0m\u001b[0;34m,\u001b[0m \u001b[0mint\u001b[0m\u001b[0;34m)\u001b[0m\u001b[0;34m:\u001b[0m\u001b[0;34m\u001b[0m\u001b[0;34m\u001b[0m\u001b[0m\n\u001b[1;32m   4819\u001b[0m             \u001b[0;32mraise\u001b[0m \u001b[0mTypeError\u001b[0m\u001b[0;34m(\u001b[0m\u001b[0;34m\"loc must be int\"\u001b[0m\u001b[0;34m)\u001b[0m\u001b[0;34m\u001b[0m\u001b[0;34m\u001b[0m\u001b[0m\n",
            "\u001b[0;31mValueError\u001b[0m: cannot insert класс безопасности, already exists"
          ]
        }
      ]
    },
    {
      "cell_type": "code",
      "source": [
        "health_survey.head(1)"
      ],
      "metadata": {
        "colab": {
          "base_uri": "https://localhost:8080/",
          "height": 292
        },
        "id": "xNMNzub-PeY9",
        "outputId": "93b25859-09fa-456c-fd8f-e232f31ffec1"
      },
      "execution_count": null,
      "outputs": [
        {
          "output_type": "execute_result",
          "data": {
            "text/plain": [
              "                   КлиентПол                                  Профессия  \\\n",
              "КлиентДатаРождения                                                        \n",
              "1976                 Женский  Ведущий специалист по организации обуения   \n",
              "\n",
              "                   класс безопасности ВредныеФакторы  ПсихОсвидетельствование  \\\n",
              "КлиентДатаРождения                                                              \n",
              "1976                                            11.4                    False   \n",
              "\n",
              "                   ЗаключениеМК            ЗаключениеМКПредставление  \\\n",
              "КлиентДатаРождения                                                     \n",
              "1976                      Годен  Годен к работе в указанных условиях   \n",
              "\n",
              "                                             Заключение  \\\n",
              "КлиентДатаРождения                                        \n",
              "1976                Годен к работе в указанных условиях   \n",
              "\n",
              "                   Рентгенология1_Заключение_Значение  \\\n",
              "КлиентДатаРождения                                      \n",
              "1976                                    без патологий   \n",
              "\n",
              "                   Рентгенология1_Заключение_ЗначениеПредставление  ...  \\\n",
              "КлиентДатаРождения                                                  ...   \n",
              "1976                                                 без патологий  ...   \n",
              "\n",
              "                   Психиатрия3_МКБ102 Психиатрия4_МКБ101  \\\n",
              "КлиентДатаРождения                                         \n",
              "1976                       Нет данных         Нет данных   \n",
              "\n",
              "                   Психиатрия4_ПрофнепригодностьВременная1  \\\n",
              "КлиентДатаРождения                                           \n",
              "1976                                            Нет данных   \n",
              "\n",
              "                   Психиатрия4_ПрофнепригодностьВременнаяПредставление1  \\\n",
              "КлиентДатаРождения                                                        \n",
              "1976                                                       Нет данных     \n",
              "\n",
              "                   Психиатрия4_МКБ102 Оториноларингология3_МКБ101  \\\n",
              "КлиентДатаРождения                                                  \n",
              "1976                       Нет данных                  Нет данных   \n",
              "\n",
              "                   Оториноларингология3_ПрофнепригодностьВременная1  \\\n",
              "КлиентДатаРождения                                                    \n",
              "1976                                                     Нет данных   \n",
              "\n",
              "                   Оториноларингология3_ПрофнепригодностьВременнаяПредставление1  \\\n",
              "КлиентДатаРождения                                                                 \n",
              "1976                                                       Нет данных              \n",
              "\n",
              "                   Оториноларингология1_ЖалобыДополнение_Значение  \\\n",
              "КлиентДатаРождения                                                  \n",
              "1976                                                   Нет данных   \n",
              "\n",
              "                   Оториноларингология1_ЖалобыДополнение_ЗначениеПредставление  \n",
              "КлиентДатаРождения                                                              \n",
              "1976                                                       Нет данных           \n",
              "\n",
              "[1 rows x 214 columns]"
            ],
            "text/html": [
              "\n",
              "  <div id=\"df-f40eb463-b281-4aee-87f2-60a6184d4af6\">\n",
              "    <div class=\"colab-df-container\">\n",
              "      <div>\n",
              "<style scoped>\n",
              "    .dataframe tbody tr th:only-of-type {\n",
              "        vertical-align: middle;\n",
              "    }\n",
              "\n",
              "    .dataframe tbody tr th {\n",
              "        vertical-align: top;\n",
              "    }\n",
              "\n",
              "    .dataframe thead th {\n",
              "        text-align: right;\n",
              "    }\n",
              "</style>\n",
              "<table border=\"1\" class=\"dataframe\">\n",
              "  <thead>\n",
              "    <tr style=\"text-align: right;\">\n",
              "      <th></th>\n",
              "      <th>КлиентПол</th>\n",
              "      <th>Профессия</th>\n",
              "      <th>класс безопасности</th>\n",
              "      <th>ВредныеФакторы</th>\n",
              "      <th>ПсихОсвидетельствование</th>\n",
              "      <th>ЗаключениеМК</th>\n",
              "      <th>ЗаключениеМКПредставление</th>\n",
              "      <th>Заключение</th>\n",
              "      <th>Рентгенология1_Заключение_Значение</th>\n",
              "      <th>Рентгенология1_Заключение_ЗначениеПредставление</th>\n",
              "      <th>...</th>\n",
              "      <th>Психиатрия3_МКБ102</th>\n",
              "      <th>Психиатрия4_МКБ101</th>\n",
              "      <th>Психиатрия4_ПрофнепригодностьВременная1</th>\n",
              "      <th>Психиатрия4_ПрофнепригодностьВременнаяПредставление1</th>\n",
              "      <th>Психиатрия4_МКБ102</th>\n",
              "      <th>Оториноларингология3_МКБ101</th>\n",
              "      <th>Оториноларингология3_ПрофнепригодностьВременная1</th>\n",
              "      <th>Оториноларингология3_ПрофнепригодностьВременнаяПредставление1</th>\n",
              "      <th>Оториноларингология1_ЖалобыДополнение_Значение</th>\n",
              "      <th>Оториноларингология1_ЖалобыДополнение_ЗначениеПредставление</th>\n",
              "    </tr>\n",
              "    <tr>\n",
              "      <th>КлиентДатаРождения</th>\n",
              "      <th></th>\n",
              "      <th></th>\n",
              "      <th></th>\n",
              "      <th></th>\n",
              "      <th></th>\n",
              "      <th></th>\n",
              "      <th></th>\n",
              "      <th></th>\n",
              "      <th></th>\n",
              "      <th></th>\n",
              "      <th></th>\n",
              "      <th></th>\n",
              "      <th></th>\n",
              "      <th></th>\n",
              "      <th></th>\n",
              "      <th></th>\n",
              "      <th></th>\n",
              "      <th></th>\n",
              "      <th></th>\n",
              "      <th></th>\n",
              "      <th></th>\n",
              "    </tr>\n",
              "  </thead>\n",
              "  <tbody>\n",
              "    <tr>\n",
              "      <th>1976</th>\n",
              "      <td>Женский</td>\n",
              "      <td>Ведущий специалист по организации обуения</td>\n",
              "      <td></td>\n",
              "      <td>11.4</td>\n",
              "      <td>False</td>\n",
              "      <td>Годен</td>\n",
              "      <td>Годен к работе в указанных условиях</td>\n",
              "      <td>Годен к работе в указанных условиях</td>\n",
              "      <td>без патологий</td>\n",
              "      <td>без патологий</td>\n",
              "      <td>...</td>\n",
              "      <td>Нет данных</td>\n",
              "      <td>Нет данных</td>\n",
              "      <td>Нет данных</td>\n",
              "      <td>Нет данных</td>\n",
              "      <td>Нет данных</td>\n",
              "      <td>Нет данных</td>\n",
              "      <td>Нет данных</td>\n",
              "      <td>Нет данных</td>\n",
              "      <td>Нет данных</td>\n",
              "      <td>Нет данных</td>\n",
              "    </tr>\n",
              "  </tbody>\n",
              "</table>\n",
              "<p>1 rows × 214 columns</p>\n",
              "</div>\n",
              "      <button class=\"colab-df-convert\" onclick=\"convertToInteractive('df-f40eb463-b281-4aee-87f2-60a6184d4af6')\"\n",
              "              title=\"Convert this dataframe to an interactive table.\"\n",
              "              style=\"display:none;\">\n",
              "        \n",
              "  <svg xmlns=\"http://www.w3.org/2000/svg\" height=\"24px\"viewBox=\"0 0 24 24\"\n",
              "       width=\"24px\">\n",
              "    <path d=\"M0 0h24v24H0V0z\" fill=\"none\"/>\n",
              "    <path d=\"M18.56 5.44l.94 2.06.94-2.06 2.06-.94-2.06-.94-.94-2.06-.94 2.06-2.06.94zm-11 1L8.5 8.5l.94-2.06 2.06-.94-2.06-.94L8.5 2.5l-.94 2.06-2.06.94zm10 10l.94 2.06.94-2.06 2.06-.94-2.06-.94-.94-2.06-.94 2.06-2.06.94z\"/><path d=\"M17.41 7.96l-1.37-1.37c-.4-.4-.92-.59-1.43-.59-.52 0-1.04.2-1.43.59L10.3 9.45l-7.72 7.72c-.78.78-.78 2.05 0 2.83L4 21.41c.39.39.9.59 1.41.59.51 0 1.02-.2 1.41-.59l7.78-7.78 2.81-2.81c.8-.78.8-2.07 0-2.86zM5.41 20L4 18.59l7.72-7.72 1.47 1.35L5.41 20z\"/>\n",
              "  </svg>\n",
              "      </button>\n",
              "      \n",
              "  <style>\n",
              "    .colab-df-container {\n",
              "      display:flex;\n",
              "      flex-wrap:wrap;\n",
              "      gap: 12px;\n",
              "    }\n",
              "\n",
              "    .colab-df-convert {\n",
              "      background-color: #E8F0FE;\n",
              "      border: none;\n",
              "      border-radius: 50%;\n",
              "      cursor: pointer;\n",
              "      display: none;\n",
              "      fill: #1967D2;\n",
              "      height: 32px;\n",
              "      padding: 0 0 0 0;\n",
              "      width: 32px;\n",
              "    }\n",
              "\n",
              "    .colab-df-convert:hover {\n",
              "      background-color: #E2EBFA;\n",
              "      box-shadow: 0px 1px 2px rgba(60, 64, 67, 0.3), 0px 1px 3px 1px rgba(60, 64, 67, 0.15);\n",
              "      fill: #174EA6;\n",
              "    }\n",
              "\n",
              "    [theme=dark] .colab-df-convert {\n",
              "      background-color: #3B4455;\n",
              "      fill: #D2E3FC;\n",
              "    }\n",
              "\n",
              "    [theme=dark] .colab-df-convert:hover {\n",
              "      background-color: #434B5C;\n",
              "      box-shadow: 0px 1px 3px 1px rgba(0, 0, 0, 0.15);\n",
              "      filter: drop-shadow(0px 1px 2px rgba(0, 0, 0, 0.3));\n",
              "      fill: #FFFFFF;\n",
              "    }\n",
              "  </style>\n",
              "\n",
              "      <script>\n",
              "        const buttonEl =\n",
              "          document.querySelector('#df-f40eb463-b281-4aee-87f2-60a6184d4af6 button.colab-df-convert');\n",
              "        buttonEl.style.display =\n",
              "          google.colab.kernel.accessAllowed ? 'block' : 'none';\n",
              "\n",
              "        async function convertToInteractive(key) {\n",
              "          const element = document.querySelector('#df-f40eb463-b281-4aee-87f2-60a6184d4af6');\n",
              "          const dataTable =\n",
              "            await google.colab.kernel.invokeFunction('convertToInteractive',\n",
              "                                                     [key], {});\n",
              "          if (!dataTable) return;\n",
              "\n",
              "          const docLinkHtml = 'Like what you see? Visit the ' +\n",
              "            '<a target=\"_blank\" href=https://colab.research.google.com/notebooks/data_table.ipynb>data table notebook</a>'\n",
              "            + ' to learn more about interactive tables.';\n",
              "          element.innerHTML = '';\n",
              "          dataTable['output_type'] = 'display_data';\n",
              "          await google.colab.output.renderOutput(dataTable, element);\n",
              "          const docLink = document.createElement('div');\n",
              "          docLink.innerHTML = docLinkHtml;\n",
              "          element.appendChild(docLink);\n",
              "        }\n",
              "      </script>\n",
              "    </div>\n",
              "  </div>\n",
              "  "
            ]
          },
          "metadata": {},
          "execution_count": 57
        }
      ]
    },
    {
      "cell_type": "code",
      "source": [
        "# Создание словаря из датафрейма df_prof\n",
        "dictionary = dict(zip(df_p.iloc[:, 0], df_p.iloc[:, 1]))\n",
        "\n",
        "# Выборка строк из датафрейма health_survey с помощью метода contains\n",
        "\n",
        "\n",
        "# Добавление новой колонки 'класс безопасности' в датафрейм health_survey\n",
        "# и заполнение значениями из словаря в соответствии с ключами из колонки 'Профессия'\n",
        "\n",
        "print(dictionary)"
      ],
      "metadata": {
        "colab": {
          "base_uri": "https://localhost:8080/"
        },
        "id": "PGy5a4J6Mho6",
        "outputId": "c4c010d7-9aac-4fba-ab69-99a3060c87ed"
      },
      "execution_count": null,
      "outputs": [
        {
          "output_type": "stream",
          "name": "stdout",
          "text": [
            "{\" 'Авиамеханик '\": 2, \" 'Авиатехник'\": 2, \" 'агроном'\": 6, \" 'администратор'\": 1, \" 'Анестезиолог'\": 2, \" 'Ассистент врача'\": 3, \" 'Барменеджер'\": 9, \" 'Бригадир'\": 8, \" 'Бульдозерист',\": 8, \" 'Бурильщик'\": 8, \" 'Бухгалтер'\": 4, \" 'Вальщик леса'\": 9, \" 'Взрывник'\": 8, \" 'Воспитатель'\": 5, \" 'Врач'\": 2, \" 'Вышкомонтажник'\": 8, \" 'Газорезчик'\": 8, \" 'Гардеробщик'\": 9, \" 'геофизик'\": 2, \" 'Горничная'\": 9, \" 'грузчик'\": 9, \" 'Делопроизводитель'\": 9, \" 'Дефектоскопист'\": 3, \" 'Директор'\": 1, \" 'Диспетчер'\": 9, \" 'Дозиметрист'\": 3, \" 'ЖКХ'\": 5, \" 'Зав.'\": 4, \" 'Заведу'\": 4, \" 'Заместитель'\": 4, \" 'Инженер'\": 2, \" 'Инспектор'\": 3, \" 'Испытатель'\": 3, \" 'Каротажник'\": 7, \" 'кассир'\": 5, \" 'Кладовщик'\": 9, \" 'Комендант'\": 9, \" 'Комплектовщик'\": 9, \" 'Кондитер'\": 7, \" 'Купажист'\": 7, \" 'курьер'\": 9, \" 'Кухонный работник'\": 9, \" 'ЛАБОРАНТ'\": 8, \" 'Литейщик'\": 7, \" 'Маляр'\": 7, \" 'Мастер'\": 3, \" 'машинист экструдера'\": 8, \" 'Машинист'\": 8, \" 'Мед.регистратор'\": 4, \" 'мед.сестра'\": 7, \" 'Мед'\": 7, \" 'Медицинская сестра'\": 7, \" 'Медсестра'\": 7, \" 'Менеджер'\": 1, \" 'Мерчендайзер'\": 5, \" 'Методист'\": 4, \" 'механик'\": 8, \" 'микробиолог'\": 2, \" 'Модельщик'\": 7, \" 'Мойщик'\": 9, \" 'Монтажник'\": 8, \" 'МОП'\": 8, \" 'Моторист'\": 7, \" 'Наладчик'\": 3, \" 'Начальник'\": 4, \" 'Обходчик'\": 9, \" 'ОКРАСЧИК'\": 9, \" 'Оператор'\": 8, \" 'Официант'\": 9, \" 'Охранник '\": 9, \" 'Педагог'\": 4, \" Переработчик'\": 7, \" 'Пилот'\": 2, \" 'Плотник'\": 7, \" 'Подсобный рабочий'\": 9, \" 'Полировщик'\": 9, \" 'Помощник'\": 9, \" 'Посудомойщица'\": 9, \" 'Преподаватель'\": 5, \" 'Прессовщик'\": 7, \" 'Приемщик'\": 9, \" 'Продавец'\": 5, \" 'Производитель'\": 3, \" 'Промывальщик-пропарщик'\": 7, \" 'Работник'\": 9, \" 'Рабочий'\": 9, \" 'Разнорабочий'\": 9, \" 'Резчик'\": 7, \" 'Рентгенолаборант'\": 3, \" 'Рентгенолог'\": 2, \" 'Руководитель'\": 4, \" 'Санитарка'\": 9, \" 'сантехник'\": 7, \" 'Сборщик'\": 9, \" 'Секретарь'\": 4, \" 'сервисных услуг'\": 9, \" Слесарь'\": 7, \" 'Советник'\": 4, \" 'Сортировщик'\": 9, \" 'Специалист '\": 3, \" 'Стажёр'\": 9, \" 'продавец'\": 5, \" 'Столяр'\": 7, \" 'Стоматолог'\": 2, \" 'Стропальщик'\": 9, \" 'супервайзер '\": 3, \" 'Сушеф'\": 5, \" 'Терапевт'\": 2, \" 'Техник'\": 3, \" 'Технический персонал'\": 8, \" 'Технический руководитель'\": 3, \" 'Техничка'\": 9, \" 'технолог'\": 3, \" 'Товаровед'\": 5, \" 'Токарь'\": 7, \" 'Токсиколог'\": 2, \" 'Топограф'\": 2, \" 'Тракторист'\": 7, \" 'Уборщик'\": 9, \" 'Упаковщик'\": 9, \" 'управление'\": 1, \" 'фармацевт'\": 2, \" 'Фасовщи'\": 9, \" 'Формовщик'\": 7, \" 'Фрезеровщик'\": 8, \" 'Хозяйка'\": 5, \" 'хостесс'\": 5, \" 'Шеф повар'\": 5, \" 'Штамповщик'\": 8, \" 'Эколог'\": 3, \" 'экономист'\": 4, \" 'Электрик'\": 7, \" 'Электрогазосварщик'\": 7, \" 'Электромонтажник'\": 7, \" 'Электромонтёр'\": 7, \" 'Электросварщик'\": 7, \" 'Энергетик'\": 2, \" 'юрисконсульт'\": 2, \" 'Водитель'\": 7, \" 'Пекарь'\": 5, \" 'специалист'\": 3, \" 'тренер'\": 7}\n"
          ]
        }
      ]
    },
    {
      "cell_type": "code",
      "source": [
        "# Создаём пустой словарь\n",
        "my_dict = {}\n",
        "\n",
        "# Проходим по всему датафрейму и заносим данные в словарь\n",
        "for index, row in df_p.iterrows():\n",
        "    my_dict[row[0]] = row[1]\n",
        "\n",
        "# Выборка строк из датафрейма health_survey с помощью метода contains\n",
        "selected_rows = health_survey[health_survey['Профессия'].str.contains('|'.join(dictionary.keys()))]\n"
      ],
      "metadata": {
        "id": "4HDFBe2yESGb"
      },
      "execution_count": null,
      "outputs": []
    },
    {
      "cell_type": "code",
      "source": [
        "selected_rows"
      ],
      "metadata": {
        "colab": {
          "base_uri": "https://localhost:8080/",
          "height": 174
        },
        "id": "aOl-qqmFLoJs",
        "outputId": "7a489ceb-1fff-4c57-d85a-d24b26d9b133"
      },
      "execution_count": null,
      "outputs": [
        {
          "output_type": "execute_result",
          "data": {
            "text/plain": [
              "Empty DataFrame\n",
              "Columns: [КлиентПол, Профессия, ВредныеФакторы, ПсихОсвидетельствование, ЗаключениеМК, ЗаключениеМКПредставление, Заключение, Рентгенология1_Заключение_Значение, Рентгенология1_Заключение_ЗначениеПредставление, ПсихиатрияНаркология1_МКБ101, ПсихиатрияНаркология1_ПрофнепригодностьВременная1, ПсихиатрияНаркология1_ПрофнепригодностьВременнаяПредставление1, Офтальмология1_МКБ101, Офтальмология1_ПрофнепригодностьВременная1, Офтальмология1_ПрофнепригодностьВременнаяПредставление1, Оториноларингология1_МКБ101, Оториноларингология1_ПрофнепригодностьВременная1, Оториноларингология1_ПрофнепригодностьВременнаяПредставление1, ХирургНеИсп1_МКБ101, ХирургНеИсп1_ПрофнепригодностьВременная1, ХирургНеИсп1_ПрофнепригодностьВременнаяПредставление1, Гинекология1_МКБ101, Гинекология1_ПрофнепригодностьВременная1, Гинекология1_ПрофнепригодностьВременнаяПредставление1, Стоматология1_МКБ101, Стоматология1_ПрофнепригодностьВременная1, Стоматология1_ПрофнепригодностьВременнаяПредставление1, Эндоскопия1_ЖалобыДополнение_Значение, Эндоскопия1_ЖалобыДополнение_ЗначениеПредставление, Дерматовенерология1_МКБ101, Дерматовенерология1_ПрофнепригодностьВременная1, Дерматовенерология1_ПрофнепригодностьВременнаяПредставление1, Рентгенология1_МКБ101, Рентгенология1_ПрофнепригодностьВременная1, Рентгенология1_ПрофнепригодностьВременнаяПредставление1, Неврология1_МКБ101, Неврология1_ПрофнепригодностьВременная1, Неврология1_ПрофнепригодностьВременнаяПредставление1, Терапия1_МКБ101, Терапия1_ПрофнепригодностьВременная1, Терапия1_ПрофнепригодностьВременнаяПредставление1, Терапия1_ЖалобыДополнение_Значение, Терапия1_ЖалобыДополнение_ЗначениеПредставление, УЗИДиагностика1_Заключение_Значение, УЗИДиагностика1_Заключение_ЗначениеПредставление, Хирургия1_МКБ101, Хирургия1_ПрофнепригодностьВременная1, Хирургия1_ПрофнепригодностьВременнаяПредставление1, Офтальмология1_МКБ102, Терапия2_МКБ101, Терапия2_ПрофнепригодностьВременная1, Терапия2_ПрофнепригодностьВременнаяПредставление1, Неврология2_МКБ101, Неврология2_ПрофнепригодностьВременная1, Неврология2_ПрофнепригодностьВременнаяПредставление1, УЗИДиагностика2_Заключение_Значение, УЗИДиагностика2_Заключение_ЗначениеПредставление, ФункциональнаяДиагностика1_Заключение_Значение, ФункциональнаяДиагностика1_Заключение_ЗначениеПредставление, ЛабораторныеИсследования1_МКБ101, ЛабораторныеИсследования1_ПрофнепригодностьВременная1, ЛабораторныеИсследования1_ПрофнепригодностьВременнаяПредставление1, ЭКГНеИсп1_МКБ101, ЭКГНеИсп1_ПрофнепригодностьВременная1, ЭКГНеИсп1_ПрофнепригодностьВременнаяПредставление1, УЗИДиагностика1_МКБ101, УЗИДиагностика1_ПрофнепригодностьВременная1, УЗИДиагностика1_ПрофнепригодностьВременнаяПредставление1, УЗИДиагностика2_МКБ101, УЗИДиагностика2_ПрофнепригодностьВременная1, УЗИДиагностика2_ПрофнепригодностьВременнаяПредставление1, ПсихиатрияНаркология2_МКБ101, ПсихиатрияНаркология2_ПрофнепригодностьВременная1, ПсихиатрияНаркология2_ПрофнепригодностьВременнаяПредставление1, Терапия1_МКБ102, ЛабораторныеИсследования2_МКБ101, ЛабораторныеИсследования2_ПрофнепригодностьВременная1, ЛабораторныеИсследования2_ПрофнепригодностьВременнаяПредставление1, Терапия1_МКБ103, Психиатрия1_МКБ101, Психиатрия1_ПрофнепригодностьВременная1, Психиатрия1_ПрофнепригодностьВременнаяПредставление1, Гинекология1_МКБ102, Рентгенология2_МКБ101, Рентгенология2_ПрофнепригодностьВременная1, Рентгенология2_ПрофнепригодностьВременнаяПредставление1, Рентгенология2_Заключение_Значение, Рентгенология2_Заключение_ЗначениеПредставление, Гинекология2_МКБ101, Гинекология2_ПрофнепригодностьВременная1, Гинекология2_ПрофнепригодностьВременнаяПредставление1, Хирургия2_МКБ101, Хирургия2_ПрофнепригодностьВременная1, Хирургия2_ПрофнепригодностьВременнаяПредставление1, ПроцедурнаяМедсестра1_МКБ101, ПроцедурнаяМедсестра1_ПрофнепригодностьВременная1, ПроцедурнаяМедсестра1_ПрофнепригодностьВременнаяПредставление1, Эндоскопия2_ЖалобыДополнение_Значение, Эндоскопия2_ЖалобыДополнение_ЗначениеПредставление, ФункциональнаяДиагностика1_МКБ101, ...]\n",
              "Index: []\n",
              "\n",
              "[0 rows x 213 columns]"
            ],
            "text/html": [
              "\n",
              "  <div id=\"df-8a8966c0-f2c3-40ab-b870-86e27ca59578\">\n",
              "    <div class=\"colab-df-container\">\n",
              "      <div>\n",
              "<style scoped>\n",
              "    .dataframe tbody tr th:only-of-type {\n",
              "        vertical-align: middle;\n",
              "    }\n",
              "\n",
              "    .dataframe tbody tr th {\n",
              "        vertical-align: top;\n",
              "    }\n",
              "\n",
              "    .dataframe thead th {\n",
              "        text-align: right;\n",
              "    }\n",
              "</style>\n",
              "<table border=\"1\" class=\"dataframe\">\n",
              "  <thead>\n",
              "    <tr style=\"text-align: right;\">\n",
              "      <th></th>\n",
              "      <th>КлиентПол</th>\n",
              "      <th>Профессия</th>\n",
              "      <th>ВредныеФакторы</th>\n",
              "      <th>ПсихОсвидетельствование</th>\n",
              "      <th>ЗаключениеМК</th>\n",
              "      <th>ЗаключениеМКПредставление</th>\n",
              "      <th>Заключение</th>\n",
              "      <th>Рентгенология1_Заключение_Значение</th>\n",
              "      <th>Рентгенология1_Заключение_ЗначениеПредставление</th>\n",
              "      <th>ПсихиатрияНаркология1_МКБ101</th>\n",
              "      <th>...</th>\n",
              "      <th>Психиатрия3_МКБ102</th>\n",
              "      <th>Психиатрия4_МКБ101</th>\n",
              "      <th>Психиатрия4_ПрофнепригодностьВременная1</th>\n",
              "      <th>Психиатрия4_ПрофнепригодностьВременнаяПредставление1</th>\n",
              "      <th>Психиатрия4_МКБ102</th>\n",
              "      <th>Оториноларингология3_МКБ101</th>\n",
              "      <th>Оториноларингология3_ПрофнепригодностьВременная1</th>\n",
              "      <th>Оториноларингология3_ПрофнепригодностьВременнаяПредставление1</th>\n",
              "      <th>Оториноларингология1_ЖалобыДополнение_Значение</th>\n",
              "      <th>Оториноларингология1_ЖалобыДополнение_ЗначениеПредставление</th>\n",
              "    </tr>\n",
              "    <tr>\n",
              "      <th>КлиентДатаРождения</th>\n",
              "      <th></th>\n",
              "      <th></th>\n",
              "      <th></th>\n",
              "      <th></th>\n",
              "      <th></th>\n",
              "      <th></th>\n",
              "      <th></th>\n",
              "      <th></th>\n",
              "      <th></th>\n",
              "      <th></th>\n",
              "      <th></th>\n",
              "      <th></th>\n",
              "      <th></th>\n",
              "      <th></th>\n",
              "      <th></th>\n",
              "      <th></th>\n",
              "      <th></th>\n",
              "      <th></th>\n",
              "      <th></th>\n",
              "      <th></th>\n",
              "      <th></th>\n",
              "    </tr>\n",
              "  </thead>\n",
              "  <tbody>\n",
              "  </tbody>\n",
              "</table>\n",
              "<p>0 rows × 213 columns</p>\n",
              "</div>\n",
              "      <button class=\"colab-df-convert\" onclick=\"convertToInteractive('df-8a8966c0-f2c3-40ab-b870-86e27ca59578')\"\n",
              "              title=\"Convert this dataframe to an interactive table.\"\n",
              "              style=\"display:none;\">\n",
              "        \n",
              "  <svg xmlns=\"http://www.w3.org/2000/svg\" height=\"24px\"viewBox=\"0 0 24 24\"\n",
              "       width=\"24px\">\n",
              "    <path d=\"M0 0h24v24H0V0z\" fill=\"none\"/>\n",
              "    <path d=\"M18.56 5.44l.94 2.06.94-2.06 2.06-.94-2.06-.94-.94-2.06-.94 2.06-2.06.94zm-11 1L8.5 8.5l.94-2.06 2.06-.94-2.06-.94L8.5 2.5l-.94 2.06-2.06.94zm10 10l.94 2.06.94-2.06 2.06-.94-2.06-.94-.94-2.06-.94 2.06-2.06.94z\"/><path d=\"M17.41 7.96l-1.37-1.37c-.4-.4-.92-.59-1.43-.59-.52 0-1.04.2-1.43.59L10.3 9.45l-7.72 7.72c-.78.78-.78 2.05 0 2.83L4 21.41c.39.39.9.59 1.41.59.51 0 1.02-.2 1.41-.59l7.78-7.78 2.81-2.81c.8-.78.8-2.07 0-2.86zM5.41 20L4 18.59l7.72-7.72 1.47 1.35L5.41 20z\"/>\n",
              "  </svg>\n",
              "      </button>\n",
              "      \n",
              "  <style>\n",
              "    .colab-df-container {\n",
              "      display:flex;\n",
              "      flex-wrap:wrap;\n",
              "      gap: 12px;\n",
              "    }\n",
              "\n",
              "    .colab-df-convert {\n",
              "      background-color: #E8F0FE;\n",
              "      border: none;\n",
              "      border-radius: 50%;\n",
              "      cursor: pointer;\n",
              "      display: none;\n",
              "      fill: #1967D2;\n",
              "      height: 32px;\n",
              "      padding: 0 0 0 0;\n",
              "      width: 32px;\n",
              "    }\n",
              "\n",
              "    .colab-df-convert:hover {\n",
              "      background-color: #E2EBFA;\n",
              "      box-shadow: 0px 1px 2px rgba(60, 64, 67, 0.3), 0px 1px 3px 1px rgba(60, 64, 67, 0.15);\n",
              "      fill: #174EA6;\n",
              "    }\n",
              "\n",
              "    [theme=dark] .colab-df-convert {\n",
              "      background-color: #3B4455;\n",
              "      fill: #D2E3FC;\n",
              "    }\n",
              "\n",
              "    [theme=dark] .colab-df-convert:hover {\n",
              "      background-color: #434B5C;\n",
              "      box-shadow: 0px 1px 3px 1px rgba(0, 0, 0, 0.15);\n",
              "      filter: drop-shadow(0px 1px 2px rgba(0, 0, 0, 0.3));\n",
              "      fill: #FFFFFF;\n",
              "    }\n",
              "  </style>\n",
              "\n",
              "      <script>\n",
              "        const buttonEl =\n",
              "          document.querySelector('#df-8a8966c0-f2c3-40ab-b870-86e27ca59578 button.colab-df-convert');\n",
              "        buttonEl.style.display =\n",
              "          google.colab.kernel.accessAllowed ? 'block' : 'none';\n",
              "\n",
              "        async function convertToInteractive(key) {\n",
              "          const element = document.querySelector('#df-8a8966c0-f2c3-40ab-b870-86e27ca59578');\n",
              "          const dataTable =\n",
              "            await google.colab.kernel.invokeFunction('convertToInteractive',\n",
              "                                                     [key], {});\n",
              "          if (!dataTable) return;\n",
              "\n",
              "          const docLinkHtml = 'Like what you see? Visit the ' +\n",
              "            '<a target=\"_blank\" href=https://colab.research.google.com/notebooks/data_table.ipynb>data table notebook</a>'\n",
              "            + ' to learn more about interactive tables.';\n",
              "          element.innerHTML = '';\n",
              "          dataTable['output_type'] = 'display_data';\n",
              "          await google.colab.output.renderOutput(dataTable, element);\n",
              "          const docLink = document.createElement('div');\n",
              "          docLink.innerHTML = docLinkHtml;\n",
              "          element.appendChild(docLink);\n",
              "        }\n",
              "      </script>\n",
              "    </div>\n",
              "  </div>\n",
              "  "
            ]
          },
          "metadata": {},
          "execution_count": 43
        }
      ]
    },
    {
      "cell_type": "code",
      "source": [
        "health_survey.head(1)"
      ],
      "metadata": {
        "colab": {
          "base_uri": "https://localhost:8080/",
          "height": 275
        },
        "id": "yA7CdC9TGGAN",
        "outputId": "2cd3e62b-d43e-48b6-934c-8744ee1bd3a4"
      },
      "execution_count": null,
      "outputs": [
        {
          "output_type": "execute_result",
          "data": {
            "text/plain": [
              "                   КлиентПол                                  Профессия  \\\n",
              "КлиентДатаРождения                                                        \n",
              "1976                 Женский  Ведущий специалист по организации обуения   \n",
              "\n",
              "                   ВредныеФакторы  ПсихОсвидетельствование ЗаключениеМК  \\\n",
              "КлиентДатаРождения                                                        \n",
              "1976                         11.4                    False        Годен   \n",
              "\n",
              "                              ЗаключениеМКПредставление  \\\n",
              "КлиентДатаРождения                                        \n",
              "1976                Годен к работе в указанных условиях   \n",
              "\n",
              "                                             Заключение  \\\n",
              "КлиентДатаРождения                                        \n",
              "1976                Годен к работе в указанных условиях   \n",
              "\n",
              "                   Рентгенология1_Заключение_Значение  \\\n",
              "КлиентДатаРождения                                      \n",
              "1976                                    без патологий   \n",
              "\n",
              "                   Рентгенология1_Заключение_ЗначениеПредставление  \\\n",
              "КлиентДатаРождения                                                   \n",
              "1976                                                 без патологий   \n",
              "\n",
              "                   ПсихиатрияНаркология1_МКБ101  ... Психиатрия3_МКБ102  \\\n",
              "КлиентДатаРождения                               ...                      \n",
              "1976                                      Z00.0  ...         Нет данных   \n",
              "\n",
              "                   Психиатрия4_МКБ101 Психиатрия4_ПрофнепригодностьВременная1  \\\n",
              "КлиентДатаРождения                                                              \n",
              "1976                       Нет данных                              Нет данных   \n",
              "\n",
              "                   Психиатрия4_ПрофнепригодностьВременнаяПредставление1  \\\n",
              "КлиентДатаРождения                                                        \n",
              "1976                                                       Нет данных     \n",
              "\n",
              "                   Психиатрия4_МКБ102 Оториноларингология3_МКБ101  \\\n",
              "КлиентДатаРождения                                                  \n",
              "1976                       Нет данных                  Нет данных   \n",
              "\n",
              "                   Оториноларингология3_ПрофнепригодностьВременная1  \\\n",
              "КлиентДатаРождения                                                    \n",
              "1976                                                     Нет данных   \n",
              "\n",
              "                   Оториноларингология3_ПрофнепригодностьВременнаяПредставление1  \\\n",
              "КлиентДатаРождения                                                                 \n",
              "1976                                                       Нет данных              \n",
              "\n",
              "                   Оториноларингология1_ЖалобыДополнение_Значение  \\\n",
              "КлиентДатаРождения                                                  \n",
              "1976                                                   Нет данных   \n",
              "\n",
              "                   Оториноларингология1_ЖалобыДополнение_ЗначениеПредставление  \n",
              "КлиентДатаРождения                                                              \n",
              "1976                                                       Нет данных           \n",
              "\n",
              "[1 rows x 213 columns]"
            ],
            "text/html": [
              "\n",
              "  <div id=\"df-a0343ae2-98dc-44a8-b9d5-3fc51a505119\">\n",
              "    <div class=\"colab-df-container\">\n",
              "      <div>\n",
              "<style scoped>\n",
              "    .dataframe tbody tr th:only-of-type {\n",
              "        vertical-align: middle;\n",
              "    }\n",
              "\n",
              "    .dataframe tbody tr th {\n",
              "        vertical-align: top;\n",
              "    }\n",
              "\n",
              "    .dataframe thead th {\n",
              "        text-align: right;\n",
              "    }\n",
              "</style>\n",
              "<table border=\"1\" class=\"dataframe\">\n",
              "  <thead>\n",
              "    <tr style=\"text-align: right;\">\n",
              "      <th></th>\n",
              "      <th>КлиентПол</th>\n",
              "      <th>Профессия</th>\n",
              "      <th>ВредныеФакторы</th>\n",
              "      <th>ПсихОсвидетельствование</th>\n",
              "      <th>ЗаключениеМК</th>\n",
              "      <th>ЗаключениеМКПредставление</th>\n",
              "      <th>Заключение</th>\n",
              "      <th>Рентгенология1_Заключение_Значение</th>\n",
              "      <th>Рентгенология1_Заключение_ЗначениеПредставление</th>\n",
              "      <th>ПсихиатрияНаркология1_МКБ101</th>\n",
              "      <th>...</th>\n",
              "      <th>Психиатрия3_МКБ102</th>\n",
              "      <th>Психиатрия4_МКБ101</th>\n",
              "      <th>Психиатрия4_ПрофнепригодностьВременная1</th>\n",
              "      <th>Психиатрия4_ПрофнепригодностьВременнаяПредставление1</th>\n",
              "      <th>Психиатрия4_МКБ102</th>\n",
              "      <th>Оториноларингология3_МКБ101</th>\n",
              "      <th>Оториноларингология3_ПрофнепригодностьВременная1</th>\n",
              "      <th>Оториноларингология3_ПрофнепригодностьВременнаяПредставление1</th>\n",
              "      <th>Оториноларингология1_ЖалобыДополнение_Значение</th>\n",
              "      <th>Оториноларингология1_ЖалобыДополнение_ЗначениеПредставление</th>\n",
              "    </tr>\n",
              "    <tr>\n",
              "      <th>КлиентДатаРождения</th>\n",
              "      <th></th>\n",
              "      <th></th>\n",
              "      <th></th>\n",
              "      <th></th>\n",
              "      <th></th>\n",
              "      <th></th>\n",
              "      <th></th>\n",
              "      <th></th>\n",
              "      <th></th>\n",
              "      <th></th>\n",
              "      <th></th>\n",
              "      <th></th>\n",
              "      <th></th>\n",
              "      <th></th>\n",
              "      <th></th>\n",
              "      <th></th>\n",
              "      <th></th>\n",
              "      <th></th>\n",
              "      <th></th>\n",
              "      <th></th>\n",
              "      <th></th>\n",
              "    </tr>\n",
              "  </thead>\n",
              "  <tbody>\n",
              "    <tr>\n",
              "      <th>1976</th>\n",
              "      <td>Женский</td>\n",
              "      <td>Ведущий специалист по организации обуения</td>\n",
              "      <td>11.4</td>\n",
              "      <td>False</td>\n",
              "      <td>Годен</td>\n",
              "      <td>Годен к работе в указанных условиях</td>\n",
              "      <td>Годен к работе в указанных условиях</td>\n",
              "      <td>без патологий</td>\n",
              "      <td>без патологий</td>\n",
              "      <td>Z00.0</td>\n",
              "      <td>...</td>\n",
              "      <td>Нет данных</td>\n",
              "      <td>Нет данных</td>\n",
              "      <td>Нет данных</td>\n",
              "      <td>Нет данных</td>\n",
              "      <td>Нет данных</td>\n",
              "      <td>Нет данных</td>\n",
              "      <td>Нет данных</td>\n",
              "      <td>Нет данных</td>\n",
              "      <td>Нет данных</td>\n",
              "      <td>Нет данных</td>\n",
              "    </tr>\n",
              "  </tbody>\n",
              "</table>\n",
              "<p>1 rows × 213 columns</p>\n",
              "</div>\n",
              "      <button class=\"colab-df-convert\" onclick=\"convertToInteractive('df-a0343ae2-98dc-44a8-b9d5-3fc51a505119')\"\n",
              "              title=\"Convert this dataframe to an interactive table.\"\n",
              "              style=\"display:none;\">\n",
              "        \n",
              "  <svg xmlns=\"http://www.w3.org/2000/svg\" height=\"24px\"viewBox=\"0 0 24 24\"\n",
              "       width=\"24px\">\n",
              "    <path d=\"M0 0h24v24H0V0z\" fill=\"none\"/>\n",
              "    <path d=\"M18.56 5.44l.94 2.06.94-2.06 2.06-.94-2.06-.94-.94-2.06-.94 2.06-2.06.94zm-11 1L8.5 8.5l.94-2.06 2.06-.94-2.06-.94L8.5 2.5l-.94 2.06-2.06.94zm10 10l.94 2.06.94-2.06 2.06-.94-2.06-.94-.94-2.06-.94 2.06-2.06.94z\"/><path d=\"M17.41 7.96l-1.37-1.37c-.4-.4-.92-.59-1.43-.59-.52 0-1.04.2-1.43.59L10.3 9.45l-7.72 7.72c-.78.78-.78 2.05 0 2.83L4 21.41c.39.39.9.59 1.41.59.51 0 1.02-.2 1.41-.59l7.78-7.78 2.81-2.81c.8-.78.8-2.07 0-2.86zM5.41 20L4 18.59l7.72-7.72 1.47 1.35L5.41 20z\"/>\n",
              "  </svg>\n",
              "      </button>\n",
              "      \n",
              "  <style>\n",
              "    .colab-df-container {\n",
              "      display:flex;\n",
              "      flex-wrap:wrap;\n",
              "      gap: 12px;\n",
              "    }\n",
              "\n",
              "    .colab-df-convert {\n",
              "      background-color: #E8F0FE;\n",
              "      border: none;\n",
              "      border-radius: 50%;\n",
              "      cursor: pointer;\n",
              "      display: none;\n",
              "      fill: #1967D2;\n",
              "      height: 32px;\n",
              "      padding: 0 0 0 0;\n",
              "      width: 32px;\n",
              "    }\n",
              "\n",
              "    .colab-df-convert:hover {\n",
              "      background-color: #E2EBFA;\n",
              "      box-shadow: 0px 1px 2px rgba(60, 64, 67, 0.3), 0px 1px 3px 1px rgba(60, 64, 67, 0.15);\n",
              "      fill: #174EA6;\n",
              "    }\n",
              "\n",
              "    [theme=dark] .colab-df-convert {\n",
              "      background-color: #3B4455;\n",
              "      fill: #D2E3FC;\n",
              "    }\n",
              "\n",
              "    [theme=dark] .colab-df-convert:hover {\n",
              "      background-color: #434B5C;\n",
              "      box-shadow: 0px 1px 3px 1px rgba(0, 0, 0, 0.15);\n",
              "      filter: drop-shadow(0px 1px 2px rgba(0, 0, 0, 0.3));\n",
              "      fill: #FFFFFF;\n",
              "    }\n",
              "  </style>\n",
              "\n",
              "      <script>\n",
              "        const buttonEl =\n",
              "          document.querySelector('#df-a0343ae2-98dc-44a8-b9d5-3fc51a505119 button.colab-df-convert');\n",
              "        buttonEl.style.display =\n",
              "          google.colab.kernel.accessAllowed ? 'block' : 'none';\n",
              "\n",
              "        async function convertToInteractive(key) {\n",
              "          const element = document.querySelector('#df-a0343ae2-98dc-44a8-b9d5-3fc51a505119');\n",
              "          const dataTable =\n",
              "            await google.colab.kernel.invokeFunction('convertToInteractive',\n",
              "                                                     [key], {});\n",
              "          if (!dataTable) return;\n",
              "\n",
              "          const docLinkHtml = 'Like what you see? Visit the ' +\n",
              "            '<a target=\"_blank\" href=https://colab.research.google.com/notebooks/data_table.ipynb>data table notebook</a>'\n",
              "            + ' to learn more about interactive tables.';\n",
              "          element.innerHTML = '';\n",
              "          dataTable['output_type'] = 'display_data';\n",
              "          await google.colab.output.renderOutput(dataTable, element);\n",
              "          const docLink = document.createElement('div');\n",
              "          docLink.innerHTML = docLinkHtml;\n",
              "          element.appendChild(docLink);\n",
              "        }\n",
              "      </script>\n",
              "    </div>\n",
              "  </div>\n",
              "  "
            ]
          },
          "metadata": {},
          "execution_count": 39
        }
      ]
    },
    {
      "cell_type": "code",
      "source": [
        "# Добавление новой колонки 'класс безопасности' в датафрейм health_survey\n",
        "# и заполнение значениями из словаря в соответствии с ключами из колонки 'Профессия'\n",
        "health_survey.insert(2, 'класс безопасности', selected_rows['Профессия'].map(dictionary))"
      ],
      "metadata": {
        "colab": {
          "base_uri": "https://localhost:8080/",
          "height": 321
        },
        "id": "Sv-hDrSKF-i3",
        "outputId": "99b8a2b4-973f-49c9-bafc-b2a30c876f8a"
      },
      "execution_count": null,
      "outputs": [
        {
          "output_type": "error",
          "ename": "ValueError",
          "evalue": "ignored",
          "traceback": [
            "\u001b[0;31m---------------------------------------------------------------------------\u001b[0m",
            "\u001b[0;31mValueError\u001b[0m                                Traceback (most recent call last)",
            "\u001b[0;32m<ipython-input-32-461fc9081cb2>\u001b[0m in \u001b[0;36m<cell line: 3>\u001b[0;34m()\u001b[0m\n\u001b[1;32m      1\u001b[0m \u001b[0;31m# Добавление новой колонки 'класс безопасности' в датафрейм health_survey\u001b[0m\u001b[0;34m\u001b[0m\u001b[0;34m\u001b[0m\u001b[0m\n\u001b[1;32m      2\u001b[0m \u001b[0;31m# и заполнение значениями из словаря в соответствии с ключами из колонки 'Профессия'\u001b[0m\u001b[0;34m\u001b[0m\u001b[0;34m\u001b[0m\u001b[0m\n\u001b[0;32m----> 3\u001b[0;31m \u001b[0mhealth_survey\u001b[0m\u001b[0;34m.\u001b[0m\u001b[0minsert\u001b[0m\u001b[0;34m(\u001b[0m\u001b[0;36m2\u001b[0m\u001b[0;34m,\u001b[0m \u001b[0;34m'класс безопасности'\u001b[0m\u001b[0;34m,\u001b[0m \u001b[0mselected_rows\u001b[0m\u001b[0;34m[\u001b[0m\u001b[0;34m'Профессия'\u001b[0m\u001b[0;34m]\u001b[0m\u001b[0;34m.\u001b[0m\u001b[0mmap\u001b[0m\u001b[0;34m(\u001b[0m\u001b[0mdictionary\u001b[0m\u001b[0;34m)\u001b[0m\u001b[0;34m)\u001b[0m\u001b[0;34m\u001b[0m\u001b[0;34m\u001b[0m\u001b[0m\n\u001b[0m",
            "\u001b[0;32m/usr/local/lib/python3.10/dist-packages/pandas/core/frame.py\u001b[0m in \u001b[0;36minsert\u001b[0;34m(self, loc, column, value, allow_duplicates)\u001b[0m\n\u001b[1;32m   4815\u001b[0m         \u001b[0;32mif\u001b[0m \u001b[0;32mnot\u001b[0m \u001b[0mallow_duplicates\u001b[0m \u001b[0;32mand\u001b[0m \u001b[0mcolumn\u001b[0m \u001b[0;32min\u001b[0m \u001b[0mself\u001b[0m\u001b[0;34m.\u001b[0m\u001b[0mcolumns\u001b[0m\u001b[0;34m:\u001b[0m\u001b[0;34m\u001b[0m\u001b[0;34m\u001b[0m\u001b[0m\n\u001b[1;32m   4816\u001b[0m             \u001b[0;31m# Should this be a different kind of error??\u001b[0m\u001b[0;34m\u001b[0m\u001b[0;34m\u001b[0m\u001b[0m\n\u001b[0;32m-> 4817\u001b[0;31m             \u001b[0;32mraise\u001b[0m \u001b[0mValueError\u001b[0m\u001b[0;34m(\u001b[0m\u001b[0;34mf\"cannot insert {column}, already exists\"\u001b[0m\u001b[0;34m)\u001b[0m\u001b[0;34m\u001b[0m\u001b[0;34m\u001b[0m\u001b[0m\n\u001b[0m\u001b[1;32m   4818\u001b[0m         \u001b[0;32mif\u001b[0m \u001b[0;32mnot\u001b[0m \u001b[0misinstance\u001b[0m\u001b[0;34m(\u001b[0m\u001b[0mloc\u001b[0m\u001b[0;34m,\u001b[0m \u001b[0mint\u001b[0m\u001b[0;34m)\u001b[0m\u001b[0;34m:\u001b[0m\u001b[0;34m\u001b[0m\u001b[0;34m\u001b[0m\u001b[0m\n\u001b[1;32m   4819\u001b[0m             \u001b[0;32mraise\u001b[0m \u001b[0mTypeError\u001b[0m\u001b[0;34m(\u001b[0m\u001b[0;34m\"loc must be int\"\u001b[0m\u001b[0;34m)\u001b[0m\u001b[0;34m\u001b[0m\u001b[0;34m\u001b[0m\u001b[0m\n",
            "\u001b[0;31mValueError\u001b[0m: cannot insert класс безопасности, already exists"
          ]
        }
      ]
    },
    {
      "cell_type": "code",
      "source": [
        "health_survey.head(1)"
      ],
      "metadata": {
        "colab": {
          "base_uri": "https://localhost:8080/",
          "height": 292
        },
        "id": "j_hBRDupDf3M",
        "outputId": "274ce933-07f1-4558-94f3-1ccc83f4f017"
      },
      "execution_count": null,
      "outputs": [
        {
          "output_type": "execute_result",
          "data": {
            "text/plain": [
              "                   КлиентПол                                  Профессия  \\\n",
              "КлиентДатаРождения                                                        \n",
              "1976                 Женский  Ведущий специалист по организации обуения   \n",
              "\n",
              "                   ВредныеФакторы класс безопасности  ПсихОсвидетельствование  \\\n",
              "КлиентДатаРождения                                                              \n",
              "1976                         11.4         нет данных                    False   \n",
              "\n",
              "                   ЗаключениеМК            ЗаключениеМКПредставление  \\\n",
              "КлиентДатаРождения                                                     \n",
              "1976                      Годен  Годен к работе в указанных условиях   \n",
              "\n",
              "                                             Заключение  \\\n",
              "КлиентДатаРождения                                        \n",
              "1976                Годен к работе в указанных условиях   \n",
              "\n",
              "                   Рентгенология1_Заключение_Значение  \\\n",
              "КлиентДатаРождения                                      \n",
              "1976                                    без патологий   \n",
              "\n",
              "                   Рентгенология1_Заключение_ЗначениеПредставление  ...  \\\n",
              "КлиентДатаРождения                                                  ...   \n",
              "1976                                                 без патологий  ...   \n",
              "\n",
              "                   Психиатрия3_МКБ102 Психиатрия4_МКБ101  \\\n",
              "КлиентДатаРождения                                         \n",
              "1976                       Нет данных         Нет данных   \n",
              "\n",
              "                   Психиатрия4_ПрофнепригодностьВременная1  \\\n",
              "КлиентДатаРождения                                           \n",
              "1976                                            Нет данных   \n",
              "\n",
              "                   Психиатрия4_ПрофнепригодностьВременнаяПредставление1  \\\n",
              "КлиентДатаРождения                                                        \n",
              "1976                                                       Нет данных     \n",
              "\n",
              "                   Психиатрия4_МКБ102 Оториноларингология3_МКБ101  \\\n",
              "КлиентДатаРождения                                                  \n",
              "1976                       Нет данных                  Нет данных   \n",
              "\n",
              "                   Оториноларингология3_ПрофнепригодностьВременная1  \\\n",
              "КлиентДатаРождения                                                    \n",
              "1976                                                     Нет данных   \n",
              "\n",
              "                   Оториноларингология3_ПрофнепригодностьВременнаяПредставление1  \\\n",
              "КлиентДатаРождения                                                                 \n",
              "1976                                                       Нет данных              \n",
              "\n",
              "                   Оториноларингология1_ЖалобыДополнение_Значение  \\\n",
              "КлиентДатаРождения                                                  \n",
              "1976                                                   Нет данных   \n",
              "\n",
              "                   Оториноларингология1_ЖалобыДополнение_ЗначениеПредставление  \n",
              "КлиентДатаРождения                                                              \n",
              "1976                                                       Нет данных           \n",
              "\n",
              "[1 rows x 214 columns]"
            ],
            "text/html": [
              "\n",
              "  <div id=\"df-8297da4e-f767-4295-9185-174a449fd0af\">\n",
              "    <div class=\"colab-df-container\">\n",
              "      <div>\n",
              "<style scoped>\n",
              "    .dataframe tbody tr th:only-of-type {\n",
              "        vertical-align: middle;\n",
              "    }\n",
              "\n",
              "    .dataframe tbody tr th {\n",
              "        vertical-align: top;\n",
              "    }\n",
              "\n",
              "    .dataframe thead th {\n",
              "        text-align: right;\n",
              "    }\n",
              "</style>\n",
              "<table border=\"1\" class=\"dataframe\">\n",
              "  <thead>\n",
              "    <tr style=\"text-align: right;\">\n",
              "      <th></th>\n",
              "      <th>КлиентПол</th>\n",
              "      <th>Профессия</th>\n",
              "      <th>ВредныеФакторы</th>\n",
              "      <th>класс безопасности</th>\n",
              "      <th>ПсихОсвидетельствование</th>\n",
              "      <th>ЗаключениеМК</th>\n",
              "      <th>ЗаключениеМКПредставление</th>\n",
              "      <th>Заключение</th>\n",
              "      <th>Рентгенология1_Заключение_Значение</th>\n",
              "      <th>Рентгенология1_Заключение_ЗначениеПредставление</th>\n",
              "      <th>...</th>\n",
              "      <th>Психиатрия3_МКБ102</th>\n",
              "      <th>Психиатрия4_МКБ101</th>\n",
              "      <th>Психиатрия4_ПрофнепригодностьВременная1</th>\n",
              "      <th>Психиатрия4_ПрофнепригодностьВременнаяПредставление1</th>\n",
              "      <th>Психиатрия4_МКБ102</th>\n",
              "      <th>Оториноларингология3_МКБ101</th>\n",
              "      <th>Оториноларингология3_ПрофнепригодностьВременная1</th>\n",
              "      <th>Оториноларингология3_ПрофнепригодностьВременнаяПредставление1</th>\n",
              "      <th>Оториноларингология1_ЖалобыДополнение_Значение</th>\n",
              "      <th>Оториноларингология1_ЖалобыДополнение_ЗначениеПредставление</th>\n",
              "    </tr>\n",
              "    <tr>\n",
              "      <th>КлиентДатаРождения</th>\n",
              "      <th></th>\n",
              "      <th></th>\n",
              "      <th></th>\n",
              "      <th></th>\n",
              "      <th></th>\n",
              "      <th></th>\n",
              "      <th></th>\n",
              "      <th></th>\n",
              "      <th></th>\n",
              "      <th></th>\n",
              "      <th></th>\n",
              "      <th></th>\n",
              "      <th></th>\n",
              "      <th></th>\n",
              "      <th></th>\n",
              "      <th></th>\n",
              "      <th></th>\n",
              "      <th></th>\n",
              "      <th></th>\n",
              "      <th></th>\n",
              "      <th></th>\n",
              "    </tr>\n",
              "  </thead>\n",
              "  <tbody>\n",
              "    <tr>\n",
              "      <th>1976</th>\n",
              "      <td>Женский</td>\n",
              "      <td>Ведущий специалист по организации обуения</td>\n",
              "      <td>11.4</td>\n",
              "      <td>нет данных</td>\n",
              "      <td>False</td>\n",
              "      <td>Годен</td>\n",
              "      <td>Годен к работе в указанных условиях</td>\n",
              "      <td>Годен к работе в указанных условиях</td>\n",
              "      <td>без патологий</td>\n",
              "      <td>без патологий</td>\n",
              "      <td>...</td>\n",
              "      <td>Нет данных</td>\n",
              "      <td>Нет данных</td>\n",
              "      <td>Нет данных</td>\n",
              "      <td>Нет данных</td>\n",
              "      <td>Нет данных</td>\n",
              "      <td>Нет данных</td>\n",
              "      <td>Нет данных</td>\n",
              "      <td>Нет данных</td>\n",
              "      <td>Нет данных</td>\n",
              "      <td>Нет данных</td>\n",
              "    </tr>\n",
              "  </tbody>\n",
              "</table>\n",
              "<p>1 rows × 214 columns</p>\n",
              "</div>\n",
              "      <button class=\"colab-df-convert\" onclick=\"convertToInteractive('df-8297da4e-f767-4295-9185-174a449fd0af')\"\n",
              "              title=\"Convert this dataframe to an interactive table.\"\n",
              "              style=\"display:none;\">\n",
              "        \n",
              "  <svg xmlns=\"http://www.w3.org/2000/svg\" height=\"24px\"viewBox=\"0 0 24 24\"\n",
              "       width=\"24px\">\n",
              "    <path d=\"M0 0h24v24H0V0z\" fill=\"none\"/>\n",
              "    <path d=\"M18.56 5.44l.94 2.06.94-2.06 2.06-.94-2.06-.94-.94-2.06-.94 2.06-2.06.94zm-11 1L8.5 8.5l.94-2.06 2.06-.94-2.06-.94L8.5 2.5l-.94 2.06-2.06.94zm10 10l.94 2.06.94-2.06 2.06-.94-2.06-.94-.94-2.06-.94 2.06-2.06.94z\"/><path d=\"M17.41 7.96l-1.37-1.37c-.4-.4-.92-.59-1.43-.59-.52 0-1.04.2-1.43.59L10.3 9.45l-7.72 7.72c-.78.78-.78 2.05 0 2.83L4 21.41c.39.39.9.59 1.41.59.51 0 1.02-.2 1.41-.59l7.78-7.78 2.81-2.81c.8-.78.8-2.07 0-2.86zM5.41 20L4 18.59l7.72-7.72 1.47 1.35L5.41 20z\"/>\n",
              "  </svg>\n",
              "      </button>\n",
              "      \n",
              "  <style>\n",
              "    .colab-df-container {\n",
              "      display:flex;\n",
              "      flex-wrap:wrap;\n",
              "      gap: 12px;\n",
              "    }\n",
              "\n",
              "    .colab-df-convert {\n",
              "      background-color: #E8F0FE;\n",
              "      border: none;\n",
              "      border-radius: 50%;\n",
              "      cursor: pointer;\n",
              "      display: none;\n",
              "      fill: #1967D2;\n",
              "      height: 32px;\n",
              "      padding: 0 0 0 0;\n",
              "      width: 32px;\n",
              "    }\n",
              "\n",
              "    .colab-df-convert:hover {\n",
              "      background-color: #E2EBFA;\n",
              "      box-shadow: 0px 1px 2px rgba(60, 64, 67, 0.3), 0px 1px 3px 1px rgba(60, 64, 67, 0.15);\n",
              "      fill: #174EA6;\n",
              "    }\n",
              "\n",
              "    [theme=dark] .colab-df-convert {\n",
              "      background-color: #3B4455;\n",
              "      fill: #D2E3FC;\n",
              "    }\n",
              "\n",
              "    [theme=dark] .colab-df-convert:hover {\n",
              "      background-color: #434B5C;\n",
              "      box-shadow: 0px 1px 3px 1px rgba(0, 0, 0, 0.15);\n",
              "      filter: drop-shadow(0px 1px 2px rgba(0, 0, 0, 0.3));\n",
              "      fill: #FFFFFF;\n",
              "    }\n",
              "  </style>\n",
              "\n",
              "      <script>\n",
              "        const buttonEl =\n",
              "          document.querySelector('#df-8297da4e-f767-4295-9185-174a449fd0af button.colab-df-convert');\n",
              "        buttonEl.style.display =\n",
              "          google.colab.kernel.accessAllowed ? 'block' : 'none';\n",
              "\n",
              "        async function convertToInteractive(key) {\n",
              "          const element = document.querySelector('#df-8297da4e-f767-4295-9185-174a449fd0af');\n",
              "          const dataTable =\n",
              "            await google.colab.kernel.invokeFunction('convertToInteractive',\n",
              "                                                     [key], {});\n",
              "          if (!dataTable) return;\n",
              "\n",
              "          const docLinkHtml = 'Like what you see? Visit the ' +\n",
              "            '<a target=\"_blank\" href=https://colab.research.google.com/notebooks/data_table.ipynb>data table notebook</a>'\n",
              "            + ' to learn more about interactive tables.';\n",
              "          element.innerHTML = '';\n",
              "          dataTable['output_type'] = 'display_data';\n",
              "          await google.colab.output.renderOutput(dataTable, element);\n",
              "          const docLink = document.createElement('div');\n",
              "          docLink.innerHTML = docLinkHtml;\n",
              "          element.appendChild(docLink);\n",
              "        }\n",
              "      </script>\n",
              "    </div>\n",
              "  </div>\n",
              "  "
            ]
          },
          "metadata": {},
          "execution_count": 30
        }
      ]
    },
    {
      "cell_type": "code",
      "source": [
        "# Создаём пустой словарь\n",
        "my_dict = {}\n",
        "\n",
        "# Проходим по всему датафрейму и заносим данные в словарь\n",
        "for index, row in df_p.iterrows():\n",
        "    my_dict[row[0]] = row[1]\n",
        "\n",
        "# Создаём список ключей для поиска в датафрейме\n",
        "keys = list(my_dict.keys())\n",
        "\n",
        "# Проходим по колонке 'Профессия' и делаем выборку строк, содержащих ключевые слова\n",
        "selected_rows = health_survey[health_survey['Профессия'].str.contains('|'.join(keys))]\n",
        "\n",
        "# Создаём новую колонку 'класс безопасности' и помещаем её под индексом [3]\n",
        "health_survey.insert(3, 'класс безопасности', 'нет данных')\n",
        "\n",
        "# Обновляем новую колонку значениями из словаря, если соответствующий ключ присутствует в выбранных строках\n",
        "for index, row in selected_rows.iterrows():\n",
        "    if row['Профессия'] in my_dict.keys():\n",
        "        health_survey.at[index, 'класс безопасности'] = my_dict[row['Профессия']]\n"
      ],
      "metadata": {
        "id": "yrQTe_EBAVdZ"
      },
      "execution_count": null,
      "outputs": []
    },
    {
      "cell_type": "code",
      "source": [
        "health_survey.head(1)"
      ],
      "metadata": {
        "colab": {
          "base_uri": "https://localhost:8080/",
          "height": 292
        },
        "id": "1FPjxroAApXo",
        "outputId": "b17c2b72-2b07-45d3-a0c7-78fe4b9a94c0"
      },
      "execution_count": null,
      "outputs": [
        {
          "output_type": "execute_result",
          "data": {
            "text/plain": [
              "                   КлиентПол                                  Профессия  \\\n",
              "КлиентДатаРождения                                                        \n",
              "1976                 Женский  Ведущий специалист по организации обуения   \n",
              "\n",
              "                   ВредныеФакторы класс безопасности  ПсихОсвидетельствование  \\\n",
              "КлиентДатаРождения                                                              \n",
              "1976                         11.4         нет данных                    False   \n",
              "\n",
              "                   ЗаключениеМК            ЗаключениеМКПредставление  \\\n",
              "КлиентДатаРождения                                                     \n",
              "1976                      Годен  Годен к работе в указанных условиях   \n",
              "\n",
              "                                             Заключение  \\\n",
              "КлиентДатаРождения                                        \n",
              "1976                Годен к работе в указанных условиях   \n",
              "\n",
              "                   Рентгенология1_Заключение_Значение  \\\n",
              "КлиентДатаРождения                                      \n",
              "1976                                    без патологий   \n",
              "\n",
              "                   Рентгенология1_Заключение_ЗначениеПредставление  ...  \\\n",
              "КлиентДатаРождения                                                  ...   \n",
              "1976                                                 без патологий  ...   \n",
              "\n",
              "                   Психиатрия3_МКБ102 Психиатрия4_МКБ101  \\\n",
              "КлиентДатаРождения                                         \n",
              "1976                       Нет данных         Нет данных   \n",
              "\n",
              "                   Психиатрия4_ПрофнепригодностьВременная1  \\\n",
              "КлиентДатаРождения                                           \n",
              "1976                                            Нет данных   \n",
              "\n",
              "                   Психиатрия4_ПрофнепригодностьВременнаяПредставление1  \\\n",
              "КлиентДатаРождения                                                        \n",
              "1976                                                       Нет данных     \n",
              "\n",
              "                   Психиатрия4_МКБ102 Оториноларингология3_МКБ101  \\\n",
              "КлиентДатаРождения                                                  \n",
              "1976                       Нет данных                  Нет данных   \n",
              "\n",
              "                   Оториноларингология3_ПрофнепригодностьВременная1  \\\n",
              "КлиентДатаРождения                                                    \n",
              "1976                                                     Нет данных   \n",
              "\n",
              "                   Оториноларингология3_ПрофнепригодностьВременнаяПредставление1  \\\n",
              "КлиентДатаРождения                                                                 \n",
              "1976                                                       Нет данных              \n",
              "\n",
              "                   Оториноларингология1_ЖалобыДополнение_Значение  \\\n",
              "КлиентДатаРождения                                                  \n",
              "1976                                                   Нет данных   \n",
              "\n",
              "                   Оториноларингология1_ЖалобыДополнение_ЗначениеПредставление  \n",
              "КлиентДатаРождения                                                              \n",
              "1976                                                       Нет данных           \n",
              "\n",
              "[1 rows x 214 columns]"
            ],
            "text/html": [
              "\n",
              "  <div id=\"df-efd7ca41-6e9f-40b9-9e2e-8f5c66e1f0ce\">\n",
              "    <div class=\"colab-df-container\">\n",
              "      <div>\n",
              "<style scoped>\n",
              "    .dataframe tbody tr th:only-of-type {\n",
              "        vertical-align: middle;\n",
              "    }\n",
              "\n",
              "    .dataframe tbody tr th {\n",
              "        vertical-align: top;\n",
              "    }\n",
              "\n",
              "    .dataframe thead th {\n",
              "        text-align: right;\n",
              "    }\n",
              "</style>\n",
              "<table border=\"1\" class=\"dataframe\">\n",
              "  <thead>\n",
              "    <tr style=\"text-align: right;\">\n",
              "      <th></th>\n",
              "      <th>КлиентПол</th>\n",
              "      <th>Профессия</th>\n",
              "      <th>ВредныеФакторы</th>\n",
              "      <th>класс безопасности</th>\n",
              "      <th>ПсихОсвидетельствование</th>\n",
              "      <th>ЗаключениеМК</th>\n",
              "      <th>ЗаключениеМКПредставление</th>\n",
              "      <th>Заключение</th>\n",
              "      <th>Рентгенология1_Заключение_Значение</th>\n",
              "      <th>Рентгенология1_Заключение_ЗначениеПредставление</th>\n",
              "      <th>...</th>\n",
              "      <th>Психиатрия3_МКБ102</th>\n",
              "      <th>Психиатрия4_МКБ101</th>\n",
              "      <th>Психиатрия4_ПрофнепригодностьВременная1</th>\n",
              "      <th>Психиатрия4_ПрофнепригодностьВременнаяПредставление1</th>\n",
              "      <th>Психиатрия4_МКБ102</th>\n",
              "      <th>Оториноларингология3_МКБ101</th>\n",
              "      <th>Оториноларингология3_ПрофнепригодностьВременная1</th>\n",
              "      <th>Оториноларингология3_ПрофнепригодностьВременнаяПредставление1</th>\n",
              "      <th>Оториноларингология1_ЖалобыДополнение_Значение</th>\n",
              "      <th>Оториноларингология1_ЖалобыДополнение_ЗначениеПредставление</th>\n",
              "    </tr>\n",
              "    <tr>\n",
              "      <th>КлиентДатаРождения</th>\n",
              "      <th></th>\n",
              "      <th></th>\n",
              "      <th></th>\n",
              "      <th></th>\n",
              "      <th></th>\n",
              "      <th></th>\n",
              "      <th></th>\n",
              "      <th></th>\n",
              "      <th></th>\n",
              "      <th></th>\n",
              "      <th></th>\n",
              "      <th></th>\n",
              "      <th></th>\n",
              "      <th></th>\n",
              "      <th></th>\n",
              "      <th></th>\n",
              "      <th></th>\n",
              "      <th></th>\n",
              "      <th></th>\n",
              "      <th></th>\n",
              "      <th></th>\n",
              "    </tr>\n",
              "  </thead>\n",
              "  <tbody>\n",
              "    <tr>\n",
              "      <th>1976</th>\n",
              "      <td>Женский</td>\n",
              "      <td>Ведущий специалист по организации обуения</td>\n",
              "      <td>11.4</td>\n",
              "      <td>нет данных</td>\n",
              "      <td>False</td>\n",
              "      <td>Годен</td>\n",
              "      <td>Годен к работе в указанных условиях</td>\n",
              "      <td>Годен к работе в указанных условиях</td>\n",
              "      <td>без патологий</td>\n",
              "      <td>без патологий</td>\n",
              "      <td>...</td>\n",
              "      <td>Нет данных</td>\n",
              "      <td>Нет данных</td>\n",
              "      <td>Нет данных</td>\n",
              "      <td>Нет данных</td>\n",
              "      <td>Нет данных</td>\n",
              "      <td>Нет данных</td>\n",
              "      <td>Нет данных</td>\n",
              "      <td>Нет данных</td>\n",
              "      <td>Нет данных</td>\n",
              "      <td>Нет данных</td>\n",
              "    </tr>\n",
              "  </tbody>\n",
              "</table>\n",
              "<p>1 rows × 214 columns</p>\n",
              "</div>\n",
              "      <button class=\"colab-df-convert\" onclick=\"convertToInteractive('df-efd7ca41-6e9f-40b9-9e2e-8f5c66e1f0ce')\"\n",
              "              title=\"Convert this dataframe to an interactive table.\"\n",
              "              style=\"display:none;\">\n",
              "        \n",
              "  <svg xmlns=\"http://www.w3.org/2000/svg\" height=\"24px\"viewBox=\"0 0 24 24\"\n",
              "       width=\"24px\">\n",
              "    <path d=\"M0 0h24v24H0V0z\" fill=\"none\"/>\n",
              "    <path d=\"M18.56 5.44l.94 2.06.94-2.06 2.06-.94-2.06-.94-.94-2.06-.94 2.06-2.06.94zm-11 1L8.5 8.5l.94-2.06 2.06-.94-2.06-.94L8.5 2.5l-.94 2.06-2.06.94zm10 10l.94 2.06.94-2.06 2.06-.94-2.06-.94-.94-2.06-.94 2.06-2.06.94z\"/><path d=\"M17.41 7.96l-1.37-1.37c-.4-.4-.92-.59-1.43-.59-.52 0-1.04.2-1.43.59L10.3 9.45l-7.72 7.72c-.78.78-.78 2.05 0 2.83L4 21.41c.39.39.9.59 1.41.59.51 0 1.02-.2 1.41-.59l7.78-7.78 2.81-2.81c.8-.78.8-2.07 0-2.86zM5.41 20L4 18.59l7.72-7.72 1.47 1.35L5.41 20z\"/>\n",
              "  </svg>\n",
              "      </button>\n",
              "      \n",
              "  <style>\n",
              "    .colab-df-container {\n",
              "      display:flex;\n",
              "      flex-wrap:wrap;\n",
              "      gap: 12px;\n",
              "    }\n",
              "\n",
              "    .colab-df-convert {\n",
              "      background-color: #E8F0FE;\n",
              "      border: none;\n",
              "      border-radius: 50%;\n",
              "      cursor: pointer;\n",
              "      display: none;\n",
              "      fill: #1967D2;\n",
              "      height: 32px;\n",
              "      padding: 0 0 0 0;\n",
              "      width: 32px;\n",
              "    }\n",
              "\n",
              "    .colab-df-convert:hover {\n",
              "      background-color: #E2EBFA;\n",
              "      box-shadow: 0px 1px 2px rgba(60, 64, 67, 0.3), 0px 1px 3px 1px rgba(60, 64, 67, 0.15);\n",
              "      fill: #174EA6;\n",
              "    }\n",
              "\n",
              "    [theme=dark] .colab-df-convert {\n",
              "      background-color: #3B4455;\n",
              "      fill: #D2E3FC;\n",
              "    }\n",
              "\n",
              "    [theme=dark] .colab-df-convert:hover {\n",
              "      background-color: #434B5C;\n",
              "      box-shadow: 0px 1px 3px 1px rgba(0, 0, 0, 0.15);\n",
              "      filter: drop-shadow(0px 1px 2px rgba(0, 0, 0, 0.3));\n",
              "      fill: #FFFFFF;\n",
              "    }\n",
              "  </style>\n",
              "\n",
              "      <script>\n",
              "        const buttonEl =\n",
              "          document.querySelector('#df-efd7ca41-6e9f-40b9-9e2e-8f5c66e1f0ce button.colab-df-convert');\n",
              "        buttonEl.style.display =\n",
              "          google.colab.kernel.accessAllowed ? 'block' : 'none';\n",
              "\n",
              "        async function convertToInteractive(key) {\n",
              "          const element = document.querySelector('#df-efd7ca41-6e9f-40b9-9e2e-8f5c66e1f0ce');\n",
              "          const dataTable =\n",
              "            await google.colab.kernel.invokeFunction('convertToInteractive',\n",
              "                                                     [key], {});\n",
              "          if (!dataTable) return;\n",
              "\n",
              "          const docLinkHtml = 'Like what you see? Visit the ' +\n",
              "            '<a target=\"_blank\" href=https://colab.research.google.com/notebooks/data_table.ipynb>data table notebook</a>'\n",
              "            + ' to learn more about interactive tables.';\n",
              "          element.innerHTML = '';\n",
              "          dataTable['output_type'] = 'display_data';\n",
              "          await google.colab.output.renderOutput(dataTable, element);\n",
              "          const docLink = document.createElement('div');\n",
              "          docLink.innerHTML = docLinkHtml;\n",
              "          element.appendChild(docLink);\n",
              "        }\n",
              "      </script>\n",
              "    </div>\n",
              "  </div>\n",
              "  "
            ]
          },
          "metadata": {},
          "execution_count": 23
        }
      ]
    },
    {
      "cell_type": "code",
      "source": [
        "# Чтение данных в датафрейм\n",
        "df_p = pd.read_excel('/content/drive/MyDrive/БазыCSV/InspectrumClinic/Проф1.xlsx')\n",
        "\n",
        "# Преобразование данных в словарь\n",
        "my_dict = df_p.set_index('Проф').to_dict()['КлУсл']"
      ],
      "metadata": {
        "id": "u87-5a7-rbdo"
      },
      "execution_count": null,
      "outputs": []
    },
    {
      "cell_type": "code",
      "source": [
        "df_p = pd.DataFrame{[Проф] : [], [КлУсл] : []}\n",
        "\n",
        "dictionary = df_p.set_index(df_p.columns[Проф]).to_dict()[df_p.columns[КлУсл]]\n",
        "\n",
        "print(dictionary)\n"
      ],
      "metadata": {
        "id": "C2Yr3xrLnTlz",
        "colab": {
          "base_uri": "https://localhost:8080/",
          "height": 130
        },
        "outputId": "6d7ffee1-56a3-47ae-b7f8-9851fe4447fe"
      },
      "execution_count": null,
      "outputs": [
        {
          "output_type": "error",
          "ename": "SyntaxError",
          "evalue": "ignored",
          "traceback": [
            "\u001b[0;36m  File \u001b[0;32m\"<ipython-input-8-34f81e47610d>\"\u001b[0;36m, line \u001b[0;32m1\u001b[0m\n\u001b[0;31m    df_p = pd.DataFrame{[Проф] : [], [КлУсл] : []}\u001b[0m\n\u001b[0m                       ^\u001b[0m\n\u001b[0;31mSyntaxError\u001b[0m\u001b[0;31m:\u001b[0m invalid syntax\n"
          ]
        }
      ]
    },
    {
      "cell_type": "code",
      "source": [
        "# датафрейм\n",
        "df_p = pd_p.DataFrame({[:, 0] : [], [:, 1] : []})\n",
        "\n",
        "# преобразуем датафрейм в словарь\n",
        "dictionary = df_p.set_index.iloc[:, 0].to_dict(orient='dict')[:, 1]\n",
        "\n",
        "# выведем на экран полученный словарь\n",
        "print(dictionary)\n"
      ],
      "metadata": {
        "id": "xiH09C6YmHDR",
        "colab": {
          "base_uri": "https://localhost:8080/",
          "height": 130
        },
        "outputId": "3832b7de-b810-4f3b-e209-831d222751a9"
      },
      "execution_count": null,
      "outputs": [
        {
          "output_type": "error",
          "ename": "SyntaxError",
          "evalue": "ignored",
          "traceback": [
            "\u001b[0;36m  File \u001b[0;32m\"<ipython-input-10-4f3265b9f227>\"\u001b[0;36m, line \u001b[0;32m2\u001b[0m\n\u001b[0;31m    df_p = pd_p.DataFrame({[:, 0] : [], [:, 1] : []})\u001b[0m\n\u001b[0m                            ^\u001b[0m\n\u001b[0;31mSyntaxError\u001b[0m\u001b[0;31m:\u001b[0m invalid syntax\n"
          ]
        }
      ]
    },
    {
      "cell_type": "code",
      "source": [
        "# Чтение данных в датафрейм\n",
        "df_p = pd.read_excel('/content/drive/MyDrive/БазыCSV/InspectrumClinic/Проф1.xlsx')\n",
        "\n",
        "# Преобразование данных в словарь\n",
        "my_dict = df_p.set_index('Проф').to_dict()['КлУсл']\n"
      ],
      "metadata": {
        "id": "6BoVJniMjgYu"
      },
      "execution_count": null,
      "outputs": []
    },
    {
      "cell_type": "code",
      "source": [
        "# создание словаря\n",
        "prof_dict = my_dict[]\n",
        "prof_dict = {}\n",
        "\n",
        "# выборка строк с помощью метода str.contains\n",
        "selected_rows = health_survey[health_survey['Профессия'].str.contains('|'.join(prof_dict.keys()))].index\n",
        "\n",
        "# замена значений в колонке 'Профессия' на значения индексов словаря\n",
        "health_survey.loc[selected_rows, 'Профессия'] = [prof_dict[i] for i in health_survey.loc[selected_rows, 'Профессия']]\n"
      ],
      "metadata": {
        "id": "sNINK4BCerMY",
        "colab": {
          "base_uri": "https://localhost:8080/",
          "height": 130
        },
        "outputId": "4aa6c78b-5ffe-4873-8b71-518f71a60de4"
      },
      "execution_count": null,
      "outputs": [
        {
          "output_type": "error",
          "ename": "SyntaxError",
          "evalue": "ignored",
          "traceback": [
            "\u001b[0;36m  File \u001b[0;32m\"<ipython-input-13-b5d688f28e93>\"\u001b[0;36m, line \u001b[0;32m2\u001b[0m\n\u001b[0;31m    prof_dict = my_dict[]\u001b[0m\n\u001b[0m                        ^\u001b[0m\n\u001b[0;31mSyntaxError\u001b[0m\u001b[0;31m:\u001b[0m invalid syntax\n"
          ]
        }
      ]
    },
    {
      "cell_type": "code",
      "source": [
        "# загрузка данных датафреймы 'health_survey' и 'df_p'\n",
        "health_survey = pd.read_csv('/content/drive/MyDrive/БазыCSV/health_survey.csv', index_col=0)\n",
        "df_p = pd.read_excel('/content/drive/MyDrive/БазыCSV/InspectrumClinic/Прфессии9кл.xlsx')\n",
        "\n",
        "# создание списка слов из колонки 0 датафрейма df_p\n",
        "words = list(df_p.iloc[:, 0])\n",
        "\n",
        "# проход по колонке 'Профессия' и выбор индексов значений по вхождениям слов из списка\n",
        "indexes = health_survey[health_survey['Профессия'].str.contains('|'.join(words))].index\n",
        "\n",
        "# замена значений в колонке 'Профессия' на значения из списка колонки 0 в df_p\n",
        "health_survey.loc[indexes, 'Профессия'] = df_p.iloc[:, 0].values\n",
        "\n",
        "# сохранение изменений в файл\n",
        "health_survey.to_csv('health_survey_up.csv', index=False)\n"
      ],
      "metadata": {
        "id": "_J-Efj6MokXg"
      },
      "execution_count": null,
      "outputs": []
    },
    {
      "cell_type": "markdown",
      "source": [
        "НЕ ЗАПУСКАТЬ - Дежурный код"
      ],
      "metadata": {
        "id": "upIYundgaT-T"
      }
    },
    {
      "cell_type": "code",
      "source": [
        "\n",
        "from sklearn.feature_extraction.text import CountVectorizer\n",
        "\n",
        "# считываем данные из файла в датафрейм\n",
        "#df = pd.read_csv('имя_файла.csv')\n",
        "\n",
        "# выбираем нужные столбцы из датафрейма\n",
        "selected_columns = ['', '']\n",
        "health_survey_selected = health_survey[selected_columns]\n",
        "\n",
        "# вычисляем корреляцию между столбцами\n",
        "correlations = health_survey_selected.corr()\n",
        "\n",
        "# выбираем столбцы с коэффициентом корреляции > 0.6\n",
        "selected_columns = correlations.columns[correlations.iloc[-1] > 0.6]\n",
        "\n",
        "# создаём набор текстовых документов, каждый из которых состоит из значений выбранных столбцов\n",
        "documents = list(health_survey[selected_columns].apply(lambda x: ' '.join(x.astype(str)), axis=1).values)\n",
        "\n",
        "# преобразуем набор документов в последовательность индексов в матрице Bag of Words\n",
        "vectorizer = CountVectorizer(binary=True)\n",
        "X = vectorizer.fit_transform(documents)\n"
      ],
      "metadata": {
        "id": "frxR_-qE_LLU"
      },
      "execution_count": null,
      "outputs": []
    },
    {
      "cell_type": "markdown",
      "source": [
        "Удаляем строки не имеющие целевых значений в столбце \"ЗаключениеМК\""
      ],
      "metadata": {
        "id": "MNA9EcYnp0e2"
      }
    },
    {
      "cell_type": "code",
      "source": [
        "index_list = health_survey[(health_survey['ЗаключениеМК'] == 'машинист бульдозера') |\n",
        " (health_survey['ЗаключениеМК'] == 'Газоспасатель') |\n",
        "  (health_survey['ЗаключениеМК'] == 'Нет данных')].index.tolist()"
      ],
      "metadata": {
        "id": "FUxQWTGRpREf"
      },
      "execution_count": null,
      "outputs": []
    },
    {
      "cell_type": "code",
      "source": [
        "health_survey.drop(index_list, inplace=True)"
      ],
      "metadata": {
        "id": "1qIGTjAbqa7l"
      },
      "execution_count": null,
      "outputs": []
    },
    {
      "cell_type": "code",
      "source": [
        "# Уникальные значения колонки\n",
        "display(health_survey['ЗаключениеМК'].unique())"
      ],
      "metadata": {
        "id": "R0k2VmBuqavD",
        "colab": {
          "base_uri": "https://localhost:8080/",
          "height": 34
        },
        "outputId": "f683a84a-e599-4e95-feec-3069306b5205"
      },
      "execution_count": null,
      "outputs": [
        {
          "output_type": "display_data",
          "data": {
            "text/plain": [
              "array(['Годен', 'ГоденСКоррекциейЗрения'], dtype=object)"
            ]
          },
          "metadata": {}
        }
      ]
    },
    {
      "cell_type": "markdown",
      "source": [
        "Корректируем данные в колонке \" \""
      ],
      "metadata": {
        "id": "mXESJ-emqI9V"
      }
    },
    {
      "cell_type": "code",
      "source": [],
      "metadata": {
        "id": "rmR_7-LiqWrl"
      },
      "execution_count": null,
      "outputs": []
    },
    {
      "cell_type": "markdown",
      "source": [
        "ДАЛЕЕ РАБОТА НЕ ПРОИЗВОДИЛАСЬ"
      ],
      "metadata": {
        "id": "vGjOE11R9EGb"
      }
    },
    {
      "cell_type": "markdown",
      "metadata": {
        "id": "WXt5FW2XF7iH"
      },
      "source": [
        "# Формирование классов\n",
        "Ввиду того что задача создаваемой НС носит характер \"Рекомендательной системы\"\n",
        "по этому колонки \"ЗаключениеМК\" для полноценного анализа не достаточно так как данные содержащиеся в этой колонке разбалансированны и мало информативны для целевой рекомендации.\n",
        "\n",
        "Есть версия что в колонке \"ЗаключениеМК\" надо рассматривать два класса \"Годен\" и 'НуждаетсяВДообследовании'. Так для рекомендации необходимо понимание самой рекомендации или вектор. При фомировании y_train для эффективности обучения так же следует расматривать столбцы с уже приобретёнными болезнями и явными диагнозами такие как\n",
        "'Заключение', \"ЖалобыДополнение\" в виде отрицательных факторов 'диагноза'  --\n",
        " (\"Заключения МК\").\n",
        "\n",
        "Так мы устраняем разбалансировку и даём вектор поиска патологий.\n"
      ]
    },
    {
      "cell_type": "code",
      "execution_count": null,
      "metadata": {
        "id": "CB__dhuiYg1B"
      },
      "outputs": [],
      "source": [
        "# Импорт библиотек и инструментов\n",
        "from google.colab import files              # Импортируем библиотеку files для работы с файлами\n",
        "import pandas as pd                         # Импортируем библиотеку обработки и анализа данных pandas\n",
        "import matplotlib.pyplot as plt             # Импортируем модуль pyplot библиотеки matplotlib для построения графиков\n",
        "import seaborn as sns                       # Импортируем модуль seaborn библиотеки matplotlib для построения графиков\n",
        "import gdown\n",
        "import numpy as np\n",
        "import re\n",
        "from tensorflow.keras import utils\n",
        "from tensorflow.keras.preprocessing.text import Tokenizer, text_to_word_sequence\n",
        "from sklearn.preprocessing import StandardScaler\n",
        "from sklearn.model_selection import train_test_split\n",
        "from IPython.display import clear_output"
      ]
    },
    {
      "cell_type": "code",
      "execution_count": null,
      "metadata": {
        "id": "rMFxHtzpFs7r"
      },
      "outputs": [],
      "source": [
        "health_survey = pd.read_csv('/content/drive/MyDrive/БазыCSV/health_survey.csv', index_col=0)"
      ]
    },
    {
      "cell_type": "code",
      "source": [
        "# Создание копии таблицы\n",
        "health_survey_backup = health_survey.copy()\n",
        "health_survey.head(1)"
      ],
      "metadata": {
        "id": "jskYaoyn427y"
      },
      "execution_count": null,
      "outputs": []
    },
    {
      "cell_type": "code",
      "execution_count": null,
      "metadata": {
        "colab": {
          "base_uri": "https://localhost:8080/",
          "height": 275
        },
        "id": "CpvZT99Isjf-",
        "outputId": "a03cbec0-c5c7-4928-ba5e-06a6d0c97a71"
      },
      "outputs": [
        {
          "output_type": "execute_result",
          "data": {
            "text/plain": [
              "                   КлиентПол                                  Профессия  \\\n",
              "КлиентДатаРождения                                                        \n",
              "1976                 Женский  Ведущий специалист по организации обуения   \n",
              "\n",
              "                   ВредныеФакторы  ПсихОсвидетельствование ЗаключениеМК  \\\n",
              "КлиентДатаРождения                                                        \n",
              "1976                         11.4                    False        Годен   \n",
              "\n",
              "                              ЗаключениеМКПредставление  \\\n",
              "КлиентДатаРождения                                        \n",
              "1976                Годен к работе в указанных условиях   \n",
              "\n",
              "                                             Заключение  \\\n",
              "КлиентДатаРождения                                        \n",
              "1976                Годен к работе в указанных условиях   \n",
              "\n",
              "                   Рентгенология1_Заключение_Значение  \\\n",
              "КлиентДатаРождения                                      \n",
              "1976                                    без патологий   \n",
              "\n",
              "                   Рентгенология1_Заключение_ЗначениеПредставление  \\\n",
              "КлиентДатаРождения                                                   \n",
              "1976                                                 без патологий   \n",
              "\n",
              "                   ПсихиатрияНаркология1_МКБ101  ... Психиатрия3_МКБ102  \\\n",
              "КлиентДатаРождения                               ...                      \n",
              "1976                                      Z00.0  ...         Нет данных   \n",
              "\n",
              "                   Психиатрия4_МКБ101 Психиатрия4_ПрофнепригодностьВременная1  \\\n",
              "КлиентДатаРождения                                                              \n",
              "1976                       Нет данных                              Нет данных   \n",
              "\n",
              "                   Психиатрия4_ПрофнепригодностьВременнаяПредставление1  \\\n",
              "КлиентДатаРождения                                                        \n",
              "1976                                                       Нет данных     \n",
              "\n",
              "                   Психиатрия4_МКБ102 Оториноларингология3_МКБ101  \\\n",
              "КлиентДатаРождения                                                  \n",
              "1976                       Нет данных                  Нет данных   \n",
              "\n",
              "                   Оториноларингология3_ПрофнепригодностьВременная1  \\\n",
              "КлиентДатаРождения                                                    \n",
              "1976                                                     Нет данных   \n",
              "\n",
              "                   Оториноларингология3_ПрофнепригодностьВременнаяПредставление1  \\\n",
              "КлиентДатаРождения                                                                 \n",
              "1976                                                       Нет данных              \n",
              "\n",
              "                   Оториноларингология1_ЖалобыДополнение_Значение  \\\n",
              "КлиентДатаРождения                                                  \n",
              "1976                                                   Нет данных   \n",
              "\n",
              "                   Оториноларингология1_ЖалобыДополнение_ЗначениеПредставление  \n",
              "КлиентДатаРождения                                                              \n",
              "1976                                                       Нет данных           \n",
              "\n",
              "[1 rows x 213 columns]"
            ],
            "text/html": [
              "\n",
              "  <div id=\"df-c1b6e0b3-4b04-4d17-be7e-cd1c837626fe\">\n",
              "    <div class=\"colab-df-container\">\n",
              "      <div>\n",
              "<style scoped>\n",
              "    .dataframe tbody tr th:only-of-type {\n",
              "        vertical-align: middle;\n",
              "    }\n",
              "\n",
              "    .dataframe tbody tr th {\n",
              "        vertical-align: top;\n",
              "    }\n",
              "\n",
              "    .dataframe thead th {\n",
              "        text-align: right;\n",
              "    }\n",
              "</style>\n",
              "<table border=\"1\" class=\"dataframe\">\n",
              "  <thead>\n",
              "    <tr style=\"text-align: right;\">\n",
              "      <th></th>\n",
              "      <th>КлиентПол</th>\n",
              "      <th>Профессия</th>\n",
              "      <th>ВредныеФакторы</th>\n",
              "      <th>ПсихОсвидетельствование</th>\n",
              "      <th>ЗаключениеМК</th>\n",
              "      <th>ЗаключениеМКПредставление</th>\n",
              "      <th>Заключение</th>\n",
              "      <th>Рентгенология1_Заключение_Значение</th>\n",
              "      <th>Рентгенология1_Заключение_ЗначениеПредставление</th>\n",
              "      <th>ПсихиатрияНаркология1_МКБ101</th>\n",
              "      <th>...</th>\n",
              "      <th>Психиатрия3_МКБ102</th>\n",
              "      <th>Психиатрия4_МКБ101</th>\n",
              "      <th>Психиатрия4_ПрофнепригодностьВременная1</th>\n",
              "      <th>Психиатрия4_ПрофнепригодностьВременнаяПредставление1</th>\n",
              "      <th>Психиатрия4_МКБ102</th>\n",
              "      <th>Оториноларингология3_МКБ101</th>\n",
              "      <th>Оториноларингология3_ПрофнепригодностьВременная1</th>\n",
              "      <th>Оториноларингология3_ПрофнепригодностьВременнаяПредставление1</th>\n",
              "      <th>Оториноларингология1_ЖалобыДополнение_Значение</th>\n",
              "      <th>Оториноларингология1_ЖалобыДополнение_ЗначениеПредставление</th>\n",
              "    </tr>\n",
              "    <tr>\n",
              "      <th>КлиентДатаРождения</th>\n",
              "      <th></th>\n",
              "      <th></th>\n",
              "      <th></th>\n",
              "      <th></th>\n",
              "      <th></th>\n",
              "      <th></th>\n",
              "      <th></th>\n",
              "      <th></th>\n",
              "      <th></th>\n",
              "      <th></th>\n",
              "      <th></th>\n",
              "      <th></th>\n",
              "      <th></th>\n",
              "      <th></th>\n",
              "      <th></th>\n",
              "      <th></th>\n",
              "      <th></th>\n",
              "      <th></th>\n",
              "      <th></th>\n",
              "      <th></th>\n",
              "      <th></th>\n",
              "    </tr>\n",
              "  </thead>\n",
              "  <tbody>\n",
              "    <tr>\n",
              "      <th>1976</th>\n",
              "      <td>Женский</td>\n",
              "      <td>Ведущий специалист по организации обуения</td>\n",
              "      <td>11.4</td>\n",
              "      <td>False</td>\n",
              "      <td>Годен</td>\n",
              "      <td>Годен к работе в указанных условиях</td>\n",
              "      <td>Годен к работе в указанных условиях</td>\n",
              "      <td>без патологий</td>\n",
              "      <td>без патологий</td>\n",
              "      <td>Z00.0</td>\n",
              "      <td>...</td>\n",
              "      <td>Нет данных</td>\n",
              "      <td>Нет данных</td>\n",
              "      <td>Нет данных</td>\n",
              "      <td>Нет данных</td>\n",
              "      <td>Нет данных</td>\n",
              "      <td>Нет данных</td>\n",
              "      <td>Нет данных</td>\n",
              "      <td>Нет данных</td>\n",
              "      <td>Нет данных</td>\n",
              "      <td>Нет данных</td>\n",
              "    </tr>\n",
              "  </tbody>\n",
              "</table>\n",
              "<p>1 rows × 213 columns</p>\n",
              "</div>\n",
              "      <button class=\"colab-df-convert\" onclick=\"convertToInteractive('df-c1b6e0b3-4b04-4d17-be7e-cd1c837626fe')\"\n",
              "              title=\"Convert this dataframe to an interactive table.\"\n",
              "              style=\"display:none;\">\n",
              "        \n",
              "  <svg xmlns=\"http://www.w3.org/2000/svg\" height=\"24px\"viewBox=\"0 0 24 24\"\n",
              "       width=\"24px\">\n",
              "    <path d=\"M0 0h24v24H0V0z\" fill=\"none\"/>\n",
              "    <path d=\"M18.56 5.44l.94 2.06.94-2.06 2.06-.94-2.06-.94-.94-2.06-.94 2.06-2.06.94zm-11 1L8.5 8.5l.94-2.06 2.06-.94-2.06-.94L8.5 2.5l-.94 2.06-2.06.94zm10 10l.94 2.06.94-2.06 2.06-.94-2.06-.94-.94-2.06-.94 2.06-2.06.94z\"/><path d=\"M17.41 7.96l-1.37-1.37c-.4-.4-.92-.59-1.43-.59-.52 0-1.04.2-1.43.59L10.3 9.45l-7.72 7.72c-.78.78-.78 2.05 0 2.83L4 21.41c.39.39.9.59 1.41.59.51 0 1.02-.2 1.41-.59l7.78-7.78 2.81-2.81c.8-.78.8-2.07 0-2.86zM5.41 20L4 18.59l7.72-7.72 1.47 1.35L5.41 20z\"/>\n",
              "  </svg>\n",
              "      </button>\n",
              "      \n",
              "  <style>\n",
              "    .colab-df-container {\n",
              "      display:flex;\n",
              "      flex-wrap:wrap;\n",
              "      gap: 12px;\n",
              "    }\n",
              "\n",
              "    .colab-df-convert {\n",
              "      background-color: #E8F0FE;\n",
              "      border: none;\n",
              "      border-radius: 50%;\n",
              "      cursor: pointer;\n",
              "      display: none;\n",
              "      fill: #1967D2;\n",
              "      height: 32px;\n",
              "      padding: 0 0 0 0;\n",
              "      width: 32px;\n",
              "    }\n",
              "\n",
              "    .colab-df-convert:hover {\n",
              "      background-color: #E2EBFA;\n",
              "      box-shadow: 0px 1px 2px rgba(60, 64, 67, 0.3), 0px 1px 3px 1px rgba(60, 64, 67, 0.15);\n",
              "      fill: #174EA6;\n",
              "    }\n",
              "\n",
              "    [theme=dark] .colab-df-convert {\n",
              "      background-color: #3B4455;\n",
              "      fill: #D2E3FC;\n",
              "    }\n",
              "\n",
              "    [theme=dark] .colab-df-convert:hover {\n",
              "      background-color: #434B5C;\n",
              "      box-shadow: 0px 1px 3px 1px rgba(0, 0, 0, 0.15);\n",
              "      filter: drop-shadow(0px 1px 2px rgba(0, 0, 0, 0.3));\n",
              "      fill: #FFFFFF;\n",
              "    }\n",
              "  </style>\n",
              "\n",
              "      <script>\n",
              "        const buttonEl =\n",
              "          document.querySelector('#df-c1b6e0b3-4b04-4d17-be7e-cd1c837626fe button.colab-df-convert');\n",
              "        buttonEl.style.display =\n",
              "          google.colab.kernel.accessAllowed ? 'block' : 'none';\n",
              "\n",
              "        async function convertToInteractive(key) {\n",
              "          const element = document.querySelector('#df-c1b6e0b3-4b04-4d17-be7e-cd1c837626fe');\n",
              "          const dataTable =\n",
              "            await google.colab.kernel.invokeFunction('convertToInteractive',\n",
              "                                                     [key], {});\n",
              "          if (!dataTable) return;\n",
              "\n",
              "          const docLinkHtml = 'Like what you see? Visit the ' +\n",
              "            '<a target=\"_blank\" href=https://colab.research.google.com/notebooks/data_table.ipynb>data table notebook</a>'\n",
              "            + ' to learn more about interactive tables.';\n",
              "          element.innerHTML = '';\n",
              "          dataTable['output_type'] = 'display_data';\n",
              "          await google.colab.output.renderOutput(dataTable, element);\n",
              "          const docLink = document.createElement('div');\n",
              "          docLink.innerHTML = docLinkHtml;\n",
              "          element.appendChild(docLink);\n",
              "        }\n",
              "      </script>\n",
              "    </div>\n",
              "  </div>\n",
              "  "
            ]
          },
          "metadata": {},
          "execution_count": 181
        }
      ],
      "source": [
        "health_survey.head(1)"
      ]
    },
    {
      "cell_type": "code",
      "execution_count": null,
      "metadata": {
        "colab": {
          "base_uri": "https://localhost:8080/"
        },
        "id": "1gLBhDcAYVMJ",
        "outputId": "5e8abe59-3446-4445-ab58-a193022e51ed"
      },
      "outputs": [
        {
          "output_type": "execute_result",
          "data": {
            "text/plain": [
              "[]"
            ]
          },
          "metadata": {},
          "execution_count": 144
        }
      ],
      "source": [
        "\n",
        "def adg_p(arg):\n",
        "    # текущий год - год рождения\n",
        "    adg = [0]  # создаем список и заполняем нулями\n",
        "    year_tec = 2023\n",
        "    arg = int(arg)  # преобразуем строку в число\n",
        "    # извлекаем год из числа и вычисляем возраст\n",
        "    adg_year = year_tec - int(re.findall(r'\\d{4}', str(arg))[0])\n",
        "    adg[0] = adg_year  # заменяем нулевой элемент списка на полученный возраст\n",
        "    return adg\n",
        "\n",
        "def getAgeVect(adg):\n",
        "    age_c = []\n",
        "    # превращаем возраст в категорию возрастной группы\n",
        "    outClass =int((adg-10)/12)\n",
        "    outClass = max(0, min(5,outClass))\n",
        "    # создаем вектор с нужной категорией возраста\n",
        "    result = np.eye(5)[outClass].astype('int')\n",
        "    return age_c\n",
        "\n",
        "# Проверяем функции и выводим результаты\n",
        "adg = adg_p(2019)\n",
        "age_c = getAgeVect(adg[0])\n",
        "age_c"
      ]
    },
    {
      "cell_type": "code",
      "execution_count": null,
      "metadata": {
        "id": "p3VDZw-OghL6",
        "colab": {
          "base_uri": "https://localhost:8080/"
        },
        "outputId": "1e2372c3-327e-47cd-afdd-a42d04b7c742"
      },
      "outputs": [
        {
          "output_type": "execute_result",
          "data": {
            "text/plain": [
              "[0]"
            ]
          },
          "metadata": {},
          "execution_count": 145
        }
      ],
      "source": [
        "def Sex_class(arg):\n",
        "    # Создаем список с одним элементом 0\n",
        "    sex_c = [0]\n",
        "    # Если М, то значение 1 (по умолчанию 0 для женского пола)\n",
        "    if 'М' in arg:\n",
        "        sex_c = 1\n",
        "    # Возвращаем список\n",
        "    return sex_c\n",
        "# Проверяем функцию с аргументом 'м'\n",
        "sex_c = Sex_class('Ж')\n",
        "# Выводим значение\n",
        "sex_c"
      ]
    },
    {
      "cell_type": "markdown",
      "source": [
        "Приводим значения в столбце \"ЗаключениеМК\" к двум классам:\n",
        "* класс- Годен\n",
        "* класс- НуждаетсяВДообследовании"
      ],
      "metadata": {
        "id": "1fU_wlmcVA5v"
      }
    },
    {
      "cell_type": "code",
      "source": [
        "# Уникальные значения колонки\n",
        "unique_values = []\n",
        "for column in health_survey.columns:\n",
        "    if 'ЗаключениеМК' in column:\n",
        "        unique_values.extend(health_survey[column].unique())\n",
        "unique_values = list(set(unique_values))\n",
        "unique_values"
      ],
      "metadata": {
        "colab": {
          "base_uri": "https://localhost:8080/"
        },
        "id": "0B7iye9d_Iyr",
        "outputId": "33205dd8-8dde-4b0c-aa64-9cb1dc68dc28"
      },
      "execution_count": null,
      "outputs": [
        {
          "output_type": "execute_result",
          "data": {
            "text/plain": [
              "['Годен',\n",
              " 'Годен к работе в указанных условиях',\n",
              " 'НуждаетсяВДообследовании',\n",
              " 'Годен к работе в указанных условиях (с коррекцией зрения)']"
            ]
          },
          "metadata": {},
          "execution_count": 107
        }
      ]
    },
    {
      "cell_type": "code",
      "source": [
        "class_list = ['Годен', 'НуждаетсяВДообследовании']\n",
        "\n",
        "def health_status(health_survey, column_name, class_list):\n",
        "    for class_name in class_list:\n",
        "        count = len(health_survey[health_survey[column_name] == class_name])\n",
        "        print(f'Количество записей для класса {class_name}: {count}')\n",
        "\n",
        "# Удаление строк без заключения\n",
        "mask = health_survey['ЗаключениеМК'].str.contains('|'.join(class_list)) > 0\n",
        "condition = health_survey[mask]\n",
        "\n",
        "# Сокращение классов до 3\n",
        "health_survey['ЗаключениеМК'].replace('ГоденСКоррекциейЗрения', 'НуждаетсяВДообследовании', inplace=True)\n",
        "health_survey['ЗаключениеМК'].replace('ГоденБезРаботНаВысотах', 'НуждаетсяВДообследовании', inplace=True)\n",
        "health_survey['ЗаключениеМК'].replace('НуждаетсяВДообследованииИЛечении', 'НуждаетсяВДообследовании' , inplace=True)\n",
        "health_survey['ЗаключениеМК'].replace('Нет данных', 'НуждаетсяВДообследовании', inplace=True)\n",
        "\n",
        "# количество записей по классам\n",
        "health_status(health_survey, 'ЗаключениеМК', class_list)\n",
        "\n",
        "# Функция для определения статуса здоровья\n",
        "def health_stat(condition):\n",
        "    out = [0, 0]\n",
        "    if ('Годен' in condition):\n",
        "        out[0]=1\n",
        "    if ('НуждаетсяВДообследовании' in condition):\n",
        "        out[1]=1\n",
        "\n",
        "    # Присваиваем список 'out' переменной 'condition_ohe'\n",
        "    condition_ohe = out\n",
        "    return condition_ohe\n",
        "# Пример вызова функции\n",
        "health_stat('годен')\n",
        "condition_ohe = health_stat(condition)\n",
        "print(condition_ohe)"
      ],
      "metadata": {
        "id": "MiyV0c4reA9z"
      },
      "execution_count": null,
      "outputs": []
    },
    {
      "cell_type": "code",
      "source": [
        "# Функция для получения диагнозов из данных\n",
        "def get_diagnosis(data):\n",
        "    diagnosis = []\n",
        "    for val in data:\n",
        "        if isinstance(val[0], str):\n",
        "            diagnosis.append(val[0])\n",
        "    diagnosis = np.array(diagnosis)\n",
        "    return diagnosis\n",
        "\n",
        "# Получение диагнозов из данных\n",
        "diagnosis = get_diagnosis(health_survey.values)\n",
        "\n",
        "# Создание и обучение токенизатора для диагнозов\n",
        "max_words_count = 2000\n",
        "tokenizer = Tokenizer(num_words=max_words_count, filters='!\"#$%&()*+,-–—./:;<=>?@[\\\\]^_`{|}~\\t\\n\\xa0', lower=True, split=' ', oov_token='unknown', char_level=False)\n",
        "tokenizer.fit_on_texts(diagnosis)\n",
        "diagnosis_indexes = tokenizer.texts_to_sequences(diagnosis)\n",
        "diagnosis_01 = tokenizer.sequences_to_matrix(diagnosis_indexes)\n"
      ],
      "metadata": {
        "id": "t69h8RCYMoCw"
      },
      "execution_count": null,
      "outputs": []
    },
    {
      "cell_type": "markdown",
      "source": [
        "ДАЛЕЕ РАБОТА НЕ ПРОИЗВОДИЛАСЬ"
      ],
      "metadata": {
        "id": "-cWXaUmL86rx"
      }
    },
    {
      "cell_type": "markdown",
      "source": [
        "# Формирование выборок для обучения"
      ],
      "metadata": {
        "id": "IJsOjMxU4MGP"
      }
    },
    {
      "cell_type": "code",
      "source": [
        "\n",
        "#age_c = getAgeVect(adg[0])\n",
        "# Функция для получения всех параметров из данных\n",
        "def get_all_parameters(val):\n",
        "    age_c = getAgeVect(adg)\n",
        "    age_vector = age_c(val)\n",
        "    sex_class = get_sex_class(val[2])\n",
        "    diagnosis_result = tokenizer.texts_to_matrix([val[0]])\n",
        "\n",
        "    parameters = age_vector + [sex_class] + list(diagnosis_result[0])\n",
        "    return parameters"
      ],
      "metadata": {
        "id": "siXBodPZlfnS"
      },
      "execution_count": null,
      "outputs": []
    },
    {
      "cell_type": "code",
      "source": [
        "\n",
        "#age_c = getAgeVect(adg[0])\n",
        "# Функция для получения всех параметров из данных\n",
        "def get_all_parameters(val):\n",
        "    adg = adg_p(val)\n",
        "    age_c = getAgeVect(adg[0][0])\n",
        "    sex_class = get_sex_class(val[2])\n",
        "    diagnosis_result = tokenizer.texts_to_matrix([val[0]])\n",
        "\n",
        "    parameters = age_c + [sex_class] + list(diagnosis_result[0])\n",
        "    return parameters"
      ],
      "metadata": {
        "id": "EgzMnP8xbnUA"
      },
      "execution_count": null,
      "outputs": []
    },
    {
      "cell_type": "code",
      "source": [
        "# Функция для получения обучающих данных в формате 0/1\n",
        "def get_01_data(data):\n",
        "    x_train = []\n",
        "    y_train = []\n",
        "\n",
        "    for val in data:\n",
        "        y = health_stat(val)\n",
        "        x = get_all_parameters(val)\n",
        "        x_train.append(x)\n",
        "        y_train.append(y)\n",
        "\n",
        "    x_train = np.array(x_train)\n",
        "    y_train = np.array(y_train)\n",
        "\n",
        "    return x_train, y_train\n",
        "\n",
        "x_train, y_train = get_01_data(health_survey.values)"
      ],
      "metadata": {
        "id": "CkmMEcsaYYX0"
      },
      "execution_count": null,
      "outputs": []
    },
    {
      "cell_type": "code",
      "source": [
        "health_survey_subset = health_survey.iloc[:, [1,2,3,4,5]] # Выбор столбцов с нужными индексами\n",
        "text_data = health_survey_subset.to_string(header=False, index=False) # Преобразование в строку\n",
        "tokens = text_data.lower().split() # Приведение к нижнему регистру и токенизация\n"
      ],
      "metadata": {
        "id": "GRuZ5JIflFx6"
      },
      "execution_count": null,
      "outputs": []
    },
    {
      "cell_type": "code",
      "source": [
        "# Создание экземпляра класса CountVectorizer\n",
        "vectorizer = CountVectorizer()\n",
        "\n",
        "# Преобразование токенов в матрицу Bag of Words\n",
        "bow_matrix = vectorizer.fit_transform(tokens)\n",
        "\n",
        "# Преобразование в разреженный массив NumPy\n",
        "sparse_bow_matrix = bow_matrix.toarray()\n"
      ],
      "metadata": {
        "id": "a7e8TC2wlFmo"
      },
      "execution_count": null,
      "outputs": []
    },
    {
      "cell_type": "code",
      "source": [
        "print(sparse_bow_matrix)"
      ],
      "metadata": {
        "colab": {
          "base_uri": "https://localhost:8080/"
        },
        "id": "Un9u2PVBlZE4",
        "outputId": "33decade-7b22-4d6c-8a4e-2c2efcda1aec"
      },
      "execution_count": null,
      "outputs": [
        {
          "output_type": "stream",
          "name": "stdout",
          "text": [
            "[[0 0 0 ... 0 0 0]\n",
            " [0 0 0 ... 0 0 0]\n",
            " [0 0 0 ... 0 0 0]\n",
            " ...\n",
            " [0 0 0 ... 0 0 0]\n",
            " [0 0 0 ... 0 0 0]\n",
            " [0 0 0 ... 0 0 0]]\n"
          ]
        }
      ]
    },
    {
      "cell_type": "code",
      "source": [
        "# Функция перевода классов в OHE\n",
        "def Y_to_OHE(df):\n",
        "  y_list_key = list(df.ЗаключениеМК.values)\n",
        "  # print (y_list_key)\n",
        "  y_list = []\n",
        "  for CD in y_list_key:\n",
        "    y_list.append(CLASS_DICT[CD])\n",
        "  # print (y_list)\n",
        "\n",
        "  y_data = np.array(y_list)            # Перевод общего списка меток класса в numpy-массив\n",
        "\n",
        "  y_res = utils.to_categorical(y_data, CLASS_COUNT)\n",
        "  return y_data, y_res\n"
      ],
      "metadata": {
        "id": "Gth2QN_BDQ9O"
      },
      "execution_count": null,
      "outputs": []
    },
    {
      "cell_type": "code",
      "source": [
        "y_data_01, y_train_01 = Y_to_OHE(dffix5_cut)\n",
        "print (y_data_01[100])\n",
        "print (y_train_01[100])\n",
        "\n",
        "y = np.argmax(y_train_01, axis=-1)\n",
        "print (y[100])"
      ],
      "metadata": {
        "colab": {
          "base_uri": "https://localhost:8080/"
        },
        "id": "a3Fkc_QtoF0r",
        "outputId": "dd3c7d71-7cff-4ad5-cada-da2e4c5608f4"
      },
      "execution_count": null,
      "outputs": [
        {
          "output_type": "stream",
          "name": "stdout",
          "text": [
            "2\n",
            "[0. 0. 1.]\n",
            "2\n"
          ]
        }
      ]
    },
    {
      "cell_type": "markdown",
      "source": [
        "# Эксперименты обучения"
      ],
      "metadata": {
        "id": "oMBZadHylf2S"
      }
    },
    {
      "cell_type": "code",
      "execution_count": null,
      "metadata": {
        "id": "IUabi7gqvBC1"
      },
      "outputs": [],
      "source": [
        "health_stat = pd.read_csv('/content/health_stat.csv')"
      ]
    },
    {
      "cell_type": "code",
      "source": [
        "from tensorflow.keras import utils\n",
        "loss, acc = search.evaluate(x1_test, y_test, verbose=0) #classification\n",
        "mae, _ = search.evaluate(x1_test, y_test, verbose=0) #regression\n",
        "y_predictions = search.predict(x1_test)\n",
        "model = search.export_model()\n",
        "model.summary()\n",
        "utils.plot_model(model, show_shapes=True, show_layer_names=True, dpi=60, show_layer_activations=True, show_trainable=True)"
      ],
      "metadata": {
        "id": "7XDg9AwddDki"
      },
      "execution_count": null,
      "outputs": []
    },
    {
      "cell_type": "code",
      "execution_count": null,
      "metadata": {
        "id": "NcCnm19E8c6X"
      },
      "outputs": [],
      "source": [
        "# Обучаем модель полученными данными\n",
        "model = Sequential()\n",
        "model.add(BatchNormalization(input_shape=(xTrain01.shape[1],)))\n",
        "model.add(Dense(128, activation='relu'))\n",
        "model.add(Dense(1000, activation='tanh'))\n",
        "model.add(Dense(100, activation='relu'))\n",
        "model.add(Dense(1, activation='linear'))\n",
        "\n",
        "model.compile(optimizer=Adam(lr=1e-5), loss='mse', metrics=['mae'])\n",
        "\n",
        "history = model.fit(xTrain01,\n",
        "                    yTrain,\n",
        "                    epochs=50,\n",
        "                    batch_size=32,\n",
        "                    validation_split=0.15,\n",
        "                    verbose=2)\n",
        "\n",
        "plt.plot(history.history['mae'],\n",
        "         label='Средняя абсолютная ошибка на обучающем наборе')\n",
        "plt.plot(history.history['val_mae'],\n",
        "         label='Средняя абсолютная ошибка на проверочном наборе')\n",
        "plt.xlabel('Эпоха обучения')\n",
        "plt.ylabel('Средняя абсолютная ошибка')\n",
        "plt.legend()\n",
        "plt.show()"
      ]
    },
    {
      "cell_type": "code",
      "source": [
        "import autokeras as ak\n",
        "search = ak.StructuredDataClassifier(max_trials=15)\n",
        "search.fit(x=x1_train, y=y_train, verbose=1)"
      ],
      "metadata": {
        "id": "IyfKyeyhcvK6"
      },
      "execution_count": null,
      "outputs": []
    },
    {
      "cell_type": "code",
      "source": [
        "scores2 = model_final.evaluate([x1_val, x2_val, x3_val],\n",
        "                        y_val,\n",
        "                        verbose=1\n",
        "                        )\n",
        "plt.plot(history.history['accuracy'],\n",
        "         label='Доля верных ответов на обучающем наборе')\n",
        "\n",
        "# Визуализация точности на проверочной выборке\n",
        "plt.plot(history.history['val_accuracy'],\n",
        "         label='Доля верных ответов на проверочном наборе')\n",
        "\n",
        "# Отрисовка подписей осей\n",
        "plt.xlabel('Эпоха обучения')\n",
        "plt.ylabel('Доля верных ответов')\n",
        "\n",
        "# Отрисовка легенды\n",
        "plt.legend()\n",
        "\n",
        "# Вывод графика\n",
        "plt.show()\n",
        "\n",
        "\n",
        "plt.plot(history.history['loss'],\n",
        "         label='Ошибка на обучающем наборе')\n",
        "\n",
        "plt.plot(history.history['val_loss'],\n",
        "         label='Ошибка на проверочном наборе')\n",
        "\n",
        "plt.xlabel('Эпоха обучения')\n",
        "plt.ylabel('Ошибка')\n",
        "\n",
        "plt.legend()\n",
        "\n",
        "plt.show()"
      ],
      "metadata": {
        "id": "RaNUj7qVe0Hn"
      },
      "execution_count": null,
      "outputs": []
    }
  ],
  "metadata": {
    "colab": {
      "collapsed_sections": [
        "8gwbrbmV-Th-",
        "wlQ2MAoAvZUy",
        "XnzlbvgQ8mLL",
        "IRXnHTWiLIZ8",
        "KEhcbKIDBa6s",
        "oMBZadHylf2S"
      ],
      "provenance": [],
      "include_colab_link": true
    },
    "kernelspec": {
      "display_name": "Python 3",
      "name": "python3"
    },
    "language_info": {
      "name": "python"
    }
  },
  "nbformat": 4,
  "nbformat_minor": 0
}