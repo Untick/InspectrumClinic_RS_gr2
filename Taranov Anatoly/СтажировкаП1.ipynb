{
  "cells": [
    {
      "cell_type": "markdown",
      "metadata": {
        "id": "view-in-github",
        "colab_type": "text"
      },
      "source": [
        "<a href=\"https://colab.research.google.com/github/Untick/InspectrumClinic_RS_gr2/blob/Taranov-Anatoly-folder/Taranov%20Anatoly/%D0%A1%D1%82%D0%B0%D0%B6%D0%B8%D1%80%D0%BE%D0%B2%D0%BA%D0%B0%D0%9F1.ipynb\" target=\"_parent\"><img src=\"https://colab.research.google.com/assets/colab-badge.svg\" alt=\"Open In Colab\"/></a>"
      ]
    },
    {
      "cell_type": "code",
      "execution_count": null,
      "metadata": {
        "id": "6sLXwHx7zZxJ"
      },
      "outputs": [],
      "source": [
        "import os\n",
        "import pandas as pd # Загружаем модуль pandas"
      ]
    },
    {
      "cell_type": "code",
      "execution_count": null,
      "metadata": {
        "id": "DYVUVMhoS8Af",
        "colab": {
          "base_uri": "https://localhost:8080/"
        },
        "outputId": "6e37be08-e9f6-49ec-f406-8d926f1a3261"
      },
      "outputs": [
        {
          "output_type": "stream",
          "name": "stdout",
          "text": [
            "Drive already mounted at /content/drive; to attempt to forcibly remount, call drive.mount(\"/content/drive\", force_remount=True).\n"
          ]
        }
      ],
      "source": [
        "from google.colab import drive\n",
        "drive.mount('/content/drive')"
      ]
    },
    {
      "cell_type": "code",
      "execution_count": null,
      "metadata": {
        "colab": {
          "base_uri": "https://localhost:8080/"
        },
        "id": "avl75VTAnbo6",
        "outputId": "c0061282-5368-4931-e90c-3ac06ff775ad"
      },
      "outputs": [
        {
          "output_type": "stream",
          "name": "stdout",
          "text": [
            "          ДокументПрохождениеМедосмотра                                Клиент  \\\n",
            "0  7f41ca7e-7dac-11ec-80fc-0cc47aab8067  c91e3407-b81f-11e9-80cf-0cc47aab8067   \n",
            "1  2ee1f9ac-83dd-11ec-80fc-0cc47aab8067  1a1a5fea-8b7f-11eb-80e8-0cc47aab8067   \n",
            "2  9cbb191e-8e24-11ec-80fe-0cc47aab8067  7fe324e0-fa51-11eb-80f6-0cc47aab8067   \n",
            "3  b8a33910-8eec-11ec-80fe-0cc47aab8067  98f9d761-8d65-11ec-80fe-0cc47aab8067   \n",
            "4  0bb0d181-938c-11ec-80fe-0cc47aab8067  009aac7d-7bcf-11eb-80e8-0cc47aab8067   \n",
            "\n",
            "  КлиентДатаРождения КлиентПол КлиентПолПредставление  \\\n",
            "0         1976-10-24   Женский                Женский   \n",
            "1         1987-11-18   Мужской                Мужской   \n",
            "2         1985-09-08   Мужской                Мужской   \n",
            "3         1988-04-25   Мужской                Мужской   \n",
            "4         1984-04-17   Мужской                Мужской   \n",
            "\n",
            "  ДатаЗавершенияМедосмотра  ТипМедосмотра ТипМедосмотраПредставление  \\\n",
            "0               2022-01-25  Периодический              Периодический   \n",
            "1               2022-02-02  Периодический              Периодический   \n",
            "2               2022-02-15  Периодический              Периодический   \n",
            "3               2022-02-16  Периодический              Периодический   \n",
            "4               2022-02-22  Периодический              Периодический   \n",
            "\n",
            "   ПсихОсвидетельствование                            Контрагент  ...  \\\n",
            "0                    False  23c173a7-30d9-11e7-80d8-708bcd7f83cd  ...   \n",
            "1                    False  a6d559b0-7835-11eb-80e8-0cc47aab8067  ...   \n",
            "2                    False  a6d559b0-7835-11eb-80e8-0cc47aab8067  ...   \n",
            "3                    False  a6d559b0-7835-11eb-80e8-0cc47aab8067  ...   \n",
            "4                    False  a6d559b0-7835-11eb-80e8-0cc47aab8067  ...   \n",
            "\n",
            "  Оториноларингология3_Аудиометрия1_Значение  \\\n",
            "0                                        NaN   \n",
            "1                                        NaN   \n",
            "2                                        NaN   \n",
            "3                                        NaN   \n",
            "4                                        NaN   \n",
            "\n",
            "  Оториноларингология3_Аудиометрия1_ЗначениеПредставление  \\\n",
            "0                                                NaN        \n",
            "1                                                NaN        \n",
            "2                                                NaN        \n",
            "3                                                NaN        \n",
            "4                                                NaN        \n",
            "\n",
            "  Оториноларингология1_ЖалобыДополнение_Значение  \\\n",
            "0                                            NaN   \n",
            "1                                            NaN   \n",
            "2                                            NaN   \n",
            "3                                            NaN   \n",
            "4                                            NaN   \n",
            "\n",
            "  Оториноларингология1_ЖалобыДополнение_ЗначениеПредставление  \\\n",
            "0                                                NaN            \n",
            "1                                                NaN            \n",
            "2                                                NaN            \n",
            "3                                                NaN            \n",
            "4                                                NaN            \n",
            "\n",
            "  Стоматология2_ВП2_Значение Стоматология2_ВП2_ЗначениеПредставление  \\\n",
            "0                        NaN                                     NaN   \n",
            "1                        NaN                                     NaN   \n",
            "2                        NaN                                     NaN   \n",
            "3                        NaN                                     NaN   \n",
            "4                        NaN                                     NaN   \n",
            "\n",
            "  Терапия2_ЗаключениеФОГК_Значение  \\\n",
            "0                              NaN   \n",
            "1                              NaN   \n",
            "2                              NaN   \n",
            "3                              NaN   \n",
            "4                              NaN   \n",
            "\n",
            "  Терапия2_ЗаключениеФОГК_ЗначениеПредставление  \\\n",
            "0                                           NaN   \n",
            "1                                           NaN   \n",
            "2                                           NaN   \n",
            "3                                           NaN   \n",
            "4                                           NaN   \n",
            "\n",
            "  Офтальмология1_ДвигательныйАппаратГлазДополнение_Значение  \\\n",
            "0                                                NaN          \n",
            "1                                                NaN          \n",
            "2                                                NaN          \n",
            "3                                                NaN          \n",
            "4                                                NaN          \n",
            "\n",
            "  Офтальмология1_ДвигательныйАппаратГлазДополнение_ЗначениеПредставление  \n",
            "0                                                NaN                      \n",
            "1                                                NaN                      \n",
            "2                                                NaN                      \n",
            "3                                                NaN                      \n",
            "4                                                NaN                      \n",
            "\n",
            "[5 rows x 4587 columns]\n"
          ]
        }
      ],
      "source": [
        "# Загружаем файл Excel и сохраняем в виде фрейма данных pandas\n",
        "df = pd.read_excel('/content/drive/MyDrive/БазаCSV/датасет профпатолог часть.xlsx')\n",
        "\n",
        "# Просматриваем первые 5 строк данных\n",
        "print(df.head())\n"
      ]
    },
    {
      "cell_type": "code",
      "execution_count": null,
      "metadata": {
        "id": "qKwluoq4LhSN",
        "colab": {
          "base_uri": "https://localhost:8080/"
        },
        "outputId": "23ea5131-7202-45e0-f19d-3be04f44f8c8"
      },
      "outputs": [
        {
          "output_type": "stream",
          "name": "stdout",
          "text": [
            "(1982, 4587)\n",
            "9091434\n"
          ]
        }
      ],
      "source": [
        "print(df.shape)    #Оценим размерность\n",
        "print(df.size)"
      ]
    },
    {
      "cell_type": "code",
      "execution_count": null,
      "metadata": {
        "id": "AaYa7hnwLuz8",
        "colab": {
          "base_uri": "https://localhost:8080/"
        },
        "outputId": "6b986c21-974b-430e-8f41-82bc26daba22"
      },
      "outputs": [
        {
          "output_type": "stream",
          "name": "stdout",
          "text": [
            "<class 'pandas.core.frame.DataFrame'>\n",
            "RangeIndex: 1982 entries, 0 to 1981\n",
            "Columns: 4587 entries, ДокументПрохождениеМедосмотра to Офтальмология1_ДвигательныйАппаратГлазДополнение_ЗначениеПредставление\n",
            "dtypes: bool(1), datetime64[ns](43), float64(1253), object(3290)\n",
            "memory usage: 69.3+ MB\n"
          ]
        }
      ],
      "source": [
        "#показываем тип столбца и занимаемую память\n",
        "df.info()"
      ]
    },
    {
      "cell_type": "code",
      "execution_count": null,
      "metadata": {
        "id": "BpTRhydrMpXC",
        "colab": {
          "base_uri": "https://localhost:8080/"
        },
        "outputId": "040a0731-461a-47e6-cf66-cea577cff000"
      },
      "outputs": [
        {
          "output_type": "execute_result",
          "data": {
            "text/plain": [
              "ДокументПрохождениеМедосмотра                                                     object\n",
              "Клиент                                                                            object\n",
              "КлиентДатаРождения                                                        datetime64[ns]\n",
              "КлиентПол                                                                         object\n",
              "КлиентПолПредставление                                                            object\n",
              "                                                                               ...      \n",
              "Стоматология2_ВП2_ЗначениеПредставление                                           object\n",
              "Терапия2_ЗаключениеФОГК_Значение                                                  object\n",
              "Терапия2_ЗаключениеФОГК_ЗначениеПредставление                                     object\n",
              "Офтальмология1_ДвигательныйАппаратГлазДополнение_Значение                         object\n",
              "Офтальмология1_ДвигательныйАппаратГлазДополнение_ЗначениеПредставление            object\n",
              "Length: 4587, dtype: object"
            ]
          },
          "metadata": {},
          "execution_count": 13
        }
      ],
      "source": [
        "df.dtypes\n"
      ]
    },
    {
      "cell_type": "code",
      "source": [
        "df.isna().sum()"
      ],
      "metadata": {
        "colab": {
          "base_uri": "https://localhost:8080/"
        },
        "id": "I4Q2cfr2tP8Q",
        "outputId": "487bbb48-9e07-41d4-bd18-8644651c60f9"
      },
      "execution_count": null,
      "outputs": [
        {
          "output_type": "execute_result",
          "data": {
            "text/plain": [
              "ДокументПрохождениеМедосмотра                                                0\n",
              "Клиент                                                                       0\n",
              "КлиентДатаРождения                                                           0\n",
              "КлиентПол                                                                    0\n",
              "КлиентПолПредставление                                                       0\n",
              "                                                                          ... \n",
              "Стоматология2_ВП2_ЗначениеПредставление                                   1981\n",
              "Терапия2_ЗаключениеФОГК_Значение                                          1981\n",
              "Терапия2_ЗаключениеФОГК_ЗначениеПредставление                             1981\n",
              "Офтальмология1_ДвигательныйАппаратГлазДополнение_Значение                 1981\n",
              "Офтальмология1_ДвигательныйАппаратГлазДополнение_ЗначениеПредставление    1981\n",
              "Length: 4587, dtype: int64"
            ]
          },
          "metadata": {},
          "execution_count": 14
        }
      ]
    }
  ],
  "metadata": {
    "accelerator": "GPU",
    "colab": {
      "provenance": [],
      "gpuType": "T4",
      "mount_file_id": "1o7mWo4oVStYnezCQN6C9nndOH1Q7_-mO",
      "authorship_tag": "ABX9TyPlltNGzPpC+Ftu7yM0hglh",
      "include_colab_link": true
    },
    "gpuClass": "standard",
    "kernelspec": {
      "display_name": "Python 3",
      "name": "python3"
    },
    "language_info": {
      "name": "python"
    }
  },
  "nbformat": 4,
  "nbformat_minor": 0
}