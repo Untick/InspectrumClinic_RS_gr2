{
  "cells": [
    {
      "cell_type": "markdown",
      "metadata": {
        "id": "view-in-github",
        "colab_type": "text"
      },
      "source": [
        "<a href=\"https://colab.research.google.com/github/Untick/InspectrumClinic_RS_gr2/blob/Taranov-Anatoly-folder/Taranov%20Anatoly/2_1InspectClinicRSgr2_TA_ipynb%22%22.ipynb\" target=\"_parent\"><img src=\"https://colab.research.google.com/assets/colab-badge.svg\" alt=\"Open In Colab\"/></a>"
      ]
    },
    {
      "cell_type": "markdown",
      "metadata": {
        "id": "8gwbrbmV-Th-"
      },
      "source": [
        "# ТЕХНИЧЕСКОЕ ЗАДАНИЕ\n",
        "\n"
      ]
    },
    {
      "cell_type": "markdown",
      "metadata": {
        "id": "zeDPgEOkymqf"
      },
      "source": [
        "Рекомендательная система для профпатолога (INSPECTRUM CLINIC)\n",
        "\n",
        "Цель: Разработать прототип системы, реализующей функцию рекомендательной системы для врача профпатолога.\n",
        "\n",
        "Принцип работы: Система должна помогать врачу вынести решение о том годен, не годен или ограниченно годен человек на определенной должности. В датасете целевым столбцом для предсказания нейросетью является столбец под названием: “ЗаключениеМК”. Система может дополнять вердикт мнением, почему человек не годен, или почему ограниченно годен.\n",
        "\n",
        "Требования интерфейсу: Минимальный уровень реализации: notebook google colaboratory. Требуется реализовать простой веб-интерфейс для загрузки анализируемого моделью нейросети набора данных и удобным выводом результатов вынесенного решения.\n",
        "\n",
        "Дополнительно: передача продвинутой системы веб-интерфейса, дополняющей вердикт мнением, почему человек не годен, или почему ограниченно годен.\n",
        "\n",
        "Требования к тестированию, метрикам качества: Оценка результатов работы системы производится Заказчиком на тестовом наборе Заказчика. Метрика точности - точность рекомендации должна быть не ниже 95%"
      ]
    },
    {
      "cell_type": "markdown",
      "source": [
        "# Загрузка библиотек и датасета"
      ],
      "metadata": {
        "id": "bQ-reBL1LrLd"
      }
    },
    {
      "cell_type": "code",
      "execution_count": null,
      "metadata": {
        "id": "0_cb-YDAJoEb"
      },
      "outputs": [],
      "source": [
        "# Импорт библиотек и инструментов\n",
        "from google.colab import files              # Импортируем библиотеку files для работы с файлами\n",
        "import re                                   # Регулярные выражения\n",
        "import pandas as pd                         # Импортируем библиотеку обработки и анализа данных pandas\n",
        "import matplotlib.pyplot as plt             # Импортируем модуль pyplot библиотеки matplotlib для построения графиков\n",
        "import seaborn as sns                       # Импортируем модуль seaborn библиотеки matplotlib для построения графиков\n",
        "import datetime                             # Импортируем модуль datetime для обработки данных в формете даты\n",
        "import numpy as np                          # Импортируем библиотеку numpy\n",
        "\n",
        "%matplotlib inline\n",
        "import gdown\n",
        "from tensorflow.keras import utils\n",
        "from tensorflow.keras.preprocessing.text import Tokenizer, text_to_word_sequence\n",
        "from sklearn.preprocessing import StandardScaler\n",
        "from sklearn.model_selection import train_test_split\n",
        "from IPython.display import clear_output"
      ]
    },
    {
      "cell_type": "code",
      "execution_count": null,
      "metadata": {
        "colab": {
          "base_uri": "https://localhost:8080/"
        },
        "id": "NSaCOOQIdOZf",
        "outputId": "36d24347-6ce9-49b3-c6ed-1835620fc1a1"
      },
      "outputs": [
        {
          "output_type": "stream",
          "name": "stdout",
          "text": [
            "Mounted at /content/drive\n"
          ]
        }
      ],
      "source": [
        "                                            # Для загрузки данных используем drive\n",
        "from google.colab import drive\n",
        "drive.mount('/content/drive')"
      ]
    },
    {
      "cell_type": "code",
      "execution_count": null,
      "metadata": {
        "id": "K2rzF4ilNPcE"
      },
      "outputs": [],
      "source": [
        "data = pd.read_excel('/content/drive/MyDrive/БазыCSV/InClinic/ВесьЗаПериод.xlsx')       # Загрузка файла из диска в colab"
      ]
    },
    {
      "cell_type": "code",
      "source": [
        "#data = pd.read_csv('/content/drive/MyDrive/БазыCSV/InClinic/Весь период.csv', sep = ';', on_bad_lines='skip', engine='python' )"
      ],
      "metadata": {
        "id": "LhZ7zYxibhRD"
      },
      "execution_count": null,
      "outputs": []
    },
    {
      "cell_type": "markdown",
      "metadata": {
        "id": "wlQ2MAoAvZUy"
      },
      "source": [
        "# Анализ формы и состава данных\n",
        "\n",
        "В ходе анализа предоставленной базы данных выяснилось что достаточно большая часть содержит информацию не влияющую на выполнение задачи по техническому заданию. Принято решение создания датафрейма на позициях необходимых для решения задачи.\n",
        "\n",
        "\n",
        "---\n",
        "\n",
        "Запускать только при необходимости анализа"
      ]
    },
    {
      "cell_type": "code",
      "source": [
        "# путь до папки, содержащей файлы (замените на ваш путь)\n",
        "folder_path = '/content/drive/MyDrive/Работа в УИИ/Профпатолог стажировка (старички) 01.04/datasets/24.06'\n",
        "\n",
        "# получаем список файлов в папке\n",
        "file_list = os.listdir(folder_path)\n",
        "\n",
        "# последовательно выводим содержимое каждого .csv файла\n",
        "for file_name in file_list:\n",
        "    if file_name.endswith('.csv'):\n",
        "        file_path = os.path.join(folder_path, file_name)\n",
        "        print(\"Contens of \", file_name, \":\")\n",
        "        try:\n",
        "            df = pd.read_csv(file_path, sep=',')\n",
        "        except:\n",
        "            try:\n",
        "                df = pd.read_csv(file_path, sep=';')\n",
        "            except:\n",
        "                print(\"Could not determine separator\")\n",
        "                continue\n",
        "        display(df) # выводим содержимое файла в виде таблицы"
      ],
      "metadata": {
        "id": "2iDrHkgNsNgx"
      },
      "execution_count": null,
      "outputs": []
    },
    {
      "cell_type": "code",
      "execution_count": null,
      "metadata": {
        "colab": {
          "base_uri": "https://localhost:8080/"
        },
        "id": "oh2FEm_Ku5Gs",
        "outputId": "39151b53-0a1e-40c3-eb74-806abdc1b9a8"
      },
      "outputs": [
        {
          "output_type": "stream",
          "name": "stdout",
          "text": [
            "(32686, 289)\n",
            "9446254\n"
          ]
        },
        {
          "output_type": "execute_result",
          "data": {
            "text/plain": [
              "8791393"
            ]
          },
          "metadata": {},
          "execution_count": 15
        }
      ],
      "source": [
        "print(data.shape)                            # Форма и размер\n",
        "print(data.size)                             # Колличество элементов\n",
        "data.isna().sum().sum()                      # Вычислит общее количество пропусков во всей таблице\n",
        "#data.info()                                 # Сводная информация\n",
        "#data.head()                                 # Вывод первых 5 строк таблицы"
      ]
    },
    {
      "cell_type": "code",
      "execution_count": null,
      "metadata": {
        "colab": {
          "base_uri": "https://localhost:8080/",
          "height": 320
        },
        "id": "Oje2U5h86Igp",
        "outputId": "83e8d127-766e-4460-fa41-18e851f0bfbb"
      },
      "outputs": [
        {
          "output_type": "execute_result",
          "data": {
            "text/plain": [
              "               ДокументПрохождениеМедосмотра  \\\n",
              "count                                  32686   \n",
              "unique                                 18318   \n",
              "top     b31f3c71-87d7-11ec-80fc-0cc47aab8067   \n",
              "freq                                       7   \n",
              "\n",
              "                                      Клиент   КлиентДатаРождения КлиентПол  \\\n",
              "count                                  32686                32447     32682   \n",
              "unique                                 16719                10265         3   \n",
              "top     a0a96ecb-6cd5-11ea-80dd-0cc47aab8067  1988-01-01T00:00:00   Мужской   \n",
              "freq                                      10                   19     23122   \n",
              "\n",
              "       КлиентПолПредставление ДатаЗавершенияМедосмотра  ТипМедосмотра  \\\n",
              "count                   32682                    32686          32686   \n",
              "unique                      3                      468              2   \n",
              "top                   Мужской      2023-05-31T00:00:00  Периодический   \n",
              "freq                    23122                     1755          32582   \n",
              "\n",
              "       ТипМедосмотраПредставление                            Контрагент  \\\n",
              "count                       32686                                 32670   \n",
              "unique                          2                                   610   \n",
              "top                 Периодический  14b3b113-2a96-11e9-80ce-0cc47aab8067   \n",
              "freq                        32582                                  2782   \n",
              "\n",
              "               Цех  ... ХирургНеИсп2_МКБ103 ХирургНеИсп3_МКБ101  \\\n",
              "count        10596  ...                   6                   6   \n",
              "unique         750  ...                   1                   1   \n",
              "top     Без отдела  ...               Z00.0               Z00.0   \n",
              "freq          1964  ...                   6                   6   \n",
              "\n",
              "       ХирургНеИсп3_МКБ102 ХирургНеИсп3_МКБ103 ЭКГНеИсп1_МКБ101  \\\n",
              "count                    6                   6              864   \n",
              "unique                   1                   1                1   \n",
              "top                  Z00.0               Z00.0            Z00.0   \n",
              "freq                     6                   6              864   \n",
              "\n",
              "       ЭКГНеИсп1_МКБ102 ЭКГНеИсп2_МКБ101 ЭКГНеИсп2_МКБ102 Эндоскопия1_МКБ101  \\\n",
              "count                22               22               22                 94   \n",
              "unique                1                1                1                  9   \n",
              "top               Z00.0            Z00.0            Z00.0              Z00.0   \n",
              "freq                 22               22               22                 42   \n",
              "\n",
              "       Эндоскопия1_МКБ102  \n",
              "count                   6  \n",
              "unique                  2  \n",
              "top                 K86.1  \n",
              "freq                    4  \n",
              "\n",
              "[4 rows x 213 columns]"
            ],
            "text/html": [
              "\n",
              "  <div id=\"df-c8d07557-dd63-4b00-91da-0fd4910aeb77\">\n",
              "    <div class=\"colab-df-container\">\n",
              "      <div>\n",
              "<style scoped>\n",
              "    .dataframe tbody tr th:only-of-type {\n",
              "        vertical-align: middle;\n",
              "    }\n",
              "\n",
              "    .dataframe tbody tr th {\n",
              "        vertical-align: top;\n",
              "    }\n",
              "\n",
              "    .dataframe thead th {\n",
              "        text-align: right;\n",
              "    }\n",
              "</style>\n",
              "<table border=\"1\" class=\"dataframe\">\n",
              "  <thead>\n",
              "    <tr style=\"text-align: right;\">\n",
              "      <th></th>\n",
              "      <th>ДокументПрохождениеМедосмотра</th>\n",
              "      <th>Клиент</th>\n",
              "      <th>КлиентДатаРождения</th>\n",
              "      <th>КлиентПол</th>\n",
              "      <th>КлиентПолПредставление</th>\n",
              "      <th>ДатаЗавершенияМедосмотра</th>\n",
              "      <th>ТипМедосмотра</th>\n",
              "      <th>ТипМедосмотраПредставление</th>\n",
              "      <th>Контрагент</th>\n",
              "      <th>Цех</th>\n",
              "      <th>...</th>\n",
              "      <th>ХирургНеИсп2_МКБ103</th>\n",
              "      <th>ХирургНеИсп3_МКБ101</th>\n",
              "      <th>ХирургНеИсп3_МКБ102</th>\n",
              "      <th>ХирургНеИсп3_МКБ103</th>\n",
              "      <th>ЭКГНеИсп1_МКБ101</th>\n",
              "      <th>ЭКГНеИсп1_МКБ102</th>\n",
              "      <th>ЭКГНеИсп2_МКБ101</th>\n",
              "      <th>ЭКГНеИсп2_МКБ102</th>\n",
              "      <th>Эндоскопия1_МКБ101</th>\n",
              "      <th>Эндоскопия1_МКБ102</th>\n",
              "    </tr>\n",
              "  </thead>\n",
              "  <tbody>\n",
              "    <tr>\n",
              "      <th>count</th>\n",
              "      <td>32686</td>\n",
              "      <td>32686</td>\n",
              "      <td>32447</td>\n",
              "      <td>32682</td>\n",
              "      <td>32682</td>\n",
              "      <td>32686</td>\n",
              "      <td>32686</td>\n",
              "      <td>32686</td>\n",
              "      <td>32670</td>\n",
              "      <td>10596</td>\n",
              "      <td>...</td>\n",
              "      <td>6</td>\n",
              "      <td>6</td>\n",
              "      <td>6</td>\n",
              "      <td>6</td>\n",
              "      <td>864</td>\n",
              "      <td>22</td>\n",
              "      <td>22</td>\n",
              "      <td>22</td>\n",
              "      <td>94</td>\n",
              "      <td>6</td>\n",
              "    </tr>\n",
              "    <tr>\n",
              "      <th>unique</th>\n",
              "      <td>18318</td>\n",
              "      <td>16719</td>\n",
              "      <td>10265</td>\n",
              "      <td>3</td>\n",
              "      <td>3</td>\n",
              "      <td>468</td>\n",
              "      <td>2</td>\n",
              "      <td>2</td>\n",
              "      <td>610</td>\n",
              "      <td>750</td>\n",
              "      <td>...</td>\n",
              "      <td>1</td>\n",
              "      <td>1</td>\n",
              "      <td>1</td>\n",
              "      <td>1</td>\n",
              "      <td>1</td>\n",
              "      <td>1</td>\n",
              "      <td>1</td>\n",
              "      <td>1</td>\n",
              "      <td>9</td>\n",
              "      <td>2</td>\n",
              "    </tr>\n",
              "    <tr>\n",
              "      <th>top</th>\n",
              "      <td>b31f3c71-87d7-11ec-80fc-0cc47aab8067</td>\n",
              "      <td>a0a96ecb-6cd5-11ea-80dd-0cc47aab8067</td>\n",
              "      <td>1988-01-01T00:00:00</td>\n",
              "      <td>Мужской</td>\n",
              "      <td>Мужской</td>\n",
              "      <td>2023-05-31T00:00:00</td>\n",
              "      <td>Периодический</td>\n",
              "      <td>Периодический</td>\n",
              "      <td>14b3b113-2a96-11e9-80ce-0cc47aab8067</td>\n",
              "      <td>Без отдела</td>\n",
              "      <td>...</td>\n",
              "      <td>Z00.0</td>\n",
              "      <td>Z00.0</td>\n",
              "      <td>Z00.0</td>\n",
              "      <td>Z00.0</td>\n",
              "      <td>Z00.0</td>\n",
              "      <td>Z00.0</td>\n",
              "      <td>Z00.0</td>\n",
              "      <td>Z00.0</td>\n",
              "      <td>Z00.0</td>\n",
              "      <td>K86.1</td>\n",
              "    </tr>\n",
              "    <tr>\n",
              "      <th>freq</th>\n",
              "      <td>7</td>\n",
              "      <td>10</td>\n",
              "      <td>19</td>\n",
              "      <td>23122</td>\n",
              "      <td>23122</td>\n",
              "      <td>1755</td>\n",
              "      <td>32582</td>\n",
              "      <td>32582</td>\n",
              "      <td>2782</td>\n",
              "      <td>1964</td>\n",
              "      <td>...</td>\n",
              "      <td>6</td>\n",
              "      <td>6</td>\n",
              "      <td>6</td>\n",
              "      <td>6</td>\n",
              "      <td>864</td>\n",
              "      <td>22</td>\n",
              "      <td>22</td>\n",
              "      <td>22</td>\n",
              "      <td>42</td>\n",
              "      <td>4</td>\n",
              "    </tr>\n",
              "  </tbody>\n",
              "</table>\n",
              "<p>4 rows × 213 columns</p>\n",
              "</div>\n",
              "      <button class=\"colab-df-convert\" onclick=\"convertToInteractive('df-c8d07557-dd63-4b00-91da-0fd4910aeb77')\"\n",
              "              title=\"Convert this dataframe to an interactive table.\"\n",
              "              style=\"display:none;\">\n",
              "        \n",
              "  <svg xmlns=\"http://www.w3.org/2000/svg\" height=\"24px\"viewBox=\"0 0 24 24\"\n",
              "       width=\"24px\">\n",
              "    <path d=\"M0 0h24v24H0V0z\" fill=\"none\"/>\n",
              "    <path d=\"M18.56 5.44l.94 2.06.94-2.06 2.06-.94-2.06-.94-.94-2.06-.94 2.06-2.06.94zm-11 1L8.5 8.5l.94-2.06 2.06-.94-2.06-.94L8.5 2.5l-.94 2.06-2.06.94zm10 10l.94 2.06.94-2.06 2.06-.94-2.06-.94-.94-2.06-.94 2.06-2.06.94z\"/><path d=\"M17.41 7.96l-1.37-1.37c-.4-.4-.92-.59-1.43-.59-.52 0-1.04.2-1.43.59L10.3 9.45l-7.72 7.72c-.78.78-.78 2.05 0 2.83L4 21.41c.39.39.9.59 1.41.59.51 0 1.02-.2 1.41-.59l7.78-7.78 2.81-2.81c.8-.78.8-2.07 0-2.86zM5.41 20L4 18.59l7.72-7.72 1.47 1.35L5.41 20z\"/>\n",
              "  </svg>\n",
              "      </button>\n",
              "      \n",
              "  <style>\n",
              "    .colab-df-container {\n",
              "      display:flex;\n",
              "      flex-wrap:wrap;\n",
              "      gap: 12px;\n",
              "    }\n",
              "\n",
              "    .colab-df-convert {\n",
              "      background-color: #E8F0FE;\n",
              "      border: none;\n",
              "      border-radius: 50%;\n",
              "      cursor: pointer;\n",
              "      display: none;\n",
              "      fill: #1967D2;\n",
              "      height: 32px;\n",
              "      padding: 0 0 0 0;\n",
              "      width: 32px;\n",
              "    }\n",
              "\n",
              "    .colab-df-convert:hover {\n",
              "      background-color: #E2EBFA;\n",
              "      box-shadow: 0px 1px 2px rgba(60, 64, 67, 0.3), 0px 1px 3px 1px rgba(60, 64, 67, 0.15);\n",
              "      fill: #174EA6;\n",
              "    }\n",
              "\n",
              "    [theme=dark] .colab-df-convert {\n",
              "      background-color: #3B4455;\n",
              "      fill: #D2E3FC;\n",
              "    }\n",
              "\n",
              "    [theme=dark] .colab-df-convert:hover {\n",
              "      background-color: #434B5C;\n",
              "      box-shadow: 0px 1px 3px 1px rgba(0, 0, 0, 0.15);\n",
              "      filter: drop-shadow(0px 1px 2px rgba(0, 0, 0, 0.3));\n",
              "      fill: #FFFFFF;\n",
              "    }\n",
              "  </style>\n",
              "\n",
              "      <script>\n",
              "        const buttonEl =\n",
              "          document.querySelector('#df-c8d07557-dd63-4b00-91da-0fd4910aeb77 button.colab-df-convert');\n",
              "        buttonEl.style.display =\n",
              "          google.colab.kernel.accessAllowed ? 'block' : 'none';\n",
              "\n",
              "        async function convertToInteractive(key) {\n",
              "          const element = document.querySelector('#df-c8d07557-dd63-4b00-91da-0fd4910aeb77');\n",
              "          const dataTable =\n",
              "            await google.colab.kernel.invokeFunction('convertToInteractive',\n",
              "                                                     [key], {});\n",
              "          if (!dataTable) return;\n",
              "\n",
              "          const docLinkHtml = 'Like what you see? Visit the ' +\n",
              "            '<a target=\"_blank\" href=https://colab.research.google.com/notebooks/data_table.ipynb>data table notebook</a>'\n",
              "            + ' to learn more about interactive tables.';\n",
              "          element.innerHTML = '';\n",
              "          dataTable['output_type'] = 'display_data';\n",
              "          await google.colab.output.renderOutput(dataTable, element);\n",
              "          const docLink = document.createElement('div');\n",
              "          docLink.innerHTML = docLinkHtml;\n",
              "          element.appendChild(docLink);\n",
              "        }\n",
              "      </script>\n",
              "    </div>\n",
              "  </div>\n",
              "  "
            ]
          },
          "metadata": {},
          "execution_count": 47
        }
      ],
      "source": [
        "data.describe(include=['O'])                  # Статистика"
      ]
    },
    {
      "cell_type": "code",
      "execution_count": null,
      "metadata": {
        "id": "dhBfGAvGHUyp"
      },
      "outputs": [],
      "source": [
        "data.info([0,-1])                              # Анализ состава информации в столбцах"
      ]
    },
    {
      "cell_type": "code",
      "execution_count": null,
      "metadata": {
        "id": "bRY2xEhM3QDJ"
      },
      "outputs": [],
      "source": [
        "# Выведем уникальные значения для данной колонки\n",
        "#display(data['Профессия'].unique())"
      ]
    },
    {
      "cell_type": "code",
      "execution_count": null,
      "metadata": {
        "id": "JwC-6LzEs1Xa"
      },
      "outputs": [],
      "source": [
        "# Индекс в таблице датафрейма 12\n",
        "#n = 12\n",
        "# Значения каждого столбца\n",
        "#for i in range(len(data.values[n])):\n",
        "#   print('{:>2}  {}'.format(i, data.values[i][n]))"
      ]
    },
    {
      "cell_type": "code",
      "execution_count": null,
      "metadata": {
        "colab": {
          "base_uri": "https://localhost:8080/",
          "height": 104
        },
        "id": "O1Z8yBHrssIV",
        "outputId": "fd23b546-c0f3-40e1-b114-e2b1c17a79d9"
      },
      "outputs": [
        {
          "output_type": "display_data",
          "data": {
            "text/plain": [
              "array(['Годен', 'ГоденСКоррекциейЗрения',\n",
              "       'НуждаетсяВДообследованииИЛечении', nan, 'ГоденБезРаботНаВысотах',\n",
              "       'ГоденСКоррекциейСлуха', ' п. 11.3', 'ОграниченноГоден',\n",
              "       'машинист бульдозера', 'Газоспасатель', ' Газоспасатель',\n",
              "       'Негоден'], dtype=object)"
            ]
          },
          "metadata": {}
        }
      ],
      "source": [
        "# Выведем уникальные значения для данной колонки\n",
        "display(data['ЗаключениеМК'].unique())"
      ]
    },
    {
      "cell_type": "markdown",
      "metadata": {
        "id": "XnzlbvgQ8mLL"
      },
      "source": [
        "# Отбор столбцов с целевыми данными\n",
        "\n",
        "* Отбор столбцов - персона/профессия/статус:\n",
        "\"КлиентДатаРождения\",  \"КлиентПол\",  \"ТипМедосмотраПредставление\", \"ПсихОсвидетельствование\",  \"Цех\", \"Профессия\", \"ЗаключениеМК\", \"ЗаключениеМКПредставление\",  \"ДиспансернаяГруппаПредставление\",\n",
        "\"ВредныеФакторы\".\n",
        "\n",
        "* Отбор столбцов по специализациям врачей\n",
        " с целевой информацией - Специализация/обследование/состояние:\n",
        "\"МКБ101\",  \"МКБ102\", \"МКБ103\",  \"МКБ104\", \" Представление\", \"ДиагнозПредставление\",   \"Диагноз_ЗначениеПредставление\",\n",
        "\"ПрофнепригодностьВременнаяПредставление\",  \"ПрофнепригодностьВременнаяПредставление1\", \"ПрофнепригодностьВременная1\",\"Анамнез_ЗначениеПредставление\",  \"Профессиональное1\", \"ЖалобыДополнение\", \"Рекомендация1\", \"Заключение\".\n"
      ]
    },
    {
      "cell_type": "code",
      "execution_count": null,
      "metadata": {
        "id": "EAulDY_ncK2L"
      },
      "outputs": [],
      "source": [
        "# Создание копии таблицы\n",
        "df = data.copy()"
      ]
    },
    {
      "cell_type": "code",
      "execution_count": null,
      "metadata": {
        "id": "CYhg6FkFKt4E"
      },
      "outputs": [],
      "source": [
        "# Список столбцов с персональными данными\n",
        "person = ['КлиентДатаРождения', 'КлиентПол', 'Профессия','ВредныеФакторы',\n",
        "          'ПсихОсвидетельствование', 'ЗаключениеМК', 'ЗаключениеМКПредставление']\n",
        "def person_columns(df):\n",
        "    person = []\n",
        "    for column in df.columns:\n",
        "                columns_selected.append(df[column])\n",
        "    return df[person]\n",
        "\n",
        "person_dat = df[person]"
      ]
    },
    {
      "cell_type": "code",
      "execution_count": null,
      "metadata": {
        "id": "0UeNJZqgEH3J"
      },
      "outputs": [],
      "source": [
        "words = {\"МКБ101\", \"МКБ102\",\"МКБ103\", \"МКБ104\",  \"Представление\",\n",
        "         \"ПрофнепригодностьВременнаяПредставление\",\"ПрофнепригодностьВременнаяПредставление1\",\n",
        "         \"ПрофнепригодностьВременная1\",\"ЖалобыДополнение\",\"Заключение\"}\n",
        "def find_columns(df, words):\n",
        "    '''Функция для поиска столбцов в датафрейме df.Возвращаем:\n",
        "     -новый датафрейм, состоящий только из целевых столбцов\n",
        "    '''\n",
        "    #разделяем названия столбцов на отдельные слова\n",
        "    column_words = [s.split('_') for s in df.columns]\n",
        "    # ищем вхождения каждого слова из списка words\n",
        "    # в каждом списке слов из column_words\n",
        "    word_indices = {}\n",
        "    for i, cw in enumerate(column_words):\n",
        "        for word in words:\n",
        "            if word in cw:\n",
        "                if i not in word_indices:\n",
        "                    word_indices[i] = 1\n",
        "                else:\n",
        "                    word_indices[i] += 1\n",
        "\n",
        "    #составляем список индексов столбцов, которые содержат\n",
        "    #хотя бы одно искомое слово\n",
        "    index_list = [i for i, count in word_indices.items() if count > 0]\n",
        "\n",
        "    #возвращаем новый датафрейм, состоящий только из найденных столбцов\n",
        "    return df.iloc[:, index_list]\n",
        "\n",
        "diagnosis_dat = find_columns(df, words)\n"
      ]
    },
    {
      "cell_type": "code",
      "source": [
        "# Объединяяем выборки столбцов\n",
        "result = pd.concat([person_dat, diagnosis_dat], axis=1)\n",
        "df1= result"
      ],
      "metadata": {
        "id": "tAjyJaS1tvjF"
      },
      "execution_count": null,
      "outputs": []
    },
    {
      "cell_type": "code",
      "source": [
        "# Удаляем полностью пустые столбцы\n",
        "df1.dropna(axis=1, how='all', inplace=True)\n",
        "# Удаляем дубликаты столбцов\n",
        "df1 = df1.loc[:,~df1.columns.duplicated()]\n",
        "# Удаляем полностью пустые строки\n",
        "df1.dropna(axis=0, how='all', inplace=True)\n",
        "# Доля пропусков от общего количества элементов\n",
        "df1.head(2).isna().sum() / df1.head(2).shape[0]\n",
        "# Вычислим общее количество пропусков во всей таблице\n",
        "df1.head(2).isna().sum().sum()\n",
        "proc = df1.head(2).isna().sum().sum() / df1.head(2).size\n",
        "# Вычислим общее количество пропусков в процентах во всей таблице\n",
        "print('{:.1%}'.format(proc))"
      ],
      "metadata": {
        "colab": {
          "base_uri": "https://localhost:8080/"
        },
        "id": "HnI_9DrYN3MP",
        "outputId": "4a157e52-6e55-4af8-d74f-f40201eeb877"
      },
      "execution_count": null,
      "outputs": [
        {
          "output_type": "stream",
          "name": "stdout",
          "text": [
            "93.3%\n"
          ]
        }
      ]
    },
    {
      "cell_type": "code",
      "execution_count": null,
      "metadata": {
        "colab": {
          "base_uri": "https://localhost:8080/",
          "height": 261
        },
        "id": "TifgTi-Kw7RR",
        "outputId": "dedd43bd-a03c-47e4-bd3e-14468677398c"
      },
      "outputs": [
        {
          "output_type": "stream",
          "name": "stdout",
          "text": [
            "(32686, 194)\n",
            "6341084\n"
          ]
        },
        {
          "output_type": "execute_result",
          "data": {
            "text/plain": [
              "    КлиентДатаРождения КлиентПол        Профессия ВредныеФакторы  \\\n",
              "0  1989-12-31T00:00:00   Женский  Продавец-кассир     Нет данных   \n",
              "\n",
              "   ПсихОсвидетельствование ЗаключениеМК            ЗаключениеМКПредставление  \\\n",
              "0                    False        Годен  Годен к работе в указанных условиях   \n",
              "\n",
              "                            Заключение Гинекология1_МКБ101  \\\n",
              "0  Годен к работе в указанных условиях               Z00.0   \n",
              "\n",
              "  Гинекология1_МКБ102  ... ХирургНеИсп2_МКБ103 ХирургНеИсп3_МКБ101  \\\n",
              "0          Нет данных  ...          Нет данных          Нет данных   \n",
              "\n",
              "  ХирургНеИсп3_МКБ102 ХирургНеИсп3_МКБ103 ЭКГНеИсп1_МКБ101 ЭКГНеИсп1_МКБ102  \\\n",
              "0          Нет данных          Нет данных       Нет данных       Нет данных   \n",
              "\n",
              "  ЭКГНеИсп2_МКБ101 ЭКГНеИсп2_МКБ102 Эндоскопия1_МКБ101 Эндоскопия1_МКБ102  \n",
              "0       Нет данных       Нет данных         Нет данных         Нет данных  \n",
              "\n",
              "[1 rows x 194 columns]"
            ],
            "text/html": [
              "\n",
              "\n",
              "  <div id=\"df-78576fb5-465c-4f35-9489-8fd3420a9d97\">\n",
              "    <div class=\"colab-df-container\">\n",
              "      <div>\n",
              "<style scoped>\n",
              "    .dataframe tbody tr th:only-of-type {\n",
              "        vertical-align: middle;\n",
              "    }\n",
              "\n",
              "    .dataframe tbody tr th {\n",
              "        vertical-align: top;\n",
              "    }\n",
              "\n",
              "    .dataframe thead th {\n",
              "        text-align: right;\n",
              "    }\n",
              "</style>\n",
              "<table border=\"1\" class=\"dataframe\">\n",
              "  <thead>\n",
              "    <tr style=\"text-align: right;\">\n",
              "      <th></th>\n",
              "      <th>КлиентДатаРождения</th>\n",
              "      <th>КлиентПол</th>\n",
              "      <th>Профессия</th>\n",
              "      <th>ВредныеФакторы</th>\n",
              "      <th>ПсихОсвидетельствование</th>\n",
              "      <th>ЗаключениеМК</th>\n",
              "      <th>ЗаключениеМКПредставление</th>\n",
              "      <th>Заключение</th>\n",
              "      <th>Гинекология1_МКБ101</th>\n",
              "      <th>Гинекология1_МКБ102</th>\n",
              "      <th>...</th>\n",
              "      <th>ХирургНеИсп2_МКБ103</th>\n",
              "      <th>ХирургНеИсп3_МКБ101</th>\n",
              "      <th>ХирургНеИсп3_МКБ102</th>\n",
              "      <th>ХирургНеИсп3_МКБ103</th>\n",
              "      <th>ЭКГНеИсп1_МКБ101</th>\n",
              "      <th>ЭКГНеИсп1_МКБ102</th>\n",
              "      <th>ЭКГНеИсп2_МКБ101</th>\n",
              "      <th>ЭКГНеИсп2_МКБ102</th>\n",
              "      <th>Эндоскопия1_МКБ101</th>\n",
              "      <th>Эндоскопия1_МКБ102</th>\n",
              "    </tr>\n",
              "  </thead>\n",
              "  <tbody>\n",
              "    <tr>\n",
              "      <th>0</th>\n",
              "      <td>1989-12-31T00:00:00</td>\n",
              "      <td>Женский</td>\n",
              "      <td>Продавец-кассир</td>\n",
              "      <td>Нет данных</td>\n",
              "      <td>False</td>\n",
              "      <td>Годен</td>\n",
              "      <td>Годен к работе в указанных условиях</td>\n",
              "      <td>Годен к работе в указанных условиях</td>\n",
              "      <td>Z00.0</td>\n",
              "      <td>Нет данных</td>\n",
              "      <td>...</td>\n",
              "      <td>Нет данных</td>\n",
              "      <td>Нет данных</td>\n",
              "      <td>Нет данных</td>\n",
              "      <td>Нет данных</td>\n",
              "      <td>Нет данных</td>\n",
              "      <td>Нет данных</td>\n",
              "      <td>Нет данных</td>\n",
              "      <td>Нет данных</td>\n",
              "      <td>Нет данных</td>\n",
              "      <td>Нет данных</td>\n",
              "    </tr>\n",
              "  </tbody>\n",
              "</table>\n",
              "<p>1 rows × 194 columns</p>\n",
              "</div>\n",
              "      <button class=\"colab-df-convert\" onclick=\"convertToInteractive('df-78576fb5-465c-4f35-9489-8fd3420a9d97')\"\n",
              "              title=\"Convert this dataframe to an interactive table.\"\n",
              "              style=\"display:none;\">\n",
              "\n",
              "  <svg xmlns=\"http://www.w3.org/2000/svg\" height=\"24px\"viewBox=\"0 0 24 24\"\n",
              "       width=\"24px\">\n",
              "    <path d=\"M0 0h24v24H0V0z\" fill=\"none\"/>\n",
              "    <path d=\"M18.56 5.44l.94 2.06.94-2.06 2.06-.94-2.06-.94-.94-2.06-.94 2.06-2.06.94zm-11 1L8.5 8.5l.94-2.06 2.06-.94-2.06-.94L8.5 2.5l-.94 2.06-2.06.94zm10 10l.94 2.06.94-2.06 2.06-.94-2.06-.94-.94-2.06-.94 2.06-2.06.94z\"/><path d=\"M17.41 7.96l-1.37-1.37c-.4-.4-.92-.59-1.43-.59-.52 0-1.04.2-1.43.59L10.3 9.45l-7.72 7.72c-.78.78-.78 2.05 0 2.83L4 21.41c.39.39.9.59 1.41.59.51 0 1.02-.2 1.41-.59l7.78-7.78 2.81-2.81c.8-.78.8-2.07 0-2.86zM5.41 20L4 18.59l7.72-7.72 1.47 1.35L5.41 20z\"/>\n",
              "  </svg>\n",
              "      </button>\n",
              "\n",
              "\n",
              "\n",
              "    <div id=\"df-623652f3-e89d-4b36-8973-32122c134541\">\n",
              "      <button class=\"colab-df-quickchart\" onclick=\"quickchart('df-623652f3-e89d-4b36-8973-32122c134541')\"\n",
              "              title=\"Suggest charts.\"\n",
              "              style=\"display:none;\">\n",
              "\n",
              "<svg xmlns=\"http://www.w3.org/2000/svg\" height=\"24px\"viewBox=\"0 0 24 24\"\n",
              "     width=\"24px\">\n",
              "    <g>\n",
              "        <path d=\"M19 3H5c-1.1 0-2 .9-2 2v14c0 1.1.9 2 2 2h14c1.1 0 2-.9 2-2V5c0-1.1-.9-2-2-2zM9 17H7v-7h2v7zm4 0h-2V7h2v10zm4 0h-2v-4h2v4z\"/>\n",
              "    </g>\n",
              "</svg>\n",
              "      </button>\n",
              "    </div>\n",
              "\n",
              "<style>\n",
              "  .colab-df-quickchart {\n",
              "    background-color: #E8F0FE;\n",
              "    border: none;\n",
              "    border-radius: 50%;\n",
              "    cursor: pointer;\n",
              "    display: none;\n",
              "    fill: #1967D2;\n",
              "    height: 32px;\n",
              "    padding: 0 0 0 0;\n",
              "    width: 32px;\n",
              "  }\n",
              "\n",
              "  .colab-df-quickchart:hover {\n",
              "    background-color: #E2EBFA;\n",
              "    box-shadow: 0px 1px 2px rgba(60, 64, 67, 0.3), 0px 1px 3px 1px rgba(60, 64, 67, 0.15);\n",
              "    fill: #174EA6;\n",
              "  }\n",
              "\n",
              "  [theme=dark] .colab-df-quickchart {\n",
              "    background-color: #3B4455;\n",
              "    fill: #D2E3FC;\n",
              "  }\n",
              "\n",
              "  [theme=dark] .colab-df-quickchart:hover {\n",
              "    background-color: #434B5C;\n",
              "    box-shadow: 0px 1px 3px 1px rgba(0, 0, 0, 0.15);\n",
              "    filter: drop-shadow(0px 1px 2px rgba(0, 0, 0, 0.3));\n",
              "    fill: #FFFFFF;\n",
              "  }\n",
              "</style>\n",
              "\n",
              "    <script>\n",
              "      async function quickchart(key) {\n",
              "        const containerElement = document.querySelector('#' + key);\n",
              "        const charts = await google.colab.kernel.invokeFunction(\n",
              "            'suggestCharts', [key], {});\n",
              "      }\n",
              "    </script>\n",
              "\n",
              "      <script>\n",
              "\n",
              "function displayQuickchartButton(domScope) {\n",
              "  let quickchartButtonEl =\n",
              "    domScope.querySelector('#df-623652f3-e89d-4b36-8973-32122c134541 button.colab-df-quickchart');\n",
              "  quickchartButtonEl.style.display =\n",
              "    google.colab.kernel.accessAllowed ? 'block' : 'none';\n",
              "}\n",
              "\n",
              "        displayQuickchartButton(document);\n",
              "      </script>\n",
              "      <style>\n",
              "    .colab-df-container {\n",
              "      display:flex;\n",
              "      flex-wrap:wrap;\n",
              "      gap: 12px;\n",
              "    }\n",
              "\n",
              "    .colab-df-convert {\n",
              "      background-color: #E8F0FE;\n",
              "      border: none;\n",
              "      border-radius: 50%;\n",
              "      cursor: pointer;\n",
              "      display: none;\n",
              "      fill: #1967D2;\n",
              "      height: 32px;\n",
              "      padding: 0 0 0 0;\n",
              "      width: 32px;\n",
              "    }\n",
              "\n",
              "    .colab-df-convert:hover {\n",
              "      background-color: #E2EBFA;\n",
              "      box-shadow: 0px 1px 2px rgba(60, 64, 67, 0.3), 0px 1px 3px 1px rgba(60, 64, 67, 0.15);\n",
              "      fill: #174EA6;\n",
              "    }\n",
              "\n",
              "    [theme=dark] .colab-df-convert {\n",
              "      background-color: #3B4455;\n",
              "      fill: #D2E3FC;\n",
              "    }\n",
              "\n",
              "    [theme=dark] .colab-df-convert:hover {\n",
              "      background-color: #434B5C;\n",
              "      box-shadow: 0px 1px 3px 1px rgba(0, 0, 0, 0.15);\n",
              "      filter: drop-shadow(0px 1px 2px rgba(0, 0, 0, 0.3));\n",
              "      fill: #FFFFFF;\n",
              "    }\n",
              "  </style>\n",
              "\n",
              "      <script>\n",
              "        const buttonEl =\n",
              "          document.querySelector('#df-78576fb5-465c-4f35-9489-8fd3420a9d97 button.colab-df-convert');\n",
              "        buttonEl.style.display =\n",
              "          google.colab.kernel.accessAllowed ? 'block' : 'none';\n",
              "\n",
              "        async function convertToInteractive(key) {\n",
              "          const element = document.querySelector('#df-78576fb5-465c-4f35-9489-8fd3420a9d97');\n",
              "          const dataTable =\n",
              "            await google.colab.kernel.invokeFunction('convertToInteractive',\n",
              "                                                     [key], {});\n",
              "          if (!dataTable) return;\n",
              "\n",
              "          const docLinkHtml = 'Like what you see? Visit the ' +\n",
              "            '<a target=\"_blank\" href=https://colab.research.google.com/notebooks/data_table.ipynb>data table notebook</a>'\n",
              "            + ' to learn more about interactive tables.';\n",
              "          element.innerHTML = '';\n",
              "          dataTable['output_type'] = 'display_data';\n",
              "          await google.colab.output.renderOutput(dataTable, element);\n",
              "          const docLink = document.createElement('div');\n",
              "          docLink.innerHTML = docLinkHtml;\n",
              "          element.appendChild(docLink);\n",
              "        }\n",
              "      </script>\n",
              "    </div>\n",
              "  </div>\n"
            ]
          },
          "metadata": {},
          "execution_count": 10
        }
      ],
      "source": [
        "# Замена всех пропусков на слово \"Нет данных\"\n",
        "df1.fillna(\"Нет данных\", inplace=True)\n",
        "# Форма и размер\n",
        "print(df1.shape)\n",
        "# Колличество элементов\n",
        "print(df1.size)\n",
        "df1.head(1)"
      ]
    },
    {
      "cell_type": "code",
      "source": [
        "df1.to_csv('/content/drive/MyDrive/БазыCSV/InClinic/df1.csv', index = False)"
      ],
      "metadata": {
        "id": "O9dQ1xbOpPj2"
      },
      "execution_count": null,
      "outputs": []
    },
    {
      "cell_type": "markdown",
      "source": [
        "# Классификация условий труда"
      ],
      "metadata": {
        "id": "IRXnHTWiLIZ8"
      }
    },
    {
      "cell_type": "markdown",
      "source": [
        "\n",
        "\n",
        "Согласно действующему законодательству, вся трудовая деятельность условно\n",
        "подразделяется на 4 категории, каждая из которых основывается на степени факторов риска для здоровья и жизни:\n",
        "\n",
        "---\n",
        "\n",
        "* Оптимальный — на территории и во внутренних помещениях сохраняется и\n",
        "поддерживается здоровый микроклимат, положительно влияющий на производительность труда;\n",
        "\n",
        "* Допустимый — сохраняются нормальные условия, уровень вредных факторов не превышает допустимых норм;\n",
        "\n",
        "* Вредный — превышаются допустимые нормы, что причиняет вред здоровью человека;\n",
        "\n",
        "* Опасный — условия труда способны повлечь причинение тяжкого вреда здоровью, иногда несут угрозу жизни.\n",
        "\n",
        "---\n",
        "\n",
        "В свою очередь, вредные и опасные производства подразделяются между собой на 4 степени тяжести:\n",
        "\n",
        "1 Изменения, начавшиеся в организме человека, носят обратимый характер и обычно проявляются после завершения трудовой деятельности. Такие недуги на медицинском сленге называются «профессиональными заболеваниями»;\n",
        "\n",
        "2 Патологические изменения проявляются более выражено и часто приводят к временной потере трудоспособности (человек регулярно уходит на больничный). Здесь наиболее часто развиваются хронические недуги, вызванные профессиональной деятельностью;\n",
        "\n",
        "3 В организме протекают необратимые процессы, способные повлечь частичную потерю трудоспособности;\n",
        "\n",
        "4 Происходят тяжелые функциональные расстройства внутренних органов и систем, что в запущенных случаях приводит к присвоению нерабочей группы инвалидности.\n",
        "\n",
        "\n",
        "---\n",
        "\n",
        "\n",
        "К сожалению \"СОУТ\"(специальная оценка условий труда) пока не располагает системой привязки категории рисков к группам профессии, к примеру ISCO-08, или иные подобные классификаторы.\n",
        " Единых методических указаний по управлению профессиональными\n",
        "рисками пока не существует. Одна из причин - огромное разнообразие профессий и рисков. В одну только Систему стандартов безопасности труда (ССБТ) по состоянию на 2020 год\n",
        "входит около 400 документов.\n",
        "\n",
        "---\n",
        "\n",
        "ISCO-08 МСКЗ-08 делит рабочие места на 10 основных групп:\n",
        "\n",
        "Основные группы\n",
        "* 1 Руководители\n",
        "* 2 Специалисты-профессионалы\n",
        "* 3 Специалисты-техники и иной средний специальный персонал\n",
        "* 4 Служащие, занятые подготовкой и оформлением документации, учетом и\n",
        "  обслуживанием\n",
        "* 5 Работники сферы обслуживания и торговли\n",
        "* 6 Квалифицированные работники сельского и лесного хозяйств, рыбоводства и\n",
        "рыболовства\n",
        "* 7 Квалифицированные рабочие промышленности и рабочие родственных занятий\n",
        "* 8 Операторы и сборщики промышленных установок и машин\n",
        "* 9 Неквалифицированные работники\n",
        "* 0 Военнослужащие\n",
        "\n",
        "\n",
        "\n"
      ],
      "metadata": {
        "id": "Eb_ABLrzfIi9"
      }
    },
    {
      "cell_type": "markdown",
      "source": [
        " Основные группы и подгруппы\n",
        "\n",
        "* 1 Руководители\n",
        "11 Руководители высшего звена, высшие должностные лица и законодатели\n",
        "12 Корпоративные управляющие\n",
        "13 Руководители подразделений в сфере производства и специализированных\n",
        "сервисных услуг\n",
        "14 Руководители в сфере гостиничного бизнеса, руководители (управляющие) в\n",
        "магазинах и родственных областях деятельности\n",
        "\n",
        "* 2 Специалисты-профессионалы\n",
        "21 Специалисты-профессионалы в области науки и техники\n",
        "22 Специалисты-профессионалы в области здравоохранения\n",
        "23 Специалисты-профессионалы в области образования\n",
        "24 Специалисты-профессионалы в сфере бизнеса и администрирования\n",
        "25 Специалисты-профессионалы по информационно-коммуникационным\n",
        "технологиям (ИКТ)\n",
        "26 Специалисты-профессионалы в области права, гуманитарных областей и\n",
        "культуры\n",
        "\n",
        "* 3 Специалисты-техники и иной средний специальный персонал\n",
        "31 Специалисты-техники в области науки и техники\n",
        "32 Средний медицинский персонал здравоохранения\n",
        "33 Средний специальный персонал по экономической и административной\n",
        "деятельности\n",
        "34 Средний специальный персонал в области юриспруденции, социальной\n",
        "работы, культуры и родственных занятий\n",
        "35 Специалисты-техники в области ИКТ\n",
        "\n",
        "* 4 Служащие, занятые подготовкой и оформлением документации, учетом и\n",
        "обслуживанием\n",
        "41 Служащие общего профиля и обслуживающие офисную технику\n",
        "42 Служащие сферы обслуживания населения\n",
        "43 Служащие в сфере обработки числовой информации и учета материальных\n",
        "ценностей\n",
        "44 Другие офисные служащие\n",
        "\n",
        "* 5 Работники сферы обслуживания и торговли\n",
        "51 Работники сфер индивидуальных услуг\n",
        "52 Продавцы\n",
        "53 Работники, оказывающие услуги по индивидуальному уходу\n",
        "54 Работники служб, осуществляющих охрану граждан и собственности\n",
        "\n",
        "* 6 Квалифицированные работники сельского и лесного хозяйств, рыбоводства и\n",
        "рыболовства\n",
        "61 Квалифицированные работники сельского хозяйства, производящие товарную\n",
        "продукцию\n",
        "62 Товарные производители лесной и рыбной продукции и охотники\n",
        "63 Квалифицированные работники сельского хозяйства, рыболовства, охотники и\n",
        "сборщики урожая, производящие продукцию для личного потребления\n",
        "\n",
        "* 7 Квалифицированные рабочие промышленности и рабочие родственных занятий\n",
        "71 Рабочие, занятые в строительстве, и рабочие родственных занятий\n",
        "72 Рабочие металлообрабатывающей промышленности, машиностроения и\n",
        "родственных занятий\n",
        "73 Высококвалифицированные рабочие ручного труда и полиграфического\n",
        "производства\n",
        "74 Рабочие в области электротехники и электроники\n",
        "75 Рабочие пищевой, деревообрабатывающей, текстильной и швейной\n",
        "промышленности и рабочие родственных занятий\n",
        "\n",
        "* 8 Операторы и сборщики промышленных установок и машин\n",
        "81 Операторы промышленных установок и стационарного оборудования\n",
        "82 Сборщики\n",
        "83 Водители и операторы подвижного оборудования\n",
        "\n",
        "* 9 Неквалифицированные работники\n",
        "91 Прислуга и уборщики\n",
        "92 Неквалифицированные рабочие сельского и лесного хозяйств, рыбоводства и\n",
        "рыболовства\n",
        "93 Неквалифицированные рабочие, занятые в горнодобывающей\n",
        "промышленности, строительстве, обрабатывающей промышленности и на транспорте\n",
        "94 Помощники в приготовлении пищи\n",
        "95 Уличные торговцы и другие неквалифицированные работники, оказывающие\n",
        "различные уличные услуги\n",
        "96 Неквалифицированные работники по сбору мусора и другие\n",
        "неквалифицированные работники\n",
        "\n",
        "* 0 Военнослужащие\n",
        "01 Офицеры в действующей армии\n",
        "02 Военнослужащие неофицерских званий\n",
        "03 Военнослужащие других званий\n"
      ],
      "metadata": {
        "id": "I0Ft9jl6FlQ-"
      }
    },
    {
      "cell_type": "markdown",
      "source": [
        "# Анализ данных в отобранных столбцах, отбраковка.\n",
        "\n",
        "По результату анализа данных в отобранных столбцах остаются только столбцы содержащие условно-полноценную информацию небходимую для обучения \"НС\"\n",
        "\n",
        "Клиент\n",
        "- КлиентДатаРождения,  КлиентПол,  Профессия,  ВредныеФакторы.\n",
        "\n",
        "Обследование\n",
        "- ПсихОсвидетельствование,  ЗаключениеМК,  ЗаключениеМКПредставление,  МКБ101,  МКБ102,  МКБ103,  МКБ104,  Представление,  ПрофнепригодностьВременнаяПредставление,\n",
        " ПрофнепригодностьВременнаяПредставление1, ПрофнепригодностьВременная1, ЖалобыДополнение, Заключение.\n",
        "\n",
        "\n",
        "---\n",
        "\n",
        "Запускать только при необходимости анализа"
      ],
      "metadata": {
        "id": "KEhcbKIDBa6s"
      }
    },
    {
      "cell_type": "markdown",
      "source": [
        "Персона"
      ],
      "metadata": {
        "id": "9447hhTOEe8E"
      }
    },
    {
      "cell_type": "code",
      "source": [
        "# Уникальные значения колонки\n",
        "unique_values = []\n",
        "for column in df1.columns:\n",
        "    if 'КлиентПол' in column:\n",
        "        unique_values.extend(df1[column].unique())\n",
        "unique_values = list(set(unique_values))\n",
        "print(unique_values)"
      ],
      "metadata": {
        "colab": {
          "base_uri": "https://localhost:8080/"
        },
        "id": "peRRhar9BpHh",
        "outputId": "75d689bf-d370-46a0-e986-adf071d0ce88"
      },
      "execution_count": null,
      "outputs": [
        {
          "output_type": "stream",
          "name": "stdout",
          "text": [
            "['Женский', 'Нет данных', 'Мужской', 'НеУказан']\n"
          ]
        }
      ]
    },
    {
      "cell_type": "code",
      "source": [
        "# Уникальные значения колонки\n",
        "unique_values = []\n",
        "for column in df1.columns:\n",
        "    if 'Профессия' in column:\n",
        "        unique_values.extend(df1[column].unique())\n",
        "unique_values = list(set(unique_values))\n",
        "unique_values"
      ],
      "metadata": {
        "id": "wlYYO4c1Bo0R"
      },
      "execution_count": null,
      "outputs": []
    },
    {
      "cell_type": "code",
      "source": [
        "# Уникальные значения колонки\n",
        "unique_values = []\n",
        "for column in df1.columns:\n",
        "    if 'ВредныеФакторы' in column:\n",
        "        unique_values.extend(df1[column].unique())\n",
        "unique_values = list(set(unique_values))\n",
        "unique_values"
      ],
      "metadata": {
        "id": "kF7JFZCuFvuy"
      },
      "execution_count": null,
      "outputs": []
    },
    {
      "cell_type": "markdown",
      "source": [
        "Результаты обследования"
      ],
      "metadata": {
        "id": "Lw1XMV7IJkOq"
      }
    },
    {
      "cell_type": "code",
      "source": [
        "# Уникальные значения колонки\n",
        "unique_values = []\n",
        "for column in df1.columns:\n",
        "    if 'ПсихОсвидетельствование' in column:\n",
        "        unique_values.extend(df1[column].unique())\n",
        "unique_values = list(set(unique_values))\n",
        "unique_values"
      ],
      "metadata": {
        "colab": {
          "base_uri": "https://localhost:8080/"
        },
        "outputId": "1f75d586-08fa-4ab5-f57d-f18f9ace5ef6",
        "id": "FnS1XNpUE0SV"
      },
      "execution_count": null,
      "outputs": [
        {
          "output_type": "execute_result",
          "data": {
            "text/plain": [
              "[False, True]"
            ]
          },
          "metadata": {},
          "execution_count": 37
        }
      ]
    },
    {
      "cell_type": "code",
      "source": [
        "# Уникальные значения колонки\n",
        "unique_values = []\n",
        "for column in df1.columns:\n",
        "    if 'ЗаключениеМК' in column:\n",
        "        unique_values.extend(df1[column].unique())\n",
        "unique_values = list(set(unique_values))\n",
        "print(unique_values)"
      ],
      "metadata": {
        "colab": {
          "base_uri": "https://localhost:8080/"
        },
        "id": "syAnM9zZBJhT",
        "outputId": "c2acdc2c-f9a3-4c73-f9a5-4f68897976c6"
      },
      "execution_count": null,
      "outputs": [
        {
          "output_type": "stream",
          "name": "stdout",
          "text": [
            "['ОграниченноГоден', 'тракторист', 'Годен к работе в указанных условиях', 'Годен к работе в указанных условиях (с коррекцией зрения)', ' п. 11.4', 'Годен к работе в указанных условиях (без работ на высотах)', 'ГоденСКоррекциейСлуха', 'Газоспасатель', 'Нет данных', 'ГоденСКоррекциейЗрения', 'Годен к работе в указанных условиях (с коррекцией слуха)', 'Ограниченно годен', ' п. 11.3', 'Годен', 'Нуждается в дообследовании и лечении', 'НуждаетсяВДообследованииИЛечении', 'машинист бульдозера', 'Не годен', 'Негоден', 'ГоденБезРаботНаВысотах', ' Газоспасатель']\n"
          ]
        }
      ]
    },
    {
      "cell_type": "code",
      "source": [
        "# Уникальные значения колонки\n",
        "unique_values = []\n",
        "for column in df1.columns:\n",
        "    if 'ЗаключениеМКПредставление' in column:\n",
        "        unique_values.extend(df1[column].unique())\n",
        "unique_values = list(set(unique_values))\n",
        "print(unique_values)"
      ],
      "metadata": {
        "colab": {
          "base_uri": "https://localhost:8080/"
        },
        "id": "m36WZRb-BIcQ",
        "outputId": "cfa4db4d-1996-40e8-bcbd-8f36cb8fc67e"
      },
      "execution_count": null,
      "outputs": [
        {
          "output_type": "stream",
          "name": "stdout",
          "text": [
            "['Годен', 'Не годен', 'Нет данных', 'тракторист', 'Годен к работе в указанных условиях', 'ГоденСКоррекциейЗрения', 'Годен к работе в указанных условиях (с коррекцией зрения)', 'Годен к работе в указанных условиях (с коррекцией слуха)', 'Нуждается в дообследовании и лечении', ' п. 11.4', 'Ограниченно годен', 'Годен к работе в указанных условиях (без работ на высотах)']\n"
          ]
        }
      ]
    },
    {
      "cell_type": "code",
      "source": [
        "# Уникальные значения колонки\n",
        "unique_values = []\n",
        "for column in df1.columns:\n",
        "    if \"Представление\" in column:\n",
        "        unique_values.extend(df1[column].unique())\n",
        "unique_values = list(set(unique_values))\n",
        "unique_values"
      ],
      "metadata": {
        "id": "6_0u-SUVAS_t",
        "colab": {
          "base_uri": "https://localhost:8080/"
        },
        "outputId": "4695ddc1-f89c-4991-9189-6e5fc836d5ff"
      },
      "execution_count": null,
      "outputs": [
        {
          "output_type": "execute_result",
          "data": {
            "text/plain": [
              "['Годен',\n",
              " 'Не годен',\n",
              " 'Нет данных',\n",
              " 'тракторист',\n",
              " 'Годен к работе в указанных условиях',\n",
              " 'ГоденСКоррекциейЗрения',\n",
              " 'Годен к работе в указанных условиях (с коррекцией зрения)',\n",
              " 'Годен к работе в указанных условиях (с коррекцией слуха)',\n",
              " 'Нуждается в дообследовании и лечении',\n",
              " ' п. 11.4',\n",
              " 'Ограниченно годен',\n",
              " 'Годен к работе в указанных условиях (без работ на высотах)']"
            ]
          },
          "metadata": {},
          "execution_count": 41
        }
      ]
    },
    {
      "cell_type": "code",
      "source": [
        "# Уникальные значения колонки\n",
        "unique_values = []\n",
        "for column in df1.columns:\n",
        "    if \"МКБ101\" in column:\n",
        "        unique_values.extend(df1[column].unique())\n",
        "unique_values = list(set(unique_values))\n",
        "print(unique_values)"
      ],
      "metadata": {
        "colab": {
          "base_uri": "https://localhost:8080/"
        },
        "id": "OUj2y63YKWvs",
        "outputId": "d380bcba-c67f-478b-91d2-83d1f7fcb172"
      },
      "execution_count": null,
      "outputs": [
        {
          "output_type": "stream",
          "name": "stdout",
          "text": [
            "['D13.0', 'N88.4', 'F06.6', 'L30.9', 'D22.1', 'H11.1', 'Z00.4', 'L40.9', 'E66.0', 'T90.0', 'K29.4', 'D13.4', 'K40.9', 'H18.9', 'H91.9', 'I25.9', 'K20', 'I45.6', 'F10.3', 'O00.0', 'H55', 'N73.9', 'I49.9', 'B35.2', 'E10.8', 'K31.7', 'Z76.9', 'H80.1', 'K76.9', 'H17.9', 'H10.5', 'H65.3', 'S54.0', 'J00', 'N11.9', 'Q44.6', 'N76.1', 'N72', 'H28.2', 'N81.9', 'I47.9', 'D25.9', 'K29.9', 'I69.3', 'G96.9', 'H53.5', 'H10.1', 'K29.7', 'K81.8', 'I48', 'J38.2', 'J38.0', 'Н27', 'K80.1', 'H35.3', 'M05.9', 'H49.9', 'N28.1', 'K82.9', 'E04.1', 'I20.9', 'I67.8', 'Z00.5', 'I48.9', 'B37.8', 'N87.9', 'N85', 'K82.8', 'J35.8', 'K86.0', 'N95.2', 'F10.7', 'D25', 'F06.7', 'I48.0', 'K40.2', 'H16.9', 'H11.9', 'H74.1', 'K00.0', 'K29.3', 'N85.9', 'N60.2', 'T92.4', 'H74.8', 'H40.0', 'M51.1', 'N30.2', 'J45.0', 'T95.8', 'R00.1', 'M17.9', 'H72.9', 'L80.XX', 'Q25.6', 'E03.9', 'I49.8', 'N95.1', 'I12.9', 'F92.9', 'R25.1', 'J31.0', 'H17.8', 'T90.9', 'S02.01', 'H51.9', 'K02.0', 'J34.2', 'J30.2', 'H47.2', 'J37.0', 'F41.0', 'K64.3', 'H30', 'M13.9', 'H50.8', 'F60.3', 'L74.0', 'S06.00', 'J33', 'H83.8', 'G35', 'D33.4', 'K80.2', 'I69.4', 'F06.9', 'E78.1', 'L73.0', 'J37.1', 'J45.9', 'K43.9', 'H40.5', 'D68.8', 'H90.1', 'I48.2', 'I77.9', 'J32.0', 'K42.9', 'F70.0', 'G40.1', 'E11', 'H31.0', 'K91.5', 'J44.9', 'H25.0', 'I25.8', 'N70.9', 'T92.2', 'L23.5', 'H90.5', 'T92.0', 'F10.2', 'L30.0', 'I49', 'G40.3', 'G25.9', 'K25.9', 'E14.8', 'I45.0', 'T90.2', 'F06.3', 'J42', 'J30.4', 'D86.0', 'K86.9', 'K04.5', 'F71.0', 'I70', 'H93.8', 'Q80.0', 'Q13.0', 'Q10.0', 'Годен к работе в указанных условиях', 'H26.2', 'Z32.1', 'M15.9', 'H35.0', 'A53.9', 'T94', 'H53.0', 'H04.6', 'G58.9', 'H02.2', 'H91.1', 'I34.1', 'H50.9', 'H54.4', 'H52.0', 'G63.2', 'T92.9', 'K81.1', 'K25.7', 'I20.8', 'K29.6', 'D50.9', 'H02.7', 'H26.1', 'N92.6', 'K26.3', 'Z00.0', 'N80.0', 'E10.9', 'T90.4', 'I66.9', 'S51.9', 'E22.1', 'H52.5', 'K02.1', 'E66.9', 'H25', 'G40.2', 'K29.8', 'F98.5', 'F70', 'G80.1', 'H35.1', 'S68.2', 'L80', 'K80.5', 'E14', 'O34.0', 'G99.0', 'K64.1', 'T93.6', 'C71.0', 'F10.1', 'I72.1', 'F60.4', 'G40.9', 'H34.9', 'H53.9', 'S94.8', 'J31', 'J47', 'T90.5', 'J84.8', 'C50.9', 'H52.4', 'H90.8', 'Q12.0', 'D33.2', 'F20.0', 'I11.0', 'N11.8', 'F60.9', 'N20.9', 'Нет данных', 'T94.0', 'K81.9', 'G90.8', 'N91.2', 'I25', 'H43.2', 'I48.1', 'I10', 'Z00.8', 'E11.8', 'N95.9', 'K43.6', 'I83.9', 'L23.8', 'M42.1', 'H25.1', 'H11.0', 'H40.9', 'H80.9', 'L20.8', 'K26.5', 'B35.8', 'L95.9', 'F60.8', 'K08.2', 'E66', 'L94.8', 'K26.9', 'G70.0', 'I25.2', 'D17.1', 'K26.7', 'H50.1', 'K03.66', 'E10', 'G80.8', 'Q25.1', 'H66.9', 'L20.9', 'E11.9', 'J30.1', 'H52.1', 'I11.9', 'H02.0', 'H60.8', 'S05.8', 'N81.4', 'I69.1', 'M54.1', 'N95.3', 'K25.3', 'H50.0', 'C50.4', 'H61.1', 'K05.3', 'H26.9', 'M45.9', 'H27.9', 'L86', 'D31.9', 'H66.2', 'H27.0', 'K83.8', 'N94.8', 'L40.0', 'K44.9', 'H40.1', 'L71.9', 'H17.1', 'K02', 'G12.1', 'N83.2', 'I67.2', 'H20.9', 'N86', 'H40.8', 'I67.9', 'H01.9', 'H93.0', 'D18.0', 'N63', 'H33.0', 'T93.4', 'D23.1', 'D33.0', 'N90.9', 'K21.9', 'G90.9', 'R73.9', 'B35.6', 'N88.0', 'H00.1', 'J33.1', 'I70.8', 'H35.9', 'F99', 'T95.0', 'N90.4', 'H66.3', 'I67.4', 'H54.1', 'I35.1', 'K86.1', 'N81.2', 'F06.8', 'H90.3', 'J33.0', 'C53.9', 'D24', 'G25.1', 'B36.0', 'H18.6', 'G98', 'D25.0', 'E06.3', 'K76.0', 'H61.8', 'G25.0', 'H02.4', 'F07.0', 'N84.1', 'К22.7', 'N60.1', 'H90.4', 'D37.1', 'H01.0', 'H73.9', 'E14.9', 'E07.9', 'H90.6', 'J40', 'H66.1', 'H52.2', 'J45', 'D31.5', 'J35.0', 'J30.3', 'I42.9', 'N89.4', 'L87.0', 'H33.5', 'N30.9', 'K29.5', 'M06.9']\n"
          ]
        }
      ]
    },
    {
      "cell_type": "code",
      "source": [
        "# Уникальные значения колонки\n",
        "unique_values = []\n",
        "for column in df1.columns:\n",
        "    if \"МКБ102\" in column:\n",
        "        unique_values.extend(df1[column].unique())\n",
        "unique_values = list(set(unique_values))\n",
        "print(unique_values)"
      ],
      "metadata": {
        "colab": {
          "base_uri": "https://localhost:8080/"
        },
        "id": "UVvogxTdKWo6",
        "outputId": "d89c2b50-27c2-4bdf-9dbf-504fc53f0cef"
      },
      "execution_count": null,
      "outputs": [
        {
          "output_type": "stream",
          "name": "stdout",
          "text": [
            "['C50.1', 'K80.5', 'N83.2', 'H26.9', 'K29.7', 'L23.5', 'K29.6', 'H55', 'H52.2', 'H54.4', 'Q21.1', 'I70.0', 'T90.4', 'F06.8', 'H66.1', 'D35.2', 'D25.0', 'I45.8', 'K82.9', 'H02.4', 'K81.1', 'H90.3', 'E80.4', 'K91.5', 'D25', 'E11.9', 'I49.8', 'H25.0', 'K02.0', 'I05.9', 'J45.8', 'G93.4', 'N30.9', 'G90.8', 'K05.4', 'I77.9', 'K02.1', 'H90.4', 'H25', 'C81.9', 'E11', 'Нет данных', 'H47.2', 'Q13.0', '4.4,5.1,6.1', 'T94.0', 'K29.5', 'I83.9', 'H26.1', 'K29.9', 'M86.6', 'N80.0', 'H52.4', 'C53.9', 'H91.1', 'K76.6', 'I25.8', 'K05.3', 'E11.8', 'J45.9', 'I49.9', 'K86.1', 'H53.0', 'I67.9', 'I34.9', 'J45.0', 'D25.9', 'K80.2', 'F06.6', 'J44.9', 'D16.0', 'F10.3', 'I11.9', 'K25.7', 'C50.4', 'N84.1', 'H74.1', 'Q12.0', 'J42', 'H52.1', 'K29.3', 'M17.9', 'K50.9', 'I72.1', 'F10.2', 'N20.9', 'K44.9', 'N60.0', 'R73.9', 'N11.9', 'H50.0', 'H50.1', 'K04.5', 'I25.0', 'H52.3', 'N30.2', 'L28.0', 'D50.9', 'M42.1', 'K00.0', 'E66.0', 'H17.1', 'C03.0', 'I25.2', 'N28.1', 'H53.9', 'H50.9', 'J33.0', 'I25.9', 'H40.1', 'H34.8', 'K26.7', 'K40.9', 'K29.4', 'D86.0', 'H52.0', 'Z95.2', 'G25.0', 'K29.8', 'H17.8', 'H27.0', 'L40.0', 'I67.8', 'N30.8', 'N60.2', 'H53.5', 'H40.0', 'C50.9', 'G40.4', 'I44.4', 'N60.1', 'I11.0', 'Z00.0']\n"
          ]
        }
      ]
    },
    {
      "cell_type": "code",
      "source": [
        "# Уникальные значения колонки\n",
        "unique_values = []\n",
        "for column in df1.columns:\n",
        "    if \"МКБ103\" in column:\n",
        "        unique_values.extend(df1[column].unique())\n",
        "unique_values = list(set(unique_values))\n",
        "print(unique_values)"
      ],
      "metadata": {
        "colab": {
          "base_uri": "https://localhost:8080/"
        },
        "id": "QFEN2PH3KWiq",
        "outputId": "7bcb56fe-64ef-4db6-c7b3-40e9d2c81dcf"
      },
      "execution_count": null,
      "outputs": [
        {
          "output_type": "stream",
          "name": "stdout",
          "text": [
            "['I25.8', 'K29.8', 'K76.0', 'K29.6', 'K29.3', 'M05.9', 'M15.9', 'K05.3', 'I06.8', 'N60.2', 'N83.2', 'I25.2', 'Нет данных', 'K80.2', 'K50.9', 'K26.7', 'I67.8', 'H53.0', 'N30.2', 'H66.1', 'K86.1', 'Z00.0', 'H90.3', 'H52.2', 'H52.1', 'D25', 'K81.8', 'H55', 'I11.9', 'H52.0', 'J45.8', 'N30.9', 'K29.5', 'R73.9']\n"
          ]
        }
      ]
    },
    {
      "cell_type": "code",
      "source": [
        "# Уникальные значения колонки\n",
        "unique_values = []\n",
        "for column in df1.columns:\n",
        "    if \"МКБ104\" in column:\n",
        "        unique_values.extend(df1[column].unique())\n",
        "unique_values = list(set(unique_values))\n",
        "print(unique_values)"
      ],
      "metadata": {
        "colab": {
          "base_uri": "https://localhost:8080/"
        },
        "id": "hcMtAPVkD2d2",
        "outputId": "80df6e14-8e1c-4638-a05c-f8a0e39544e6"
      },
      "execution_count": null,
      "outputs": [
        {
          "output_type": "stream",
          "name": "stdout",
          "text": [
            "['I25.8', 'K29.6', 'I70.0', 'I06.8', 'N60.2', 'I25.2', 'Нет данных', 'K80.2', 'H53.0', 'K86.1', 'Z00.0', 'H90.3', 'H52.2', 'L20.9', 'I25.9', 'H52.1', 'I11.9', 'H52.0', 'K29.5', 'R73.9']\n"
          ]
        }
      ]
    },
    {
      "cell_type": "code",
      "source": [
        "# Уникальные значения колонки\n",
        "unique_values = []\n",
        "for column in df1.columns:\n",
        "    if \"ПрофнепригодностьВременнаяПредставление\" in column:\n",
        "        unique_values.extend(df1[column].unique())\n",
        "unique_values = list(set(unique_values))\n",
        "print(unique_values)"
      ],
      "metadata": {
        "colab": {
          "base_uri": "https://localhost:8080/"
        },
        "id": "ix0To04SD1_t",
        "outputId": "acfa6842-ac5b-4fcf-a40c-d310eb1829e5"
      },
      "execution_count": null,
      "outputs": [
        {
          "output_type": "stream",
          "name": "stdout",
          "text": [
            "[]\n"
          ]
        }
      ]
    },
    {
      "cell_type": "code",
      "source": [
        "# Уникальные значения колонки\n",
        "unique_values = []\n",
        "for column in df1.columns:\n",
        "    if \"ПрофнепригодностьВременнаяПредставление1\" in column:\n",
        "        unique_values.extend(df1[column].unique())\n",
        "unique_values = list(set(unique_values))\n",
        "print(unique_values)"
      ],
      "metadata": {
        "colab": {
          "base_uri": "https://localhost:8080/"
        },
        "id": "3PAwhqPADxU2",
        "outputId": "7df4fce9-a159-4218-ca19-f7deafab3595"
      },
      "execution_count": null,
      "outputs": [
        {
          "output_type": "stream",
          "name": "stdout",
          "text": [
            "[]\n"
          ]
        }
      ]
    },
    {
      "cell_type": "code",
      "source": [
        "# Уникальные значения колонки\n",
        "unique_values = []\n",
        "for column in df1.columns:\n",
        "    if \"ПрофнепригодностьВременная1\" in column:\n",
        "        unique_values.extend(df1[column].unique())\n",
        "unique_values = list(set(unique_values))\n",
        "print(unique_values)\n",
        "\n"
      ],
      "metadata": {
        "colab": {
          "base_uri": "https://localhost:8080/"
        },
        "id": "vhkq_uaU6OfV",
        "outputId": "2f6306d5-8c99-41ae-f017-26cf286ec887"
      },
      "execution_count": null,
      "outputs": [
        {
          "output_type": "stream",
          "name": "stdout",
          "text": [
            "[]\n"
          ]
        }
      ]
    },
    {
      "cell_type": "code",
      "source": [
        "# Уникальные значения колонки\n",
        "unique_values = []\n",
        "for column in df1.columns:\n",
        "    if \"ЖалобыДополнение\" in column:\n",
        "        unique_values.extend(df1[column].unique())\n",
        "unique_values = list(set(unique_values))\n",
        "unique_values"
      ],
      "metadata": {
        "id": "-WBZWh5TSI3s",
        "colab": {
          "base_uri": "https://localhost:8080/"
        },
        "outputId": "dba3a6a0-e4cc-463f-d587-5557f092d0ee"
      },
      "execution_count": null,
      "outputs": [
        {
          "output_type": "execute_result",
          "data": {
            "text/plain": [
              "[]"
            ]
          },
          "metadata": {},
          "execution_count": 51
        }
      ]
    },
    {
      "cell_type": "code",
      "source": [
        "# Уникальные значения колонки\n",
        "unique_values = []\n",
        "for column in df1.columns:\n",
        "    if 'Заключение' in column:\n",
        "        unique_values.extend(df1[column].unique())\n",
        "unique_values = list(set(unique_values))\n",
        "unique_values"
      ],
      "metadata": {
        "id": "vbss4wbPteoz"
      },
      "execution_count": null,
      "outputs": []
    },
    {
      "cell_type": "markdown",
      "source": [
        "# Корректировка колонки'Профессия'\n",
        "\n",
        "План:\n",
        "\n",
        "Сделать выборку в колонке 'Профессия' по основному показателю профессии.\n",
        "\n",
        "Привести список профессий в колонке 'Профессия' к форме применимой для классификации и группировке по типу  МСКЗ-08\n",
        "\n",
        "Разделение на группировки (Военных не берём в расчёт ) на 9 классов позволит нейронной сети более точно определить соответствующую кореляцию каждой группе и далее кластеризовать требования по наличию потологий для определённой профессии.\n",
        "\n",
        "Так же можно создать списки категорий профессий по должностям с разделением на степени факторов риска.\n",
        "\n",
        "Степени факторов риска: Оптимальный,  Допустимый,  Вредный,  Опасный.\n",
        "\n",
        "Присвоить категории профессии индекс факторов риска, создать новую колонку 'класс безопасности' и заполнить соответствующими значениями индексов.\n",
        "\n",
        "Создать матрицу корреляции 'Профессия' - 'класс безопасности' - 'ВредныеФакторы'.   Анализ.\n",
        "\n",
        "Создать матрицу корреляции 'Профессия' - 'класс безопасности' - 'ВредныеФакторы' --- 'Возраст' - 'Пол' - 'Представление' - 'Заключение'.\n",
        "  Анализ.\n",
        "\n",
        "Эти мероприятия позволят более точно привязать конкретную профессию и её вредные факторы к персоне со своими факторами - возраст, пол, и наличие патологий и других негативных моментов здоровья.\n",
        "\n",
        "Всё это позволит определить: подходит ли человек однозначно для выполнения обязанностей или есть необходимость для тщательного выяснения где причина несоответствия и насколько это недопустимо.\n",
        "\n",
        "В этом и будет заключатся РЕКОМЕНДАЦИЯ.\n",
        "\n"
      ],
      "metadata": {
        "id": "2hZ_oBptqmtF"
      }
    },
    {
      "cell_type": "markdown",
      "source": [
        "## Работа над колонкой\n",
        "Для структурирования данных о профессии и в дальнейшем для классификации и группировке по типу МСКЗ-08 была сделанна выборка всех профессий присутствующих в датасете. Из 32686 записей о профессии клиентов выбранно 624 названия профессии. Для структурирования по намеченному плану необходимо произвести работу по зачистке и исправлению написаний названия, тех же профессий но с иным написанием  названия.Присвоение индекса группы по МСКЗ-08.\n",
        "\n",
        "Пока работа приостановленна. Нет ресурса времени.  "
      ],
      "metadata": {
        "id": "XHx20J3o2kMj"
      }
    },
    {
      "cell_type": "code",
      "source": [
        "df1 = pd.read_csv('/content/drive/MyDrive/БазыCSV/InClinic/df1.csv')"
      ],
      "metadata": {
        "id": "Gofl1xy_shMt"
      },
      "execution_count": null,
      "outputs": []
    },
    {
      "cell_type": "code",
      "source": [
        "df_p = pd.read_excel('/content/drive/MyDrive/БазыCSV/InClinic/Проф1.xlsx')"
      ],
      "metadata": {
        "id": "i-dcedME1OQu"
      },
      "execution_count": null,
      "outputs": []
    },
    {
      "cell_type": "code",
      "source": [
        "df_p.head(3)"
      ],
      "metadata": {
        "id": "3jN5j9cBh7S7"
      },
      "execution_count": null,
      "outputs": []
    },
    {
      "cell_type": "code",
      "source": [
        "# Создание копии таблицы\n",
        "df2 =df1.copy()"
      ],
      "metadata": {
        "id": "xaUcrMg-jcy3"
      },
      "execution_count": null,
      "outputs": []
    },
    {
      "cell_type": "code",
      "source": [
        "df2[\"Профессия\"] = df2[\"Профессия\"].str.lower()  # приведение значений к нижнему регистру\n",
        "df2 = df2.sort_values(\"Профессия\")  # сортировка по алфавиту\n",
        "\n",
        "df2.head(3)  # вывод первых 5 строк таблицы\n"
      ],
      "metadata": {
        "colab": {
          "base_uri": "https://localhost:8080/",
          "height": 358
        },
        "id": "CYfStN6G9Luy",
        "outputId": "525f1be5-32d9-40e9-f7da-b98fd299376f"
      },
      "execution_count": null,
      "outputs": [
        {
          "output_type": "execute_result",
          "data": {
            "text/plain": [
              "      КлиентДатаРождения КлиентПол                Профессия  \\\n",
              "16396               1968   Мужской   вальщик леса 6 разряда   \n",
              "20243               1980   Мужской       водитель - механик   \n",
              "19495               1980   Мужской       водитель - механик   \n",
              "\n",
              "             ВредныеФакторы  ПсихОсвидетельствование ЗаключениеМК  \\\n",
              "16396  4.4,5.1,10,11.1,11.4                    False        Годен   \n",
              "20243   2023-01-18 00:00:00                    False        Годен   \n",
              "19495   2023-01-18 00:00:00                    False   Нет данных   \n",
              "\n",
              "                 ЗаключениеМКПредставление  \\\n",
              "16396  Годен к работе в указанных условиях   \n",
              "20243  Годен к работе в указанных условиях   \n",
              "19495                           Нет данных   \n",
              "\n",
              "                                Заключение Гинекология1_МКБ101  \\\n",
              "16396  Годен к работе в указанных условиях          Нет данных   \n",
              "20243  Годен к работе в указанных условиях          Нет данных   \n",
              "19495                           Нет данных          Нет данных   \n",
              "\n",
              "      Гинекология1_МКБ102  ... ХирургНеИсп2_МКБ103 ХирургНеИсп3_МКБ101  \\\n",
              "16396          Нет данных  ...          Нет данных          Нет данных   \n",
              "20243          Нет данных  ...          Нет данных          Нет данных   \n",
              "19495          Нет данных  ...          Нет данных          Нет данных   \n",
              "\n",
              "      ХирургНеИсп3_МКБ102 ХирургНеИсп3_МКБ103 ЭКГНеИсп1_МКБ101  \\\n",
              "16396          Нет данных          Нет данных       Нет данных   \n",
              "20243          Нет данных          Нет данных       Нет данных   \n",
              "19495          Нет данных          Нет данных       Нет данных   \n",
              "\n",
              "      ЭКГНеИсп1_МКБ102 ЭКГНеИсп2_МКБ101 ЭКГНеИсп2_МКБ102 Эндоскопия1_МКБ101  \\\n",
              "16396       Нет данных       Нет данных       Нет данных         Нет данных   \n",
              "20243       Нет данных       Нет данных       Нет данных         Нет данных   \n",
              "19495       Нет данных       Нет данных       Нет данных         Нет данных   \n",
              "\n",
              "      Эндоскопия1_МКБ102  \n",
              "16396         Нет данных  \n",
              "20243         Нет данных  \n",
              "19495         Нет данных  \n",
              "\n",
              "[3 rows x 194 columns]"
            ],
            "text/html": [
              "\n",
              "\n",
              "  <div id=\"df-9c894a69-c23f-4824-935a-1686938878b9\">\n",
              "    <div class=\"colab-df-container\">\n",
              "      <div>\n",
              "<style scoped>\n",
              "    .dataframe tbody tr th:only-of-type {\n",
              "        vertical-align: middle;\n",
              "    }\n",
              "\n",
              "    .dataframe tbody tr th {\n",
              "        vertical-align: top;\n",
              "    }\n",
              "\n",
              "    .dataframe thead th {\n",
              "        text-align: right;\n",
              "    }\n",
              "</style>\n",
              "<table border=\"1\" class=\"dataframe\">\n",
              "  <thead>\n",
              "    <tr style=\"text-align: right;\">\n",
              "      <th></th>\n",
              "      <th>КлиентДатаРождения</th>\n",
              "      <th>КлиентПол</th>\n",
              "      <th>Профессия</th>\n",
              "      <th>ВредныеФакторы</th>\n",
              "      <th>ПсихОсвидетельствование</th>\n",
              "      <th>ЗаключениеМК</th>\n",
              "      <th>ЗаключениеМКПредставление</th>\n",
              "      <th>Заключение</th>\n",
              "      <th>Гинекология1_МКБ101</th>\n",
              "      <th>Гинекология1_МКБ102</th>\n",
              "      <th>...</th>\n",
              "      <th>ХирургНеИсп2_МКБ103</th>\n",
              "      <th>ХирургНеИсп3_МКБ101</th>\n",
              "      <th>ХирургНеИсп3_МКБ102</th>\n",
              "      <th>ХирургНеИсп3_МКБ103</th>\n",
              "      <th>ЭКГНеИсп1_МКБ101</th>\n",
              "      <th>ЭКГНеИсп1_МКБ102</th>\n",
              "      <th>ЭКГНеИсп2_МКБ101</th>\n",
              "      <th>ЭКГНеИсп2_МКБ102</th>\n",
              "      <th>Эндоскопия1_МКБ101</th>\n",
              "      <th>Эндоскопия1_МКБ102</th>\n",
              "    </tr>\n",
              "  </thead>\n",
              "  <tbody>\n",
              "    <tr>\n",
              "      <th>16396</th>\n",
              "      <td>1968</td>\n",
              "      <td>Мужской</td>\n",
              "      <td>вальщик леса 6 разряда</td>\n",
              "      <td>4.4,5.1,10,11.1,11.4</td>\n",
              "      <td>False</td>\n",
              "      <td>Годен</td>\n",
              "      <td>Годен к работе в указанных условиях</td>\n",
              "      <td>Годен к работе в указанных условиях</td>\n",
              "      <td>Нет данных</td>\n",
              "      <td>Нет данных</td>\n",
              "      <td>...</td>\n",
              "      <td>Нет данных</td>\n",
              "      <td>Нет данных</td>\n",
              "      <td>Нет данных</td>\n",
              "      <td>Нет данных</td>\n",
              "      <td>Нет данных</td>\n",
              "      <td>Нет данных</td>\n",
              "      <td>Нет данных</td>\n",
              "      <td>Нет данных</td>\n",
              "      <td>Нет данных</td>\n",
              "      <td>Нет данных</td>\n",
              "    </tr>\n",
              "    <tr>\n",
              "      <th>20243</th>\n",
              "      <td>1980</td>\n",
              "      <td>Мужской</td>\n",
              "      <td>водитель - механик</td>\n",
              "      <td>2023-01-18 00:00:00</td>\n",
              "      <td>False</td>\n",
              "      <td>Годен</td>\n",
              "      <td>Годен к работе в указанных условиях</td>\n",
              "      <td>Годен к работе в указанных условиях</td>\n",
              "      <td>Нет данных</td>\n",
              "      <td>Нет данных</td>\n",
              "      <td>...</td>\n",
              "      <td>Нет данных</td>\n",
              "      <td>Нет данных</td>\n",
              "      <td>Нет данных</td>\n",
              "      <td>Нет данных</td>\n",
              "      <td>Нет данных</td>\n",
              "      <td>Нет данных</td>\n",
              "      <td>Нет данных</td>\n",
              "      <td>Нет данных</td>\n",
              "      <td>Нет данных</td>\n",
              "      <td>Нет данных</td>\n",
              "    </tr>\n",
              "    <tr>\n",
              "      <th>19495</th>\n",
              "      <td>1980</td>\n",
              "      <td>Мужской</td>\n",
              "      <td>водитель - механик</td>\n",
              "      <td>2023-01-18 00:00:00</td>\n",
              "      <td>False</td>\n",
              "      <td>Нет данных</td>\n",
              "      <td>Нет данных</td>\n",
              "      <td>Нет данных</td>\n",
              "      <td>Нет данных</td>\n",
              "      <td>Нет данных</td>\n",
              "      <td>...</td>\n",
              "      <td>Нет данных</td>\n",
              "      <td>Нет данных</td>\n",
              "      <td>Нет данных</td>\n",
              "      <td>Нет данных</td>\n",
              "      <td>Нет данных</td>\n",
              "      <td>Нет данных</td>\n",
              "      <td>Нет данных</td>\n",
              "      <td>Нет данных</td>\n",
              "      <td>Нет данных</td>\n",
              "      <td>Нет данных</td>\n",
              "    </tr>\n",
              "  </tbody>\n",
              "</table>\n",
              "<p>3 rows × 194 columns</p>\n",
              "</div>\n",
              "      <button class=\"colab-df-convert\" onclick=\"convertToInteractive('df-9c894a69-c23f-4824-935a-1686938878b9')\"\n",
              "              title=\"Convert this dataframe to an interactive table.\"\n",
              "              style=\"display:none;\">\n",
              "\n",
              "  <svg xmlns=\"http://www.w3.org/2000/svg\" height=\"24px\"viewBox=\"0 0 24 24\"\n",
              "       width=\"24px\">\n",
              "    <path d=\"M0 0h24v24H0V0z\" fill=\"none\"/>\n",
              "    <path d=\"M18.56 5.44l.94 2.06.94-2.06 2.06-.94-2.06-.94-.94-2.06-.94 2.06-2.06.94zm-11 1L8.5 8.5l.94-2.06 2.06-.94-2.06-.94L8.5 2.5l-.94 2.06-2.06.94zm10 10l.94 2.06.94-2.06 2.06-.94-2.06-.94-.94-2.06-.94 2.06-2.06.94z\"/><path d=\"M17.41 7.96l-1.37-1.37c-.4-.4-.92-.59-1.43-.59-.52 0-1.04.2-1.43.59L10.3 9.45l-7.72 7.72c-.78.78-.78 2.05 0 2.83L4 21.41c.39.39.9.59 1.41.59.51 0 1.02-.2 1.41-.59l7.78-7.78 2.81-2.81c.8-.78.8-2.07 0-2.86zM5.41 20L4 18.59l7.72-7.72 1.47 1.35L5.41 20z\"/>\n",
              "  </svg>\n",
              "      </button>\n",
              "\n",
              "\n",
              "\n",
              "    <div id=\"df-8c5d6ace-0ee8-435d-98a8-c0eeddd1091e\">\n",
              "      <button class=\"colab-df-quickchart\" onclick=\"quickchart('df-8c5d6ace-0ee8-435d-98a8-c0eeddd1091e')\"\n",
              "              title=\"Suggest charts.\"\n",
              "              style=\"display:none;\">\n",
              "\n",
              "<svg xmlns=\"http://www.w3.org/2000/svg\" height=\"24px\"viewBox=\"0 0 24 24\"\n",
              "     width=\"24px\">\n",
              "    <g>\n",
              "        <path d=\"M19 3H5c-1.1 0-2 .9-2 2v14c0 1.1.9 2 2 2h14c1.1 0 2-.9 2-2V5c0-1.1-.9-2-2-2zM9 17H7v-7h2v7zm4 0h-2V7h2v10zm4 0h-2v-4h2v4z\"/>\n",
              "    </g>\n",
              "</svg>\n",
              "      </button>\n",
              "    </div>\n",
              "\n",
              "<style>\n",
              "  .colab-df-quickchart {\n",
              "    background-color: #E8F0FE;\n",
              "    border: none;\n",
              "    border-radius: 50%;\n",
              "    cursor: pointer;\n",
              "    display: none;\n",
              "    fill: #1967D2;\n",
              "    height: 32px;\n",
              "    padding: 0 0 0 0;\n",
              "    width: 32px;\n",
              "  }\n",
              "\n",
              "  .colab-df-quickchart:hover {\n",
              "    background-color: #E2EBFA;\n",
              "    box-shadow: 0px 1px 2px rgba(60, 64, 67, 0.3), 0px 1px 3px 1px rgba(60, 64, 67, 0.15);\n",
              "    fill: #174EA6;\n",
              "  }\n",
              "\n",
              "  [theme=dark] .colab-df-quickchart {\n",
              "    background-color: #3B4455;\n",
              "    fill: #D2E3FC;\n",
              "  }\n",
              "\n",
              "  [theme=dark] .colab-df-quickchart:hover {\n",
              "    background-color: #434B5C;\n",
              "    box-shadow: 0px 1px 3px 1px rgba(0, 0, 0, 0.15);\n",
              "    filter: drop-shadow(0px 1px 2px rgba(0, 0, 0, 0.3));\n",
              "    fill: #FFFFFF;\n",
              "  }\n",
              "</style>\n",
              "\n",
              "    <script>\n",
              "      async function quickchart(key) {\n",
              "        const containerElement = document.querySelector('#' + key);\n",
              "        const charts = await google.colab.kernel.invokeFunction(\n",
              "            'suggestCharts', [key], {});\n",
              "      }\n",
              "    </script>\n",
              "\n",
              "      <script>\n",
              "\n",
              "function displayQuickchartButton(domScope) {\n",
              "  let quickchartButtonEl =\n",
              "    domScope.querySelector('#df-8c5d6ace-0ee8-435d-98a8-c0eeddd1091e button.colab-df-quickchart');\n",
              "  quickchartButtonEl.style.display =\n",
              "    google.colab.kernel.accessAllowed ? 'block' : 'none';\n",
              "}\n",
              "\n",
              "        displayQuickchartButton(document);\n",
              "      </script>\n",
              "      <style>\n",
              "    .colab-df-container {\n",
              "      display:flex;\n",
              "      flex-wrap:wrap;\n",
              "      gap: 12px;\n",
              "    }\n",
              "\n",
              "    .colab-df-convert {\n",
              "      background-color: #E8F0FE;\n",
              "      border: none;\n",
              "      border-radius: 50%;\n",
              "      cursor: pointer;\n",
              "      display: none;\n",
              "      fill: #1967D2;\n",
              "      height: 32px;\n",
              "      padding: 0 0 0 0;\n",
              "      width: 32px;\n",
              "    }\n",
              "\n",
              "    .colab-df-convert:hover {\n",
              "      background-color: #E2EBFA;\n",
              "      box-shadow: 0px 1px 2px rgba(60, 64, 67, 0.3), 0px 1px 3px 1px rgba(60, 64, 67, 0.15);\n",
              "      fill: #174EA6;\n",
              "    }\n",
              "\n",
              "    [theme=dark] .colab-df-convert {\n",
              "      background-color: #3B4455;\n",
              "      fill: #D2E3FC;\n",
              "    }\n",
              "\n",
              "    [theme=dark] .colab-df-convert:hover {\n",
              "      background-color: #434B5C;\n",
              "      box-shadow: 0px 1px 3px 1px rgba(0, 0, 0, 0.15);\n",
              "      filter: drop-shadow(0px 1px 2px rgba(0, 0, 0, 0.3));\n",
              "      fill: #FFFFFF;\n",
              "    }\n",
              "  </style>\n",
              "\n",
              "      <script>\n",
              "        const buttonEl =\n",
              "          document.querySelector('#df-9c894a69-c23f-4824-935a-1686938878b9 button.colab-df-convert');\n",
              "        buttonEl.style.display =\n",
              "          google.colab.kernel.accessAllowed ? 'block' : 'none';\n",
              "\n",
              "        async function convertToInteractive(key) {\n",
              "          const element = document.querySelector('#df-9c894a69-c23f-4824-935a-1686938878b9');\n",
              "          const dataTable =\n",
              "            await google.colab.kernel.invokeFunction('convertToInteractive',\n",
              "                                                     [key], {});\n",
              "          if (!dataTable) return;\n",
              "\n",
              "          const docLinkHtml = 'Like what you see? Visit the ' +\n",
              "            '<a target=\"_blank\" href=https://colab.research.google.com/notebooks/data_table.ipynb>data table notebook</a>'\n",
              "            + ' to learn more about interactive tables.';\n",
              "          element.innerHTML = '';\n",
              "          dataTable['output_type'] = 'display_data';\n",
              "          await google.colab.output.renderOutput(dataTable, element);\n",
              "          const docLink = document.createElement('div');\n",
              "          docLink.innerHTML = docLinkHtml;\n",
              "          element.appendChild(docLink);\n",
              "        }\n",
              "      </script>\n",
              "    </div>\n",
              "  </div>\n"
            ]
          },
          "metadata": {},
          "execution_count": 66
        }
      ]
    },
    {
      "cell_type": "code",
      "source": [
        "dfp = df2[['Профессия']]\n",
        "# Сохраним колонку 'Профессия' и поработаем в excel\n",
        "#df2.to_excel('/content/drive/MyDrive/БазыCSV/InClinic/df3.xlsx')"
      ],
      "metadata": {
        "id": "Nv9bKbjbcliG"
      },
      "execution_count": null,
      "outputs": []
    },
    {
      "cell_type": "code",
      "source": [
        "import re\n",
        "# приведение значений столбца \"Профессия\" к нижнему регистру\n",
        "dfp['Профессия'] = dfp['Профессия'].str.lower()\n",
        "dfp['вхождения'] = df_p['Проф'].apply(lambda x: ', '.join(re.findall(rf'\\b{x}\\b', ','.join(dfp['Профессия']))))\n"
      ],
      "metadata": {
        "colab": {
          "base_uri": "https://localhost:8080/"
        },
        "id": "V03bPPXLoszP",
        "outputId": "74f5b178-dab9-4dda-ae0b-94c66b321eca"
      },
      "execution_count": null,
      "outputs": [
        {
          "output_type": "stream",
          "name": "stderr",
          "text": [
            "<ipython-input-65-14427ec9bc80>:3: SettingWithCopyWarning: \n",
            "A value is trying to be set on a copy of a slice from a DataFrame.\n",
            "Try using .loc[row_indexer,col_indexer] = value instead\n",
            "\n",
            "See the caveats in the documentation: https://pandas.pydata.org/pandas-docs/stable/user_guide/indexing.html#returning-a-view-versus-a-copy\n",
            "  dfp['Профессия'] = dfp['Профессия'].str.lower()\n",
            "<ipython-input-65-14427ec9bc80>:4: SettingWithCopyWarning: \n",
            "A value is trying to be set on a copy of a slice from a DataFrame.\n",
            "Try using .loc[row_indexer,col_indexer] = value instead\n",
            "\n",
            "See the caveats in the documentation: https://pandas.pydata.org/pandas-docs/stable/user_guide/indexing.html#returning-a-view-versus-a-copy\n",
            "  dfp['вхождения'] = df_p['Проф'].apply(lambda x: ', '.join(re.findall(rf'\\b{x}\\b', ','.join(dfp['Профессия']))))\n"
          ]
        }
      ]
    },
    {
      "cell_type": "markdown",
      "source": [
        "РАБОТА С КОЛОНКОЙ \"Профессия\" НЕ ЗАКОНЧЕНА"
      ],
      "metadata": {
        "id": "j7wAkGVonJpn"
      }
    },
    {
      "cell_type": "markdown",
      "source": [
        "# Корректировка данных"
      ],
      "metadata": {
        "id": "a1zzcBAFqqMx"
      }
    },
    {
      "cell_type": "code",
      "execution_count": null,
      "metadata": {
        "id": "EQiLe5HkrmUU"
      },
      "outputs": [],
      "source": [
        "# Импорт библиотек и инструментов\n",
        "from google.colab import files              # Импортируем библиотеку files для работы с файлами\n",
        "import pandas as pd                         # Импортируем библиотеку обработки и анализа данных pandas\n",
        "import matplotlib.pyplot as plt             # Импортируем модуль pyplot библиотеки matplotlib для построения графиков\n",
        "import seaborn as sns                       # Импортируем модуль seaborn библиотеки matplotlib для построения графиков\n",
        "import gdown\n",
        "import numpy as np\n",
        "import re\n",
        "from tensorflow.keras import utils\n",
        "from tensorflow.keras.preprocessing.text import Tokenizer, text_to_word_sequence\n",
        "from sklearn.feature_extraction.text import CountVectorizer\n",
        "from sklearn.preprocessing import StandardScaler\n",
        "from sklearn.model_selection import train_test_split\n",
        "from IPython.display import clear_output\n",
        "from sklearn.feature_extraction.text import CountVectorizer\n",
        "from sklearn.preprocessing import LabelEncoder\n",
        "from keras.utils import to_categorical"
      ]
    },
    {
      "cell_type": "code",
      "execution_count": null,
      "metadata": {
        "colab": {
          "base_uri": "https://localhost:8080/"
        },
        "outputId": "33bcbd67-9f5b-408e-f024-9e0a3ff3fa27",
        "id": "2DPa6w94bUMM"
      },
      "outputs": [
        {
          "output_type": "stream",
          "name": "stdout",
          "text": [
            "Mounted at /content/drive\n"
          ]
        }
      ],
      "source": [
        "                                            # Для загрузки данных используем drive\n",
        "from google.colab import drive\n",
        "drive.mount('/content/drive')"
      ]
    },
    {
      "cell_type": "code",
      "source": [
        "df1 = pd.read_csv('/content/drive/MyDrive/БазыCSV/InClinic/df1.csv')"
      ],
      "metadata": {
        "id": "8Lh-ALV8HMvF"
      },
      "execution_count": null,
      "outputs": []
    },
    {
      "cell_type": "code",
      "source": [
        "# Создание копии таблицы\n",
        "df3 =df1.copy()"
      ],
      "metadata": {
        "id": "x35VZ9v9HoKE"
      },
      "execution_count": null,
      "outputs": []
    },
    {
      "cell_type": "code",
      "source": [
        "df3.head(3)"
      ],
      "metadata": {
        "colab": {
          "base_uri": "https://localhost:8080/",
          "height": 393
        },
        "id": "pd2IKvW3M4Cd",
        "outputId": "f03678b1-bc67-4504-9769-04ea0addebf3"
      },
      "execution_count": null,
      "outputs": [
        {
          "output_type": "execute_result",
          "data": {
            "text/plain": [
              "    КлиентДатаРождения КлиентПол                     Профессия  \\\n",
              "0  1989-12-31T00:00:00   Женский               Продавец-кассир   \n",
              "1  1998-07-20T00:00:00   Женский               Продавец-кассир   \n",
              "2  2002-01-04T00:00:00   Женский  Младший продавец-консультант   \n",
              "\n",
              "        ВредныеФакторы  ПсихОсвидетельствование ЗаключениеМК  \\\n",
              "0           Нет данных                    False        Годен   \n",
              "1  2023-10-04 00:00:00                    False        Годен   \n",
              "2                   23                    False        Годен   \n",
              "\n",
              "             ЗаключениеМКПредставление                           Заключение  \\\n",
              "0  Годен к работе в указанных условиях  Годен к работе в указанных условиях   \n",
              "1  Годен к работе в указанных условиях  Годен к работе в указанных условиях   \n",
              "2  Годен к работе в указанных условиях  Годен к работе в указанных условиях   \n",
              "\n",
              "  Гинекология1_МКБ101 Гинекология1_МКБ102  ... ХирургНеИсп2_МКБ103  \\\n",
              "0               Z00.0          Нет данных  ...          Нет данных   \n",
              "1               Z00.0          Нет данных  ...          Нет данных   \n",
              "2               Z00.0          Нет данных  ...          Нет данных   \n",
              "\n",
              "  ХирургНеИсп3_МКБ101 ХирургНеИсп3_МКБ102 ХирургНеИсп3_МКБ103  \\\n",
              "0          Нет данных          Нет данных          Нет данных   \n",
              "1          Нет данных          Нет данных          Нет данных   \n",
              "2          Нет данных          Нет данных          Нет данных   \n",
              "\n",
              "  ЭКГНеИсп1_МКБ101 ЭКГНеИсп1_МКБ102 ЭКГНеИсп2_МКБ101 ЭКГНеИсп2_МКБ102  \\\n",
              "0       Нет данных       Нет данных       Нет данных       Нет данных   \n",
              "1       Нет данных       Нет данных       Нет данных       Нет данных   \n",
              "2       Нет данных       Нет данных       Нет данных       Нет данных   \n",
              "\n",
              "  Эндоскопия1_МКБ101 Эндоскопия1_МКБ102  \n",
              "0         Нет данных         Нет данных  \n",
              "1         Нет данных         Нет данных  \n",
              "2         Нет данных         Нет данных  \n",
              "\n",
              "[3 rows x 194 columns]"
            ],
            "text/html": [
              "\n",
              "\n",
              "  <div id=\"df-b6b4665b-a10c-4a8a-9152-9a23fa064b11\">\n",
              "    <div class=\"colab-df-container\">\n",
              "      <div>\n",
              "<style scoped>\n",
              "    .dataframe tbody tr th:only-of-type {\n",
              "        vertical-align: middle;\n",
              "    }\n",
              "\n",
              "    .dataframe tbody tr th {\n",
              "        vertical-align: top;\n",
              "    }\n",
              "\n",
              "    .dataframe thead th {\n",
              "        text-align: right;\n",
              "    }\n",
              "</style>\n",
              "<table border=\"1\" class=\"dataframe\">\n",
              "  <thead>\n",
              "    <tr style=\"text-align: right;\">\n",
              "      <th></th>\n",
              "      <th>КлиентДатаРождения</th>\n",
              "      <th>КлиентПол</th>\n",
              "      <th>Профессия</th>\n",
              "      <th>ВредныеФакторы</th>\n",
              "      <th>ПсихОсвидетельствование</th>\n",
              "      <th>ЗаключениеМК</th>\n",
              "      <th>ЗаключениеМКПредставление</th>\n",
              "      <th>Заключение</th>\n",
              "      <th>Гинекология1_МКБ101</th>\n",
              "      <th>Гинекология1_МКБ102</th>\n",
              "      <th>...</th>\n",
              "      <th>ХирургНеИсп2_МКБ103</th>\n",
              "      <th>ХирургНеИсп3_МКБ101</th>\n",
              "      <th>ХирургНеИсп3_МКБ102</th>\n",
              "      <th>ХирургНеИсп3_МКБ103</th>\n",
              "      <th>ЭКГНеИсп1_МКБ101</th>\n",
              "      <th>ЭКГНеИсп1_МКБ102</th>\n",
              "      <th>ЭКГНеИсп2_МКБ101</th>\n",
              "      <th>ЭКГНеИсп2_МКБ102</th>\n",
              "      <th>Эндоскопия1_МКБ101</th>\n",
              "      <th>Эндоскопия1_МКБ102</th>\n",
              "    </tr>\n",
              "  </thead>\n",
              "  <tbody>\n",
              "    <tr>\n",
              "      <th>0</th>\n",
              "      <td>1989-12-31T00:00:00</td>\n",
              "      <td>Женский</td>\n",
              "      <td>Продавец-кассир</td>\n",
              "      <td>Нет данных</td>\n",
              "      <td>False</td>\n",
              "      <td>Годен</td>\n",
              "      <td>Годен к работе в указанных условиях</td>\n",
              "      <td>Годен к работе в указанных условиях</td>\n",
              "      <td>Z00.0</td>\n",
              "      <td>Нет данных</td>\n",
              "      <td>...</td>\n",
              "      <td>Нет данных</td>\n",
              "      <td>Нет данных</td>\n",
              "      <td>Нет данных</td>\n",
              "      <td>Нет данных</td>\n",
              "      <td>Нет данных</td>\n",
              "      <td>Нет данных</td>\n",
              "      <td>Нет данных</td>\n",
              "      <td>Нет данных</td>\n",
              "      <td>Нет данных</td>\n",
              "      <td>Нет данных</td>\n",
              "    </tr>\n",
              "    <tr>\n",
              "      <th>1</th>\n",
              "      <td>1998-07-20T00:00:00</td>\n",
              "      <td>Женский</td>\n",
              "      <td>Продавец-кассир</td>\n",
              "      <td>2023-10-04 00:00:00</td>\n",
              "      <td>False</td>\n",
              "      <td>Годен</td>\n",
              "      <td>Годен к работе в указанных условиях</td>\n",
              "      <td>Годен к работе в указанных условиях</td>\n",
              "      <td>Z00.0</td>\n",
              "      <td>Нет данных</td>\n",
              "      <td>...</td>\n",
              "      <td>Нет данных</td>\n",
              "      <td>Нет данных</td>\n",
              "      <td>Нет данных</td>\n",
              "      <td>Нет данных</td>\n",
              "      <td>Нет данных</td>\n",
              "      <td>Нет данных</td>\n",
              "      <td>Нет данных</td>\n",
              "      <td>Нет данных</td>\n",
              "      <td>Нет данных</td>\n",
              "      <td>Нет данных</td>\n",
              "    </tr>\n",
              "    <tr>\n",
              "      <th>2</th>\n",
              "      <td>2002-01-04T00:00:00</td>\n",
              "      <td>Женский</td>\n",
              "      <td>Младший продавец-консультант</td>\n",
              "      <td>23</td>\n",
              "      <td>False</td>\n",
              "      <td>Годен</td>\n",
              "      <td>Годен к работе в указанных условиях</td>\n",
              "      <td>Годен к работе в указанных условиях</td>\n",
              "      <td>Z00.0</td>\n",
              "      <td>Нет данных</td>\n",
              "      <td>...</td>\n",
              "      <td>Нет данных</td>\n",
              "      <td>Нет данных</td>\n",
              "      <td>Нет данных</td>\n",
              "      <td>Нет данных</td>\n",
              "      <td>Нет данных</td>\n",
              "      <td>Нет данных</td>\n",
              "      <td>Нет данных</td>\n",
              "      <td>Нет данных</td>\n",
              "      <td>Нет данных</td>\n",
              "      <td>Нет данных</td>\n",
              "    </tr>\n",
              "  </tbody>\n",
              "</table>\n",
              "<p>3 rows × 194 columns</p>\n",
              "</div>\n",
              "      <button class=\"colab-df-convert\" onclick=\"convertToInteractive('df-b6b4665b-a10c-4a8a-9152-9a23fa064b11')\"\n",
              "              title=\"Convert this dataframe to an interactive table.\"\n",
              "              style=\"display:none;\">\n",
              "\n",
              "  <svg xmlns=\"http://www.w3.org/2000/svg\" height=\"24px\"viewBox=\"0 0 24 24\"\n",
              "       width=\"24px\">\n",
              "    <path d=\"M0 0h24v24H0V0z\" fill=\"none\"/>\n",
              "    <path d=\"M18.56 5.44l.94 2.06.94-2.06 2.06-.94-2.06-.94-.94-2.06-.94 2.06-2.06.94zm-11 1L8.5 8.5l.94-2.06 2.06-.94-2.06-.94L8.5 2.5l-.94 2.06-2.06.94zm10 10l.94 2.06.94-2.06 2.06-.94-2.06-.94-.94-2.06-.94 2.06-2.06.94z\"/><path d=\"M17.41 7.96l-1.37-1.37c-.4-.4-.92-.59-1.43-.59-.52 0-1.04.2-1.43.59L10.3 9.45l-7.72 7.72c-.78.78-.78 2.05 0 2.83L4 21.41c.39.39.9.59 1.41.59.51 0 1.02-.2 1.41-.59l7.78-7.78 2.81-2.81c.8-.78.8-2.07 0-2.86zM5.41 20L4 18.59l7.72-7.72 1.47 1.35L5.41 20z\"/>\n",
              "  </svg>\n",
              "      </button>\n",
              "\n",
              "\n",
              "\n",
              "    <div id=\"df-879c1596-adb1-45c7-a6db-6de12ad06b8c\">\n",
              "      <button class=\"colab-df-quickchart\" onclick=\"quickchart('df-879c1596-adb1-45c7-a6db-6de12ad06b8c')\"\n",
              "              title=\"Suggest charts.\"\n",
              "              style=\"display:none;\">\n",
              "\n",
              "<svg xmlns=\"http://www.w3.org/2000/svg\" height=\"24px\"viewBox=\"0 0 24 24\"\n",
              "     width=\"24px\">\n",
              "    <g>\n",
              "        <path d=\"M19 3H5c-1.1 0-2 .9-2 2v14c0 1.1.9 2 2 2h14c1.1 0 2-.9 2-2V5c0-1.1-.9-2-2-2zM9 17H7v-7h2v7zm4 0h-2V7h2v10zm4 0h-2v-4h2v4z\"/>\n",
              "    </g>\n",
              "</svg>\n",
              "      </button>\n",
              "    </div>\n",
              "\n",
              "<style>\n",
              "  .colab-df-quickchart {\n",
              "    background-color: #E8F0FE;\n",
              "    border: none;\n",
              "    border-radius: 50%;\n",
              "    cursor: pointer;\n",
              "    display: none;\n",
              "    fill: #1967D2;\n",
              "    height: 32px;\n",
              "    padding: 0 0 0 0;\n",
              "    width: 32px;\n",
              "  }\n",
              "\n",
              "  .colab-df-quickchart:hover {\n",
              "    background-color: #E2EBFA;\n",
              "    box-shadow: 0px 1px 2px rgba(60, 64, 67, 0.3), 0px 1px 3px 1px rgba(60, 64, 67, 0.15);\n",
              "    fill: #174EA6;\n",
              "  }\n",
              "\n",
              "  [theme=dark] .colab-df-quickchart {\n",
              "    background-color: #3B4455;\n",
              "    fill: #D2E3FC;\n",
              "  }\n",
              "\n",
              "  [theme=dark] .colab-df-quickchart:hover {\n",
              "    background-color: #434B5C;\n",
              "    box-shadow: 0px 1px 3px 1px rgba(0, 0, 0, 0.15);\n",
              "    filter: drop-shadow(0px 1px 2px rgba(0, 0, 0, 0.3));\n",
              "    fill: #FFFFFF;\n",
              "  }\n",
              "</style>\n",
              "\n",
              "    <script>\n",
              "      async function quickchart(key) {\n",
              "        const containerElement = document.querySelector('#' + key);\n",
              "        const charts = await google.colab.kernel.invokeFunction(\n",
              "            'suggestCharts', [key], {});\n",
              "      }\n",
              "    </script>\n",
              "\n",
              "      <script>\n",
              "\n",
              "function displayQuickchartButton(domScope) {\n",
              "  let quickchartButtonEl =\n",
              "    domScope.querySelector('#df-879c1596-adb1-45c7-a6db-6de12ad06b8c button.colab-df-quickchart');\n",
              "  quickchartButtonEl.style.display =\n",
              "    google.colab.kernel.accessAllowed ? 'block' : 'none';\n",
              "}\n",
              "\n",
              "        displayQuickchartButton(document);\n",
              "      </script>\n",
              "      <style>\n",
              "    .colab-df-container {\n",
              "      display:flex;\n",
              "      flex-wrap:wrap;\n",
              "      gap: 12px;\n",
              "    }\n",
              "\n",
              "    .colab-df-convert {\n",
              "      background-color: #E8F0FE;\n",
              "      border: none;\n",
              "      border-radius: 50%;\n",
              "      cursor: pointer;\n",
              "      display: none;\n",
              "      fill: #1967D2;\n",
              "      height: 32px;\n",
              "      padding: 0 0 0 0;\n",
              "      width: 32px;\n",
              "    }\n",
              "\n",
              "    .colab-df-convert:hover {\n",
              "      background-color: #E2EBFA;\n",
              "      box-shadow: 0px 1px 2px rgba(60, 64, 67, 0.3), 0px 1px 3px 1px rgba(60, 64, 67, 0.15);\n",
              "      fill: #174EA6;\n",
              "    }\n",
              "\n",
              "    [theme=dark] .colab-df-convert {\n",
              "      background-color: #3B4455;\n",
              "      fill: #D2E3FC;\n",
              "    }\n",
              "\n",
              "    [theme=dark] .colab-df-convert:hover {\n",
              "      background-color: #434B5C;\n",
              "      box-shadow: 0px 1px 3px 1px rgba(0, 0, 0, 0.15);\n",
              "      filter: drop-shadow(0px 1px 2px rgba(0, 0, 0, 0.3));\n",
              "      fill: #FFFFFF;\n",
              "    }\n",
              "  </style>\n",
              "\n",
              "      <script>\n",
              "        const buttonEl =\n",
              "          document.querySelector('#df-b6b4665b-a10c-4a8a-9152-9a23fa064b11 button.colab-df-convert');\n",
              "        buttonEl.style.display =\n",
              "          google.colab.kernel.accessAllowed ? 'block' : 'none';\n",
              "\n",
              "        async function convertToInteractive(key) {\n",
              "          const element = document.querySelector('#df-b6b4665b-a10c-4a8a-9152-9a23fa064b11');\n",
              "          const dataTable =\n",
              "            await google.colab.kernel.invokeFunction('convertToInteractive',\n",
              "                                                     [key], {});\n",
              "          if (!dataTable) return;\n",
              "\n",
              "          const docLinkHtml = 'Like what you see? Visit the ' +\n",
              "            '<a target=\"_blank\" href=https://colab.research.google.com/notebooks/data_table.ipynb>data table notebook</a>'\n",
              "            + ' to learn more about interactive tables.';\n",
              "          element.innerHTML = '';\n",
              "          dataTable['output_type'] = 'display_data';\n",
              "          await google.colab.output.renderOutput(dataTable, element);\n",
              "          const docLink = document.createElement('div');\n",
              "          docLink.innerHTML = docLinkHtml;\n",
              "          element.appendChild(docLink);\n",
              "        }\n",
              "      </script>\n",
              "    </div>\n",
              "  </div>\n"
            ]
          },
          "metadata": {},
          "execution_count": 14
        }
      ]
    },
    {
      "cell_type": "markdown",
      "source": [
        "Колонка возраст"
      ],
      "metadata": {
        "id": "CAi3WnDJq5D6"
      }
    },
    {
      "cell_type": "code",
      "source": [
        "# Из полной даты рождения нужен толко год возьмём его\n",
        "df3['КлиентДатаРождения'] = df3['КлиентДатаРождения'].str[:4]"
      ],
      "metadata": {
        "id": "8gem0b6Sdi8S"
      },
      "execution_count": null,
      "outputs": []
    },
    {
      "cell_type": "code",
      "source": [
        "# Полученный возраст превращаем в класс возрастной категории\n",
        "def getParameterAgeVect(arg):\n",
        "  arg = int(arg)  # преобразуем строку в число\n",
        "  outClass =int((arg-13)/5)\n",
        "  outClass = max(0, min(4,outClass))\n",
        "  # На выходе получаем вектор с нужной категорией возраста\n",
        "  return list(utils.to_categorical(outClass, 5).astype('int'))\n",
        "# Цикл для прохода по значениям в колонке с годом и вывод результатов\n",
        "for value in df3.iloc[:3,0]:\n",
        "    age_c = getParameterAgeVect(value)\n",
        "    print(f'Год рождения: {value}.')\n",
        "    print(age_c)"
      ],
      "metadata": {
        "colab": {
          "base_uri": "https://localhost:8080/"
        },
        "id": "2MIEeUyGzje0",
        "outputId": "88c5ee12-6011-4d3b-bfab-39049a427079"
      },
      "execution_count": null,
      "outputs": [
        {
          "output_type": "stream",
          "name": "stdout",
          "text": [
            "Год рождения: 1989.\n",
            "[0, 0, 0, 0, 1]\n",
            "Год рождения: 1998.\n",
            "[0, 0, 0, 0, 1]\n",
            "Год рождения: 2002.\n",
            "[0, 0, 0, 0, 1]\n"
          ]
        }
      ]
    },
    {
      "cell_type": "code",
      "source": [
        "def getAgeVect(arg):\n",
        "    arg = int(arg)  # преобразуем строку в число\n",
        "    # превращаем возраст в категорию возрастной группы\n",
        "    outClass = int((arg-15)/12)\n",
        "    outClass = max(0, min(4, outClass))\n",
        "    # создаем вектор с нужной категорией возраста\n",
        "    result = np.eye(5)[outClass].astype('int')\n",
        "    return result\n",
        "\n",
        "# Цикл для прохода по значениям в колонке с годом и вывод результатов\n",
        "for value in df3.iloc[:3,0]:\n",
        "    age_c = getAgeVect(value)\n",
        "    print(f'Год рождения: {value}')\n",
        "    print(age_c)"
      ],
      "metadata": {
        "colab": {
          "base_uri": "https://localhost:8080/"
        },
        "id": "YTa6vJUMZj3O",
        "outputId": "9dd319c6-ba67-43a6-bf6c-5e0874f61274"
      },
      "execution_count": null,
      "outputs": [
        {
          "output_type": "stream",
          "name": "stdout",
          "text": [
            "Год рождения: 1989\n",
            "[0 0 0 0 1]\n",
            "Год рождения: 1998\n",
            "[0 0 0 0 1]\n",
            "Год рождения: 2002\n",
            "[0 0 0 0 1]\n"
          ]
        }
      ]
    },
    {
      "cell_type": "markdown",
      "source": [
        "Колонка пол"
      ],
      "metadata": {
        "id": "Z38cWTBTrIQE"
      }
    },
    {
      "cell_type": "code",
      "source": [
        "# Уникальные значения колонки\n",
        "display(df3['КлиентПол'].unique())"
      ],
      "metadata": {
        "colab": {
          "base_uri": "https://localhost:8080/",
          "height": 34
        },
        "id": "D8RzheUE8rkT",
        "outputId": "a19a04db-1e17-4b61-c55d-c1e639001831"
      },
      "execution_count": null,
      "outputs": [
        {
          "output_type": "display_data",
          "data": {
            "text/plain": [
              "array(['Женский', 'Мужской', 'Нет данных', 'НеУказан'], dtype=object)"
            ]
          },
          "metadata": {}
        }
      ]
    },
    {
      "cell_type": "code",
      "source": [
        "# заменить 'НеУказан' на 'Нет данных' в столбце 'КлиентПол'\n",
        "df3['КлиентПол'] = df3['КлиентПол'].replace('НеУказан', 'Нет данных')\n",
        "\n"
      ],
      "metadata": {
        "id": "7tBnjJgRpLt-"
      },
      "execution_count": null,
      "outputs": []
    },
    {
      "cell_type": "code",
      "execution_count": null,
      "metadata": {
        "colab": {
          "base_uri": "https://localhost:8080/"
        },
        "outputId": "ea99645f-2e5a-47ad-9bd3-cb9a100c4fd6",
        "id": "ODNk0WH2sL4j"
      },
      "outputs": [
        {
          "output_type": "execute_result",
          "data": {
            "text/plain": [
              "[0, 1, 0]"
            ]
          },
          "metadata": {},
          "execution_count": 22
        }
      ],
      "source": [
        "def Sex_class(arg):\n",
        "    # Создаем список с\n",
        "    sex_c = [0,0,0]\n",
        "    if 'М' in arg:\n",
        "        sex_c = [1,0,0]\n",
        "    if 'Ж' in arg:\n",
        "        sex_c = [0,1,0]\n",
        "    if 'Нет данных' in arg:\n",
        "        sex_c = [0,0,1]\n",
        "    # Возвращаем список\n",
        "    return sex_c\n",
        "# Проверяем функцию с аргументом 'м'\n",
        "sex_c = Sex_class('Ж')\n",
        "# Выводим значение\n",
        "sex_c"
      ]
    },
    {
      "cell_type": "markdown",
      "source": [
        "Колонка Профессия"
      ],
      "metadata": {
        "id": "C6S5wVbJtacz"
      }
    },
    {
      "cell_type": "markdown",
      "source": [
        "Колонка Вредные Факторы"
      ],
      "metadata": {
        "id": "1hxrE6K7tl3m"
      }
    },
    {
      "cell_type": "code",
      "source": [
        "# Уникальные значения колонки\n",
        "display(df3['ВредныеФакторы'].unique())"
      ],
      "metadata": {
        "colab": {
          "base_uri": "https://localhost:8080/",
          "height": 69
        },
        "id": "guve1JsrTt8r",
        "outputId": "a5d89a5e-3be3-4483-a157-5729ab98540b"
      },
      "execution_count": null,
      "outputs": [
        {
          "output_type": "display_data",
          "data": {
            "text/plain": [
              "array(['Нет данных', '2023-10-04 00:00:00', '23', ...,\n",
              "       '11.3,11.4,5.1,18.2', '4.4,5.1,6.1,15,17', '4.4,5.1,15,6.1,17'],\n",
              "      dtype=object)"
            ]
          },
          "metadata": {}
        }
      ]
    },
    {
      "cell_type": "code",
      "source": [
        "# поиск значений с помощью регулярных выражений и удаление найденных записей\n",
        "df3 = df3[~df3['ВредныеФакторы'].str.match(r'\\d{4}-\\d{2}-\\d{2}\\s\\d{2}:\\d{2}:\\d{2}')]"
      ],
      "metadata": {
        "id": "YEh2rmPsuCPZ"
      },
      "execution_count": null,
      "outputs": []
    },
    {
      "cell_type": "code",
      "source": [
        "# Токенизация (разбиение на токены) по запятой\n",
        "tokenizer = lambda x: x.split(',')\n",
        "df3['ВредныеФакторы'] = df3['ВредныеФакторы'].apply(tokenizer)\n",
        "\n",
        "# Преобразование в вектор Bag of Words\n",
        "cv = CountVectorizer(tokenizer=lambda x: x, lowercase=False)\n",
        "text_counts = cv.fit_transform(df3['ВредныеФакторы'])\n",
        "\n",
        "# Преобразование в матрицы нулей и единиц\n",
        "bow_df = pd.DataFrame(data=text_counts.toarray())\n",
        "\n",
        "# Сохраняем в массив\n",
        "arr = bow_df.to_numpy()"
      ],
      "metadata": {
        "id": "15Qwtj9bZp_5"
      },
      "execution_count": null,
      "outputs": []
    },
    {
      "cell_type": "code",
      "source": [
        "arr[50:56:2]"
      ],
      "metadata": {
        "colab": {
          "base_uri": "https://localhost:8080/"
        },
        "id": "bBfNXinLb1PH",
        "outputId": "40b4dfd9-88e4-4db5-bad0-fdda3aec6324"
      },
      "execution_count": null,
      "outputs": [
        {
          "output_type": "execute_result",
          "data": {
            "text/plain": [
              "array([[0, 0, 0, 0, 0, 0, 0, 0, 0, 0, 0, 0, 0, 0, 0, 0, 0, 0, 0, 0, 0, 0,\n",
              "        0, 0, 0, 0, 0, 0, 0, 0, 0, 0, 0, 0, 0, 0, 0, 0, 0, 0, 0, 0, 0, 0,\n",
              "        0, 0, 0, 0, 0, 0, 0, 0, 0, 0, 0, 0, 0, 0, 0, 0, 0, 0, 0, 0, 0, 0,\n",
              "        0, 0, 0, 0, 0, 0, 0, 0, 0, 0, 0, 0, 0, 0, 0, 0, 0, 0, 0, 0, 0, 0,\n",
              "        0, 0, 0, 0, 0, 0, 0, 0, 0, 0, 0, 0, 0, 0, 2, 0, 0, 0, 0, 0, 0, 0,\n",
              "        0, 0, 0, 0, 0, 0, 0, 0, 0, 0, 0, 0, 0, 0, 0, 0, 0, 0, 0, 0, 0, 0,\n",
              "        0, 0, 0, 0, 0, 0, 0, 0, 0, 0, 0, 0, 0, 0, 0, 0, 2, 0, 0, 0, 0, 0,\n",
              "        0, 0, 0, 0, 0, 0, 0, 0, 0, 0, 0, 0, 2, 0, 2, 0, 0, 0, 0, 0, 2, 0,\n",
              "        0, 0, 2, 0, 0, 0, 0, 0, 0, 0, 0, 0, 0, 0, 0, 0, 0, 0, 0, 0, 0, 0,\n",
              "        0, 0],\n",
              "       [0, 0, 0, 0, 0, 0, 0, 0, 0, 0, 0, 0, 0, 0, 0, 0, 0, 0, 0, 0, 0, 0,\n",
              "        0, 0, 0, 0, 0, 0, 0, 0, 0, 0, 0, 0, 0, 0, 0, 0, 0, 0, 0, 0, 0, 0,\n",
              "        0, 0, 0, 0, 0, 0, 0, 0, 0, 0, 0, 0, 0, 0, 0, 0, 0, 0, 0, 0, 0, 0,\n",
              "        0, 0, 0, 0, 0, 0, 0, 0, 0, 0, 0, 0, 0, 0, 0, 0, 0, 0, 0, 0, 0, 0,\n",
              "        0, 0, 0, 0, 0, 0, 0, 0, 0, 0, 0, 0, 0, 0, 2, 0, 0, 0, 0, 0, 0, 0,\n",
              "        0, 0, 0, 0, 0, 0, 0, 0, 0, 0, 0, 0, 0, 0, 0, 0, 0, 0, 0, 0, 0, 0,\n",
              "        0, 0, 0, 0, 0, 0, 0, 0, 0, 0, 0, 0, 0, 0, 0, 0, 2, 0, 0, 0, 0, 0,\n",
              "        0, 0, 0, 0, 0, 0, 0, 0, 0, 0, 0, 0, 2, 0, 2, 0, 0, 0, 0, 0, 2, 0,\n",
              "        0, 0, 2, 0, 0, 0, 0, 0, 0, 0, 0, 0, 0, 0, 0, 0, 0, 0, 0, 0, 0, 0,\n",
              "        0, 0],\n",
              "       [0, 0, 0, 0, 0, 0, 0, 0, 0, 0, 0, 0, 0, 0, 0, 0, 0, 0, 0, 0, 0, 0,\n",
              "        0, 0, 0, 0, 0, 0, 0, 0, 0, 0, 0, 0, 0, 0, 0, 0, 0, 0, 0, 0, 0, 0,\n",
              "        0, 0, 0, 0, 0, 0, 0, 0, 0, 0, 0, 0, 0, 0, 0, 0, 0, 0, 0, 0, 0, 0,\n",
              "        0, 0, 0, 0, 0, 0, 0, 0, 0, 0, 0, 0, 0, 0, 0, 0, 0, 0, 0, 0, 0, 0,\n",
              "        0, 0, 0, 0, 0, 0, 0, 0, 0, 0, 0, 0, 0, 0, 2, 0, 0, 0, 0, 0, 0, 0,\n",
              "        0, 0, 0, 0, 0, 0, 0, 0, 0, 0, 0, 0, 0, 0, 0, 0, 0, 0, 0, 0, 0, 0,\n",
              "        0, 0, 0, 0, 0, 0, 0, 0, 0, 0, 0, 0, 0, 0, 0, 0, 2, 0, 0, 0, 0, 0,\n",
              "        0, 0, 0, 0, 0, 0, 0, 0, 0, 0, 0, 0, 2, 0, 2, 0, 0, 0, 0, 0, 2, 0,\n",
              "        0, 0, 2, 0, 0, 0, 0, 0, 0, 0, 0, 0, 0, 0, 0, 0, 0, 0, 0, 0, 0, 0,\n",
              "        0, 0]])"
            ]
          },
          "metadata": {},
          "execution_count": 83
        }
      ]
    },
    {
      "cell_type": "code",
      "source": [
        "# токенизация строк по запятой\n",
        "df3['ВредныеФакторы'] = df3['ВредныеФакторы'].apply(lambda x: x.split(','))\n",
        "\n",
        "# конвертация в матрицу Bag of Words\n",
        "vectorizer = CountVectorizer(binary=True)\n",
        "X = vectorizer.fit_transform(df3['ВредныеФакторы'].apply(lambda x: ', '.join(x)))\n",
        "x_tr = X.toarray()"
      ],
      "metadata": {
        "id": "ba2k-FRWQwdr"
      },
      "execution_count": null,
      "outputs": []
    },
    {
      "cell_type": "code",
      "source": [
        "x_tr[50:56:2]\n"
      ],
      "metadata": {
        "colab": {
          "base_uri": "https://localhost:8080/"
        },
        "id": "2dg82D40EU07",
        "outputId": "f9b23860-60d0-450c-f06e-f7269872566c"
      },
      "execution_count": null,
      "outputs": [
        {
          "output_type": "execute_result",
          "data": {
            "text/plain": [
              "array([[0, 0, 0, 0, 0, 0, 0, 1, 0, 0, 0, 0, 0, 0, 0, 0, 0, 0, 0, 0, 0, 0,\n",
              "        0, 0, 0, 0, 0, 0, 0, 0, 0, 0, 0, 0, 0, 0, 0, 0, 0, 0, 0, 0, 0, 0],\n",
              "       [0, 0, 0, 0, 0, 0, 0, 1, 0, 0, 0, 0, 0, 0, 0, 0, 0, 0, 0, 0, 0, 0,\n",
              "        0, 0, 0, 0, 0, 0, 0, 0, 0, 0, 0, 0, 0, 0, 0, 0, 0, 0, 0, 0, 0, 0],\n",
              "       [0, 0, 0, 0, 0, 0, 0, 1, 0, 0, 0, 0, 0, 0, 0, 0, 0, 0, 0, 0, 0, 0,\n",
              "        0, 0, 0, 0, 0, 0, 0, 0, 0, 0, 0, 0, 0, 0, 0, 0, 0, 0, 0, 0, 0, 0]])"
            ]
          },
          "metadata": {},
          "execution_count": 53
        }
      ]
    },
    {
      "cell_type": "code",
      "source": [
        "def tokenize_string(s):\n",
        "    tokens = re.findall(r\"[\\d\\s.,]+\", s)\n",
        "    return [t.strip() for t in tokens]\n",
        "\n",
        "df3['tokenized'] = df3['ВредныеФакторы'].apply(tokenize_string)\n",
        "x_Tra = np.array(df3['tokenized'].tolist())\n"
      ],
      "metadata": {
        "id": "cI-_R8xCB0Sk"
      },
      "execution_count": null,
      "outputs": []
    },
    {
      "cell_type": "code",
      "source": [
        "x_Tra[50:56:2]"
      ],
      "metadata": {
        "colab": {
          "base_uri": "https://localhost:8080/"
        },
        "id": "vlVErf7DVVfQ",
        "outputId": "67128e0b-1d43-490c-8985-3c23a3cb5f1d"
      },
      "execution_count": null,
      "outputs": [
        {
          "output_type": "execute_result",
          "data": {
            "text/plain": [
              "array([['5.1,6.1,6.2'],\n",
              "       ['1.29.2,4.1,4.3.2,11.1,17,18.2,11.4'],\n",
              "       ['1.30.1,1.50,4.4,6.1,6.2,18.1']], dtype='<U47')"
            ]
          },
          "metadata": {},
          "execution_count": 184
        }
      ]
    },
    {
      "cell_type": "code",
      "source": [
        "# токенизируем значения в столбце 'ВредныеФакторы'\n",
        "df3['tokens'] = df3['ВредныеФакторы'].apply(lambda x: re.findall(r'\\d+[,\\.]?\\d+', x))\n",
        "\n",
        "# преобразуем список токенов в вектор\n",
        "df3['vector'] = df3['tokens'].apply(lambda x: [float(i.replace(',', '.')) for i in x])\n",
        "\n",
        "# выводим результат\n",
        "print(df3['vector'])\n"
      ],
      "metadata": {
        "colab": {
          "base_uri": "https://localhost:8080/"
        },
        "id": "5pFOJTfy5ROh",
        "outputId": "529a7ce8-9d3e-4d66-918b-303c0bb9b766"
      },
      "execution_count": null,
      "outputs": [
        {
          "output_type": "stream",
          "name": "stdout",
          "text": [
            "0                             []\n",
            "2                         [23.0]\n",
            "3                         [23.0]\n",
            "4                         [23.0]\n",
            "5                         [23.0]\n",
            "                  ...           \n",
            "32681    [11.3, 11.4, 5.1, 18.2]\n",
            "32682                [4.2, 5.11]\n",
            "32683                     [23.0]\n",
            "32684     [4.4, 5.1, 6.1, 15.17]\n",
            "32685     [4.4, 5.1, 15.6, 1.17]\n",
            "Name: vector, Length: 29369, dtype: object\n"
          ]
        }
      ]
    },
    {
      "cell_type": "markdown",
      "source": [
        "Колонка ПсихОсвидетельствование"
      ],
      "metadata": {
        "id": "9lfuqrbxxwyo"
      }
    },
    {
      "cell_type": "code",
      "source": [
        "# Уникальные значения колонки\n",
        "display(df3['ПсихОсвидетельствование'].unique())"
      ],
      "metadata": {
        "colab": {
          "base_uri": "https://localhost:8080/",
          "height": 34
        },
        "id": "6sOKQ38xQ2In",
        "outputId": "08635f4d-93d1-4cf0-e79e-4f1b854414d3"
      },
      "execution_count": null,
      "outputs": [
        {
          "output_type": "display_data",
          "data": {
            "text/plain": [
              "array([False,  True])"
            ]
          },
          "metadata": {}
        }
      ]
    },
    {
      "cell_type": "code",
      "execution_count": null,
      "metadata": {
        "colab": {
          "base_uri": "https://localhost:8080/"
        },
        "outputId": "016992d3-a700-49b1-e8a6-893de2279ee2",
        "id": "MbaTyyEEG4XS"
      },
      "outputs": [
        {
          "output_type": "execute_result",
          "data": {
            "text/plain": [
              "[0]"
            ]
          },
          "metadata": {},
          "execution_count": 32
        }
      ],
      "source": [
        "def PsExam_class(arg):\n",
        "    # Создаем список с одним элементом 0\n",
        "    PsExam = [0]\n",
        "    # Если True, то значение 1 (по умолчанию 0 для False)\n",
        "    if 'True' in arg:\n",
        "        PsExam = 1\n",
        "    # Возвращаем список\n",
        "    return PsExam\n",
        "# Проверяем функцию с аргументом 'м'\n",
        "PsExam = PsExam_class('False')\n",
        "# Выводим значение\n",
        "PsExam"
      ]
    },
    {
      "cell_type": "markdown",
      "source": [
        "Колонка'ЗаключениеМК'"
      ],
      "metadata": {
        "id": "wQdbPFLlyrhm"
      }
    },
    {
      "cell_type": "code",
      "source": [
        "# Уникальные значения колонки\n",
        "display(df3['ЗаключениеМК'].unique())"
      ],
      "metadata": {
        "colab": {
          "base_uri": "https://localhost:8080/",
          "height": 104
        },
        "id": "FXCPFO9F8is7",
        "outputId": "dce00c96-25ef-4d1c-b8ca-211f518ecb78"
      },
      "execution_count": null,
      "outputs": [
        {
          "output_type": "display_data",
          "data": {
            "text/plain": [
              "array(['Годен', 'ГоденСКоррекциейЗрения',\n",
              "       'НуждаетсяВДообследованииИЛечении', 'Нет данных',\n",
              "       'ГоденБезРаботНаВысотах', 'ГоденСКоррекциейСлуха', ' п. 11.3',\n",
              "       'ОграниченноГоден', 'машинист бульдозера', 'Газоспасатель',\n",
              "       ' Газоспасатель', 'Негоден'], dtype=object)"
            ]
          },
          "metadata": {}
        }
      ]
    },
    {
      "cell_type": "code",
      "source": [
        "index_list = df3[(df3['ЗаключениеМК'] == 'машинист бульдозера') |\n",
        "                 (df3['ЗаключениеМК'] == ' Газоспасатель') |\n",
        "                  (df3['ЗаключениеМК'] == 'Газоспасатель') |\n",
        "                   (df3['ЗаключениеМК'] == ' п. 11.3') |\n",
        "                    (df3['ЗаключениеМК'] == 'Нет данных')].index.tolist()\n"
      ],
      "metadata": {
        "id": "pB5nzi5Etnmj"
      },
      "execution_count": null,
      "outputs": []
    },
    {
      "cell_type": "code",
      "source": [
        "df3.drop(index_list, inplace=True)"
      ],
      "metadata": {
        "id": "pCGg5uu5efq-"
      },
      "execution_count": null,
      "outputs": []
    },
    {
      "cell_type": "code",
      "source": [
        "class_list = ['Годен','НуждаетсяВДообследовании']\n",
        "def health_sc(df3, column_name, class_list):\n",
        "    for class_name in class_list:\n",
        "        count = len(df3[df3[column_name] == class_name])\n",
        "        print(f'Количество записей для класса {class_name}: {count}')\n",
        "# количество записей по классам\n",
        "health_sc(df3, 'ЗаключениеМК', class_list)\n",
        "\n",
        "# Сокращение классов до 3\n",
        "df3['ЗаключениеМК'].replace('ГоденСКоррекциейЗрения', 'НуждаетсяВДообследовании', inplace=True)\n",
        "df3['ЗаключениеМК'].replace('ГоденБезРаботНаВысотах', 'НуждаетсяВДообследовании', inplace=True)\n",
        "df3['ЗаключениеМК'].replace('НуждаетсяВДообследованииИЛечении', 'НуждаетсяВДообследовании' , inplace=True)\n",
        "df3['ЗаключениеМК'].replace('Нет данных', 'НуждаетсяВДообследовании', inplace=True)\n",
        "df3['ЗаключениеМК'].replace('Негоден', 'НуждаетсяВДообследовании', inplace=True)\n",
        "\n",
        "# Удаление строк без заключения\n",
        "mask = df3['ЗаключениеМК'].str.contains('|'.join(class_list)) > 0\n",
        "condition = df3[mask]\n",
        "\n",
        "# Функция для определения статуса здоровья\n",
        "def health_stat(condition):\n",
        "    out = [0, 0]\n",
        "    if ('Годен' in condition):\n",
        "        out[0]= 1\n",
        "    if ('НуждаетсяВДообследовании' in condition):\n",
        "        out[1]= 1\n",
        "\n",
        "    # Присваиваем список 'out' переменной 'condition_ohe'\n",
        "    condition_ohe = out\n",
        "    return condition_ohe\n",
        "# Пример вызова функции\n",
        "health_stat('НуждаетсяВДообследовании')"
      ],
      "metadata": {
        "colab": {
          "base_uri": "https://localhost:8080/"
        },
        "id": "k3wH6kDSgZta",
        "outputId": "307d43cc-de61-4056-943d-28882bdc29fb"
      },
      "execution_count": null,
      "outputs": [
        {
          "output_type": "stream",
          "name": "stdout",
          "text": [
            "Количество записей для класса Годен: 17982\n",
            "Количество записей для класса НуждаетсяВДообследовании: 1209\n"
          ]
        },
        {
          "output_type": "execute_result",
          "data": {
            "text/plain": [
              "[0, 1]"
            ]
          },
          "metadata": {},
          "execution_count": 60
        }
      ]
    },
    {
      "cell_type": "markdown",
      "source": [
        "ЗаключениеМКПредставление"
      ],
      "metadata": {
        "id": "HBcDXBvmIv4a"
      }
    },
    {
      "cell_type": "code",
      "source": [
        "# Уникальные значения колонки\n",
        "display(df3['ЗаключениеМКПредставление'].unique())"
      ],
      "metadata": {
        "id": "aiKTWA5XWy95",
        "colab": {
          "base_uri": "https://localhost:8080/",
          "height": 138
        },
        "outputId": "aeca2296-f1ad-4115-ce1b-05e5895a97c6"
      },
      "execution_count": null,
      "outputs": [
        {
          "output_type": "display_data",
          "data": {
            "text/plain": [
              "array(['Годен к работе в указанных условиях',\n",
              "       'Годен к работе в указанных условиях (с коррекцией зрения)',\n",
              "       'Нуждается в дообследовании и лечении', 'Нет данных',\n",
              "       'Годен к работе в указанных условиях (без работ на высотах)',\n",
              "       'Годен к работе в указанных условиях (с коррекцией слуха)',\n",
              "       ' п. 11.4', 'Ограниченно годен', 'тракторист',\n",
              "       'ГоденСКоррекциейЗрения', 'Годен', 'Не годен'], dtype=object)"
            ]
          },
          "metadata": {}
        }
      ]
    },
    {
      "cell_type": "code",
      "source": [
        "index_list_2 = df3[(df3['ЗаключениеМКПредставление'] == 'тракторист') |\n",
        "                   (df3['ЗаключениеМКПредставление'] == ' п. 11.4')].index.tolist()"
      ],
      "metadata": {
        "id": "hshVSuF-W4xA"
      },
      "execution_count": null,
      "outputs": []
    },
    {
      "cell_type": "code",
      "source": [
        "df3.drop(index_list_2, inplace=True)"
      ],
      "metadata": {
        "id": "0owhf7_1etQG"
      },
      "execution_count": null,
      "outputs": []
    },
    {
      "cell_type": "code",
      "source": [
        "class_list = ['Годен',\n",
        "              'с коррекцией зрения',\n",
        "              'без работ на высотах',\n",
        "              'с коррекцией слуха',\n",
        "              'Ограниченно годен','Нуждается в дообследовании и лечении']\n",
        "def health_sp(df3, column_name, class_list):\n",
        "    for class_name in class_list:\n",
        "        count = len(df3[df3[column_name] == class_name])\n",
        "        print(f'Количество записей для класса {class_name}: {count}')\n",
        "# количество записей по классам\n",
        "health_sp(df3, 'ЗаключениеМКПредставление', class_list)\n",
        "\n",
        "# Сокращение классов до 3\n",
        "df3['ЗаключениеМКПредставление'].replace('Годен к работе в указанных условиях','Годен', inplace=True)\n",
        "df3['ЗаключениеМКПредставление'].replace('Годен к работе в указанных условиях (с коррекцией зрения)', 'с коррекцией зрения', inplace=True)\n",
        "df3['ЗаключениеМКПредставление'].replace('Годен к работе в указанных условиях (без работ на высотах)', 'без работ на высотах', inplace=True)\n",
        "df3['ЗаключениеМКПредставление'].replace('Годен к работе в указанных условиях (с коррекцией слуха)', 'с коррекцией слуха', inplace=True)\n",
        "\n",
        "\n",
        "# Удаление строк без заключения\n",
        "mask = df3['ЗаключениеМКПредставление'].str.contains('|'.join(class_list)) > 0\n",
        "condit = df3[mask]\n",
        "\n",
        "# Функция для определения статуса здоровья\n",
        "def health_stp(condit):\n",
        "    out = [0, 0, 0, 0, 0, 0]\n",
        "    if ('Годен' in condit):\n",
        "        out[0]= 1\n",
        "    if ('с коррекцией зрения' in condit):\n",
        "        out[1]= 1\n",
        "    if ('без работ на высотах' in condit):\n",
        "        out[2]= 1\n",
        "    if ('с коррекцией слуха' in condit):\n",
        "        out[3]= 1\n",
        "    if ('Ограниченно годен' in condit):\n",
        "        out[4]= 1\n",
        "    if ('Нуждается в дообследовании и лечении' in condit):\n",
        "        out[5]= 1\n",
        "\n",
        "    # Присваиваем список 'out' переменной 'condition_ohe'\n",
        "    condit_ohe = out\n",
        "    return condit_ohe\n",
        "# Пример вызова функции\n",
        "health_stp('без работ на высотах')"
      ],
      "metadata": {
        "colab": {
          "base_uri": "https://localhost:8080/"
        },
        "outputId": "93fdefc9-5977-4838-bc90-ce95f1b0749b",
        "id": "ksOBq_4PFCaj"
      },
      "execution_count": null,
      "outputs": [
        {
          "output_type": "stream",
          "name": "stdout",
          "text": [
            "Количество записей для класса Годен: 17984\n",
            "Количество записей для класса с коррекцией зрения: 1114\n",
            "Количество записей для класса без работ на высотах: 52\n",
            "Количество записей для класса с коррекцией слуха: 5\n",
            "Количество записей для класса Ограниченно годен: 4\n",
            "Количество записей для класса Нуждается в дообследовании и лечении: 40\n"
          ]
        },
        {
          "output_type": "execute_result",
          "data": {
            "text/plain": [
              "[0, 0, 1, 0, 0, 0]"
            ]
          },
          "metadata": {},
          "execution_count": 104
        }
      ]
    },
    {
      "cell_type": "markdown",
      "source": [
        "Заключение"
      ],
      "metadata": {
        "id": "7YVESZNF_FRh"
      }
    },
    {
      "cell_type": "code",
      "source": [
        "# Уникальные значения колонки\n",
        "display(df3['Заключение'].unique())"
      ],
      "metadata": {
        "id": "os9wodDPYRCE"
      },
      "execution_count": null,
      "outputs": []
    },
    {
      "cell_type": "code",
      "source": [
        "df3['Заключение'].replace('Годен к работе в указанных условиях','Годен', inplace=True)\n",
        "df3['Заключение'].replace('Годен к работе в указанных условиях (с коррекцией зрения)', 'с коррекцией зрения', inplace=True)\n",
        "df3['Заключение'].replace('Годен к работе в указанных условиях (без работ на высотах)', 'без работ на высотах', inplace=True)\n",
        "df3['Заключение'].replace('Годен к работе в указанных условиях (с коррекцией слуха)', 'с коррекцией слуха', inplace=True)\n",
        "df3['Заключение'].replace('Годен к работе в указанных условиях с коррекцией зрения', 'с коррекцией зрения', inplace=True)\n",
        "df3['Заключение'].replace('Годен к работе в указанных условиях, с коррекцией зрения', 'с коррекцией зрения', inplace=True)\n",
        "df3['Заключение'].replace('Годен к работе в указанных условиях, кроме   ', 'кроме', inplace=True)\n",
        "df3['Заключение'].replace('Годен к работе в указанных условиях. Противопаказанаработа с подьемом и перемещением тяжестей - более 5 кг, длительной ходьбой, более 500 метров, работа на высоте,в холодных помещениях, эмоциональные нагрузки,полный рабочий день.','Ограниченно годен', inplace=True)\n",
        "df3['Заключение'].replace('Годен к работе в указанных условиях (без работ на высотах) Противопоказана работа связанная с высотой ,подьем и перемещение тяжестей ,длительной ходьбой.', 'без работ на высотах', inplace=True)"
      ],
      "metadata": {
        "id": "NZeK02-pd8cr"
      },
      "execution_count": null,
      "outputs": []
    },
    {
      "cell_type": "code",
      "source": [
        "\n",
        "# создадим новый DataFrame, где будут только строки, в которых больше 7 слов\n",
        "df_filtered = df3[df3['Заключение'].str.split().apply(len) > 7]\n",
        "\n",
        "# для строк, где больше 6 слов, возьмем только последние слова\n",
        "df_filtered['Заключение'] = df_filtered['Заключение'].apply(lambda x: ' '.join(x.split(' ')[6:]))\n",
        "\n",
        "# объединим отфильтрованные строки с исходным DataFrame\n",
        "result_df = pd.concat([df_filtered, df3[df3['Заключение'].str.split().apply(len) <= 7]])\n",
        "\n",
        "# выведем результат\n",
        "result_df['Заключение'][3::]\n"
      ],
      "metadata": {
        "id": "cFQl5VnwtrIh"
      },
      "execution_count": null,
      "outputs": []
    },
    {
      "cell_type": "code",
      "source": [
        "# выборка строк, содержащих скобки в колонке 'Заключение' и удаление скобок\n",
        "result_df = result_df[result_df['Заключение'].str.contains('\\(')]\n",
        "result_df['Заключение'] = result_df['Заключение'].str.replace('\\(|\\)', '')"
      ],
      "metadata": {
        "id": "KBixkigB0TAY"
      },
      "execution_count": null,
      "outputs": []
    },
    {
      "cell_type": "code",
      "source": [
        "# Уникальные значения колонки\n",
        "display(result_df['Заключение'].unique())"
      ],
      "metadata": {
        "id": "NlKuJtS-rUu6"
      },
      "execution_count": null,
      "outputs": []
    },
    {
      "cell_type": "code",
      "source": [
        "result_df['Заключение']"
      ],
      "metadata": {
        "colab": {
          "base_uri": "https://localhost:8080/"
        },
        "id": "Wdu-_9bn06LS",
        "outputId": "03e29a44-a7ae-4f80-f491-04e7cfac9fbc"
      },
      "execution_count": null,
      "outputs": [
        {
          "output_type": "execute_result",
          "data": {
            "text/plain": [
              "93         с коррекцией зрения кроме п. 17\n",
              "115        с коррекцией зрения кроме п.17.\n",
              "918         с коррекцией зрения кроме п.17\n",
              "931        с коррекцией зрения кроме п.6.1\n",
              "933        с коррекцией зрения кроме п.6.1\n",
              "                       ...                \n",
              "30626    без работ на высотах кроме п.6.1.\n",
              "30824     с коррекцией зрения кроме п.6.2.\n",
              "31756     с коррекцией зрения кроме п.6.1.\n",
              "31799     с коррекцией зрения кроме п.6.1.\n",
              "31841     с коррекцией зрения кроме п.6.1.\n",
              "Name: Заключение, Length: 104, dtype: object"
            ]
          },
          "metadata": {},
          "execution_count": 179
        }
      ]
    },
    {
      "cell_type": "markdown",
      "source": [
        "Гинекология1_МКБ101"
      ],
      "metadata": {
        "id": "EV9fW4Bs_V16"
      }
    },
    {
      "cell_type": "code",
      "source": [
        "# Уникальные значения колонки\n",
        "display(df3['Гинекология1_МКБ101'].unique())"
      ],
      "metadata": {
        "id": "mafSxsigdFYa",
        "colab": {
          "base_uri": "https://localhost:8080/",
          "height": 138
        },
        "outputId": "1baa6795-be74-4b26-83aa-f678fba0a37a"
      },
      "execution_count": null,
      "outputs": [
        {
          "output_type": "display_data",
          "data": {
            "text/plain": [
              "array(['Z00.0', 'Нет данных', 'N88.0', 'D25', 'Z32.1', 'N95.2', 'D24',\n",
              "       'N70.9', 'N60.2', 'N95.1', 'H52.1', 'N81.2', 'N84.1', 'N89.4',\n",
              "       'N80.0', 'I11.9', 'M15.9', 'D25.9', 'K64.3', 'N86', 'O00.0',\n",
              "       'N90.4', 'D25.0', 'N85', 'N63', 'C50.4', 'N83.2', 'N90.9', 'N91.2',\n",
              "       'N76.1', 'N81.4', 'N95.3', 'N72', 'O34.0', 'N94.8', 'E22.1',\n",
              "       'N88.4', 'N30.2', 'N87.9', 'N85.9', 'N73.9', 'N92.6', 'N95.9',\n",
              "       'N81.9'], dtype=object)"
            ]
          },
          "metadata": {}
        }
      ]
    },
    {
      "cell_type": "code",
      "source": [
        "index_list_2 = df3[(df3['Гинекология1_МКБ101'] == 'Годен к работе в указанных условиях')].index.tolist()"
      ],
      "metadata": {
        "id": "23bKrGpvfhJU"
      },
      "execution_count": null,
      "outputs": []
    },
    {
      "cell_type": "code",
      "source": [
        "# токенизация строк по запятой\n",
        "df3['Гинекология1_МКБ101'] = df3['Гинекология1_МКБ101'].apply(lambda x: x.split(','))\n",
        "\n",
        "# конвертация в матрицу Bag of Words\n",
        "vectorizer = CountVectorizer(binary=True)\n",
        "X = vectorizer.fit_transform(df3['Гинекология1_МКБ101'].apply(lambda x: ', '.join(x)))\n",
        "x_tr = X.toarray()"
      ],
      "metadata": {
        "id": "xOlDn_DQ3237"
      },
      "execution_count": null,
      "outputs": []
    },
    {
      "cell_type": "code",
      "source": [
        "df3.drop(index_list_2, inplace=True)"
      ],
      "metadata": {
        "id": "h_2vAbUAfm13"
      },
      "execution_count": null,
      "outputs": []
    },
    {
      "cell_type": "code",
      "source": [
        "df_edit.head(1)"
      ],
      "metadata": {
        "id": "q6MHdAcvs8S7"
      },
      "execution_count": null,
      "outputs": []
    },
    {
      "cell_type": "markdown",
      "source": [
        "ДАЛЕЕ РАБОТА НЕ ПРОИЗВОДИЛАСЬ"
      ],
      "metadata": {
        "id": "vGjOE11R9EGb"
      }
    },
    {
      "cell_type": "markdown",
      "metadata": {
        "id": "WXt5FW2XF7iH"
      },
      "source": [
        "# Формирование классов\n",
        "Ввиду того что задача создаваемой НС носит характер \"Рекомендательной системы\"\n",
        "по этому колонки \"ЗаключениеМК\" и колонок с \"МКБ\" для полноценного анализа не достаточно так как данные содержащиеся в этих колонках разбалансированны и мало информативны для  рекомендации.\n",
        "\n",
        "Есть версия что в колонке \"ЗаключениеМК\" надо рассматривать два класса \"Годен\" для однозначных решений, и класс  'НуждаетсяВДообследовании' когда есть наличие каких либо отклонений.  Так как для рекомендации необходимо понимание самой рекомендации необходимо реализовать отсыл к заключениям специалистов которые обнаружили отклонения. При фомировании архитектуры НС для эффективности обучения следует расматривать столбцы с уже приобретёнными болезнями и явными диагнозами такие как\n",
        "'Заключение', \"ЖалобыДополнение\" в виде отрицательных факторов 'диагноза', подавая их на отдельный вход вместе с колонками группы персона.\n",
        "\n",
        "-Так мы устраняем разбалансировку и даём вектор поиска патологий, но метод не будет работать если рассматривать профессии разных групп риска в одном поле.\n",
        "\n",
        "-Для более точной работы \"НС\" к примеру не желательно рассматривать музыканта в одном поле с шахтёром так как разные подходы к требованиям состояний здоровья, для этого и понадобится классификация групп профессий с кластеризацией по факторам риска."
      ]
    },
    {
      "cell_type": "code",
      "execution_count": null,
      "metadata": {
        "id": "CB__dhuiYg1B"
      },
      "outputs": [],
      "source": [
        "# Импорт библиотек и инструментов\n",
        "from google.colab import files              # Импортируем библиотеку files для работы с файлами\n",
        "import pandas as pd                         # Импортируем библиотеку обработки и анализа данных pandas\n",
        "import matplotlib.pyplot as plt             # Импортируем модуль pyplot библиотеки matplotlib для построения графиков\n",
        "import seaborn as sns                       # Импортируем модуль seaborn библиотеки matplotlib для построения графиков\n",
        "import gdown\n",
        "import numpy as np\n",
        "import re\n",
        "from tensorflow.keras import utils\n",
        "from tensorflow.keras.preprocessing.text import Tokenizer, text_to_word_sequence\n",
        "from sklearn.preprocessing import StandardScaler\n",
        "from sklearn.model_selection import train_test_split\n",
        "from IPython.display import clear_output"
      ]
    },
    {
      "cell_type": "code",
      "source": [
        "# Создание копии таблицы\n",
        "health_survey_backup = health_survey.copy()\n",
        "health_survey.head(1)"
      ],
      "metadata": {
        "id": "jskYaoyn427y"
      },
      "execution_count": null,
      "outputs": []
    },
    {
      "cell_type": "markdown",
      "source": [
        "ДАЛЕЕ РАБОТА НЕ ПРОИЗВОДИЛАСЬ"
      ],
      "metadata": {
        "id": "-cWXaUmL86rx"
      }
    },
    {
      "cell_type": "markdown",
      "source": [
        "# Формирование выборок для обучения"
      ],
      "metadata": {
        "id": "IJsOjMxU4MGP"
      }
    },
    {
      "cell_type": "code",
      "source": [
        "# Функция для получения обучающих данных в формате 0/1\n",
        "def get_01_data(data):\n",
        "    x_train = []\n",
        "    y_train = []\n",
        "\n",
        "    for val in data:\n",
        "        y = health_stat(val)\n",
        "        x = get_all_parameters(val)\n",
        "        x_train.append(x)\n",
        "        y_train.append(y)\n",
        "\n",
        "    x_train = np.array(x_train)\n",
        "    y_train = np.array(y_train)\n",
        "\n",
        "    return x_train, y_train\n",
        "\n",
        "x_train, y_train = get_01_data(health_survey.values)"
      ],
      "metadata": {
        "id": "CkmMEcsaYYX0"
      },
      "execution_count": null,
      "outputs": []
    },
    {
      "cell_type": "code",
      "source": [
        "health_survey_subset = health_survey.iloc[:, [1,2,3,4,5]] # Выбор столбцов с нужными индексами\n",
        "text_data = health_survey_subset.to_string(header=False, index=False) # Преобразование в строку\n",
        "tokens = text_data.lower().split() # Приведение к нижнему регистру и токенизация\n"
      ],
      "metadata": {
        "id": "GRuZ5JIflFx6"
      },
      "execution_count": null,
      "outputs": []
    },
    {
      "cell_type": "code",
      "source": [
        "# Создание экземпляра класса CountVectorizer\n",
        "vectorizer = CountVectorizer()\n",
        "\n",
        "# Преобразование токенов в матрицу Bag of Words\n",
        "bow_matrix = vectorizer.fit_transform(tokens)\n",
        "\n",
        "# Преобразование в разреженный массив NumPy\n",
        "sparse_bow_matrix = bow_matrix.toarray()\n"
      ],
      "metadata": {
        "id": "a7e8TC2wlFmo"
      },
      "execution_count": null,
      "outputs": []
    },
    {
      "cell_type": "code",
      "source": [
        "print(sparse_bow_matrix)"
      ],
      "metadata": {
        "colab": {
          "base_uri": "https://localhost:8080/"
        },
        "id": "Un9u2PVBlZE4",
        "outputId": "33decade-7b22-4d6c-8a4e-2c2efcda1aec"
      },
      "execution_count": null,
      "outputs": [
        {
          "output_type": "stream",
          "name": "stdout",
          "text": [
            "[[0 0 0 ... 0 0 0]\n",
            " [0 0 0 ... 0 0 0]\n",
            " [0 0 0 ... 0 0 0]\n",
            " ...\n",
            " [0 0 0 ... 0 0 0]\n",
            " [0 0 0 ... 0 0 0]\n",
            " [0 0 0 ... 0 0 0]]\n"
          ]
        }
      ]
    },
    {
      "cell_type": "code",
      "source": [
        "y_data_01, y_train_01 = Y_to_OHE(dffix5_cut)\n",
        "print (y_data_01[100])\n",
        "print (y_train_01[100])\n",
        "\n",
        "y = np.argmax(y_train_01, axis=-1)\n",
        "print (y[100])"
      ],
      "metadata": {
        "colab": {
          "base_uri": "https://localhost:8080/"
        },
        "id": "a3Fkc_QtoF0r",
        "outputId": "dd3c7d71-7cff-4ad5-cada-da2e4c5608f4"
      },
      "execution_count": null,
      "outputs": [
        {
          "output_type": "stream",
          "name": "stdout",
          "text": [
            "2\n",
            "[0. 0. 1.]\n",
            "2\n"
          ]
        }
      ]
    },
    {
      "cell_type": "markdown",
      "source": [
        "# Эксперименты обучения"
      ],
      "metadata": {
        "id": "oMBZadHylf2S"
      }
    },
    {
      "cell_type": "code",
      "execution_count": null,
      "metadata": {
        "id": "IUabi7gqvBC1"
      },
      "outputs": [],
      "source": [
        "health_stat = pd.read_csv('/content/health_stat.csv')"
      ]
    },
    {
      "cell_type": "code",
      "source": [
        "from tensorflow.keras import utils\n",
        "loss, acc = search.evaluate(x1_test, y_test, verbose=0) #classification\n",
        "mae, _ = search.evaluate(x1_test, y_test, verbose=0) #regression\n",
        "y_predictions = search.predict(x1_test)\n",
        "model = search.export_model()\n",
        "model.summary()\n",
        "utils.plot_model(model, show_shapes=True, show_layer_names=True, dpi=60, show_layer_activations=True, show_trainable=True)"
      ],
      "metadata": {
        "id": "7XDg9AwddDki"
      },
      "execution_count": null,
      "outputs": []
    },
    {
      "cell_type": "code",
      "execution_count": null,
      "metadata": {
        "id": "NcCnm19E8c6X"
      },
      "outputs": [],
      "source": [
        "# Обучаем модель полученными данными\n",
        "model = Sequential()\n",
        "model.add(BatchNormalization(input_shape=(xTrain01.shape[1],)))\n",
        "model.add(Dense(128, activation='relu'))\n",
        "model.add(Dense(1000, activation='tanh'))\n",
        "model.add(Dense(100, activation='relu'))\n",
        "model.add(Dense(1, activation='linear'))\n",
        "\n",
        "model.compile(optimizer=Adam(lr=1e-5), loss='mse', metrics=['mae'])\n",
        "\n",
        "history = model.fit(xTrain01,\n",
        "                    yTrain,\n",
        "                    epochs=50,\n",
        "                    batch_size=32,\n",
        "                    validation_split=0.15,\n",
        "                    verbose=2)\n",
        "\n",
        "plt.plot(history.history['mae'],\n",
        "         label='Средняя абсолютная ошибка на обучающем наборе')\n",
        "plt.plot(history.history['val_mae'],\n",
        "         label='Средняя абсолютная ошибка на проверочном наборе')\n",
        "plt.xlabel('Эпоха обучения')\n",
        "plt.ylabel('Средняя абсолютная ошибка')\n",
        "plt.legend()\n",
        "plt.show()"
      ]
    },
    {
      "cell_type": "code",
      "source": [
        "import autokeras as ak\n",
        "search = ak.StructuredDataClassifier(max_trials=15)\n",
        "search.fit(x=x1_train, y=y_train, verbose=1)"
      ],
      "metadata": {
        "id": "IyfKyeyhcvK6"
      },
      "execution_count": null,
      "outputs": []
    },
    {
      "cell_type": "code",
      "source": [
        "scores2 = model_final.evaluate([x1_val, x2_val, x3_val],\n",
        "                        y_val,\n",
        "                        verbose=1\n",
        "                        )\n",
        "plt.plot(history.history['accuracy'],\n",
        "         label='Доля верных ответов на обучающем наборе')\n",
        "\n",
        "# Визуализация точности на проверочной выборке\n",
        "plt.plot(history.history['val_accuracy'],\n",
        "         label='Доля верных ответов на проверочном наборе')\n",
        "\n",
        "# Отрисовка подписей осей\n",
        "plt.xlabel('Эпоха обучения')\n",
        "plt.ylabel('Доля верных ответов')\n",
        "\n",
        "# Отрисовка легенды\n",
        "plt.legend()\n",
        "\n",
        "# Вывод графика\n",
        "plt.show()\n",
        "\n",
        "\n",
        "plt.plot(history.history['loss'],\n",
        "         label='Ошибка на обучающем наборе')\n",
        "\n",
        "plt.plot(history.history['val_loss'],\n",
        "         label='Ошибка на проверочном наборе')\n",
        "\n",
        "plt.xlabel('Эпоха обучения')\n",
        "plt.ylabel('Ошибка')\n",
        "\n",
        "plt.legend()\n",
        "\n",
        "plt.show()"
      ],
      "metadata": {
        "id": "RaNUj7qVe0Hn"
      },
      "execution_count": null,
      "outputs": []
    }
  ],
  "metadata": {
    "colab": {
      "collapsed_sections": [
        "8gwbrbmV-Th-",
        "bQ-reBL1LrLd",
        "wlQ2MAoAvZUy",
        "XnzlbvgQ8mLL",
        "IRXnHTWiLIZ8",
        "KEhcbKIDBa6s",
        "2hZ_oBptqmtF",
        "XHx20J3o2kMj",
        "WXt5FW2XF7iH",
        "IJsOjMxU4MGP",
        "oMBZadHylf2S"
      ],
      "provenance": [],
      "mount_file_id": "1LSPRVNb0fOuCEl39kefOhzZ2R7i0OvTn",
      "authorship_tag": "ABX9TyP7NYC1SCsmiQevzP8SOlZY",
      "include_colab_link": true
    },
    "kernelspec": {
      "display_name": "Python 3",
      "name": "python3"
    },
    "language_info": {
      "name": "python"
    }
  },
  "nbformat": 4,
  "nbformat_minor": 0
}