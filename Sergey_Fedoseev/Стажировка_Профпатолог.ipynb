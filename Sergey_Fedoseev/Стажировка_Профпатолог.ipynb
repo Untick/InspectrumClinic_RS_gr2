{
  "nbformat": 4,
  "nbformat_minor": 0,
  "metadata": {
    "colab": {
      "provenance": [],
      "gpuType": "T4",
      "mount_file_id": "1j55L8oGAQCv-fkDPQKTTlddrik1SvXJL",
      "authorship_tag": "ABX9TyOGviPmXGS3osk5doQZGZNn",
      "include_colab_link": true
    },
    "kernelspec": {
      "name": "python3",
      "display_name": "Python 3"
    },
    "language_info": {
      "name": "python"
    },
    "accelerator": "GPU"
  },
  "cells": [
    {
      "cell_type": "markdown",
      "metadata": {
        "id": "view-in-github",
        "colab_type": "text"
      },
      "source": [
        "<a href=\"https://colab.research.google.com/github/Untick/InspectrumClinic_RS_gr2/blob/main/Sergey_Fedoseev/%D0%A1%D1%82%D0%B0%D0%B6%D0%B8%D1%80%D0%BE%D0%B2%D0%BA%D0%B0_%D0%9F%D1%80%D0%BE%D1%84%D0%BF%D0%B0%D1%82%D0%BE%D0%BB%D0%BE%D0%B3.ipynb\" target=\"_parent\"><img src=\"https://colab.research.google.com/assets/colab-badge.svg\" alt=\"Open In Colab\"/></a>"
      ]
    },
    {
      "cell_type": "markdown",
      "source": [
        "# Исследование датасета"
      ],
      "metadata": {
        "id": "5wf4PAFFJ6nC"
      }
    },
    {
      "cell_type": "code",
      "source": [
        "# Импорт библиотеки для работы с массивами данных\n",
        "import numpy as np\n",
        "\n",
        "# Импорт библиотеки для работы с таблицами\n",
        "import pandas as pd\n",
        "\n",
        "# Загрузка файла из облака в colab\n",
        "import gdown\n",
        "gdown.download('https://storage.yandexcloud.net/terratraineeship/23_InspectrumClinic_RS/datasets/26.06%20new%20dataset.zip', None, quiet=True)\n"
      ],
      "metadata": {
        "id": "-FKRofizJ-bG",
        "colab": {
          "base_uri": "https://localhost:8080/",
          "height": 35
        },
        "outputId": "89e79804-0d42-45ee-c0d1-5a406a7bdae5"
      },
      "execution_count": 34,
      "outputs": [
        {
          "output_type": "execute_result",
          "data": {
            "text/plain": [
              "'26.06%20new%20dataset.zip'"
            ],
            "application/vnd.google.colaboratory.intrinsic+json": {
              "type": "string"
            }
          },
          "metadata": {},
          "execution_count": 34
        }
      ]
    },
    {
      "cell_type": "code",
      "source": [
        "# Распаковка архива, сохранение нужного файла в текущую директорию\n",
        "from zipfile import ZipFile\n",
        "zipfile = '26.06%20new%20dataset.zip'\n",
        "z = ZipFile(zipfile)\n",
        "z.infolist()"
      ],
      "metadata": {
        "colab": {
          "base_uri": "https://localhost:8080/"
        },
        "id": "V205cKblQGh7",
        "outputId": "acfbb655-10a6-484c-bd77-7ee7ae9d7aa4"
      },
      "execution_count": 35,
      "outputs": [
        {
          "output_type": "execute_result",
          "data": {
            "text/plain": [
              "[<ZipInfo filename='26.06 new dataset/' external_attr=0x10>,\n",
              " <ZipInfo filename='26.06 new dataset/neiro-08-22.csv' compress_type=deflate filemode='?-------w-' external_attr=0x20 file_size=3911367 compress_size=561955>,\n",
              " <ZipInfo filename='26.06 new dataset/neiro-09-22 (1).csv' compress_type=deflate filemode='?-------w-' external_attr=0x20 file_size=3335018 compress_size=485294>,\n",
              " <ZipInfo filename='26.06 new dataset/neiro-10-22.csv' compress_type=deflate filemode='?-------w-' external_attr=0x20 file_size=3146520 compress_size=468107>,\n",
              " <ZipInfo filename='26.06 new dataset/neiro_01-22.csv' compress_type=deflate filemode='?-------w-' external_attr=0x20 file_size=3195307 compress_size=278917>,\n",
              " <ZipInfo filename='26.06 new dataset/neiro_01_23.csv' compress_type=deflate filemode='?-------w-' external_attr=0x20 file_size=2827159 compress_size=424206>,\n",
              " <ZipInfo filename='26.06 new dataset/neiro_02-22.csv' compress_type=deflate filemode='?-------w-' external_attr=0x20 file_size=2278184 compress_size=198424>,\n",
              " <ZipInfo filename='26.06 new dataset/neiro_02_23.csv' compress_type=deflate filemode='?-------w-' external_attr=0x20 file_size=3269544 compress_size=452020>,\n",
              " <ZipInfo filename='26.06 new dataset/neiro_03-22.csv' compress_type=deflate filemode='?-------w-' external_attr=0x20 file_size=4273749 compress_size=351783>,\n",
              " <ZipInfo filename='26.06 new dataset/neiro_03_23.csv' compress_type=deflate filemode='?-------w-' external_attr=0x20 file_size=3553226 compress_size=468689>,\n",
              " <ZipInfo filename='26.06 new dataset/neiro_04-22.csv' compress_type=deflate filemode='?-------w-' external_attr=0x20 file_size=3724645 compress_size=327824>,\n",
              " <ZipInfo filename='26.06 new dataset/neiro_04_23.csv' compress_type=deflate filemode='?-------w-' external_attr=0x20 file_size=2998222 compress_size=432927>,\n",
              " <ZipInfo filename='26.06 new dataset/neiro_05-22.csv' compress_type=deflate filemode='?-------w-' external_attr=0x20 file_size=3756365 compress_size=338186>,\n",
              " <ZipInfo filename='26.06 new dataset/neiro_05_23.csv' compress_type=deflate filemode='?-------w-' external_attr=0x20 file_size=4398222 compress_size=589445>,\n",
              " <ZipInfo filename='26.06 new dataset/neiro_06-22.csv' compress_type=deflate filemode='?-------w-' external_attr=0x20 file_size=4615398 compress_size=480417>,\n",
              " <ZipInfo filename='26.06 new dataset/neiro_06-23.csv' compress_type=deflate filemode='?-------w-' external_attr=0x20 file_size=2276112 compress_size=377332>,\n",
              " <ZipInfo filename='26.06 new dataset/neiro_07-22.csv' compress_type=deflate filemode='?-------w-' external_attr=0x20 file_size=2141095 compress_size=339197>,\n",
              " <ZipInfo filename='26.06 new dataset/neiro_12-22.csv' compress_type=deflate filemode='?-------w-' external_attr=0x20 file_size=2587225 compress_size=389742>]"
            ]
          },
          "metadata": {},
          "execution_count": 35
        }
      ]
    },
    {
      "cell_type": "code",
      "source": [
        "from zipfile import ZipFile\n",
        "archive = '26.06%20new%20dataset.zip'\n",
        "zip_file = ZipFile(archive)\n",
        "[text_file.filename for text_file in zip_file.infolist() ]"
      ],
      "metadata": {
        "colab": {
          "base_uri": "https://localhost:8080/"
        },
        "id": "kPbqudWVQgyQ",
        "outputId": "58a9dbd4-596b-4deb-cd6a-a47a80b94c31"
      },
      "execution_count": 36,
      "outputs": [
        {
          "output_type": "execute_result",
          "data": {
            "text/plain": [
              "['26.06 new dataset/',\n",
              " '26.06 new dataset/neiro-08-22.csv',\n",
              " '26.06 new dataset/neiro-09-22 (1).csv',\n",
              " '26.06 new dataset/neiro-10-22.csv',\n",
              " '26.06 new dataset/neiro_01-22.csv',\n",
              " '26.06 new dataset/neiro_01_23.csv',\n",
              " '26.06 new dataset/neiro_02-22.csv',\n",
              " '26.06 new dataset/neiro_02_23.csv',\n",
              " '26.06 new dataset/neiro_03-22.csv',\n",
              " '26.06 new dataset/neiro_03_23.csv',\n",
              " '26.06 new dataset/neiro_04-22.csv',\n",
              " '26.06 new dataset/neiro_04_23.csv',\n",
              " '26.06 new dataset/neiro_05-22.csv',\n",
              " '26.06 new dataset/neiro_05_23.csv',\n",
              " '26.06 new dataset/neiro_06-22.csv',\n",
              " '26.06 new dataset/neiro_06-23.csv',\n",
              " '26.06 new dataset/neiro_07-22.csv',\n",
              " '26.06 new dataset/neiro_12-22.csv']"
            ]
          },
          "metadata": {},
          "execution_count": 36
        }
      ]
    },
    {
      "cell_type": "code",
      "source": [
        "import zipfile\n",
        "archive = '26.06%20new%20dataset.zip'\n",
        "with zipfile.ZipFile(archive, 'r') as zip_file:\n",
        "    zip_file.extract('26.06 new dataset/neiro_06-23.csv', '.')"
      ],
      "metadata": {
        "id": "yPo8kK4VRVSV"
      },
      "execution_count": 37,
      "outputs": []
    },
    {
      "cell_type": "code",
      "source": [
        "# Создадаем переменную data, в которую с помощью функции pd.read_csv() загружаем данные из файла\n",
        "#data = pd.read_csv('/content/26.06 new dataset/neiro_06-23.csv')\n",
        "# Долго не мог загрузить датасет по разным причинам, прописал путь,\n",
        "# но все равно выдавало ошибку (ошибка токенизации:\n",
        "# Ошибка вызвана тем, что в строке 11 файла CSV есть 10 полей, в то время как ожидалось 5 полей.\n",
        "# Это может быть вызвано неправильным форматированием данных в файле CSV или наличием разделителей внутри значений полей.)\n",
        "# Чтобы пропустить строки с ошибками, попробовал использовать аргумент `error_bad_lines=False` в функции `pd.read_csv()`.\n",
        "# Что-то запустилось, но все равно что-то не тосовсем.\n",
        "data = pd.read_csv('/content/26.06 new dataset/neiro_06-23.csv', error_bad_lines=False)\n",
        "# Вывод датасета на экран\n",
        "data"
      ],
      "metadata": {
        "colab": {
          "base_uri": "https://localhost:8080/",
          "height": 1000
        },
        "id": "45ot_MO4PCLE",
        "outputId": "f148a74e-0847-4c31-fb6e-bc975ae5d733"
      },
      "execution_count": 43,
      "outputs": [
        {
          "output_type": "stream",
          "name": "stderr",
          "text": [
            "<ipython-input-43-b1b5df5dce36>:9: FutureWarning: The error_bad_lines argument has been deprecated and will be removed in a future version. Use on_bad_lines in the future.\n",
            "\n",
            "\n",
            "  data = pd.read_csv('/content/26.06 new dataset/neiro_06-23.csv', error_bad_lines=False)\n",
            "Skipping line 11: expected 5 fields, saw 10\n",
            "Skipping line 13: expected 5 fields, saw 6\n",
            "Skipping line 17: expected 5 fields, saw 10\n",
            "Skipping line 33: expected 5 fields, saw 8\n",
            "Skipping line 55: expected 5 fields, saw 7\n",
            "Skipping line 69: expected 5 fields, saw 7\n",
            "Skipping line 119: expected 5 fields, saw 7\n",
            "Skipping line 135: expected 5 fields, saw 6\n",
            "Skipping line 193: expected 5 fields, saw 6\n",
            "Skipping line 487: expected 5 fields, saw 14\n",
            "Skipping line 517: expected 5 fields, saw 6\n",
            "Skipping line 535: expected 5 fields, saw 8\n",
            "Skipping line 719: expected 5 fields, saw 15\n",
            "Skipping line 720: expected 5 fields, saw 14\n",
            "Skipping line 734: expected 5 fields, saw 15\n",
            "Skipping line 898: expected 5 fields, saw 9\n",
            "Skipping line 980: expected 5 fields, saw 6\n",
            "Skipping line 1189: expected 5 fields, saw 9\n",
            "Skipping line 1205: expected 5 fields, saw 8\n",
            "Skipping line 1223: expected 5 fields, saw 8\n",
            "Skipping line 1395: expected 5 fields, saw 10\n",
            "Skipping line 1411: expected 5 fields, saw 8\n",
            "Skipping line 1761: expected 5 fields, saw 8\n",
            "Skipping line 1793: expected 5 fields, saw 8\n",
            "Skipping line 1833: expected 5 fields, saw 6\n",
            "Skipping line 2047: expected 5 fields, saw 7\n",
            "Skipping line 2087: expected 5 fields, saw 8\n",
            "Skipping line 2105: expected 5 fields, saw 16\n",
            "Skipping line 2147: expected 5 fields, saw 13\n",
            "Skipping line 2509: expected 5 fields, saw 10\n",
            "Skipping line 3043: expected 5 fields, saw 8\n",
            "Skipping line 3077: expected 5 fields, saw 7\n",
            "Skipping line 3133: expected 5 fields, saw 6\n",
            "Skipping line 3147: expected 5 fields, saw 6\n",
            "Skipping line 3161: expected 5 fields, saw 8\n",
            "Skipping line 3201: expected 5 fields, saw 9\n",
            "Skipping line 3273: expected 5 fields, saw 6\n",
            "Skipping line 3289: expected 5 fields, saw 8\n",
            "Skipping line 3290: expected 5 fields, saw 8\n",
            "Skipping line 3291: expected 5 fields, saw 8\n",
            "Skipping line 3379: expected 5 fields, saw 7\n",
            "Skipping line 3403: expected 5 fields, saw 7\n",
            "Skipping line 3421: expected 5 fields, saw 8\n",
            "Skipping line 3439: expected 5 fields, saw 10\n",
            "Skipping line 3483: expected 5 fields, saw 8\n",
            "Skipping line 3592: expected 5 fields, saw 7\n",
            "Skipping line 3628: expected 5 fields, saw 6\n",
            "Skipping line 3672: expected 5 fields, saw 8\n",
            "Skipping line 3860: expected 5 fields, saw 6\n",
            "Skipping line 3958: expected 5 fields, saw 10\n",
            "Skipping line 3974: expected 5 fields, saw 10\n",
            "Skipping line 4198: expected 5 fields, saw 7\n",
            "Skipping line 4506: expected 5 fields, saw 8\n",
            "Skipping line 4528: expected 5 fields, saw 13\n",
            "Skipping line 4560: expected 5 fields, saw 9\n",
            "Skipping line 4574: expected 5 fields, saw 13\n",
            "Skipping line 4594: expected 5 fields, saw 14\n",
            "Skipping line 4636: expected 5 fields, saw 16\n",
            "Skipping line 4782: expected 5 fields, saw 7\n",
            "Skipping line 4798: expected 5 fields, saw 8\n",
            "Skipping line 4816: expected 5 fields, saw 6\n",
            "Skipping line 4852: expected 5 fields, saw 11\n",
            "Skipping line 4866: expected 5 fields, saw 13\n",
            "Skipping line 4884: expected 5 fields, saw 17\n",
            "Skipping line 4900: expected 5 fields, saw 11\n",
            "Skipping line 4918: expected 5 fields, saw 12\n",
            "Skipping line 4934: expected 5 fields, saw 8\n",
            "Skipping line 4948: expected 5 fields, saw 8\n",
            "Skipping line 4962: expected 5 fields, saw 6\n",
            "Skipping line 4976: expected 5 fields, saw 8\n",
            "Skipping line 5034: expected 5 fields, saw 6\n",
            "Skipping line 5078: expected 5 fields, saw 11\n",
            "Skipping line 5094: expected 5 fields, saw 6\n",
            "Skipping line 5143: expected 5 fields, saw 7\n",
            "Skipping line 5203: expected 5 fields, saw 8\n",
            "Skipping line 5251: expected 5 fields, saw 12\n",
            "Skipping line 5327: expected 5 fields, saw 9\n",
            "Skipping line 5374: expected 5 fields, saw 11\n",
            "Skipping line 6176: expected 5 fields, saw 8\n",
            "Skipping line 6220: expected 5 fields, saw 6\n",
            "Skipping line 6758: expected 5 fields, saw 8\n",
            "Skipping line 6850: expected 5 fields, saw 6\n",
            "Skipping line 6864: expected 5 fields, saw 6\n",
            "Skipping line 6904: expected 5 fields, saw 16\n",
            "Skipping line 6905: expected 5 fields, saw 7\n",
            "Skipping line 6921: expected 5 fields, saw 10\n",
            "Skipping line 6992: expected 5 fields, saw 10\n",
            "Skipping line 7034: expected 5 fields, saw 10\n",
            "Skipping line 7072: expected 5 fields, saw 8\n",
            "Skipping line 7073: expected 5 fields, saw 8\n",
            "Skipping line 7074: expected 5 fields, saw 8\n",
            "Skipping line 7075: expected 5 fields, saw 9\n",
            "Skipping line 7155: expected 5 fields, saw 7\n",
            "Skipping line 7187: expected 5 fields, saw 8\n",
            "Skipping line 7188: expected 5 fields, saw 8\n",
            "Skipping line 7189: expected 5 fields, saw 8\n",
            "Skipping line 7190: expected 5 fields, saw 9\n",
            "Skipping line 7191: expected 5 fields, saw 9\n",
            "Skipping line 7233: expected 5 fields, saw 6\n",
            "Skipping line 7247: expected 5 fields, saw 14\n",
            "Skipping line 7329: expected 5 fields, saw 7\n",
            "Skipping line 7345: expected 5 fields, saw 7\n",
            "Skipping line 7445: expected 5 fields, saw 8\n",
            "Skipping line 7637: expected 5 fields, saw 6\n",
            "Skipping line 7763: expected 5 fields, saw 8\n",
            "Skipping line 7777: expected 5 fields, saw 6\n",
            "Skipping line 7819: expected 5 fields, saw 8\n",
            "Skipping line 7969: expected 5 fields, saw 7\n",
            "Skipping line 8129: expected 5 fields, saw 7\n",
            "Skipping line 8169: expected 5 fields, saw 7\n",
            "Skipping line 8249: expected 5 fields, saw 8\n",
            "Skipping line 8350: expected 5 fields, saw 7\n",
            "Skipping line 8422: expected 5 fields, saw 6\n",
            "Skipping line 8500: expected 5 fields, saw 12\n",
            "Skipping line 8820: expected 5 fields, saw 8\n",
            "Skipping line 8880: expected 5 fields, saw 8\n",
            "Skipping line 8928: expected 5 fields, saw 7\n",
            "Skipping line 8952: expected 5 fields, saw 9\n",
            "Skipping line 9002: expected 5 fields, saw 6\n",
            "Skipping line 9220: expected 5 fields, saw 7\n",
            "Skipping line 9603: expected 5 fields, saw 6\n",
            "Skipping line 9879: expected 5 fields, saw 7\n",
            "Skipping line 9895: expected 5 fields, saw 8\n",
            "Skipping line 10016: expected 5 fields, saw 7\n",
            "Skipping line 10048: expected 5 fields, saw 6\n",
            "Skipping line 10183: expected 5 fields, saw 6\n",
            "Skipping line 10221: expected 5 fields, saw 8\n",
            "Skipping line 10607: expected 5 fields, saw 7\n",
            "Skipping line 10634: expected 5 fields, saw 8\n",
            "Skipping line 10650: expected 5 fields, saw 8\n",
            "Skipping line 10668: expected 5 fields, saw 8\n",
            "Skipping line 10678: expected 5 fields, saw 8\n",
            "Skipping line 10990: expected 5 fields, saw 8\n",
            "Skipping line 11036: expected 5 fields, saw 7\n",
            "Skipping line 11050: expected 5 fields, saw 12\n",
            "Skipping line 11062: expected 5 fields, saw 8\n",
            "Skipping line 11188: expected 5 fields, saw 7\n",
            "Skipping line 11288: expected 5 fields, saw 9\n",
            "Skipping line 11312: expected 5 fields, saw 14\n",
            "Skipping line 11326: expected 5 fields, saw 7\n",
            "Skipping line 11352: expected 5 fields, saw 8\n",
            "Skipping line 11380: expected 5 fields, saw 9\n",
            "Skipping line 11381: expected 5 fields, saw 9\n",
            "Skipping line 11392: expected 5 fields, saw 6\n",
            "Skipping line 11393: expected 5 fields, saw 6\n",
            "Skipping line 11409: expected 5 fields, saw 8\n",
            "Skipping line 11479: expected 5 fields, saw 10\n",
            "Skipping line 11498: expected 5 fields, saw 7\n",
            "Skipping line 11750: expected 5 fields, saw 8\n",
            "Skipping line 11875: expected 5 fields, saw 7\n",
            "\n"
          ]
        },
        {
          "output_type": "error",
          "ename": "ParserError",
          "evalue": "ignored",
          "traceback": [
            "\u001b[0;31m---------------------------------------------------------------------------\u001b[0m",
            "\u001b[0;31mParserError\u001b[0m                               Traceback (most recent call last)",
            "\u001b[0;32m<ipython-input-43-b1b5df5dce36>\u001b[0m in \u001b[0;36m<cell line: 9>\u001b[0;34m()\u001b[0m\n\u001b[1;32m      7\u001b[0m \u001b[0;31m# Чтобы пропустить строки с ошибками, попробовал использовать аргумент `error_bad_lines=False` в функции `pd.read_csv()`.\u001b[0m\u001b[0;34m\u001b[0m\u001b[0;34m\u001b[0m\u001b[0m\n\u001b[1;32m      8\u001b[0m \u001b[0;31m# Что-то запустилось, но все равно что-то не тосовсем.\u001b[0m\u001b[0;34m\u001b[0m\u001b[0;34m\u001b[0m\u001b[0m\n\u001b[0;32m----> 9\u001b[0;31m \u001b[0mdata\u001b[0m \u001b[0;34m=\u001b[0m \u001b[0mpd\u001b[0m\u001b[0;34m.\u001b[0m\u001b[0mread_csv\u001b[0m\u001b[0;34m(\u001b[0m\u001b[0;34m'/content/26.06 new dataset/neiro_06-23.csv'\u001b[0m\u001b[0;34m,\u001b[0m \u001b[0merror_bad_lines\u001b[0m\u001b[0;34m=\u001b[0m\u001b[0;32mFalse\u001b[0m\u001b[0;34m)\u001b[0m\u001b[0;34m\u001b[0m\u001b[0;34m\u001b[0m\u001b[0m\n\u001b[0m\u001b[1;32m     10\u001b[0m \u001b[0;31m# Вывод датасета на экран\u001b[0m\u001b[0;34m\u001b[0m\u001b[0;34m\u001b[0m\u001b[0m\n\u001b[1;32m     11\u001b[0m \u001b[0mdata\u001b[0m\u001b[0;34m\u001b[0m\u001b[0;34m\u001b[0m\u001b[0m\n",
            "\u001b[0;32m/usr/local/lib/python3.10/dist-packages/pandas/util/_decorators.py\u001b[0m in \u001b[0;36mwrapper\u001b[0;34m(*args, **kwargs)\u001b[0m\n\u001b[1;32m    209\u001b[0m                 \u001b[0;32melse\u001b[0m\u001b[0;34m:\u001b[0m\u001b[0;34m\u001b[0m\u001b[0;34m\u001b[0m\u001b[0m\n\u001b[1;32m    210\u001b[0m                     \u001b[0mkwargs\u001b[0m\u001b[0;34m[\u001b[0m\u001b[0mnew_arg_name\u001b[0m\u001b[0;34m]\u001b[0m \u001b[0;34m=\u001b[0m \u001b[0mnew_arg_value\u001b[0m\u001b[0;34m\u001b[0m\u001b[0;34m\u001b[0m\u001b[0m\n\u001b[0;32m--> 211\u001b[0;31m             \u001b[0;32mreturn\u001b[0m \u001b[0mfunc\u001b[0m\u001b[0;34m(\u001b[0m\u001b[0;34m*\u001b[0m\u001b[0margs\u001b[0m\u001b[0;34m,\u001b[0m \u001b[0;34m**\u001b[0m\u001b[0mkwargs\u001b[0m\u001b[0;34m)\u001b[0m\u001b[0;34m\u001b[0m\u001b[0;34m\u001b[0m\u001b[0m\n\u001b[0m\u001b[1;32m    212\u001b[0m \u001b[0;34m\u001b[0m\u001b[0m\n\u001b[1;32m    213\u001b[0m         \u001b[0;32mreturn\u001b[0m \u001b[0mcast\u001b[0m\u001b[0;34m(\u001b[0m\u001b[0mF\u001b[0m\u001b[0;34m,\u001b[0m \u001b[0mwrapper\u001b[0m\u001b[0;34m)\u001b[0m\u001b[0;34m\u001b[0m\u001b[0;34m\u001b[0m\u001b[0m\n",
            "\u001b[0;32m/usr/local/lib/python3.10/dist-packages/pandas/util/_decorators.py\u001b[0m in \u001b[0;36mwrapper\u001b[0;34m(*args, **kwargs)\u001b[0m\n\u001b[1;32m    329\u001b[0m                     \u001b[0mstacklevel\u001b[0m\u001b[0;34m=\u001b[0m\u001b[0mfind_stack_level\u001b[0m\u001b[0;34m(\u001b[0m\u001b[0;34m)\u001b[0m\u001b[0;34m,\u001b[0m\u001b[0;34m\u001b[0m\u001b[0;34m\u001b[0m\u001b[0m\n\u001b[1;32m    330\u001b[0m                 )\n\u001b[0;32m--> 331\u001b[0;31m             \u001b[0;32mreturn\u001b[0m \u001b[0mfunc\u001b[0m\u001b[0;34m(\u001b[0m\u001b[0;34m*\u001b[0m\u001b[0margs\u001b[0m\u001b[0;34m,\u001b[0m \u001b[0;34m**\u001b[0m\u001b[0mkwargs\u001b[0m\u001b[0;34m)\u001b[0m\u001b[0;34m\u001b[0m\u001b[0;34m\u001b[0m\u001b[0m\n\u001b[0m\u001b[1;32m    332\u001b[0m \u001b[0;34m\u001b[0m\u001b[0m\n\u001b[1;32m    333\u001b[0m         \u001b[0;31m# error: \"Callable[[VarArg(Any), KwArg(Any)], Any]\" has no\u001b[0m\u001b[0;34m\u001b[0m\u001b[0;34m\u001b[0m\u001b[0m\n",
            "\u001b[0;32m/usr/local/lib/python3.10/dist-packages/pandas/io/parsers/readers.py\u001b[0m in \u001b[0;36mread_csv\u001b[0;34m(filepath_or_buffer, sep, delimiter, header, names, index_col, usecols, squeeze, prefix, mangle_dupe_cols, dtype, engine, converters, true_values, false_values, skipinitialspace, skiprows, skipfooter, nrows, na_values, keep_default_na, na_filter, verbose, skip_blank_lines, parse_dates, infer_datetime_format, keep_date_col, date_parser, dayfirst, cache_dates, iterator, chunksize, compression, thousands, decimal, lineterminator, quotechar, quoting, doublequote, escapechar, comment, encoding, encoding_errors, dialect, error_bad_lines, warn_bad_lines, on_bad_lines, delim_whitespace, low_memory, memory_map, float_precision, storage_options)\u001b[0m\n\u001b[1;32m    948\u001b[0m     \u001b[0mkwds\u001b[0m\u001b[0;34m.\u001b[0m\u001b[0mupdate\u001b[0m\u001b[0;34m(\u001b[0m\u001b[0mkwds_defaults\u001b[0m\u001b[0;34m)\u001b[0m\u001b[0;34m\u001b[0m\u001b[0;34m\u001b[0m\u001b[0m\n\u001b[1;32m    949\u001b[0m \u001b[0;34m\u001b[0m\u001b[0m\n\u001b[0;32m--> 950\u001b[0;31m     \u001b[0;32mreturn\u001b[0m \u001b[0m_read\u001b[0m\u001b[0;34m(\u001b[0m\u001b[0mfilepath_or_buffer\u001b[0m\u001b[0;34m,\u001b[0m \u001b[0mkwds\u001b[0m\u001b[0;34m)\u001b[0m\u001b[0;34m\u001b[0m\u001b[0;34m\u001b[0m\u001b[0m\n\u001b[0m\u001b[1;32m    951\u001b[0m \u001b[0;34m\u001b[0m\u001b[0m\n\u001b[1;32m    952\u001b[0m \u001b[0;34m\u001b[0m\u001b[0m\n",
            "\u001b[0;32m/usr/local/lib/python3.10/dist-packages/pandas/io/parsers/readers.py\u001b[0m in \u001b[0;36m_read\u001b[0;34m(filepath_or_buffer, kwds)\u001b[0m\n\u001b[1;32m    609\u001b[0m \u001b[0;34m\u001b[0m\u001b[0m\n\u001b[1;32m    610\u001b[0m     \u001b[0;32mwith\u001b[0m \u001b[0mparser\u001b[0m\u001b[0;34m:\u001b[0m\u001b[0;34m\u001b[0m\u001b[0;34m\u001b[0m\u001b[0m\n\u001b[0;32m--> 611\u001b[0;31m         \u001b[0;32mreturn\u001b[0m \u001b[0mparser\u001b[0m\u001b[0;34m.\u001b[0m\u001b[0mread\u001b[0m\u001b[0;34m(\u001b[0m\u001b[0mnrows\u001b[0m\u001b[0;34m)\u001b[0m\u001b[0;34m\u001b[0m\u001b[0;34m\u001b[0m\u001b[0m\n\u001b[0m\u001b[1;32m    612\u001b[0m \u001b[0;34m\u001b[0m\u001b[0m\n\u001b[1;32m    613\u001b[0m \u001b[0;34m\u001b[0m\u001b[0m\n",
            "\u001b[0;32m/usr/local/lib/python3.10/dist-packages/pandas/io/parsers/readers.py\u001b[0m in \u001b[0;36mread\u001b[0;34m(self, nrows)\u001b[0m\n\u001b[1;32m   1776\u001b[0m                     \u001b[0mcolumns\u001b[0m\u001b[0;34m,\u001b[0m\u001b[0;34m\u001b[0m\u001b[0;34m\u001b[0m\u001b[0m\n\u001b[1;32m   1777\u001b[0m                     \u001b[0mcol_dict\u001b[0m\u001b[0;34m,\u001b[0m\u001b[0;34m\u001b[0m\u001b[0;34m\u001b[0m\u001b[0m\n\u001b[0;32m-> 1778\u001b[0;31m                 \u001b[0;34m)\u001b[0m \u001b[0;34m=\u001b[0m \u001b[0mself\u001b[0m\u001b[0;34m.\u001b[0m\u001b[0m_engine\u001b[0m\u001b[0;34m.\u001b[0m\u001b[0mread\u001b[0m\u001b[0;34m(\u001b[0m  \u001b[0;31m# type: ignore[attr-defined]\u001b[0m\u001b[0;34m\u001b[0m\u001b[0;34m\u001b[0m\u001b[0m\n\u001b[0m\u001b[1;32m   1779\u001b[0m                     \u001b[0mnrows\u001b[0m\u001b[0;34m\u001b[0m\u001b[0;34m\u001b[0m\u001b[0m\n\u001b[1;32m   1780\u001b[0m                 )\n",
            "\u001b[0;32m/usr/local/lib/python3.10/dist-packages/pandas/io/parsers/c_parser_wrapper.py\u001b[0m in \u001b[0;36mread\u001b[0;34m(self, nrows)\u001b[0m\n\u001b[1;32m    228\u001b[0m         \u001b[0;32mtry\u001b[0m\u001b[0;34m:\u001b[0m\u001b[0;34m\u001b[0m\u001b[0;34m\u001b[0m\u001b[0m\n\u001b[1;32m    229\u001b[0m             \u001b[0;32mif\u001b[0m \u001b[0mself\u001b[0m\u001b[0;34m.\u001b[0m\u001b[0mlow_memory\u001b[0m\u001b[0;34m:\u001b[0m\u001b[0;34m\u001b[0m\u001b[0;34m\u001b[0m\u001b[0m\n\u001b[0;32m--> 230\u001b[0;31m                 \u001b[0mchunks\u001b[0m \u001b[0;34m=\u001b[0m \u001b[0mself\u001b[0m\u001b[0;34m.\u001b[0m\u001b[0m_reader\u001b[0m\u001b[0;34m.\u001b[0m\u001b[0mread_low_memory\u001b[0m\u001b[0;34m(\u001b[0m\u001b[0mnrows\u001b[0m\u001b[0;34m)\u001b[0m\u001b[0;34m\u001b[0m\u001b[0;34m\u001b[0m\u001b[0m\n\u001b[0m\u001b[1;32m    231\u001b[0m                 \u001b[0;31m# destructive to chunks\u001b[0m\u001b[0;34m\u001b[0m\u001b[0;34m\u001b[0m\u001b[0m\n\u001b[1;32m    232\u001b[0m                 \u001b[0mdata\u001b[0m \u001b[0;34m=\u001b[0m \u001b[0m_concatenate_chunks\u001b[0m\u001b[0;34m(\u001b[0m\u001b[0mchunks\u001b[0m\u001b[0;34m)\u001b[0m\u001b[0;34m\u001b[0m\u001b[0;34m\u001b[0m\u001b[0m\n",
            "\u001b[0;32m/usr/local/lib/python3.10/dist-packages/pandas/_libs/parsers.pyx\u001b[0m in \u001b[0;36mpandas._libs.parsers.TextReader.read_low_memory\u001b[0;34m()\u001b[0m\n",
            "\u001b[0;32m/usr/local/lib/python3.10/dist-packages/pandas/_libs/parsers.pyx\u001b[0m in \u001b[0;36mpandas._libs.parsers.TextReader._read_rows\u001b[0;34m()\u001b[0m\n",
            "\u001b[0;32m/usr/local/lib/python3.10/dist-packages/pandas/_libs/parsers.pyx\u001b[0m in \u001b[0;36mpandas._libs.parsers.TextReader._tokenize_rows\u001b[0;34m()\u001b[0m\n",
            "\u001b[0;32m/usr/local/lib/python3.10/dist-packages/pandas/_libs/parsers.pyx\u001b[0m in \u001b[0;36mpandas._libs.parsers.raise_parser_error\u001b[0;34m()\u001b[0m\n",
            "\u001b[0;31mParserError\u001b[0m: Error tokenizing data. C error: EOF inside string starting at row 11938"
          ]
        }
      ]
    }
  ]
}