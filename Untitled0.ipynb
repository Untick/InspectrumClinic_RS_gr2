{
  "nbformat": 4,
  "nbformat_minor": 0,
  "metadata": {
    "colab": {
      "provenance": [],
      "authorship_tag": "ABX9TyMLcc9fcksNzivJTwYRHL64",
      "include_colab_link": true
    },
    "kernelspec": {
      "name": "python3",
      "display_name": "Python 3"
    },
    "language_info": {
      "name": "python"
    }
  },
  "cells": [
    {
      "cell_type": "markdown",
      "metadata": {
        "id": "view-in-github",
        "colab_type": "text"
      },
      "source": [
        "<a href=\"https://colab.research.google.com/github/Untick/InspectrumClinic_RS_gr2/blob/Yurkov-Vladimir-folder/Untitled0.ipynb\" target=\"_parent\"><img src=\"https://colab.research.google.com/assets/colab-badge.svg\" alt=\"Open In Colab\"/></a>"
      ]
    },
    {
      "cell_type": "markdown",
      "source": [
        "Импорт библиотек"
      ],
      "metadata": {
        "id": "BOp93am5D0Vn"
      }
    },
    {
      "cell_type": "code",
      "execution_count": null,
      "metadata": {
        "id": "7MnVyZEADl-E"
      },
      "outputs": [],
      "source": [
        "import pandas as pd\n",
        "import gdown"
      ]
    },
    {
      "cell_type": "markdown",
      "source": [
        "Загрузка данных"
      ],
      "metadata": {
        "id": "0MvqcV2TD6sn"
      }
    },
    {
      "cell_type": "code",
      "source": [
        "url = 'https://storage.yandexcloud.net/terratraineeship/23_InspectrumClinic_RS/datasets/%D0%B4%D0%B0%D1%82%D0%B0%D1%81%D0%B5%D1%82%20%D0%BF%D1%80%D0%BE%D1%84%D0%BF%D0%B0%D1%82%D0%BE%D0%BB%D0%BE%D0%B3%20%D1%87%D0%B0%D1%81%D1%82%D1%8C.xlsx'\n",
        "file_name = 'data.xlsx'\n",
        "gdown.download(url, file_name, quiet=False)"
      ],
      "metadata": {
        "id": "XCe9uIffEMd2"
      },
      "execution_count": null,
      "outputs": []
    },
    {
      "cell_type": "markdown",
      "source": [
        "Создание dataframe из файла"
      ],
      "metadata": {
        "id": "tuqJOERzHdS-"
      }
    },
    {
      "cell_type": "code",
      "source": [
        "df_backup = pd.read_excel(file_name)\n",
        "df_backup.head()"
      ],
      "metadata": {
        "id": "-oxcMKFaHjso"
      },
      "execution_count": null,
      "outputs": []
    },
    {
      "cell_type": "markdown",
      "source": [
        "Копирование и выдача основной информации датафрейма для последующей работы над ним, не изменяя изначальный набор данных."
      ],
      "metadata": {
        "id": "BUfv08IO_RjN"
      }
    },
    {
      "cell_type": "code",
      "source": [
        "df = df_backup.copy()\n",
        "display(df)\n",
        "print()\n",
        "print(\"Форма: \", df.shape)\n",
        "print(\"Количество значений: \", df.size)\n",
        "print()\n",
        "df.info(max_cols=0)\n",
        "print()\n",
        "display(df.dtypes)"
      ],
      "metadata": {
        "id": "NL0B8h6GTomc"
      },
      "execution_count": null,
      "outputs": []
    },
    {
      "cell_type": "markdown",
      "source": [
        "В предоставленных данных могут быть пустые и дублированные записи.\n",
        "\n",
        "Посмотрим и попробуем почистить лишнее."
      ],
      "metadata": {
        "id": "VOfd6DjYBanW"
      }
    },
    {
      "cell_type": "code",
      "source": [
        "print(\"Доля пустых значений:\")\n",
        "display(df.isna().sum() / df.shape[0])\n",
        "print()\n",
        "proc = df.isna().sum().sum() / df.size\n",
        "print(\"Заполненность всей таблицы данными: {:.1%}\".format(proc))"
      ],
      "metadata": {
        "id": "P9cxEWKNXk76"
      },
      "execution_count": null,
      "outputs": []
    },
    {
      "cell_type": "code",
      "source": [
        "print(\"Попытка удаления полностью пустых столбцов и строк...\")\n",
        "print(\"Форма таблицы до операции: \", df.shape)\n",
        "df.dropna(axis=1, how='all')\n",
        "df.dropna(axis=0, how='all')\n",
        "print(\"Форма таблицы после операции:\", df.shape)"
      ],
      "metadata": {
        "id": "9wPkzWK9ZBEy"
      },
      "execution_count": null,
      "outputs": []
    },
    {
      "cell_type": "code",
      "source": [
        "row_sum = df.shape[0]\n",
        "df.drop_duplicates(inplace=True)\n",
        "print(f\"Количество записей с дубликатами: {row_sum}\")\n",
        "print(f\"Количество записей после удаления повторяющихся {df.shape[0]}\")\n",
        "print(f\"Количество удаленных повторяющихся записей: {row_sum - df.shape[0]}\")"
      ],
      "metadata": {
        "id": "GcyFV3M4Bi7H"
      },
      "execution_count": null,
      "outputs": []
    },
    {
      "cell_type": "markdown",
      "source": [
        "Параметр `include=['O']` метода `.describe()` выведет статистику для строковых данных:\n",
        "\n",
        "- **count** - количество заполненных элементов\n",
        "- **unique** - количество уникальных элементов\n",
        "- **top** - самый распространенный элемент\n",
        "- **freq** - сколько раз встречается самый распространенный элемент\n",
        "\n",
        "Выведем статистику по всему датасету."
      ],
      "metadata": {
        "id": "0VeIKyxvc8XJ"
      }
    },
    {
      "cell_type": "code",
      "source": [
        "# Транспонирование (T) для удобства\n",
        "display(df.describe().T.head(10))\n",
        "display(df.describe(include='O').T.head(10))"
      ],
      "metadata": {
        "id": "HvqN5MeywqdS"
      },
      "execution_count": null,
      "outputs": []
    },
    {
      "cell_type": "markdown",
      "source": [
        "Посмотрим какие у нас данные и сколько их"
      ],
      "metadata": {
        "id": "XNxVv4OKTTV5"
      }
    },
    {
      "cell_type": "code",
      "source": [
        "pd.set_option('display.max_rows', None) # (default=20) для сброса pd.reset_option('display.max_rows') | для колонок max_columns\n",
        "#display(df.dtypes)\n",
        "pd.reset_option('display.max_rows')\n",
        "display(df.dtypes.value_counts())"
      ],
      "metadata": {
        "id": "nP6Co21Bm54n"
      },
      "execution_count": null,
      "outputs": []
    },
    {
      "cell_type": "markdown",
      "source": [
        "Изучение детальнее целевой колонки с заключением"
      ],
      "metadata": {
        "id": "d2tHOyq6IOwp"
      }
    },
    {
      "cell_type": "code",
      "source": [
        "df['ЗаключениеМК'].unique()"
      ],
      "metadata": {
        "id": "J5Igg9GYSudw"
      },
      "execution_count": null,
      "outputs": []
    },
    {
      "cell_type": "code",
      "source": [
        "import matplotlib.pyplot as plt\n",
        "plt.style.use('fivethirtyeight')\n",
        "plt.hist(df['ЗаключениеМК'].dropna(), bins = 100, edgecolor = 'k');\n",
        "plt.xticks(rotation='vertical')\n",
        "plt.xlabel('заключение'); plt.ylabel('количество');\n",
        "plt.title('ЗаключениеМК');"
      ],
      "metadata": {
        "id": "NePZ8Zu2wRgz"
      },
      "execution_count": null,
      "outputs": []
    },
    {
      "cell_type": "markdown",
      "source": [
        " ."
      ],
      "metadata": {
        "id": "3djHqSJVwY5g"
      }
    },
    {
      "cell_type": "markdown",
      "source": [
        "По выдаче (`df.describe(include='O').T.head(10)`) видно, что всё еще есть повторяющиеся значения в колонке `'ДокументПрохождениеМедосмотра'` (`freq` > 1), которая *пердположительно* должна быть с уникальными значениями. Посмотрим детально пример повторной записи."
      ],
      "metadata": {
        "id": "mjdXGx1Expw3"
      }
    },
    {
      "cell_type": "code",
      "source": [
        "# Создадим временный датафрейм с выходными данными .describe только колонки 'ДокументПрохождениеМедосмотра'\n",
        "ndoc_ = df['ДокументПрохождениеМедосмотра'].describe(include='O')\n",
        "\n",
        "# Создадим датафрейм для маски с той же структурой, где в местах совпадения чаще всего встречающегося значения (top)\n",
        "# будет проставлен True, а в остальных False\n",
        "mask = df['ДокументПрохождениеМедосмотра'] == ndoc_[2]\n",
        "\n",
        "# Отобразим срез данных по созданной ранее маске, только тех строк,\n",
        "# которые имеют значение наиболее часто встречающегося элемента (top) из выдачи .describe\n",
        "# в колонке 'ДокументПрохождениеМедосмотра'\n",
        "display(df[mask].T)"
      ],
      "metadata": {
        "id": "-jpd-MEnz0UX"
      },
      "execution_count": null,
      "outputs": []
    },
    {
      "cell_type": "markdown",
      "source": [
        "Избавимся от строк, содержащих один и тот же медицинский документ, оставив только одну запись для каждого документа. Сравним количество строк до удаления и после."
      ],
      "metadata": {
        "id": "HEsg3v2izu0E"
      }
    },
    {
      "cell_type": "code",
      "source": [
        "# Сохраним количество строк\n",
        "row_sum = df.shape[0]\n",
        "\n",
        "while True:\n",
        "    ndoc_ = df['ДокументПрохождениеМедосмотра'].describe(include='O')\n",
        "    # если нет дублирующихся данных, то выходим из цикла\n",
        "    if ndoc_[3] < 2: break\n",
        "    mask = df['ДокументПрохождениеМедосмотра'] == ndoc_[2]\n",
        "    # удаляем строки с повтором значением, кроме самой первой\n",
        "    df.drop(df[mask].index[1:], inplace=True)\n",
        "print(\"Количество строк до удаления дублей: \", row_sum)\n",
        "print(\"Количество строк после удаления дублей: \", df.shape[0])\n",
        "print(f\"Удалено {row_sum - df.shape[0]} строк\")"
      ],
      "metadata": {
        "id": "dPl633C0ch4Y"
      },
      "execution_count": null,
      "outputs": []
    },
    {
      "cell_type": "code",
      "source": [
        "df.columns.values.tolist()"
      ],
      "metadata": {
        "id": "w9Qqp51j_3s2"
      },
      "execution_count": null,
      "outputs": []
    }
  ]
}