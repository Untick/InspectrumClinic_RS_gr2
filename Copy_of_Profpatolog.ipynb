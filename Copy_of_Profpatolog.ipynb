{
  "nbformat": 4,
  "nbformat_minor": 0,
  "metadata": {
    "colab": {
      "provenance": [],
      "authorship_tag": "ABX9TyN1og0t9tbDqLcJFIZk45cb",
      "include_colab_link": true
    },
    "kernelspec": {
      "name": "python3",
      "display_name": "Python 3"
    },
    "language_info": {
      "name": "python"
    }
  },
  "cells": [
    {
      "cell_type": "markdown",
      "metadata": {
        "id": "view-in-github",
        "colab_type": "text"
      },
      "source": [
        "<a href=\"https://colab.research.google.com/github/Untick/InspectrumClinic_RS_gr2/blob/Sidorov-Alexander-folder/Copy_of_Profpatolog.ipynb\" target=\"_parent\"><img src=\"https://colab.research.google.com/assets/colab-badge.svg\" alt=\"Open In Colab\"/></a>"
      ]
    },
    {
      "cell_type": "code",
      "source": [
        "#pip install tensorflow-addons\n",
        "#import tensorflow_addons as tfa\n",
        "#from tensorflow_addons import F1Score\n",
        "#print(tfa.metrics.__all__)"
      ],
      "metadata": {
        "id": "GNVbjkru_Fg9"
      },
      "execution_count": 4,
      "outputs": []
    },
    {
      "cell_type": "code",
      "execution_count": null,
      "metadata": {
        "id": "JJ-X3qWbKAj5"
      },
      "outputs": [],
      "source": [
        "from tensorflow.keras.models import Sequential      \n",
        "from tensorflow.keras.layers import Dense, Activation, Dropout, BatchNormalization \n",
        "from tensorflow.keras import utils    \n",
        "from tensorflow.keras.optimizers import Adam  \n",
        "import matplotlib.pyplot as plt    \n",
        "import pandas as pd\n",
        "import numpy as np\n",
        "from sklearn import preprocessing \n",
        "from sklearn.model_selection import train_test_split \n",
        "from sklearn.metrics import confusion_matrix, ConfusionMatrixDisplay\n",
        "from sklearn.metrics import classification_report\n",
        "from tensorflow.keras.metrics import Precision, Recall\n"
      ]
    },
    {
      "cell_type": "code",
      "source": [
        "#from google.colab import files\n",
        "#uploaded = files.upload()\n",
        "\n",
        "import gdown\n",
        "gdown.download('https://storage.yandexcloud.net/terratraineeship/23_InspectrumClinic_RS/datasets/датасет профпатолог часть.xlsx', None, quiet=True)\n",
        "\n",
        "df = pd.read_excel(open('датасет профпатолог часть.xlsx','rb'))\n",
        "df.head()"
      ],
      "metadata": {
        "colab": {
          "base_uri": "https://localhost:8080/",
          "height": 404
        },
        "id": "K2rzF4ilNPcE",
        "outputId": "1fefa64b-0a6e-4c9b-a4b7-b6d6f8d2ad49"
      },
      "execution_count": null,
      "outputs": [
        {
          "output_type": "execute_result",
          "data": {
            "text/plain": [
              "          ДокументПрохождениеМедосмотра                                Клиент  \\\n",
              "0  7f41ca7e-7dac-11ec-80fc-0cc47aab8067  c91e3407-b81f-11e9-80cf-0cc47aab8067   \n",
              "1  2ee1f9ac-83dd-11ec-80fc-0cc47aab8067  1a1a5fea-8b7f-11eb-80e8-0cc47aab8067   \n",
              "2  9cbb191e-8e24-11ec-80fe-0cc47aab8067  7fe324e0-fa51-11eb-80f6-0cc47aab8067   \n",
              "3  b8a33910-8eec-11ec-80fe-0cc47aab8067  98f9d761-8d65-11ec-80fe-0cc47aab8067   \n",
              "4  0bb0d181-938c-11ec-80fe-0cc47aab8067  009aac7d-7bcf-11eb-80e8-0cc47aab8067   \n",
              "\n",
              "  КлиентДатаРождения КлиентПол КлиентПолПредставление  \\\n",
              "0         1976-10-24   Женский                Женский   \n",
              "1         1987-11-18   Мужской                Мужской   \n",
              "2         1985-09-08   Мужской                Мужской   \n",
              "3         1988-04-25   Мужской                Мужской   \n",
              "4         1984-04-17   Мужской                Мужской   \n",
              "\n",
              "  ДатаЗавершенияМедосмотра  ТипМедосмотра ТипМедосмотраПредставление  \\\n",
              "0               2022-01-25  Периодический              Периодический   \n",
              "1               2022-02-02  Периодический              Периодический   \n",
              "2               2022-02-15  Периодический              Периодический   \n",
              "3               2022-02-16  Периодический              Периодический   \n",
              "4               2022-02-22  Периодический              Периодический   \n",
              "\n",
              "   ПсихОсвидетельствование                            Контрагент  ...  \\\n",
              "0                    False  23c173a7-30d9-11e7-80d8-708bcd7f83cd  ...   \n",
              "1                    False  a6d559b0-7835-11eb-80e8-0cc47aab8067  ...   \n",
              "2                    False  a6d559b0-7835-11eb-80e8-0cc47aab8067  ...   \n",
              "3                    False  a6d559b0-7835-11eb-80e8-0cc47aab8067  ...   \n",
              "4                    False  a6d559b0-7835-11eb-80e8-0cc47aab8067  ...   \n",
              "\n",
              "  Оториноларингология3_Аудиометрия1_Значение  \\\n",
              "0                                        NaN   \n",
              "1                                        NaN   \n",
              "2                                        NaN   \n",
              "3                                        NaN   \n",
              "4                                        NaN   \n",
              "\n",
              "  Оториноларингология3_Аудиометрия1_ЗначениеПредставление  \\\n",
              "0                                                NaN        \n",
              "1                                                NaN        \n",
              "2                                                NaN        \n",
              "3                                                NaN        \n",
              "4                                                NaN        \n",
              "\n",
              "  Оториноларингология1_ЖалобыДополнение_Значение  \\\n",
              "0                                            NaN   \n",
              "1                                            NaN   \n",
              "2                                            NaN   \n",
              "3                                            NaN   \n",
              "4                                            NaN   \n",
              "\n",
              "  Оториноларингология1_ЖалобыДополнение_ЗначениеПредставление  \\\n",
              "0                                                NaN            \n",
              "1                                                NaN            \n",
              "2                                                NaN            \n",
              "3                                                NaN            \n",
              "4                                                NaN            \n",
              "\n",
              "  Стоматология2_ВП2_Значение Стоматология2_ВП2_ЗначениеПредставление  \\\n",
              "0                        NaN                                     NaN   \n",
              "1                        NaN                                     NaN   \n",
              "2                        NaN                                     NaN   \n",
              "3                        NaN                                     NaN   \n",
              "4                        NaN                                     NaN   \n",
              "\n",
              "  Терапия2_ЗаключениеФОГК_Значение  \\\n",
              "0                              NaN   \n",
              "1                              NaN   \n",
              "2                              NaN   \n",
              "3                              NaN   \n",
              "4                              NaN   \n",
              "\n",
              "  Терапия2_ЗаключениеФОГК_ЗначениеПредставление  \\\n",
              "0                                           NaN   \n",
              "1                                           NaN   \n",
              "2                                           NaN   \n",
              "3                                           NaN   \n",
              "4                                           NaN   \n",
              "\n",
              "  Офтальмология1_ДвигательныйАппаратГлазДополнение_Значение  \\\n",
              "0                                                NaN          \n",
              "1                                                NaN          \n",
              "2                                                NaN          \n",
              "3                                                NaN          \n",
              "4                                                NaN          \n",
              "\n",
              "  Офтальмология1_ДвигательныйАппаратГлазДополнение_ЗначениеПредставление  \n",
              "0                                                NaN                      \n",
              "1                                                NaN                      \n",
              "2                                                NaN                      \n",
              "3                                                NaN                      \n",
              "4                                                NaN                      \n",
              "\n",
              "[5 rows x 4587 columns]"
            ],
            "text/html": [
              "\n",
              "  <div id=\"df-fc317798-7f97-4c27-94d7-2a84cf8ff57a\">\n",
              "    <div class=\"colab-df-container\">\n",
              "      <div>\n",
              "<style scoped>\n",
              "    .dataframe tbody tr th:only-of-type {\n",
              "        vertical-align: middle;\n",
              "    }\n",
              "\n",
              "    .dataframe tbody tr th {\n",
              "        vertical-align: top;\n",
              "    }\n",
              "\n",
              "    .dataframe thead th {\n",
              "        text-align: right;\n",
              "    }\n",
              "</style>\n",
              "<table border=\"1\" class=\"dataframe\">\n",
              "  <thead>\n",
              "    <tr style=\"text-align: right;\">\n",
              "      <th></th>\n",
              "      <th>ДокументПрохождениеМедосмотра</th>\n",
              "      <th>Клиент</th>\n",
              "      <th>КлиентДатаРождения</th>\n",
              "      <th>КлиентПол</th>\n",
              "      <th>КлиентПолПредставление</th>\n",
              "      <th>ДатаЗавершенияМедосмотра</th>\n",
              "      <th>ТипМедосмотра</th>\n",
              "      <th>ТипМедосмотраПредставление</th>\n",
              "      <th>ПсихОсвидетельствование</th>\n",
              "      <th>Контрагент</th>\n",
              "      <th>...</th>\n",
              "      <th>Оториноларингология3_Аудиометрия1_Значение</th>\n",
              "      <th>Оториноларингология3_Аудиометрия1_ЗначениеПредставление</th>\n",
              "      <th>Оториноларингология1_ЖалобыДополнение_Значение</th>\n",
              "      <th>Оториноларингология1_ЖалобыДополнение_ЗначениеПредставление</th>\n",
              "      <th>Стоматология2_ВП2_Значение</th>\n",
              "      <th>Стоматология2_ВП2_ЗначениеПредставление</th>\n",
              "      <th>Терапия2_ЗаключениеФОГК_Значение</th>\n",
              "      <th>Терапия2_ЗаключениеФОГК_ЗначениеПредставление</th>\n",
              "      <th>Офтальмология1_ДвигательныйАппаратГлазДополнение_Значение</th>\n",
              "      <th>Офтальмология1_ДвигательныйАппаратГлазДополнение_ЗначениеПредставление</th>\n",
              "    </tr>\n",
              "  </thead>\n",
              "  <tbody>\n",
              "    <tr>\n",
              "      <th>0</th>\n",
              "      <td>7f41ca7e-7dac-11ec-80fc-0cc47aab8067</td>\n",
              "      <td>c91e3407-b81f-11e9-80cf-0cc47aab8067</td>\n",
              "      <td>1976-10-24</td>\n",
              "      <td>Женский</td>\n",
              "      <td>Женский</td>\n",
              "      <td>2022-01-25</td>\n",
              "      <td>Периодический</td>\n",
              "      <td>Периодический</td>\n",
              "      <td>False</td>\n",
              "      <td>23c173a7-30d9-11e7-80d8-708bcd7f83cd</td>\n",
              "      <td>...</td>\n",
              "      <td>NaN</td>\n",
              "      <td>NaN</td>\n",
              "      <td>NaN</td>\n",
              "      <td>NaN</td>\n",
              "      <td>NaN</td>\n",
              "      <td>NaN</td>\n",
              "      <td>NaN</td>\n",
              "      <td>NaN</td>\n",
              "      <td>NaN</td>\n",
              "      <td>NaN</td>\n",
              "    </tr>\n",
              "    <tr>\n",
              "      <th>1</th>\n",
              "      <td>2ee1f9ac-83dd-11ec-80fc-0cc47aab8067</td>\n",
              "      <td>1a1a5fea-8b7f-11eb-80e8-0cc47aab8067</td>\n",
              "      <td>1987-11-18</td>\n",
              "      <td>Мужской</td>\n",
              "      <td>Мужской</td>\n",
              "      <td>2022-02-02</td>\n",
              "      <td>Периодический</td>\n",
              "      <td>Периодический</td>\n",
              "      <td>False</td>\n",
              "      <td>a6d559b0-7835-11eb-80e8-0cc47aab8067</td>\n",
              "      <td>...</td>\n",
              "      <td>NaN</td>\n",
              "      <td>NaN</td>\n",
              "      <td>NaN</td>\n",
              "      <td>NaN</td>\n",
              "      <td>NaN</td>\n",
              "      <td>NaN</td>\n",
              "      <td>NaN</td>\n",
              "      <td>NaN</td>\n",
              "      <td>NaN</td>\n",
              "      <td>NaN</td>\n",
              "    </tr>\n",
              "    <tr>\n",
              "      <th>2</th>\n",
              "      <td>9cbb191e-8e24-11ec-80fe-0cc47aab8067</td>\n",
              "      <td>7fe324e0-fa51-11eb-80f6-0cc47aab8067</td>\n",
              "      <td>1985-09-08</td>\n",
              "      <td>Мужской</td>\n",
              "      <td>Мужской</td>\n",
              "      <td>2022-02-15</td>\n",
              "      <td>Периодический</td>\n",
              "      <td>Периодический</td>\n",
              "      <td>False</td>\n",
              "      <td>a6d559b0-7835-11eb-80e8-0cc47aab8067</td>\n",
              "      <td>...</td>\n",
              "      <td>NaN</td>\n",
              "      <td>NaN</td>\n",
              "      <td>NaN</td>\n",
              "      <td>NaN</td>\n",
              "      <td>NaN</td>\n",
              "      <td>NaN</td>\n",
              "      <td>NaN</td>\n",
              "      <td>NaN</td>\n",
              "      <td>NaN</td>\n",
              "      <td>NaN</td>\n",
              "    </tr>\n",
              "    <tr>\n",
              "      <th>3</th>\n",
              "      <td>b8a33910-8eec-11ec-80fe-0cc47aab8067</td>\n",
              "      <td>98f9d761-8d65-11ec-80fe-0cc47aab8067</td>\n",
              "      <td>1988-04-25</td>\n",
              "      <td>Мужской</td>\n",
              "      <td>Мужской</td>\n",
              "      <td>2022-02-16</td>\n",
              "      <td>Периодический</td>\n",
              "      <td>Периодический</td>\n",
              "      <td>False</td>\n",
              "      <td>a6d559b0-7835-11eb-80e8-0cc47aab8067</td>\n",
              "      <td>...</td>\n",
              "      <td>NaN</td>\n",
              "      <td>NaN</td>\n",
              "      <td>NaN</td>\n",
              "      <td>NaN</td>\n",
              "      <td>NaN</td>\n",
              "      <td>NaN</td>\n",
              "      <td>NaN</td>\n",
              "      <td>NaN</td>\n",
              "      <td>NaN</td>\n",
              "      <td>NaN</td>\n",
              "    </tr>\n",
              "    <tr>\n",
              "      <th>4</th>\n",
              "      <td>0bb0d181-938c-11ec-80fe-0cc47aab8067</td>\n",
              "      <td>009aac7d-7bcf-11eb-80e8-0cc47aab8067</td>\n",
              "      <td>1984-04-17</td>\n",
              "      <td>Мужской</td>\n",
              "      <td>Мужской</td>\n",
              "      <td>2022-02-22</td>\n",
              "      <td>Периодический</td>\n",
              "      <td>Периодический</td>\n",
              "      <td>False</td>\n",
              "      <td>a6d559b0-7835-11eb-80e8-0cc47aab8067</td>\n",
              "      <td>...</td>\n",
              "      <td>NaN</td>\n",
              "      <td>NaN</td>\n",
              "      <td>NaN</td>\n",
              "      <td>NaN</td>\n",
              "      <td>NaN</td>\n",
              "      <td>NaN</td>\n",
              "      <td>NaN</td>\n",
              "      <td>NaN</td>\n",
              "      <td>NaN</td>\n",
              "      <td>NaN</td>\n",
              "    </tr>\n",
              "  </tbody>\n",
              "</table>\n",
              "<p>5 rows × 4587 columns</p>\n",
              "</div>\n",
              "      <button class=\"colab-df-convert\" onclick=\"convertToInteractive('df-fc317798-7f97-4c27-94d7-2a84cf8ff57a')\"\n",
              "              title=\"Convert this dataframe to an interactive table.\"\n",
              "              style=\"display:none;\">\n",
              "        \n",
              "  <svg xmlns=\"http://www.w3.org/2000/svg\" height=\"24px\"viewBox=\"0 0 24 24\"\n",
              "       width=\"24px\">\n",
              "    <path d=\"M0 0h24v24H0V0z\" fill=\"none\"/>\n",
              "    <path d=\"M18.56 5.44l.94 2.06.94-2.06 2.06-.94-2.06-.94-.94-2.06-.94 2.06-2.06.94zm-11 1L8.5 8.5l.94-2.06 2.06-.94-2.06-.94L8.5 2.5l-.94 2.06-2.06.94zm10 10l.94 2.06.94-2.06 2.06-.94-2.06-.94-.94-2.06-.94 2.06-2.06.94z\"/><path d=\"M17.41 7.96l-1.37-1.37c-.4-.4-.92-.59-1.43-.59-.52 0-1.04.2-1.43.59L10.3 9.45l-7.72 7.72c-.78.78-.78 2.05 0 2.83L4 21.41c.39.39.9.59 1.41.59.51 0 1.02-.2 1.41-.59l7.78-7.78 2.81-2.81c.8-.78.8-2.07 0-2.86zM5.41 20L4 18.59l7.72-7.72 1.47 1.35L5.41 20z\"/>\n",
              "  </svg>\n",
              "      </button>\n",
              "      \n",
              "  <style>\n",
              "    .colab-df-container {\n",
              "      display:flex;\n",
              "      flex-wrap:wrap;\n",
              "      gap: 12px;\n",
              "    }\n",
              "\n",
              "    .colab-df-convert {\n",
              "      background-color: #E8F0FE;\n",
              "      border: none;\n",
              "      border-radius: 50%;\n",
              "      cursor: pointer;\n",
              "      display: none;\n",
              "      fill: #1967D2;\n",
              "      height: 32px;\n",
              "      padding: 0 0 0 0;\n",
              "      width: 32px;\n",
              "    }\n",
              "\n",
              "    .colab-df-convert:hover {\n",
              "      background-color: #E2EBFA;\n",
              "      box-shadow: 0px 1px 2px rgba(60, 64, 67, 0.3), 0px 1px 3px 1px rgba(60, 64, 67, 0.15);\n",
              "      fill: #174EA6;\n",
              "    }\n",
              "\n",
              "    [theme=dark] .colab-df-convert {\n",
              "      background-color: #3B4455;\n",
              "      fill: #D2E3FC;\n",
              "    }\n",
              "\n",
              "    [theme=dark] .colab-df-convert:hover {\n",
              "      background-color: #434B5C;\n",
              "      box-shadow: 0px 1px 3px 1px rgba(0, 0, 0, 0.15);\n",
              "      filter: drop-shadow(0px 1px 2px rgba(0, 0, 0, 0.3));\n",
              "      fill: #FFFFFF;\n",
              "    }\n",
              "  </style>\n",
              "\n",
              "      <script>\n",
              "        const buttonEl =\n",
              "          document.querySelector('#df-fc317798-7f97-4c27-94d7-2a84cf8ff57a button.colab-df-convert');\n",
              "        buttonEl.style.display =\n",
              "          google.colab.kernel.accessAllowed ? 'block' : 'none';\n",
              "\n",
              "        async function convertToInteractive(key) {\n",
              "          const element = document.querySelector('#df-fc317798-7f97-4c27-94d7-2a84cf8ff57a');\n",
              "          const dataTable =\n",
              "            await google.colab.kernel.invokeFunction('convertToInteractive',\n",
              "                                                     [key], {});\n",
              "          if (!dataTable) return;\n",
              "\n",
              "          const docLinkHtml = 'Like what you see? Visit the ' +\n",
              "            '<a target=\"_blank\" href=https://colab.research.google.com/notebooks/data_table.ipynb>data table notebook</a>'\n",
              "            + ' to learn more about interactive tables.';\n",
              "          element.innerHTML = '';\n",
              "          dataTable['output_type'] = 'display_data';\n",
              "          await google.colab.output.renderOutput(dataTable, element);\n",
              "          const docLink = document.createElement('div');\n",
              "          docLink.innerHTML = docLinkHtml;\n",
              "          element.appendChild(docLink);\n",
              "        }\n",
              "      </script>\n",
              "    </div>\n",
              "  </div>\n",
              "  "
            ]
          },
          "metadata": {},
          "execution_count": 86
        }
      ]
    },
    {
      "cell_type": "code",
      "source": [
        "# Вывод количества записей по классам\n",
        "def print_class(df, column_name, class_list):\n",
        "  print(class_list)\n",
        "  for class_name in class_list:\n",
        "    count = len(df[df[column_name] == class_name])\n",
        "    print(f'Количество записей для класса {class_name}: {count}')"
      ],
      "metadata": {
        "id": "654O4Y5zuMqg"
      },
      "execution_count": null,
      "outputs": []
    },
    {
      "cell_type": "code",
      "source": [
        "# Удаление строк без заключения\n",
        "print(df.shape)\n",
        "class_list =['Годен','ГоденСКоррекциейЗрения','НуждаетсяВДообследованииИЛечении','ВременноНегоден','ОграниченноГоден','ГоденБезРаботНаВысотах']\n",
        "mask= df['ЗаключениеМК'].str.contains('|'.join(class_list))>0\n",
        "df = df[ mask]\n",
        "print(df.shape)\n",
        "# количество записей по классам\n",
        "print_class(df, 'ЗаключениеМК', class_list)\n",
        "# Сокращение классов до 3\n",
        "df['ЗаключениеМК'].replace('ГоденСКоррекциейЗрения', 'ОграниченноГоден', inplace=True)\n",
        "df['ЗаключениеМК'].replace('ГоденБезРаботНаВысотах', 'ОграниченноГоден', inplace=True)\n",
        "df['ЗаключениеМК'].replace('НуждаетсяВДообследованииИЛечении', 'ВременноНегоден', inplace=True)\n",
        "# количество записей по классам\n",
        "class_list =['Годен','ВременноНегоден','ОграниченноГоден']\n",
        "print_class(df, 'ЗаключениеМК', class_list)"
      ],
      "metadata": {
        "colab": {
          "base_uri": "https://localhost:8080/"
        },
        "id": "NPGPeO_qUizy",
        "outputId": "e629caf2-915d-4af2-e4a0-1a28a7086540"
      },
      "execution_count": null,
      "outputs": [
        {
          "output_type": "stream",
          "name": "stdout",
          "text": [
            "(1571, 4587)\n",
            "(1571, 4587)\n",
            "['Годен', 'ГоденСКоррекциейЗрения', 'НуждаетсяВДообследованииИЛечении', 'ВременноНегоден', 'ОграниченноГоден', 'ГоденБезРаботНаВысотах']\n",
            "Количество записей для класса Годен: 1434\n",
            "Количество записей для класса ГоденСКоррекциейЗрения: 0\n",
            "Количество записей для класса НуждаетсяВДообследованииИЛечении: 0\n",
            "Количество записей для класса ВременноНегоден: 11\n",
            "Количество записей для класса ОграниченноГоден: 126\n",
            "Количество записей для класса ГоденБезРаботНаВысотах: 0\n",
            "['Годен', 'ВременноНегоден', 'ОграниченноГоден']\n",
            "Количество записей для класса Годен: 1434\n",
            "Количество записей для класса ВременноНегоден: 11\n",
            "Количество записей для класса ОграниченноГоден: 126\n"
          ]
        }
      ]
    },
    {
      "cell_type": "code",
      "source": [
        "# Поиск колонок с выводом 5 уникальных значений\n",
        "def Find_Column(df, name):\n",
        "  pred_cols = [col for col in df.columns if name in col]\n",
        "  print(f'Найдено {len(pred_cols)} колонок')\n",
        "  i = 1\n",
        "  for column_name in pred_cols:\n",
        "      print(f'{i} {column_name}')\n",
        "      i+=1\n",
        "      unique_data = df[column_name].unique()\n",
        "      print(f'   {unique_data[0:5]}')"
      ],
      "metadata": {
        "id": "WPkgb50uYbCC"
      },
      "execution_count": null,
      "outputs": []
    },
    {
      "cell_type": "code",
      "source": [
        "Find_Column( df, 'ГоденНегоден_ЗначениеПредставление')"
      ],
      "metadata": {
        "colab": {
          "base_uri": "https://localhost:8080/"
        },
        "id": "Qph82zXR57lD",
        "outputId": "4111c6aa-db71-46ec-91aa-057c28fdaeee"
      },
      "execution_count": null,
      "outputs": [
        {
          "output_type": "stream",
          "name": "stdout",
          "text": [
            "Найдено 31 колонок\n",
            "1 ПсихиатрияНаркология1_ГоденНегоден_ЗначениеПредставление\n",
            "   ['Годен' nan 'Не годен']\n",
            "2 Офтальмология1_ГоденНегоден_ЗначениеПредставление\n",
            "   ['Годен' nan]\n",
            "3 Оториноларингология1_ГоденНегоден_ЗначениеПредставление\n",
            "   ['Годен' nan]\n",
            "4 ХирургНеИсп1_ГоденНегоден_ЗначениеПредставление\n",
            "   ['Годен' nan]\n",
            "5 Гинекология1_ГоденНегоден_ЗначениеПредставление\n",
            "   ['Годен' nan 'Не годен']\n",
            "6 Стоматология1_ГоденНегоден_ЗначениеПредставление\n",
            "   ['Годен' nan]\n",
            "7 Терапия1_ГоденНегоден_ЗначениеПредставление\n",
            "   ['Годен' nan 'Не годен']\n",
            "8 Дерматовенерология1_ГоденНегоден_ЗначениеПредставление\n",
            "   [nan 'Годен']\n",
            "9 Неврология1_ГоденНегоден_ЗначениеПредставление\n",
            "   [nan 'Годен' 'Не годен']\n",
            "10 Хирургия1_ГоденНегоден_ЗначениеПредставление\n",
            "   [nan 'Годен']\n",
            "11 Хирургия2_ГоденНегоден_ЗначениеПредставление\n",
            "   [nan 'Годен']\n",
            "12 Терапия2_ГоденНегоден_ЗначениеПредставление\n",
            "   [nan 'Годен' 'Не годен']\n",
            "13 Неврология2_ГоденНегоден_ЗначениеПредставление\n",
            "   [nan 'Годен']\n",
            "14 ПсихиатрияНаркология2_ГоденНегоден_ЗначениеПредставление\n",
            "   [nan 'Годен']\n",
            "15 Психиатрия1_ГоденНегоден_ЗначениеПредставление\n",
            "   [nan 'Годен']\n",
            "16 Гинекология2_ГоденНегоден_ЗначениеПредставление\n",
            "   [nan 'Годен']\n",
            "17 Стоматология2_ГоденНегоден_ЗначениеПредставление\n",
            "   [nan 'Годен']\n",
            "18 Оториноларингология2_ГоденНегоден_ЗначениеПредставление\n",
            "   [nan 'Годен']\n",
            "19 Дерматовенерология2_ГоденНегоден_ЗначениеПредставление\n",
            "   [nan 'Годен']\n",
            "20 Офтальмология2_ГоденНегоден_ЗначениеПредставление\n",
            "   [nan 'Годен']\n",
            "21 Терапия3_ГоденНегоден_ЗначениеПредставление\n",
            "   [nan 'Годен']\n",
            "22 Терапия4_ГоденНегоден_ЗначениеПредставление\n",
            "   [nan 'Годен']\n",
            "23 Хирургия3_ГоденНегоден_ЗначениеПредставление\n",
            "   [nan]\n",
            "24 Гинекология3_ГоденНегоден_ЗначениеПредставление\n",
            "   [nan 'Годен']\n",
            "25 Гинекология4_ГоденНегоден_ЗначениеПредставление\n",
            "   [nan 'Годен']\n",
            "26 ТерапевтНеИсп1_ГоденНегоден_ЗначениеПредставление\n",
            "   [nan 'Годен']\n",
            "27 ХирургНеИсп2_ГоденНегоден_ЗначениеПредставление\n",
            "   [nan 'Годен']\n",
            "28 Психиатрия2_ГоденНегоден_ЗначениеПредставление\n",
            "   [nan 'Годен']\n",
            "29 Психиатрия3_ГоденНегоден_ЗначениеПредставление\n",
            "   [nan 'Годен']\n",
            "30 Психиатрия4_ГоденНегоден_ЗначениеПредставление\n",
            "   [nan 'Годен']\n",
            "31 Оториноларингология3_ГоденНегоден_ЗначениеПредставление\n",
            "   [nan 'Годен']\n"
          ]
        }
      ]
    },
    {
      "cell_type": "code",
      "source": [
        "Find_Column( df, 'мкб')"
      ],
      "metadata": {
        "colab": {
          "base_uri": "https://localhost:8080/"
        },
        "id": "gQ30kCjL57K0",
        "outputId": "f8a4f32a-647e-4dce-cbe7-68911dbe5dbe"
      },
      "execution_count": null,
      "outputs": [
        {
          "output_type": "stream",
          "name": "stdout",
          "text": [
            "Найдено 0 колонок\n"
          ]
        }
      ]
    },
    {
      "cell_type": "code",
      "source": [
        "# Список столбцов с заключениями\n",
        "fit_columns = [df.columns.get_loc(col) for col in df.columns if 'ГоденНегоден_ЗначениеПредставление' in col]\n",
        "fit_class = [0,class_list]\n",
        "print(fit_class)\n",
        "# Классы порогов возраста\n",
        "age_class = [0, [18, 23, 28, 33, 38, 43, 48, 53, 58, 63]]\n",
        "#Классы профессий\n",
        "prof_data = df['Профессия'].unique()\n",
        "prof_class=[0,prof_data.tolist()]\n",
        "#Классы цехов\n",
        "workshop_data = df['Цех'].unique()\n",
        "workshop_class=[0,workshop_data.tolist()]\n",
        "# Классы вредности\n",
        "hazard_class = []\n",
        "for row in df['ВредныеФакторы']:\n",
        "    keys = row.split(',')\n",
        "    for key in keys:\n",
        "        if key not in hazard_class:\n",
        "            hazard_class.append(key)\n",
        "hazard_class.sort()\n",
        "hazard_class=[0,hazard_class]\n",
        "# Вычисление счетчиков для данных разбиения\n",
        "for class_desc in [age_class, prof_class, workshop_class, hazard_class, fit_class]:\n",
        "  if isinstance(class_desc[1], list):\n",
        "    class_desc[0] = len(class_desc[1]) + 1\n",
        "  else:\n",
        "    class_desc[0] = max(class_desc[1].values()) + 1"
      ],
      "metadata": {
        "id": "8ihv1e8hiBOE",
        "colab": {
          "base_uri": "https://localhost:8080/"
        },
        "outputId": "dcba297f-43be-4033-fe3c-84ef09e6bd88"
      },
      "execution_count": null,
      "outputs": [
        {
          "output_type": "stream",
          "name": "stdout",
          "text": [
            "[0, ['Годен', 'ВременноНегоден', 'ОграниченноГоден']]\n"
          ]
        }
      ]
    },
    {
      "cell_type": "code",
      "source": [
        "def int_to_ohe(arg, class_list):\n",
        "  # Определение размерности выходного вектора\n",
        "  num_classes = class_list[0]\n",
        "  # Поиск верного интервала для входного значения\n",
        "  for i in range(num_classes - 1):\n",
        "    if arg < class_list[1][i]:\n",
        "      cls = i                       # Интервал найден - назначение класса\n",
        "      break\n",
        "    else:                                 # Внимание: for/else\n",
        "      cls = num_classes - 1             # Интервал не найден - последний класс\n",
        "  # Возврат в виде one hot encoding-вектора\n",
        "  return utils.to_categorical(cls, num_classes)\n",
        "\n",
        "def str_to_multi(arg, class_dict):\n",
        "  # Определение размерности выходного вектора\n",
        "  num_classes = class_dict[0]\n",
        "  # Создание нулевого вектора\n",
        "  result = np.zeros(num_classes)\n",
        "  # Поиск значения в словаре и, если найдено,\n",
        "  # выставление 1. на нужной позиции\n",
        "  #for value, cls in class_dict[1].items():\n",
        "  if type(arg) is str:\n",
        "    if type(class_dict[1]) is list:\n",
        "      for cls, value in enumerate(class_dict[1]):\n",
        "        if value == arg:\n",
        "          result[cls] = 1.\n",
        "    else:\n",
        "      for value, cls in class_dict[1].items():\n",
        "        if value == arg:\n",
        "          result[cls] = 1.\n",
        "  return result"
      ],
      "metadata": {
        "id": "_ayNIXhtnDvj"
      },
      "execution_count": null,
      "outputs": []
    },
    {
      "cell_type": "code",
      "source": [
        "def age_years_to_ohe(arg):\n",
        "  return int_to_ohe(arg, age_class)\n",
        "\n",
        "def sex_to_ohe(arg):\n",
        "  result = 1. if 'Мужской' in arg else 0.\n",
        "  return result\n",
        "\n",
        "def extract_prof_to_multi(arg):\n",
        "  return str_to_multi(arg, prof_class)\n",
        "  \n",
        "def extract_workshop_to_multi(arg):\n",
        "  return str_to_multi(arg, workshop_class)\n",
        "\n",
        "def extract_hazard_to_multi(arg):\n",
        "  result = np.zeros(hazard_class[0])\n",
        "  keys = arg.split(',')\n",
        "  for arg in keys:\n",
        "    result = result+str_to_multi(arg, hazard_class)\n",
        "  return result\n",
        "  \n",
        "def extract_fit_to_multi(arg):\n",
        "  result = np.zeros(0)\n",
        "  for col in fit_columns:\n",
        "    result = np.append(result, str_to_multi(arg[col], fit_class))\n",
        "  return result"
      ],
      "metadata": {
        "id": "2fqInwQLiXsO"
      },
      "execution_count": null,
      "outputs": []
    },
    {
      "cell_type": "code",
      "metadata": {
        "id": "b0jq85WTahIA"
      },
      "source": [
        "def extract_row_data(row):\n",
        "  # Извлечение и преобразование данных\n",
        "  # Возраст\n",
        "  age = age_years_to_ohe((row[5].year-row[2].year))\n",
        "  # Пол\n",
        "  sex = np.array(sex_to_ohe(row[3]))\n",
        "  # Профессия\n",
        "  prof = extract_prof_to_multi(row[11])\n",
        "  # Цех\n",
        "  workshop = extract_workshop_to_multi(row[10])\n",
        "  # Вредность\n",
        "  hazard = extract_hazard_to_multi(row[17])\n",
        "  # Заключения специалистов\n",
        "  fit = extract_fit_to_multi(row)\n",
        "  #print(f'fit class {fit}')\n",
        "  x_data = np.hstack([age, sex, prof, workshop, fit])\n",
        "  y_data = class_list.index(row[12])\n",
        "#  print(f'x_data {len(x_data)} y_data {len(y_data)} ')\n",
        "#  print(f'\\n x {x_data} y {y_data}')\n",
        "  return x_data, y_data\n",
        "# Создание общей выборки\n",
        "def construct_train_data(row_list):\n",
        "  x_data = []\n",
        "  y_data = []\n",
        "  for row in row_list:\n",
        "    x, y = extract_row_data(row)\n",
        "    x_data.append(x)\n",
        "    y_data.append(y)\n",
        "  return np.array(x_data), np.array(y_data)"
      ],
      "execution_count": null,
      "outputs": []
    },
    {
      "cell_type": "code",
      "metadata": {
        "id": "MZwdS84MGS7D",
        "colab": {
          "base_uri": "https://localhost:8080/"
        },
        "outputId": "0ae593db-8d96-47ac-b612-7171e584da53"
      },
      "source": [
        "x_data, y_data = construct_train_data(df.values)\n",
        "# Перевод в one hot encoding\n",
        "y_data = utils.to_categorical(y_data, 3)\n",
        "# Разбиение наборов на общую и тестовую выборки\n",
        "x_all, x_test, y_all, y_test = train_test_split(x_data, \n",
        "                                                y_data, \n",
        "                                                test_size=0.1, \n",
        "                                                shuffle=True, \n",
        "                                                random_state = 6)\n",
        "# Разбиение общей выборки на обучающую и проверочную \n",
        "x_train, x_val, y_train, y_val = train_test_split(x_all, \n",
        "                                                  y_all, \n",
        "                                                  test_size=0.1, \n",
        "                                                  shuffle=True, \n",
        "                                                  random_state = 6)\n",
        "print(f' x_data {x_data.shape} x_train {x_train.shape} x_val {x_val.shape} x_test {x_test.shape} ')\n",
        "print(f' y_data {y_data.shape} y_train {y_train.shape} y_val {y_val.shape} y_test {y_test.shape} ')\n"
      ],
      "execution_count": null,
      "outputs": [
        {
          "output_type": "stream",
          "name": "stdout",
          "text": [
            " x_data (1571, 868) x_train (1271, 868) x_val (142, 868) x_test (158, 868) \n",
            " y_data (1571, 3) y_train (1271, 3) y_val (142, 3) y_test (158, 3) \n"
          ]
        }
      ]
    },
    {
      "cell_type": "code",
      "source": [
        "# Оценка модели на тестовых данных и построение графиков \n",
        "def evaluate_model(model, x_test, y_test):\n",
        "    # Оценка точности и потери на тестовых данных\n",
        "    loss, accuracy = model.evaluate(x_test, y_test)\n",
        "    print(\"Test Loss: {:.3f}\".format(loss))\n",
        "    print(\"Test Accuracy: {:.3f}\".format(accuracy))\n",
        "    \n",
        "    # Получение прогноза модели на тестовых данных\n",
        "    y_pred = model.predict(x_test)\n",
        "    \n",
        "    # Преобразование one-hot кодирования прогноза в номер класса\n",
        "    y_pred_classes = np.argmax(y_pred, axis=1)\n",
        "    y_test_classes = np.argmax(y_test, axis=1)\n",
        "    \n",
        "    # Построение матрицы ошибок \n",
        "    from sklearn.metrics import confusion_matrix\n",
        "    conf_matrix = confusion_matrix(y_test_classes, y_pred_classes)\n",
        "    \n",
        "    # Построение графика точности и потери с изменением количества эпох\n",
        "    epochs = range(1, len(history.history['accuracy']) + 1)\n",
        "    plt.plot(epochs, history.history['accuracy'], 'bo', label='Training accuracy')\n",
        "    plt.plot(epochs, history.history['val_accuracy'], 'b', label='Validation accuracy')\n",
        "    plt.title('Training and validation accuracy')\n",
        "    plt.xlabel('Epochs')\n",
        "    plt.ylabel('Accuracy')\n",
        "    plt.legend()\n",
        "    plt.show()\n",
        "    \n",
        "    plt.plot(epochs, history.history['loss'], 'bo', label='Training loss')\n",
        "    plt.plot(epochs, history.history['val_loss'], 'b', label='Validation loss')\n",
        "    plt.title('Training and validation loss')\n",
        "    plt.xlabel('Epochs')\n",
        "    plt.ylabel('Loss')\n",
        "    plt.legend()\n",
        "    plt.show()\n",
        "    \n",
        "    # Построение диаграммы матрицы ошибок \n",
        "    import seaborn as sns\n",
        "    plt.figure(figsize=(8, 6))\n",
        "    sns.heatmap(conf_matrix, annot=True, fmt='d', cmap='Blues', \n",
        "                xticklabels=class_list, \n",
        "                yticklabels=class_list)\n",
        "    plt.title('Матрица предсказаний')\n",
        "    plt.xlabel('Предсказано')\n",
        "    plt.ylabel('Верно')\n",
        "    plt.show()\n"
      ],
      "metadata": {
        "id": "ZKXg1nTSj6dJ"
      },
      "execution_count": null,
      "outputs": []
    },
    {
      "cell_type": "code",
      "source": [
        "\n",
        "#model = Sequential()\n",
        "#model.add(Dense(100, input_dim=x_train.shape[1], activation=\"relu\"))\n",
        "#model.add(Dense(50, activation=\"relu\"))\n",
        "#model.add(Dense(6, activation=\"softmax\"))\n",
        "#model.compile(optimizer='adam', loss='categorical_crossentropy', metrics=[Precision, Recall(), tfa.F1Score(num_classes=6)])\n",
        "#history = model.fit(x_train, y_train, epochs=20, batch_size=128, validation_data=(x_val, y_val))\n",
        "#evaluate_model(model, x_test, y_test)"
      ],
      "metadata": {
        "id": "ep_8hrZL6eY7"
      },
      "execution_count": null,
      "outputs": []
    },
    {
      "cell_type": "code",
      "source": [
        "model = Sequential()\n",
        "model.add(Dense(100, input_dim=x_train.shape[1], activation=\"relu\"))\n",
        "model.add(Dropout(0.25))\n",
        "model.add(BatchNormalization())\n",
        "model.add(Dense(3, activation='softmax'))\n",
        "model.compile(optimizer='adam', loss='categorical_crossentropy', metrics=['accuracy'])\n",
        "history = model.fit(x_train, y_train, epochs=20, batch_size=128, validation_data=(x_val, y_val))"
      ],
      "metadata": {
        "colab": {
          "base_uri": "https://localhost:8080/"
        },
        "id": "bT1tHaK-F9lL",
        "outputId": "aeccc4f4-2c15-462c-f803-e6c0c6e291d5"
      },
      "execution_count": null,
      "outputs": [
        {
          "output_type": "stream",
          "name": "stdout",
          "text": [
            "Epoch 1/20\n",
            "10/10 [==============================] - 1s 27ms/step - loss: 1.3645 - accuracy: 0.3832 - val_loss: 1.0238 - val_accuracy: 0.7465\n",
            "Epoch 2/20\n",
            "10/10 [==============================] - 0s 10ms/step - loss: 1.1545 - accuracy: 0.4485 - val_loss: 0.9272 - val_accuracy: 0.9155\n",
            "Epoch 3/20\n",
            "10/10 [==============================] - 0s 9ms/step - loss: 1.0107 - accuracy: 0.5177 - val_loss: 0.8673 - val_accuracy: 0.9296\n",
            "Epoch 4/20\n",
            "10/10 [==============================] - 0s 9ms/step - loss: 0.8938 - accuracy: 0.5972 - val_loss: 0.7881 - val_accuracy: 0.9296\n",
            "Epoch 5/20\n",
            "10/10 [==============================] - 0s 11ms/step - loss: 0.7951 - accuracy: 0.6924 - val_loss: 0.6918 - val_accuracy: 0.9296\n",
            "Epoch 6/20\n",
            "10/10 [==============================] - 0s 11ms/step - loss: 0.6901 - accuracy: 0.7506 - val_loss: 0.6148 - val_accuracy: 0.9296\n",
            "Epoch 7/20\n",
            "10/10 [==============================] - 0s 8ms/step - loss: 0.5865 - accuracy: 0.8198 - val_loss: 0.5406 - val_accuracy: 0.9296\n",
            "Epoch 8/20\n",
            "10/10 [==============================] - 0s 10ms/step - loss: 0.5003 - accuracy: 0.8741 - val_loss: 0.4771 - val_accuracy: 0.9296\n",
            "Epoch 9/20\n",
            "10/10 [==============================] - 0s 9ms/step - loss: 0.4297 - accuracy: 0.8954 - val_loss: 0.4214 - val_accuracy: 0.9296\n",
            "Epoch 10/20\n",
            "10/10 [==============================] - 0s 8ms/step - loss: 0.3501 - accuracy: 0.9315 - val_loss: 0.3756 - val_accuracy: 0.9296\n",
            "Epoch 11/20\n",
            "10/10 [==============================] - 0s 9ms/step - loss: 0.2941 - accuracy: 0.9465 - val_loss: 0.3463 - val_accuracy: 0.9296\n",
            "Epoch 12/20\n",
            "10/10 [==============================] - 0s 8ms/step - loss: 0.2565 - accuracy: 0.9528 - val_loss: 0.3237 - val_accuracy: 0.9296\n",
            "Epoch 13/20\n",
            "10/10 [==============================] - 0s 13ms/step - loss: 0.2193 - accuracy: 0.9654 - val_loss: 0.3109 - val_accuracy: 0.9296\n",
            "Epoch 14/20\n",
            "10/10 [==============================] - 0s 13ms/step - loss: 0.1771 - accuracy: 0.9725 - val_loss: 0.3035 - val_accuracy: 0.9296\n",
            "Epoch 15/20\n",
            "10/10 [==============================] - 0s 9ms/step - loss: 0.1532 - accuracy: 0.9756 - val_loss: 0.2985 - val_accuracy: 0.9296\n",
            "Epoch 16/20\n",
            "10/10 [==============================] - 0s 10ms/step - loss: 0.1472 - accuracy: 0.9725 - val_loss: 0.2967 - val_accuracy: 0.9296\n",
            "Epoch 17/20\n",
            "10/10 [==============================] - 0s 8ms/step - loss: 0.1277 - accuracy: 0.9788 - val_loss: 0.2967 - val_accuracy: 0.9296\n",
            "Epoch 18/20\n",
            "10/10 [==============================] - 0s 8ms/step - loss: 0.1175 - accuracy: 0.9803 - val_loss: 0.2974 - val_accuracy: 0.9296\n",
            "Epoch 19/20\n",
            "10/10 [==============================] - 0s 10ms/step - loss: 0.0966 - accuracy: 0.9843 - val_loss: 0.2989 - val_accuracy: 0.9296\n",
            "Epoch 20/20\n",
            "10/10 [==============================] - 0s 9ms/step - loss: 0.0887 - accuracy: 0.9827 - val_loss: 0.3013 - val_accuracy: 0.9296\n"
          ]
        }
      ]
    },
    {
      "cell_type": "code",
      "source": [
        "evaluate_model(model, x_test, y_test)"
      ],
      "metadata": {
        "colab": {
          "base_uri": "https://localhost:8080/",
          "height": 1000
        },
        "id": "xWifvvlHYNSJ",
        "outputId": "acafba2b-af3e-4f58-8c88-00bf747481ec"
      },
      "execution_count": null,
      "outputs": [
        {
          "output_type": "stream",
          "name": "stdout",
          "text": [
            "5/5 [==============================] - 0s 4ms/step - loss: 0.2402 - accuracy: 0.9494\n",
            "Test Loss: 0.240\n",
            "Test Accuracy: 0.949\n",
            "5/5 [==============================] - 0s 3ms/step\n"
          ]
        },
        {
          "output_type": "display_data",
          "data": {
            "text/plain": [
              "<Figure size 640x480 with 1 Axes>"
            ],
            "image/png": "[encoded data removed]"
          },
          "metadata": {}
        },
        {
          "output_type": "display_data",
          "data": {
            "text/plain": [
              "<Figure size 640x480 with 1 Axes>"
            ],
            "image/png": "[encoded data removed]"
          },
          "metadata": {}
        },
        {
          "output_type": "display_data",
          "data": {
            "text/plain": [
              "<Figure size 800x600 with 2 Axes>"
            ],
            "image/png": "[encoded data removed]"
          },
          "metadata": {}
        }
      ]
    }
  ]
}