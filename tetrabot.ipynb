{
  "nbformat": 4,
  "nbformat_minor": 0,
  "metadata": {
    "colab": {
      "provenance": [],
      "toc_visible": true,
      "gpuType": "T4",
      "authorship_tag": "ABX9TyOgK4gIjS0KU66NewEcTPhk",
      "include_colab_link": true
    },
    "kernelspec": {
      "name": "python3",
      "display_name": "Python 3"
    },
    "language_info": {
      "name": "python"
    },
    "accelerator": "GPU"
  },
  "cells": [
    {
      "cell_type": "markdown",
      "metadata": {
        "id": "view-in-github",
        "colab_type": "text"
      },
      "source": [
        "<a href=\"https://colab.research.google.com/github/Untick/InspectrumClinic_RS_gr2/blob/main/tetrabot.ipynb\" target=\"_parent\"><img src=\"https://colab.research.google.com/assets/colab-badge.svg\" alt=\"Open In Colab\"/></a>"
      ]
    },
    {
      "cell_type": "markdown",
      "source": [
        "# Загружаем библиотеки, подключаем гугл диск"
      ],
      "metadata": {
        "id": "LA51b4k15ZBV"
      }
    },
    {
      "cell_type": "code",
      "source": [
        "!pip install SpeechRecognition\n",
        "!pip install fasttext\n",
        "import requests\n",
        "# from urllib.parse import urlencode\n",
        "# import json\n",
        "import gdown\n",
        "import os\n",
        "import zipfile\n",
        "import numpy as np\n",
        "import pandas as pd\n",
        "from google.colab import drive\n",
        "import fasttext\n",
        "import speech_recognition as sr\n",
        "from tensorflow import keras\n",
        "from tensorflow.keras.models import Sequential, Model\n",
        "from tensorflow.keras.layers import Dense, Dropout, concatenate, Input, CategoryEncoding, Normalization, Activation, Conv1D\n",
        "from tensorflow.keras.optimizers import Adam, AdamW, RMSprop\n",
        "from tensorflow.keras import utils\n",
        "import tensorflow as tf\n",
        "\n",
        "\n",
        "r = sr.Recognizer()\n",
        "drive.mount('/content/gdrive')\n",
        "\n"
      ],
      "metadata": {
        "colab": {
          "base_uri": "https://localhost:8080/"
        },
        "id": "qoclv7AAqUy_",
        "outputId": "4af4ef8f-098c-4200-913f-2f3e27e8bae2"
      },
      "execution_count": 1,
      "outputs": [
        {
          "output_type": "stream",
          "name": "stdout",
          "text": [
            "Collecting SpeechRecognition\n",
            "  Downloading SpeechRecognition-3.10.0-py2.py3-none-any.whl (32.8 MB)\n",
            "\u001b[2K     \u001b[90m━━━━━━━━━━━━━━━━━━━━━━━━━━━━━━━━━━━━━━━━\u001b[0m \u001b[32m32.8/32.8 MB\u001b[0m \u001b[31m51.5 MB/s\u001b[0m eta \u001b[36m0:00:00\u001b[0m\n",
            "\u001b[?25hRequirement already satisfied: requests>=2.26.0 in /usr/local/lib/python3.10/dist-packages (from SpeechRecognition) (2.31.0)\n",
            "Requirement already satisfied: charset-normalizer<4,>=2 in /usr/local/lib/python3.10/dist-packages (from requests>=2.26.0->SpeechRecognition) (3.2.0)\n",
            "Requirement already satisfied: idna<4,>=2.5 in /usr/local/lib/python3.10/dist-packages (from requests>=2.26.0->SpeechRecognition) (3.4)\n",
            "Requirement already satisfied: urllib3<3,>=1.21.1 in /usr/local/lib/python3.10/dist-packages (from requests>=2.26.0->SpeechRecognition) (2.0.4)\n",
            "Requirement already satisfied: certifi>=2017.4.17 in /usr/local/lib/python3.10/dist-packages (from requests>=2.26.0->SpeechRecognition) (2023.7.22)\n",
            "Installing collected packages: SpeechRecognition\n",
            "Successfully installed SpeechRecognition-3.10.0\n",
            "Collecting fasttext\n",
            "  Downloading fasttext-0.9.2.tar.gz (68 kB)\n",
            "\u001b[2K     \u001b[90m━━━━━━━━━━━━━━━━━━━━━━━━━━━━━━━━━━━━━━━━\u001b[0m \u001b[32m68.8/68.8 kB\u001b[0m \u001b[31m1.4 MB/s\u001b[0m eta \u001b[36m0:00:00\u001b[0m\n",
            "\u001b[?25h  Preparing metadata (setup.py) ... \u001b[?25l\u001b[?25hdone\n",
            "Collecting pybind11>=2.2 (from fasttext)\n",
            "  Using cached pybind11-2.11.1-py3-none-any.whl (227 kB)\n",
            "Requirement already satisfied: setuptools>=0.7.0 in /usr/local/lib/python3.10/dist-packages (from fasttext) (67.7.2)\n",
            "Requirement already satisfied: numpy in /usr/local/lib/python3.10/dist-packages (from fasttext) (1.23.5)\n",
            "Building wheels for collected packages: fasttext\n",
            "  Building wheel for fasttext (setup.py) ... \u001b[?25l\u001b[?25hdone\n",
            "  Created wheel for fasttext: filename=fasttext-0.9.2-cp310-cp310-linux_x86_64.whl size=4199773 sha256=6fcc9ef720b9689949584e4bc45837ec4b8ed524c4228e978e719e05f68c4731\n",
            "  Stored in directory: /root/.cache/pip/wheels/a5/13/75/f811c84a8ab36eedbaef977a6a58a98990e8e0f1967f98f394\n",
            "Successfully built fasttext\n",
            "Installing collected packages: pybind11, fasttext\n",
            "Successfully installed fasttext-0.9.2 pybind11-2.11.1\n",
            "Mounted at /content/gdrive\n"
          ]
        }
      ]
    },
    {
      "cell_type": "code",
      "source": [
        "ft = fasttext.load_model('/content/gdrive/MyDrive/AI_data/cc.ru.300.bin')\n"
      ],
      "metadata": {
        "colab": {
          "base_uri": "https://localhost:8080/"
        },
        "id": "34Wf7L-_R9tI",
        "outputId": "d7a9f5b7-9b67-4380-f019-8f3427f0b930"
      },
      "execution_count": 2,
      "outputs": [
        {
          "output_type": "stream",
          "name": "stderr",
          "text": [
            "Warning : `load_model` does not return WordVectorModel or SupervisedModel any more, but a `FastText` object which is very similar.\n"
          ]
        }
      ]
    },
    {
      "cell_type": "markdown",
      "source": [
        "# Загружаем файл с разметкой"
      ],
      "metadata": {
        "id": "mKh_mxifeHUH"
      }
    },
    {
      "cell_type": "code",
      "source": [
        "\n",
        "x_train = []\n",
        "\n",
        "y_train_group = np.array([])\n",
        "y_train_action = np.array([])\n",
        "\n",
        "df_razmetka = pd.read_excel('/content/gdrive/MyDrive/AI_data/razmetka.xlsx')\n",
        "for idx, row in df_razmetka.iterrows():\n",
        "  x_train.append(ft.get_word_vector(row.text))\n",
        "y_train_group = df_razmetka['group'].to_numpy()\n",
        "y_train_action = df_razmetka['action'].to_numpy()"
      ],
      "metadata": {
        "id": "IUxtWZYXeG1q"
      },
      "execution_count": 41,
      "outputs": []
    },
    {
      "cell_type": "markdown",
      "source": [
        "# Описываем и запускаем модель"
      ],
      "metadata": {
        "id": "Gl1f9QILeUaW"
      }
    },
    {
      "cell_type": "code",
      "source": [
        "trainY = tf.keras.utils.to_categorical(y_train_group)\n",
        "\n",
        "x_train = tf.stack(x_train)\n",
        "\n",
        "model = Sequential()\n",
        "model.add(Dense(len(x_train[1]), activation='relu'))\n",
        "model.add(Dense(800, activation='relu'))\n",
        "model.add(Dense(400, activation='relu'))\n",
        "model.add(Dense(trainY[0].shape[0], activation='softmax'))\n",
        "from google.colab import drive\n",
        "model.compile(optimizer=Adam(learning_rate=1e-3), loss='categorical_crossentropy', metrics=['accuracy'])\n",
        "model.fit(x_train, trainY, batch_size=128, epochs=150, verbose=1)\n",
        "\n",
        "\n"
      ],
      "metadata": {
        "colab": {
          "base_uri": "https://localhost:8080/"
        },
        "id": "MCacvf8_yyVU",
        "outputId": "e8b33001-7615-47ab-b988-56884691e24a"
      },
      "execution_count": 94,
      "outputs": [
        {
          "output_type": "stream",
          "name": "stdout",
          "text": [
            "Epoch 1/150\n",
            "1/1 [==============================] - 1s 1s/step - loss: 2.2952 - accuracy: 0.2262\n",
            "Epoch 2/150\n",
            "1/1 [==============================] - 0s 17ms/step - loss: 2.2189 - accuracy: 0.5833\n",
            "Epoch 3/150\n",
            "1/1 [==============================] - 0s 12ms/step - loss: 2.1312 - accuracy: 0.5833\n",
            "Epoch 4/150\n",
            "1/1 [==============================] - 0s 11ms/step - loss: 2.0176 - accuracy: 0.5833\n",
            "Epoch 5/150\n",
            "1/1 [==============================] - 0s 12ms/step - loss: 1.8727 - accuracy: 0.5833\n",
            "Epoch 6/150\n",
            "1/1 [==============================] - 0s 11ms/step - loss: 1.7031 - accuracy: 0.5833\n",
            "Epoch 7/150\n",
            "1/1 [==============================] - 0s 10ms/step - loss: 1.5383 - accuracy: 0.5833\n",
            "Epoch 8/150\n",
            "1/1 [==============================] - 0s 10ms/step - loss: 1.4217 - accuracy: 0.5833\n",
            "Epoch 9/150\n",
            "1/1 [==============================] - 0s 11ms/step - loss: 1.3686 - accuracy: 0.5833\n",
            "Epoch 10/150\n",
            "1/1 [==============================] - 0s 10ms/step - loss: 1.3286 - accuracy: 0.5833\n",
            "Epoch 11/150\n",
            "1/1 [==============================] - 0s 10ms/step - loss: 1.2623 - accuracy: 0.6310\n",
            "Epoch 12/150\n",
            "1/1 [==============================] - 0s 11ms/step - loss: 1.1853 - accuracy: 0.6310\n",
            "Epoch 13/150\n",
            "1/1 [==============================] - 0s 11ms/step - loss: 1.1219 - accuracy: 0.6905\n",
            "Epoch 14/150\n",
            "1/1 [==============================] - 0s 11ms/step - loss: 1.0754 - accuracy: 0.7024\n",
            "Epoch 15/150\n",
            "1/1 [==============================] - 0s 12ms/step - loss: 1.0326 - accuracy: 0.7024\n",
            "Epoch 16/150\n",
            "1/1 [==============================] - 0s 11ms/step - loss: 0.9813 - accuracy: 0.7143\n",
            "Epoch 17/150\n",
            "1/1 [==============================] - 0s 11ms/step - loss: 0.9241 - accuracy: 0.7143\n",
            "Epoch 18/150\n",
            "1/1 [==============================] - 0s 11ms/step - loss: 0.8709 - accuracy: 0.7143\n",
            "Epoch 19/150\n",
            "1/1 [==============================] - 0s 19ms/step - loss: 0.8261 - accuracy: 0.7143\n",
            "Epoch 20/150\n",
            "1/1 [==============================] - 0s 10ms/step - loss: 0.7863 - accuracy: 0.7143\n",
            "Epoch 21/150\n",
            "1/1 [==============================] - 0s 13ms/step - loss: 0.7454 - accuracy: 0.7143\n",
            "Epoch 22/150\n",
            "1/1 [==============================] - 0s 11ms/step - loss: 0.7012 - accuracy: 0.7500\n",
            "Epoch 23/150\n",
            "1/1 [==============================] - 0s 9ms/step - loss: 0.6568 - accuracy: 0.7738\n",
            "Epoch 24/150\n",
            "1/1 [==============================] - 0s 11ms/step - loss: 0.6154 - accuracy: 0.7857\n",
            "Epoch 25/150\n",
            "1/1 [==============================] - 0s 11ms/step - loss: 0.5758 - accuracy: 0.7857\n",
            "Epoch 26/150\n",
            "1/1 [==============================] - 0s 12ms/step - loss: 0.5356 - accuracy: 0.8095\n",
            "Epoch 27/150\n",
            "1/1 [==============================] - 0s 11ms/step - loss: 0.4959 - accuracy: 0.8095\n",
            "Epoch 28/150\n",
            "1/1 [==============================] - 0s 12ms/step - loss: 0.4592 - accuracy: 0.8214\n",
            "Epoch 29/150\n",
            "1/1 [==============================] - 0s 11ms/step - loss: 0.4256 - accuracy: 0.8214\n",
            "Epoch 30/150\n",
            "1/1 [==============================] - 0s 13ms/step - loss: 0.3921 - accuracy: 0.8452\n",
            "Epoch 31/150\n",
            "1/1 [==============================] - 0s 11ms/step - loss: 0.3579 - accuracy: 0.8810\n",
            "Epoch 32/150\n",
            "1/1 [==============================] - 0s 16ms/step - loss: 0.3251 - accuracy: 0.8810\n",
            "Epoch 33/150\n",
            "1/1 [==============================] - 0s 13ms/step - loss: 0.2948 - accuracy: 0.9167\n",
            "Epoch 34/150\n",
            "1/1 [==============================] - 0s 11ms/step - loss: 0.2657 - accuracy: 0.9405\n",
            "Epoch 35/150\n",
            "1/1 [==============================] - 0s 12ms/step - loss: 0.2374 - accuracy: 0.9524\n",
            "Epoch 36/150\n",
            "1/1 [==============================] - 0s 11ms/step - loss: 0.2111 - accuracy: 0.9524\n",
            "Epoch 37/150\n",
            "1/1 [==============================] - 0s 11ms/step - loss: 0.1874 - accuracy: 0.9524\n",
            "Epoch 38/150\n",
            "1/1 [==============================] - 0s 11ms/step - loss: 0.1653 - accuracy: 0.9524\n",
            "Epoch 39/150\n",
            "1/1 [==============================] - 0s 10ms/step - loss: 0.1444 - accuracy: 0.9643\n",
            "Epoch 40/150\n",
            "1/1 [==============================] - 0s 11ms/step - loss: 0.1253 - accuracy: 0.9762\n",
            "Epoch 41/150\n",
            "1/1 [==============================] - 0s 13ms/step - loss: 0.1086 - accuracy: 0.9762\n",
            "Epoch 42/150\n",
            "1/1 [==============================] - 0s 10ms/step - loss: 0.0938 - accuracy: 1.0000\n",
            "Epoch 43/150\n",
            "1/1 [==============================] - 0s 11ms/step - loss: 0.0802 - accuracy: 1.0000\n",
            "Epoch 44/150\n",
            "1/1 [==============================] - 0s 11ms/step - loss: 0.0680 - accuracy: 1.0000\n",
            "Epoch 45/150\n",
            "1/1 [==============================] - 0s 18ms/step - loss: 0.0574 - accuracy: 1.0000\n",
            "Epoch 46/150\n",
            "1/1 [==============================] - 0s 13ms/step - loss: 0.0485 - accuracy: 1.0000\n",
            "Epoch 47/150\n",
            "1/1 [==============================] - 0s 10ms/step - loss: 0.0409 - accuracy: 1.0000\n",
            "Epoch 48/150\n",
            "1/1 [==============================] - 0s 10ms/step - loss: 0.0341 - accuracy: 1.0000\n",
            "Epoch 49/150\n",
            "1/1 [==============================] - 0s 10ms/step - loss: 0.0283 - accuracy: 1.0000\n",
            "Epoch 50/150\n",
            "1/1 [==============================] - 0s 11ms/step - loss: 0.0234 - accuracy: 1.0000\n",
            "Epoch 51/150\n",
            "1/1 [==============================] - 0s 12ms/step - loss: 0.0194 - accuracy: 1.0000\n",
            "Epoch 52/150\n",
            "1/1 [==============================] - 0s 12ms/step - loss: 0.0160 - accuracy: 1.0000\n",
            "Epoch 53/150\n",
            "1/1 [==============================] - 0s 11ms/step - loss: 0.0131 - accuracy: 1.0000\n",
            "Epoch 54/150\n",
            "1/1 [==============================] - 0s 11ms/step - loss: 0.0108 - accuracy: 1.0000\n",
            "Epoch 55/150\n",
            "1/1 [==============================] - 0s 11ms/step - loss: 0.0089 - accuracy: 1.0000\n",
            "Epoch 56/150\n",
            "1/1 [==============================] - 0s 12ms/step - loss: 0.0074 - accuracy: 1.0000\n",
            "Epoch 57/150\n",
            "1/1 [==============================] - 0s 11ms/step - loss: 0.0062 - accuracy: 1.0000\n",
            "Epoch 58/150\n",
            "1/1 [==============================] - 0s 12ms/step - loss: 0.0052 - accuracy: 1.0000\n",
            "Epoch 59/150\n",
            "1/1 [==============================] - 0s 12ms/step - loss: 0.0045 - accuracy: 1.0000\n",
            "Epoch 60/150\n",
            "1/1 [==============================] - 0s 12ms/step - loss: 0.0038 - accuracy: 1.0000\n",
            "Epoch 61/150\n",
            "1/1 [==============================] - 0s 12ms/step - loss: 0.0033 - accuracy: 1.0000\n",
            "Epoch 62/150\n",
            "1/1 [==============================] - 0s 14ms/step - loss: 0.0029 - accuracy: 1.0000\n",
            "Epoch 63/150\n",
            "1/1 [==============================] - 0s 16ms/step - loss: 0.0025 - accuracy: 1.0000\n",
            "Epoch 64/150\n",
            "1/1 [==============================] - 0s 10ms/step - loss: 0.0022 - accuracy: 1.0000\n",
            "Epoch 65/150\n",
            "1/1 [==============================] - 0s 12ms/step - loss: 0.0020 - accuracy: 1.0000\n",
            "Epoch 66/150\n",
            "1/1 [==============================] - 0s 11ms/step - loss: 0.0017 - accuracy: 1.0000\n",
            "Epoch 67/150\n",
            "1/1 [==============================] - 0s 11ms/step - loss: 0.0016 - accuracy: 1.0000\n",
            "Epoch 68/150\n",
            "1/1 [==============================] - 0s 11ms/step - loss: 0.0014 - accuracy: 1.0000\n",
            "Epoch 69/150\n",
            "1/1 [==============================] - 0s 11ms/step - loss: 0.0013 - accuracy: 1.0000\n",
            "Epoch 70/150\n",
            "1/1 [==============================] - 0s 12ms/step - loss: 0.0012 - accuracy: 1.0000\n",
            "Epoch 71/150\n",
            "1/1 [==============================] - 0s 11ms/step - loss: 0.0011 - accuracy: 1.0000\n",
            "Epoch 72/150\n",
            "1/1 [==============================] - 0s 12ms/step - loss: 0.0010 - accuracy: 1.0000\n",
            "Epoch 73/150\n",
            "1/1 [==============================] - 0s 13ms/step - loss: 9.2838e-04 - accuracy: 1.0000\n",
            "Epoch 74/150\n",
            "1/1 [==============================] - 0s 12ms/step - loss: 8.6359e-04 - accuracy: 1.0000\n",
            "Epoch 75/150\n",
            "1/1 [==============================] - 0s 11ms/step - loss: 8.0641e-04 - accuracy: 1.0000\n",
            "Epoch 76/150\n",
            "1/1 [==============================] - 0s 14ms/step - loss: 7.5583e-04 - accuracy: 1.0000\n",
            "Epoch 77/150\n",
            "1/1 [==============================] - 0s 12ms/step - loss: 7.1094e-04 - accuracy: 1.0000\n",
            "Epoch 78/150\n",
            "1/1 [==============================] - 0s 12ms/step - loss: 6.7104e-04 - accuracy: 1.0000\n",
            "Epoch 79/150\n",
            "1/1 [==============================] - 0s 11ms/step - loss: 6.3548e-04 - accuracy: 1.0000\n",
            "Epoch 80/150\n",
            "1/1 [==============================] - 0s 17ms/step - loss: 6.0370e-04 - accuracy: 1.0000\n",
            "Epoch 81/150\n",
            "1/1 [==============================] - 0s 13ms/step - loss: 5.7515e-04 - accuracy: 1.0000\n",
            "Epoch 82/150\n",
            "1/1 [==============================] - 0s 12ms/step - loss: 5.4946e-04 - accuracy: 1.0000\n",
            "Epoch 83/150\n",
            "1/1 [==============================] - 0s 13ms/step - loss: 5.2625e-04 - accuracy: 1.0000\n",
            "Epoch 84/150\n",
            "1/1 [==============================] - 0s 11ms/step - loss: 5.0524e-04 - accuracy: 1.0000\n",
            "Epoch 85/150\n",
            "1/1 [==============================] - 0s 13ms/step - loss: 4.8613e-04 - accuracy: 1.0000\n",
            "Epoch 86/150\n",
            "1/1 [==============================] - 0s 11ms/step - loss: 4.6871e-04 - accuracy: 1.0000\n",
            "Epoch 87/150\n",
            "1/1 [==============================] - 0s 15ms/step - loss: 4.5276e-04 - accuracy: 1.0000\n",
            "Epoch 88/150\n",
            "1/1 [==============================] - 0s 14ms/step - loss: 4.3812e-04 - accuracy: 1.0000\n",
            "Epoch 89/150\n",
            "1/1 [==============================] - 0s 12ms/step - loss: 4.2466e-04 - accuracy: 1.0000\n",
            "Epoch 90/150\n",
            "1/1 [==============================] - 0s 13ms/step - loss: 4.1222e-04 - accuracy: 1.0000\n",
            "Epoch 91/150\n",
            "1/1 [==============================] - 0s 13ms/step - loss: 4.0069e-04 - accuracy: 1.0000\n",
            "Epoch 92/150\n",
            "1/1 [==============================] - 0s 13ms/step - loss: 3.8999e-04 - accuracy: 1.0000\n",
            "Epoch 93/150\n",
            "1/1 [==============================] - 0s 14ms/step - loss: 3.8004e-04 - accuracy: 1.0000\n",
            "Epoch 94/150\n",
            "1/1 [==============================] - 0s 14ms/step - loss: 3.7079e-04 - accuracy: 1.0000\n",
            "Epoch 95/150\n",
            "1/1 [==============================] - 0s 15ms/step - loss: 3.6211e-04 - accuracy: 1.0000\n",
            "Epoch 96/150\n",
            "1/1 [==============================] - 0s 13ms/step - loss: 3.5399e-04 - accuracy: 1.0000\n",
            "Epoch 97/150\n",
            "1/1 [==============================] - 0s 15ms/step - loss: 3.4637e-04 - accuracy: 1.0000\n",
            "Epoch 98/150\n",
            "1/1 [==============================] - 0s 17ms/step - loss: 3.3917e-04 - accuracy: 1.0000\n",
            "Epoch 99/150\n",
            "1/1 [==============================] - 0s 13ms/step - loss: 3.3240e-04 - accuracy: 1.0000\n",
            "Epoch 100/150\n",
            "1/1 [==============================] - 0s 10ms/step - loss: 3.2599e-04 - accuracy: 1.0000\n",
            "Epoch 101/150\n",
            "1/1 [==============================] - 0s 15ms/step - loss: 3.1990e-04 - accuracy: 1.0000\n",
            "Epoch 102/150\n",
            "1/1 [==============================] - 0s 13ms/step - loss: 3.1411e-04 - accuracy: 1.0000\n",
            "Epoch 103/150\n",
            "1/1 [==============================] - 0s 13ms/step - loss: 3.0861e-04 - accuracy: 1.0000\n",
            "Epoch 104/150\n",
            "1/1 [==============================] - 0s 16ms/step - loss: 3.0336e-04 - accuracy: 1.0000\n",
            "Epoch 105/150\n",
            "1/1 [==============================] - 0s 11ms/step - loss: 2.9838e-04 - accuracy: 1.0000\n",
            "Epoch 106/150\n",
            "1/1 [==============================] - 0s 13ms/step - loss: 2.9361e-04 - accuracy: 1.0000\n",
            "Epoch 107/150\n",
            "1/1 [==============================] - 0s 12ms/step - loss: 2.8904e-04 - accuracy: 1.0000\n",
            "Epoch 108/150\n",
            "1/1 [==============================] - 0s 10ms/step - loss: 2.8466e-04 - accuracy: 1.0000\n",
            "Epoch 109/150\n",
            "1/1 [==============================] - 0s 11ms/step - loss: 2.8046e-04 - accuracy: 1.0000\n",
            "Epoch 110/150\n",
            "1/1 [==============================] - 0s 12ms/step - loss: 2.7642e-04 - accuracy: 1.0000\n",
            "Epoch 111/150\n",
            "1/1 [==============================] - 0s 10ms/step - loss: 2.7253e-04 - accuracy: 1.0000\n",
            "Epoch 112/150\n",
            "1/1 [==============================] - 0s 13ms/step - loss: 2.6879e-04 - accuracy: 1.0000\n",
            "Epoch 113/150\n",
            "1/1 [==============================] - 0s 12ms/step - loss: 2.6517e-04 - accuracy: 1.0000\n",
            "Epoch 114/150\n",
            "1/1 [==============================] - 0s 13ms/step - loss: 2.6166e-04 - accuracy: 1.0000\n",
            "Epoch 115/150\n",
            "1/1 [==============================] - 0s 14ms/step - loss: 2.5826e-04 - accuracy: 1.0000\n",
            "Epoch 116/150\n",
            "1/1 [==============================] - 0s 14ms/step - loss: 2.5498e-04 - accuracy: 1.0000\n",
            "Epoch 117/150\n",
            "1/1 [==============================] - 0s 15ms/step - loss: 2.5178e-04 - accuracy: 1.0000\n",
            "Epoch 118/150\n",
            "1/1 [==============================] - 0s 16ms/step - loss: 2.4868e-04 - accuracy: 1.0000\n",
            "Epoch 119/150\n",
            "1/1 [==============================] - 0s 11ms/step - loss: 2.4567e-04 - accuracy: 1.0000\n",
            "Epoch 120/150\n",
            "1/1 [==============================] - 0s 12ms/step - loss: 2.4274e-04 - accuracy: 1.0000\n",
            "Epoch 121/150\n",
            "1/1 [==============================] - 0s 16ms/step - loss: 2.3987e-04 - accuracy: 1.0000\n",
            "Epoch 122/150\n",
            "1/1 [==============================] - 0s 12ms/step - loss: 2.3708e-04 - accuracy: 1.0000\n",
            "Epoch 123/150\n",
            "1/1 [==============================] - 0s 12ms/step - loss: 2.3437e-04 - accuracy: 1.0000\n",
            "Epoch 124/150\n",
            "1/1 [==============================] - 0s 10ms/step - loss: 2.3171e-04 - accuracy: 1.0000\n",
            "Epoch 125/150\n",
            "1/1 [==============================] - 0s 13ms/step - loss: 2.2910e-04 - accuracy: 1.0000\n",
            "Epoch 126/150\n",
            "1/1 [==============================] - 0s 12ms/step - loss: 2.2658e-04 - accuracy: 1.0000\n",
            "Epoch 127/150\n",
            "1/1 [==============================] - 0s 10ms/step - loss: 2.2409e-04 - accuracy: 1.0000\n",
            "Epoch 128/150\n",
            "1/1 [==============================] - 0s 10ms/step - loss: 2.2166e-04 - accuracy: 1.0000\n",
            "Epoch 129/150\n",
            "1/1 [==============================] - 0s 11ms/step - loss: 2.1926e-04 - accuracy: 1.0000\n",
            "Epoch 130/150\n",
            "1/1 [==============================] - 0s 11ms/step - loss: 2.1694e-04 - accuracy: 1.0000\n",
            "Epoch 131/150\n",
            "1/1 [==============================] - 0s 11ms/step - loss: 2.1465e-04 - accuracy: 1.0000\n",
            "Epoch 132/150\n",
            "1/1 [==============================] - 0s 11ms/step - loss: 2.1241e-04 - accuracy: 1.0000\n",
            "Epoch 133/150\n",
            "1/1 [==============================] - 0s 12ms/step - loss: 2.1021e-04 - accuracy: 1.0000\n",
            "Epoch 134/150\n",
            "1/1 [==============================] - 0s 11ms/step - loss: 2.0807e-04 - accuracy: 1.0000\n",
            "Epoch 135/150\n",
            "1/1 [==============================] - 0s 11ms/step - loss: 2.0596e-04 - accuracy: 1.0000\n",
            "Epoch 136/150\n",
            "1/1 [==============================] - 0s 10ms/step - loss: 2.0387e-04 - accuracy: 1.0000\n",
            "Epoch 137/150\n",
            "1/1 [==============================] - 0s 11ms/step - loss: 2.0183e-04 - accuracy: 1.0000\n",
            "Epoch 138/150\n",
            "1/1 [==============================] - 0s 10ms/step - loss: 1.9983e-04 - accuracy: 1.0000\n",
            "Epoch 139/150\n",
            "1/1 [==============================] - 0s 11ms/step - loss: 1.9786e-04 - accuracy: 1.0000\n",
            "Epoch 140/150\n",
            "1/1 [==============================] - 0s 11ms/step - loss: 1.9593e-04 - accuracy: 1.0000\n",
            "Epoch 141/150\n",
            "1/1 [==============================] - 0s 11ms/step - loss: 1.9403e-04 - accuracy: 1.0000\n",
            "Epoch 142/150\n",
            "1/1 [==============================] - 0s 11ms/step - loss: 1.9215e-04 - accuracy: 1.0000\n",
            "Epoch 143/150\n",
            "1/1 [==============================] - 0s 19ms/step - loss: 1.9032e-04 - accuracy: 1.0000\n",
            "Epoch 144/150\n",
            "1/1 [==============================] - 0s 15ms/step - loss: 1.8850e-04 - accuracy: 1.0000\n",
            "Epoch 145/150\n",
            "1/1 [==============================] - 0s 17ms/step - loss: 1.8672e-04 - accuracy: 1.0000\n",
            "Epoch 146/150\n",
            "1/1 [==============================] - 0s 15ms/step - loss: 1.8496e-04 - accuracy: 1.0000\n",
            "Epoch 147/150\n",
            "1/1 [==============================] - 0s 15ms/step - loss: 1.8324e-04 - accuracy: 1.0000\n",
            "Epoch 148/150\n",
            "1/1 [==============================] - 0s 14ms/step - loss: 1.8153e-04 - accuracy: 1.0000\n",
            "Epoch 149/150\n",
            "1/1 [==============================] - 0s 14ms/step - loss: 1.7986e-04 - accuracy: 1.0000\n",
            "Epoch 150/150\n",
            "1/1 [==============================] - 0s 10ms/step - loss: 1.7821e-04 - accuracy: 1.0000\n"
          ]
        },
        {
          "output_type": "execute_result",
          "data": {
            "text/plain": [
              "<keras.src.callbacks.History at 0x7bd2b2476dd0>"
            ]
          },
          "metadata": {},
          "execution_count": 94
        }
      ]
    },
    {
      "cell_type": "markdown",
      "source": [
        "# Описываем функцию распознавани аудио при помощи recognize_google"
      ],
      "metadata": {
        "id": "JXSCY4eBewDm"
      }
    },
    {
      "cell_type": "code",
      "source": [
        "\n",
        "def recognize_file_def(AudioFile):\n",
        "  AudioFile = sr.AudioFile(AudioFile)\n",
        "  with AudioFile as source:\n",
        "      audio = r.record(source)\n",
        "      # print(r.recognize_google(audio, language=\"ru-RU\"))\n",
        "      return r.recognize_google(audio, language=\"ru-RU\")"
      ],
      "metadata": {
        "id": "0MGxmuFZzpt_"
      },
      "execution_count": null,
      "outputs": []
    },
    {
      "cell_type": "markdown",
      "source": [
        "# Перебираем файлы, распознаем текст"
      ],
      "metadata": {
        "id": "uLeiCuaL59fJ"
      }
    },
    {
      "cell_type": "code",
      "source": [
        "df = pd.DataFrame(columns=[\"file\", \"text\", \"vector\"])#, \"text\", \"vector\")\n",
        "\n",
        "def search_all_files(directory):\n",
        "  for filename in os.listdir(directory):\n",
        "    if \"chunk\" in filename:\n",
        "        f = os.path.join(directory, filename)\n",
        "        # checking if it is a file\n",
        "        if os.path.isfile(f):\n",
        "          if os.path.getsize(f)<90000000:\n",
        "            recognize_file = recognize_file_def(f)\n",
        "            # print(type(recognize_file))\n",
        "            df.loc[ len(df.index )] = [f, recognize_file, ft.get_word_vector(recognize_file)]\n",
        "        else:\n",
        "          search_all_files(f)\n",
        "\n",
        "search_all_files('/content/gdrive/MyDrive/AI_data/golos_blizko')\n",
        "df.to_excel(\"/content/gdrive/MyDrive/AI_data/df.xlsx\")"
      ],
      "metadata": {
        "id": "FWOZxaCAJW8V"
      },
      "execution_count": null,
      "outputs": []
    },
    {
      "cell_type": "code",
      "source": [
        "print(type(ft.get_word_vector(\"Изменяй темп движения\")))"
      ],
      "metadata": {
        "colab": {
          "base_uri": "https://localhost:8080/"
        },
        "id": "mm0-KHWujEO4",
        "outputId": "de700cb0-a15d-4ddc-d814-249cea46a9af"
      },
      "execution_count": null,
      "outputs": [
        {
          "output_type": "stream",
          "name": "stdout",
          "text": [
            "<class 'numpy.ndarray'>\n"
          ]
        }
      ]
    },
    {
      "cell_type": "markdown",
      "source": [
        "# Пропускаем распознанный текст  через FastText"
      ],
      "metadata": {
        "id": "Ursc0wqDDox1"
      }
    },
    {
      "cell_type": "code",
      "source": [
        "for row in df\n",
        "x3_data500 = []\n",
        "for row in data500.values:\n",
        "  wordVector = ft.get_word_vector(str(row[1]))\n",
        "  x3_data500.append(wordVector)\n",
        "x3_data500 = np.array(x3_data500)"
      ],
      "metadata": {
        "id": "Fys4KbSFG2Sh"
      },
      "execution_count": null,
      "outputs": []
    }
  ]
}