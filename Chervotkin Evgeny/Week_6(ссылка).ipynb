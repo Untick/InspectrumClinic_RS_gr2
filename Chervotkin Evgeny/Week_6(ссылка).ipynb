{
  "nbformat": 4,
  "nbformat_minor": 0,
  "metadata": {
    "colab": {
      "provenance": []
    },
    "kernelspec": {
      "name": "python3",
      "display_name": "Python 3"
    },
    "language_info": {
      "name": "python"
    }
  },
  "cells": [
    {
      "cell_type": "markdown",
      "source": [
        "**Мой ноутбук вешает больше 25 мегабайт и не может быть залит на гитхаб, поэтому оставляю здесь ссылку на 6 ую неделю стажировки**"
      ],
      "metadata": {
        "id": "qEe4NR8FevTN"
      }
    },
    {
      "cell_type": "markdown",
      "source": [
        "https://colab.research.google.com/drive/1F0cnc6FptxVrT41Wy9g3NWP1oNF0bAsQ?usp=sharing"
      ],
      "metadata": {
        "id": "QWeCzVXEeuhN"
      }
    }
  ]
}