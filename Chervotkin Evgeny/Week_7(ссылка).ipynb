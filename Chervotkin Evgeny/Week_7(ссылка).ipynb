{
  "nbformat": 4,
  "nbformat_minor": 0,
  "metadata": {
    "colab": {
      "provenance": []
    },
    "kernelspec": {
      "name": "python3",
      "display_name": "Python 3"
    },
    "language_info": {
      "name": "python"
    }
  },
  "cells": [
    {
      "cell_type": "markdown",
      "source": [
        "https://colab.research.google.com/drive/1l1eqf4Z4QwFWSp2H7zEWc-K80fw7qE9A?usp=sharing"
      ],
      "metadata": {
        "id": "yF3kg1j425Vd"
      }
    },
    {
      "cell_type": "markdown",
      "source": [
        "Ссылка на 7ую неделю."
      ],
      "metadata": {
        "id": "GXo8384O28Ld"
      }
    }
  ]
}