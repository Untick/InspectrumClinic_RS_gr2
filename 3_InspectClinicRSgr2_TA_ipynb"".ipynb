{
  "cells": [
    {
      "cell_type": "markdown",
      "metadata": {
        "id": "view-in-github",
        "colab_type": "text"
      },
      "source": [
        "<a href=\"https://colab.research.google.com/github/Untick/InspectrumClinic_RS_gr2/blob/Taranov-Anatoly-folder/3_InspectClinicRSgr2_TA_ipynb%22%22.ipynb\" target=\"_parent\"><img src=\"https://colab.research.google.com/assets/colab-badge.svg\" alt=\"Open In Colab\"/></a>"
      ]
    },
    {
      "cell_type": "markdown",
      "metadata": {
        "id": "8gwbrbmV-Th-"
      },
      "source": [
        "# ТЕХНИЧЕСКОЕ ЗАДАНИЕ\n",
        "\n"
      ]
    },
    {
      "cell_type": "markdown",
      "metadata": {
        "id": "zeDPgEOkymqf"
      },
      "source": [
        "Рекомендательная система для профпатолога (INSPECTRUM CLINIC)\n",
        "\n",
        "Цель: Разработать прототип системы, реализующей функцию рекомендательной системы для врача профпатолога.\n",
        "\n",
        "Принцип работы: Система должна помогать врачу вынести решение о том годен, не годен или ограниченно годен человек на определенной должности. В датасете целевым столбцом для предсказания нейросетью является столбец под названием: “ЗаключениеМК”. Система может дополнять вердикт мнением, почему человек не годен, или почему ограниченно годен.\n",
        "\n",
        "Требования интерфейсу: Минимальный уровень реализации: notebook google colaboratory. Требуется реализовать простой веб-интерфейс для загрузки анализируемого моделью нейросети набора данных и удобным выводом результатов вынесенного решения.\n",
        "\n",
        "Дополнительно: передача продвинутой системы веб-интерфейса, дополняющей вердикт мнением, почему человек не годен, или почему ограниченно годен.\n",
        "\n",
        "Требования к тестированию, метрикам качества: Оценка результатов работы системы производится Заказчиком на тестовом наборе Заказчика. Метрика точности - точность рекомендации должна быть не ниже 95%"
      ]
    },
    {
      "cell_type": "markdown",
      "source": [
        "# Загрузка библиотек и датасета"
      ],
      "metadata": {
        "id": "bQ-reBL1LrLd"
      }
    },
    {
      "cell_type": "code",
      "execution_count": 22,
      "metadata": {
        "id": "0_cb-YDAJoEb"
      },
      "outputs": [],
      "source": [
        "# Импорт библиотек и инструментов\n",
        "from google.colab import files              # Импортируем библиотеку files для работы с файлами\n",
        "import re                                   # Регулярные выражения\n",
        "import pandas as pd                         # Импортируем библиотеку обработки и анализа данных pandas\n",
        "import matplotlib.pyplot as plt             # Импортируем модуль pyplot библиотеки matplotlib для построения графиков\n",
        "import seaborn as sns                       # Импортируем модуль seaborn библиотеки matplotlib для построения графиков\n",
        "import datetime                             # Импортируем модуль datetime для обработки данных в формете даты\n",
        "import numpy as np                          # Импортируем библиотеку numpy\n",
        "\n",
        "%matplotlib inline\n",
        "import gdown\n",
        "from tensorflow.keras import utils\n",
        "from tensorflow.keras.preprocessing.text import Tokenizer, text_to_word_sequence\n",
        "from sklearn.preprocessing import StandardScaler\n",
        "from sklearn.model_selection import train_test_split\n",
        "from IPython.display import clear_output"
      ]
    },
    {
      "cell_type": "code",
      "execution_count": 23,
      "metadata": {
        "colab": {
          "base_uri": "https://localhost:8080/"
        },
        "id": "NSaCOOQIdOZf",
        "outputId": "6d09fc19-f321-4432-9bbb-f80f52fb9364"
      },
      "outputs": [
        {
          "output_type": "stream",
          "name": "stdout",
          "text": [
            "Drive already mounted at /content/drive; to attempt to forcibly remount, call drive.mount(\"/content/drive\", force_remount=True).\n"
          ]
        }
      ],
      "source": [
        "                                            # Для загрузки данных используем drive\n",
        "from google.colab import drive\n",
        "drive.mount('/content/drive')"
      ]
    },
    {
      "cell_type": "code",
      "execution_count": 24,
      "metadata": {
        "id": "K2rzF4ilNPcE"
      },
      "outputs": [],
      "source": [
        "data = pd.read_excel('/content/drive/MyDrive/БазыCSV/InClinic/ВесьЗаПериод.xlsx')       # Загрузка файла из диска в colab"
      ]
    },
    {
      "cell_type": "markdown",
      "metadata": {
        "id": "wlQ2MAoAvZUy"
      },
      "source": [
        "# Анализ формы и состава данных\n",
        "\n",
        "В ходе анализа предоставленной базы данных выяснилось что достаточно большая часть содержит информацию не влияющую на выполнение задачи по техническому заданию. Принято решение создания датафрейма на позициях необходимых для решения задачи.\n",
        "\n",
        "\n",
        "---\n",
        "\n",
        "**Запускать только при необходимости анализа**"
      ]
    },
    {
      "cell_type": "code",
      "execution_count": null,
      "metadata": {
        "colab": {
          "base_uri": "https://localhost:8080/"
        },
        "id": "oh2FEm_Ku5Gs",
        "outputId": "39151b53-0a1e-40c3-eb74-806abdc1b9a8"
      },
      "outputs": [
        {
          "output_type": "stream",
          "name": "stdout",
          "text": [
            "(32686, 289)\n",
            "9446254\n"
          ]
        },
        {
          "output_type": "execute_result",
          "data": {
            "text/plain": [
              "8791393"
            ]
          },
          "metadata": {},
          "execution_count": 15
        }
      ],
      "source": [
        "print(data.shape)                            # Форма и размер\n",
        "print(data.size)                             # Колличество элементов\n",
        "data.isna().sum().sum()                      # Вычислит общее количество пропусков во всей таблице\n",
        "#data.info()                                 # Сводная информация\n",
        "#data.head()                                 # Вывод первых 5 строк таблицы"
      ]
    },
    {
      "cell_type": "code",
      "execution_count": null,
      "metadata": {
        "colab": {
          "base_uri": "https://localhost:8080/",
          "height": 320
        },
        "id": "Oje2U5h86Igp",
        "outputId": "83e8d127-766e-4460-fa41-18e851f0bfbb"
      },
      "outputs": [
        {
          "output_type": "execute_result",
          "data": {
            "text/plain": [
              "               ДокументПрохождениеМедосмотра  \\\n",
              "count                                  32686   \n",
              "unique                                 18318   \n",
              "top     b31f3c71-87d7-11ec-80fc-0cc47aab8067   \n",
              "freq                                       7   \n",
              "\n",
              "                                      Клиент   КлиентДатаРождения КлиентПол  \\\n",
              "count                                  32686                32447     32682   \n",
              "unique                                 16719                10265         3   \n",
              "top     a0a96ecb-6cd5-11ea-80dd-0cc47aab8067  1988-01-01T00:00:00   Мужской   \n",
              "freq                                      10                   19     23122   \n",
              "\n",
              "       КлиентПолПредставление ДатаЗавершенияМедосмотра  ТипМедосмотра  \\\n",
              "count                   32682                    32686          32686   \n",
              "unique                      3                      468              2   \n",
              "top                   Мужской      2023-05-31T00:00:00  Периодический   \n",
              "freq                    23122                     1755          32582   \n",
              "\n",
              "       ТипМедосмотраПредставление                            Контрагент  \\\n",
              "count                       32686                                 32670   \n",
              "unique                          2                                   610   \n",
              "top                 Периодический  14b3b113-2a96-11e9-80ce-0cc47aab8067   \n",
              "freq                        32582                                  2782   \n",
              "\n",
              "               Цех  ... ХирургНеИсп2_МКБ103 ХирургНеИсп3_МКБ101  \\\n",
              "count        10596  ...                   6                   6   \n",
              "unique         750  ...                   1                   1   \n",
              "top     Без отдела  ...               Z00.0               Z00.0   \n",
              "freq          1964  ...                   6                   6   \n",
              "\n",
              "       ХирургНеИсп3_МКБ102 ХирургНеИсп3_МКБ103 ЭКГНеИсп1_МКБ101  \\\n",
              "count                    6                   6              864   \n",
              "unique                   1                   1                1   \n",
              "top                  Z00.0               Z00.0            Z00.0   \n",
              "freq                     6                   6              864   \n",
              "\n",
              "       ЭКГНеИсп1_МКБ102 ЭКГНеИсп2_МКБ101 ЭКГНеИсп2_МКБ102 Эндоскопия1_МКБ101  \\\n",
              "count                22               22               22                 94   \n",
              "unique                1                1                1                  9   \n",
              "top               Z00.0            Z00.0            Z00.0              Z00.0   \n",
              "freq                 22               22               22                 42   \n",
              "\n",
              "       Эндоскопия1_МКБ102  \n",
              "count                   6  \n",
              "unique                  2  \n",
              "top                 K86.1  \n",
              "freq                    4  \n",
              "\n",
              "[4 rows x 213 columns]"
            ],
            "text/html": [
              "\n",
              "  <div id=\"df-c8d07557-dd63-4b00-91da-0fd4910aeb77\">\n",
              "    <div class=\"colab-df-container\">\n",
              "      <div>\n",
              "<style scoped>\n",
              "    .dataframe tbody tr th:only-of-type {\n",
              "        vertical-align: middle;\n",
              "    }\n",
              "\n",
              "    .dataframe tbody tr th {\n",
              "        vertical-align: top;\n",
              "    }\n",
              "\n",
              "    .dataframe thead th {\n",
              "        text-align: right;\n",
              "    }\n",
              "</style>\n",
              "<table border=\"1\" class=\"dataframe\">\n",
              "  <thead>\n",
              "    <tr style=\"text-align: right;\">\n",
              "      <th></th>\n",
              "      <th>ДокументПрохождениеМедосмотра</th>\n",
              "      <th>Клиент</th>\n",
              "      <th>КлиентДатаРождения</th>\n",
              "      <th>КлиентПол</th>\n",
              "      <th>КлиентПолПредставление</th>\n",
              "      <th>ДатаЗавершенияМедосмотра</th>\n",
              "      <th>ТипМедосмотра</th>\n",
              "      <th>ТипМедосмотраПредставление</th>\n",
              "      <th>Контрагент</th>\n",
              "      <th>Цех</th>\n",
              "      <th>...</th>\n",
              "      <th>ХирургНеИсп2_МКБ103</th>\n",
              "      <th>ХирургНеИсп3_МКБ101</th>\n",
              "      <th>ХирургНеИсп3_МКБ102</th>\n",
              "      <th>ХирургНеИсп3_МКБ103</th>\n",
              "      <th>ЭКГНеИсп1_МКБ101</th>\n",
              "      <th>ЭКГНеИсп1_МКБ102</th>\n",
              "      <th>ЭКГНеИсп2_МКБ101</th>\n",
              "      <th>ЭКГНеИсп2_МКБ102</th>\n",
              "      <th>Эндоскопия1_МКБ101</th>\n",
              "      <th>Эндоскопия1_МКБ102</th>\n",
              "    </tr>\n",
              "  </thead>\n",
              "  <tbody>\n",
              "    <tr>\n",
              "      <th>count</th>\n",
              "      <td>32686</td>\n",
              "      <td>32686</td>\n",
              "      <td>32447</td>\n",
              "      <td>32682</td>\n",
              "      <td>32682</td>\n",
              "      <td>32686</td>\n",
              "      <td>32686</td>\n",
              "      <td>32686</td>\n",
              "      <td>32670</td>\n",
              "      <td>10596</td>\n",
              "      <td>...</td>\n",
              "      <td>6</td>\n",
              "      <td>6</td>\n",
              "      <td>6</td>\n",
              "      <td>6</td>\n",
              "      <td>864</td>\n",
              "      <td>22</td>\n",
              "      <td>22</td>\n",
              "      <td>22</td>\n",
              "      <td>94</td>\n",
              "      <td>6</td>\n",
              "    </tr>\n",
              "    <tr>\n",
              "      <th>unique</th>\n",
              "      <td>18318</td>\n",
              "      <td>16719</td>\n",
              "      <td>10265</td>\n",
              "      <td>3</td>\n",
              "      <td>3</td>\n",
              "      <td>468</td>\n",
              "      <td>2</td>\n",
              "      <td>2</td>\n",
              "      <td>610</td>\n",
              "      <td>750</td>\n",
              "      <td>...</td>\n",
              "      <td>1</td>\n",
              "      <td>1</td>\n",
              "      <td>1</td>\n",
              "      <td>1</td>\n",
              "      <td>1</td>\n",
              "      <td>1</td>\n",
              "      <td>1</td>\n",
              "      <td>1</td>\n",
              "      <td>9</td>\n",
              "      <td>2</td>\n",
              "    </tr>\n",
              "    <tr>\n",
              "      <th>top</th>\n",
              "      <td>b31f3c71-87d7-11ec-80fc-0cc47aab8067</td>\n",
              "      <td>a0a96ecb-6cd5-11ea-80dd-0cc47aab8067</td>\n",
              "      <td>1988-01-01T00:00:00</td>\n",
              "      <td>Мужской</td>\n",
              "      <td>Мужской</td>\n",
              "      <td>2023-05-31T00:00:00</td>\n",
              "      <td>Периодический</td>\n",
              "      <td>Периодический</td>\n",
              "      <td>14b3b113-2a96-11e9-80ce-0cc47aab8067</td>\n",
              "      <td>Без отдела</td>\n",
              "      <td>...</td>\n",
              "      <td>Z00.0</td>\n",
              "      <td>Z00.0</td>\n",
              "      <td>Z00.0</td>\n",
              "      <td>Z00.0</td>\n",
              "      <td>Z00.0</td>\n",
              "      <td>Z00.0</td>\n",
              "      <td>Z00.0</td>\n",
              "      <td>Z00.0</td>\n",
              "      <td>Z00.0</td>\n",
              "      <td>K86.1</td>\n",
              "    </tr>\n",
              "    <tr>\n",
              "      <th>freq</th>\n",
              "      <td>7</td>\n",
              "      <td>10</td>\n",
              "      <td>19</td>\n",
              "      <td>23122</td>\n",
              "      <td>23122</td>\n",
              "      <td>1755</td>\n",
              "      <td>32582</td>\n",
              "      <td>32582</td>\n",
              "      <td>2782</td>\n",
              "      <td>1964</td>\n",
              "      <td>...</td>\n",
              "      <td>6</td>\n",
              "      <td>6</td>\n",
              "      <td>6</td>\n",
              "      <td>6</td>\n",
              "      <td>864</td>\n",
              "      <td>22</td>\n",
              "      <td>22</td>\n",
              "      <td>22</td>\n",
              "      <td>42</td>\n",
              "      <td>4</td>\n",
              "    </tr>\n",
              "  </tbody>\n",
              "</table>\n",
              "<p>4 rows × 213 columns</p>\n",
              "</div>\n",
              "      <button class=\"colab-df-convert\" onclick=\"convertToInteractive('df-c8d07557-dd63-4b00-91da-0fd4910aeb77')\"\n",
              "              title=\"Convert this dataframe to an interactive table.\"\n",
              "              style=\"display:none;\">\n",
              "        \n",
              "  <svg xmlns=\"http://www.w3.org/2000/svg\" height=\"24px\"viewBox=\"0 0 24 24\"\n",
              "       width=\"24px\">\n",
              "    <path d=\"M0 0h24v24H0V0z\" fill=\"none\"/>\n",
              "    <path d=\"M18.56 5.44l.94 2.06.94-2.06 2.06-.94-2.06-.94-.94-2.06-.94 2.06-2.06.94zm-11 1L8.5 8.5l.94-2.06 2.06-.94-2.06-.94L8.5 2.5l-.94 2.06-2.06.94zm10 10l.94 2.06.94-2.06 2.06-.94-2.06-.94-.94-2.06-.94 2.06-2.06.94z\"/><path d=\"M17.41 7.96l-1.37-1.37c-.4-.4-.92-.59-1.43-.59-.52 0-1.04.2-1.43.59L10.3 9.45l-7.72 7.72c-.78.78-.78 2.05 0 2.83L4 21.41c.39.39.9.59 1.41.59.51 0 1.02-.2 1.41-.59l7.78-7.78 2.81-2.81c.8-.78.8-2.07 0-2.86zM5.41 20L4 18.59l7.72-7.72 1.47 1.35L5.41 20z\"/>\n",
              "  </svg>\n",
              "      </button>\n",
              "      \n",
              "  <style>\n",
              "    .colab-df-container {\n",
              "      display:flex;\n",
              "      flex-wrap:wrap;\n",
              "      gap: 12px;\n",
              "    }\n",
              "\n",
              "    .colab-df-convert {\n",
              "      background-color: #E8F0FE;\n",
              "      border: none;\n",
              "      border-radius: 50%;\n",
              "      cursor: pointer;\n",
              "      display: none;\n",
              "      fill: #1967D2;\n",
              "      height: 32px;\n",
              "      padding: 0 0 0 0;\n",
              "      width: 32px;\n",
              "    }\n",
              "\n",
              "    .colab-df-convert:hover {\n",
              "      background-color: #E2EBFA;\n",
              "      box-shadow: 0px 1px 2px rgba(60, 64, 67, 0.3), 0px 1px 3px 1px rgba(60, 64, 67, 0.15);\n",
              "      fill: #174EA6;\n",
              "    }\n",
              "\n",
              "    [theme=dark] .colab-df-convert {\n",
              "      background-color: #3B4455;\n",
              "      fill: #D2E3FC;\n",
              "    }\n",
              "\n",
              "    [theme=dark] .colab-df-convert:hover {\n",
              "      background-color: #434B5C;\n",
              "      box-shadow: 0px 1px 3px 1px rgba(0, 0, 0, 0.15);\n",
              "      filter: drop-shadow(0px 1px 2px rgba(0, 0, 0, 0.3));\n",
              "      fill: #FFFFFF;\n",
              "    }\n",
              "  </style>\n",
              "\n",
              "      <script>\n",
              "        const buttonEl =\n",
              "          document.querySelector('#df-c8d07557-dd63-4b00-91da-0fd4910aeb77 button.colab-df-convert');\n",
              "        buttonEl.style.display =\n",
              "          google.colab.kernel.accessAllowed ? 'block' : 'none';\n",
              "\n",
              "        async function convertToInteractive(key) {\n",
              "          const element = document.querySelector('#df-c8d07557-dd63-4b00-91da-0fd4910aeb77');\n",
              "          const dataTable =\n",
              "            await google.colab.kernel.invokeFunction('convertToInteractive',\n",
              "                                                     [key], {});\n",
              "          if (!dataTable) return;\n",
              "\n",
              "          const docLinkHtml = 'Like what you see? Visit the ' +\n",
              "            '<a target=\"_blank\" href=https://colab.research.google.com/notebooks/data_table.ipynb>data table notebook</a>'\n",
              "            + ' to learn more about interactive tables.';\n",
              "          element.innerHTML = '';\n",
              "          dataTable['output_type'] = 'display_data';\n",
              "          await google.colab.output.renderOutput(dataTable, element);\n",
              "          const docLink = document.createElement('div');\n",
              "          docLink.innerHTML = docLinkHtml;\n",
              "          element.appendChild(docLink);\n",
              "        }\n",
              "      </script>\n",
              "    </div>\n",
              "  </div>\n",
              "  "
            ]
          },
          "metadata": {},
          "execution_count": 47
        }
      ],
      "source": [
        "data.describe(include=['O'])                  # Статистика"
      ]
    },
    {
      "cell_type": "code",
      "execution_count": null,
      "metadata": {
        "id": "dhBfGAvGHUyp"
      },
      "outputs": [],
      "source": [
        "data.info([0,-1])                              # Анализ состава информации в столбцах"
      ]
    },
    {
      "cell_type": "markdown",
      "metadata": {
        "id": "XnzlbvgQ8mLL"
      },
      "source": [
        "# Отбор столбцов с целевыми данными\n",
        "\n",
        "* Отбор столбцов - персона/профессия/статус:\n",
        "\"КлиентДатаРождения\",  \"КлиентПол\",  \"ТипМедосмотраПредставление\", \"ПсихОсвидетельствование\", \"Профессия\", \"ЗаключениеМК\", \"ЗаключениеМКПредставление\",  \"ДиспансернаяГруппаПредставление\",\n",
        "\"ВредныеФакторы\".\n",
        "\n",
        "* Отбор столбцов по специализациям врачей\n",
        " с целевой информацией - Специализация/обследование/состояние:\n",
        "\"МКБ101\",  \"МКБ102\", \"МКБ103\",  \"МКБ104\", \" Представление\", \"ДиагнозПредставление\",   \"Диагноз_ЗначениеПредставление\",\n",
        "\"ПрофнепригодностьВременнаяПредставление\",  \"ПрофнепригодностьВременнаяПредставление1\", \"ПрофнепригодностьВременная1\",\"Анамнез_ЗначениеПредставление\",  \"Профессиональное1\", \"ЖалобыДополнение\", \"Рекомендация1\", \"Заключение\".\n"
      ]
    },
    {
      "cell_type": "code",
      "execution_count": 39,
      "metadata": {
        "id": "EAulDY_ncK2L"
      },
      "outputs": [],
      "source": [
        "# Создание копии таблицы\n",
        "df = data.copy()"
      ]
    },
    {
      "cell_type": "code",
      "execution_count": 40,
      "metadata": {
        "id": "CYhg6FkFKt4E"
      },
      "outputs": [],
      "source": [
        "# Список столбцов с персональными данными\n",
        "person = ['КлиентДатаРождения', 'КлиентПол', 'Профессия','ВредныеФакторы',\n",
        "          'ПсихОсвидетельствование', 'ЗаключениеМК', 'ЗаключениеМКПредставление']\n",
        "def person_columns(df):\n",
        "    person = []\n",
        "    for column in df.columns:\n",
        "                columns_selected.append(df[column])\n",
        "    return df[person]\n",
        "\n",
        "person_dat = df[person]"
      ]
    },
    {
      "cell_type": "code",
      "execution_count": 41,
      "metadata": {
        "id": "0UeNJZqgEH3J"
      },
      "outputs": [],
      "source": [
        "words = {\"МКБ101\", \"МКБ102\",\"МКБ103\", \"МКБ104\",  \"Представление\",\n",
        "         \"ПрофнепригодностьВременнаяПредставление\",\"ПрофнепригодностьВременнаяПредставление1\",\n",
        "         \"ПрофнепригодностьВременная1\",\"ЖалобыДополнение\",\"Заключение\"}\n",
        "def find_columns(df, words):\n",
        "    '''Функция для поиска столбцов в датафрейме df.Возвращаем:\n",
        "     -новый датафрейм, состоящий только из целевых столбцов\n",
        "    '''\n",
        "    #разделяем названия столбцов на отдельные слова\n",
        "    column_words = [s.split('_') for s in df.columns]\n",
        "    # ищем вхождения каждого слова из списка words\n",
        "    # в каждом списке слов из column_words\n",
        "    word_indices = {}\n",
        "    for i, cw in enumerate(column_words):\n",
        "        for word in words:\n",
        "            if word in cw:\n",
        "                if i not in word_indices:\n",
        "                    word_indices[i] = 1\n",
        "                else:\n",
        "                    word_indices[i] += 1\n",
        "\n",
        "    #составляем список индексов столбцов, которые содержат\n",
        "    #хотя бы одно искомое слово\n",
        "    index_list = [i for i, count in word_indices.items() if count > 0]\n",
        "\n",
        "    #возвращаем новый датафрейм, состоящий только из найденных столбцов\n",
        "    return df.iloc[:, index_list]\n",
        "\n",
        "diagnosis_dat = find_columns(df, words)\n"
      ]
    },
    {
      "cell_type": "code",
      "source": [
        "# Объединяяем выборки столбцов\n",
        "result = pd.concat([person_dat, diagnosis_dat], axis=1)\n",
        "df1= result"
      ],
      "metadata": {
        "id": "tAjyJaS1tvjF"
      },
      "execution_count": 42,
      "outputs": []
    },
    {
      "cell_type": "code",
      "source": [
        "# Удаляем полностью пустые столбцы\n",
        "df1.dropna(axis=1, how='all', inplace=True)\n",
        "# Удаляем дубликаты столбцов\n",
        "df1 = df1.loc[:,~df1.columns.duplicated()]\n",
        "# Удаляем полностью пустые строки\n",
        "df1.dropna(axis=0, how='all', inplace=True)\n",
        "# Доля пропусков от общего количества элементов\n",
        "df1.head(2).isna().sum() / df1.head(2).shape[0]\n",
        "# Вычислим общее количество пропусков во всей таблице\n",
        "df1.head(2).isna().sum().sum()\n",
        "proc = df1.head(2).isna().sum().sum() / df1.head(2).size\n",
        "# Вычислим общее количество пропусков в процентах во всей таблице\n",
        "print('{:.1%}'.format(proc))"
      ],
      "metadata": {
        "colab": {
          "base_uri": "https://localhost:8080/"
        },
        "id": "HnI_9DrYN3MP",
        "outputId": "f833d1fb-b4bd-40ff-89c5-2d26f90449c0"
      },
      "execution_count": 43,
      "outputs": [
        {
          "output_type": "stream",
          "name": "stdout",
          "text": [
            "93.3%\n"
          ]
        }
      ]
    },
    {
      "cell_type": "code",
      "execution_count": 44,
      "metadata": {
        "colab": {
          "base_uri": "https://localhost:8080/",
          "height": 0
        },
        "id": "TifgTi-Kw7RR",
        "outputId": "a6278333-4339-4da2-8b28-320b5ebd239e"
      },
      "outputs": [
        {
          "output_type": "stream",
          "name": "stdout",
          "text": [
            "(32686, 194)\n",
            "6341084\n"
          ]
        },
        {
          "output_type": "execute_result",
          "data": {
            "text/plain": [
              "    КлиентДатаРождения КлиентПол        Профессия ВредныеФакторы  \\\n",
              "0  1989-12-31T00:00:00   Женский  Продавец-кассир     Нет данных   \n",
              "\n",
              "   ПсихОсвидетельствование ЗаключениеМК            ЗаключениеМКПредставление  \\\n",
              "0                    False        Годен  Годен к работе в указанных условиях   \n",
              "\n",
              "                            Заключение Гинекология1_МКБ101  \\\n",
              "0  Годен к работе в указанных условиях               Z00.0   \n",
              "\n",
              "  Гинекология1_МКБ102  ... ХирургНеИсп2_МКБ103 ХирургНеИсп3_МКБ101  \\\n",
              "0          Нет данных  ...          Нет данных          Нет данных   \n",
              "\n",
              "  ХирургНеИсп3_МКБ102 ХирургНеИсп3_МКБ103 ЭКГНеИсп1_МКБ101 ЭКГНеИсп1_МКБ102  \\\n",
              "0          Нет данных          Нет данных       Нет данных       Нет данных   \n",
              "\n",
              "  ЭКГНеИсп2_МКБ101 ЭКГНеИсп2_МКБ102 Эндоскопия1_МКБ101 Эндоскопия1_МКБ102  \n",
              "0       Нет данных       Нет данных         Нет данных         Нет данных  \n",
              "\n",
              "[1 rows x 194 columns]"
            ],
            "text/html": [
              "\n",
              "\n",
              "  <div id=\"df-03abdcfb-25da-4dff-be60-65785aacde96\">\n",
              "    <div class=\"colab-df-container\">\n",
              "      <div>\n",
              "<style scoped>\n",
              "    .dataframe tbody tr th:only-of-type {\n",
              "        vertical-align: middle;\n",
              "    }\n",
              "\n",
              "    .dataframe tbody tr th {\n",
              "        vertical-align: top;\n",
              "    }\n",
              "\n",
              "    .dataframe thead th {\n",
              "        text-align: right;\n",
              "    }\n",
              "</style>\n",
              "<table border=\"1\" class=\"dataframe\">\n",
              "  <thead>\n",
              "    <tr style=\"text-align: right;\">\n",
              "      <th></th>\n",
              "      <th>КлиентДатаРождения</th>\n",
              "      <th>КлиентПол</th>\n",
              "      <th>Профессия</th>\n",
              "      <th>ВредныеФакторы</th>\n",
              "      <th>ПсихОсвидетельствование</th>\n",
              "      <th>ЗаключениеМК</th>\n",
              "      <th>ЗаключениеМКПредставление</th>\n",
              "      <th>Заключение</th>\n",
              "      <th>Гинекология1_МКБ101</th>\n",
              "      <th>Гинекология1_МКБ102</th>\n",
              "      <th>...</th>\n",
              "      <th>ХирургНеИсп2_МКБ103</th>\n",
              "      <th>ХирургНеИсп3_МКБ101</th>\n",
              "      <th>ХирургНеИсп3_МКБ102</th>\n",
              "      <th>ХирургНеИсп3_МКБ103</th>\n",
              "      <th>ЭКГНеИсп1_МКБ101</th>\n",
              "      <th>ЭКГНеИсп1_МКБ102</th>\n",
              "      <th>ЭКГНеИсп2_МКБ101</th>\n",
              "      <th>ЭКГНеИсп2_МКБ102</th>\n",
              "      <th>Эндоскопия1_МКБ101</th>\n",
              "      <th>Эндоскопия1_МКБ102</th>\n",
              "    </tr>\n",
              "  </thead>\n",
              "  <tbody>\n",
              "    <tr>\n",
              "      <th>0</th>\n",
              "      <td>1989-12-31T00:00:00</td>\n",
              "      <td>Женский</td>\n",
              "      <td>Продавец-кассир</td>\n",
              "      <td>Нет данных</td>\n",
              "      <td>False</td>\n",
              "      <td>Годен</td>\n",
              "      <td>Годен к работе в указанных условиях</td>\n",
              "      <td>Годен к работе в указанных условиях</td>\n",
              "      <td>Z00.0</td>\n",
              "      <td>Нет данных</td>\n",
              "      <td>...</td>\n",
              "      <td>Нет данных</td>\n",
              "      <td>Нет данных</td>\n",
              "      <td>Нет данных</td>\n",
              "      <td>Нет данных</td>\n",
              "      <td>Нет данных</td>\n",
              "      <td>Нет данных</td>\n",
              "      <td>Нет данных</td>\n",
              "      <td>Нет данных</td>\n",
              "      <td>Нет данных</td>\n",
              "      <td>Нет данных</td>\n",
              "    </tr>\n",
              "  </tbody>\n",
              "</table>\n",
              "<p>1 rows × 194 columns</p>\n",
              "</div>\n",
              "      <button class=\"colab-df-convert\" onclick=\"convertToInteractive('df-03abdcfb-25da-4dff-be60-65785aacde96')\"\n",
              "              title=\"Convert this dataframe to an interactive table.\"\n",
              "              style=\"display:none;\">\n",
              "\n",
              "  <svg xmlns=\"http://www.w3.org/2000/svg\" height=\"24px\"viewBox=\"0 0 24 24\"\n",
              "       width=\"24px\">\n",
              "    <path d=\"M0 0h24v24H0V0z\" fill=\"none\"/>\n",
              "    <path d=\"M18.56 5.44l.94 2.06.94-2.06 2.06-.94-2.06-.94-.94-2.06-.94 2.06-2.06.94zm-11 1L8.5 8.5l.94-2.06 2.06-.94-2.06-.94L8.5 2.5l-.94 2.06-2.06.94zm10 10l.94 2.06.94-2.06 2.06-.94-2.06-.94-.94-2.06-.94 2.06-2.06.94z\"/><path d=\"M17.41 7.96l-1.37-1.37c-.4-.4-.92-.59-1.43-.59-.52 0-1.04.2-1.43.59L10.3 9.45l-7.72 7.72c-.78.78-.78 2.05 0 2.83L4 21.41c.39.39.9.59 1.41.59.51 0 1.02-.2 1.41-.59l7.78-7.78 2.81-2.81c.8-.78.8-2.07 0-2.86zM5.41 20L4 18.59l7.72-7.72 1.47 1.35L5.41 20z\"/>\n",
              "  </svg>\n",
              "      </button>\n",
              "\n",
              "\n",
              "\n",
              "    <div id=\"df-aa11c462-959f-4c77-bb12-7ea26bc4fcc0\">\n",
              "      <button class=\"colab-df-quickchart\" onclick=\"quickchart('df-aa11c462-959f-4c77-bb12-7ea26bc4fcc0')\"\n",
              "              title=\"Suggest charts.\"\n",
              "              style=\"display:none;\">\n",
              "\n",
              "<svg xmlns=\"http://www.w3.org/2000/svg\" height=\"24px\"viewBox=\"0 0 24 24\"\n",
              "     width=\"24px\">\n",
              "    <g>\n",
              "        <path d=\"M19 3H5c-1.1 0-2 .9-2 2v14c0 1.1.9 2 2 2h14c1.1 0 2-.9 2-2V5c0-1.1-.9-2-2-2zM9 17H7v-7h2v7zm4 0h-2V7h2v10zm4 0h-2v-4h2v4z\"/>\n",
              "    </g>\n",
              "</svg>\n",
              "      </button>\n",
              "    </div>\n",
              "\n",
              "<style>\n",
              "  .colab-df-quickchart {\n",
              "    background-color: #E8F0FE;\n",
              "    border: none;\n",
              "    border-radius: 50%;\n",
              "    cursor: pointer;\n",
              "    display: none;\n",
              "    fill: #1967D2;\n",
              "    height: 32px;\n",
              "    padding: 0 0 0 0;\n",
              "    width: 32px;\n",
              "  }\n",
              "\n",
              "  .colab-df-quickchart:hover {\n",
              "    background-color: #E2EBFA;\n",
              "    box-shadow: 0px 1px 2px rgba(60, 64, 67, 0.3), 0px 1px 3px 1px rgba(60, 64, 67, 0.15);\n",
              "    fill: #174EA6;\n",
              "  }\n",
              "\n",
              "  [theme=dark] .colab-df-quickchart {\n",
              "    background-color: #3B4455;\n",
              "    fill: #D2E3FC;\n",
              "  }\n",
              "\n",
              "  [theme=dark] .colab-df-quickchart:hover {\n",
              "    background-color: #434B5C;\n",
              "    box-shadow: 0px 1px 3px 1px rgba(0, 0, 0, 0.15);\n",
              "    filter: drop-shadow(0px 1px 2px rgba(0, 0, 0, 0.3));\n",
              "    fill: #FFFFFF;\n",
              "  }\n",
              "</style>\n",
              "\n",
              "    <script>\n",
              "      async function quickchart(key) {\n",
              "        const containerElement = document.querySelector('#' + key);\n",
              "        const charts = await google.colab.kernel.invokeFunction(\n",
              "            'suggestCharts', [key], {});\n",
              "      }\n",
              "    </script>\n",
              "\n",
              "      <script>\n",
              "\n",
              "function displayQuickchartButton(domScope) {\n",
              "  let quickchartButtonEl =\n",
              "    domScope.querySelector('#df-aa11c462-959f-4c77-bb12-7ea26bc4fcc0 button.colab-df-quickchart');\n",
              "  quickchartButtonEl.style.display =\n",
              "    google.colab.kernel.accessAllowed ? 'block' : 'none';\n",
              "}\n",
              "\n",
              "        displayQuickchartButton(document);\n",
              "      </script>\n",
              "      <style>\n",
              "    .colab-df-container {\n",
              "      display:flex;\n",
              "      flex-wrap:wrap;\n",
              "      gap: 12px;\n",
              "    }\n",
              "\n",
              "    .colab-df-convert {\n",
              "      background-color: #E8F0FE;\n",
              "      border: none;\n",
              "      border-radius: 50%;\n",
              "      cursor: pointer;\n",
              "      display: none;\n",
              "      fill: #1967D2;\n",
              "      height: 32px;\n",
              "      padding: 0 0 0 0;\n",
              "      width: 32px;\n",
              "    }\n",
              "\n",
              "    .colab-df-convert:hover {\n",
              "      background-color: #E2EBFA;\n",
              "      box-shadow: 0px 1px 2px rgba(60, 64, 67, 0.3), 0px 1px 3px 1px rgba(60, 64, 67, 0.15);\n",
              "      fill: #174EA6;\n",
              "    }\n",
              "\n",
              "    [theme=dark] .colab-df-convert {\n",
              "      background-color: #3B4455;\n",
              "      fill: #D2E3FC;\n",
              "    }\n",
              "\n",
              "    [theme=dark] .colab-df-convert:hover {\n",
              "      background-color: #434B5C;\n",
              "      box-shadow: 0px 1px 3px 1px rgba(0, 0, 0, 0.15);\n",
              "      filter: drop-shadow(0px 1px 2px rgba(0, 0, 0, 0.3));\n",
              "      fill: #FFFFFF;\n",
              "    }\n",
              "  </style>\n",
              "\n",
              "      <script>\n",
              "        const buttonEl =\n",
              "          document.querySelector('#df-03abdcfb-25da-4dff-be60-65785aacde96 button.colab-df-convert');\n",
              "        buttonEl.style.display =\n",
              "          google.colab.kernel.accessAllowed ? 'block' : 'none';\n",
              "\n",
              "        async function convertToInteractive(key) {\n",
              "          const element = document.querySelector('#df-03abdcfb-25da-4dff-be60-65785aacde96');\n",
              "          const dataTable =\n",
              "            await google.colab.kernel.invokeFunction('convertToInteractive',\n",
              "                                                     [key], {});\n",
              "          if (!dataTable) return;\n",
              "\n",
              "          const docLinkHtml = 'Like what you see? Visit the ' +\n",
              "            '<a target=\"_blank\" href=https://colab.research.google.com/notebooks/data_table.ipynb>data table notebook</a>'\n",
              "            + ' to learn more about interactive tables.';\n",
              "          element.innerHTML = '';\n",
              "          dataTable['output_type'] = 'display_data';\n",
              "          await google.colab.output.renderOutput(dataTable, element);\n",
              "          const docLink = document.createElement('div');\n",
              "          docLink.innerHTML = docLinkHtml;\n",
              "          element.appendChild(docLink);\n",
              "        }\n",
              "      </script>\n",
              "    </div>\n",
              "  </div>\n"
            ]
          },
          "metadata": {},
          "execution_count": 44
        }
      ],
      "source": [
        "# Замена всех пропусков на слово \"Нет данных\"\n",
        "df1.fillna(\"Нет данных\", inplace=True)\n",
        "# Форма и размер\n",
        "print(df1.shape)\n",
        "# Колличество элементов\n",
        "print(df1.size)\n",
        "df1.head(1)"
      ]
    },
    {
      "cell_type": "code",
      "source": [
        "df1.to_csv('/content/drive/MyDrive/БазыCSV/InClinic/df1.csv', index = False)"
      ],
      "metadata": {
        "id": "O9dQ1xbOpPj2"
      },
      "execution_count": 45,
      "outputs": []
    },
    {
      "cell_type": "markdown",
      "source": [
        "# Классификация условий труда\n",
        "\n",
        "---\n",
        "описание\n"
      ],
      "metadata": {
        "id": "IRXnHTWiLIZ8"
      }
    },
    {
      "cell_type": "markdown",
      "source": [
        "\n",
        "\n",
        "Согласно действующему законодательству, вся трудовая деятельность условно\n",
        "подразделяется на 4 категории, каждая из которых основывается на степени факторов риска для здоровья и жизни:\n",
        "\n",
        "---\n",
        "\n",
        "* Оптимальный — на территории и во внутренних помещениях сохраняется и\n",
        "поддерживается здоровый микроклимат, положительно влияющий на производительность труда;\n",
        "\n",
        "* Допустимый — сохраняются нормальные условия, уровень вредных факторов не превышает допустимых норм;\n",
        "\n",
        "* Вредный — превышаются допустимые нормы, что причиняет вред здоровью человека;\n",
        "\n",
        "* Опасный — условия труда способны повлечь причинение тяжкого вреда здоровью, иногда несут угрозу жизни.\n",
        "\n",
        "---\n",
        "\n",
        "В свою очередь, вредные и опасные производства подразделяются между собой на 4 степени тяжести:\n",
        "\n",
        "1 Изменения, начавшиеся в организме человека, носят обратимый характер и обычно проявляются после завершения трудовой деятельности. Такие недуги на медицинском сленге называются «профессиональными заболеваниями»;\n",
        "\n",
        "2 Патологические изменения проявляются более выражено и часто приводят к временной потере трудоспособности (человек регулярно уходит на больничный). Здесь наиболее часто развиваются хронические недуги, вызванные профессиональной деятельностью;\n",
        "\n",
        "3 В организме протекают необратимые процессы, способные повлечь частичную потерю трудоспособности;\n",
        "\n",
        "4 Происходят тяжелые функциональные расстройства внутренних органов и систем, что в запущенных случаях приводит к присвоению нерабочей группы инвалидности.\n",
        "\n",
        "\n",
        "---\n",
        "\n",
        "\n",
        "К сожалению \"СОУТ\"(специальная оценка условий труда) пока не располагает системой привязки категории рисков к группам профессии, к примеру ISCO-08, или иные подобные классификаторы.\n",
        " Единых методических указаний по управлению профессиональными\n",
        "рисками пока не существует. Одна из причин - огромное разнообразие профессий и рисков. В одну только Систему стандартов безопасности труда (ССБТ) по состоянию на 2020 год\n",
        "входит около 400 документов.\n",
        "\n",
        "---\n",
        "\n",
        "ISCO-08 МСКЗ-08 делит рабочие места на 10 основных групп:\n",
        "\n",
        "Основные группы\n",
        "* 1 Руководители\n",
        "* 2 Специалисты-профессионалы\n",
        "* 3 Специалисты-техники и иной средний специальный персонал\n",
        "* 4 Служащие, занятые подготовкой и оформлением документации, учетом и\n",
        "  обслуживанием\n",
        "* 5 Работники сферы обслуживания и торговли\n",
        "* 6 Квалифицированные работники сельского и лесного хозяйств, рыбоводства и\n",
        "рыболовства\n",
        "* 7 Квалифицированные рабочие промышленности и рабочие родственных занятий\n",
        "* 8 Операторы и сборщики промышленных установок и машин\n",
        "* 9 Неквалифицированные работники\n",
        "* 0 Военнослужащие\n",
        "\n",
        "\n",
        "\n"
      ],
      "metadata": {
        "id": "Eb_ABLrzfIi9"
      }
    },
    {
      "cell_type": "markdown",
      "source": [
        " Основные группы и подгруппы\n",
        "\n",
        "* 1 Руководители\n",
        "11 Руководители высшего звена, высшие должностные лица и законодатели\n",
        "12 Корпоративные управляющие\n",
        "13 Руководители подразделений в сфере производства и специализированных\n",
        "сервисных услуг\n",
        "14 Руководители в сфере гостиничного бизнеса, руководители (управляющие) в\n",
        "магазинах и родственных областях деятельности\n",
        "\n",
        "* 2 Специалисты-профессионалы\n",
        "21 Специалисты-профессионалы в области науки и техники\n",
        "22 Специалисты-профессионалы в области здравоохранения\n",
        "23 Специалисты-профессионалы в области образования\n",
        "24 Специалисты-профессионалы в сфере бизнеса и администрирования\n",
        "25 Специалисты-профессионалы по информационно-коммуникационным\n",
        "технологиям (ИКТ)\n",
        "26 Специалисты-профессионалы в области права, гуманитарных областей и\n",
        "культуры\n",
        "\n",
        "* 3 Специалисты-техники и иной средний специальный персонал\n",
        "31 Специалисты-техники в области науки и техники\n",
        "32 Средний медицинский персонал здравоохранения\n",
        "33 Средний специальный персонал по экономической и административной\n",
        "деятельности\n",
        "34 Средний специальный персонал в области юриспруденции, социальной\n",
        "работы, культуры и родственных занятий\n",
        "35 Специалисты-техники в области ИКТ\n",
        "\n",
        "* 4 Служащие, занятые подготовкой и оформлением документации, учетом и\n",
        "обслуживанием\n",
        "41 Служащие общего профиля и обслуживающие офисную технику\n",
        "42 Служащие сферы обслуживания населения\n",
        "43 Служащие в сфере обработки числовой информации и учета материальных\n",
        "ценностей\n",
        "44 Другие офисные служащие\n",
        "\n",
        "* 5 Работники сферы обслуживания и торговли\n",
        "51 Работники сфер индивидуальных услуг\n",
        "52 Продавцы\n",
        "53 Работники, оказывающие услуги по индивидуальному уходу\n",
        "54 Работники служб, осуществляющих охрану граждан и собственности\n",
        "\n",
        "* 6 Квалифицированные работники сельского и лесного хозяйств, рыбоводства и\n",
        "рыболовства\n",
        "61 Квалифицированные работники сельского хозяйства, производящие товарную\n",
        "продукцию\n",
        "62 Товарные производители лесной и рыбной продукции и охотники\n",
        "63 Квалифицированные работники сельского хозяйства, рыболовства, охотники и\n",
        "сборщики урожая, производящие продукцию для личного потребления\n",
        "\n",
        "* 7 Квалифицированные рабочие промышленности и рабочие родственных занятий\n",
        "71 Рабочие, занятые в строительстве, и рабочие родственных занятий\n",
        "72 Рабочие металлообрабатывающей промышленности, машиностроения и\n",
        "родственных занятий\n",
        "73 Высококвалифицированные рабочие ручного труда и полиграфического\n",
        "производства\n",
        "74 Рабочие в области электротехники и электроники\n",
        "75 Рабочие пищевой, деревообрабатывающей, текстильной и швейной\n",
        "промышленности и рабочие родственных занятий\n",
        "\n",
        "* 8 Операторы и сборщики промышленных установок и машин\n",
        "81 Операторы промышленных установок и стационарного оборудования\n",
        "82 Сборщики\n",
        "83 Водители и операторы подвижного оборудования\n",
        "\n",
        "* 9 Неквалифицированные работники\n",
        "91 Прислуга и уборщики\n",
        "92 Неквалифицированные рабочие сельского и лесного хозяйств, рыбоводства и\n",
        "рыболовства\n",
        "93 Неквалифицированные рабочие, занятые в горнодобывающей\n",
        "промышленности, строительстве, обрабатывающей промышленности и на транспорте\n",
        "94 Помощники в приготовлении пищи\n",
        "95 Уличные торговцы и другие неквалифицированные работники, оказывающие\n",
        "различные уличные услуги\n",
        "96 Неквалифицированные работники по сбору мусора и другие\n",
        "неквалифицированные работники\n",
        "\n",
        "* 0 Военнослужащие\n",
        "01 Офицеры в действующей армии\n",
        "02 Военнослужащие неофицерских званий\n",
        "03 Военнослужащие других званий\n"
      ],
      "metadata": {
        "id": "I0Ft9jl6FlQ-"
      }
    },
    {
      "cell_type": "markdown",
      "source": [
        "# Анализ данных в отобранных столбцах, отбраковка.\n",
        "\n",
        "По результату анализа данных в отобранных столбцах остаются только столбцы содержащие условно-полноценную информацию небходимую для обучения \"НС\"\n",
        "\n",
        "Клиент\n",
        "- КлиентДатаРождения,  КлиентПол,  Профессия,  ВредныеФакторы.\n",
        "\n",
        "Обследование\n",
        "- ПсихОсвидетельствование,  ЗаключениеМК,  ЗаключениеМКПредставление,  МКБ101,  МКБ102,  МКБ103,  МКБ104,  Представление,  ПрофнепригодностьВременнаяПредставление,\n",
        " ПрофнепригодностьВременнаяПредставление1, ПрофнепригодностьВременная1, ЖалобыДополнение, Заключение.\n",
        "\n",
        "\n",
        "---\n",
        "К сожалению в новой версии датасета отсутствуют столбцы : \"ПрофнепригодностьВременнаяПредставление\",\"ПрофнепригодностьВременнаяПредставление1\", \"ПрофнепригодностьВременная1\",\"ЖалобыДополнение\", в 1 версии датасета в них была полезная информация для работы \"НС\".\n",
        "\n",
        "**Запускать только при необходимости анализа**"
      ],
      "metadata": {
        "id": "KEhcbKIDBa6s"
      }
    },
    {
      "cell_type": "markdown",
      "source": [
        "Персона"
      ],
      "metadata": {
        "id": "9447hhTOEe8E"
      }
    },
    {
      "cell_type": "code",
      "source": [
        "# Уникальные значения колонки\n",
        "unique_values = []\n",
        "for column in df1.columns:\n",
        "    if 'КлиентПол' in column:\n",
        "        unique_values.extend(df1[column].unique())\n",
        "unique_values = list(set(unique_values))\n",
        "print(unique_values)"
      ],
      "metadata": {
        "colab": {
          "base_uri": "https://localhost:8080/"
        },
        "id": "peRRhar9BpHh",
        "outputId": "75d689bf-d370-46a0-e986-adf071d0ce88"
      },
      "execution_count": null,
      "outputs": [
        {
          "output_type": "stream",
          "name": "stdout",
          "text": [
            "['Женский', 'Нет данных', 'Мужской', 'НеУказан']\n"
          ]
        }
      ]
    },
    {
      "cell_type": "code",
      "source": [
        "# Уникальные значения колонки\n",
        "unique_values = []\n",
        "for column in df1.columns:\n",
        "    if 'Профессия' in column:\n",
        "        unique_values.extend(df1[column].unique())\n",
        "unique_values = list(set(unique_values))\n",
        "unique_values"
      ],
      "metadata": {
        "id": "wlYYO4c1Bo0R"
      },
      "execution_count": null,
      "outputs": []
    },
    {
      "cell_type": "code",
      "source": [
        "# Уникальные значения колонки\n",
        "unique_values = []\n",
        "for column in df1.columns:\n",
        "    if 'ВредныеФакторы' in column:\n",
        "        unique_values.extend(df1[column].unique())\n",
        "unique_values = list(set(unique_values))\n",
        "unique_values"
      ],
      "metadata": {
        "id": "kF7JFZCuFvuy"
      },
      "execution_count": null,
      "outputs": []
    },
    {
      "cell_type": "markdown",
      "source": [
        "Результаты обследования"
      ],
      "metadata": {
        "id": "Lw1XMV7IJkOq"
      }
    },
    {
      "cell_type": "code",
      "source": [
        "# Уникальные значения колонки\n",
        "unique_values = []\n",
        "for column in df1.columns:\n",
        "    if 'ПсихОсвидетельствование' in column:\n",
        "        unique_values.extend(df1[column].unique())\n",
        "unique_values = list(set(unique_values))\n",
        "unique_values"
      ],
      "metadata": {
        "colab": {
          "base_uri": "https://localhost:8080/"
        },
        "outputId": "1f75d586-08fa-4ab5-f57d-f18f9ace5ef6",
        "id": "FnS1XNpUE0SV"
      },
      "execution_count": null,
      "outputs": [
        {
          "output_type": "execute_result",
          "data": {
            "text/plain": [
              "[False, True]"
            ]
          },
          "metadata": {},
          "execution_count": 37
        }
      ]
    },
    {
      "cell_type": "code",
      "source": [
        "# Уникальные значения колонки\n",
        "unique_values = []\n",
        "for column in df1.columns:\n",
        "    if 'ЗаключениеМК' in column:\n",
        "        unique_values.extend(df1[column].unique())\n",
        "unique_values = list(set(unique_values))\n",
        "print(unique_values)"
      ],
      "metadata": {
        "colab": {
          "base_uri": "https://localhost:8080/"
        },
        "id": "syAnM9zZBJhT",
        "outputId": "c2acdc2c-f9a3-4c73-f9a5-4f68897976c6"
      },
      "execution_count": null,
      "outputs": [
        {
          "output_type": "stream",
          "name": "stdout",
          "text": [
            "['ОграниченноГоден', 'тракторист', 'Годен к работе в указанных условиях', 'Годен к работе в указанных условиях (с коррекцией зрения)', ' п. 11.4', 'Годен к работе в указанных условиях (без работ на высотах)', 'ГоденСКоррекциейСлуха', 'Газоспасатель', 'Нет данных', 'ГоденСКоррекциейЗрения', 'Годен к работе в указанных условиях (с коррекцией слуха)', 'Ограниченно годен', ' п. 11.3', 'Годен', 'Нуждается в дообследовании и лечении', 'НуждаетсяВДообследованииИЛечении', 'машинист бульдозера', 'Не годен', 'Негоден', 'ГоденБезРаботНаВысотах', ' Газоспасатель']\n"
          ]
        }
      ]
    },
    {
      "cell_type": "code",
      "source": [
        "# Уникальные значения колонки\n",
        "unique_values = []\n",
        "for column in df1.columns:\n",
        "    if 'ЗаключениеМКПредставление' in column:\n",
        "        unique_values.extend(df1[column].unique())\n",
        "unique_values = list(set(unique_values))\n",
        "print(unique_values)"
      ],
      "metadata": {
        "colab": {
          "base_uri": "https://localhost:8080/"
        },
        "id": "m36WZRb-BIcQ",
        "outputId": "cfa4db4d-1996-40e8-bcbd-8f36cb8fc67e"
      },
      "execution_count": null,
      "outputs": [
        {
          "output_type": "stream",
          "name": "stdout",
          "text": [
            "['Годен', 'Не годен', 'Нет данных', 'тракторист', 'Годен к работе в указанных условиях', 'ГоденСКоррекциейЗрения', 'Годен к работе в указанных условиях (с коррекцией зрения)', 'Годен к работе в указанных условиях (с коррекцией слуха)', 'Нуждается в дообследовании и лечении', ' п. 11.4', 'Ограниченно годен', 'Годен к работе в указанных условиях (без работ на высотах)']\n"
          ]
        }
      ]
    },
    {
      "cell_type": "code",
      "source": [
        "# Уникальные значения колонки\n",
        "unique_values = []\n",
        "for column in df1.columns:\n",
        "    if \"Представление\" in column:\n",
        "        unique_values.extend(df1[column].unique())\n",
        "unique_values = list(set(unique_values))\n",
        "unique_values"
      ],
      "metadata": {
        "id": "6_0u-SUVAS_t",
        "colab": {
          "base_uri": "https://localhost:8080/"
        },
        "outputId": "4695ddc1-f89c-4991-9189-6e5fc836d5ff"
      },
      "execution_count": null,
      "outputs": [
        {
          "output_type": "execute_result",
          "data": {
            "text/plain": [
              "['Годен',\n",
              " 'Не годен',\n",
              " 'Нет данных',\n",
              " 'тракторист',\n",
              " 'Годен к работе в указанных условиях',\n",
              " 'ГоденСКоррекциейЗрения',\n",
              " 'Годен к работе в указанных условиях (с коррекцией зрения)',\n",
              " 'Годен к работе в указанных условиях (с коррекцией слуха)',\n",
              " 'Нуждается в дообследовании и лечении',\n",
              " ' п. 11.4',\n",
              " 'Ограниченно годен',\n",
              " 'Годен к работе в указанных условиях (без работ на высотах)']"
            ]
          },
          "metadata": {},
          "execution_count": 41
        }
      ]
    },
    {
      "cell_type": "code",
      "source": [
        "# Уникальные значения колонки\n",
        "unique_values = []\n",
        "for column in df1.columns:\n",
        "    if \"МКБ101\" in column:\n",
        "        unique_values.extend(df1[column].unique())\n",
        "unique_values = list(set(unique_values))\n",
        "print(unique_values)"
      ],
      "metadata": {
        "colab": {
          "base_uri": "https://localhost:8080/"
        },
        "id": "OUj2y63YKWvs",
        "outputId": "d380bcba-c67f-478b-91d2-83d1f7fcb172"
      },
      "execution_count": null,
      "outputs": [
        {
          "output_type": "stream",
          "name": "stdout",
          "text": [
            "['D13.0', 'N88.4', 'F06.6', 'L30.9', 'D22.1', 'H11.1', 'Z00.4', 'L40.9', 'E66.0', 'T90.0', 'K29.4', 'D13.4', 'K40.9', 'H18.9', 'H91.9', 'I25.9', 'K20', 'I45.6', 'F10.3', 'O00.0', 'H55', 'N73.9', 'I49.9', 'B35.2', 'E10.8', 'K31.7', 'Z76.9', 'H80.1', 'K76.9', 'H17.9', 'H10.5', 'H65.3', 'S54.0', 'J00', 'N11.9', 'Q44.6', 'N76.1', 'N72', 'H28.2', 'N81.9', 'I47.9', 'D25.9', 'K29.9', 'I69.3', 'G96.9', 'H53.5', 'H10.1', 'K29.7', 'K81.8', 'I48', 'J38.2', 'J38.0', 'Н27', 'K80.1', 'H35.3', 'M05.9', 'H49.9', 'N28.1', 'K82.9', 'E04.1', 'I20.9', 'I67.8', 'Z00.5', 'I48.9', 'B37.8', 'N87.9', 'N85', 'K82.8', 'J35.8', 'K86.0', 'N95.2', 'F10.7', 'D25', 'F06.7', 'I48.0', 'K40.2', 'H16.9', 'H11.9', 'H74.1', 'K00.0', 'K29.3', 'N85.9', 'N60.2', 'T92.4', 'H74.8', 'H40.0', 'M51.1', 'N30.2', 'J45.0', 'T95.8', 'R00.1', 'M17.9', 'H72.9', 'L80.XX', 'Q25.6', 'E03.9', 'I49.8', 'N95.1', 'I12.9', 'F92.9', 'R25.1', 'J31.0', 'H17.8', 'T90.9', 'S02.01', 'H51.9', 'K02.0', 'J34.2', 'J30.2', 'H47.2', 'J37.0', 'F41.0', 'K64.3', 'H30', 'M13.9', 'H50.8', 'F60.3', 'L74.0', 'S06.00', 'J33', 'H83.8', 'G35', 'D33.4', 'K80.2', 'I69.4', 'F06.9', 'E78.1', 'L73.0', 'J37.1', 'J45.9', 'K43.9', 'H40.5', 'D68.8', 'H90.1', 'I48.2', 'I77.9', 'J32.0', 'K42.9', 'F70.0', 'G40.1', 'E11', 'H31.0', 'K91.5', 'J44.9', 'H25.0', 'I25.8', 'N70.9', 'T92.2', 'L23.5', 'H90.5', 'T92.0', 'F10.2', 'L30.0', 'I49', 'G40.3', 'G25.9', 'K25.9', 'E14.8', 'I45.0', 'T90.2', 'F06.3', 'J42', 'J30.4', 'D86.0', 'K86.9', 'K04.5', 'F71.0', 'I70', 'H93.8', 'Q80.0', 'Q13.0', 'Q10.0', 'Годен к работе в указанных условиях', 'H26.2', 'Z32.1', 'M15.9', 'H35.0', 'A53.9', 'T94', 'H53.0', 'H04.6', 'G58.9', 'H02.2', 'H91.1', 'I34.1', 'H50.9', 'H54.4', 'H52.0', 'G63.2', 'T92.9', 'K81.1', 'K25.7', 'I20.8', 'K29.6', 'D50.9', 'H02.7', 'H26.1', 'N92.6', 'K26.3', 'Z00.0', 'N80.0', 'E10.9', 'T90.4', 'I66.9', 'S51.9', 'E22.1', 'H52.5', 'K02.1', 'E66.9', 'H25', 'G40.2', 'K29.8', 'F98.5', 'F70', 'G80.1', 'H35.1', 'S68.2', 'L80', 'K80.5', 'E14', 'O34.0', 'G99.0', 'K64.1', 'T93.6', 'C71.0', 'F10.1', 'I72.1', 'F60.4', 'G40.9', 'H34.9', 'H53.9', 'S94.8', 'J31', 'J47', 'T90.5', 'J84.8', 'C50.9', 'H52.4', 'H90.8', 'Q12.0', 'D33.2', 'F20.0', 'I11.0', 'N11.8', 'F60.9', 'N20.9', 'Нет данных', 'T94.0', 'K81.9', 'G90.8', 'N91.2', 'I25', 'H43.2', 'I48.1', 'I10', 'Z00.8', 'E11.8', 'N95.9', 'K43.6', 'I83.9', 'L23.8', 'M42.1', 'H25.1', 'H11.0', 'H40.9', 'H80.9', 'L20.8', 'K26.5', 'B35.8', 'L95.9', 'F60.8', 'K08.2', 'E66', 'L94.8', 'K26.9', 'G70.0', 'I25.2', 'D17.1', 'K26.7', 'H50.1', 'K03.66', 'E10', 'G80.8', 'Q25.1', 'H66.9', 'L20.9', 'E11.9', 'J30.1', 'H52.1', 'I11.9', 'H02.0', 'H60.8', 'S05.8', 'N81.4', 'I69.1', 'M54.1', 'N95.3', 'K25.3', 'H50.0', 'C50.4', 'H61.1', 'K05.3', 'H26.9', 'M45.9', 'H27.9', 'L86', 'D31.9', 'H66.2', 'H27.0', 'K83.8', 'N94.8', 'L40.0', 'K44.9', 'H40.1', 'L71.9', 'H17.1', 'K02', 'G12.1', 'N83.2', 'I67.2', 'H20.9', 'N86', 'H40.8', 'I67.9', 'H01.9', 'H93.0', 'D18.0', 'N63', 'H33.0', 'T93.4', 'D23.1', 'D33.0', 'N90.9', 'K21.9', 'G90.9', 'R73.9', 'B35.6', 'N88.0', 'H00.1', 'J33.1', 'I70.8', 'H35.9', 'F99', 'T95.0', 'N90.4', 'H66.3', 'I67.4', 'H54.1', 'I35.1', 'K86.1', 'N81.2', 'F06.8', 'H90.3', 'J33.0', 'C53.9', 'D24', 'G25.1', 'B36.0', 'H18.6', 'G98', 'D25.0', 'E06.3', 'K76.0', 'H61.8', 'G25.0', 'H02.4', 'F07.0', 'N84.1', 'К22.7', 'N60.1', 'H90.4', 'D37.1', 'H01.0', 'H73.9', 'E14.9', 'E07.9', 'H90.6', 'J40', 'H66.1', 'H52.2', 'J45', 'D31.5', 'J35.0', 'J30.3', 'I42.9', 'N89.4', 'L87.0', 'H33.5', 'N30.9', 'K29.5', 'M06.9']\n"
          ]
        }
      ]
    },
    {
      "cell_type": "code",
      "source": [
        "# Уникальные значения колонки\n",
        "unique_values = []\n",
        "for column in df1.columns:\n",
        "    if \"МКБ102\" in column:\n",
        "        unique_values.extend(df1[column].unique())\n",
        "unique_values = list(set(unique_values))\n",
        "print(unique_values)"
      ],
      "metadata": {
        "colab": {
          "base_uri": "https://localhost:8080/"
        },
        "id": "UVvogxTdKWo6",
        "outputId": "d89c2b50-27c2-4bdf-9dbf-504fc53f0cef"
      },
      "execution_count": null,
      "outputs": [
        {
          "output_type": "stream",
          "name": "stdout",
          "text": [
            "['C50.1', 'K80.5', 'N83.2', 'H26.9', 'K29.7', 'L23.5', 'K29.6', 'H55', 'H52.2', 'H54.4', 'Q21.1', 'I70.0', 'T90.4', 'F06.8', 'H66.1', 'D35.2', 'D25.0', 'I45.8', 'K82.9', 'H02.4', 'K81.1', 'H90.3', 'E80.4', 'K91.5', 'D25', 'E11.9', 'I49.8', 'H25.0', 'K02.0', 'I05.9', 'J45.8', 'G93.4', 'N30.9', 'G90.8', 'K05.4', 'I77.9', 'K02.1', 'H90.4', 'H25', 'C81.9', 'E11', 'Нет данных', 'H47.2', 'Q13.0', '4.4,5.1,6.1', 'T94.0', 'K29.5', 'I83.9', 'H26.1', 'K29.9', 'M86.6', 'N80.0', 'H52.4', 'C53.9', 'H91.1', 'K76.6', 'I25.8', 'K05.3', 'E11.8', 'J45.9', 'I49.9', 'K86.1', 'H53.0', 'I67.9', 'I34.9', 'J45.0', 'D25.9', 'K80.2', 'F06.6', 'J44.9', 'D16.0', 'F10.3', 'I11.9', 'K25.7', 'C50.4', 'N84.1', 'H74.1', 'Q12.0', 'J42', 'H52.1', 'K29.3', 'M17.9', 'K50.9', 'I72.1', 'F10.2', 'N20.9', 'K44.9', 'N60.0', 'R73.9', 'N11.9', 'H50.0', 'H50.1', 'K04.5', 'I25.0', 'H52.3', 'N30.2', 'L28.0', 'D50.9', 'M42.1', 'K00.0', 'E66.0', 'H17.1', 'C03.0', 'I25.2', 'N28.1', 'H53.9', 'H50.9', 'J33.0', 'I25.9', 'H40.1', 'H34.8', 'K26.7', 'K40.9', 'K29.4', 'D86.0', 'H52.0', 'Z95.2', 'G25.0', 'K29.8', 'H17.8', 'H27.0', 'L40.0', 'I67.8', 'N30.8', 'N60.2', 'H53.5', 'H40.0', 'C50.9', 'G40.4', 'I44.4', 'N60.1', 'I11.0', 'Z00.0']\n"
          ]
        }
      ]
    },
    {
      "cell_type": "code",
      "source": [
        "# Уникальные значения колонки\n",
        "unique_values = []\n",
        "for column in df1.columns:\n",
        "    if \"МКБ103\" in column:\n",
        "        unique_values.extend(df1[column].unique())\n",
        "unique_values = list(set(unique_values))\n",
        "print(unique_values)"
      ],
      "metadata": {
        "colab": {
          "base_uri": "https://localhost:8080/"
        },
        "id": "QFEN2PH3KWiq",
        "outputId": "7bcb56fe-64ef-4db6-c7b3-40e9d2c81dcf"
      },
      "execution_count": null,
      "outputs": [
        {
          "output_type": "stream",
          "name": "stdout",
          "text": [
            "['I25.8', 'K29.8', 'K76.0', 'K29.6', 'K29.3', 'M05.9', 'M15.9', 'K05.3', 'I06.8', 'N60.2', 'N83.2', 'I25.2', 'Нет данных', 'K80.2', 'K50.9', 'K26.7', 'I67.8', 'H53.0', 'N30.2', 'H66.1', 'K86.1', 'Z00.0', 'H90.3', 'H52.2', 'H52.1', 'D25', 'K81.8', 'H55', 'I11.9', 'H52.0', 'J45.8', 'N30.9', 'K29.5', 'R73.9']\n"
          ]
        }
      ]
    },
    {
      "cell_type": "code",
      "source": [
        "# Уникальные значения колонки\n",
        "unique_values = []\n",
        "for column in df1.columns:\n",
        "    if \"МКБ104\" in column:\n",
        "        unique_values.extend(df1[column].unique())\n",
        "unique_values = list(set(unique_values))\n",
        "print(unique_values)"
      ],
      "metadata": {
        "colab": {
          "base_uri": "https://localhost:8080/"
        },
        "id": "hcMtAPVkD2d2",
        "outputId": "80df6e14-8e1c-4638-a05c-f8a0e39544e6"
      },
      "execution_count": null,
      "outputs": [
        {
          "output_type": "stream",
          "name": "stdout",
          "text": [
            "['I25.8', 'K29.6', 'I70.0', 'I06.8', 'N60.2', 'I25.2', 'Нет данных', 'K80.2', 'H53.0', 'K86.1', 'Z00.0', 'H90.3', 'H52.2', 'L20.9', 'I25.9', 'H52.1', 'I11.9', 'H52.0', 'K29.5', 'R73.9']\n"
          ]
        }
      ]
    },
    {
      "cell_type": "code",
      "source": [
        "# Уникальные значения колонки\n",
        "unique_values = []\n",
        "for column in df1.columns:\n",
        "    if \"ПрофнепригодностьВременнаяПредставление\" in column:\n",
        "        unique_values.extend(df1[column].unique())\n",
        "unique_values = list(set(unique_values))\n",
        "print(unique_values)"
      ],
      "metadata": {
        "colab": {
          "base_uri": "https://localhost:8080/"
        },
        "id": "ix0To04SD1_t",
        "outputId": "9aa30ea3-c3f6-43e7-e332-6a2f35ac7239"
      },
      "execution_count": null,
      "outputs": [
        {
          "output_type": "stream",
          "name": "stdout",
          "text": [
            "[]\n"
          ]
        }
      ]
    },
    {
      "cell_type": "code",
      "source": [
        "# Уникальные значения колонки\n",
        "unique_values = []\n",
        "for column in df1.columns:\n",
        "    if \"ПрофнепригодностьВременнаяПредставление1\" in column:\n",
        "        unique_values.extend(df1[column].unique())\n",
        "unique_values = list(set(unique_values))\n",
        "print(unique_values)"
      ],
      "metadata": {
        "colab": {
          "base_uri": "https://localhost:8080/"
        },
        "id": "3PAwhqPADxU2",
        "outputId": "5ab9f630-49d9-4b39-e187-332511b44800"
      },
      "execution_count": null,
      "outputs": [
        {
          "output_type": "stream",
          "name": "stdout",
          "text": [
            "[]\n"
          ]
        }
      ]
    },
    {
      "cell_type": "code",
      "source": [
        "# Уникальные значения колонки\n",
        "unique_values = []\n",
        "for column in df1.columns:\n",
        "    if \"ПрофнепригодностьВременная1\" in column:\n",
        "        unique_values.extend(df1[column].unique())\n",
        "unique_values = list(set(unique_values))\n",
        "print(unique_values)\n",
        "\n"
      ],
      "metadata": {
        "colab": {
          "base_uri": "https://localhost:8080/"
        },
        "id": "vhkq_uaU6OfV",
        "outputId": "97475de8-d5da-4ebb-c130-fe137f44fb14"
      },
      "execution_count": null,
      "outputs": [
        {
          "output_type": "stream",
          "name": "stdout",
          "text": [
            "[]\n"
          ]
        }
      ]
    },
    {
      "cell_type": "code",
      "source": [
        "# Уникальные значения колонки\n",
        "unique_values = []\n",
        "for column in df1.columns:\n",
        "    if \"ЖалобыДополнение\" in column:\n",
        "        unique_values.extend(df1[column].unique())\n",
        "unique_values = list(set(unique_values))\n",
        "unique_values"
      ],
      "metadata": {
        "id": "-WBZWh5TSI3s",
        "colab": {
          "base_uri": "https://localhost:8080/"
        },
        "outputId": "6c777f63-ed16-4cff-db50-43a06fa1e077"
      },
      "execution_count": null,
      "outputs": [
        {
          "output_type": "execute_result",
          "data": {
            "text/plain": [
              "[]"
            ]
          },
          "metadata": {},
          "execution_count": 22
        }
      ]
    },
    {
      "cell_type": "code",
      "source": [
        "# Уникальные значения колонки\n",
        "unique_values = []\n",
        "for column in df1.columns:\n",
        "    if 'Заключение' in column:\n",
        "        unique_values.extend(df1[column].unique())\n",
        "unique_values = list(set(unique_values))\n",
        "unique_values"
      ],
      "metadata": {
        "id": "vbss4wbPteoz"
      },
      "execution_count": null,
      "outputs": []
    },
    {
      "cell_type": "markdown",
      "source": [
        "# Корректировка колонки'Профессия'\n",
        "\n",
        "План:\n",
        "\n",
        "Сделать выборку в колонке 'Профессия' по основному показателю профессии.\n",
        "\n",
        "Привести список профессий в колонке 'Профессия' к форме применимой для классификации и группировке по типу  МСКЗ-08\n",
        "\n",
        "Разделение на группировки (Военных не берём в расчёт ) на 9 классов позволит нейронной сети более точно определить соответствующую кореляцию каждой группе и далее кластеризовать требования по наличию потологий для определённой профессии.\n",
        "\n",
        "Так же можно создать списки категорий профессий по должностям с разделением на степени факторов риска.\n",
        "\n",
        "Степени факторов риска: Оптимальный,  Допустимый,  Вредный,  Опасный.\n",
        "\n",
        "Присвоить категории профессии индекс факторов риска, создать новую колонку 'класс безопасности' и заполнить соответствующими значениями индексов.\n",
        "\n",
        "Эти мероприятия позволят более точно привязать конкретную профессию и её вредные факторы к персоне со своими факторами - возраст, пол, и наличие патологий и других негативных моментов здоровья.\n",
        "\n",
        "Всё это позволит определить: подходит ли человек однозначно для выполнения обязанностей или есть необходимость для тщательного выяснения где причина несоответствия и насколько это недопустимо.\n",
        "\n",
        "**В этом и будет заключатся РЕКОМЕНДАЦИЯ**.\n",
        "\n",
        "\n",
        "---\n",
        "\n",
        "\n",
        "РАБОТА С КОЛОНКОЙ \"Профессия\" НЕ ЗАКОНЧЕНА НЕ ЗАПУСКАТЬ"
      ],
      "metadata": {
        "id": "2hZ_oBptqmtF"
      }
    },
    {
      "cell_type": "markdown",
      "source": [
        "## Работа над колонкой\n",
        "Для структурирования данных о профессии и в дальнейшем для классификации и группировке по типу МСКЗ-08 была сделанна выборка всех профессий присутствующих в датасете. Из 32686 записей о профессии клиентов выбранно 624 названия профессии. Для структурирования по намеченному плану необходимо произвести работу по зачистке и исправлению написаний названия тех же профессий но с иным написанием  названия.Присвоение индекса группы по МСКЗ-08.\n",
        "\n",
        "Пока на этом работа приостановленна. Нет ресурса времени для приведения кучи мусора к полноценно структурированным данным.  "
      ],
      "metadata": {
        "id": "XHx20J3o2kMj"
      }
    },
    {
      "cell_type": "code",
      "source": [
        "df1 = pd.read_csv('/content/drive/MyDrive/БазыCSV/InClinic/df1.csv')"
      ],
      "metadata": {
        "id": "Gofl1xy_shMt"
      },
      "execution_count": null,
      "outputs": []
    },
    {
      "cell_type": "code",
      "source": [
        "df_p = pd.read_excel('/content/drive/MyDrive/БазыCSV/InClinic/Проф1.xlsx')"
      ],
      "metadata": {
        "id": "i-dcedME1OQu"
      },
      "execution_count": null,
      "outputs": []
    },
    {
      "cell_type": "code",
      "source": [
        "df_p.head(10)"
      ],
      "metadata": {
        "id": "3jN5j9cBh7S7",
        "colab": {
          "base_uri": "https://localhost:8080/",
          "height": 363
        },
        "outputId": "e68aa2d5-7332-4a6d-e236-a7c91dafd5bd"
      },
      "execution_count": null,
      "outputs": [
        {
          "output_type": "execute_result",
          "data": {
            "text/plain": [
              "                            Проф\n",
              "0                      cip мойки\n",
              "1                      cанитарка\n",
              "2  cлесарь механосборочных работ\n",
              "3                         cу шеф\n",
              "4                    авиамеханик\n",
              "5                     авиатехник\n",
              "6               авиатехник аирэо\n",
              "7      автомат. и полуавт. линий\n",
              "8                     автомойщик\n",
              "9                    автослесарь"
            ],
            "text/html": [
              "\n",
              "\n",
              "  <div id=\"df-3b1252e8-e27b-4d67-984a-af5a1a05b997\">\n",
              "    <div class=\"colab-df-container\">\n",
              "      <div>\n",
              "<style scoped>\n",
              "    .dataframe tbody tr th:only-of-type {\n",
              "        vertical-align: middle;\n",
              "    }\n",
              "\n",
              "    .dataframe tbody tr th {\n",
              "        vertical-align: top;\n",
              "    }\n",
              "\n",
              "    .dataframe thead th {\n",
              "        text-align: right;\n",
              "    }\n",
              "</style>\n",
              "<table border=\"1\" class=\"dataframe\">\n",
              "  <thead>\n",
              "    <tr style=\"text-align: right;\">\n",
              "      <th></th>\n",
              "      <th>Проф</th>\n",
              "    </tr>\n",
              "  </thead>\n",
              "  <tbody>\n",
              "    <tr>\n",
              "      <th>0</th>\n",
              "      <td>cip мойки</td>\n",
              "    </tr>\n",
              "    <tr>\n",
              "      <th>1</th>\n",
              "      <td>cанитарка</td>\n",
              "    </tr>\n",
              "    <tr>\n",
              "      <th>2</th>\n",
              "      <td>cлесарь механосборочных работ</td>\n",
              "    </tr>\n",
              "    <tr>\n",
              "      <th>3</th>\n",
              "      <td>cу шеф</td>\n",
              "    </tr>\n",
              "    <tr>\n",
              "      <th>4</th>\n",
              "      <td>авиамеханик</td>\n",
              "    </tr>\n",
              "    <tr>\n",
              "      <th>5</th>\n",
              "      <td>авиатехник</td>\n",
              "    </tr>\n",
              "    <tr>\n",
              "      <th>6</th>\n",
              "      <td>авиатехник аирэо</td>\n",
              "    </tr>\n",
              "    <tr>\n",
              "      <th>7</th>\n",
              "      <td>автомат. и полуавт. линий</td>\n",
              "    </tr>\n",
              "    <tr>\n",
              "      <th>8</th>\n",
              "      <td>автомойщик</td>\n",
              "    </tr>\n",
              "    <tr>\n",
              "      <th>9</th>\n",
              "      <td>автослесарь</td>\n",
              "    </tr>\n",
              "  </tbody>\n",
              "</table>\n",
              "</div>\n",
              "      <button class=\"colab-df-convert\" onclick=\"convertToInteractive('df-3b1252e8-e27b-4d67-984a-af5a1a05b997')\"\n",
              "              title=\"Convert this dataframe to an interactive table.\"\n",
              "              style=\"display:none;\">\n",
              "\n",
              "  <svg xmlns=\"http://www.w3.org/2000/svg\" height=\"24px\"viewBox=\"0 0 24 24\"\n",
              "       width=\"24px\">\n",
              "    <path d=\"M0 0h24v24H0V0z\" fill=\"none\"/>\n",
              "    <path d=\"M18.56 5.44l.94 2.06.94-2.06 2.06-.94-2.06-.94-.94-2.06-.94 2.06-2.06.94zm-11 1L8.5 8.5l.94-2.06 2.06-.94-2.06-.94L8.5 2.5l-.94 2.06-2.06.94zm10 10l.94 2.06.94-2.06 2.06-.94-2.06-.94-.94-2.06-.94 2.06-2.06.94z\"/><path d=\"M17.41 7.96l-1.37-1.37c-.4-.4-.92-.59-1.43-.59-.52 0-1.04.2-1.43.59L10.3 9.45l-7.72 7.72c-.78.78-.78 2.05 0 2.83L4 21.41c.39.39.9.59 1.41.59.51 0 1.02-.2 1.41-.59l7.78-7.78 2.81-2.81c.8-.78.8-2.07 0-2.86zM5.41 20L4 18.59l7.72-7.72 1.47 1.35L5.41 20z\"/>\n",
              "  </svg>\n",
              "      </button>\n",
              "\n",
              "\n",
              "\n",
              "    <div id=\"df-7e90d5d4-063f-448b-9b43-ba238c6bd1be\">\n",
              "      <button class=\"colab-df-quickchart\" onclick=\"quickchart('df-7e90d5d4-063f-448b-9b43-ba238c6bd1be')\"\n",
              "              title=\"Suggest charts.\"\n",
              "              style=\"display:none;\">\n",
              "\n",
              "<svg xmlns=\"http://www.w3.org/2000/svg\" height=\"24px\"viewBox=\"0 0 24 24\"\n",
              "     width=\"24px\">\n",
              "    <g>\n",
              "        <path d=\"M19 3H5c-1.1 0-2 .9-2 2v14c0 1.1.9 2 2 2h14c1.1 0 2-.9 2-2V5c0-1.1-.9-2-2-2zM9 17H7v-7h2v7zm4 0h-2V7h2v10zm4 0h-2v-4h2v4z\"/>\n",
              "    </g>\n",
              "</svg>\n",
              "      </button>\n",
              "    </div>\n",
              "\n",
              "<style>\n",
              "  .colab-df-quickchart {\n",
              "    background-color: #E8F0FE;\n",
              "    border: none;\n",
              "    border-radius: 50%;\n",
              "    cursor: pointer;\n",
              "    display: none;\n",
              "    fill: #1967D2;\n",
              "    height: 32px;\n",
              "    padding: 0 0 0 0;\n",
              "    width: 32px;\n",
              "  }\n",
              "\n",
              "  .colab-df-quickchart:hover {\n",
              "    background-color: #E2EBFA;\n",
              "    box-shadow: 0px 1px 2px rgba(60, 64, 67, 0.3), 0px 1px 3px 1px rgba(60, 64, 67, 0.15);\n",
              "    fill: #174EA6;\n",
              "  }\n",
              "\n",
              "  [theme=dark] .colab-df-quickchart {\n",
              "    background-color: #3B4455;\n",
              "    fill: #D2E3FC;\n",
              "  }\n",
              "\n",
              "  [theme=dark] .colab-df-quickchart:hover {\n",
              "    background-color: #434B5C;\n",
              "    box-shadow: 0px 1px 3px 1px rgba(0, 0, 0, 0.15);\n",
              "    filter: drop-shadow(0px 1px 2px rgba(0, 0, 0, 0.3));\n",
              "    fill: #FFFFFF;\n",
              "  }\n",
              "</style>\n",
              "\n",
              "    <script>\n",
              "      async function quickchart(key) {\n",
              "        const containerElement = document.querySelector('#' + key);\n",
              "        const charts = await google.colab.kernel.invokeFunction(\n",
              "            'suggestCharts', [key], {});\n",
              "      }\n",
              "    </script>\n",
              "\n",
              "      <script>\n",
              "\n",
              "function displayQuickchartButton(domScope) {\n",
              "  let quickchartButtonEl =\n",
              "    domScope.querySelector('#df-7e90d5d4-063f-448b-9b43-ba238c6bd1be button.colab-df-quickchart');\n",
              "  quickchartButtonEl.style.display =\n",
              "    google.colab.kernel.accessAllowed ? 'block' : 'none';\n",
              "}\n",
              "\n",
              "        displayQuickchartButton(document);\n",
              "      </script>\n",
              "      <style>\n",
              "    .colab-df-container {\n",
              "      display:flex;\n",
              "      flex-wrap:wrap;\n",
              "      gap: 12px;\n",
              "    }\n",
              "\n",
              "    .colab-df-convert {\n",
              "      background-color: #E8F0FE;\n",
              "      border: none;\n",
              "      border-radius: 50%;\n",
              "      cursor: pointer;\n",
              "      display: none;\n",
              "      fill: #1967D2;\n",
              "      height: 32px;\n",
              "      padding: 0 0 0 0;\n",
              "      width: 32px;\n",
              "    }\n",
              "\n",
              "    .colab-df-convert:hover {\n",
              "      background-color: #E2EBFA;\n",
              "      box-shadow: 0px 1px 2px rgba(60, 64, 67, 0.3), 0px 1px 3px 1px rgba(60, 64, 67, 0.15);\n",
              "      fill: #174EA6;\n",
              "    }\n",
              "\n",
              "    [theme=dark] .colab-df-convert {\n",
              "      background-color: #3B4455;\n",
              "      fill: #D2E3FC;\n",
              "    }\n",
              "\n",
              "    [theme=dark] .colab-df-convert:hover {\n",
              "      background-color: #434B5C;\n",
              "      box-shadow: 0px 1px 3px 1px rgba(0, 0, 0, 0.15);\n",
              "      filter: drop-shadow(0px 1px 2px rgba(0, 0, 0, 0.3));\n",
              "      fill: #FFFFFF;\n",
              "    }\n",
              "  </style>\n",
              "\n",
              "      <script>\n",
              "        const buttonEl =\n",
              "          document.querySelector('#df-3b1252e8-e27b-4d67-984a-af5a1a05b997 button.colab-df-convert');\n",
              "        buttonEl.style.display =\n",
              "          google.colab.kernel.accessAllowed ? 'block' : 'none';\n",
              "\n",
              "        async function convertToInteractive(key) {\n",
              "          const element = document.querySelector('#df-3b1252e8-e27b-4d67-984a-af5a1a05b997');\n",
              "          const dataTable =\n",
              "            await google.colab.kernel.invokeFunction('convertToInteractive',\n",
              "                                                     [key], {});\n",
              "          if (!dataTable) return;\n",
              "\n",
              "          const docLinkHtml = 'Like what you see? Visit the ' +\n",
              "            '<a target=\"_blank\" href=https://colab.research.google.com/notebooks/data_table.ipynb>data table notebook</a>'\n",
              "            + ' to learn more about interactive tables.';\n",
              "          element.innerHTML = '';\n",
              "          dataTable['output_type'] = 'display_data';\n",
              "          await google.colab.output.renderOutput(dataTable, element);\n",
              "          const docLink = document.createElement('div');\n",
              "          docLink.innerHTML = docLinkHtml;\n",
              "          element.appendChild(docLink);\n",
              "        }\n",
              "      </script>\n",
              "    </div>\n",
              "  </div>\n"
            ]
          },
          "metadata": {},
          "execution_count": 74
        }
      ]
    },
    {
      "cell_type": "code",
      "source": [
        "# Создание копии таблицы\n",
        "df2 =df1.copy()"
      ],
      "metadata": {
        "id": "xaUcrMg-jcy3"
      },
      "execution_count": null,
      "outputs": []
    },
    {
      "cell_type": "code",
      "source": [
        "df2[\"Профессия\"] = df2[\"Профессия\"].str.lower()  # приведение значений к нижнему регистру\n",
        "#df2 = df2.sort_values(\"Профессия\")  # сортировка по алфавиту\n",
        "\n",
        "df2.head(3)  # вывод первых 5 строк таблицы\n"
      ],
      "metadata": {
        "id": "CYfStN6G9Luy",
        "colab": {
          "base_uri": "https://localhost:8080/",
          "height": 393
        },
        "outputId": "04272695-073d-44e3-9b1f-e812f6a24f33"
      },
      "execution_count": null,
      "outputs": [
        {
          "output_type": "execute_result",
          "data": {
            "text/plain": [
              "    КлиентДатаРождения КлиентПол                     Профессия  \\\n",
              "0  1989-12-31T00:00:00   Женский               продавец-кассир   \n",
              "1  1998-07-20T00:00:00   Женский               продавец-кассир   \n",
              "2  2002-01-04T00:00:00   Женский  младший продавец-консультант   \n",
              "\n",
              "        ВредныеФакторы  ПсихОсвидетельствование ЗаключениеМК  \\\n",
              "0           Нет данных                    False        Годен   \n",
              "1  2023-10-04 00:00:00                    False        Годен   \n",
              "2                   23                    False        Годен   \n",
              "\n",
              "             ЗаключениеМКПредставление                           Заключение  \\\n",
              "0  Годен к работе в указанных условиях  Годен к работе в указанных условиях   \n",
              "1  Годен к работе в указанных условиях  Годен к работе в указанных условиях   \n",
              "2  Годен к работе в указанных условиях  Годен к работе в указанных условиях   \n",
              "\n",
              "  Гинекология1_МКБ101 Гинекология1_МКБ102  ... ХирургНеИсп2_МКБ103  \\\n",
              "0               Z00.0          Нет данных  ...          Нет данных   \n",
              "1               Z00.0          Нет данных  ...          Нет данных   \n",
              "2               Z00.0          Нет данных  ...          Нет данных   \n",
              "\n",
              "  ХирургНеИсп3_МКБ101 ХирургНеИсп3_МКБ102 ХирургНеИсп3_МКБ103  \\\n",
              "0          Нет данных          Нет данных          Нет данных   \n",
              "1          Нет данных          Нет данных          Нет данных   \n",
              "2          Нет данных          Нет данных          Нет данных   \n",
              "\n",
              "  ЭКГНеИсп1_МКБ101 ЭКГНеИсп1_МКБ102 ЭКГНеИсп2_МКБ101 ЭКГНеИсп2_МКБ102  \\\n",
              "0       Нет данных       Нет данных       Нет данных       Нет данных   \n",
              "1       Нет данных       Нет данных       Нет данных       Нет данных   \n",
              "2       Нет данных       Нет данных       Нет данных       Нет данных   \n",
              "\n",
              "  Эндоскопия1_МКБ101 Эндоскопия1_МКБ102  \n",
              "0         Нет данных         Нет данных  \n",
              "1         Нет данных         Нет данных  \n",
              "2         Нет данных         Нет данных  \n",
              "\n",
              "[3 rows x 194 columns]"
            ],
            "text/html": [
              "\n",
              "\n",
              "  <div id=\"df-b4ac04ff-5cb3-4df1-a9fb-122b270c6faa\">\n",
              "    <div class=\"colab-df-container\">\n",
              "      <div>\n",
              "<style scoped>\n",
              "    .dataframe tbody tr th:only-of-type {\n",
              "        vertical-align: middle;\n",
              "    }\n",
              "\n",
              "    .dataframe tbody tr th {\n",
              "        vertical-align: top;\n",
              "    }\n",
              "\n",
              "    .dataframe thead th {\n",
              "        text-align: right;\n",
              "    }\n",
              "</style>\n",
              "<table border=\"1\" class=\"dataframe\">\n",
              "  <thead>\n",
              "    <tr style=\"text-align: right;\">\n",
              "      <th></th>\n",
              "      <th>КлиентДатаРождения</th>\n",
              "      <th>КлиентПол</th>\n",
              "      <th>Профессия</th>\n",
              "      <th>ВредныеФакторы</th>\n",
              "      <th>ПсихОсвидетельствование</th>\n",
              "      <th>ЗаключениеМК</th>\n",
              "      <th>ЗаключениеМКПредставление</th>\n",
              "      <th>Заключение</th>\n",
              "      <th>Гинекология1_МКБ101</th>\n",
              "      <th>Гинекология1_МКБ102</th>\n",
              "      <th>...</th>\n",
              "      <th>ХирургНеИсп2_МКБ103</th>\n",
              "      <th>ХирургНеИсп3_МКБ101</th>\n",
              "      <th>ХирургНеИсп3_МКБ102</th>\n",
              "      <th>ХирургНеИсп3_МКБ103</th>\n",
              "      <th>ЭКГНеИсп1_МКБ101</th>\n",
              "      <th>ЭКГНеИсп1_МКБ102</th>\n",
              "      <th>ЭКГНеИсп2_МКБ101</th>\n",
              "      <th>ЭКГНеИсп2_МКБ102</th>\n",
              "      <th>Эндоскопия1_МКБ101</th>\n",
              "      <th>Эндоскопия1_МКБ102</th>\n",
              "    </tr>\n",
              "  </thead>\n",
              "  <tbody>\n",
              "    <tr>\n",
              "      <th>0</th>\n",
              "      <td>1989-12-31T00:00:00</td>\n",
              "      <td>Женский</td>\n",
              "      <td>продавец-кассир</td>\n",
              "      <td>Нет данных</td>\n",
              "      <td>False</td>\n",
              "      <td>Годен</td>\n",
              "      <td>Годен к работе в указанных условиях</td>\n",
              "      <td>Годен к работе в указанных условиях</td>\n",
              "      <td>Z00.0</td>\n",
              "      <td>Нет данных</td>\n",
              "      <td>...</td>\n",
              "      <td>Нет данных</td>\n",
              "      <td>Нет данных</td>\n",
              "      <td>Нет данных</td>\n",
              "      <td>Нет данных</td>\n",
              "      <td>Нет данных</td>\n",
              "      <td>Нет данных</td>\n",
              "      <td>Нет данных</td>\n",
              "      <td>Нет данных</td>\n",
              "      <td>Нет данных</td>\n",
              "      <td>Нет данных</td>\n",
              "    </tr>\n",
              "    <tr>\n",
              "      <th>1</th>\n",
              "      <td>1998-07-20T00:00:00</td>\n",
              "      <td>Женский</td>\n",
              "      <td>продавец-кассир</td>\n",
              "      <td>2023-10-04 00:00:00</td>\n",
              "      <td>False</td>\n",
              "      <td>Годен</td>\n",
              "      <td>Годен к работе в указанных условиях</td>\n",
              "      <td>Годен к работе в указанных условиях</td>\n",
              "      <td>Z00.0</td>\n",
              "      <td>Нет данных</td>\n",
              "      <td>...</td>\n",
              "      <td>Нет данных</td>\n",
              "      <td>Нет данных</td>\n",
              "      <td>Нет данных</td>\n",
              "      <td>Нет данных</td>\n",
              "      <td>Нет данных</td>\n",
              "      <td>Нет данных</td>\n",
              "      <td>Нет данных</td>\n",
              "      <td>Нет данных</td>\n",
              "      <td>Нет данных</td>\n",
              "      <td>Нет данных</td>\n",
              "    </tr>\n",
              "    <tr>\n",
              "      <th>2</th>\n",
              "      <td>2002-01-04T00:00:00</td>\n",
              "      <td>Женский</td>\n",
              "      <td>младший продавец-консультант</td>\n",
              "      <td>23</td>\n",
              "      <td>False</td>\n",
              "      <td>Годен</td>\n",
              "      <td>Годен к работе в указанных условиях</td>\n",
              "      <td>Годен к работе в указанных условиях</td>\n",
              "      <td>Z00.0</td>\n",
              "      <td>Нет данных</td>\n",
              "      <td>...</td>\n",
              "      <td>Нет данных</td>\n",
              "      <td>Нет данных</td>\n",
              "      <td>Нет данных</td>\n",
              "      <td>Нет данных</td>\n",
              "      <td>Нет данных</td>\n",
              "      <td>Нет данных</td>\n",
              "      <td>Нет данных</td>\n",
              "      <td>Нет данных</td>\n",
              "      <td>Нет данных</td>\n",
              "      <td>Нет данных</td>\n",
              "    </tr>\n",
              "  </tbody>\n",
              "</table>\n",
              "<p>3 rows × 194 columns</p>\n",
              "</div>\n",
              "      <button class=\"colab-df-convert\" onclick=\"convertToInteractive('df-b4ac04ff-5cb3-4df1-a9fb-122b270c6faa')\"\n",
              "              title=\"Convert this dataframe to an interactive table.\"\n",
              "              style=\"display:none;\">\n",
              "\n",
              "  <svg xmlns=\"http://www.w3.org/2000/svg\" height=\"24px\"viewBox=\"0 0 24 24\"\n",
              "       width=\"24px\">\n",
              "    <path d=\"M0 0h24v24H0V0z\" fill=\"none\"/>\n",
              "    <path d=\"M18.56 5.44l.94 2.06.94-2.06 2.06-.94-2.06-.94-.94-2.06-.94 2.06-2.06.94zm-11 1L8.5 8.5l.94-2.06 2.06-.94-2.06-.94L8.5 2.5l-.94 2.06-2.06.94zm10 10l.94 2.06.94-2.06 2.06-.94-2.06-.94-.94-2.06-.94 2.06-2.06.94z\"/><path d=\"M17.41 7.96l-1.37-1.37c-.4-.4-.92-.59-1.43-.59-.52 0-1.04.2-1.43.59L10.3 9.45l-7.72 7.72c-.78.78-.78 2.05 0 2.83L4 21.41c.39.39.9.59 1.41.59.51 0 1.02-.2 1.41-.59l7.78-7.78 2.81-2.81c.8-.78.8-2.07 0-2.86zM5.41 20L4 18.59l7.72-7.72 1.47 1.35L5.41 20z\"/>\n",
              "  </svg>\n",
              "      </button>\n",
              "\n",
              "\n",
              "\n",
              "    <div id=\"df-725cfd3b-2895-462f-bd52-ca34814c8636\">\n",
              "      <button class=\"colab-df-quickchart\" onclick=\"quickchart('df-725cfd3b-2895-462f-bd52-ca34814c8636')\"\n",
              "              title=\"Suggest charts.\"\n",
              "              style=\"display:none;\">\n",
              "\n",
              "<svg xmlns=\"http://www.w3.org/2000/svg\" height=\"24px\"viewBox=\"0 0 24 24\"\n",
              "     width=\"24px\">\n",
              "    <g>\n",
              "        <path d=\"M19 3H5c-1.1 0-2 .9-2 2v14c0 1.1.9 2 2 2h14c1.1 0 2-.9 2-2V5c0-1.1-.9-2-2-2zM9 17H7v-7h2v7zm4 0h-2V7h2v10zm4 0h-2v-4h2v4z\"/>\n",
              "    </g>\n",
              "</svg>\n",
              "      </button>\n",
              "    </div>\n",
              "\n",
              "<style>\n",
              "  .colab-df-quickchart {\n",
              "    background-color: #E8F0FE;\n",
              "    border: none;\n",
              "    border-radius: 50%;\n",
              "    cursor: pointer;\n",
              "    display: none;\n",
              "    fill: #1967D2;\n",
              "    height: 32px;\n",
              "    padding: 0 0 0 0;\n",
              "    width: 32px;\n",
              "  }\n",
              "\n",
              "  .colab-df-quickchart:hover {\n",
              "    background-color: #E2EBFA;\n",
              "    box-shadow: 0px 1px 2px rgba(60, 64, 67, 0.3), 0px 1px 3px 1px rgba(60, 64, 67, 0.15);\n",
              "    fill: #174EA6;\n",
              "  }\n",
              "\n",
              "  [theme=dark] .colab-df-quickchart {\n",
              "    background-color: #3B4455;\n",
              "    fill: #D2E3FC;\n",
              "  }\n",
              "\n",
              "  [theme=dark] .colab-df-quickchart:hover {\n",
              "    background-color: #434B5C;\n",
              "    box-shadow: 0px 1px 3px 1px rgba(0, 0, 0, 0.15);\n",
              "    filter: drop-shadow(0px 1px 2px rgba(0, 0, 0, 0.3));\n",
              "    fill: #FFFFFF;\n",
              "  }\n",
              "</style>\n",
              "\n",
              "    <script>\n",
              "      async function quickchart(key) {\n",
              "        const containerElement = document.querySelector('#' + key);\n",
              "        const charts = await google.colab.kernel.invokeFunction(\n",
              "            'suggestCharts', [key], {});\n",
              "      }\n",
              "    </script>\n",
              "\n",
              "      <script>\n",
              "\n",
              "function displayQuickchartButton(domScope) {\n",
              "  let quickchartButtonEl =\n",
              "    domScope.querySelector('#df-725cfd3b-2895-462f-bd52-ca34814c8636 button.colab-df-quickchart');\n",
              "  quickchartButtonEl.style.display =\n",
              "    google.colab.kernel.accessAllowed ? 'block' : 'none';\n",
              "}\n",
              "\n",
              "        displayQuickchartButton(document);\n",
              "      </script>\n",
              "      <style>\n",
              "    .colab-df-container {\n",
              "      display:flex;\n",
              "      flex-wrap:wrap;\n",
              "      gap: 12px;\n",
              "    }\n",
              "\n",
              "    .colab-df-convert {\n",
              "      background-color: #E8F0FE;\n",
              "      border: none;\n",
              "      border-radius: 50%;\n",
              "      cursor: pointer;\n",
              "      display: none;\n",
              "      fill: #1967D2;\n",
              "      height: 32px;\n",
              "      padding: 0 0 0 0;\n",
              "      width: 32px;\n",
              "    }\n",
              "\n",
              "    .colab-df-convert:hover {\n",
              "      background-color: #E2EBFA;\n",
              "      box-shadow: 0px 1px 2px rgba(60, 64, 67, 0.3), 0px 1px 3px 1px rgba(60, 64, 67, 0.15);\n",
              "      fill: #174EA6;\n",
              "    }\n",
              "\n",
              "    [theme=dark] .colab-df-convert {\n",
              "      background-color: #3B4455;\n",
              "      fill: #D2E3FC;\n",
              "    }\n",
              "\n",
              "    [theme=dark] .colab-df-convert:hover {\n",
              "      background-color: #434B5C;\n",
              "      box-shadow: 0px 1px 3px 1px rgba(0, 0, 0, 0.15);\n",
              "      filter: drop-shadow(0px 1px 2px rgba(0, 0, 0, 0.3));\n",
              "      fill: #FFFFFF;\n",
              "    }\n",
              "  </style>\n",
              "\n",
              "      <script>\n",
              "        const buttonEl =\n",
              "          document.querySelector('#df-b4ac04ff-5cb3-4df1-a9fb-122b270c6faa button.colab-df-convert');\n",
              "        buttonEl.style.display =\n",
              "          google.colab.kernel.accessAllowed ? 'block' : 'none';\n",
              "\n",
              "        async function convertToInteractive(key) {\n",
              "          const element = document.querySelector('#df-b4ac04ff-5cb3-4df1-a9fb-122b270c6faa');\n",
              "          const dataTable =\n",
              "            await google.colab.kernel.invokeFunction('convertToInteractive',\n",
              "                                                     [key], {});\n",
              "          if (!dataTable) return;\n",
              "\n",
              "          const docLinkHtml = 'Like what you see? Visit the ' +\n",
              "            '<a target=\"_blank\" href=https://colab.research.google.com/notebooks/data_table.ipynb>data table notebook</a>'\n",
              "            + ' to learn more about interactive tables.';\n",
              "          element.innerHTML = '';\n",
              "          dataTable['output_type'] = 'display_data';\n",
              "          await google.colab.output.renderOutput(dataTable, element);\n",
              "          const docLink = document.createElement('div');\n",
              "          docLink.innerHTML = docLinkHtml;\n",
              "          element.appendChild(docLink);\n",
              "        }\n",
              "      </script>\n",
              "    </div>\n",
              "  </div>\n"
            ]
          },
          "metadata": {},
          "execution_count": 76
        }
      ]
    },
    {
      "cell_type": "code",
      "source": [
        "#dfp = df2[['Профессия']]\n",
        "# Сохраним колонку 'Профессия' и поработаем в excel\n",
        "#df2.to_excel('/content/drive/MyDrive/БазыCSV/InClinic/df3.xlsx')"
      ],
      "metadata": {
        "id": "Nv9bKbjbcliG"
      },
      "execution_count": null,
      "outputs": []
    },
    {
      "cell_type": "code",
      "source": [
        "df2['Назв.профессии'] = ''\n",
        "def find_and_fill(df2, df_p):\n",
        "    # разделяем названия столбцов на отдельные слова\n",
        "    row_words = [s.split('_') for s in df2['Профессия']]\n",
        "\n",
        "    # ищем вхождения каждого слова из списка words\n",
        "    # в каждом списке слов из row_words\n",
        "    word_indices = {}\n",
        "    for i, cw in enumerate(row_words):\n",
        "        for word in df_p['Проф']:\n",
        "            if word in cw:\n",
        "                if i not in word_indices:\n",
        "                    word_indices[i] = [word]\n",
        "                else:\n",
        "                    word_indices[i].append(word)\n",
        "\n",
        "    # создаем новый столбец 'Назв.профессии', содержащий все найденные слова\n",
        "    df2['Назв.профессии'] = pd.Series(word_indices)\n",
        "\n",
        "    return df2['Назв.профессии']\n",
        "\n",
        "result = find_and_fill(df2, df_p)\n",
        "result.head(5)"
      ],
      "metadata": {
        "id": "ANmmXJCrTurT"
      },
      "execution_count": null,
      "outputs": []
    },
    {
      "cell_type": "code",
      "source": [
        "df2['Назв.профессии'].head(50)"
      ],
      "metadata": {
        "id": "_lXgZsklbKsO"
      },
      "execution_count": null,
      "outputs": []
    },
    {
      "cell_type": "markdown",
      "source": [
        "РАБОТА С КОЛОНКОЙ \"Профессия\" НЕ ЗАКОНЧЕНА"
      ],
      "metadata": {
        "id": "j7wAkGVonJpn"
      }
    },
    {
      "cell_type": "markdown",
      "source": [
        "# Подготовка данных"
      ],
      "metadata": {
        "id": "a1zzcBAFqqMx"
      }
    },
    {
      "cell_type": "code",
      "execution_count": 1,
      "metadata": {
        "id": "EQiLe5HkrmUU"
      },
      "outputs": [],
      "source": [
        "# Импорт библиотек и инструментов\n",
        "from google.colab import files              # Импортируем библиотеку files для работы с файлами\n",
        "import pandas as pd                         # Импортируем библиотеку обработки и анализа данных pandas\n",
        "import matplotlib.pyplot as plt             # Импортируем модуль pyplot библиотеки matplotlib для построения графиков\n",
        "import seaborn as sns                       # Импортируем модуль seaborn библиотеки matplotlib для построения графиков\n",
        "import gdown\n",
        "import numpy as np\n",
        "import re\n",
        "from tensorflow.keras import utils\n",
        "from tensorflow.keras.preprocessing.text import Tokenizer, text_to_word_sequence\n",
        "from sklearn.feature_extraction.text import CountVectorizer\n",
        "from sklearn.preprocessing import StandardScaler\n",
        "from sklearn.model_selection import train_test_split\n",
        "from IPython.display import clear_output\n",
        "from sklearn.feature_extraction.text import CountVectorizer\n",
        "from sklearn.preprocessing import LabelEncoder\n",
        "from keras.utils import to_categorical"
      ]
    },
    {
      "cell_type": "code",
      "execution_count": 3,
      "metadata": {
        "colab": {
          "base_uri": "https://localhost:8080/"
        },
        "outputId": "fc7ff092-9271-44ae-aee4-521a0fe24c99",
        "id": "2DPa6w94bUMM"
      },
      "outputs": [
        {
          "output_type": "stream",
          "name": "stdout",
          "text": [
            "Mounted at /content/drive\n"
          ]
        }
      ],
      "source": [
        "                                            # Для загрузки данных используем drive\n",
        "from google.colab import drive\n",
        "drive.mount('/content/drive')"
      ]
    },
    {
      "cell_type": "code",
      "source": [
        "df1 = pd.read_csv('/content/drive/MyDrive/БазыCSV/InClinic/df1.csv')"
      ],
      "metadata": {
        "id": "8Lh-ALV8HMvF"
      },
      "execution_count": 4,
      "outputs": []
    },
    {
      "cell_type": "code",
      "source": [
        "# Создание копии таблицы\n",
        "df3 =df1.copy()"
      ],
      "metadata": {
        "id": "x35VZ9v9HoKE"
      },
      "execution_count": 5,
      "outputs": []
    },
    {
      "cell_type": "code",
      "source": [
        "df3.head(3)"
      ],
      "metadata": {
        "id": "pd2IKvW3M4Cd",
        "colab": {
          "base_uri": "https://localhost:8080/",
          "height": 393
        },
        "outputId": "027bfe3b-8200-4b8b-c211-74054e11780f"
      },
      "execution_count": null,
      "outputs": [
        {
          "output_type": "execute_result",
          "data": {
            "text/plain": [
              "  КлиентДатаРождения КлиентПол                     Профессия  \\\n",
              "0               1989   Женский               Продавец-кассир   \n",
              "1               1998   Женский               Продавец-кассир   \n",
              "2               2002   Женский  Младший продавец-консультант   \n",
              "\n",
              "        ВредныеФакторы  ПсихОсвидетельствование ЗаключениеМК  \\\n",
              "0           Нет данных                    False        Годен   \n",
              "1  2023-10-04 00:00:00                    False        Годен   \n",
              "2                   23                    False        Годен   \n",
              "\n",
              "             ЗаключениеМКПредставление                           Заключение  \\\n",
              "0  Годен к работе в указанных условиях  Годен к работе в указанных условиях   \n",
              "1  Годен к работе в указанных условиях  Годен к работе в указанных условиях   \n",
              "2  Годен к работе в указанных условиях  Годен к работе в указанных условиях   \n",
              "\n",
              "  Гинекология1_МКБ101 Гинекология1_МКБ102  ... ХирургНеИсп2_МКБ103  \\\n",
              "0               Z00.0          Нет данных  ...          Нет данных   \n",
              "1               Z00.0          Нет данных  ...          Нет данных   \n",
              "2               Z00.0          Нет данных  ...          Нет данных   \n",
              "\n",
              "  ХирургНеИсп3_МКБ101 ХирургНеИсп3_МКБ102 ХирургНеИсп3_МКБ103  \\\n",
              "0          Нет данных          Нет данных          Нет данных   \n",
              "1          Нет данных          Нет данных          Нет данных   \n",
              "2          Нет данных          Нет данных          Нет данных   \n",
              "\n",
              "  ЭКГНеИсп1_МКБ101 ЭКГНеИсп1_МКБ102 ЭКГНеИсп2_МКБ101 ЭКГНеИсп2_МКБ102  \\\n",
              "0       Нет данных       Нет данных       Нет данных       Нет данных   \n",
              "1       Нет данных       Нет данных       Нет данных       Нет данных   \n",
              "2       Нет данных       Нет данных       Нет данных       Нет данных   \n",
              "\n",
              "  Эндоскопия1_МКБ101 Эндоскопия1_МКБ102  \n",
              "0         Нет данных         Нет данных  \n",
              "1         Нет данных         Нет данных  \n",
              "2         Нет данных         Нет данных  \n",
              "\n",
              "[3 rows x 194 columns]"
            ],
            "text/html": [
              "\n",
              "\n",
              "  <div id=\"df-fbc2742c-71e7-44f9-a936-35edf7829a58\">\n",
              "    <div class=\"colab-df-container\">\n",
              "      <div>\n",
              "<style scoped>\n",
              "    .dataframe tbody tr th:only-of-type {\n",
              "        vertical-align: middle;\n",
              "    }\n",
              "\n",
              "    .dataframe tbody tr th {\n",
              "        vertical-align: top;\n",
              "    }\n",
              "\n",
              "    .dataframe thead th {\n",
              "        text-align: right;\n",
              "    }\n",
              "</style>\n",
              "<table border=\"1\" class=\"dataframe\">\n",
              "  <thead>\n",
              "    <tr style=\"text-align: right;\">\n",
              "      <th></th>\n",
              "      <th>КлиентДатаРождения</th>\n",
              "      <th>КлиентПол</th>\n",
              "      <th>Профессия</th>\n",
              "      <th>ВредныеФакторы</th>\n",
              "      <th>ПсихОсвидетельствование</th>\n",
              "      <th>ЗаключениеМК</th>\n",
              "      <th>ЗаключениеМКПредставление</th>\n",
              "      <th>Заключение</th>\n",
              "      <th>Гинекология1_МКБ101</th>\n",
              "      <th>Гинекология1_МКБ102</th>\n",
              "      <th>...</th>\n",
              "      <th>ХирургНеИсп2_МКБ103</th>\n",
              "      <th>ХирургНеИсп3_МКБ101</th>\n",
              "      <th>ХирургНеИсп3_МКБ102</th>\n",
              "      <th>ХирургНеИсп3_МКБ103</th>\n",
              "      <th>ЭКГНеИсп1_МКБ101</th>\n",
              "      <th>ЭКГНеИсп1_МКБ102</th>\n",
              "      <th>ЭКГНеИсп2_МКБ101</th>\n",
              "      <th>ЭКГНеИсп2_МКБ102</th>\n",
              "      <th>Эндоскопия1_МКБ101</th>\n",
              "      <th>Эндоскопия1_МКБ102</th>\n",
              "    </tr>\n",
              "  </thead>\n",
              "  <tbody>\n",
              "    <tr>\n",
              "      <th>0</th>\n",
              "      <td>1989</td>\n",
              "      <td>Женский</td>\n",
              "      <td>Продавец-кассир</td>\n",
              "      <td>Нет данных</td>\n",
              "      <td>False</td>\n",
              "      <td>Годен</td>\n",
              "      <td>Годен к работе в указанных условиях</td>\n",
              "      <td>Годен к работе в указанных условиях</td>\n",
              "      <td>Z00.0</td>\n",
              "      <td>Нет данных</td>\n",
              "      <td>...</td>\n",
              "      <td>Нет данных</td>\n",
              "      <td>Нет данных</td>\n",
              "      <td>Нет данных</td>\n",
              "      <td>Нет данных</td>\n",
              "      <td>Нет данных</td>\n",
              "      <td>Нет данных</td>\n",
              "      <td>Нет данных</td>\n",
              "      <td>Нет данных</td>\n",
              "      <td>Нет данных</td>\n",
              "      <td>Нет данных</td>\n",
              "    </tr>\n",
              "    <tr>\n",
              "      <th>1</th>\n",
              "      <td>1998</td>\n",
              "      <td>Женский</td>\n",
              "      <td>Продавец-кассир</td>\n",
              "      <td>2023-10-04 00:00:00</td>\n",
              "      <td>False</td>\n",
              "      <td>Годен</td>\n",
              "      <td>Годен к работе в указанных условиях</td>\n",
              "      <td>Годен к работе в указанных условиях</td>\n",
              "      <td>Z00.0</td>\n",
              "      <td>Нет данных</td>\n",
              "      <td>...</td>\n",
              "      <td>Нет данных</td>\n",
              "      <td>Нет данных</td>\n",
              "      <td>Нет данных</td>\n",
              "      <td>Нет данных</td>\n",
              "      <td>Нет данных</td>\n",
              "      <td>Нет данных</td>\n",
              "      <td>Нет данных</td>\n",
              "      <td>Нет данных</td>\n",
              "      <td>Нет данных</td>\n",
              "      <td>Нет данных</td>\n",
              "    </tr>\n",
              "    <tr>\n",
              "      <th>2</th>\n",
              "      <td>2002</td>\n",
              "      <td>Женский</td>\n",
              "      <td>Младший продавец-консультант</td>\n",
              "      <td>23</td>\n",
              "      <td>False</td>\n",
              "      <td>Годен</td>\n",
              "      <td>Годен к работе в указанных условиях</td>\n",
              "      <td>Годен к работе в указанных условиях</td>\n",
              "      <td>Z00.0</td>\n",
              "      <td>Нет данных</td>\n",
              "      <td>...</td>\n",
              "      <td>Нет данных</td>\n",
              "      <td>Нет данных</td>\n",
              "      <td>Нет данных</td>\n",
              "      <td>Нет данных</td>\n",
              "      <td>Нет данных</td>\n",
              "      <td>Нет данных</td>\n",
              "      <td>Нет данных</td>\n",
              "      <td>Нет данных</td>\n",
              "      <td>Нет данных</td>\n",
              "      <td>Нет данных</td>\n",
              "    </tr>\n",
              "  </tbody>\n",
              "</table>\n",
              "<p>3 rows × 194 columns</p>\n",
              "</div>\n",
              "      <button class=\"colab-df-convert\" onclick=\"convertToInteractive('df-fbc2742c-71e7-44f9-a936-35edf7829a58')\"\n",
              "              title=\"Convert this dataframe to an interactive table.\"\n",
              "              style=\"display:none;\">\n",
              "\n",
              "  <svg xmlns=\"http://www.w3.org/2000/svg\" height=\"24px\"viewBox=\"0 0 24 24\"\n",
              "       width=\"24px\">\n",
              "    <path d=\"M0 0h24v24H0V0z\" fill=\"none\"/>\n",
              "    <path d=\"M18.56 5.44l.94 2.06.94-2.06 2.06-.94-2.06-.94-.94-2.06-.94 2.06-2.06.94zm-11 1L8.5 8.5l.94-2.06 2.06-.94-2.06-.94L8.5 2.5l-.94 2.06-2.06.94zm10 10l.94 2.06.94-2.06 2.06-.94-2.06-.94-.94-2.06-.94 2.06-2.06.94z\"/><path d=\"M17.41 7.96l-1.37-1.37c-.4-.4-.92-.59-1.43-.59-.52 0-1.04.2-1.43.59L10.3 9.45l-7.72 7.72c-.78.78-.78 2.05 0 2.83L4 21.41c.39.39.9.59 1.41.59.51 0 1.02-.2 1.41-.59l7.78-7.78 2.81-2.81c.8-.78.8-2.07 0-2.86zM5.41 20L4 18.59l7.72-7.72 1.47 1.35L5.41 20z\"/>\n",
              "  </svg>\n",
              "      </button>\n",
              "\n",
              "\n",
              "\n",
              "    <div id=\"df-913f3927-a4fa-4479-8573-67af6edd9c17\">\n",
              "      <button class=\"colab-df-quickchart\" onclick=\"quickchart('df-913f3927-a4fa-4479-8573-67af6edd9c17')\"\n",
              "              title=\"Suggest charts.\"\n",
              "              style=\"display:none;\">\n",
              "\n",
              "<svg xmlns=\"http://www.w3.org/2000/svg\" height=\"24px\"viewBox=\"0 0 24 24\"\n",
              "     width=\"24px\">\n",
              "    <g>\n",
              "        <path d=\"M19 3H5c-1.1 0-2 .9-2 2v14c0 1.1.9 2 2 2h14c1.1 0 2-.9 2-2V5c0-1.1-.9-2-2-2zM9 17H7v-7h2v7zm4 0h-2V7h2v10zm4 0h-2v-4h2v4z\"/>\n",
              "    </g>\n",
              "</svg>\n",
              "      </button>\n",
              "    </div>\n",
              "\n",
              "<style>\n",
              "  .colab-df-quickchart {\n",
              "    background-color: #E8F0FE;\n",
              "    border: none;\n",
              "    border-radius: 50%;\n",
              "    cursor: pointer;\n",
              "    display: none;\n",
              "    fill: #1967D2;\n",
              "    height: 32px;\n",
              "    padding: 0 0 0 0;\n",
              "    width: 32px;\n",
              "  }\n",
              "\n",
              "  .colab-df-quickchart:hover {\n",
              "    background-color: #E2EBFA;\n",
              "    box-shadow: 0px 1px 2px rgba(60, 64, 67, 0.3), 0px 1px 3px 1px rgba(60, 64, 67, 0.15);\n",
              "    fill: #174EA6;\n",
              "  }\n",
              "\n",
              "  [theme=dark] .colab-df-quickchart {\n",
              "    background-color: #3B4455;\n",
              "    fill: #D2E3FC;\n",
              "  }\n",
              "\n",
              "  [theme=dark] .colab-df-quickchart:hover {\n",
              "    background-color: #434B5C;\n",
              "    box-shadow: 0px 1px 3px 1px rgba(0, 0, 0, 0.15);\n",
              "    filter: drop-shadow(0px 1px 2px rgba(0, 0, 0, 0.3));\n",
              "    fill: #FFFFFF;\n",
              "  }\n",
              "</style>\n",
              "\n",
              "    <script>\n",
              "      async function quickchart(key) {\n",
              "        const containerElement = document.querySelector('#' + key);\n",
              "        const charts = await google.colab.kernel.invokeFunction(\n",
              "            'suggestCharts', [key], {});\n",
              "      }\n",
              "    </script>\n",
              "\n",
              "      <script>\n",
              "\n",
              "function displayQuickchartButton(domScope) {\n",
              "  let quickchartButtonEl =\n",
              "    domScope.querySelector('#df-913f3927-a4fa-4479-8573-67af6edd9c17 button.colab-df-quickchart');\n",
              "  quickchartButtonEl.style.display =\n",
              "    google.colab.kernel.accessAllowed ? 'block' : 'none';\n",
              "}\n",
              "\n",
              "        displayQuickchartButton(document);\n",
              "      </script>\n",
              "      <style>\n",
              "    .colab-df-container {\n",
              "      display:flex;\n",
              "      flex-wrap:wrap;\n",
              "      gap: 12px;\n",
              "    }\n",
              "\n",
              "    .colab-df-convert {\n",
              "      background-color: #E8F0FE;\n",
              "      border: none;\n",
              "      border-radius: 50%;\n",
              "      cursor: pointer;\n",
              "      display: none;\n",
              "      fill: #1967D2;\n",
              "      height: 32px;\n",
              "      padding: 0 0 0 0;\n",
              "      width: 32px;\n",
              "    }\n",
              "\n",
              "    .colab-df-convert:hover {\n",
              "      background-color: #E2EBFA;\n",
              "      box-shadow: 0px 1px 2px rgba(60, 64, 67, 0.3), 0px 1px 3px 1px rgba(60, 64, 67, 0.15);\n",
              "      fill: #174EA6;\n",
              "    }\n",
              "\n",
              "    [theme=dark] .colab-df-convert {\n",
              "      background-color: #3B4455;\n",
              "      fill: #D2E3FC;\n",
              "    }\n",
              "\n",
              "    [theme=dark] .colab-df-convert:hover {\n",
              "      background-color: #434B5C;\n",
              "      box-shadow: 0px 1px 3px 1px rgba(0, 0, 0, 0.15);\n",
              "      filter: drop-shadow(0px 1px 2px rgba(0, 0, 0, 0.3));\n",
              "      fill: #FFFFFF;\n",
              "    }\n",
              "  </style>\n",
              "\n",
              "      <script>\n",
              "        const buttonEl =\n",
              "          document.querySelector('#df-fbc2742c-71e7-44f9-a936-35edf7829a58 button.colab-df-convert');\n",
              "        buttonEl.style.display =\n",
              "          google.colab.kernel.accessAllowed ? 'block' : 'none';\n",
              "\n",
              "        async function convertToInteractive(key) {\n",
              "          const element = document.querySelector('#df-fbc2742c-71e7-44f9-a936-35edf7829a58');\n",
              "          const dataTable =\n",
              "            await google.colab.kernel.invokeFunction('convertToInteractive',\n",
              "                                                     [key], {});\n",
              "          if (!dataTable) return;\n",
              "\n",
              "          const docLinkHtml = 'Like what you see? Visit the ' +\n",
              "            '<a target=\"_blank\" href=https://colab.research.google.com/notebooks/data_table.ipynb>data table notebook</a>'\n",
              "            + ' to learn more about interactive tables.';\n",
              "          element.innerHTML = '';\n",
              "          dataTable['output_type'] = 'display_data';\n",
              "          await google.colab.output.renderOutput(dataTable, element);\n",
              "          const docLink = document.createElement('div');\n",
              "          docLink.innerHTML = docLinkHtml;\n",
              "          element.appendChild(docLink);\n",
              "        }\n",
              "      </script>\n",
              "    </div>\n",
              "  </div>\n"
            ]
          },
          "metadata": {},
          "execution_count": 30
        }
      ]
    },
    {
      "cell_type": "markdown",
      "source": [],
      "metadata": {
        "id": "6IWwWJv_yeV0"
      }
    },
    {
      "cell_type": "markdown",
      "source": [
        "# Корректировка и нормализация"
      ],
      "metadata": {
        "id": "WdMkIjm5yf9l"
      }
    },
    {
      "cell_type": "markdown",
      "source": [
        "Колонка возраст"
      ],
      "metadata": {
        "id": "CAi3WnDJq5D6"
      }
    },
    {
      "cell_type": "code",
      "source": [
        "# Из полной даты рождения нужен толко год возьмём его\n",
        "df3['КлиентДатаРождения'] = df3['КлиентДатаРождения'].str[:4]"
      ],
      "metadata": {
        "id": "8gem0b6Sdi8S"
      },
      "execution_count": 6,
      "outputs": []
    },
    {
      "cell_type": "code",
      "source": [
        "\n",
        "# Год превращаем в класс возрастной категории\n",
        "def getParameterAgeVect(arg):\n",
        "  arg = int(arg)  # преобразуем строку в число\n",
        "  outClass =int((arg-13)/5)\n",
        "  outClass = max(0, min(10,outClass))\n",
        "  # На выходе получаем вектор с нужной категорией возраста\n",
        "  return list(utils.to_categorical(outClass, 11).astype('int'))\n",
        "\n",
        "getParameterAgeVect('1962')"
      ],
      "metadata": {
        "colab": {
          "base_uri": "https://localhost:8080/"
        },
        "id": "2MIEeUyGzje0",
        "outputId": "9df7cc17-7611-495c-bbe2-f94581e61127"
      },
      "execution_count": 7,
      "outputs": [
        {
          "output_type": "execute_result",
          "data": {
            "text/plain": [
              "[0, 0, 0, 0, 0, 0, 0, 0, 0, 0, 1]"
            ]
          },
          "metadata": {},
          "execution_count": 7
        }
      ]
    },
    {
      "cell_type": "code",
      "source": [
        "import numpy as np\n",
        "\n",
        "def getParameterAgeVect(arg):\n",
        "    arg = int(arg)  # преобразуем строку в число\n",
        "    age_class = min(4, max(0, int((arg - 16) / 10)))\n",
        "    age_vect = np.zeros(5, dtype=int)\n",
        "    age_vect[age_class] = 1\n",
        "    return age_vect\n",
        "getParameterAgeVect('1962')"
      ],
      "metadata": {
        "colab": {
          "base_uri": "https://localhost:8080/"
        },
        "id": "kWPIpXcDm6Hg",
        "outputId": "5afe564a-e8e6-44b2-eb7a-9224a8e1aaf3"
      },
      "execution_count": 8,
      "outputs": [
        {
          "output_type": "execute_result",
          "data": {
            "text/plain": [
              "array([0, 0, 0, 0, 1])"
            ]
          },
          "metadata": {},
          "execution_count": 8
        }
      ]
    },
    {
      "cell_type": "markdown",
      "source": [
        "Колонка пол"
      ],
      "metadata": {
        "id": "Z38cWTBTrIQE"
      }
    },
    {
      "cell_type": "code",
      "source": [
        "# Уникальные значения колонки\n",
        "display(df3['КлиентПол'].unique())"
      ],
      "metadata": {
        "colab": {
          "base_uri": "https://localhost:8080/",
          "height": 34
        },
        "id": "D8RzheUE8rkT",
        "outputId": "ae33d21b-87a6-42c9-be66-727d395ecadf"
      },
      "execution_count": 9,
      "outputs": [
        {
          "output_type": "display_data",
          "data": {
            "text/plain": [
              "array(['Женский', 'Мужской', 'Нет данных', 'НеУказан'], dtype=object)"
            ]
          },
          "metadata": {}
        }
      ]
    },
    {
      "cell_type": "code",
      "source": [
        "# заменить 'НеУказан' на 'Нет данных' в столбце 'КлиентПол'\n",
        "df3['КлиентПол'] = df3['КлиентПол'].replace('НеУказан', 'Нет данных')\n",
        "\n"
      ],
      "metadata": {
        "id": "7tBnjJgRpLt-"
      },
      "execution_count": 10,
      "outputs": []
    },
    {
      "cell_type": "code",
      "execution_count": 11,
      "metadata": {
        "colab": {
          "base_uri": "https://localhost:8080/"
        },
        "outputId": "05137663-d644-4c2d-bbec-4f8f7c5377f2",
        "id": "ODNk0WH2sL4j"
      },
      "outputs": [
        {
          "output_type": "execute_result",
          "data": {
            "text/plain": [
              "[1, 0, 0]"
            ]
          },
          "metadata": {},
          "execution_count": 11
        }
      ],
      "source": [
        "def Sex_class(arg):\n",
        "    # Создаем список с\n",
        "    sex_c = [0,0,0]\n",
        "    if 'М' in arg:\n",
        "        sex_c = [1,0,0]\n",
        "    if 'Ж' in arg:\n",
        "        sex_c = [0,1,0]\n",
        "    if 'Нет данных' in arg:\n",
        "        sex_c = [0,0,1]\n",
        "    # Возвращаем список\n",
        "    return sex_c\n",
        "# Проверяем функцию с аргументом 'м'\n",
        "#sex_c = Sex_class('Ж')\n",
        "# Выводим значение\n",
        "#sex_c\n",
        "Sex_class('М')"
      ]
    },
    {
      "cell_type": "markdown",
      "source": [
        "Колонка Профессия"
      ],
      "metadata": {
        "id": "C6S5wVbJtacz"
      }
    },
    {
      "cell_type": "markdown",
      "source": [
        "Колонка Вредные Факторы"
      ],
      "metadata": {
        "id": "1hxrE6K7tl3m"
      }
    },
    {
      "cell_type": "code",
      "source": [
        "# Уникальные значения колонки\n",
        "display(df3['ВредныеФакторы'].unique())"
      ],
      "metadata": {
        "colab": {
          "base_uri": "https://localhost:8080/",
          "height": 69
        },
        "id": "guve1JsrTt8r",
        "outputId": "f6b19745-ca74-46dd-fbb2-6bbd2b6ab64c"
      },
      "execution_count": 12,
      "outputs": [
        {
          "output_type": "display_data",
          "data": {
            "text/plain": [
              "array(['Нет данных', '2023-10-04 00:00:00', '23', ...,\n",
              "       '11.3,11.4,5.1,18.2', '4.4,5.1,6.1,15,17', '4.4,5.1,15,6.1,17'],\n",
              "      dtype=object)"
            ]
          },
          "metadata": {}
        }
      ]
    },
    {
      "cell_type": "code",
      "source": [
        "# поиск значений с помощью регулярных выражений и удаление найденных записей\n",
        "df3 = df3[~df3['ВредныеФакторы'].str.match(r'\\d{4}-\\d{2}-\\d{2}\\s\\d{2}:\\d{2}:\\d{2}')]"
      ],
      "metadata": {
        "id": "YEh2rmPsuCPZ"
      },
      "execution_count": 13,
      "outputs": []
    },
    {
      "cell_type": "code",
      "source": [
        "# токенизация строк по запятой\n",
        "df3['ВредныеФакторы'] = df3['ВредныеФакторы'].apply(lambda x: x.split(','))\n",
        "\n",
        "# конвертация в матрицу Bag of Words\n",
        "vectorizer = CountVectorizer(binary=True)\n",
        "X = vectorizer.fit_transform(df3['ВредныеФакторы'].apply(lambda x: ', '.join(x)))\n",
        "x_tr = X.toarray()"
      ],
      "metadata": {
        "id": "ba2k-FRWQwdr"
      },
      "execution_count": 14,
      "outputs": []
    },
    {
      "cell_type": "code",
      "source": [
        "x_tr[50:56:2]\n"
      ],
      "metadata": {
        "colab": {
          "base_uri": "https://localhost:8080/"
        },
        "id": "2dg82D40EU07",
        "outputId": "b3551b87-3be0-4fba-cd64-7279206a90d2"
      },
      "execution_count": 15,
      "outputs": [
        {
          "output_type": "execute_result",
          "data": {
            "text/plain": [
              "array([[0, 0, 0, 0, 0, 0, 0, 1, 0, 0, 0, 0, 0, 0, 0, 0, 0, 0, 0, 0, 0, 0,\n",
              "        0, 0, 0, 0, 0, 0, 0, 0, 0, 0, 0, 0, 0, 0, 0, 0, 0, 0, 0, 0, 0, 0],\n",
              "       [0, 0, 0, 0, 0, 0, 0, 1, 0, 0, 0, 0, 0, 0, 0, 0, 0, 0, 0, 0, 0, 0,\n",
              "        0, 0, 0, 0, 0, 0, 0, 0, 0, 0, 0, 0, 0, 0, 0, 0, 0, 0, 0, 0, 0, 0],\n",
              "       [0, 0, 0, 0, 0, 0, 0, 1, 0, 0, 0, 0, 0, 0, 0, 0, 0, 0, 0, 0, 0, 0,\n",
              "        0, 0, 0, 0, 0, 0, 0, 0, 0, 0, 0, 0, 0, 0, 0, 0, 0, 0, 0, 0, 0, 0]])"
            ]
          },
          "metadata": {},
          "execution_count": 15
        }
      ]
    },
    {
      "cell_type": "markdown",
      "source": [
        "Колонка ПсихОсвидетельствование"
      ],
      "metadata": {
        "id": "9lfuqrbxxwyo"
      }
    },
    {
      "cell_type": "code",
      "source": [
        "# Уникальные значения колонки\n",
        "display(df3['ПсихОсвидетельствование'].unique())"
      ],
      "metadata": {
        "colab": {
          "base_uri": "https://localhost:8080/",
          "height": 34
        },
        "id": "6sOKQ38xQ2In",
        "outputId": "dc928b60-d5bf-475f-9557-1cc9c527278f"
      },
      "execution_count": 16,
      "outputs": [
        {
          "output_type": "display_data",
          "data": {
            "text/plain": [
              "array([False,  True])"
            ]
          },
          "metadata": {}
        }
      ]
    },
    {
      "cell_type": "code",
      "execution_count": 17,
      "metadata": {
        "colab": {
          "base_uri": "https://localhost:8080/"
        },
        "outputId": "748c5de6-0d27-424f-e2c8-9c0dbc545c8b",
        "id": "MbaTyyEEG4XS"
      },
      "outputs": [
        {
          "output_type": "execute_result",
          "data": {
            "text/plain": [
              "[0]"
            ]
          },
          "metadata": {},
          "execution_count": 17
        }
      ],
      "source": [
        "def PsExam_class(arg):\n",
        "    # Создаем список с одним элементом 0\n",
        "    PsExam = [0]\n",
        "    # Если True, то значение 1 (по умолчанию 0 для False)\n",
        "    if 'True' in arg:\n",
        "        PsExam = 1\n",
        "    # Возвращаем список\n",
        "    return PsExam\n",
        "# Проверяем функцию с аргументом 'False'\n",
        "PsExam = PsExam_class('False')\n",
        "# Выводим значение\n",
        "PsExam"
      ]
    },
    {
      "cell_type": "markdown",
      "source": [
        "Колонка'ЗаключениеМК'"
      ],
      "metadata": {
        "id": "wQdbPFLlyrhm"
      }
    },
    {
      "cell_type": "code",
      "source": [
        "# Уникальные значения колонки\n",
        "display(df3['ЗаключениеМК'].unique())"
      ],
      "metadata": {
        "colab": {
          "base_uri": "https://localhost:8080/",
          "height": 104
        },
        "id": "FXCPFO9F8is7",
        "outputId": "f4f6bb61-1bd4-4e5b-b4bc-d70968d7e921"
      },
      "execution_count": 18,
      "outputs": [
        {
          "output_type": "display_data",
          "data": {
            "text/plain": [
              "array(['Годен', 'ГоденСКоррекциейЗрения',\n",
              "       'НуждаетсяВДообследованииИЛечении', 'Нет данных',\n",
              "       'ГоденБезРаботНаВысотах', 'ГоденСКоррекциейСлуха', ' п. 11.3',\n",
              "       'ОграниченноГоден', 'машинист бульдозера', 'Газоспасатель',\n",
              "       ' Газоспасатель', 'Негоден'], dtype=object)"
            ]
          },
          "metadata": {}
        }
      ]
    },
    {
      "cell_type": "code",
      "source": [
        "index_list = df3[(df3['ЗаключениеМК'] == 'машинист бульдозера') |\n",
        "                 (df3['ЗаключениеМК'] == ' Газоспасатель') |\n",
        "                  (df3['ЗаключениеМК'] == 'Газоспасатель') |\n",
        "                   (df3['ЗаключениеМК'] == ' п. 11.3') |\n",
        "                    (df3['ЗаключениеМК'] == 'Нет данных')].index.tolist()\n"
      ],
      "metadata": {
        "id": "pB5nzi5Etnmj"
      },
      "execution_count": 62,
      "outputs": []
    },
    {
      "cell_type": "code",
      "source": [
        "df3.drop(index_list, inplace=True)"
      ],
      "metadata": {
        "id": "pCGg5uu5efq-"
      },
      "execution_count": 63,
      "outputs": []
    },
    {
      "cell_type": "code",
      "source": [
        "class_list = ['Годен','НуждаетсяВДообследовании']\n",
        "def health_sc(df3, column_name, class_list):\n",
        "    for class_name in class_list:\n",
        "        count = len(df3[df3[column_name] == class_name])\n",
        "        print(f'Количество записей для класса {class_name}: {count}')\n",
        "# количество записей по классам\n",
        "health_sc(df3, 'ЗаключениеМК', class_list)\n",
        "\n",
        "# Сокращение классов до 3\n",
        "df3['ЗаключениеМК'].replace('ГоденСКоррекциейЗрения', 'НуждаетсяВДообследовании', inplace=True)\n",
        "df3['ЗаключениеМК'].replace('ГоденСКоррекциейСлуха', 'НуждаетсяВДообследовании', inplace=True)\n",
        "df3['ЗаключениеМК'].replace('ГоденБезРаботНаВысотах', 'НуждаетсяВДообследовании', inplace=True)\n",
        "df3['ЗаключениеМК'].replace('НуждаетсяВДообследованииИЛечении', 'НуждаетсяВДообследовании' , inplace=True)\n",
        "df3['ЗаключениеМК'].replace('ОграниченноГоден', 'НуждаетсяВДообследовании', inplace=True)\n",
        "df3['ЗаключениеМК'].replace('Нет данных', 'НуждаетсяВДообследовании', inplace=True)\n",
        "df3['ЗаключениеМК'].replace('Негоден', 'НуждаетсяВДообследовании', inplace=True)\n",
        "\n",
        "# Удаление строк без заключения\n",
        "mask = df3['ЗаключениеМК'].str.contains('|'.join(class_list)) > 0\n",
        "condition = df3[mask]\n",
        "\n",
        "# Функция для определения статуса здоровья\n",
        "def health_stat(condition):\n",
        "    out = [0, 0]\n",
        "    if ('Годен' in condition):\n",
        "        out[0]= 1\n",
        "    if ('НуждаетсяВДообследовании' in condition):\n",
        "        out[1]= 1\n",
        "\n",
        "    # Присваиваем список 'out' переменной 'condition_ohe'\n",
        "    condition_ohe = out\n",
        "    return condition_ohe\n",
        "# Пример вызова функции\n",
        "health_stat('НуждаетсяВДообследовании')"
      ],
      "metadata": {
        "colab": {
          "base_uri": "https://localhost:8080/"
        },
        "id": "k3wH6kDSgZta",
        "outputId": "2682ecb3-be06-4a39-9cad-619c1ba78e79"
      },
      "execution_count": 64,
      "outputs": [
        {
          "output_type": "stream",
          "name": "stdout",
          "text": [
            "Количество записей для класса Годен: 16614\n",
            "Количество записей для класса НуждаетсяВДообследовании: 1051\n"
          ]
        },
        {
          "output_type": "execute_result",
          "data": {
            "text/plain": [
              "[0, 1]"
            ]
          },
          "metadata": {},
          "execution_count": 64
        }
      ]
    },
    {
      "cell_type": "markdown",
      "source": [
        "ЗаключениеМКПредставление"
      ],
      "metadata": {
        "id": "HBcDXBvmIv4a"
      }
    },
    {
      "cell_type": "code",
      "source": [
        "# Уникальные значения колонки\n",
        "display(df3['ЗаключениеМКПредставление'].unique())"
      ],
      "metadata": {
        "id": "aiKTWA5XWy95",
        "colab": {
          "base_uri": "https://localhost:8080/",
          "height": 121
        },
        "outputId": "bd6a6d7a-c595-4ede-f26b-d3d771a8585a"
      },
      "execution_count": 22,
      "outputs": [
        {
          "output_type": "display_data",
          "data": {
            "text/plain": [
              "array(['Годен к работе в указанных условиях',\n",
              "       'Годен к работе в указанных условиях (с коррекцией зрения)',\n",
              "       'Нуждается в дообследовании и лечении',\n",
              "       'Годен к работе в указанных условиях (без работ на высотах)',\n",
              "       'Годен к работе в указанных условиях (с коррекцией слуха)',\n",
              "       'Ограниченно годен', 'Не годен'], dtype=object)"
            ]
          },
          "metadata": {}
        }
      ]
    },
    {
      "cell_type": "code",
      "source": [
        "index_list_2 = df3[(df3['ЗаключениеМКПредставление'] == 'тракторист') |\n",
        "                   (df3['ЗаключениеМКПредставление'] == ' п. 11.4')].index.tolist()"
      ],
      "metadata": {
        "id": "hshVSuF-W4xA"
      },
      "execution_count": 23,
      "outputs": []
    },
    {
      "cell_type": "code",
      "source": [
        "df3.drop(index_list_2, inplace=True)"
      ],
      "metadata": {
        "id": "0owhf7_1etQG"
      },
      "execution_count": 24,
      "outputs": []
    },
    {
      "cell_type": "code",
      "source": [
        "class_list = ['Годен',\n",
        "              'с коррекцией зрения',\n",
        "              'без работ на высотах',\n",
        "              'с коррекцией слуха',\n",
        "              'Ограниченно годен','Нуждается в дообследовании и лечении']\n",
        "def health_sp(df3, column_name, class_list):\n",
        "    for class_name in class_list:\n",
        "        count = len(df3[df3[column_name] == class_name])\n",
        "        print(f'Количество записей для класса {class_name}: {count}')\n",
        "# количество записей по классам\n",
        "health_sp(df3, 'ЗаключениеМКПредставление', class_list)\n",
        "\n",
        "# Сокращение классов до 3\n",
        "df3['ЗаключениеМКПредставление'].replace('Годен к работе в указанных условиях','Годен', inplace=True)\n",
        "df3['ЗаключениеМКПредставление'].replace('Годен к работе в указанных условиях (с коррекцией зрения)', 'с коррекцией зрения', inplace=True)\n",
        "df3['ЗаключениеМКПредставление'].replace('Годен к работе в указанных условиях (без работ на высотах)', 'без работ на высотах', inplace=True)\n",
        "df3['ЗаключениеМКПредставление'].replace('Годен к работе в указанных условиях (с коррекцией слуха)', 'с коррекцией слуха', inplace=True)\n",
        "\n",
        "\n",
        "# Удаление строк без заключения\n",
        "mask = df3['ЗаключениеМКПредставление'].str.contains('|'.join(class_list)) > 0\n",
        "condit = df3[mask]\n",
        "\n",
        "# Функция для определения статуса здоровья\n",
        "def health_stp(condit):\n",
        "    out = [0, 0, 0, 0, 0, 0]\n",
        "    if ('Годен' in condit):\n",
        "        out[0]= 1\n",
        "    if ('с коррекцией зрения' in condit):\n",
        "        out[1]= 1\n",
        "    if ('без работ на высотах' in condit):\n",
        "        out[2]= 1\n",
        "    if ('с коррекцией слуха' in condit):\n",
        "        out[3]= 1\n",
        "    if ('Ограниченно годен' in condit):\n",
        "        out[4]= 1\n",
        "    if ('Нуждается в дообследовании и лечении' in condit):\n",
        "        out[5]= 1\n",
        "\n",
        "    # Присваиваем список 'out' переменной 'condition_ohe'\n",
        "    condit_ohe = out\n",
        "    return condit_ohe\n",
        "# Пример вызова функции\n",
        "health_stp('без работ на высотах')"
      ],
      "metadata": {
        "colab": {
          "base_uri": "https://localhost:8080/"
        },
        "outputId": "e249db73-f18b-4400-d1af-cc6dd2e9ef40",
        "id": "ksOBq_4PFCaj"
      },
      "execution_count": 25,
      "outputs": [
        {
          "output_type": "stream",
          "name": "stdout",
          "text": [
            "Количество записей для класса Годен: 0\n",
            "Количество записей для класса с коррекцией зрения: 0\n",
            "Количество записей для класса без работ на высотах: 0\n",
            "Количество записей для класса с коррекцией слуха: 0\n",
            "Количество записей для класса Ограниченно годен: 4\n",
            "Количество записей для класса Нуждается в дообследовании и лечении: 38\n"
          ]
        },
        {
          "output_type": "execute_result",
          "data": {
            "text/plain": [
              "[0, 0, 1, 0, 0, 0]"
            ]
          },
          "metadata": {},
          "execution_count": 25
        }
      ]
    },
    {
      "cell_type": "markdown",
      "source": [
        "Заключение"
      ],
      "metadata": {
        "id": "7YVESZNF_FRh"
      }
    },
    {
      "cell_type": "code",
      "source": [
        "# Уникальные значения колонки\n",
        "display(df3['Заключение'].unique())"
      ],
      "metadata": {
        "id": "os9wodDPYRCE",
        "colab": {
          "base_uri": "https://localhost:8080/",
          "height": 798
        },
        "outputId": "bc4c1815-1e5a-4b24-877b-4b9596e4d527"
      },
      "execution_count": 26,
      "outputs": [
        {
          "output_type": "display_data",
          "data": {
            "text/plain": [
              "array(['Годен к работе в указанных условиях',\n",
              "       'Годен к работе в указанных условиях (с коррекцией зрения)',\n",
              "       'Годен к работе в указанных условиях (с коррекцией зрения) кроме п. 17',\n",
              "       'Годен к работе в указанных условиях (с коррекцией зрения) кроме п.17.',\n",
              "       'Нуждается в дообследовании и лечении',\n",
              "       'Годен к работе в указанных условиях с коррекцией зрения (кроме п.17)',\n",
              "       'Годен к работе в указанных условиях (с коррекцией зрения) кроме п.6.1',\n",
              "       'Годен к работе в указанных условиях (без работ на высотах)',\n",
              "       'Годен к работе в указанных условиях (с коррекцией зрения) кроме п.6.1,п.8.',\n",
              "       'Годен к работе в указанных условиях (кроме п.17)',\n",
              "       'Годен к работе в указанных условиях с коррекцией зрения (кроме п.6.1, п.14 и п.17)',\n",
              "       'Годен к работе в указанных условиях (кроме п.14 и п.17)',\n",
              "       'Годен к работе в указанных условиях (кроме п.4.4)',\n",
              "       'Годен к работе в указанных условиях (с коррекцией зрения) кроме п.17',\n",
              "       'Годен к работе в указанных условиях (кроме п.6.2, п.18.1)',\n",
              "       'Годен к работе в указанных условиях с коррекцией зрения (без работ на высотах)',\n",
              "       'Годен к работе в указанных условиях с коррекцией зрения (кроме п.6.1)',\n",
              "       'Годен к работе в указанных условиях (с коррекцией зрения) кроме п.6.1.',\n",
              "       'Годен к работе в указанных условиях (с коррекцией зрения) кроме п.6.1э',\n",
              "       'Годен к работе в указанных условиях (с коррекцией слуха)',\n",
              "       'Годен к работе в указанных условиях (с коррекцией зрения)  ',\n",
              "       'Годен к работе в указанных условиях (с коррекцией зрения) кроме п.6.1., 6.2.',\n",
              "       'Годен к работе в указанных условиях (с коррекцией зрения) кроме п. 6.2.',\n",
              "       'Годен к работе в указанных условиях (с коррекцией зрения) кроме п.6.2.',\n",
              "       'Годен к работе в указанных условиях (с коррекцией зрения) ',\n",
              "       'Годен к работе в указанных условиях (с коррекцией зрения) кроме п. 6.1.',\n",
              "       'Годен к работе в указанных условиях (с коррекцией зрения) кроме п.6.1, 6.2.',\n",
              "       'Нет данных',\n",
              "       'Годен к работе в указанных условиях (с коррекцией зрения), кроме п.17',\n",
              "       'Годен к работе в указанных условиях (с коррекцией зрения), кроме п. 17',\n",
              "       'Годен к работе в указанных условиях. Противопаказанаработа с подьемом и перемещением тяжестей - более  5 кг, длительной ходьбой, более 500 метров, работа на высоте,в холодных помещениях, эмоциональные нагрузки,полный рабочий день.',\n",
              "       'Годен к работе в указанных условиях (с коррекцией зрения) кроме п.6.1, п 6.2.',\n",
              "       'Годен к работе в указанных условиях (с коррекцией зрения), кроме п.6.1',\n",
              "       'Годен к работе в указанных условиях (с коррекцией зрения) кроме п 6.2',\n",
              "       'Годен к работе в указанных условиях (с коррекцией зрения), кроме п. 6.1',\n",
              "       'Годен к работе в указанных условиях (без работ на высотах) Противопоказана работа связанная с  высотой ,подьем и перемещение тяжестей ,длительной ходьбой.',\n",
              "       'Ограниченно годен',\n",
              "       'Годен к работе в указанных условиях, кроме п 6.2',\n",
              "       'Годен к работе в указанных условиях (с коррекцией зрения), кроме п. 6 и п.14',\n",
              "       'Годен к работе в указанных условиях (с коррекцией зрения)кроме п.6.1.',\n",
              "       'Годен к работе в указанных условиях, кроме п.6.1,15', 'Не годен',\n",
              "       'Годен к работе в указанных условиях (без работ на высотах) кроме п.6.1',\n",
              "       'Годен к работе в указанных условиях (без работ на высотах) кроме п.6.1.'],\n",
              "      dtype=object)"
            ]
          },
          "metadata": {}
        }
      ]
    },
    {
      "cell_type": "code",
      "source": [
        "df3['Заключение'].replace('Годен к работе в указанных условиях','Годен', inplace=True)\n",
        "df3['Заключение'].replace('Годен к работе в указанных условиях (с коррекцией зрения)', 'с коррекцией зрения', inplace=True)\n",
        "df3['Заключение'].replace('Годен к работе в указанных условиях (без работ на высотах)', 'без работ на высотах', inplace=True)\n",
        "df3['Заключение'].replace('Годен к работе в указанных условиях (с коррекцией слуха)', 'с коррекцией слуха', inplace=True)\n",
        "df3['Заключение'].replace('Годен к работе в указанных условиях с коррекцией зрения', 'с коррекцией зрения', inplace=True)\n",
        "df3['Заключение'].replace('Годен к работе в указанных условиях, с коррекцией зрения', 'с коррекцией зрения', inplace=True)\n",
        "df3['Заключение'].replace('Годен к работе в указанных условиях, кроме   ', 'кроме', inplace=True)\n",
        "df3['Заключение'].replace('Годен к работе в указанных условиях. Противопаказанаработа с подьемом и перемещением тяжестей - более 5 кг, длительной ходьбой, более 500 метров, работа на высоте,в холодных помещениях, эмоциональные нагрузки,полный рабочий день.','Ограниченно годен', inplace=True)\n",
        "df3['Заключение'].replace('Годен к работе в указанных условиях (без работ на высотах) Противопоказана работа связанная с высотой ,подьем и перемещение тяжестей ,длительной ходьбой.', 'без работ на высотах', inplace=True)"
      ],
      "metadata": {
        "id": "NZeK02-pd8cr"
      },
      "execution_count": 27,
      "outputs": []
    },
    {
      "cell_type": "code",
      "source": [
        "\n",
        "# создадим новый DataFrame, где будут только строки, в которых больше 7 слов\n",
        "df_filtered = df3[df3['Заключение'].str.split().apply(len) > 7]\n",
        "\n",
        "# для строк, где больше 6 слов, возьмем только последние слова\n",
        "df_filtered['Заключение'] = df_filtered['Заключение'].apply(lambda x: ' '.join(x.split(' ')[6:]))\n",
        "\n",
        "# объединим отфильтрованные строки с исходным DataFrame\n",
        "result_df = pd.concat([df_filtered, df3[df3['Заключение'].str.split().apply(len) <= 7]])\n",
        "\n",
        "# выведем результат\n",
        "result_df['Заключение'][3::]\n"
      ],
      "metadata": {
        "id": "cFQl5VnwtrIh",
        "colab": {
          "base_uri": "https://localhost:8080/"
        },
        "outputId": "0ef1411b-3541-417e-80a6-3f4f8e88fb50"
      },
      "execution_count": 28,
      "outputs": [
        {
          "output_type": "stream",
          "name": "stderr",
          "text": [
            "<ipython-input-28-dbea8e824946>:5: SettingWithCopyWarning: \n",
            "A value is trying to be set on a copy of a slice from a DataFrame.\n",
            "Try using .loc[row_indexer,col_indexer] = value instead\n",
            "\n",
            "See the caveats in the documentation: https://pandas.pydata.org/pandas-docs/stable/user_guide/indexing.html#returning-a-view-versus-a-copy\n",
            "  df_filtered['Заключение'] = df_filtered['Заключение'].apply(lambda x: ' '.join(x.split(' ')[6:]))\n"
          ]
        },
        {
          "output_type": "execute_result",
          "data": {
            "text/plain": [
              "931                   (с коррекцией зрения) кроме п.6.1\n",
              "933                   (с коррекцией зрения) кроме п.6.1\n",
              "1436             (с коррекцией зрения) кроме п.6.1,п.8.\n",
              "1674                                       (кроме п.17)\n",
              "2056     с коррекцией зрения (кроме п.6.1, п.14 и п.17)\n",
              "                              ...                      \n",
              "32512                                             Годен\n",
              "32513                                             Годен\n",
              "32514                                             Годен\n",
              "32515                                             Годен\n",
              "32516                                             Годен\n",
              "Name: Заключение, Length: 17662, dtype: object"
            ]
          },
          "metadata": {},
          "execution_count": 28
        }
      ]
    },
    {
      "cell_type": "code",
      "source": [
        "# выборка строк, содержащих скобки в колонке 'Заключение' и удаление скобок\n",
        "result_df = result_df[result_df['Заключение'].str.contains('\\(')]\n",
        "result_df['Заключение'] = result_df['Заключение'].str.replace('\\(|\\)', '')"
      ],
      "metadata": {
        "id": "KBixkigB0TAY",
        "colab": {
          "base_uri": "https://localhost:8080/"
        },
        "outputId": "58e77a8f-bbc0-4781-c722-a66fc2b13bb5"
      },
      "execution_count": 29,
      "outputs": [
        {
          "output_type": "stream",
          "name": "stderr",
          "text": [
            "<ipython-input-29-79c358ed0eb6>:3: FutureWarning: The default value of regex will change from True to False in a future version.\n",
            "  result_df['Заключение'] = result_df['Заключение'].str.replace('\\(|\\)', '')\n"
          ]
        }
      ]
    },
    {
      "cell_type": "code",
      "source": [
        "# Уникальные значения колонки\n",
        "display(result_df['Заключение'].unique())"
      ],
      "metadata": {
        "id": "NlKuJtS-rUu6",
        "colab": {
          "base_uri": "https://localhost:8080/",
          "height": 468
        },
        "outputId": "bd536481-b948-4423-dd96-603e9eb612fc"
      },
      "execution_count": 30,
      "outputs": [
        {
          "output_type": "display_data",
          "data": {
            "text/plain": [
              "array(['с коррекцией зрения кроме п. 17',\n",
              "       'с коррекцией зрения кроме п.17.',\n",
              "       'с коррекцией зрения кроме п.17',\n",
              "       'с коррекцией зрения кроме п.6.1',\n",
              "       'с коррекцией зрения кроме п.6.1,п.8.', 'кроме п.17',\n",
              "       'с коррекцией зрения кроме п.6.1, п.14 и п.17',\n",
              "       'кроме п.14 и п.17', 'кроме п.4.4', 'кроме п.6.2, п.18.1',\n",
              "       'с коррекцией зрения без работ на высотах',\n",
              "       'с коррекцией зрения кроме п.6.1.',\n",
              "       'с коррекцией зрения кроме п.6.1э', 'с коррекцией зрения  ',\n",
              "       'с коррекцией зрения кроме п.6.1., 6.2.',\n",
              "       'с коррекцией зрения кроме п. 6.2.',\n",
              "       'с коррекцией зрения кроме п.6.2.', 'с коррекцией зрения ',\n",
              "       'с коррекцией зрения кроме п. 6.1.',\n",
              "       'с коррекцией зрения кроме п.6.1, 6.2.',\n",
              "       'с коррекцией зрения, кроме п.17',\n",
              "       'с коррекцией зрения, кроме п. 17',\n",
              "       'с коррекцией зрения кроме п.6.1, п 6.2.',\n",
              "       'с коррекцией зрения, кроме п.6.1',\n",
              "       'с коррекцией зрения кроме п 6.2',\n",
              "       'с коррекцией зрения, кроме п. 6.1',\n",
              "       'без работ на высотах Противопоказана работа связанная с  высотой ,подьем и перемещение тяжестей ,длительной ходьбой.',\n",
              "       'с коррекцией зрения, кроме п. 6 и п.14',\n",
              "       'с коррекцией зрениякроме п.6.1.',\n",
              "       'без работ на высотах кроме п.6.1',\n",
              "       'без работ на высотах кроме п.6.1.'], dtype=object)"
            ]
          },
          "metadata": {}
        }
      ]
    },
    {
      "cell_type": "code",
      "source": [
        "result_df['Заключение']"
      ],
      "metadata": {
        "colab": {
          "base_uri": "https://localhost:8080/"
        },
        "id": "Wdu-_9bn06LS",
        "outputId": "6d3bb80c-005f-408b-d0a1-d7e79a669d1b"
      },
      "execution_count": 31,
      "outputs": [
        {
          "output_type": "execute_result",
          "data": {
            "text/plain": [
              "93         с коррекцией зрения кроме п. 17\n",
              "115        с коррекцией зрения кроме п.17.\n",
              "918         с коррекцией зрения кроме п.17\n",
              "931        с коррекцией зрения кроме п.6.1\n",
              "933        с коррекцией зрения кроме п.6.1\n",
              "                       ...                \n",
              "30626    без работ на высотах кроме п.6.1.\n",
              "30824     с коррекцией зрения кроме п.6.2.\n",
              "31756     с коррекцией зрения кроме п.6.1.\n",
              "31799     с коррекцией зрения кроме п.6.1.\n",
              "31841     с коррекцией зрения кроме п.6.1.\n",
              "Name: Заключение, Length: 104, dtype: object"
            ]
          },
          "metadata": {},
          "execution_count": 31
        }
      ]
    },
    {
      "cell_type": "markdown",
      "source": [],
      "metadata": {
        "id": "6xBlVkum8WKz"
      }
    },
    {
      "cell_type": "markdown",
      "source": [
        "Гинекология1_МКБ101"
      ],
      "metadata": {
        "id": "EV9fW4Bs_V16"
      }
    },
    {
      "cell_type": "code",
      "source": [
        "# Уникальные значения колонки\n",
        "display(df3['Гинекология1_МКБ101'].unique())"
      ],
      "metadata": {
        "id": "mafSxsigdFYa",
        "colab": {
          "base_uri": "https://localhost:8080/",
          "height": 104
        },
        "outputId": "580f2687-1495-48cd-962a-f9f57cdb1adb"
      },
      "execution_count": 32,
      "outputs": [
        {
          "output_type": "display_data",
          "data": {
            "text/plain": [
              "array(['Z00.0', 'Нет данных', 'N88.0', 'D25', 'Z32.1', 'D24', 'N60.2',\n",
              "       'N70.9', 'H52.1', 'N89.4', 'N84.1', 'N80.0', 'I11.9', 'M15.9',\n",
              "       'D25.9', 'N95.2', 'N95.1', 'N90.4', 'N86', 'D25.0', 'C50.4',\n",
              "       'N83.2', 'N90.9', 'N76.1', 'N81.2', 'O34.0', 'N30.2', 'N73.9'],\n",
              "      dtype=object)"
            ]
          },
          "metadata": {}
        }
      ]
    },
    {
      "cell_type": "markdown",
      "source": [
        "Формирование выборок"
      ],
      "metadata": {
        "id": "ndq3lN5zxoYW"
      }
    },
    {
      "cell_type": "markdown",
      "source": [
        "# Формирование выборок"
      ],
      "metadata": {
        "id": "rGN2JQp1yPSm"
      }
    },
    {
      "cell_type": "code",
      "source": [
        "df3.head(3)"
      ],
      "metadata": {
        "colab": {
          "base_uri": "https://localhost:8080/",
          "height": 306
        },
        "id": "UX7cXUhkwqBx",
        "outputId": "89b2cf1a-548e-4ea3-ff51-acf120bc50da"
      },
      "execution_count": 33,
      "outputs": [
        {
          "output_type": "execute_result",
          "data": {
            "text/plain": [
              "  КлиентДатаРождения КлиентПол                     Профессия ВредныеФакторы  \\\n",
              "0               1989   Женский               Продавец-кассир   [Нет данных]   \n",
              "2               2002   Женский  Младший продавец-консультант           [23]   \n",
              "3               1991   Женский             Менеджер магазина           [23]   \n",
              "\n",
              "   ПсихОсвидетельствование ЗаключениеМК ЗаключениеМКПредставление Заключение  \\\n",
              "0                    False        Годен                     Годен      Годен   \n",
              "2                    False        Годен                     Годен      Годен   \n",
              "3                    False        Годен                     Годен      Годен   \n",
              "\n",
              "  Гинекология1_МКБ101 Гинекология1_МКБ102  ... ХирургНеИсп2_МКБ103  \\\n",
              "0               Z00.0          Нет данных  ...          Нет данных   \n",
              "2               Z00.0          Нет данных  ...          Нет данных   \n",
              "3               Z00.0          Нет данных  ...          Нет данных   \n",
              "\n",
              "  ХирургНеИсп3_МКБ101 ХирургНеИсп3_МКБ102 ХирургНеИсп3_МКБ103  \\\n",
              "0          Нет данных          Нет данных          Нет данных   \n",
              "2          Нет данных          Нет данных          Нет данных   \n",
              "3          Нет данных          Нет данных          Нет данных   \n",
              "\n",
              "  ЭКГНеИсп1_МКБ101 ЭКГНеИсп1_МКБ102 ЭКГНеИсп2_МКБ101 ЭКГНеИсп2_МКБ102  \\\n",
              "0       Нет данных       Нет данных       Нет данных       Нет данных   \n",
              "2       Нет данных       Нет данных       Нет данных       Нет данных   \n",
              "3       Нет данных       Нет данных       Нет данных       Нет данных   \n",
              "\n",
              "  Эндоскопия1_МКБ101 Эндоскопия1_МКБ102  \n",
              "0         Нет данных         Нет данных  \n",
              "2         Нет данных         Нет данных  \n",
              "3         Нет данных         Нет данных  \n",
              "\n",
              "[3 rows x 194 columns]"
            ],
            "text/html": [
              "\n",
              "\n",
              "  <div id=\"df-7c9af1ad-a475-4342-8e26-84fb4ab3a78c\">\n",
              "    <div class=\"colab-df-container\">\n",
              "      <div>\n",
              "<style scoped>\n",
              "    .dataframe tbody tr th:only-of-type {\n",
              "        vertical-align: middle;\n",
              "    }\n",
              "\n",
              "    .dataframe tbody tr th {\n",
              "        vertical-align: top;\n",
              "    }\n",
              "\n",
              "    .dataframe thead th {\n",
              "        text-align: right;\n",
              "    }\n",
              "</style>\n",
              "<table border=\"1\" class=\"dataframe\">\n",
              "  <thead>\n",
              "    <tr style=\"text-align: right;\">\n",
              "      <th></th>\n",
              "      <th>КлиентДатаРождения</th>\n",
              "      <th>КлиентПол</th>\n",
              "      <th>Профессия</th>\n",
              "      <th>ВредныеФакторы</th>\n",
              "      <th>ПсихОсвидетельствование</th>\n",
              "      <th>ЗаключениеМК</th>\n",
              "      <th>ЗаключениеМКПредставление</th>\n",
              "      <th>Заключение</th>\n",
              "      <th>Гинекология1_МКБ101</th>\n",
              "      <th>Гинекология1_МКБ102</th>\n",
              "      <th>...</th>\n",
              "      <th>ХирургНеИсп2_МКБ103</th>\n",
              "      <th>ХирургНеИсп3_МКБ101</th>\n",
              "      <th>ХирургНеИсп3_МКБ102</th>\n",
              "      <th>ХирургНеИсп3_МКБ103</th>\n",
              "      <th>ЭКГНеИсп1_МКБ101</th>\n",
              "      <th>ЭКГНеИсп1_МКБ102</th>\n",
              "      <th>ЭКГНеИсп2_МКБ101</th>\n",
              "      <th>ЭКГНеИсп2_МКБ102</th>\n",
              "      <th>Эндоскопия1_МКБ101</th>\n",
              "      <th>Эндоскопия1_МКБ102</th>\n",
              "    </tr>\n",
              "  </thead>\n",
              "  <tbody>\n",
              "    <tr>\n",
              "      <th>0</th>\n",
              "      <td>1989</td>\n",
              "      <td>Женский</td>\n",
              "      <td>Продавец-кассир</td>\n",
              "      <td>[Нет данных]</td>\n",
              "      <td>False</td>\n",
              "      <td>Годен</td>\n",
              "      <td>Годен</td>\n",
              "      <td>Годен</td>\n",
              "      <td>Z00.0</td>\n",
              "      <td>Нет данных</td>\n",
              "      <td>...</td>\n",
              "      <td>Нет данных</td>\n",
              "      <td>Нет данных</td>\n",
              "      <td>Нет данных</td>\n",
              "      <td>Нет данных</td>\n",
              "      <td>Нет данных</td>\n",
              "      <td>Нет данных</td>\n",
              "      <td>Нет данных</td>\n",
              "      <td>Нет данных</td>\n",
              "      <td>Нет данных</td>\n",
              "      <td>Нет данных</td>\n",
              "    </tr>\n",
              "    <tr>\n",
              "      <th>2</th>\n",
              "      <td>2002</td>\n",
              "      <td>Женский</td>\n",
              "      <td>Младший продавец-консультант</td>\n",
              "      <td>[23]</td>\n",
              "      <td>False</td>\n",
              "      <td>Годен</td>\n",
              "      <td>Годен</td>\n",
              "      <td>Годен</td>\n",
              "      <td>Z00.0</td>\n",
              "      <td>Нет данных</td>\n",
              "      <td>...</td>\n",
              "      <td>Нет данных</td>\n",
              "      <td>Нет данных</td>\n",
              "      <td>Нет данных</td>\n",
              "      <td>Нет данных</td>\n",
              "      <td>Нет данных</td>\n",
              "      <td>Нет данных</td>\n",
              "      <td>Нет данных</td>\n",
              "      <td>Нет данных</td>\n",
              "      <td>Нет данных</td>\n",
              "      <td>Нет данных</td>\n",
              "    </tr>\n",
              "    <tr>\n",
              "      <th>3</th>\n",
              "      <td>1991</td>\n",
              "      <td>Женский</td>\n",
              "      <td>Менеджер магазина</td>\n",
              "      <td>[23]</td>\n",
              "      <td>False</td>\n",
              "      <td>Годен</td>\n",
              "      <td>Годен</td>\n",
              "      <td>Годен</td>\n",
              "      <td>Z00.0</td>\n",
              "      <td>Нет данных</td>\n",
              "      <td>...</td>\n",
              "      <td>Нет данных</td>\n",
              "      <td>Нет данных</td>\n",
              "      <td>Нет данных</td>\n",
              "      <td>Нет данных</td>\n",
              "      <td>Нет данных</td>\n",
              "      <td>Нет данных</td>\n",
              "      <td>Нет данных</td>\n",
              "      <td>Нет данных</td>\n",
              "      <td>Нет данных</td>\n",
              "      <td>Нет данных</td>\n",
              "    </tr>\n",
              "  </tbody>\n",
              "</table>\n",
              "<p>3 rows × 194 columns</p>\n",
              "</div>\n",
              "      <button class=\"colab-df-convert\" onclick=\"convertToInteractive('df-7c9af1ad-a475-4342-8e26-84fb4ab3a78c')\"\n",
              "              title=\"Convert this dataframe to an interactive table.\"\n",
              "              style=\"display:none;\">\n",
              "\n",
              "  <svg xmlns=\"http://www.w3.org/2000/svg\" height=\"24px\"viewBox=\"0 0 24 24\"\n",
              "       width=\"24px\">\n",
              "    <path d=\"M0 0h24v24H0V0z\" fill=\"none\"/>\n",
              "    <path d=\"M18.56 5.44l.94 2.06.94-2.06 2.06-.94-2.06-.94-.94-2.06-.94 2.06-2.06.94zm-11 1L8.5 8.5l.94-2.06 2.06-.94-2.06-.94L8.5 2.5l-.94 2.06-2.06.94zm10 10l.94 2.06.94-2.06 2.06-.94-2.06-.94-.94-2.06-.94 2.06-2.06.94z\"/><path d=\"M17.41 7.96l-1.37-1.37c-.4-.4-.92-.59-1.43-.59-.52 0-1.04.2-1.43.59L10.3 9.45l-7.72 7.72c-.78.78-.78 2.05 0 2.83L4 21.41c.39.39.9.59 1.41.59.51 0 1.02-.2 1.41-.59l7.78-7.78 2.81-2.81c.8-.78.8-2.07 0-2.86zM5.41 20L4 18.59l7.72-7.72 1.47 1.35L5.41 20z\"/>\n",
              "  </svg>\n",
              "      </button>\n",
              "\n",
              "\n",
              "\n",
              "    <div id=\"df-b63e0f70-6446-4ae2-949d-8410ce094190\">\n",
              "      <button class=\"colab-df-quickchart\" onclick=\"quickchart('df-b63e0f70-6446-4ae2-949d-8410ce094190')\"\n",
              "              title=\"Suggest charts.\"\n",
              "              style=\"display:none;\">\n",
              "\n",
              "<svg xmlns=\"http://www.w3.org/2000/svg\" height=\"24px\"viewBox=\"0 0 24 24\"\n",
              "     width=\"24px\">\n",
              "    <g>\n",
              "        <path d=\"M19 3H5c-1.1 0-2 .9-2 2v14c0 1.1.9 2 2 2h14c1.1 0 2-.9 2-2V5c0-1.1-.9-2-2-2zM9 17H7v-7h2v7zm4 0h-2V7h2v10zm4 0h-2v-4h2v4z\"/>\n",
              "    </g>\n",
              "</svg>\n",
              "      </button>\n",
              "    </div>\n",
              "\n",
              "<style>\n",
              "  .colab-df-quickchart {\n",
              "    background-color: #E8F0FE;\n",
              "    border: none;\n",
              "    border-radius: 50%;\n",
              "    cursor: pointer;\n",
              "    display: none;\n",
              "    fill: #1967D2;\n",
              "    height: 32px;\n",
              "    padding: 0 0 0 0;\n",
              "    width: 32px;\n",
              "  }\n",
              "\n",
              "  .colab-df-quickchart:hover {\n",
              "    background-color: #E2EBFA;\n",
              "    box-shadow: 0px 1px 2px rgba(60, 64, 67, 0.3), 0px 1px 3px 1px rgba(60, 64, 67, 0.15);\n",
              "    fill: #174EA6;\n",
              "  }\n",
              "\n",
              "  [theme=dark] .colab-df-quickchart {\n",
              "    background-color: #3B4455;\n",
              "    fill: #D2E3FC;\n",
              "  }\n",
              "\n",
              "  [theme=dark] .colab-df-quickchart:hover {\n",
              "    background-color: #434B5C;\n",
              "    box-shadow: 0px 1px 3px 1px rgba(0, 0, 0, 0.15);\n",
              "    filter: drop-shadow(0px 1px 2px rgba(0, 0, 0, 0.3));\n",
              "    fill: #FFFFFF;\n",
              "  }\n",
              "</style>\n",
              "\n",
              "    <script>\n",
              "      async function quickchart(key) {\n",
              "        const containerElement = document.querySelector('#' + key);\n",
              "        const charts = await google.colab.kernel.invokeFunction(\n",
              "            'suggestCharts', [key], {});\n",
              "      }\n",
              "    </script>\n",
              "\n",
              "      <script>\n",
              "\n",
              "function displayQuickchartButton(domScope) {\n",
              "  let quickchartButtonEl =\n",
              "    domScope.querySelector('#df-b63e0f70-6446-4ae2-949d-8410ce094190 button.colab-df-quickchart');\n",
              "  quickchartButtonEl.style.display =\n",
              "    google.colab.kernel.accessAllowed ? 'block' : 'none';\n",
              "}\n",
              "\n",
              "        displayQuickchartButton(document);\n",
              "      </script>\n",
              "      <style>\n",
              "    .colab-df-container {\n",
              "      display:flex;\n",
              "      flex-wrap:wrap;\n",
              "      gap: 12px;\n",
              "    }\n",
              "\n",
              "    .colab-df-convert {\n",
              "      background-color: #E8F0FE;\n",
              "      border: none;\n",
              "      border-radius: 50%;\n",
              "      cursor: pointer;\n",
              "      display: none;\n",
              "      fill: #1967D2;\n",
              "      height: 32px;\n",
              "      padding: 0 0 0 0;\n",
              "      width: 32px;\n",
              "    }\n",
              "\n",
              "    .colab-df-convert:hover {\n",
              "      background-color: #E2EBFA;\n",
              "      box-shadow: 0px 1px 2px rgba(60, 64, 67, 0.3), 0px 1px 3px 1px rgba(60, 64, 67, 0.15);\n",
              "      fill: #174EA6;\n",
              "    }\n",
              "\n",
              "    [theme=dark] .colab-df-convert {\n",
              "      background-color: #3B4455;\n",
              "      fill: #D2E3FC;\n",
              "    }\n",
              "\n",
              "    [theme=dark] .colab-df-convert:hover {\n",
              "      background-color: #434B5C;\n",
              "      box-shadow: 0px 1px 3px 1px rgba(0, 0, 0, 0.15);\n",
              "      filter: drop-shadow(0px 1px 2px rgba(0, 0, 0, 0.3));\n",
              "      fill: #FFFFFF;\n",
              "    }\n",
              "  </style>\n",
              "\n",
              "      <script>\n",
              "        const buttonEl =\n",
              "          document.querySelector('#df-7c9af1ad-a475-4342-8e26-84fb4ab3a78c button.colab-df-convert');\n",
              "        buttonEl.style.display =\n",
              "          google.colab.kernel.accessAllowed ? 'block' : 'none';\n",
              "\n",
              "        async function convertToInteractive(key) {\n",
              "          const element = document.querySelector('#df-7c9af1ad-a475-4342-8e26-84fb4ab3a78c');\n",
              "          const dataTable =\n",
              "            await google.colab.kernel.invokeFunction('convertToInteractive',\n",
              "                                                     [key], {});\n",
              "          if (!dataTable) return;\n",
              "\n",
              "          const docLinkHtml = 'Like what you see? Visit the ' +\n",
              "            '<a target=\"_blank\" href=https://colab.research.google.com/notebooks/data_table.ipynb>data table notebook</a>'\n",
              "            + ' to learn more about interactive tables.';\n",
              "          element.innerHTML = '';\n",
              "          dataTable['output_type'] = 'display_data';\n",
              "          await google.colab.output.renderOutput(dataTable, element);\n",
              "          const docLink = document.createElement('div');\n",
              "          docLink.innerHTML = docLinkHtml;\n",
              "          element.appendChild(docLink);\n",
              "        }\n",
              "      </script>\n",
              "    </div>\n",
              "  </div>\n"
            ]
          },
          "metadata": {},
          "execution_count": 33
        }
      ]
    },
    {
      "cell_type": "code",
      "execution_count": 34,
      "metadata": {
        "id": "CB__dhuiYg1B"
      },
      "outputs": [],
      "source": [
        "# Импорт библиотек и инструментов\n",
        "from google.colab import files              # Импортируем библиотеку files для работы с файлами\n",
        "import tensorflow as tf\n",
        "import pandas as pd                         # Импортируем библиотеку обработки и анализа данных pandas\n",
        "import matplotlib.pyplot as plt             # Импортируем модуль pyplot библиотеки matplotlib для построения графиков\n",
        "import seaborn as sns                       # Импортируем модуль seaborn библиотеки matplotlib для построения графиков\n",
        "import gdown\n",
        "import numpy as np\n",
        "import re\n",
        "from tensorflow.keras import utils\n",
        "from tensorflow.keras.preprocessing.text import Tokenizer, text_to_word_sequence\n",
        "from sklearn.preprocessing import StandardScaler\n",
        "from tensorflow.keras.models import Sequential, Model\n",
        "from tensorflow.keras.optimizers import Adam\n",
        "from tensorflow.keras.layers import Input, Concatenate,Dense, Activation, Dropout, BatchNormalization, concatenate\n",
        "from tensorflow.keras.utils import plot_model\n",
        "from tensorflow.keras.metrics import Precision, Recall\n",
        "from keras.preprocessing.text import Tokenizer, text_to_word_sequence,tokenizer_from_json\n",
        "from sklearn import preprocessing\n",
        "from sklearn.metrics import confusion_matrix, ConfusionMatrixDisplay\n",
        "from sklearn.metrics import classification_report\n",
        "import zipfile\n",
        "import os\n",
        "from sklearn.model_selection import train_test_split\n",
        "from IPython.display import clear_output"
      ]
    },
    {
      "cell_type": "code",
      "execution_count": 43,
      "metadata": {
        "id": "_ayNIXhtnDvj"
      },
      "outputs": [],
      "source": [
        "# Служебные функции\n",
        "def int_to_ohe(arg, class_list):\n",
        "  # Определение размерности выходного вектора\n",
        "  num_classes = len(class_list)\n",
        "  # Поиск верного интервала для входного значения\n",
        "  for i in range(num_classes - 1):\n",
        "    if arg < class_list[i]:\n",
        "      cls = i                       # Интервал найден - назначение класса\n",
        "      break\n",
        "    else:                                 # Внимание: for/else\n",
        "      cls = num_classes - 1             # Интервал не найден - последний класс\n",
        "  # Возврат в виде one hot encoding-вектора\n",
        "  return utils.to_categorical(cls, num_classes)\n",
        "\n",
        "def str_to_multi(arg,class_dict):\n",
        "  # Определение размерности выходного вектора\n",
        "  num_classes = len(class_dict)\n",
        "  # Создание нулевого вектора\n",
        "  result = np.zeros(num_classes)\n",
        "  # Поиск значения в словаре и, если найдено,\n",
        "  # выставление 1. на нужной позиции\n",
        "  if type(arg) is str:\n",
        "    if type(class_dict) is list:\n",
        "      for cls, value in enumerate(class_dict):\n",
        "        if value == arg:\n",
        "          result[cls] = 1.\n",
        "    else:\n",
        "      for value, cls in class_dict.items():\n",
        "        if value == arg:\n",
        "          result[cls] = 1.\n",
        "  return result"
      ]
    },
    {
      "cell_type": "code",
      "execution_count": 44,
      "metadata": {
        "id": "8ihv1e8hiBOE",
        "colab": {
          "base_uri": "https://localhost:8080/"
        },
        "outputId": "1e7d9e26-8903-430e-8a39-a2d9dce8b25e"
      },
      "outputs": [
        {
          "output_type": "stream",
          "name": "stdout",
          "text": [
            "0.0, 0.0, 0.0, 0.0, 0.0, 0.0, 0.0, 0.0, 0.0, 1.0\n"
          ]
        }
      ],
      "source": [
        "\n",
        "# Классификация возраста\n",
        "age_class = [18, 23, 28, 33, 38, 43, 48, 53, 58, 63]\n",
        "df3['age_bag'] = ''\n",
        "for index, row in df3.iterrows():\n",
        "  v = pd.to_datetime(row['КлиентДатаРождения'], errors='coerce').year\n",
        "  df3.loc[index, 'age_bag'] = ', '.join(str(x) for x in int_to_ohe(v, age_class))\n",
        "\n",
        "print(df3.loc[2,'age_bag'])"
      ]
    },
    {
      "cell_type": "code",
      "execution_count": 48,
      "metadata": {
        "id": "2fqInwQLiXsO",
        "colab": {
          "base_uri": "https://localhost:8080/"
        },
        "outputId": "5b55917e-7651-43d3-8e1c-1eed571bbc11"
      },
      "outputs": [
        {
          "output_type": "stream",
          "name": "stdout",
          "text": [
            "Женский 0\n"
          ]
        }
      ],
      "source": [
        "# Классификация пола\n",
        "for index, row in df3.iterrows():\n",
        "  if row['КлиентПол'] == 'Мужской':\n",
        "    df3.loc[index, 'sex_bag'] = '1'\n",
        "  else:\n",
        "    df3.loc[index, 'sex_bag'] = '0'\n",
        "print(f\"{df3.loc[20,'КлиентПол']} {df3.loc[20,'sex_bag']}\")"
      ]
    },
    {
      "cell_type": "code",
      "execution_count": 49,
      "metadata": {
        "id": "uDAaujM4-pK_",
        "colab": {
          "base_uri": "https://localhost:8080/"
        },
        "outputId": "aea8956c-9262-440c-f225-4df2493d3afc"
      },
      "outputs": [
        {
          "output_type": "stream",
          "name": "stdout",
          "text": [
            "1784\n",
            "{'unknown': 1, 'по': 2, 'разряда': 3, 'водитель': 4, 'инженер': 5, 'и': 6, 'машинист': 7, 'монтажник': 8, 'автомобиля': 9, '6': 10, 'слесарь': 11, 'повар': 12, '5': 13, 'оператор': 14, 'мастер': 15, 'продавец': 16, 'специалист': 17, 'ремонту': 18, 'технологических': 19, '4': 20, 'ведущий': 21, 'начальник': 22, 'категории': 23, 'старший': 24, 'трубопроводов': 25, 'менеджер': 26, 'скважин': 27, 'работ': 28, 'вышкомонтажник': 29, 'электрогазосварщик': 30, 'на': 31, 'кассир': 32, 'электромонтажник': 33, 'учитель': 34, 'отдела': 35, 'сервис': 36, 'врач': 37, 'работник': 38, 'помощник': 39, 'торгового': 40, '1': 41, 'фармацевт': 42, 'зала': 43, 'крана': 44, 'капитального': 45, 'ремонта': 46, '7': 47, 'техник': 48, 'конструкций': 49, '3': 50, 'администратор': 51, 'электромонтер': 52, 'воспитатель': 53, 'стальных': 54, 'железобетонных': 55, 'главный': 56, 'с': 57, 'обслуживанию': 58, 'инкассатор': 59, 'погрузчика': 60, 'сварщик': 61, '2': 62, 'рабочий': 63, 'стоматолог': 64, 'директор': 65, 'официант': 66, 'заведующий': 67, 'монтажу': 68, 'изолировщик': 69, 'электрооборудования': 70, 'заместитель': 71, 'электросварщик': 72, 'р': 73, 'установок': 74, 'термоизоляции': 75, 'товаровед': 76, 'экскаватора': 77, 'участка': 78, 'ручной': 79, 'бурильщика': 80, 'провизор': 81, 'геофизик': 82, 'сварки': 83, 'механик': 84, 'грузчик': 85, 'охранник': 86, 'сестра': 87, 'экспедитор': 88, 'товаров': 89, 'бурению': 90, 'установки': 91, 'разряд': 92, 'оборудования': 93, 'подъемника': 94, 'руководитель': 95, 'механосборочных': 96, 'сотрудник': 97, 'продукции': 98, 'педагог': 99, 'рту': 100, 'аптекой': 101, 'консультант': 102, 'строительных': 103, 'автомобильного': 104, 'чистильщик': 105, 'комплектовщик': 106, 'преподаватель': 107, 'стропальщик': 108, 'бурильщик': 109, 'медицинская': 110, 'маляр': 111, 'бухгалтер': 112, 'линии': 113, 'дефектоскопист': 114, 'тренер': 115, 'директора': 116, 'производства': 117, 'наладчик': 118, 'производитель': 119, 'испытаниям': 120, 'в': 121, 'наладке': 122, 'непродовольственных': 123, 'ткрс': 124, 'уборщик': 125, 'монтажных': 126, 'буровой': 127, 'пекарь': 128, 'моторист': 129, 'супервайзер': 130, 'состава': 131, 'подвижного': 132, 'пищевой': 133, 'программист': 134, 'ремонтник': 135, 'башенного': 136, 'кладовщик': 137, 'тракторист': 138, 'цеха': 139, 'производственных': 140, 'партии': 141, 'токарь': 142, 'помещений': 143, 'группы': 144, 'станции': 145, 'пид': 146, 'безопасности': 147, 'технолог': 148, 'дорожный': 149, 'кухонный': 150, 'бармен': 151, 'каротажной': 152, 'бригадир': 153, 'передвижной': 154, 'смр': 155, 'класс': 156, 'службы': 157, 'связи': 158, 'подразделения': 159, 'инструктор': 160, 'охране': 161, 'агрегата': 162, 'сантехник': 163, 'образования': 164, 'авиамеханик': 165, 'пластов': 166, 'горничная': 167, 'химической': 168, 'труда': 169, 'классов': 170, 'заказов': 171, 'сканировщик': 172, 'гидравлическому': 173, 'разрыву': 174, 'служебных': 175, 'авиатехник': 176, 'питания': 177, 'начальных': 178, 'дежурный': 179, 'контролер': 180, 'кассы': 181, 'центра': 182, 'шеф': 183, 'дополнительного': 184, 'сетям': 185, 'проектировщик': 186, 'автомобилей': 187, 'хозяйка': 188, 'бурения': 189, 'фасовщица': 190, 'занятый': 191, 'пкс': 192, 'бульдозера': 193, 'укладчик': 194, 'электрик': 195, 'станков': 196, 'медсестра': 197, 'газорезчик': 198, 'языка': 199, 'сборщик': 200, 'мойщик': 201, 'товарооборота': 202, '8': 203, 'начальника': 204, 'младший': 205, 'цементировочного': 206, 'подсобный': 207, 'зам': 208, 'двигателей': 209, 'промышленности': 210, 'скания': 211, 'капитальному': 212, 'предприятий': 213, 'нефтяной': 214, 'работе': 215, 'нефть': 216, 'газ': 217, 'производстве': 218, 'внутреннего': 219, 'сгорания': 220, 'силовым': 221, 'склада': 222, 'класса': 223, 'катка': 224, 'врача': 225, 'электрооборудованию': 226, 'непосредственно': 227, 'кат': 228, 'самоходного': 229, 'гладкими': 230, 'вальцами': 231, 'продаж': 232, 'автогрейдера': 233, 'спасатель': 234, 'программным': 235, 'управлением': 236, 'магазина': 237, 'электроник': 238, 'ца': 239, 'категория': 240, 'транспортного': 241, 'упаковщик': 242, 'продовольственных': 243, 'средства': 244, 'управляющий': 245, 'нк': 246, 'посуды': 247, 'складом': 248, 'эксплуатации': 249, 'машин': 250, 'терапевт': 251, 'мед': 252, 'дезинфектор': 253, 'се': 254, 'медицинский': 255, 'электромонтёр': 256, 'кондитер': 257, 'дворник': 258, 'е»': 259, 'санитарка': 260, 'подземному': 261, 'энергетик': 262, 'дизайнер': 263, 'технических': 264, 'автокрана': 265, 'зав': 266, '«в': 267, 'мерчендайзер': 268, 'паровой': 269, 'организации': 270, 'режиму': 271, 'эксплуатационного': 272, 'разведочного': 273, 'пдо': 274, 'систем': 275, 'лесов': 276, 'подмостей': 277, 'приемщик': 278, 'продажам': 279, 'стоматолога': 280, 'телеоператор': 281, 'кипиа': 282, 'сопровождению': 283, 'сборке': 284, 'укладчика': 285, 'асфальтобетона': 286, 'обучения': 287, 'автоматизации': 288, 'су': 289, 'смены': 290, 'данных': 291, 'буровых': 292, 'электромеханик': 293, 'плотник': 294, 'производственного': 295, 'заведующая': 296, 'металлоконструкций': 297, 'депарафинизационной': 298, 'базы': 299, 'уборщица': 300, 'котельной': 301, 'рентгеногаммаграфирования': 302, 'аппаратчик': 303, 'готовой': 304, 'психолог': 305, 'ст': 306, 'промышленной': 307, 'го': 308, 'тт': 309, 'руководителя': 310, 'генерального': 311, 'вездехода': 312, 'лаборант': 313, 'пто': 314, 'сервиса': 315, 'фрезы': 316, 'дорожной': 317, 'аск': 318, 'манипуляторов': 319, 'работах': 320, 'диспетчер': 321, 'гаммаграфирования': 322, 'прораб': 323, 'математики': 324, 'фрезеровщик': 325, 'технологического': 326, 'рентгено': 327, 'упаковщица': 328, 'нефти': 329, 'газа': 330, 'кухонь': 331, 'смм': 332, 'взрывник': 333, 'агроном': 334, 'клепальщик': 335, 'сейсмической': 336, 'зданий': 337, 'планированию': 338, 'машиниста': 339, 'научный': 340, 'рэаип': 341, 'химик': 342, 'манипулятора': 343, 'холодильных': 344, 'обработке': 345, 'сектора': 346, 'конструктор': 347, 'добыче': 348, 'контролю': 349, 'технической': 350, 'доставке': 351, 'каменщик': 352, 'строительно': 353, 'старшая': 354, 'холодного': 355, 'приборов': 356, 'художник': 357, 'элементов': 358, 'геофизических': 359, 'технический': 360, 'термист': 361, 'электромонтажных': 362, 'интерьера': 363, 'направления': 364, 'обслуживания': 365, 'деталей': 366, 'генеральный': 367, 'процедурной': 368, 'ассистент': 369, 'межрайонного': 370, 'электростанции': 371, 'управлению': 372, 'км': 373, '«салават': 374, 'юлаев»': 375, 'товара': 376, 'пространства': 377, 'сезонных': 378, 'коллекций': 379, 'контроля': 380, 'кух': 381, 'для': 382, 'электро': 383, 'разнорабочий': 384, 'зубной': 385, 'осуществляющий': 386, 'перевозку': 387, 'опасного': 388, 'груза': 389, 'санитарно': 390, 'электрических': 391, 'клиентского': 392, 'кладовщика': 393, 'дуговой': 394, 'отделом': 395, 'посудомойщица': 396, 'клиентами': 397, 'экструдера': 398, 'русского': 399, 'английского': 400, 'истории': 401, 'упаковочного': 402, 'агрегатов': 403, 'сетей': 404, 'рентгенлаборант': 405, 'методист': 406, 'чпу': 407, 'сторож': 408, 'координатор': 409, 'окружающей': 410, 'среды': 411, 'секретарь': 412, 'сварке': 413, 'корпоративными': 414, 'призводственного': 415, 'литературы': 416, 'увр': 417, 'курьер': 418, 'металла': 419, 'лаборатории': 420, 'вахтер': 421, 'главного': 422, 'проекта': 423, 'вышкостроения': 424, 'горячего': 425, 'геодезист': 426, 'отряда': 427, 'ортопед': 428, 'аирэо': 429, 'цементажу': 430, 'представитель': 431, 'товару': 432, 'учету': 433, 'логопед': 434, 'бетонщик': 435, 'все': 436, 'массажу': 437, 'поддержке': 438, 'взаимодействию': 439, 'персонал': 440, 'связанных': 441, 'ним': 442, 'крс': 443, 'эксперт': 444, 'тжк': 445, 'гример': 446, 'прессовщик': 447, 'освещению': 448, 'осветительным': 449, 'гальваник': 450, 'универсал': 451, 'м': 452, 'комплексному': 453, 'вопросам': 454, 'копровщик': 455, 'социальный': 456, 'арматурщик': 457, 'инженера': 458, 'снабжения': 459, 'торговый': 460, 'мясного': 461, 'зачистка': 462, 'срд': 463, 'рвс': 464, 'плк': 465, 'ахч': 466, 'прямых': 467, 'хостес': 468, 'промывочного': 469, 'автоматических': 470, 'полуавтоматических': 471, 'машинах': 472, 'испытатель': 473, 'комендант': 474, 'производству': 475, 'кадров': 476, 'молоковоза': 477, 'подготовке': 478, 'спортивной': 479, 'медицине': 480, 'продуктов': 481, 'персонала': 482, 'покупателями': 483, 'покупателей': 484, 'изготовлению': 485, 'узлов': 486, 'машины': 487, 'учетчик': 488, 'ппу': 489, 'стомотолога': 490, 'здания': 491, 'управления': 492, 'установщик': 493, 'резчик': 494, 'бовс': 495, 'транспортировщик': 496, 'обмотчик': 497, 'автопогрузчика': 498, 'штукатур': 499, 'интернет': 500, 'заказам': 501, 'пнр': 502, 'обеспечения': 503, 'производством': 504, 'персоналу': 505, 'вальщик': 506, 'леса': 507, 'ночной': 508, 'от': 509, 'уфа': 510, 'массажист': 511, 'стирке': 512, 'фасовщик': 513, 'ванн': 514, 'промывальщик': 515, 'пропарщик': 516, 'цистерн': 517, 'узд': 518, 'каротажник': 519, 'делопроизводитель': 520, 'азс': 521, 'вредности': 522, 'сопровождения': 523, 'развитию': 524, 'первый': 525, 'персоналом': 526, 'универсама': 527, 'дорожно': 528, 'стиральных': 529, 'автослесарь': 530, 'созданию': 531, 'условий': 532, 'совершения': 533, 'покупок': 534, 'поддержки': 535, 'касс': 536, 'пунктом': 537, 'физики': 538, 'обвальщик': 539, 'к': 540, 'копра': 541, 'трубоукладчика': 542, 'шлифовщик': 543, 'электрослесарь': 544, 'измерительным': 545, 'приборам': 546, 'пластмасс': 547, 'крановщик': 548, 'конструкции': 549, \"гальваник'\": 550, 'омед': 551, 'оцин': 552, 'оксид': 553, 'чувствительных': 554, 'числовым': 555, 'товарный': 556, 'кухонной': 557, 'буфетчик': 558, 'столяр': 559, 'департамента': 560, 'геофизике': 561, 'грузового': 562, 'анализа': 563, 'волс': 564, 'ответственный': 565, 'геофизической': 566, 'заведующей': 567, 'биологии': 568, 'обществознания': 569, 'детских': 570, 'молочных': 571, 'работам': 572, 'строительству': 573, 'электронщик': 574, 'штабелера': 575, 'технологии': 576, 'башкирского': 577, 'системный': 578, 'управляющая': 579, 'электротехнике': 580, 'контрольно': 581, 'автоматике': 582, 'регистратор': 583, 'заведущий': 584, 'тепловоза': 585, 'без': 586, 'прав': 587, 'эл': 588, 'бортпроводник': 589, 'штамповщик': 590, 'районного': 591, 'мсс': 592, 'погрузчик': 593, 'калькулятор': 594, 'заправочной': 595, 'закупкам': 596, 'дорожного': 597, 'движения': 598, 'техническому': 599, 'двс': 600, 'составитель': 601, 'поездов': 602, 'хозяйством': 603, 'пк': 604, 'логистики': 605, 'хим': 606, 'общей': 607, 'практики': 608, 'ж': 609, 'кухни': 610, 'качеством': 611, 'культуре': 612, 'операционной': 613, 'деятельности': 614, 'пб': 615, 'камаза': 616, 'за': 617, 'дизайна': 618, 'маркировочной': 619, 'разметки': 620, 'автомобильных': 621, 'дорог': 622, 'кадрам': 623, 'спецодежды': 624, 'лечебных': 625, 'главная': 626, 'физической': 627, 'доп': 628, 'компрессорных': 629, 'обсл': 630, 'приема': 631, 'хоз': 632, 'маникюру': 633, 'топограф': 634, 'внедрению': 635, 'готовй': 636, 'заведующего': 637, 'хирург': 638, 'мк': 639, 'вышкостроении': 640, 'погрузочно': 641, 'разгрузочных': 642, 'манипулятор': 643, 'исследованию': 644, 'главной': 645, 'аптечным': 646, 'г': 647, 'заготовщик': 648, 'детский': 649, 'подъемников': 650, 'лифтов': 651, 'воспитателя': 652, 'автотопливозаправщика': 653, 'вс': 654, 'гбр': 655, 'фармацефт': 656, 'совм': 657, 'испытанию': 658, 'админ': 659, 'д': 660, 'обслуживающий': 661, 'аммиачно': 662, 'холодильные': 663, 'технологиям': 664, 'геолог': 665, 'кип': 666, 'лепщица': 667, 'сп': 668, 'тракторов': 669, 'изготовитель': 670, 'сгп': 671, 'тех': 672, 'оп': 673, 'гл': 674, 'легкового': 675, 'икеа': 676, 'жарки': 677, 'качества': 678, 'химии': 679, 'учебной': 680, 'хозяйственной': 681, 'организатор': 682, 'библиотекарь': 683, 'специального': 684, 'юрисконсульт': 685, 'кисломолочных': 686, 'угмк': 687, 'аптеки': 688, 'бизнес': 689, 'партнер': 690, 'заказу': 691, 'приемке': 692, 'управление': 693, 'физкультуры': 694, 'системам': 695, 'ресторанного': 696, 'грп': 697, 'процессе': 698, 'газоэлектросварщик': 699, 'дез': 700, 'электротехнического': 701, 'стар': 702, 'грузовой': 703, 'столовой': 704, 'депо': 705, 'станочник': 706, 'широкого': 707, 'профиля': 708, 'промышленного': 709, 'качеству': 710, 'авиационной': 711, 'сети': 712, 'совмещаемая': 713, 'косметолога': 714, 'оборудованию': 715, 'окрасчик': 716, 'вышокомонтажник': 717, 'пескоструйщик': 718, 'разря': 719, 'сант': 720, 'канализ': 721, 'мто': 722, 'вулканизаторщик': 723, 'робототехнического': 724, 'комплекса': 725, 'камаз': 726, 'ломовоз': 727, 'железобетоных': 728, 'совмещение': 729, 'производственной': 730, 'микробиолог': 731, 'логист': 732, 'интернату': 733, 'снабжению': 734, 'детского': 735, 'сада': 736, 'музыкальный': 737, 'бурового': 738, 'области': 739, 'рубщик': 740, 'мяса': 741, 'трала': 742, 'промысловой': 743, 'разведочной': 744, 'а': 745, 'общим': 746, 'проектов': 747, 'системе': 748, 'меркурий': 749, 'мхк': 750, '«толпар»': 751, 'корпоративной': 752, 'творожной': 753, 'работу': 754, 'кранами': 755, 'мастера': 756, 'кассовой': 757, 'удаленным': 758, 'дизайн': 759, 'гардеробщица': 760, 'асфальтоукладчика': 761, 'стажер': 762, 'комплектовщица': 763, 'части': 764, 'сантехсистем': 765, 'кастелянша': 766, 'расфасовочно': 767, 'автомата': 768, 'взрывным': 769, 'грязелечебницы': 770, 'физиотерапии': 771, 'бассейна': 772, 'узкопроходного': 773, 'кабельных': 774, 'фш': 775, 'культуры': 776, 'банкетный': 777, 'овощного': 778, 'экспл': 779, 'маркетинга': 780, 'телу': 781, 'инструментальщик': 782, 'способом': 783, 'топографического': 784, 'б': 785, 'советник': 786, 'экономист': 787, 'мерчейндайзер': 788, 'столяров': 789, 'жбк': 790, 'технического': 791, 'охраны': 792, 'электропогрузчика': 793, 'цементно': 794, 'пескосмесительного': 795, 'прессах': 796, 'физкультуре': 797, 'лабораторией': 798, 'кабельщик': 799, 'дир': 800, 'зоны': 801, 'медосмотр': 802, 'вр': 803, 'до': 804, 'замдиректора': 805, 'грип': 806, 'постановщик': 807, 'дизельной': 808, 'днг': 809, 'объектах': 810, 'резке': 811, 'производственном': 812, 'ппду': 813, 'техники': 814, 'технологическому': 815, 'асу': 816, 'консультат': 817, 'атомобиля': 818, 'изд': 819, 'маляра': 820, 'переработчик': 821, 'рао': 822, 'охрана': 823, 'видеонаблюдения': 824, 'реализации': 825, 'магнитному': 826, 'ультразвуковому': 827, 'монтажно': 828, 'механического': 829, 'нкид': 830, 'строительства': 831, 'груз': 832, 'предпродажной': 833, 'лифтам': 834, 'металлорежущих': 835, 'карщик': 836, 'паллетировщик': 837, 'сервисный': 838, 'звукооператор': 839, 'вент': 840, 'интеграции': 841, 'процессов': 842, 'производств': 843, 'экономической': 844, 'аудитор': 845, 'рисками': 846, 'ов': 847, 'складской': 848, 'нач': 849, 'ортодонт': 850, 'вакуумной': 851, 'автобуса': 852, 'добычи': 853, 'фк': 854, 'бар': 855, 'гпм': 856, 'разделке': 857, 'рыбы': 858, 'бренд': 859, 'белья': 860, 'административно': 861, 'специальных': 862, 'мастерской': 863, 'музыки': 864, 'вожатая': 865, 'ртз': 866, 'доставки': 867, 'транспортных': 868, 'электомонтёр': 869, 'стомотолог': 870, 'немецкого': 871, 'библиотекой': 872, 'обж': 873, 'насосных': 874, 'финансовый': 875, 'технологической': 876, '5р': 877, 'сухим': 878, 'программного': 879, 'клиетами': 880, 'размещения': 881, 'спир': 882, 'гинеколог': 883, 'розлива': 884, 'пусконаладочных': 885, 'автовышки': 886, 'производственно': 887, 'мясник': 888, 'аппаратуры': 889, 'макетчик': 890, 'линий': 891, 'пожарной': 892, 'отделением': 893, 'комплексной': 894, 'химизации': 895, 'месторождений': 896, 'маркетингу': 897, 'рекламе': 898, 'продовольственного': 899, 'вагонов': 900, 'кузнец': 901, 'молотах': 902, 'нормированию': 903, 'закупщик': 904, 'процедурная': 905, 'ксо': 906, 'бухгалтера': 907, 'экологической': 908, 'процессах': 909, 'эксковатора': 910, 'декоратор': 911, 'ассенизаторская': 912, 'машина': 913, 'информатики': 914, 'колесных': 915, 'пар': 916, 'комплек': 917, 'обс': 918, 'отдел': 919, 'доб': 920, 'автогидроподъемника': 921, 'телеметрии': 922, 'физ': 923, 'спорт': 924, 'общежития': 925, 'пилах': 926, 'ножовках': 927, 'тп': 928, 'ремонтам': 929, 'профессия': 930, 'гардеробщик': 931, 'осветитель': 932, 'особо': 933, 'сложных': 934, 'ответственных': 935, 'электроизмерительных': 936, 'литейных': 937, 'литейщик': 938, 'учета': 939, 'неразрушающего': 940, 'мобильной': 941, 'корректировщик': 942, 'трафаретов': 943, 'механо': 944, 'сборочных': 945, 'испытатели': 946, 'высоким': 947, 'уровнем': 948, 'шума': 949, 'гсм': 950, 'заточник': 951, 'эмр': 952, 'быстрого': 953, 'реагирования': 954, 'обходчик': 955, 'линейный': 956, 'лома': 957, 'отходов': 958, 'склад': 959, 'офтальмолог': 960, 'земснаряда': 961, 'технологий': 962, 'при': 963, 'исполнительный': 964, 'вагон': 965, 'самосвала': 966, 'плавильщик': 967, 'сплавов': 968, 'высокомонтажник': 969, 'опытного': 970, 'пресс': 971, 'ту': 972, 'операционист': 973, 'комплектовчик': 974, 'офп': 975, 'вратарей': 976, 'светорежиссер': 977, 'концертмейстер': 978, 'судио': 979, 'автомобилч': 980, 'удаленных': 981, 'проектах': 982, 'эколог': 983, 'вк': 984, 'гражданской': 985, 'обороне': 986, 'чрезвычайным': 987, 'материально': 988, 'транспорту': 989, 'транспортной': 990, 'связям': 991, 'общественностью': 992, 'механика': 993, 'информационным': 994, 'экономике': 995, 'материалов': 996, 'сейсмовибраторам': 997, 'цехом': 998, 'соц': 999, '«а': 1000, 'мойки': 1001, 'учит': 1002, 'дневной': 1003, 'бортовой': 1004, 'проводник': 1005, 'кму': 1006, 'стропальщиков': 1007, 'дежурного': 1008, 'слесать': 1009, 'хк': 1010, '«агидель»': 1011, 'погрзучкика': 1012, 'региональный': 1013, 'рб': 1014, 'бистро': 1015, 'шведских': 1016, 'графический': 1017, 'планирования': 1018, 'финансовой': 1019, 'скк': 1020, 'спп': 1021, 'безопасную': 1022, 'мпз': 1023, 'ремону': 1024, 'непродовльственных': 1025, 'коммерческим': 1026, 'мероприятиям': 1027, 'восстановления': 1028, 'непродавольственных': 1029, 'механосборчных': 1030, 'социально': 1031, 'экологическим': 1032, 'графического': 1033, 'стандартам': 1034, 'менеджера': 1035, 'лрк': 1036, 'торговыми': 1037, 'местами': 1038, 'администрации': 1039, 'маркетолог': 1040, 'цткрс': 1041, 'хозяин': 1042, 'магазином': 1043, 'заведубщая': 1044, 'здрав': 1045, 'осмр': 1046, 'правовым': 1047, 'заведуюший': 1048, 'частью': 1049, 'преподаватедь': 1050, 'дефектолог': 1051, 'завелующий': 1052, 'культурно': 1053, 'массовой': 1054, 'режима': 1055, 'учебно': 1056, 'мсч': 1057, 'фельдшер': 1058, 'дисциплин': 1059, 'физического': 1060, 'воспитания': 1061, 'закройщик': 1062, 'коррекционного': 1063, 'viii': 1064, 'вида': 1065, 'бань': 1066, 'доцент': 1067, 'визуальный': 1068, 'писп': 1069, 'технологический': 1070, 'контроль': 1071, 'разметчик': 1072, 'нт': 1073, 'моечной': 1074, 'нефтегазопромыслового': 1075, 'ренгеногаммаграфирования': 1076, 'грязелечебница': 1077, 'cанитарка': 1078, 'узкуопроходного': 1079, 'строительеных': 1080, 'вечерний': 1081, 'региональным': 1082, 'архивариус': 1083, 'сигнализации': 1084, 'кейтерингу': 1085, 'седельный': 1086, 'тягач': 1087, 'кдл': 1088, 'электрмонтёр': 1089, 'однк': 1090, 'изо': 1091, 'элекромонтажник': 1092, 'машиист': 1093, 'передачи': 1094, 'телеметрических': 1095, 'командира': 1096, 'командир': 1097, 'доходами': 1098, 'открытой': 1099, 'групп': 1100, 'мероприятий': 1101, 'коммерческого': 1102, 'китчен': 1103, 'ооператор': 1104, 'джиректор': 1105, 'портье': 1106, 'отд': 1107, 'размещ': 1108, 'нгочной': 1109, 'швея': 1110, 'спец': 1111, 'рег': 1112, 'ин': 1113, 'граждан': 1114, 'лицу': 1115, 'глав': 1116, 'пом': 1117, 'охлаждением': 1118, 'стикеровщик': 1119, 'псу': 1120, 'буровзрывных': 1121, 'последующим': 1122, 'переводом': 1123, 'регулирования': 1124, 'буровзрывного': 1125, 'кровельщик': 1126, 'iii': 1127, 'группа': 1128, 'электробезопасности': 1129, 'автомат': 1130, 'агент': 1131, 'рук': 1132, 'стр': 1133, 'электролаборатории': 1134, 'сил': 1135, 'хлебу': 1136, 'шприц': 1137, 'коммерческой': 1138, 'ск': 1139, 'инжинер': 1140, 'пиццайоло': 1141, 'обор': 1142, 'акушер': 1143, 'авиа': 1144, 'компаниями': 1145, 'инспектор': 1146, 'тб': 1147, 'кран': 1148, 'мл': 1149, 'повышения': 1150, 'нефтеотдачи': 1151, 'vладший': 1152, 'дробильщик': 1153, 'цифровых': 1154, 'ит': 1155, 'решений': 1156, 'готового': 1157, 'продукта': 1158, 'декораторов': 1159, 'обслуж': 1160, 'оборуд': 1161, 'оборудованиятжк': 1162, 'электроустановок': 1163, 'свыше': 1164, 'высшкомонтажник': 1165, 'оос': 1166, 'асб': 1167, 'свос': 1168, 'участках': 1169, 'основного': 1170, 'проектированию': 1171, 'кра': 1172, 'группой': 1173, 'аптек': 1174, 'отк': 1175, 'исполнитель': 1176, 'вмс': 1177, 'цена': 1178, 'акз': 1179, 'географии': 1180, 'рус': 1181, 'сушист': 1182, 'сыровар': 1183, 'теплотехник': 1184, 'строительного': 1185, 'этл': 1186, 'метрологии': 1187, 'противовыбросовому': 1188, 'старшй': 1189, 'механике': 1190, 'технологически': 1191, 'наружных': 1192, 'долотному': 1193, 'винтовым': 1194, 'двигателям': 1195, 'футбольной': 1196, 'школы': 1197, 'электроборудования': 1198, 'сэмр': 1199, 'са': 1200, 'полевого': 1201, 'вычислительного': 1202, 'пульта': 1203, 'диагностике': 1204, 'операционного': 1205, 'водителя': 1206, 'экспедитора': 1207, 'обработчик': 1208, 'из': 1209, '1гр': 1210, 'гальв': 1211, 'печат': 1212, 'плат': 1213, 'окрас': 1214, 'прибор': 1215, 'выполняющий': 1216, 'механизированныи': 1217, 'инструментом': 1218, 'химических': 1219, 'полуфарикатов': 1220, 'пропитчик': 1221, 'техн': 1222, 'насосной': 1223, 'установка': 1224, 'потребителями': 1225, 'моп': 1226, 'химикатов': 1227, 'тсо': 1228, 'станка': 1229, 'рк': 1230, 'итсфз': 1231, 'дозиметрист': 1232, 'молодежной': 1233, 'команды': 1234, 'отделения': 1235, 'электротехнической': 1236, 'смежная': 1237, 'то': 1238, 'обучению': 1239, 'семеноводству': 1240, 'защите': 1241, 'растений': 1242, 'барменеджер': 1243, 'техничка': 1244, 'инструменту': 1245, 'сортировщик': 1246, 'офтальмохирург': 1247, 'об': 1248, 'всех': 1249, 'категорий': 1250, 'работа': 1251, 'связана': 1252, 'общественного': 1253, 'сложным': 1254, 'передвижного': 1255, 'гипермаркета': 1256, 'секции': 1257, 'газового': 1258, 'сварочного': 1259, 'подьемника': 1260, 'прачка': 1261, 'разрубщик': 1262, 'заканчиванию': 1263, 'внедорожных': 1264, 'автомототранспортных': 1265, 'средств': 1266, 'профе': 1267, 'вахтёр': 1268, 'сметчик': 1269, 'комплектации': 1270, 'помещения': 1271, 'ппп': 1272, 'трубопровдов': 1273, 'механизации': 1274, 'спецалист': 1275, 'кабельный': 1276, 'уч': 1277, 'цро': 1278, 'упр': 1279, 'кассе': 1280, 'бизнеса': 1281, 'бурильшик': 1282, 'второй': 1283, 'клинингу': 1284, 'проживанию': 1285, 'разярда': 1286, 'улучшению': 1287, 'операционных': 1288, 'результатов': 1289, 'вентиляции': 1290, 'кондиционирования': 1291, 'техническим': 1292, 'гусеничного': 1293, 'пневмоколесного': 1294, 'нефтебазы': 1295, 'ответ': 1296, 'лицо': 1297, 'пров': 1298, 'о': 1299, 'тн': 1300, 'у': 1301, 'осуществление': 1302, 'пс': 1303, 'городков': 1304, 'диагностики': 1305, 'раздачи': 1306, 'допущен': 1307, 'транспортным': 1308, 'средством': 1309, 'рир': 1310, 'скважинных': 1311, 'посудомойщик': 1312, 'выписке': 1313, 'обслуживаю': 1314, 'шев': 1315, 'атташе': 1316, 'ветеринар': 1317, 'технолога': 1318, '1с': 1319, 'птицевод': 1320, 'приему': 1321, 'заявок': 1322, 'пициола': 1323, 'заправщик': 1324, 'произ': 1325, 'кафе': 1326, 'ремонтировщик': 1327, 'псх': 1328, 'т': 1329, 'автобус': 1330, 'нальник': 1331, 'медиа': 1332, 'содержанию': 1333, 'костюмерной': 1334, 'компектовщик': 1335, 'аренды': 1336, 'общежитию': 1337, 'куханный': 1338, 'з': 1339, 'интерната': 1340, 'ослуживанию': 1341, 'топливозаправщик': 1342, 'педагок': 1343, 'экипировке': 1344, 'землепользованию': 1345, 'архитектор': 1346, 'организационному': 1347, 'внутреннему': 1348, 'ситуациям': 1349, 'мониторингу': 1350, 'дирекции': 1351, 'геофизики': 1352, 'учёту': 1353, 'дннгб': 1354, 'здоровья': 1355, 'внешним': 1356, 'коммуникациям': 1357, 'входному': 1358, 'корпусом': 1359, 'юрист': 1360, 'информационно': 1361, 'аналитическим': 1362, 'яйца': 1363, 'пещевой': 1364, 'творога': 1365, 'cip': 1366, 'англ': 1367, 'малотоннажного': 1368, 'транспорта': 1369, 'сип': 1370, 'финансам': 1371, 'региональных': 1372, 'розничных': 1373, 'автомобильной': 1374, 'колонны': 1375, 'закупу': 1376, 'завсклад': 1377, 'сетевых': 1378, 'программному': 1379, 'лотерейная': 1380, 'деятельность': 1381, 'расфасовке': 1382, 'молочной': 1383, 'первого': 1384, 'грейда': 1385, 'корпусов': 1386, 'рабочей': 1387, 'сетке': 1388, 'каротажу': 1389, 'спмт': 1390, 'гип': 1391, 'невролог': 1392, 'расточник': 1393, 'экономическим': 1394, 'контролёр': 1395, 'электоромонтер': 1396, 'вертикального': 1397, 'сейсмопрофилирования': 1398, 'директрор': 1399, 'машинистом': 1400, 'опс': 1401, 'правовой': 1402, 'кадровой': 1403, 'работы': 1404, 'вертикальному': 1405, 'сейсмопрофилированию': 1406, 'автоматического': 1407, '3р': 1408, 'сеймической': 1409, 'геофизиком': 1410, 'полуавт': 1411, 'полуавтомат': 1412, 'свервис': 1413, 'мрнтажных': 1414, 'мч': 1415, 'мтс': 1416, 'планово': 1417, 'экономического': 1418, 'ортопедическим': 1419, 'физо': 1420, 'варки': 1421, 'авитехник': 1422, 'выпускаемой': 1423, 'ответвенный': 1424, 'гостевого': 1425, 'соп': 1426, 'прачечной': 1427, 'автомобильнонго': 1428, 'взрывных': 1429, 'элекрогазосварщик': 1430, 'ряздяда': 1431, 'вышкомантажник': 1432, 'буровым': 1433, 'мойщика': 1434, 'геофизческих': 1435, '6р': 1436, 'технологичсеких': 1437, 'кту': 1438, 'экспидитор': 1439, 'сервисная': 1440, 'служба': 1441, 'огнеупорщик': 1442, 'маслоизготовитель': 1443, 'ножницах': 1444, 'лудильщик': 1445, 'горячим': 1446, 'гигиенист': 1447, 'аттест': 1448, 'химческой': 1449, 'аккумуляторщик': 1450, 'экструзии': 1451, 'бр': 1452, 'лкми': 1453, 'автлмобиля': 1454, 'иженер': 1455, 'химиической': 1456, 'электрооборужования': 1457, 'применением': 1458, 'методов': 1459, 'альпинизма': 1460, 'эструдера': 1461, 'строительный': 1462, 'рц': 1463, 'лит': 1464, 'ры': 1465, 'лекового': 1466, 'бакалинская': 1467, 'бухгалер': 1468, 'санитарный': 1469, 'электрогазорсварщик': 1470, 'технолгических': 1471, '4р': 1472, 'железебетонных': 1473, 'девектоскопист': 1474, 'гфо': 1475, 'тго': 1476, 'испытательного': 1477, 'геодезического': 1478, 'газоречик': 1479, 'технологичекских': 1480, 'трубоклад': 1481, '1000в': 1482, 'экспертизе': 1483, 'динамического': 1484, 'подъемным': 1485, 'агрегатам': 1486, 'торговых': 1487, 'точек': 1488, 'помошник': 1489, 'спортблока': 1490, 'бюро': 1491, 'пропусков': 1492, 'архива': 1493, 'геофизического': 1494, 'повара': 1495, 'сл': 1496, 'призабойной': 1497, 'заместиитель': 1498, 'машнист': 1499, 'флорист': 1500, 'обд': 1501, 'приемной': 1502, 'комиссии': 1503, 'инженерно': 1504, 'ключевыми': 1505, 'организаций': 1506, 'орган': 1507, 'водетель': 1508, 'химического': 1509, 'травильщик': 1510, 'суши': 1511, 'кеонторолер': 1512, 'гидравлик': 1513, 'экпедитор': 1514, 'сверке': 1515, 'огран': 1516, 'конторолер': 1517, 'офис': 1518, 'пищевого': 1519, 'физкультура': 1520, 'расчету': 1521, 'пдп': 1522, 'вап': 1523, 'нем': 1524, 'повижного': 1525, 'стариший': 1526, 'анг': 1527, 'сэд': 1528, 'станках': 1529, 'завхоз': 1530, 'линейщик': 1531, 'вл': 1532, 'высокого': 1533, 'напряжения': 1534, 'контактной': 1535, 'накладке': 1536, 'админстратор': 1537, 'подъёмного': 1538, 'потник': 1539, 'облицовщик': 1540, 'плиточник': 1541, 'подразделенния': 1542, 'инженерной': 1543, 'мониажник': 1544, 'ресторана': 1545, 'производст': 1546, 'гусеничными': 1547, 'подрадленения': 1548, 'погркзчика': 1549, 'обжарщик': 1550, 'кофейных': 1551, 'зерен': 1552, 'подъмника': 1553, 'косметологии': 1554, 'оформитель': 1555, 'документации': 1556, 'специалсит': 1557, 'осветительного': 1558, 'теплосетей': 1559, 'электростанций': 1560, 'кумысо': 1561, 'дел': 1562, 'доярка': 1563, 'тренинг': 1564, 'хаспп': 1565, 'мойщица': 1566, 'уборкой': 1567, 'туалета': 1568, 'железнобетонных': 1569, 'социальной': 1570, 'доз': 1571, 'нормоконтролер': 1572, 'строительному': 1573, 'геодезиста': 1574, 'стоительных': 1575, 'электросвпрщик': 1576, 'дорожныый': 1577, 'электросвапрщик': 1578, 'бурильно': 1579, 'крановой': 1580, 'самоходной': 1581, 'пневмоколесными': 1582, 'автомаьтического': 1583, 'болотохода': 1584, 'смонтажник': 1585, 'плазменной': 1586, 'реки': 1587, 'ситуация': 1588, 'логистике': 1589, 'водовозки': 1590, 'измеритель': 1591, 'заведющая': 1592, 'варщик': 1593, 'полевых': 1594, 'подразделений': 1595, 'двигательного': 1596, 'начало': 1597, 'товоровед': 1598, 'забойным': 1599, 'научного': 1600, 'компрессорной': 1601, 'коммерческий': 1602, 'выщкомонтажник': 1603, 'cлесарь': 1604, 'дистрибуции': 1605, 'техологических': 1606, 'трубороводов': 1607, 'совмецением': 1608, 'совмещением': 1609, 'хозяйственного': 1610, 'ахо': 1611, 'скажин': 1612, 'скл': 1613, 'очистки': 1614, 'сточных': 1615, 'вод': 1616, 'лудил': 1617, 'дет': 1618, 'приб': 1619, 'гор': 1620, 'спос': 1621, '2гр': 1622, 'химич': 1623, 'полуфаб': 1624, 'вручную': 1625, 'печатник': 1626, 'плоской': 1627, 'печати': 1628, 'анализам': 1629, 'звбойным': 1630, 'монажник': 1631, 'тг': 1632, 'пекаря': 1633, 'судовой': 1634, 'бвр': 1635, 'прививочной': 1636, 'дерматовенеролог': 1637, 'спектр': 1638, 'наземными': 1639, 'транспортными': 1640, 'средствами': 1641, 'купажист': 1642, 'монтажной': 1643, 'бригады': 1644, 'вм': 1645, 'стажёр': 1646, 'сушеф': 1647, 'жкх': 1648, 'гти': 1649, 'формовщик': 1650, 'выплавляемым': 1651, 'моделям': 1652, 'хостесс': 1653, 'полировщик': 1654, 'экспедицией': 1655, 'проектеровщик': 1656, 'вакуумного': 1657, 'центробежновакуумного': 1658, 'центробежного': 1659, 'литья': 1660, 'безопасноти': 1661, 'государственных': 1662, 'учреждений': 1663, 'рентгенолаборант': 1664, 'сервису': 1665, 'документообороту': 1666, 'отчетно': 1667, 'ренгено': 1668, 'брат': 1669, 'рентгенограммаграфирования': 1670, 'слесарт': 1671, 'территориальный': 1672, 'паровых': 1673, 'стерилизаторах': 1674, 'автоклавер': 1675, 'азотно': 1676, 'электроштабелера': 1677, 'токсиколог': 1678, 'модельщик': 1679, 'выплавляемых': 1680, 'моделей': 1681, 'ату': 1682, 'кислородной': 1683, 'газель': 1684, 'ii': 1685, 'уровня': 1686, 'анестезиолог': 1687, 'стротельству': 1688, 'поиску': 1689, 'аренде': 1690, 'позиций': 1691, 'продахам': 1692, 'верхнему': 1693, 'опир': 1694, 'выпуску': 1695, 'атс': 1696, 'рентгенолог': 1697, 'рентген': 1698, 'акн': 1699, 'прм': 1700, 'бульдозерист': 1701, 'автоматизированным': 1702, 'технологическими': 1703, 'процессами': 1704, 'взрывчатых': 1705, 'преподаваиель': 1706, 'региональному': 1707, '1000': 1708, 'местной': 1709, 'промышленных': 1710, 'альпинистов': 1711, 'дефектоскопистов': 1712, 'сменный': 1713, 'инежнер': 1714, 'бдд': 1715, 'медицинского': 1716, 'проектрировщик': 1717, 'сооружений': 1718, 'педиатр': 1719, 'вторичным': 1720, 'цепям': 1721, 'аст': 1722, 'текущему': 1723, 'уфимского': 1724, 'филиала': 1725, 'сантехнический': 1726, 'разработки': 1727, 'разделов': 1728, 'медпредставитель': 1729, 'понтажу': 1730, 'организацией': 1731, 'отруда': 1732, 'ямобура': 1733, 'телеметрическому': 1734, 'станци': 1735, 'генераторов': 1736, 'ока': 1737, 'третьего': 1738, 'компрессора': 1739, 'дст': 1740, 'новых': 1741, 'мастерс': 1742, 'спайщик': 1743, 'машини': 1744, 'ста': 1745, 'эпидемиолог': 1746, 'разряла': 1747, 'эхз': 1748, 'газоплазморезательного': 1749, 'высоте': 1750, 'крг': 1751, 'колл': 1752, 'гок': 1753, 'погрузочной': 1754, 'п': 1755, 'ф': 1756, 'механник': 1757, 'медицинской': 1758, 'сорганизацией': 1759, 'асутп': 1760, 'взрывника': 1761, 'cу': 1762, 'ттхо': 1763, 'промышленоой': 1764, 'безопастности': 1765, 'домов': 1766, 'мелеуз': 1767, 'нир': 1768, 'приемки': 1769, 'свежих': 1770, 'непосредстевнно': 1771, 'обрубщик': 1772, 'бурении': 1773, 'капитальном': 1774, 'ремонте': 1775, 'трубоук': 1776, 'участок': 1777, 'испытательной': 1778, 'обособленного': 1779, 'вожатый': 1780, 'иц': 1781, 'фрти': 1782, 'компресора': 1783}\n",
            "Пекарь\n",
            "[128]\n",
            "[0.0, 0.0, 0.0, 0.0, 0.0, 0.0, 0.0, 0.0, 0.0, 0.0, 0.0, 0.0, 0.0, 0.0, 0.0, 0.0, 0.0, 0.0, 0.0, 0.0, 0.0, 0.0, 0.0, 0.0, 0.0, 0.0, 0.0, 0.0, 0.0, 0.0, 0.0, 0.0, 0.0, 0.0, 0.0, 0.0, 0.0, 0.0, 0.0, 0.0, 0.0, 0.0, 0.0, 0.0, 0.0, 0.0, 0.0, 0.0, 0.0, 0.0, 0.0, 0.0, 0.0, 0.0, 0.0, 0.0, 0.0, 0.0, 0.0, 0.0, 0.0, 0.0, 0.0, 0.0, 0.0, 0.0, 0.0, 0.0, 0.0, 0.0, 0.0, 0.0, 0.0, 0.0, 0.0, 0.0, 0.0, 0.0, 0.0, 0.0, 0.0, 0.0, 0.0, 0.0, 0.0, 0.0, 0.0, 0.0, 0.0, 0.0, 0.0, 0.0, 0.0, 0.0, 0.0, 0.0, 0.0, 0.0, 0.0, 0.0, 0.0, 0.0, 0.0, 0.0, 0.0, 0.0, 0.0, 0.0, 0.0, 0.0, 0.0, 0.0, 0.0, 0.0, 0.0, 0.0, 0.0, 0.0, 0.0, 0.0, 0.0, 0.0, 0.0, 0.0, 0.0, 0.0, 0.0, 0.0, 1.0, 0.0, 0.0, 0.0, 0.0, 0.0, 0.0, 0.0, 0.0, 0.0, 0.0, 0.0, 0.0, 0.0, 0.0, 0.0, 0.0, 0.0, 0.0, 0.0, 0.0, 0.0, 0.0, 0.0, 0.0, 0.0, 0.0, 0.0, 0.0, 0.0, 0.0, 0.0, 0.0, 0.0, 0.0, 0.0, 0.0, 0.0, 0.0, 0.0, 0.0, 0.0, 0.0, 0.0, 0.0, 0.0, 0.0, 0.0, 0.0, 0.0, 0.0, 0.0, 0.0, 0.0, 0.0, 0.0, 0.0, 0.0, 0.0, 0.0, 0.0, 0.0, 0.0, 0.0, 0.0, 0.0, 0.0, 0.0, 0.0, 0.0, 0.0, 0.0, 0.0, 0.0, 0.0, 0.0, 0.0, 0.0, 0.0, 0.0, 0.0, 0.0, 0.0, 0.0, 0.0, 0.0, 0.0, 0.0, 0.0, 0.0, 0.0, 0.0, 0.0, 0.0, 0.0, 0.0, 0.0, 0.0, 0.0, 0.0, 0.0, 0.0, 0.0, 0.0, 0.0, 0.0, 0.0, 0.0, 0.0, 0.0, 0.0, 0.0, 0.0, 0.0, 0.0, 0.0, 0.0, 0.0, 0.0, 0.0, 0.0, 0.0, 0.0, 0.0, 0.0, 0.0, 0.0, 0.0, 0.0, 0.0, 0.0, 0.0, 0.0, 0.0, 0.0, 0.0, 0.0, 0.0, 0.0, 0.0, 0.0, 0.0, 0.0, 0.0, 0.0, 0.0, 0.0, 0.0, 0.0, 0.0, 0.0, 0.0, 0.0, 0.0, 0.0, 0.0, 0.0, 0.0, 0.0, 0.0, 0.0, 0.0, 0.0, 0.0, 0.0, 0.0, 0.0, 0.0, 0.0, 0.0, 0.0, 0.0, 0.0, 0.0, 0.0, 0.0, 0.0, 0.0, 0.0, 0.0, 0.0, 0.0, 0.0, 0.0, 0.0, 0.0, 0.0, 0.0, 0.0, 0.0, 0.0, 0.0, 0.0, 0.0, 0.0, 0.0, 0.0, 0.0, 0.0, 0.0, 0.0, 0.0, 0.0, 0.0, 0.0, 0.0, 0.0, 0.0, 0.0, 0.0, 0.0, 0.0, 0.0, 0.0, 0.0, 0.0, 0.0, 0.0, 0.0, 0.0, 0.0, 0.0, 0.0, 0.0, 0.0, 0.0, 0.0, 0.0, 0.0, 0.0, 0.0, 0.0, 0.0, 0.0, 0.0, 0.0, 0.0, 0.0, 0.0, 0.0, 0.0, 0.0, 0.0, 0.0, 0.0, 0.0, 0.0, 0.0, 0.0, 0.0, 0.0, 0.0, 0.0, 0.0, 0.0, 0.0, 0.0, 0.0, 0.0, 0.0, 0.0, 0.0, 0.0, 0.0, 0.0, 0.0, 0.0, 0.0, 0.0, 0.0, 0.0, 0.0, 0.0, 0.0, 0.0, 0.0, 0.0, 0.0, 0.0, 0.0, 0.0, 0.0, 0.0, 0.0, 0.0, 0.0, 0.0, 0.0, 0.0, 0.0, 0.0, 0.0, 0.0, 0.0, 0.0, 0.0, 0.0, 0.0, 0.0, 0.0, 0.0, 0.0, 0.0, 0.0, 0.0, 0.0, 0.0, 0.0, 0.0, 0.0, 0.0, 0.0, 0.0, 0.0, 0.0, 0.0, 0.0, 0.0, 0.0, 0.0, 0.0, 0.0, 0.0, 0.0, 0.0, 0.0, 0.0, 0.0, 0.0, 0.0, 0.0, 0.0, 0.0, 0.0, 0.0, 0.0, 0.0, 0.0, 0.0, 0.0, 0.0, 0.0, 0.0, 0.0, 0.0, 0.0, 0.0, 0.0, 0.0, 0.0, 0.0, 0.0, 0.0, 0.0, 0.0, 0.0, 0.0, 0.0, 0.0, 0.0, 0.0, 0.0, 0.0, 0.0, 0.0, 0.0, 0.0, 0.0, 0.0, 0.0, 0.0, 0.0, 0.0, 0.0, 0.0, 0.0, 0.0, 0.0, 0.0, 0.0, 0.0, 0.0, 0.0, 0.0, 0.0, 0.0, 0.0, 0.0, 0.0, 0.0, 0.0, 0.0, 0.0, 0.0, 0.0, 0.0, 0.0, 0.0, 0.0, 0.0, 0.0, 0.0, 0.0, 0.0, 0.0, 0.0, 0.0, 0.0, 0.0, 0.0, 0.0, 0.0, 0.0, 0.0, 0.0, 0.0, 0.0, 0.0, 0.0, 0.0, 0.0, 0.0, 0.0, 0.0, 0.0, 0.0, 0.0, 0.0, 0.0, 0.0, 0.0, 0.0, 0.0, 0.0, 0.0, 0.0, 0.0, 0.0, 0.0, 0.0, 0.0, 0.0, 0.0, 0.0, 0.0, 0.0, 0.0, 0.0, 0.0, 0.0, 0.0, 0.0, 0.0, 0.0, 0.0, 0.0, 0.0, 0.0, 0.0, 0.0, 0.0, 0.0, 0.0, 0.0, 0.0, 0.0, 0.0, 0.0, 0.0, 0.0, 0.0, 0.0]\n"
          ]
        }
      ],
      "source": [
        "# Токенизация (Профессия)\n",
        "df3['prof_index']= ' '\n",
        "df3['prof_bag'] = ' '\n",
        "prof_token = Tokenizer(num_words=600, filters='!\"#$%&()*+,-–—./:;<=>?@[\\]^_`{|}~\\t\\n\\xa0', lower=True, split=' ', oov_token='unknown', char_level=False)\n",
        "prof_token.fit_on_texts(df3['Профессия'].astype(str).replace('nan',''))\n",
        "df3['prof_index'] = prof_token.texts_to_sequences(df3['Профессия'].astype(str).replace('nan',''))\n",
        "df3['prof_bag'] = prof_token.sequences_to_matrix(df3['prof_index']).tolist()\n",
        "print(len(prof_token.word_index) + 1)\n",
        "print(prof_token.word_index)\n",
        "print(df3.loc[1478,'Профессия'])\n",
        "print(df3.loc[1478,'prof_index'])\n",
        "print(df3.loc[1478,'prof_bag'])"
      ]
    },
    {
      "cell_type": "code",
      "execution_count": 51,
      "metadata": {
        "colab": {
          "base_uri": "https://localhost:8080/"
        },
        "id": "lDtro0cR-SS_",
        "outputId": "c6181b06-9884-4c8f-a0ed-8efceb34295c"
      },
      "outputs": [
        {
          "output_type": "stream",
          "name": "stdout",
          "text": [
            "192\n",
            "{'unknown': 1, \"'5.1'\": 2, \"'23'\": 3, \"'4.4'\": 4, \"'11.1'\": 5, \"'6.1'\": 6, \"'4.2.5'\": 7, \"'18.1'\": 8, \"'11.4'\": 9, \"'6.2'\": 10, \"'4.3.2'\": 11, \"'4.7'\": 12, \"'9'\": 13, \"'18.2'\": 14, \"'6'\": 15, \"'15'\": 16, \"'1.50'\": 17, \"'17'\": 18, \"'4.3.1'\": 19, \"'4.8'\": 20, \"'25'\": 21, \"'11.3'\": 22, \"'27'\": 23, \"'нет\": 24, \"данных'\": 25, \"'13'\": 26, \"'1.1'\": 27, \"'26'\": 28, \"'12'\": 29, \"'3.1.7'\": 30, \"'18'\": 31, \"'1.39'\": 32, \"'4.1'\": 33, \"'4.2.1'\": 34, \"'1.29.2'\": 35, \"'11'\": 36, \"'1.3'\": 37, \"'22'\": 38, \"'1.30.1'\": 39, \"'8'\": 40, \"'5.2.1'\": 41, \"'1.15'\": 42, \"'1.14.2'\": 43, \"'1.36.1'\": 44, \"'1.23'\": 45, \"'1.37.1'\": 46, \"'4.9'\": 47, \"'4.2.3'\": 48, \"'3.1.2'\": 49, \"'5.2'\": 50, \"'1.8.1.1'\": 51, \"'3.4'\": 52, \"'4.5'\": 53, \"'4.2.4'\": 54, \"'1.29.1'\": 55, \"'4.10'\": 56, \"'3.1.8.2'\": 57, \"'4.2'\": 58, \"'4.6'\": 59, \"'1.2'\": 60, \"'4.2.2'\": 61, \"'1.34.1'\": 62, \"'1.48'\": 63, \"'4.3'\": 64, \"'1.17'\": 65, \"'2.4.2'\": 66, \"'1.36'\": 67, \"'1.19.1'\": 68, \"'14'\": 69, \"'3.1'\": 70, \"'3.1.8'\": 71, \"'1.8.1.2'\": 72, \"'27.27'\": 73, \"'3.1.1'\": 74, \"'3.1.8.3'\": 75, \"'23.23'\": 76, \"'1.27.1'\": 77, \"'1.5'\": 78, \"'3.1.5'\": 79, \"'1.8.2.1'\": 80, \"'24'\": 81, \"'2.4.3'\": 82, \"'25.25'\": 83, \"'1.51'\": 84, \"'1.37'\": 85, \"'1.5.1'\": 86, \"'1.30'\": 87, \"'1.8.1'\": 88, \"'1.38'\": 89, \"'1.47.7'\": 90, \"'1.10'\": 91, \"'1.40'\": 92, \"'6.9'\": 93, \"'7'\": 94, \"'6.17'\": 95, \"'1.8.2.2'\": 96, \"'1.8.3.1'\": 97, \"'1.8.3.2'\": 98, \"'2.4'\": 99, \"'10'\": 100, \"'15.23'\": 101, \"'1.18.3'\": 102, \"'1.37.2'\": 103, \"'1.24'\": 104, \"'1.42'\": 105, \"'3.1.3'\": 106, \"'23.26'\": 107, \"'23.25'\": 108, \"'2.4.1'\": 109, \"'1.51.1'\": 110, \"'3.1.9.3'\": 111, \"'1.4'\": 112, \"'1.29.4'\": 113, \"'1.52'\": 114, \"'1.49.14'\": 115, \"'1.37.1.1'\": 116, \"'18.23'\": 117, \"'2.4.4'\": 118, \"'2.4.5'\": 119, \"'1.53.2'\": 120, \"'6.24'\": 121, \"'3.1.8.1'\": 122, \"'3.2'\": 123, \"'1.45.1'\": 124, \"'1.51.2'\": 125, \"'1.43.1'\": 126, \"'26.26'\": 127, \"'11.18'\": 128, \"'1.37.1.2'\": 129, \"'3.3'\": 130, \"'23.27'\": 131, \"'23.18'\": 132, \"'11.2'\": 133, \"'1.36.3'\": 134, \"'1.12'\": 135, \"'1.22'\": 136, \"'1.49'\": 137, \"'1.53.1'\": 138, \"'1.29.3'\": 139, \"'2.3'\": 140, \"'25.27'\": 141, \"'1.25'\": 142, \"'17.27'\": 143, \"'1.44'\": 144, \"'2.1'\": 145, \"'9.26'\": 146, \"'6.15'\": 147, \"'1.14'\": 148, \"'1.46'\": 149, \"'16'\": 150, \"'23.15'\": 151, \"'9.9'\": 152, \"'1.36.2'\": 153, \"'1.14.1'\": 154, \"'1.49.4'\": 155, \"'13.23'\": 156, \"'1.47.1'\": 157, \"'1.52.1'\": 158, \"'1.7.1'\": 159, \"'1.49.2'\": 160, \"'15.15'\": 161, \"'25.9'\": 162, \"'1.15.1'\": 163, \"'13.17'\": 164, \"'15.6'\": 165, \"'6.8'\": 166, \"'18.27'\": 167, \"'24.24'\": 168, \"'3.1.10'\": 169, \"'1.47'\": 170, \"'1.49.11'\": 171, \"'1.29'\": 172, \"'1.8.2'\": 173, \"'1.8.3'\": 174, \"'5.2.2'\": 175, \"'12.13'\": 176, \"'9.6'\": 177, \"'15.26'\": 178, \"'9.27'\": 179, \"'1.52.5'\": 180, \"'3.1.9.2'\": 181, \"'11.26'\": 182, \"'14.26'\": 183, \"'25.26'\": 184, \"'23.11'\": 185, \"'9.23'\": 186, \"'19.1'\": 187, \"'19.2'\": 188, \"'1.43'\": 189, \"'1.6'\": 190, \"'23.9'\": 191}\n",
            "['18.2', '4.3.1', '4.3.2']\n",
            "[14, 19, 11]\n",
            "[0.0, 0.0, 0.0, 0.0, 0.0, 0.0, 0.0, 0.0, 0.0, 0.0, 0.0, 1.0, 0.0, 0.0, 1.0, 0.0, 0.0, 0.0, 0.0, 1.0, 0.0, 0.0, 0.0, 0.0, 0.0, 0.0, 0.0, 0.0, 0.0, 0.0, 0.0, 0.0, 0.0, 0.0, 0.0, 0.0, 0.0, 0.0, 0.0, 0.0, 0.0, 0.0, 0.0, 0.0, 0.0, 0.0, 0.0, 0.0, 0.0, 0.0, 0.0, 0.0, 0.0, 0.0, 0.0, 0.0, 0.0, 0.0, 0.0, 0.0, 0.0, 0.0, 0.0, 0.0, 0.0, 0.0, 0.0, 0.0, 0.0, 0.0, 0.0, 0.0, 0.0, 0.0, 0.0, 0.0, 0.0, 0.0, 0.0, 0.0, 0.0, 0.0, 0.0, 0.0, 0.0, 0.0, 0.0, 0.0, 0.0, 0.0, 0.0, 0.0, 0.0, 0.0, 0.0, 0.0, 0.0, 0.0, 0.0, 0.0, 0.0, 0.0, 0.0, 0.0, 0.0, 0.0, 0.0, 0.0, 0.0, 0.0, 0.0, 0.0, 0.0, 0.0, 0.0, 0.0, 0.0, 0.0, 0.0, 0.0, 0.0, 0.0, 0.0, 0.0, 0.0, 0.0, 0.0, 0.0, 0.0, 0.0, 0.0, 0.0, 0.0, 0.0, 0.0, 0.0, 0.0, 0.0, 0.0, 0.0, 0.0, 0.0, 0.0, 0.0, 0.0, 0.0, 0.0, 0.0, 0.0, 0.0, 0.0, 0.0, 0.0, 0.0, 0.0, 0.0, 0.0, 0.0, 0.0, 0.0, 0.0, 0.0, 0.0, 0.0, 0.0, 0.0, 0.0, 0.0, 0.0, 0.0, 0.0, 0.0, 0.0, 0.0, 0.0, 0.0, 0.0, 0.0, 0.0, 0.0, 0.0, 0.0, 0.0, 0.0, 0.0, 0.0, 0.0, 0.0, 0.0, 0.0, 0.0, 0.0, 0.0, 0.0, 0.0, 0.0, 0.0, 0.0, 0.0, 0.0, 0.0, 0.0, 0.0, 0.0, 0.0, 0.0, 0.0, 0.0, 0.0, 0.0, 0.0, 0.0, 0.0, 0.0, 0.0, 0.0, 0.0, 0.0, 0.0, 0.0, 0.0, 0.0, 0.0, 0.0, 0.0, 0.0, 0.0, 0.0, 0.0, 0.0, 0.0, 0.0, 0.0, 0.0, 0.0, 0.0, 0.0, 0.0, 0.0, 0.0, 0.0, 0.0, 0.0, 0.0, 0.0, 0.0, 0.0, 0.0, 0.0, 0.0, 0.0, 0.0, 0.0, 0.0, 0.0, 0.0, 0.0, 0.0, 0.0, 0.0, 0.0, 0.0, 0.0, 0.0, 0.0, 0.0, 0.0, 0.0, 0.0, 0.0, 0.0, 0.0, 0.0, 0.0, 0.0, 0.0, 0.0, 0.0, 0.0, 0.0, 0.0, 0.0, 0.0, 0.0, 0.0, 0.0, 0.0, 0.0, 0.0, 0.0, 0.0, 0.0, 0.0, 0.0, 0.0, 0.0, 0.0, 0.0, 0.0, 0.0]\n"
          ]
        }
      ],
      "source": [
        "# Классификация ВредныеФакторы\n",
        "hazard_token = Tokenizer(num_words=300, filters='!\"#$%&()*+,-–—/:;<=>?@[\\]^_`{|}~\\t\\n\\xa0', lower=True, split=' ', oov_token='unknown', char_level=False)\n",
        "hazard_token.fit_on_texts(df3['ВредныеФакторы'].astype(str).replace('nan',''))\n",
        "df3['hazard_index'] = hazard_token.texts_to_sequences(df3['ВредныеФакторы'].astype(str).replace('nan',''))\n",
        "df3['hazard_bag'] = hazard_token.sequences_to_matrix(df3['hazard_index']).tolist()\n",
        "print(len(hazard_token.word_index) + 1)\n",
        "print(hazard_token.word_index)\n",
        "print(df3.loc[80,'ВредныеФакторы'])\n",
        "print(df3.loc[80,'hazard_index'])\n",
        "print(df3.loc[80,'hazard_bag'])"
      ]
    },
    {
      "cell_type": "code",
      "execution_count": 52,
      "metadata": {
        "colab": {
          "base_uri": "https://localhost:8080/"
        },
        "outputId": "efeb71d0-ada1-4368-e25d-5d92592954c7",
        "id": "e6MKDN-UlgL7"
      },
      "outputs": [
        {
          "output_type": "stream",
          "name": "stdout",
          "text": [
            "False 0\n"
          ]
        }
      ],
      "source": [
        "# ПсихОсвидетельствование\n",
        "for index, row in df3.iterrows():\n",
        "  if row['ПсихОсвидетельствование'] == 'True':\n",
        "    df3.loc[index, 'psxm_bag'] = '1'\n",
        "  else:\n",
        "    df3.loc[index, 'psxm_bag'] = '0'\n",
        "print(f\"{df3.loc[20,'ПсихОсвидетельствование']} {df3.loc[20,'psxm_bag']}\")"
      ]
    },
    {
      "cell_type": "code",
      "execution_count": 54,
      "metadata": {
        "colab": {
          "base_uri": "https://localhost:8080/"
        },
        "id": "wOnC2Q14RHCj",
        "outputId": "7d509047-2877-4942-e317-0523c021732a"
      },
      "outputs": [
        {
          "output_type": "stream",
          "name": "stdout",
          "text": [
            "18\n",
            "{'unknown': 1, 'годен': 2, 'с': 3, 'коррекцией': 4, 'зрения': 5, 'без': 6, 'работ': 7, 'на': 8, 'высотах': 9, 'нуждается': 10, 'в': 11, 'дообследовании': 12, 'и': 13, 'лечении': 14, 'слуха': 15, 'ограниченно': 16, 'не': 17}\n",
            "Годен\n",
            "[2]\n",
            "[0.0, 0.0, 1.0, 0.0, 0.0, 0.0, 0.0, 0.0, 0.0, 0.0, 0.0, 0.0, 0.0, 0.0, 0.0, 0.0, 0.0, 0.0, 0.0, 0.0, 0.0, 0.0, 0.0, 0.0, 0.0, 0.0, 0.0, 0.0, 0.0, 0.0, 0.0, 0.0, 0.0, 0.0, 0.0, 0.0, 0.0, 0.0, 0.0, 0.0, 0.0, 0.0, 0.0, 0.0, 0.0, 0.0, 0.0, 0.0, 0.0, 0.0, 0.0, 0.0, 0.0, 0.0, 0.0, 0.0, 0.0, 0.0, 0.0, 0.0, 0.0, 0.0, 0.0, 0.0, 0.0, 0.0, 0.0, 0.0, 0.0, 0.0, 0.0, 0.0, 0.0, 0.0, 0.0, 0.0, 0.0, 0.0, 0.0, 0.0, 0.0, 0.0, 0.0, 0.0, 0.0, 0.0, 0.0, 0.0, 0.0, 0.0, 0.0, 0.0, 0.0, 0.0, 0.0, 0.0, 0.0, 0.0, 0.0, 0.0, 0.0, 0.0, 0.0, 0.0, 0.0, 0.0, 0.0, 0.0, 0.0, 0.0, 0.0, 0.0, 0.0, 0.0, 0.0, 0.0, 0.0, 0.0, 0.0, 0.0, 0.0, 0.0, 0.0, 0.0, 0.0, 0.0, 0.0, 0.0, 0.0, 0.0, 0.0, 0.0, 0.0, 0.0, 0.0, 0.0, 0.0, 0.0, 0.0, 0.0, 0.0, 0.0, 0.0, 0.0, 0.0, 0.0, 0.0, 0.0, 0.0, 0.0, 0.0, 0.0, 0.0, 0.0, 0.0, 0.0, 0.0, 0.0, 0.0, 0.0, 0.0, 0.0, 0.0, 0.0, 0.0, 0.0, 0.0, 0.0, 0.0, 0.0, 0.0, 0.0, 0.0, 0.0, 0.0, 0.0, 0.0, 0.0, 0.0, 0.0, 0.0, 0.0, 0.0, 0.0, 0.0, 0.0, 0.0, 0.0, 0.0, 0.0, 0.0, 0.0, 0.0, 0.0, 0.0, 0.0, 0.0, 0.0, 0.0, 0.0, 0.0, 0.0, 0.0, 0.0, 0.0, 0.0, 0.0, 0.0, 0.0, 0.0, 0.0, 0.0, 0.0, 0.0, 0.0, 0.0, 0.0, 0.0, 0.0, 0.0, 0.0, 0.0, 0.0, 0.0, 0.0, 0.0, 0.0, 0.0, 0.0, 0.0, 0.0, 0.0, 0.0, 0.0, 0.0, 0.0, 0.0, 0.0, 0.0, 0.0, 0.0, 0.0, 0.0, 0.0, 0.0, 0.0, 0.0, 0.0, 0.0, 0.0, 0.0, 0.0, 0.0, 0.0, 0.0, 0.0, 0.0, 0.0, 0.0, 0.0, 0.0, 0.0, 0.0, 0.0, 0.0, 0.0, 0.0, 0.0, 0.0, 0.0, 0.0, 0.0, 0.0, 0.0, 0.0, 0.0, 0.0, 0.0, 0.0, 0.0, 0.0, 0.0, 0.0, 0.0, 0.0, 0.0, 0.0, 0.0, 0.0, 0.0, 0.0, 0.0, 0.0, 0.0, 0.0, 0.0, 0.0, 0.0, 0.0, 0.0, 0.0, 0.0, 0.0, 0.0, 0.0, 0.0, 0.0, 0.0, 0.0, 0.0, 0.0, 0.0, 0.0, 0.0, 0.0, 0.0, 0.0, 0.0, 0.0, 0.0, 0.0, 0.0, 0.0, 0.0, 0.0, 0.0, 0.0, 0.0, 0.0, 0.0, 0.0, 0.0, 0.0, 0.0, 0.0, 0.0, 0.0, 0.0, 0.0, 0.0, 0.0, 0.0, 0.0, 0.0, 0.0, 0.0, 0.0, 0.0, 0.0, 0.0, 0.0, 0.0, 0.0, 0.0, 0.0, 0.0, 0.0, 0.0, 0.0, 0.0, 0.0, 0.0, 0.0, 0.0, 0.0, 0.0, 0.0, 0.0, 0.0, 0.0, 0.0, 0.0, 0.0, 0.0, 0.0, 0.0, 0.0, 0.0, 0.0, 0.0, 0.0, 0.0, 0.0, 0.0, 0.0, 0.0, 0.0, 0.0, 0.0, 0.0, 0.0, 0.0, 0.0, 0.0, 0.0, 0.0, 0.0, 0.0, 0.0, 0.0]\n"
          ]
        }
      ],
      "source": [
        "# Токенизация ('ЗаключениеМКПредставление')\n",
        "diagnos_columns = [col for col in df3.columns if 'ЗаключениеМКПредставление' in col]\n",
        "df3['diagnos_rows'] = [' '.join([str(row[df3.columns.get_loc(col)]) for col in diagnos_columns]) for row in df3.values]\n",
        "df3['diagnos_rows'] = [re.sub('\\[.*?\\]', '', dstr).replace('nan','').replace('_x000D_','').replace('\\n','') for dstr in df3['diagnos_rows']]\n",
        "diagnos_token = Tokenizer(num_words=400, filters='!\"#$%&()*+,-–—./:;<=>?@[\\]^_`{|}~\\t\\n\\xa0', lower=True, split=' ', oov_token='unknown', char_level=False)\n",
        "diagnos_token.fit_on_texts(df3['diagnos_rows'])\n",
        "df3['diagnos_index'] = diagnos_token.texts_to_sequences(df3['diagnos_rows'])\n",
        "df3['diagnos_bag'] = diagnos_token.sequences_to_matrix(df3['diagnos_index']).tolist()\n",
        "print(len(diagnos_token.word_index) + 1)\n",
        "print(diagnos_token.word_index)\n",
        "print(df3.loc[1800,'diagnos_rows'])\n",
        "print(df3.loc[1800,'diagnos_index'])\n",
        "print(df3.loc[1800,'diagnos_bag'])"
      ]
    },
    {
      "cell_type": "code",
      "execution_count": 55,
      "metadata": {
        "colab": {
          "base_uri": "https://localhost:8080/"
        },
        "id": "0ST-M3qbQZpS",
        "outputId": "c2939d2e-c4ba-4897-eaad-44b8c6227d16"
      },
      "outputs": [
        {
          "output_type": "stream",
          "name": "stdout",
          "text": [
            "62\n",
            "{'unknown': 1, 'годен': 2, 'с': 3, 'коррекцией': 4, 'зрения': 5, 'нуждаетсявдообследовании': 6, 'нет': 7, 'данных': 8, 'в': 9, 'п': 10, 'к': 11, 'работе': 12, 'указанных': 13, 'условиях': 14, 'на': 15, 'без': 16, 'работ': 17, 'высотах': 18, 'кроме': 19, '6': 20, 'и': 21, '1': 22, 'нуждается': 23, 'дообследовании': 24, 'лечении': 25, '2': 26, '17': 27, 'слуха': 28, 'ограниченно': 29, 'не': 30, '14': 31, '4': 32, 'тяжестей': 33, 'более': 34, 'длительной': 35, 'ходьбой': 36, 'работа': 37, '8': 38, '18': 39, '1э': 40, 'противопаказанаработа': 41, 'подьемом': 42, 'перемещением': 43, '5': 44, 'кг': 45, '500': 46, 'метров': 47, 'высоте': 48, 'холодных': 49, 'помещениях': 50, 'эмоциональные': 51, 'нагрузки': 52, 'полный': 53, 'рабочий': 54, 'день': 55, 'противопоказана': 56, 'связанная': 57, 'высотой': 58, 'подьем': 59, 'перемещение': 60, '15': 61}\n",
            "Годен Годен Годен\n",
            "[2, 2, 2]\n",
            "[0.0, 0.0, 1.0, 0.0, 0.0, 0.0, 0.0, 0.0, 0.0, 0.0, 0.0, 0.0, 0.0, 0.0, 0.0, 0.0, 0.0, 0.0, 0.0, 0.0, 0.0, 0.0, 0.0, 0.0, 0.0, 0.0, 0.0, 0.0, 0.0, 0.0, 0.0, 0.0, 0.0, 0.0, 0.0, 0.0, 0.0, 0.0, 0.0, 0.0, 0.0, 0.0, 0.0, 0.0, 0.0, 0.0, 0.0, 0.0, 0.0, 0.0, 0.0, 0.0, 0.0, 0.0, 0.0, 0.0, 0.0, 0.0, 0.0, 0.0, 0.0, 0.0, 0.0, 0.0, 0.0, 0.0, 0.0, 0.0, 0.0, 0.0, 0.0, 0.0, 0.0, 0.0, 0.0, 0.0, 0.0, 0.0, 0.0, 0.0, 0.0, 0.0, 0.0, 0.0, 0.0, 0.0, 0.0, 0.0, 0.0, 0.0, 0.0, 0.0, 0.0, 0.0, 0.0, 0.0, 0.0, 0.0, 0.0, 0.0, 0.0, 0.0, 0.0, 0.0, 0.0, 0.0, 0.0, 0.0, 0.0, 0.0, 0.0, 0.0, 0.0, 0.0, 0.0, 0.0, 0.0, 0.0, 0.0, 0.0, 0.0, 0.0, 0.0, 0.0, 0.0, 0.0, 0.0, 0.0, 0.0, 0.0, 0.0, 0.0, 0.0, 0.0, 0.0, 0.0, 0.0, 0.0, 0.0, 0.0, 0.0, 0.0, 0.0, 0.0, 0.0, 0.0, 0.0, 0.0, 0.0, 0.0, 0.0, 0.0, 0.0, 0.0, 0.0, 0.0, 0.0, 0.0, 0.0, 0.0, 0.0, 0.0, 0.0, 0.0, 0.0, 0.0, 0.0, 0.0, 0.0, 0.0, 0.0, 0.0, 0.0, 0.0, 0.0, 0.0, 0.0, 0.0, 0.0, 0.0, 0.0, 0.0, 0.0, 0.0, 0.0, 0.0, 0.0, 0.0, 0.0, 0.0, 0.0, 0.0, 0.0, 0.0, 0.0, 0.0, 0.0, 0.0, 0.0, 0.0, 0.0, 0.0, 0.0, 0.0, 0.0, 0.0, 0.0, 0.0, 0.0, 0.0, 0.0, 0.0, 0.0, 0.0, 0.0, 0.0, 0.0, 0.0, 0.0, 0.0, 0.0, 0.0, 0.0, 0.0, 0.0, 0.0, 0.0, 0.0, 0.0, 0.0, 0.0, 0.0, 0.0, 0.0, 0.0, 0.0, 0.0, 0.0, 0.0, 0.0, 0.0, 0.0, 0.0, 0.0, 0.0, 0.0, 0.0, 0.0, 0.0, 0.0, 0.0, 0.0, 0.0, 0.0, 0.0, 0.0, 0.0, 0.0, 0.0, 0.0, 0.0, 0.0, 0.0, 0.0, 0.0, 0.0, 0.0, 0.0, 0.0, 0.0, 0.0, 0.0, 0.0, 0.0, 0.0, 0.0, 0.0, 0.0, 0.0, 0.0, 0.0, 0.0, 0.0, 0.0, 0.0, 0.0, 0.0, 0.0, 0.0, 0.0, 0.0, 0.0, 0.0, 0.0, 0.0, 0.0, 0.0, 0.0, 0.0, 0.0, 0.0, 0.0, 0.0, 0.0, 0.0, 0.0, 0.0, 0.0, 0.0, 0.0, 0.0, 0.0, 0.0, 0.0, 0.0, 0.0, 0.0, 0.0, 0.0, 0.0, 0.0, 0.0, 0.0, 0.0, 0.0, 0.0, 0.0, 0.0, 0.0, 0.0, 0.0, 0.0, 0.0, 0.0, 0.0, 0.0, 0.0, 0.0, 0.0, 0.0, 0.0, 0.0, 0.0, 0.0, 0.0, 0.0, 0.0, 0.0, 0.0, 0.0, 0.0, 0.0, 0.0, 0.0, 0.0, 0.0, 0.0, 0.0, 0.0, 0.0, 0.0, 0.0, 0.0, 0.0, 0.0, 0.0, 0.0, 0.0, 0.0, 0.0, 0.0, 0.0, 0.0, 0.0, 0.0, 0.0, 0.0, 0.0, 0.0, 0.0, 0.0, 0.0, 0.0, 0.0, 0.0, 0.0, 0.0, 0.0, 0.0, 0.0, 0.0, 0.0, 0.0, 0.0, 0.0, 0.0, 0.0, 0.0, 0.0, 0.0]\n"
          ]
        }
      ],
      "source": [
        "# Токенизация ('Заключение')\n",
        "conclusion_columns = [col for col in df3.columns if 'Заключение' in col]\n",
        "df3['conclusion_rows'] = [' '.join([str(row[df3.columns.get_loc(col)]) for col in conclusion_columns]) for row in df3.values]\n",
        "df3['conclusion_rows'] = [re.sub('\\[.*?\\]', '', dstr).replace('nan','').replace('_x000D_','').replace('\\n','') for dstr in df3['conclusion_rows']]\n",
        "conclusion_token = Tokenizer(num_words=400, filters='!\"#$%&()*+,-–—./:;<=>?@[\\]^_`{|}~\\t\\n\\xa0', lower=True, split=' ', oov_token='unknown', char_level=False)\n",
        "conclusion_token.fit_on_texts(df3['conclusion_rows'])\n",
        "df3['conclusion_index'] = conclusion_token.texts_to_sequences(df3['conclusion_rows'])\n",
        "df3['conclusion_bag'] = conclusion_token.sequences_to_matrix(df3['conclusion_index']).tolist()\n",
        "print(len(conclusion_token.word_index) + 1)\n",
        "print(conclusion_token.word_index)\n",
        "print(df3.loc[140,'conclusion_rows'])\n",
        "print(df3.loc[140,'conclusion_index'])\n",
        "print(df3.loc[140,'conclusion_bag'])"
      ]
    },
    {
      "cell_type": "code",
      "execution_count": 58,
      "metadata": {
        "id": "ZqKs4B657h1F",
        "colab": {
          "base_uri": "https://localhost:8080/"
        },
        "outputId": "33907e63-e3df-42d3-84e3-2a9d4aab2bf4"
      },
      "outputs": [
        {
          "output_type": "stream",
          "name": "stdout",
          "text": [
            "339\n",
            "{'unknown': 1, 'нет': 2, 'данных': 3, 'z00.0': 4, 'h52.1': 5, 'i11.9': 6, 'h52.2': 7, 'h52.0': 8, 'k29.3': 9, 'k29.5': 10, 'k29.6': 11, 'd25': 12, 'h90.3': 13, 'n60.2': 14, 'h74.1': 15, 'k29.8': 16, 'd25.9': 17, 'h53.0': 18, 'h91.1': 19, 'k26.7': 20, 'r73.9': 21, 'm42.1': 22, 'k86.1': 23, 'l40.0': 24, 'h90.4': 25, 'n70.9': 26, 'n83.2': 27, 'f06.6': 28, 'h25.0': 29, 'j45.9': 30, 'g90.9': 31, 'n80.0': 32, 'e11.8': 33, 'k80.2': 34, 'g90.8': 35, 'e11.9': 36, 'h11.0': 37, 'i25.8': 38, 'h66.1': 39, 'i25.9': 40, 'h26.9': 41, 'i83.9': 42, 'k40.9': 43, 'k29.7': 44, 'r25.1': 45, 't90.4': 46, 'f06.8': 47, 'i67.2': 48, 'z32.1': 49, 'k80.5': 50, 'e14.9': 51, 'g25.0': 52, 'j33.0': 53, 'i25.2': 54, 'd50.9': 55, 'h27.0': 56, 'h52.4': 57, 'h53.5': 58, 'n20.9': 59, 'k82.9': 60, 'k20': 61, 'h50.0': 62, 't94.0': 63, 'i11.0': 64, 'i49.9': 65, 'h47.2': 66, 'k26.9': 67, 'f60.3': 68, 'i25': 69, 'h40.1': 70, 'h50.1': 71, 'k81.1': 72, 'i67.9': 73, 'n86': 74, 'h02.4': 75, 'j42': 76, 'f10.3': 77, 'h01.0': 78, 'i49.8': 79, 'h35.0': 80, 'k29.9': 81, 'e66.0': 82, 'n84.1': 83, 'i67.8': 84, 'd86.0': 85, 'l80': 86, 'h25': 87, 'f07.0': 88, 'k29.4': 89, 's68.2': 90, 'i77.9': 91, 'i72.1': 92, 'i06.8': 93, 'l20.8': 94, 'l23.5': 95, 'f06.7': 96, 'n30.2': 97, 'k91.5': 98, 'h40.0': 99, 'n95.2': 100, 'i69.3': 101, 'l20.9': 102, 'n11.9': 103, 'h00.1': 104, 'k02.1': 105, 'k25.7': 106, 'h74.8': 107, 'e10.9': 108, 'j30.1': 109, 'n90.4': 110, 'h25.1': 111, 'j45.8': 112, 'e66.9': 113, 'j30.2': 114, 'k80.1': 115, 'l40.9': 116, 'h50.8': 117, 'k26.3': 118, 'd25.0': 119, 'i20.9': 120, 'f70.0': 121, 'i10': 122, 'h91.9': 123, 'e11': 124, 'j45.0': 125, 'k04.5': 126, 'h50.9': 127, 'm17.9': 128, 'h54.4': 129, 'h55': 130, 'h18.6': 131, 'j33': 132, 'i48.1': 133, 'f06.9': 134, 'b36.0': 135, 'c50.9': 136, 'c50.4': 137, 'g99.0': 138, 'n30.9': 139, 'k42.9': 140, 'j44.9': 141, 'i25.0': 142, 'j31.0': 143, 'q25.1': 144, 'h26.1': 145, 'e03.9': 146, 'd23.1': 147, 'd24': 148, 'i70': 149, 'h51.9': 150, 'k02.0': 151, 't92.2': 152, 'h90.1': 153, 'k50.9': 154, 't90.5': 155, 'm15.9': 156, 'k82.8': 157, 'n95.1': 158, 't93.4': 159, 'f20.0': 160, 'b35.6': 161, 'f98.5': 162, 'q12.0': 163, 'h40.9': 164, 'k86.9': 165, 'h66.9': 166, 'n88.0': 167, 'e66': 168, 'н27': 169, 'h66.3': 170, 'i44.4': 171, 'k83.8': 172, 'q13.0': 173, 'j37.1': 174, 't94': 175, 'j31': 176, 'e10': 177, 'h27.9': 178, 'n11.8': 179, 'i48': 180, 'n89.4': 181, 'h04.6': 182, 't90.0': 183, 'i42.9': 184, 'h83.8': 185, 'j38.2': 186, 'h80.1': 187, 'k31.7': 188, 'd22.1': 189, 'd18.0': 190, 'e10.8': 191, 'h11.1': 192, 'j30.4': 193, 'h11.9': 194, 'e14.8': 195, 'n76.1': 196, 'i70.0': 197, 'f10.2': 198, 'k40.2': 199, 'n81.2': 200, 'k25.9': 201, 'k81.9': 202, 'n28.1': 203, 'c53.9': 204, 'e80.4': 205, 't92.4': 206, 't90.2': 207, 'h66.2': 208, 'k21.9': 209, 'e78.1': 210, 't92.9': 211, 'l73.0': 212, 'l74.0': 213, 'h17.8': 214, 'n73.9': 215, 'h17.1': 216, 'j35.8': 217, 'i34.1': 218, 'h30': 219, 'i34.9': 220, 'i05.9': 221, 'k76.0': 222, 'e14': 223, 'j45': 224, 'h31.0': 225, 'm51.1': 226, 'h53.9': 227, 'l30.0': 228, 'g25.1': 229, 'h33.5': 230, 'j32.0': 231, 'h02.0': 232, 'h60.8': 233, 'h90.8': 234, 'h65.3': 235, 'h34.8': 236, 'e06.3': 237, 'n60.1': 238, 's94.8': 239, 'b35.2': 240, 'h54.1': 241, 'i49': 242, 'h52.5': 243, 'h33.0': 244, 'g96.9': 245, 's54.0': 246, 'f70': 247, 'h72.9': 248, 'q25.6': 249, 'l28.0': 250, 'i45.8': 251, 'i48.2': 252, 'i48.0': 253, 'i48.9': 254, 'n60.0': 255, 'h18.9': 256, 'g40.4': 257, 'f06.3': 258, 'j84.8': 259, 'e04.1': 260, 't90.9': 261, 'm86.6': 262, 'm05.9': 263, 'd13.0': 264, 'd16.0': 265, 'h26.2': 266, 'j30.3': 267, 'f92.9': 268, 'k76.9': 269, 'q10.0': 270, 'k26.5': 271, 'd37.1': 272, 'd13.4': 273, 'd33.4': 274, 'l23.8': 275, 'n90.9': 276, 'l95.9': 277, 'd31.9': 278, 'h61.8': 279, 'f60.9': 280, 'j35.0': 281, 'c71.0': 282, 'k76.6': 283, 't95.8': 284, 'f99': 285, 'c81.9': 286, 'g80.8': 287, 'g63.2': 288, 'm06.9': 289, 'i47.9': 290, 'j34.2': 291, 'b37.8': 292, 'i70.8': 293, 'k64.1': 294, 'j47': 295, 'g35': 296, 'к22.7': 297, 'g40.9': 298, 'i45.6': 299, 'h93.8': 300, 'k86.0': 301, 'j33.1': 302, 'g80.1': 303, 'q44.6': 304, 'g12.1': 305, 'h93.0': 306, 'f10.7': 307, 'd35.2': 308, 's51.9': 309, 'i66.9': 310, 'f41.0': 311, 'j37.0': 312, 'k43.6': 313, 'k05.3': 314, 'l30.9': 315, 'l71.9': 316, 'k81.8': 317, 'j38.0': 318, 'g98': 319, 'l94.8': 320, 'i45.0': 321, 'r00.1': 322, 'o34.0': 323, 'f60.4': 324, 'l80.xx': 325, 'j40': 326, 'h02.2': 327, 'h43.2': 328, 'i12.9': 329, 'k43.9': 330, 'd33.2': 331, 'd33.0': 332, 'f60.8': 333, 'f71.0': 334, 'n30.8': 335, 'h90.6': 336, 'i67.4': 337, 'h73.9': 338}\n",
            "Нет данных Нет данных Нет данных Нет данных Нет данных Нет данных Нет данных Нет данных Нет данных Нет данных Нет данных Нет данных Z00.0 Нет данных Нет данных Нет данных Нет данных Нет данных Нет данных Нет данных Нет данных Нет данных Нет данных Нет данных Нет данных Нет данных Нет данных Нет данных Нет данных Нет данных Нет данных Нет данных Нет данных Нет данных Нет данных Нет данных Нет данных Нет данных Нет данных Нет данных Нет данных Z00.0 Нет данных Нет данных Нет данных Нет данных Нет данных Нет данных Нет данных Нет данных Нет данных Нет данных Нет данных Z00.0 Нет данных Нет данных Нет данных Нет данных Нет данных Нет данных Нет данных Нет данных Нет данных Нет данных Нет данных Нет данных Нет данных Нет данных Нет данных Нет данных Нет данных Нет данных Нет данных Нет данных Нет данных Нет данных Нет данных Нет данных Нет данных Нет данных Нет данных Нет данных Нет данных Нет данных Нет данных Нет данных Нет данных Нет данных Нет данных Нет данных Нет данных Нет данных Z00.0 Нет данных Нет данных Нет данных Нет данных Нет данных Нет данных Нет данных Нет данных Нет данных Нет данных Нет данных Нет данных Нет данных Нет данных Нет данных Z00.0 Нет данных Нет данных Нет данных Нет данных Нет данных Нет данных Нет данных Нет данных Нет данных Нет данных Z00.0 Нет данных Нет данных Нет данных Нет данных Нет данных Нет данных Нет данных Нет данных Нет данных Нет данных Нет данных Z00.0 Нет данных Нет данных Нет данных Z00.0 Нет данных Нет данных Нет данных Нет данных Нет данных Нет данных Нет данных Нет данных Нет данных Нет данных Нет данных Нет данных Нет данных Нет данных Нет данных Нет данных Нет данных Нет данных Нет данных Нет данных Нет данных Нет данных Нет данных Нет данных Нет данных Нет данных Нет данных Нет данных Нет данных Нет данных Нет данных Нет данных Нет данных Нет данных Нет данных Нет данных Нет данных Нет данных Нет данных Нет данных Нет данных Нет данных Нет данных Нет данных Нет данных Нет данных Нет данных Нет данных Нет данных Нет данных\n",
            "[2, 3, 2, 3, 2, 3, 2, 3, 2, 3, 2, 3, 2, 3, 2, 3, 2, 3, 2, 3, 2, 3, 2, 3, 4, 2, 3, 2, 3, 2, 3, 2, 3, 2, 3, 2, 3, 2, 3, 2, 3, 2, 3, 2, 3, 2, 3, 2, 3, 2, 3, 2, 3, 2, 3, 2, 3, 2, 3, 2, 3, 2, 3, 2, 3, 2, 3, 2, 3, 2, 3, 2, 3, 2, 3, 2, 3, 2, 3, 2, 3, 4, 2, 3, 2, 3, 2, 3, 2, 3, 2, 3, 2, 3, 2, 3, 2, 3, 2, 3, 2, 3, 2, 3, 4, 2, 3, 2, 3, 2, 3, 2, 3, 2, 3, 2, 3, 2, 3, 2, 3, 2, 3, 2, 3, 2, 3, 2, 3, 2, 3, 2, 3, 2, 3, 2, 3, 2, 3, 2, 3, 2, 3, 2, 3, 2, 3, 2, 3, 2, 3, 2, 3, 2, 3, 2, 3, 2, 3, 2, 3, 2, 3, 2, 3, 2, 3, 2, 3, 2, 3, 2, 3, 2, 3, 2, 3, 2, 3, 2, 3, 4, 2, 3, 2, 3, 2, 3, 2, 3, 2, 3, 2, 3, 2, 3, 2, 3, 2, 3, 2, 3, 2, 3, 2, 3, 2, 3, 2, 3, 2, 3, 4, 2, 3, 2, 3, 2, 3, 2, 3, 2, 3, 2, 3, 2, 3, 2, 3, 2, 3, 2, 3, 4, 2, 3, 2, 3, 2, 3, 2, 3, 2, 3, 2, 3, 2, 3, 2, 3, 2, 3, 2, 3, 2, 3, 4, 2, 3, 2, 3, 2, 3, 4, 2, 3, 2, 3, 2, 3, 2, 3, 2, 3, 2, 3, 2, 3, 2, 3, 2, 3, 2, 3, 2, 3, 2, 3, 2, 3, 2, 3, 2, 3, 2, 3, 2, 3, 2, 3, 2, 3, 2, 3, 2, 3, 2, 3, 2, 3, 2, 3, 2, 3, 2, 3, 2, 3, 2, 3, 2, 3, 2, 3, 2, 3, 2, 3, 2, 3, 2, 3, 2, 3, 2, 3, 2, 3, 2, 3, 2, 3, 2, 3, 2, 3, 2, 3, 2, 3, 2, 3, 2, 3, 2, 3, 2, 3, 2, 3, 2, 3, 2, 3]\n",
            "[0.0, 0.0, 1.0, 1.0, 1.0, 0.0, 0.0, 0.0, 0.0, 0.0, 0.0, 0.0, 0.0, 0.0, 0.0, 0.0, 0.0, 0.0, 0.0, 0.0, 0.0, 0.0, 0.0, 0.0, 0.0, 0.0, 0.0, 0.0, 0.0, 0.0, 0.0, 0.0, 0.0, 0.0, 0.0, 0.0, 0.0, 0.0, 0.0, 0.0, 0.0, 0.0, 0.0, 0.0, 0.0, 0.0, 0.0, 0.0, 0.0, 0.0, 0.0, 0.0, 0.0, 0.0, 0.0, 0.0, 0.0, 0.0, 0.0, 0.0, 0.0, 0.0, 0.0, 0.0, 0.0, 0.0, 0.0, 0.0, 0.0, 0.0, 0.0, 0.0, 0.0, 0.0, 0.0, 0.0, 0.0, 0.0, 0.0, 0.0, 0.0, 0.0, 0.0, 0.0, 0.0, 0.0, 0.0, 0.0, 0.0, 0.0, 0.0, 0.0, 0.0, 0.0, 0.0, 0.0, 0.0, 0.0, 0.0, 0.0]\n"
          ]
        }
      ],
      "source": [
        "# Токенизация (МКБ)\n",
        "mkb_columns = [col for col in df3.columns if 'МКБ' in col]\n",
        "df3['mkb_rows'] = [' '.join([str(row[df3.columns.get_loc(col)]) for col in mkb_columns]) for row in df3.values]\n",
        "df3['mkb_rows'] = [re.sub('\\[.*?\\]', '', dstr).replace('nan','').replace('_x000D_','').replace('\\n','') for dstr in df3['mkb_rows']]\n",
        "mkb_token = Tokenizer(num_words=100, filters='!\"#$%&()*+,-–—/:;<=>?@[\\]^_`{|}~\\t\\n\\xa0', lower=True, split=' ', oov_token='unknown', char_level=False)\n",
        "mkb_token.fit_on_texts(df3['mkb_rows'])\n",
        "df3['mkb_index'] = mkb_token.texts_to_sequences(df3['mkb_rows'])\n",
        "df3['mkb_bag'] = mkb_token.sequences_to_matrix(df3['mkb_index']).tolist()\n",
        "print(len(mkb_token.word_index) + 1)\n",
        "print(mkb_token.word_index)\n",
        "print(df3.loc[980,'mkb_rows'])\n",
        "print(df3.loc[980,'mkb_index'])\n",
        "print(df3.loc[980,'mkb_bag'])"
      ]
    },
    {
      "cell_type": "code",
      "execution_count": 65,
      "metadata": {
        "id": "b0jq85WTahIA"
      },
      "outputs": [],
      "source": [
        "# Функции подготовки датасета\n",
        "def extract_row_data(index, row):\n",
        "  # Извлечение и преобразование данных\n",
        "  age = [float(num_str) for num_str in row.loc['age_bag'].split(\",\")]\n",
        "  # Пол\n",
        "  sex = [float(num_str) for num_str in row.loc['sex_bag'].split(\",\")]\n",
        "  # ПсихОсвидетельствование\n",
        "  psxm = [float(num_str) for num_str in row.loc['psxm_bag'].split(\",\")]\n",
        "  # Токенайзер с диагнозами\n",
        "  diagnos = row.loc['diagnos_bag']\n",
        "  # Токенайзер с диагнозами\n",
        "  conclusion = row.loc['conclusion_bag']\n",
        "  # Токенайзер с кодами МКБ\n",
        "  mkb = row['mkb_bag']\n",
        "  #Токенайзер профессий\n",
        "  prof = row['prof_bag']\n",
        "  # Вредность\n",
        "  hazard = row['hazard_bag']\n",
        "  x_data1 = np.hstack([age, sex])\n",
        "  x_data2 = np.hstack([psxm])\n",
        "  x_data3 = np.hstack([diagnos, mkb, conclusion])\n",
        "  x_data4 = np.hstack([hazard])\n",
        "  x_data5 = np.hstack([prof])\n",
        "  y_data =  np.hstack([class_list.index(row.loc['ЗаключениеМК'])])\n",
        " # if y_data > 0 and index < 500:\n",
        " #   print(f\"y_data {y_data} {row.loc['ЗаключениеМК']}\")\n",
        " #   print(f\"x_data1 {x_data1[:30]} \")# {row.loc['diagnos_index']} {row.loc['diagnos_rows']}\")\n",
        " #   print(f\"x_data3 {x_data3[:30]} \")# {row.loc['diagnos_index']} {row.loc['diagnos_rows']}\")\n",
        " #   print(f\"x_data2 {x_data2[:30]} {row.loc['diagnos_index']} {row.loc['diagnos_rows']}\")\n",
        "  return x_data1, x_data2, x_data3, x_data4, x_data5, y_data\n",
        "\n",
        "# Создание общей выборки\n",
        "def construct_train_data():\n",
        "  x_data1 = []\n",
        "  x_data2 = []\n",
        "  x_data3 = []\n",
        "  x_data4 = []\n",
        "  x_data5 = []\n",
        "  y_data = []\n",
        "  num = 0\n",
        "  for index, row in df3.iterrows():\n",
        "    x1, x2, x3, x4, x5, y = extract_row_data(index, row)\n",
        "    num +=1\n",
        "    x_data1.append( x1)\n",
        "    x_data2.append( x2)\n",
        "    x_data3.append( x3)\n",
        "    x_data4.append( x4)\n",
        "    x_data5.append( x5)\n",
        "    y_data.append(y)\n",
        "  return np.array(x_data1), np.array(x_data2), np.array(x_data3), np.array(x_data4), np.array(x_data5), np.array(y_data)"
      ]
    },
    {
      "cell_type": "code",
      "source": [
        "# Разделение на выборки xTrain, yTrain\n",
        "print(df3.shape)\n",
        "x_data1, x_data2, x_data3, x_data4, x_data5, y_data = construct_train_data()\n",
        "# Перевод в one hot encoding\n",
        "y_data = utils.to_categorical(y_data, 3)\n",
        "print(f' x_data1 {x_data1.shape} \\t x_data2 {x_data2.shape} \\t x_data3 {x_data3.shape} \\t x_data4 {x_data4.shape}\\t x_data5 {x_data5.shape} \\t y_data {y_data.shape}')\n",
        "# Разбиение наборов на общую и тестовую выборки\n",
        "x_all1, x_test1, x_all2, x_test2, x_all3, x_test3, x_all4, x_test4, x_all5, x_test5, y_all, y_test = train_test_split(x_data1, x_data2, x_data3, x_data4, x_data5, y_data,\n",
        "                                                test_size=0.15, shuffle=True, random_state = 6)\n",
        "print(f' x_all1 {x_all1.shape} \\t x_all2 {x_all2.shape} \\t x_all3 {x_all3.shape} \\t x_all4 {x_all4.shape} \\t x_all5 {x_all5.shape} \\t y_all {y_all.shape}')\n",
        "print(f' x_test1 {x_test1.shape} \\t x_test2 {x_test2.shape} \\t x_test3 {x_test3.shape} \\t x_test4 {x_test4.shape} \\t x_test5 {x_test5.shape} \\t y_test {y_test.shape}')\n",
        "# Разбиваем данные на обучающую, валидационную и тестовую выборки для одного вектора\n",
        "x_train1, x_val1, x_train2, x_val2, x_train3, x_val3, x_train4, x_val4, x_train5, x_val5, y_train, y_val = train_test_split(x_all1, x_all2, x_all3, x_all4, x_all5, y_all,\n",
        "                                                test_size=0.15, shuffle=True, random_state = 6)\n",
        "print(f' x_val1 {x_val1.shape} \\t x_val2 {x_val2.shape} \\t x_val3 {x_val3.shape} \\t x_val4 {x_val4.shape} \\t x_val5 {x_val5.shape} \\t y_val {y_val.shape}')\n",
        "print(f' x_train1 {x_train1.shape} \\t x_train2 {x_train2.shape} \\t x_train3 {x_train3.shape} \\t x_train4 {x_train4.shape} \\t x_train5 {x_train5.shape} \\t y_train {y_train.shape}')"
      ],
      "metadata": {
        "colab": {
          "base_uri": "https://localhost:8080/"
        },
        "id": "8fU8WZnxMGfD",
        "outputId": "f2415a7a-3799-45b2-9194-8947c8664220"
      },
      "execution_count": 66,
      "outputs": [
        {
          "output_type": "stream",
          "name": "stdout",
          "text": [
            "(17665, 210)\n",
            " x_data1 (17665, 11) \t x_data2 (17665, 1) \t x_data3 (17665, 900) \t x_data4 (17665, 300)\t x_data5 (17665, 600) \t y_data (17665, 3)\n",
            " x_all1 (15015, 11) \t x_all2 (15015, 1) \t x_all3 (15015, 900) \t x_all4 (15015, 300) \t x_all5 (15015, 600) \t y_all (15015, 3)\n",
            " x_test1 (2650, 11) \t x_test2 (2650, 1) \t x_test3 (2650, 900) \t x_test4 (2650, 300) \t x_test5 (2650, 600) \t y_test (2650, 3)\n",
            " x_val1 (2253, 11) \t x_val2 (2253, 1) \t x_val3 (2253, 900) \t x_val4 (2253, 300) \t x_val5 (2253, 600) \t y_val (2253, 3)\n",
            " x_train1 (12762, 11) \t x_train2 (12762, 1) \t x_train3 (12762, 900) \t x_train4 (12762, 300) \t x_train5 (12762, 600) \t y_train (12762, 3)\n"
          ]
        }
      ]
    },
    {
      "cell_type": "code",
      "execution_count": 67,
      "metadata": {
        "id": "ZKXg1nTSj6dJ"
      },
      "outputs": [],
      "source": [
        "# Оценка модели на тестовых данных и построение графиков\n",
        "def evaluate_model(model, x_t, y_t):\n",
        "    # Оценка точности и потери на тестовых данных\n",
        "    evaluation = model.evaluate(x_t)\n",
        "    #loss, accuracy = model.evaluate(x_t)\n",
        "    loss = evaluation[0]\n",
        "    accuracy = evaluation[1]\n",
        "    print(\"Test Loss: {:.3f}\".format(loss))\n",
        "    print(\"Test Accuracy: {:.3f}\".format(accuracy))\n",
        "\n",
        "    # Получение прогноза модели на тестовых данных\n",
        "    y_p = model.predict(x_t)\n",
        "\n",
        "    # Преобразование one-hot кодирования прогноза в номер класса\n",
        "    y_p_classes = np.argmax(y_p, axis=1)\n",
        "    y_t_classes = np.argmax(y_t, axis=1)\n",
        "\n",
        "    # Построение матрицы ошибок\n",
        "    from sklearn.metrics import confusion_matrix\n",
        "    conf_matrix = confusion_matrix(y_t_classes, y_p_classes)\n",
        "\n",
        "    # Построение графика точности и потери с изменением количества эпох\n",
        "    epochs = range(1, len(history.history['accuracy']) + 1)\n",
        "    plt.plot(epochs, history.history['accuracy'], 'bo', label='Средняя абсолютная ошибка на обучающем наборе')\n",
        "    plt.plot(epochs, history.history['val_accuracy'], 'b', label='Средняя абсолютная ошибка на проверочном наборе')\n",
        "    plt.title('Training and validation accuracy')\n",
        "    plt.xlabel('Эпоха обучения')\n",
        "    plt.ylabel('Средняя абсолютная ошибка')\n",
        "    plt.legend()\n",
        "    plt.show()\n",
        "\n",
        "    plt.plot(epochs, history.history['loss'], 'bo', label='Training loss')\n",
        "    plt.plot(epochs, history.history['val_loss'], 'b', label='Validation loss')\n",
        "    plt.title('Training and validation loss')\n",
        "    plt.xlabel('Эпоха обучения')\n",
        "    plt.ylabel('Loss')\n",
        "    plt.legend()\n",
        "    plt.show()\n",
        "\n",
        "    # Построение диаграммы матрицы ошибок\n",
        "    import seaborn as sns\n",
        "    plt.figure(figsize=(8, 6))\n",
        "    sns.heatmap(conf_matrix, annot=True, fmt='d', cmap='Blues',\n",
        "                xticklabels=class_list,\n",
        "                yticklabels=class_list)\n",
        "    plt.title('Матрица предсказаний')\n",
        "    plt.xlabel('Предсказано')\n",
        "    plt.ylabel('Верно')\n",
        "    plt.show()\n",
        "\n",
        "# Вывод предсказанных и верных значений\n",
        "def Print_Predict(model, x_t, y_t):\n",
        "  y_p = model.predict(x_t)\n",
        "  y_p_classes = np.argmax(y_p, axis=1)\n",
        "  y_t_classes = np.argmax(y_t, axis=1)\n",
        "  correct_preds = (y_p_classes == y_t_classes)\n",
        "  t = f = 0\n",
        "  for i in range(len(y_p)):\n",
        "    if y_p_classes[i] > 0 or y_t_classes[i] > 0:\n",
        "      print(' Предсказанный класс:', y_p_classes[i], '| Верный класс:', y_t_classes[i], '| Прогноз:', 'ВЕРНО' if (correct_preds[i]) else 'НЕВЕРНО')\n",
        "      if (correct_preds[i]):\n",
        "        t+=1\n",
        "      else:\n",
        "        f+=1\n",
        "  accuracy = sum(correct_preds)/len(correct_preds)\n",
        "  print('Точность на тестовом наборе: {:.2f}% из {} значений. Верно {} Неверно {}'.format(accuracy*100, len(y_p), t, f))"
      ]
    },
    {
      "cell_type": "code",
      "source": [
        "# Объединение векторов для  модели с одним входным вектором\n",
        "x_train = np.hstack((x_train1, x_train2, x_train3, x_train4, x_train5))\n",
        "x_val = np.hstack((x_val1, x_val2, x_val3, x_val4, x_val5))\n",
        "x_test = np.hstack((x_test1, x_test2, x_test3, x_test4, x_test5))"
      ],
      "metadata": {
        "id": "yKgEwLiXz-UI"
      },
      "execution_count": 68,
      "outputs": []
    },
    {
      "cell_type": "code",
      "source": [
        "# Создание модели\n",
        "model = Sequential()\n",
        "model.add(Dense(units=128, activation='relu', input_shape=(x_train.shape[1],)))\n",
        "model.add(Dropout(0.3))\n",
        "model.add(Dense(units=32, activation='relu'))\n",
        "model.add(Dropout(0.3))\n",
        "model.add(Dense(units=3, activation='softmax'))\n",
        "model.compile(loss='categorical_crossentropy', optimizer='adam', metrics=['accuracy'])\n",
        "history = model.fit(x_train, y_train, epochs=120, batch_size=128, validation_data=(x_val, y_val))"
      ],
      "metadata": {
        "colab": {
          "base_uri": "https://localhost:8080/"
        },
        "id": "PL1DiBNKs1Az",
        "outputId": "4a5e6e7e-e333-43f7-83d4-b68571f62915"
      },
      "execution_count": 69,
      "outputs": [
        {
          "output_type": "stream",
          "name": "stdout",
          "text": [
            "Epoch 1/120\n",
            "100/100 [==============================] - 2s 7ms/step - loss: 0.1680 - accuracy: 0.9633 - val_loss: 0.0033 - val_accuracy: 0.9996\n",
            "Epoch 2/120\n",
            "100/100 [==============================] - 1s 7ms/step - loss: 0.0039 - accuracy: 0.9998 - val_loss: 0.0023 - val_accuracy: 0.9996\n",
            "Epoch 3/120\n",
            "100/100 [==============================] - 1s 8ms/step - loss: 0.0025 - accuracy: 0.9998 - val_loss: 0.0019 - val_accuracy: 0.9996\n",
            "Epoch 4/120\n",
            "100/100 [==============================] - 1s 7ms/step - loss: 0.0014 - accuracy: 0.9998 - val_loss: 0.0012 - val_accuracy: 0.9996\n",
            "Epoch 5/120\n",
            "100/100 [==============================] - 1s 8ms/step - loss: 8.0901e-04 - accuracy: 0.9998 - val_loss: 8.7582e-04 - val_accuracy: 0.9996\n",
            "Epoch 6/120\n",
            "100/100 [==============================] - 1s 6ms/step - loss: 4.2650e-04 - accuracy: 0.9999 - val_loss: 6.2353e-04 - val_accuracy: 0.9996\n",
            "Epoch 7/120\n",
            "100/100 [==============================] - 1s 6ms/step - loss: 2.2283e-04 - accuracy: 1.0000 - val_loss: 8.7872e-04 - val_accuracy: 0.9996\n",
            "Epoch 8/120\n",
            "100/100 [==============================] - 1s 5ms/step - loss: 3.2766e-04 - accuracy: 0.9999 - val_loss: 3.2552e-04 - val_accuracy: 0.9996\n",
            "Epoch 9/120\n",
            "100/100 [==============================] - 1s 6ms/step - loss: 1.5525e-04 - accuracy: 1.0000 - val_loss: 4.2786e-04 - val_accuracy: 0.9996\n",
            "Epoch 10/120\n",
            "100/100 [==============================] - 1s 5ms/step - loss: 1.1868e-04 - accuracy: 1.0000 - val_loss: 6.5950e-04 - val_accuracy: 0.9996\n",
            "Epoch 11/120\n",
            "100/100 [==============================] - 1s 5ms/step - loss: 7.5102e-05 - accuracy: 1.0000 - val_loss: 6.4842e-04 - val_accuracy: 0.9996\n",
            "Epoch 12/120\n",
            "100/100 [==============================] - 1s 5ms/step - loss: 1.1587e-04 - accuracy: 1.0000 - val_loss: 5.3983e-04 - val_accuracy: 0.9996\n",
            "Epoch 13/120\n",
            "100/100 [==============================] - 1s 5ms/step - loss: 1.4377e-04 - accuracy: 1.0000 - val_loss: 4.1322e-04 - val_accuracy: 0.9996\n",
            "Epoch 14/120\n",
            "100/100 [==============================] - 1s 5ms/step - loss: 4.2001e-05 - accuracy: 1.0000 - val_loss: 5.3922e-04 - val_accuracy: 0.9996\n",
            "Epoch 15/120\n",
            "100/100 [==============================] - 1s 6ms/step - loss: 3.7433e-05 - accuracy: 1.0000 - val_loss: 6.1989e-04 - val_accuracy: 0.9996\n",
            "Epoch 16/120\n",
            "100/100 [==============================] - 1s 5ms/step - loss: 3.1365e-05 - accuracy: 1.0000 - val_loss: 6.5281e-04 - val_accuracy: 0.9996\n",
            "Epoch 17/120\n",
            "100/100 [==============================] - 1s 6ms/step - loss: 6.1863e-05 - accuracy: 1.0000 - val_loss: 8.2363e-04 - val_accuracy: 0.9996\n",
            "Epoch 18/120\n",
            "100/100 [==============================] - 1s 6ms/step - loss: 4.8825e-05 - accuracy: 1.0000 - val_loss: 2.4000e-04 - val_accuracy: 1.0000\n",
            "Epoch 19/120\n",
            "100/100 [==============================] - 1s 6ms/step - loss: 1.9557e-05 - accuracy: 1.0000 - val_loss: 2.6202e-04 - val_accuracy: 1.0000\n",
            "Epoch 20/120\n",
            "100/100 [==============================] - 1s 6ms/step - loss: 2.6996e-05 - accuracy: 1.0000 - val_loss: 8.4250e-05 - val_accuracy: 1.0000\n",
            "Epoch 21/120\n",
            "100/100 [==============================] - 1s 5ms/step - loss: 2.5412e-05 - accuracy: 1.0000 - val_loss: 1.1789e-04 - val_accuracy: 1.0000\n",
            "Epoch 22/120\n",
            "100/100 [==============================] - 1s 6ms/step - loss: 3.0873e-05 - accuracy: 1.0000 - val_loss: 2.5282e-05 - val_accuracy: 1.0000\n",
            "Epoch 23/120\n",
            "100/100 [==============================] - 1s 5ms/step - loss: 2.5570e-05 - accuracy: 1.0000 - val_loss: 1.4923e-04 - val_accuracy: 1.0000\n",
            "Epoch 24/120\n",
            "100/100 [==============================] - 1s 8ms/step - loss: 1.5722e-05 - accuracy: 1.0000 - val_loss: 1.8719e-04 - val_accuracy: 1.0000\n",
            "Epoch 25/120\n",
            "100/100 [==============================] - 1s 8ms/step - loss: 1.7408e-05 - accuracy: 1.0000 - val_loss: 2.1272e-04 - val_accuracy: 1.0000\n",
            "Epoch 26/120\n",
            "100/100 [==============================] - 1s 8ms/step - loss: 9.6302e-06 - accuracy: 1.0000 - val_loss: 2.4610e-04 - val_accuracy: 1.0000\n",
            "Epoch 27/120\n",
            "100/100 [==============================] - 1s 7ms/step - loss: 1.5888e-05 - accuracy: 1.0000 - val_loss: 2.9429e-04 - val_accuracy: 1.0000\n",
            "Epoch 28/120\n",
            "100/100 [==============================] - 1s 6ms/step - loss: 1.2157e-05 - accuracy: 1.0000 - val_loss: 3.1975e-04 - val_accuracy: 0.9996\n",
            "Epoch 29/120\n",
            "100/100 [==============================] - 1s 5ms/step - loss: 1.4434e-05 - accuracy: 1.0000 - val_loss: 2.8288e-04 - val_accuracy: 1.0000\n",
            "Epoch 30/120\n",
            "100/100 [==============================] - 1s 6ms/step - loss: 1.8470e-05 - accuracy: 1.0000 - val_loss: 3.0106e-04 - val_accuracy: 1.0000\n",
            "Epoch 31/120\n",
            "100/100 [==============================] - 1s 5ms/step - loss: 9.4827e-06 - accuracy: 1.0000 - val_loss: 3.0246e-04 - val_accuracy: 1.0000\n",
            "Epoch 32/120\n",
            "100/100 [==============================] - 1s 6ms/step - loss: 1.5669e-05 - accuracy: 1.0000 - val_loss: 2.7710e-04 - val_accuracy: 1.0000\n",
            "Epoch 33/120\n",
            "100/100 [==============================] - 1s 5ms/step - loss: 2.0194e-05 - accuracy: 1.0000 - val_loss: 7.0414e-05 - val_accuracy: 1.0000\n",
            "Epoch 34/120\n",
            "100/100 [==============================] - 1s 5ms/step - loss: 1.5854e-05 - accuracy: 1.0000 - val_loss: 6.9556e-05 - val_accuracy: 1.0000\n",
            "Epoch 35/120\n",
            "100/100 [==============================] - 1s 5ms/step - loss: 4.3141e-06 - accuracy: 1.0000 - val_loss: 9.1049e-05 - val_accuracy: 1.0000\n",
            "Epoch 36/120\n",
            "100/100 [==============================] - 1s 5ms/step - loss: 1.3672e-05 - accuracy: 1.0000 - val_loss: 1.2076e-04 - val_accuracy: 1.0000\n",
            "Epoch 37/120\n",
            "100/100 [==============================] - 1s 5ms/step - loss: 1.2438e-05 - accuracy: 1.0000 - val_loss: 1.4305e-04 - val_accuracy: 1.0000\n",
            "Epoch 38/120\n",
            "100/100 [==============================] - 1s 5ms/step - loss: 1.5226e-05 - accuracy: 1.0000 - val_loss: 1.4879e-04 - val_accuracy: 1.0000\n",
            "Epoch 39/120\n",
            "100/100 [==============================] - 1s 6ms/step - loss: 6.0158e-06 - accuracy: 1.0000 - val_loss: 2.0824e-04 - val_accuracy: 1.0000\n",
            "Epoch 40/120\n",
            "100/100 [==============================] - 1s 5ms/step - loss: 4.5373e-06 - accuracy: 1.0000 - val_loss: 2.2741e-04 - val_accuracy: 1.0000\n",
            "Epoch 41/120\n",
            "100/100 [==============================] - 1s 5ms/step - loss: 8.1227e-06 - accuracy: 1.0000 - val_loss: 1.0466e-04 - val_accuracy: 1.0000\n",
            "Epoch 42/120\n",
            "100/100 [==============================] - 1s 5ms/step - loss: 3.7115e-06 - accuracy: 1.0000 - val_loss: 1.1259e-04 - val_accuracy: 1.0000\n",
            "Epoch 43/120\n",
            "100/100 [==============================] - 1s 5ms/step - loss: 5.0865e-06 - accuracy: 1.0000 - val_loss: 9.5112e-05 - val_accuracy: 1.0000\n",
            "Epoch 44/120\n",
            "100/100 [==============================] - 1s 5ms/step - loss: 3.3148e-06 - accuracy: 1.0000 - val_loss: 1.1619e-04 - val_accuracy: 1.0000\n",
            "Epoch 45/120\n",
            "100/100 [==============================] - 1s 6ms/step - loss: 4.0090e-06 - accuracy: 1.0000 - val_loss: 1.4700e-04 - val_accuracy: 1.0000\n",
            "Epoch 46/120\n",
            "100/100 [==============================] - 1s 7ms/step - loss: 1.2282e-06 - accuracy: 1.0000 - val_loss: 1.5975e-04 - val_accuracy: 1.0000\n",
            "Epoch 47/120\n",
            "100/100 [==============================] - 1s 8ms/step - loss: 4.7442e-06 - accuracy: 1.0000 - val_loss: 2.1391e-04 - val_accuracy: 1.0000\n",
            "Epoch 48/120\n",
            "100/100 [==============================] - 1s 8ms/step - loss: 5.0156e-06 - accuracy: 1.0000 - val_loss: 2.0718e-04 - val_accuracy: 1.0000\n",
            "Epoch 49/120\n",
            "100/100 [==============================] - 1s 7ms/step - loss: 4.2077e-06 - accuracy: 1.0000 - val_loss: 2.1168e-04 - val_accuracy: 1.0000\n",
            "Epoch 50/120\n",
            "100/100 [==============================] - 1s 6ms/step - loss: 1.3134e-06 - accuracy: 1.0000 - val_loss: 2.3524e-04 - val_accuracy: 1.0000\n",
            "Epoch 51/120\n",
            "100/100 [==============================] - 1s 6ms/step - loss: 1.9166e-06 - accuracy: 1.0000 - val_loss: 2.5409e-04 - val_accuracy: 1.0000\n",
            "Epoch 52/120\n",
            "100/100 [==============================] - 1s 5ms/step - loss: 1.2452e-06 - accuracy: 1.0000 - val_loss: 2.5749e-04 - val_accuracy: 1.0000\n",
            "Epoch 53/120\n",
            "100/100 [==============================] - 1s 6ms/step - loss: 1.5933e-06 - accuracy: 1.0000 - val_loss: 2.5723e-04 - val_accuracy: 1.0000\n",
            "Epoch 54/120\n",
            "100/100 [==============================] - 1s 5ms/step - loss: 9.1570e-07 - accuracy: 1.0000 - val_loss: 2.7798e-04 - val_accuracy: 1.0000\n",
            "Epoch 55/120\n",
            "100/100 [==============================] - 1s 5ms/step - loss: 1.2409e-06 - accuracy: 1.0000 - val_loss: 2.8958e-04 - val_accuracy: 1.0000\n",
            "Epoch 56/120\n",
            "100/100 [==============================] - 1s 5ms/step - loss: 1.7703e-06 - accuracy: 1.0000 - val_loss: 2.9620e-04 - val_accuracy: 1.0000\n",
            "Epoch 57/120\n",
            "100/100 [==============================] - 1s 6ms/step - loss: 1.0740e-06 - accuracy: 1.0000 - val_loss: 2.9039e-04 - val_accuracy: 1.0000\n",
            "Epoch 58/120\n",
            "100/100 [==============================] - 1s 5ms/step - loss: 1.3212e-06 - accuracy: 1.0000 - val_loss: 2.9116e-04 - val_accuracy: 1.0000\n",
            "Epoch 59/120\n",
            "100/100 [==============================] - 1s 5ms/step - loss: 9.4963e-06 - accuracy: 1.0000 - val_loss: 3.6627e-04 - val_accuracy: 0.9996\n",
            "Epoch 60/120\n",
            "100/100 [==============================] - 1s 5ms/step - loss: 1.7904e-06 - accuracy: 1.0000 - val_loss: 2.6672e-04 - val_accuracy: 1.0000\n",
            "Epoch 61/120\n",
            "100/100 [==============================] - 1s 6ms/step - loss: 7.6921e-07 - accuracy: 1.0000 - val_loss: 2.9392e-04 - val_accuracy: 1.0000\n",
            "Epoch 62/120\n",
            "100/100 [==============================] - 1s 6ms/step - loss: 1.4781e-06 - accuracy: 1.0000 - val_loss: 3.9658e-04 - val_accuracy: 0.9996\n",
            "Epoch 63/120\n",
            "100/100 [==============================] - 1s 5ms/step - loss: 1.6584e-06 - accuracy: 1.0000 - val_loss: 4.4353e-04 - val_accuracy: 0.9996\n",
            "Epoch 64/120\n",
            "100/100 [==============================] - 1s 5ms/step - loss: 3.4602e-06 - accuracy: 1.0000 - val_loss: 2.5510e-04 - val_accuracy: 1.0000\n",
            "Epoch 65/120\n",
            "100/100 [==============================] - 0s 5ms/step - loss: 3.8007e-06 - accuracy: 1.0000 - val_loss: 1.2460e-05 - val_accuracy: 1.0000\n",
            "Epoch 66/120\n",
            "100/100 [==============================] - 1s 6ms/step - loss: 9.1072e-07 - accuracy: 1.0000 - val_loss: 1.9735e-05 - val_accuracy: 1.0000\n",
            "Epoch 67/120\n",
            "100/100 [==============================] - 1s 6ms/step - loss: 4.9713e-06 - accuracy: 1.0000 - val_loss: 5.7504e-06 - val_accuracy: 1.0000\n",
            "Epoch 68/120\n",
            "100/100 [==============================] - 1s 7ms/step - loss: 1.6359e-06 - accuracy: 1.0000 - val_loss: 8.8307e-06 - val_accuracy: 1.0000\n",
            "Epoch 69/120\n",
            "100/100 [==============================] - 1s 8ms/step - loss: 3.1309e-06 - accuracy: 1.0000 - val_loss: 5.9398e-04 - val_accuracy: 0.9996\n",
            "Epoch 70/120\n",
            "100/100 [==============================] - 1s 8ms/step - loss: 2.0177e-07 - accuracy: 1.0000 - val_loss: 6.1829e-04 - val_accuracy: 0.9996\n",
            "Epoch 71/120\n",
            "100/100 [==============================] - 1s 8ms/step - loss: 5.6181e-07 - accuracy: 1.0000 - val_loss: 5.2241e-04 - val_accuracy: 0.9996\n",
            "Epoch 72/120\n",
            "100/100 [==============================] - 1s 6ms/step - loss: 5.3366e-07 - accuracy: 1.0000 - val_loss: 5.4216e-04 - val_accuracy: 0.9996\n",
            "Epoch 73/120\n",
            "100/100 [==============================] - 1s 6ms/step - loss: 7.1875e-07 - accuracy: 1.0000 - val_loss: 6.2514e-04 - val_accuracy: 0.9996\n",
            "Epoch 74/120\n",
            "100/100 [==============================] - 1s 5ms/step - loss: 1.2462e-06 - accuracy: 1.0000 - val_loss: 1.7856e-04 - val_accuracy: 1.0000\n",
            "Epoch 75/120\n",
            "100/100 [==============================] - 1s 5ms/step - loss: 2.8844e-05 - accuracy: 1.0000 - val_loss: 8.0687e-06 - val_accuracy: 1.0000\n",
            "Epoch 76/120\n",
            "100/100 [==============================] - 1s 6ms/step - loss: 7.6428e-05 - accuracy: 0.9999 - val_loss: 1.5001e-05 - val_accuracy: 1.0000\n",
            "Epoch 77/120\n",
            "100/100 [==============================] - 1s 5ms/step - loss: 4.0272e-07 - accuracy: 1.0000 - val_loss: 1.8931e-05 - val_accuracy: 1.0000\n",
            "Epoch 78/120\n",
            "100/100 [==============================] - 1s 5ms/step - loss: 3.6411e-07 - accuracy: 1.0000 - val_loss: 2.2014e-05 - val_accuracy: 1.0000\n",
            "Epoch 79/120\n",
            "100/100 [==============================] - 1s 6ms/step - loss: 6.9001e-07 - accuracy: 1.0000 - val_loss: 2.9005e-05 - val_accuracy: 1.0000\n",
            "Epoch 80/120\n",
            "100/100 [==============================] - 1s 5ms/step - loss: 1.1300e-06 - accuracy: 1.0000 - val_loss: 3.8448e-05 - val_accuracy: 1.0000\n",
            "Epoch 81/120\n",
            "100/100 [==============================] - 1s 5ms/step - loss: 3.7734e-07 - accuracy: 1.0000 - val_loss: 5.5864e-05 - val_accuracy: 1.0000\n",
            "Epoch 82/120\n",
            "100/100 [==============================] - 1s 5ms/step - loss: 3.5439e-07 - accuracy: 1.0000 - val_loss: 6.7339e-05 - val_accuracy: 1.0000\n",
            "Epoch 83/120\n",
            "100/100 [==============================] - 1s 5ms/step - loss: 2.1466e-06 - accuracy: 1.0000 - val_loss: 1.3395e-05 - val_accuracy: 1.0000\n",
            "Epoch 84/120\n",
            "100/100 [==============================] - 1s 6ms/step - loss: 5.6310e-07 - accuracy: 1.0000 - val_loss: 2.0173e-05 - val_accuracy: 1.0000\n",
            "Epoch 85/120\n",
            "100/100 [==============================] - 1s 5ms/step - loss: 1.7810e-06 - accuracy: 1.0000 - val_loss: 2.3995e-06 - val_accuracy: 1.0000\n",
            "Epoch 86/120\n",
            "100/100 [==============================] - 1s 6ms/step - loss: 1.7504e-06 - accuracy: 1.0000 - val_loss: 5.3327e-06 - val_accuracy: 1.0000\n",
            "Epoch 87/120\n",
            "100/100 [==============================] - 1s 5ms/step - loss: 9.3063e-07 - accuracy: 1.0000 - val_loss: 1.0865e-05 - val_accuracy: 1.0000\n",
            "Epoch 88/120\n",
            "100/100 [==============================] - 1s 5ms/step - loss: 2.8735e-06 - accuracy: 1.0000 - val_loss: 1.2623e-04 - val_accuracy: 1.0000\n",
            "Epoch 89/120\n",
            "100/100 [==============================] - 1s 5ms/step - loss: 4.0878e-07 - accuracy: 1.0000 - val_loss: 8.2206e-05 - val_accuracy: 1.0000\n",
            "Epoch 90/120\n",
            "100/100 [==============================] - 1s 7ms/step - loss: 1.2260e-07 - accuracy: 1.0000 - val_loss: 8.8156e-05 - val_accuracy: 1.0000\n",
            "Epoch 91/120\n",
            "100/100 [==============================] - 1s 7ms/step - loss: 1.4840e-07 - accuracy: 1.0000 - val_loss: 9.1058e-05 - val_accuracy: 1.0000\n",
            "Epoch 92/120\n",
            "100/100 [==============================] - 1s 8ms/step - loss: 1.3594e-07 - accuracy: 1.0000 - val_loss: 7.8411e-05 - val_accuracy: 1.0000\n",
            "Epoch 93/120\n",
            "100/100 [==============================] - 1s 7ms/step - loss: 9.5831e-08 - accuracy: 1.0000 - val_loss: 8.1053e-05 - val_accuracy: 1.0000\n",
            "Epoch 94/120\n",
            "100/100 [==============================] - 1s 6ms/step - loss: 2.1791e-07 - accuracy: 1.0000 - val_loss: 9.1450e-05 - val_accuracy: 1.0000\n",
            "Epoch 95/120\n",
            "100/100 [==============================] - 1s 6ms/step - loss: 9.4962e-08 - accuracy: 1.0000 - val_loss: 9.5118e-05 - val_accuracy: 1.0000\n",
            "Epoch 96/120\n",
            "100/100 [==============================] - 1s 5ms/step - loss: 1.7096e-07 - accuracy: 1.0000 - val_loss: 9.2978e-05 - val_accuracy: 1.0000\n",
            "Epoch 97/120\n",
            "100/100 [==============================] - 1s 5ms/step - loss: 1.1381e-06 - accuracy: 1.0000 - val_loss: 5.4558e-05 - val_accuracy: 1.0000\n",
            "Epoch 98/120\n",
            "100/100 [==============================] - 1s 5ms/step - loss: 7.6236e-07 - accuracy: 1.0000 - val_loss: 1.1312e-05 - val_accuracy: 1.0000\n",
            "Epoch 99/120\n",
            "100/100 [==============================] - 1s 5ms/step - loss: 1.0988e-07 - accuracy: 1.0000 - val_loss: 6.8095e-06 - val_accuracy: 1.0000\n",
            "Epoch 100/120\n",
            "100/100 [==============================] - 0s 5ms/step - loss: 1.0903e-07 - accuracy: 1.0000 - val_loss: 7.7246e-06 - val_accuracy: 1.0000\n",
            "Epoch 101/120\n",
            "100/100 [==============================] - 1s 6ms/step - loss: 2.8264e-07 - accuracy: 1.0000 - val_loss: 1.5849e-05 - val_accuracy: 1.0000\n",
            "Epoch 102/120\n",
            "100/100 [==============================] - 1s 5ms/step - loss: 4.5778e-08 - accuracy: 1.0000 - val_loss: 1.8055e-05 - val_accuracy: 1.0000\n",
            "Epoch 103/120\n",
            "100/100 [==============================] - 1s 5ms/step - loss: 6.0791e-07 - accuracy: 1.0000 - val_loss: 2.9400e-05 - val_accuracy: 1.0000\n",
            "Epoch 104/120\n",
            "100/100 [==============================] - 1s 6ms/step - loss: 4.3751e-07 - accuracy: 1.0000 - val_loss: 2.1085e-05 - val_accuracy: 1.0000\n",
            "Epoch 105/120\n",
            "100/100 [==============================] - 1s 6ms/step - loss: 9.9175e-08 - accuracy: 1.0000 - val_loss: 2.8368e-05 - val_accuracy: 1.0000\n",
            "Epoch 106/120\n",
            "100/100 [==============================] - 1s 6ms/step - loss: 6.5749e-07 - accuracy: 1.0000 - val_loss: 5.3380e-05 - val_accuracy: 1.0000\n",
            "Epoch 107/120\n",
            "100/100 [==============================] - 1s 5ms/step - loss: 2.1003e-07 - accuracy: 1.0000 - val_loss: 7.5844e-05 - val_accuracy: 1.0000\n",
            "Epoch 108/120\n",
            "100/100 [==============================] - 1s 6ms/step - loss: 3.8997e-08 - accuracy: 1.0000 - val_loss: 8.0567e-05 - val_accuracy: 1.0000\n",
            "Epoch 109/120\n",
            "100/100 [==============================] - 1s 5ms/step - loss: 4.1425e-08 - accuracy: 1.0000 - val_loss: 9.6246e-05 - val_accuracy: 1.0000\n",
            "Epoch 110/120\n",
            "100/100 [==============================] - 1s 5ms/step - loss: 5.7968e-08 - accuracy: 1.0000 - val_loss: 1.0327e-04 - val_accuracy: 1.0000\n",
            "Epoch 111/120\n",
            "100/100 [==============================] - 1s 5ms/step - loss: 5.8388e-08 - accuracy: 1.0000 - val_loss: 1.0018e-04 - val_accuracy: 1.0000\n",
            "Epoch 112/120\n",
            "100/100 [==============================] - 1s 7ms/step - loss: 4.5514e-08 - accuracy: 1.0000 - val_loss: 9.3964e-05 - val_accuracy: 1.0000\n",
            "Epoch 113/120\n",
            "100/100 [==============================] - 1s 8ms/step - loss: 1.6963e-08 - accuracy: 1.0000 - val_loss: 9.6722e-05 - val_accuracy: 1.0000\n",
            "Epoch 114/120\n",
            "100/100 [==============================] - 1s 8ms/step - loss: 4.2788e-08 - accuracy: 1.0000 - val_loss: 1.0283e-04 - val_accuracy: 1.0000\n",
            "Epoch 115/120\n",
            "100/100 [==============================] - 1s 7ms/step - loss: 3.6438e-07 - accuracy: 1.0000 - val_loss: 1.3594e-04 - val_accuracy: 1.0000\n",
            "Epoch 116/120\n",
            "100/100 [==============================] - 1s 7ms/step - loss: 2.7742e-08 - accuracy: 1.0000 - val_loss: 1.3962e-04 - val_accuracy: 1.0000\n",
            "Epoch 117/120\n",
            "100/100 [==============================] - 1s 6ms/step - loss: 2.1702e-07 - accuracy: 1.0000 - val_loss: 4.9479e-05 - val_accuracy: 1.0000\n",
            "Epoch 118/120\n",
            "100/100 [==============================] - 1s 6ms/step - loss: 1.4075e-07 - accuracy: 1.0000 - val_loss: 3.6019e-05 - val_accuracy: 1.0000\n",
            "Epoch 119/120\n",
            "100/100 [==============================] - 1s 6ms/step - loss: 2.2716e-08 - accuracy: 1.0000 - val_loss: 3.6877e-05 - val_accuracy: 1.0000\n",
            "Epoch 120/120\n",
            "100/100 [==============================] - 1s 5ms/step - loss: 1.0374e-07 - accuracy: 1.0000 - val_loss: 4.0351e-05 - val_accuracy: 1.0000\n"
          ]
        }
      ]
    },
    {
      "cell_type": "code",
      "source": [
        "# Вывод результатов обучения с одним входным вектором\n",
        "Print_Predict(model, x_test, y_test)\n",
        "evaluate_model(model, x_test, y_test)"
      ],
      "metadata": {
        "colab": {
          "base_uri": "https://localhost:8080/",
          "height": 1000
        },
        "id": "R6a-RuCGV05c",
        "outputId": "b981b34d-bb4d-4e03-d575-7a6cafa9f049"
      },
      "execution_count": 70,
      "outputs": [
        {
          "output_type": "stream",
          "name": "stdout",
          "text": [
            "83/83 [==============================] - 0s 1ms/step\n",
            " Предсказанный класс: 1 | Верный класс: 1 | Прогноз: ВЕРНО\n",
            " Предсказанный класс: 1 | Верный класс: 1 | Прогноз: ВЕРНО\n",
            " Предсказанный класс: 1 | Верный класс: 1 | Прогноз: ВЕРНО\n",
            " Предсказанный класс: 1 | Верный класс: 1 | Прогноз: ВЕРНО\n",
            " Предсказанный класс: 1 | Верный класс: 1 | Прогноз: ВЕРНО\n",
            " Предсказанный класс: 1 | Верный класс: 1 | Прогноз: ВЕРНО\n",
            " Предсказанный класс: 1 | Верный класс: 1 | Прогноз: ВЕРНО\n",
            " Предсказанный класс: 1 | Верный класс: 1 | Прогноз: ВЕРНО\n",
            " Предсказанный класс: 1 | Верный класс: 1 | Прогноз: ВЕРНО\n",
            " Предсказанный класс: 1 | Верный класс: 1 | Прогноз: ВЕРНО\n",
            " Предсказанный класс: 1 | Верный класс: 1 | Прогноз: ВЕРНО\n",
            " Предсказанный класс: 1 | Верный класс: 1 | Прогноз: ВЕРНО\n",
            " Предсказанный класс: 1 | Верный класс: 1 | Прогноз: ВЕРНО\n",
            " Предсказанный класс: 1 | Верный класс: 1 | Прогноз: ВЕРНО\n",
            " Предсказанный класс: 1 | Верный класс: 1 | Прогноз: ВЕРНО\n",
            " Предсказанный класс: 1 | Верный класс: 1 | Прогноз: ВЕРНО\n",
            " Предсказанный класс: 1 | Верный класс: 1 | Прогноз: ВЕРНО\n",
            " Предсказанный класс: 1 | Верный класс: 1 | Прогноз: ВЕРНО\n",
            " Предсказанный класс: 1 | Верный класс: 1 | Прогноз: ВЕРНО\n",
            " Предсказанный класс: 1 | Верный класс: 1 | Прогноз: ВЕРНО\n",
            " Предсказанный класс: 1 | Верный класс: 1 | Прогноз: ВЕРНО\n",
            " Предсказанный класс: 1 | Верный класс: 1 | Прогноз: ВЕРНО\n",
            " Предсказанный класс: 1 | Верный класс: 1 | Прогноз: ВЕРНО\n",
            " Предсказанный класс: 1 | Верный класс: 1 | Прогноз: ВЕРНО\n",
            " Предсказанный класс: 1 | Верный класс: 1 | Прогноз: ВЕРНО\n",
            " Предсказанный класс: 1 | Верный класс: 1 | Прогноз: ВЕРНО\n",
            " Предсказанный класс: 1 | Верный класс: 1 | Прогноз: ВЕРНО\n",
            " Предсказанный класс: 1 | Верный класс: 1 | Прогноз: ВЕРНО\n",
            " Предсказанный класс: 1 | Верный класс: 1 | Прогноз: ВЕРНО\n",
            " Предсказанный класс: 1 | Верный класс: 1 | Прогноз: ВЕРНО\n",
            " Предсказанный класс: 1 | Верный класс: 1 | Прогноз: ВЕРНО\n",
            " Предсказанный класс: 1 | Верный класс: 1 | Прогноз: ВЕРНО\n",
            " Предсказанный класс: 1 | Верный класс: 1 | Прогноз: ВЕРНО\n",
            " Предсказанный класс: 1 | Верный класс: 1 | Прогноз: ВЕРНО\n",
            " Предсказанный класс: 1 | Верный класс: 1 | Прогноз: ВЕРНО\n",
            " Предсказанный класс: 1 | Верный класс: 1 | Прогноз: ВЕРНО\n",
            " Предсказанный класс: 1 | Верный класс: 1 | Прогноз: ВЕРНО\n",
            " Предсказанный класс: 1 | Верный класс: 1 | Прогноз: ВЕРНО\n",
            " Предсказанный класс: 1 | Верный класс: 1 | Прогноз: ВЕРНО\n",
            " Предсказанный класс: 1 | Верный класс: 1 | Прогноз: ВЕРНО\n",
            " Предсказанный класс: 1 | Верный класс: 1 | Прогноз: ВЕРНО\n",
            " Предсказанный класс: 1 | Верный класс: 1 | Прогноз: ВЕРНО\n",
            " Предсказанный класс: 1 | Верный класс: 1 | Прогноз: ВЕРНО\n",
            " Предсказанный класс: 1 | Верный класс: 1 | Прогноз: ВЕРНО\n",
            " Предсказанный класс: 1 | Верный класс: 1 | Прогноз: ВЕРНО\n",
            " Предсказанный класс: 1 | Верный класс: 1 | Прогноз: ВЕРНО\n",
            " Предсказанный класс: 1 | Верный класс: 1 | Прогноз: ВЕРНО\n",
            " Предсказанный класс: 1 | Верный класс: 1 | Прогноз: ВЕРНО\n",
            " Предсказанный класс: 1 | Верный класс: 1 | Прогноз: ВЕРНО\n",
            " Предсказанный класс: 1 | Верный класс: 1 | Прогноз: ВЕРНО\n",
            " Предсказанный класс: 1 | Верный класс: 1 | Прогноз: ВЕРНО\n",
            " Предсказанный класс: 1 | Верный класс: 1 | Прогноз: ВЕРНО\n",
            " Предсказанный класс: 1 | Верный класс: 1 | Прогноз: ВЕРНО\n",
            " Предсказанный класс: 1 | Верный класс: 1 | Прогноз: ВЕРНО\n",
            " Предсказанный класс: 1 | Верный класс: 1 | Прогноз: ВЕРНО\n",
            " Предсказанный класс: 1 | Верный класс: 1 | Прогноз: ВЕРНО\n",
            " Предсказанный класс: 1 | Верный класс: 1 | Прогноз: ВЕРНО\n",
            " Предсказанный класс: 1 | Верный класс: 1 | Прогноз: ВЕРНО\n",
            " Предсказанный класс: 1 | Верный класс: 1 | Прогноз: ВЕРНО\n",
            " Предсказанный класс: 1 | Верный класс: 1 | Прогноз: ВЕРНО\n",
            " Предсказанный класс: 1 | Верный класс: 1 | Прогноз: ВЕРНО\n",
            " Предсказанный класс: 1 | Верный класс: 1 | Прогноз: ВЕРНО\n",
            " Предсказанный класс: 1 | Верный класс: 1 | Прогноз: ВЕРНО\n",
            " Предсказанный класс: 1 | Верный класс: 1 | Прогноз: ВЕРНО\n",
            " Предсказанный класс: 1 | Верный класс: 1 | Прогноз: ВЕРНО\n",
            " Предсказанный класс: 1 | Верный класс: 1 | Прогноз: ВЕРНО\n",
            " Предсказанный класс: 1 | Верный класс: 1 | Прогноз: ВЕРНО\n",
            " Предсказанный класс: 1 | Верный класс: 1 | Прогноз: ВЕРНО\n",
            " Предсказанный класс: 1 | Верный класс: 1 | Прогноз: ВЕРНО\n",
            " Предсказанный класс: 1 | Верный класс: 1 | Прогноз: ВЕРНО\n",
            " Предсказанный класс: 1 | Верный класс: 1 | Прогноз: ВЕРНО\n",
            " Предсказанный класс: 1 | Верный класс: 1 | Прогноз: ВЕРНО\n",
            " Предсказанный класс: 1 | Верный класс: 1 | Прогноз: ВЕРНО\n",
            " Предсказанный класс: 1 | Верный класс: 1 | Прогноз: ВЕРНО\n",
            " Предсказанный класс: 1 | Верный класс: 1 | Прогноз: ВЕРНО\n",
            " Предсказанный класс: 1 | Верный класс: 1 | Прогноз: ВЕРНО\n",
            " Предсказанный класс: 1 | Верный класс: 1 | Прогноз: ВЕРНО\n",
            " Предсказанный класс: 1 | Верный класс: 1 | Прогноз: ВЕРНО\n",
            " Предсказанный класс: 1 | Верный класс: 1 | Прогноз: ВЕРНО\n",
            " Предсказанный класс: 1 | Верный класс: 1 | Прогноз: ВЕРНО\n",
            " Предсказанный класс: 1 | Верный класс: 1 | Прогноз: ВЕРНО\n",
            " Предсказанный класс: 1 | Верный класс: 1 | Прогноз: ВЕРНО\n",
            " Предсказанный класс: 1 | Верный класс: 1 | Прогноз: ВЕРНО\n",
            " Предсказанный класс: 1 | Верный класс: 1 | Прогноз: ВЕРНО\n",
            " Предсказанный класс: 1 | Верный класс: 1 | Прогноз: ВЕРНО\n",
            " Предсказанный класс: 1 | Верный класс: 1 | Прогноз: ВЕРНО\n",
            " Предсказанный класс: 1 | Верный класс: 1 | Прогноз: ВЕРНО\n",
            " Предсказанный класс: 1 | Верный класс: 1 | Прогноз: ВЕРНО\n",
            " Предсказанный класс: 1 | Верный класс: 1 | Прогноз: ВЕРНО\n",
            " Предсказанный класс: 1 | Верный класс: 1 | Прогноз: ВЕРНО\n",
            " Предсказанный класс: 1 | Верный класс: 1 | Прогноз: ВЕРНО\n",
            " Предсказанный класс: 1 | Верный класс: 1 | Прогноз: ВЕРНО\n",
            " Предсказанный класс: 1 | Верный класс: 1 | Прогноз: ВЕРНО\n",
            " Предсказанный класс: 1 | Верный класс: 1 | Прогноз: ВЕРНО\n",
            " Предсказанный класс: 1 | Верный класс: 1 | Прогноз: ВЕРНО\n",
            " Предсказанный класс: 1 | Верный класс: 1 | Прогноз: ВЕРНО\n",
            " Предсказанный класс: 1 | Верный класс: 1 | Прогноз: ВЕРНО\n",
            " Предсказанный класс: 1 | Верный класс: 1 | Прогноз: ВЕРНО\n",
            " Предсказанный класс: 1 | Верный класс: 1 | Прогноз: ВЕРНО\n",
            " Предсказанный класс: 1 | Верный класс: 1 | Прогноз: ВЕРНО\n",
            " Предсказанный класс: 1 | Верный класс: 1 | Прогноз: ВЕРНО\n",
            " Предсказанный класс: 1 | Верный класс: 1 | Прогноз: ВЕРНО\n",
            " Предсказанный класс: 1 | Верный класс: 1 | Прогноз: ВЕРНО\n",
            " Предсказанный класс: 1 | Верный класс: 1 | Прогноз: ВЕРНО\n",
            " Предсказанный класс: 1 | Верный класс: 1 | Прогноз: ВЕРНО\n",
            " Предсказанный класс: 0 | Верный класс: 1 | Прогноз: НЕВЕРНО\n",
            " Предсказанный класс: 1 | Верный класс: 1 | Прогноз: ВЕРНО\n",
            " Предсказанный класс: 1 | Верный класс: 1 | Прогноз: ВЕРНО\n",
            " Предсказанный класс: 1 | Верный класс: 1 | Прогноз: ВЕРНО\n",
            " Предсказанный класс: 1 | Верный класс: 1 | Прогноз: ВЕРНО\n",
            " Предсказанный класс: 1 | Верный класс: 1 | Прогноз: ВЕРНО\n",
            " Предсказанный класс: 1 | Верный класс: 1 | Прогноз: ВЕРНО\n",
            " Предсказанный класс: 1 | Верный класс: 1 | Прогноз: ВЕРНО\n",
            " Предсказанный класс: 1 | Верный класс: 1 | Прогноз: ВЕРНО\n",
            " Предсказанный класс: 1 | Верный класс: 1 | Прогноз: ВЕРНО\n",
            " Предсказанный класс: 1 | Верный класс: 1 | Прогноз: ВЕРНО\n",
            " Предсказанный класс: 1 | Верный класс: 1 | Прогноз: ВЕРНО\n",
            " Предсказанный класс: 1 | Верный класс: 1 | Прогноз: ВЕРНО\n",
            " Предсказанный класс: 1 | Верный класс: 1 | Прогноз: ВЕРНО\n",
            " Предсказанный класс: 1 | Верный класс: 1 | Прогноз: ВЕРНО\n",
            " Предсказанный класс: 1 | Верный класс: 1 | Прогноз: ВЕРНО\n",
            " Предсказанный класс: 1 | Верный класс: 1 | Прогноз: ВЕРНО\n",
            " Предсказанный класс: 1 | Верный класс: 1 | Прогноз: ВЕРНО\n",
            " Предсказанный класс: 1 | Верный класс: 1 | Прогноз: ВЕРНО\n",
            " Предсказанный класс: 1 | Верный класс: 1 | Прогноз: ВЕРНО\n",
            " Предсказанный класс: 1 | Верный класс: 1 | Прогноз: ВЕРНО\n",
            " Предсказанный класс: 1 | Верный класс: 1 | Прогноз: ВЕРНО\n",
            " Предсказанный класс: 1 | Верный класс: 1 | Прогноз: ВЕРНО\n",
            " Предсказанный класс: 1 | Верный класс: 1 | Прогноз: ВЕРНО\n",
            " Предсказанный класс: 1 | Верный класс: 1 | Прогноз: ВЕРНО\n",
            " Предсказанный класс: 1 | Верный класс: 1 | Прогноз: ВЕРНО\n",
            " Предсказанный класс: 1 | Верный класс: 1 | Прогноз: ВЕРНО\n",
            " Предсказанный класс: 1 | Верный класс: 1 | Прогноз: ВЕРНО\n",
            " Предсказанный класс: 1 | Верный класс: 1 | Прогноз: ВЕРНО\n",
            " Предсказанный класс: 1 | Верный класс: 1 | Прогноз: ВЕРНО\n",
            " Предсказанный класс: 1 | Верный класс: 1 | Прогноз: ВЕРНО\n",
            " Предсказанный класс: 1 | Верный класс: 1 | Прогноз: ВЕРНО\n",
            " Предсказанный класс: 1 | Верный класс: 1 | Прогноз: ВЕРНО\n",
            " Предсказанный класс: 1 | Верный класс: 1 | Прогноз: ВЕРНО\n",
            " Предсказанный класс: 1 | Верный класс: 1 | Прогноз: ВЕРНО\n",
            " Предсказанный класс: 1 | Верный класс: 1 | Прогноз: ВЕРНО\n",
            " Предсказанный класс: 1 | Верный класс: 1 | Прогноз: ВЕРНО\n",
            " Предсказанный класс: 1 | Верный класс: 1 | Прогноз: ВЕРНО\n",
            " Предсказанный класс: 0 | Верный класс: 1 | Прогноз: НЕВЕРНО\n",
            " Предсказанный класс: 1 | Верный класс: 1 | Прогноз: ВЕРНО\n",
            " Предсказанный класс: 1 | Верный класс: 1 | Прогноз: ВЕРНО\n",
            " Предсказанный класс: 1 | Верный класс: 1 | Прогноз: ВЕРНО\n",
            " Предсказанный класс: 1 | Верный класс: 1 | Прогноз: ВЕРНО\n",
            " Предсказанный класс: 1 | Верный класс: 1 | Прогноз: ВЕРНО\n",
            " Предсказанный класс: 1 | Верный класс: 1 | Прогноз: ВЕРНО\n",
            " Предсказанный класс: 1 | Верный класс: 1 | Прогноз: ВЕРНО\n",
            " Предсказанный класс: 1 | Верный класс: 1 | Прогноз: ВЕРНО\n",
            " Предсказанный класс: 1 | Верный класс: 1 | Прогноз: ВЕРНО\n",
            " Предсказанный класс: 1 | Верный класс: 1 | Прогноз: ВЕРНО\n",
            " Предсказанный класс: 1 | Верный класс: 1 | Прогноз: ВЕРНО\n",
            " Предсказанный класс: 1 | Верный класс: 1 | Прогноз: ВЕРНО\n",
            " Предсказанный класс: 1 | Верный класс: 1 | Прогноз: ВЕРНО\n",
            " Предсказанный класс: 1 | Верный класс: 1 | Прогноз: ВЕРНО\n",
            " Предсказанный класс: 1 | Верный класс: 1 | Прогноз: ВЕРНО\n",
            " Предсказанный класс: 1 | Верный класс: 1 | Прогноз: ВЕРНО\n",
            " Предсказанный класс: 1 | Верный класс: 1 | Прогноз: ВЕРНО\n",
            " Предсказанный класс: 1 | Верный класс: 1 | Прогноз: ВЕРНО\n",
            " Предсказанный класс: 1 | Верный класс: 1 | Прогноз: ВЕРНО\n",
            " Предсказанный класс: 1 | Верный класс: 1 | Прогноз: ВЕРНО\n",
            " Предсказанный класс: 1 | Верный класс: 1 | Прогноз: ВЕРНО\n",
            " Предсказанный класс: 1 | Верный класс: 1 | Прогноз: ВЕРНО\n",
            "Точность на тестовом наборе: 99.92% из 2650 значений. Верно 164 Неверно 2\n",
            "83/83 [==============================] - 0s 899us/step - loss: 0.0000e+00 - accuracy: 0.0000e+00\n",
            "Test Loss: 0.000\n",
            "Test Accuracy: 0.000\n",
            "83/83 [==============================] - 0s 1ms/step\n"
          ]
        },
        {
          "output_type": "display_data",
          "data": {
            "text/plain": [
              "<Figure size 640x480 with 1 Axes>"
            ],
            "image/png": "[encoded data removed]"
          },
          "metadata": {}
        },
        {
          "output_type": "display_data",
          "data": {
            "text/plain": [
              "<Figure size 640x480 with 1 Axes>"
            ],
            "image/png": "[encoded data removed]"
          },
          "metadata": {}
        },
        {
          "output_type": "display_data",
          "data": {
            "text/plain": [
              "<Figure size 800x600 with 2 Axes>"
            ],
            "image/png": "[encoded data removed]"
          },
          "metadata": {}
        }
      ]
    },
    {
      "cell_type": "markdown",
      "source": [
        "# Выводы\n",
        "* Ввиду того что задача создаваемой НС носит характер \"Рекомендательной системы\"\n",
        "по этому колонки \"ЗаключениеМК\" и колонок с \"МКБ\" для полноценного анализа не достаточно так как данные содержащиеся в этих колонках разбалансированны и мало информативны для рекомендации. \"НС\" тупо заучивает вместо анализа.\n",
        "\n",
        "* В колонке \"ЗаключениеМК\" надо рассматривать два класса \"Годен\" (для однозначных решений), и класс  'НуждаетсяВДообследовании' когда есть наличие каких либо отклонений.  Так как для рекомендации необходимо понимание самой рекомендации необходимо реализовать отсыл к заключениям специалистов которые обнаружили отклонения, что также небходимо при условии \"ограниченно годен\", необходимо понимание причины. При фомировании архитектуры НС для эффективности обучения следует расматривать столбцы с уже приобретёнными болезнями и явными диагнозами такие как:\n",
        "'Заключение', \"ЖалобыДополнение\" и тому подобных в виде отрицательных факторов 'диагноза', подавая их на отдельный вход вместе с колонками группы персона.\n",
        "\n",
        "* Так мы устраняем разбалансировку и даём вектор поиска патологий, но метод не будет работать если рассматривать профессии разных групп риска в одном поле.\n",
        "\n",
        "* Для более точной работы \"НС\" к примеру не желательно рассматривать музыканта в одном поле с шахтёром так как разные подходы к требованиям состояний здоровья. Так же будет ошибкой если отрицательный вывод для одной профессии по конкретному человеку запомнится системой и проявит себя отрицательно в ситуации для другой профессии на которую претендует этот человек где меньше требований к состоянию здоровья. Так для музыканта потеря руки не помешает стать композитором или учителем музыки а для юриста вообще из всех конечностей достаточно трёх пальцев. Для полноценного анлиза потребуется структуризация профессий с классификацией по группам  и кластеризацией по факторам риска ( описано выше во вкладке \"Классификация условий труда\").\n",
        "\n",
        "* **В этой \"НС\" надо рассматривать два класса \"Годен\" (для однозначных решений)\n",
        " и класс 'НуждаетсяВДообследовании'который в свою очередь будет выдавать класс специализации врача который  определил патологию**."
      ],
      "metadata": {
        "id": "jGeoRg36xNfU"
      }
    }
  ],
  "metadata": {
    "colab": {
      "collapsed_sections": [
        "8gwbrbmV-Th-",
        "wlQ2MAoAvZUy",
        "XnzlbvgQ8mLL",
        "IRXnHTWiLIZ8",
        "KEhcbKIDBa6s",
        "2hZ_oBptqmtF",
        "XHx20J3o2kMj"
      ],
      "provenance": [],
      "mount_file_id": "1LSPRVNb0fOuCEl39kefOhzZ2R7i0OvTn",
      "authorship_tag": "ABX9TyNtLZjiQRVjdbpL3ihBrJZy",
      "include_colab_link": true
    },
    "kernelspec": {
      "display_name": "Python 3",
      "name": "python3"
    },
    "language_info": {
      "name": "python"
    }
  },
  "nbformat": 4,
  "nbformat_minor": 0
}