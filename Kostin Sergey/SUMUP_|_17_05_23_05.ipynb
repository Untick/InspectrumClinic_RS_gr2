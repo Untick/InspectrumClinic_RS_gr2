{
  "nbformat": 4,
  "nbformat_minor": 0,
  "metadata": {
    "colab": {
      "provenance": [],
      "collapsed_sections": [
        "3lky7vTRrulm",
        "dZ7_pmtrsHMQ",
        "pVq5sVszvWO9",
        "W587hefWvkfq",
        "QJ1IyP552_cO"
      ],
      "authorship_tag": "ABX9TyOnUM3diQKeQnf640x18VTl",
      "include_colab_link": true
    },
    "kernelspec": {
      "name": "python3",
      "display_name": "Python 3"
    },
    "language_info": {
      "name": "python"
    }
  },
  "cells": [
    {
      "cell_type": "markdown",
      "metadata": {
        "id": "view-in-github",
        "colab_type": "text"
      },
      "source": [
        "<a href=\"https://colab.research.google.com/github/Untick/InspectrumClinic_RS_gr2/blob/Kostin-Sergey-folder/Kostin%20Sergey/SUMUP_%7C_17_05_23_05.ipynb\" target=\"_parent\"><img src=\"https://colab.research.google.com/assets/colab-badge.svg\" alt=\"Open In Colab\"/></a>"
      ]
    },
    {
      "cell_type": "markdown",
      "source": [
        "# TODO\n",
        "\n",
        "Основываясь на полученных данных после созвона и предыдущих попытках отбора данных алгоритм таков:\n",
        "1. Почистить данные общего вида ([DataGlobalClear.ipynb](https://colab.research.google.com/drive/1qKoFxu6-CF-X4Ier7bd1r_O4EZPTQhS1?usp=sharing))\n",
        "2. Почистить данные м/ж вида ([DataSexClear.ipynb](https://colab.research.google.com/drive/1lGpWVOsJv8JC9hlj_T8KeIxMclcXG8_e?usp=sharing))\n",
        "3. Токенизиовать данные ([DataToken.ipynb](https://colab.research.google.com/drive/13kiee2ZoYw_qhYAgDs5OGWtFpuA-7_E4?usp=sharing))\n",
        "\n",
        "Доп: первичная модель (будет в течение 24.05): [FirstModel.ipynb](https://colab.research.google.com/drive/10MQS-RTMzTiXkP8g7R1-2AAqjKeAPabr?usp=sharing)"
      ],
      "metadata": {
        "id": "3lky7vTRrulm"
      }
    },
    {
      "cell_type": "markdown",
      "source": [
        "## Чистка данных\n"
      ],
      "metadata": {
        "id": "dZ7_pmtrsHMQ"
      }
    },
    {
      "cell_type": "markdown",
      "source": [
        "### Описание"
      ],
      "metadata": {
        "id": "pVq5sVszvWO9"
      }
    },
    {
      "cell_type": "markdown",
      "source": [
        "1. Во-первых, есть список моментов, необходимых для обязательного сохранения:\n",
        "  * Пол\n",
        "  * Профессия\n",
        "  * МКБ10 (~30 шт) - *проверить и убедиться в кол-ве. Мб поиск по маске*\n",
        "  * Вред. факторы\n",
        "  * Представления (результаты работы специалистов) - *хз, чекнуть по столбцам*\n",
        "  * Заключение МК - *вообще в 3 столбцах (МК + Группа Здоровья)*\n",
        "  * (?) Возраст\n",
        "  \n",
        "  ![Untitled.png](data:image/png;base64,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)\n",
        "2. Сходу надо выпилить все строки, где есть пропуски по обязательным столбцам\n",
        "3. Во-вторых, в таблице овермного пустых столбцов. Столбцы с NaN = 1.00 выкинуть сразу же, чтобы потом даже не думать о них\n",
        "4. В-третьих, есть строки со смещением. В процессе ручной обработки они определялись по смещению в области МКБ - есть смысл уничтожить их тем же образом.\n",
        "5. База данных М/Ж => разбить на две части, обработать.\n",
        "  * Порог мужской заполненности: .245\n",
        "  * Порог женской заполненности: .235\n",
        "\n",
        "Исходя из заданных положений алгоритм видится следующим:"
      ],
      "metadata": {
        "id": "O0hmKhj2tmQx"
      }
    },
    {
      "cell_type": "markdown",
      "source": [
        "### DataGlobalClear.ipynb\n",
        "1. Определить названия (*) столбцов в required = [ ... ]\n",
        "2. Считать огромную таблицу\n",
        "3. Удалить все **row WHERE data[required] = NaN**\n",
        "4. Удалить все **col WHERE data[col].isna().sum() == height**\n",
        "5. Удалить все **col WHERE dtype[col] == (DateTime || Guid) <except: BIRTH>**\n",
        "6. Удалить все дубликаты **col WHERE col + 'Представление' == col + 1**\n",
        "7. Удалить все **row WHERE data['МКБ10'] !~ ['X0.0']**\n",
        "8. Разбить на две таблицы м/ж и сохранить их "
      ],
      "metadata": {
        "id": "4w8kMksNtgbs"
      }
    },
    {
      "cell_type": "markdown",
      "source": [
        "### DataSexClear.ipynb\n",
        "1. Считать субтаблицу\n",
        "2. (мб) Допроверка: задача на оптимизацию по соотношению заполненности. Текущие значения:\n",
        "  * Порог **мужской** заполненности: .245\n",
        "  * Порог **женской** заполненности: .235\n",
        "3. Подчистить таблицу на предмет слишком пустых столбцов. Опять, мб есть смысл отдавать предпочтение строкам с заполненными required* столбцами\n",
        "4. Дропнуть ненужные данные\n",
        "5. Сохранить финальные подчищенные таблицы\n",
        "6. Сохранить совмещённую таблицу. Подумать над способами слияния"
      ],
      "metadata": {
        "id": "SJ0fCXxqvY4z"
      }
    },
    {
      "cell_type": "markdown",
      "source": [
        "### DataToken.ipynb\n"
      ],
      "metadata": {
        "id": "1Cazk3hZfQgj"
      }
    },
    {
      "cell_type": "markdown",
      "source": [
        "## Токенизация"
      ],
      "metadata": {
        "id": "W587hefWvkfq"
      }
    },
    {
      "cell_type": "markdown",
      "source": [
        "### DataToken.ipynb\n",
        "1. Механизм токеназии прописан - осталось дофиксить его (как минимум возраст: 16~80 /-16.80).\n",
        "2. Попробовать два способа токенизации:\n",
        "  * Градиентное отклонение\n",
        "  * Дискретные вариации\n",
        "3. Токенизировать обе БД:\n",
        "  * Разделённую под 2 нейросети\n",
        "  * Слитую под одну большую"
      ],
      "metadata": {
        "id": "cwiFAQDuvcUp"
      }
    },
    {
      "cell_type": "markdown",
      "source": [
        "# Результаты работы"
      ],
      "metadata": {
        "id": "hRrmXOvYx8rp"
      }
    },
    {
      "cell_type": "markdown",
      "source": [
        "## Условия Эксплуатации"
      ],
      "metadata": {
        "id": "fTeoWe8RyjrM"
      }
    },
    {
      "cell_type": "markdown",
      "source": [
        "1. Допустимый возраст: от 16 до 100 лет\n",
        "  - Т.к. возраст токенихируется по (x - 16) / 100\n",
        "\n",
        "2. Профессии строго ограничены..."
      ],
      "metadata": {
        "id": "bqjDek-JyBZO"
      }
    },
    {
      "cell_type": "markdown",
      "source": [
        "## Отчёт\n",
        "\n",
        "Все исходники и процесс работы: [Drive](https://drive.google.com/drive/folders/12TmS1tPdmDcobT9MqX7_-esouBiHMZay?usp=share_link)"
      ],
      "metadata": {
        "id": "Aw5ONaA0ylqJ"
      }
    },
    {
      "cell_type": "markdown",
      "source": [
        "### [DataGlobalClear.ipynb](https://colab.research.google.com/drive/1qKoFxu6-CF-X4Ier7bd1r_O4EZPTQhS1?usp=sharing)"
      ],
      "metadata": {
        "id": "QJ1IyP552_cO"
      }
    },
    {
      "cell_type": "markdown",
      "source": [
        "(+) Считать огромную таблицу\n",
        "\n",
        "\n",
        "(+) Определить названия (*) столбцов в required = [ ... ]\n",
        "\n",
        "(+) Определить названия (*) столбцов в forbidden = [ ... ]\n",
        "\n",
        "**Работа с прототипом**\n",
        "\n",
        "{\n",
        "\n",
        "(+) Сохранить все required, удалив forbidden\n",
        "\n",
        "(+) Удалить все **col WHERE data[col].isna().sum() == height**\n",
        "  - Взято > .99\n",
        "\n",
        "(+) Удалить все **col WHERE dtype[col] == (DateTime || Guid) <except: BIRTH>**\n",
        "\n",
        "(+) Удалить все дубликаты **col WHERE col + 'Представление' == col + 1**\n",
        "\n",
        "}\n",
        "\n",
        "**Удаление аномалий**\n",
        "\n",
        "{\n",
        "\n",
        "(+) Удалить все **row WHERE data['МКБ10'] !~ ['X0.0']**\n",
        "  - Вместо заданного паттерна исполльзовался массив аномалий (хардкод из прошлых исследований)\n",
        "\n",
        "(+) Удалить все **row WHERE data[required] = NaN**\n",
        "  - Без МКБ10 - иначе пустая таблица\n",
        "\n",
        "}\n",
        "\n",
        "(+) Разбить на две таблицы м/ж и сохранить их "
      ],
      "metadata": {
        "id": "MezEtxwUh8FI"
      }
    },
    {
      "cell_type": "markdown",
      "source": [
        "### [DataSexClear.ipynb](https://colab.research.google.com/drive/1lGpWVOsJv8JC9hlj_T8KeIxMclcXG8_e?usp=sharing)"
      ],
      "metadata": {
        "id": "dhfxjfWc13y8"
      }
    },
    {
      "cell_type": "markdown",
      "source": [
        "(+) Считать субтаблицу\n",
        "\n",
        "(+) Подчистить таблицу на предмет слишком пустых столбцов. Чистка от гендерных врачей.\n",
        "\n",
        "(+) Допроверка: задача на оптимизацию по соотношению заполненности. Текущие значения:\n",
        "  - Через функцию best\n",
        "\n",
        "(+) Дропнуть ненужные данные\n",
        "\n",
        "(+) Сохранить финальные подчищенные таблицы\n",
        "\n",
        "(-) Сохранить совмещённую таблицу. Подумать над способами слияния\n",
        "  - Слияние невозможно"
      ],
      "metadata": {
        "id": "nqP7ryB1h4kr"
      }
    },
    {
      "cell_type": "markdown",
      "source": [
        "### [DataToken.ipynb](https://colab.research.google.com/drive/13kiee2ZoYw_qhYAgDs5OGWtFpuA-7_E4?usp=sharing)\n"
      ],
      "metadata": {
        "id": "C9gavJuRfWsi"
      }
    },
    {
      "cell_type": "markdown",
      "source": [
        "(+) Три способа токенизации:\n",
        "  * Градиентное отклонение\n",
        "  * Дискретные вариации\n",
        "  * Смешанное\n",
        "\n",
        "(+) Дочистка столбцов:\n",
        "  - 'КлиентПолПредставление'\n",
        "  - 'Заключение'\n",
        "  - 'ЗаключениеМК'\n",
        "  - 'ДиспансернаяГруппа'\n",
        "  - 'ДиспансернаяГруппаПредставление'\n",
        "  - 'Диагноз_ЗначениеПредставление'\n",
        "\n",
        "(+) Парсеры по типам данных\n",
        "\n",
        "(+) float64 -> x\n",
        "\n",
        "(+) bool -> 0|1\n",
        "\n",
        "(+) datetime64[ns] -> now() - x\n",
        "\n",
        "(+) object\n",
        "  - Через proc_handler, если есть\n",
        "  - Через Gradient распределение иначе\n",
        "\n",
        "(+) Обе БД токенизировать: М/Ж"
      ],
      "metadata": {
        "id": "h8qTa-h_f6MT"
      }
    }
  ]
}