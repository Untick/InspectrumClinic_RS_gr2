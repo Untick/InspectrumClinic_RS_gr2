{
  "cells": [
    {
      "cell_type": "markdown",
      "metadata": {
        "id": "view-in-github",
        "colab_type": "text"
      },
      "source": [
        "<a href=\"https://colab.research.google.com/github/Untick/InspectrumClinic_RS_gr2/blob/main/Yurkov%20Vladimir/Untitled2.ipynb\" target=\"_parent\"><img src=\"https://colab.research.google.com/assets/colab-badge.svg\" alt=\"Open In Colab\"/></a>"
      ]
    },
    {
      "cell_type": "markdown",
      "metadata": {
        "id": "0DOWxZHo-rKv"
      },
      "source": [
        "#Preparations"
      ]
    },
    {
      "cell_type": "markdown",
      "metadata": {
        "id": "7gqe5IcI564K"
      },
      "source": [
        "Импортируем модули"
      ]
    },
    {
      "cell_type": "code",
      "execution_count": 1,
      "metadata": {
        "id": "-8PJMnHHMYl2"
      },
      "outputs": [],
      "source": [
        "import pandas as pd\n",
        "import numpy as np\n",
        "import gdown\n",
        "import matplotlib.pyplot as plt\n",
        "import re\n",
        "import tensorflow as tf\n",
        "from tensorflow import keras\n",
        "from tensorflow.keras.preprocessing.text import Tokenizer"
      ]
    },
    {
      "cell_type": "markdown",
      "metadata": {
        "id": "2j-GR4BO586l"
      },
      "source": [
        "Загружаем данные и преобразуем их в pandas dataframe"
      ]
    },
    {
      "cell_type": "code",
      "execution_count": 4,
      "metadata": {
        "colab": {
          "base_uri": "https://localhost:8080/",
          "height": 629
        },
        "id": "SWzCwkkXMcW4",
        "outputId": "1eba4c21-aa07-48d3-f4e1-c267f6b0c3a0"
      },
      "outputs": [
        {
          "output_type": "stream",
          "name": "stderr",
          "text": [
            "Downloading...\n",
            "From: https://storage.yandexcloud.net/terratraineeship/23_InspectrumClinic_RS/datasets/%D0%92%D0%B5%D1%81%D1%8C%20%D0%BF%D0%B5%D1%80%D0%B8%D0%BE%D0%B4.csv\n",
            "To: /content/data.csv\n",
            "100%|██████████| 23.0M/23.0M [00:00<00:00, 34.9MB/s]\n"
          ]
        },
        {
          "output_type": "execute_result",
          "data": {
            "text/plain": [
              "          ДокументПрохождениеМедосмотра                                Клиент  \\\n",
              "0  79292387-652a-11eb-80e7-0cc47aab8067  dca98d4e-2098-11ea-80d6-0cc47aab8067   \n",
              "1  78efe744-9c36-11eb-80eb-0cc47aab8067  b35fb2bb-9c35-11eb-80eb-0cc47aab8067   \n",
              "2  131f68ef-9c2d-11eb-80eb-0cc47aab8067  f8c98e39-9c2c-11eb-80eb-0cc47aab8067   \n",
              "3  941e4b56-9c2d-11eb-80eb-0cc47aab8067  7ea364a1-9c2d-11eb-80eb-0cc47aab8067   \n",
              "4  5a24806c-f033-11eb-80f6-0cc47aab8067  52eb6a7d-c1ab-11ea-80dd-0cc47aab8067   \n",
              "\n",
              "    КлиентДатаРождения КлиентПол КлиентПолПредставление  \\\n",
              "0  1989-12-31T00:00:00   Женский                Женский   \n",
              "1  1998-07-20T00:00:00   Женский                Женский   \n",
              "2  2002-01-04T00:00:00   Женский                Женский   \n",
              "3  1991-08-26T00:00:00   Женский                Женский   \n",
              "4  1999-03-21T00:00:00   Женский                Женский   \n",
              "\n",
              "  ДатаЗавершенияМедосмотра  ТипМедосмотра ТипМедосмотраПредставление  \\\n",
              "0      2021-02-02T00:00:00  Периодический              Периодический   \n",
              "1      2021-04-13T00:00:00  Периодический              Периодический   \n",
              "2      2021-04-13T00:00:00  Периодический              Периодический   \n",
              "3      2021-04-13T00:00:00  Периодический              Периодический   \n",
              "4      2021-07-29T00:00:00  Периодический              Периодический   \n",
              "\n",
              "   ПсихОсвидетельствование                            Контрагент  ...  \\\n",
              "0                    False  3d01b2d6-ae08-11e9-80cf-0cc47aab8067  ...   \n",
              "1                    False  3d01b2d6-ae08-11e9-80cf-0cc47aab8067  ...   \n",
              "2                    False  3d01b2d6-ae08-11e9-80cf-0cc47aab8067  ...   \n",
              "3                    False  3d01b2d6-ae08-11e9-80cf-0cc47aab8067  ...   \n",
              "4                    False  3d01b2d6-ae08-11e9-80cf-0cc47aab8067  ...   \n",
              "\n",
              "  ХирургНеИсп3_Диагноз_ЗначениеПредставлениеПредставление ХирургНеИсп3_МКБ101  \\\n",
              "0                                                NaN                      NaN   \n",
              "1                                                NaN                      NaN   \n",
              "2                                                NaN                      NaN   \n",
              "3                                                NaN                      NaN   \n",
              "4                                                NaN                      NaN   \n",
              "\n",
              "  ХирургНеИсп3_МКБ102 ХирургНеИсп3_МКБ103 ЭКГНеИсп1_МКБ101 ЭКГНеИсп1_МКБ102  \\\n",
              "0                 NaN                 NaN              NaN              NaN   \n",
              "1                 NaN                 NaN              NaN              NaN   \n",
              "2                 NaN                 NaN              NaN              NaN   \n",
              "3                 NaN                 NaN              NaN              NaN   \n",
              "4                 NaN                 NaN              NaN              NaN   \n",
              "\n",
              "  ЭКГНеИсп2_МКБ101 ЭКГНеИсп2_МКБ102 Эндоскопия1_МКБ101 Эндоскопия1_МКБ102  \n",
              "0              NaN              NaN                NaN                NaN  \n",
              "1              NaN              NaN                NaN                NaN  \n",
              "2              NaN              NaN                NaN                NaN  \n",
              "3              NaN              NaN                NaN                NaN  \n",
              "4              NaN              NaN                NaN                NaN  \n",
              "\n",
              "[5 rows x 289 columns]"
            ],
            "text/html": [
              "\n",
              "  <div id=\"df-453267b7-4d94-463c-abca-d384c57f88c8\">\n",
              "    <div class=\"colab-df-container\">\n",
              "      <div>\n",
              "<style scoped>\n",
              "    .dataframe tbody tr th:only-of-type {\n",
              "        vertical-align: middle;\n",
              "    }\n",
              "\n",
              "    .dataframe tbody tr th {\n",
              "        vertical-align: top;\n",
              "    }\n",
              "\n",
              "    .dataframe thead th {\n",
              "        text-align: right;\n",
              "    }\n",
              "</style>\n",
              "<table border=\"1\" class=\"dataframe\">\n",
              "  <thead>\n",
              "    <tr style=\"text-align: right;\">\n",
              "      <th></th>\n",
              "      <th>ДокументПрохождениеМедосмотра</th>\n",
              "      <th>Клиент</th>\n",
              "      <th>КлиентДатаРождения</th>\n",
              "      <th>КлиентПол</th>\n",
              "      <th>КлиентПолПредставление</th>\n",
              "      <th>ДатаЗавершенияМедосмотра</th>\n",
              "      <th>ТипМедосмотра</th>\n",
              "      <th>ТипМедосмотраПредставление</th>\n",
              "      <th>ПсихОсвидетельствование</th>\n",
              "      <th>Контрагент</th>\n",
              "      <th>...</th>\n",
              "      <th>ХирургНеИсп3_Диагноз_ЗначениеПредставлениеПредставление</th>\n",
              "      <th>ХирургНеИсп3_МКБ101</th>\n",
              "      <th>ХирургНеИсп3_МКБ102</th>\n",
              "      <th>ХирургНеИсп3_МКБ103</th>\n",
              "      <th>ЭКГНеИсп1_МКБ101</th>\n",
              "      <th>ЭКГНеИсп1_МКБ102</th>\n",
              "      <th>ЭКГНеИсп2_МКБ101</th>\n",
              "      <th>ЭКГНеИсп2_МКБ102</th>\n",
              "      <th>Эндоскопия1_МКБ101</th>\n",
              "      <th>Эндоскопия1_МКБ102</th>\n",
              "    </tr>\n",
              "  </thead>\n",
              "  <tbody>\n",
              "    <tr>\n",
              "      <th>0</th>\n",
              "      <td>79292387-652a-11eb-80e7-0cc47aab8067</td>\n",
              "      <td>dca98d4e-2098-11ea-80d6-0cc47aab8067</td>\n",
              "      <td>1989-12-31T00:00:00</td>\n",
              "      <td>Женский</td>\n",
              "      <td>Женский</td>\n",
              "      <td>2021-02-02T00:00:00</td>\n",
              "      <td>Периодический</td>\n",
              "      <td>Периодический</td>\n",
              "      <td>False</td>\n",
              "      <td>3d01b2d6-ae08-11e9-80cf-0cc47aab8067</td>\n",
              "      <td>...</td>\n",
              "      <td>NaN</td>\n",
              "      <td>NaN</td>\n",
              "      <td>NaN</td>\n",
              "      <td>NaN</td>\n",
              "      <td>NaN</td>\n",
              "      <td>NaN</td>\n",
              "      <td>NaN</td>\n",
              "      <td>NaN</td>\n",
              "      <td>NaN</td>\n",
              "      <td>NaN</td>\n",
              "    </tr>\n",
              "    <tr>\n",
              "      <th>1</th>\n",
              "      <td>78efe744-9c36-11eb-80eb-0cc47aab8067</td>\n",
              "      <td>b35fb2bb-9c35-11eb-80eb-0cc47aab8067</td>\n",
              "      <td>1998-07-20T00:00:00</td>\n",
              "      <td>Женский</td>\n",
              "      <td>Женский</td>\n",
              "      <td>2021-04-13T00:00:00</td>\n",
              "      <td>Периодический</td>\n",
              "      <td>Периодический</td>\n",
              "      <td>False</td>\n",
              "      <td>3d01b2d6-ae08-11e9-80cf-0cc47aab8067</td>\n",
              "      <td>...</td>\n",
              "      <td>NaN</td>\n",
              "      <td>NaN</td>\n",
              "      <td>NaN</td>\n",
              "      <td>NaN</td>\n",
              "      <td>NaN</td>\n",
              "      <td>NaN</td>\n",
              "      <td>NaN</td>\n",
              "      <td>NaN</td>\n",
              "      <td>NaN</td>\n",
              "      <td>NaN</td>\n",
              "    </tr>\n",
              "    <tr>\n",
              "      <th>2</th>\n",
              "      <td>131f68ef-9c2d-11eb-80eb-0cc47aab8067</td>\n",
              "      <td>f8c98e39-9c2c-11eb-80eb-0cc47aab8067</td>\n",
              "      <td>2002-01-04T00:00:00</td>\n",
              "      <td>Женский</td>\n",
              "      <td>Женский</td>\n",
              "      <td>2021-04-13T00:00:00</td>\n",
              "      <td>Периодический</td>\n",
              "      <td>Периодический</td>\n",
              "      <td>False</td>\n",
              "      <td>3d01b2d6-ae08-11e9-80cf-0cc47aab8067</td>\n",
              "      <td>...</td>\n",
              "      <td>NaN</td>\n",
              "      <td>NaN</td>\n",
              "      <td>NaN</td>\n",
              "      <td>NaN</td>\n",
              "      <td>NaN</td>\n",
              "      <td>NaN</td>\n",
              "      <td>NaN</td>\n",
              "      <td>NaN</td>\n",
              "      <td>NaN</td>\n",
              "      <td>NaN</td>\n",
              "    </tr>\n",
              "    <tr>\n",
              "      <th>3</th>\n",
              "      <td>941e4b56-9c2d-11eb-80eb-0cc47aab8067</td>\n",
              "      <td>7ea364a1-9c2d-11eb-80eb-0cc47aab8067</td>\n",
              "      <td>1991-08-26T00:00:00</td>\n",
              "      <td>Женский</td>\n",
              "      <td>Женский</td>\n",
              "      <td>2021-04-13T00:00:00</td>\n",
              "      <td>Периодический</td>\n",
              "      <td>Периодический</td>\n",
              "      <td>False</td>\n",
              "      <td>3d01b2d6-ae08-11e9-80cf-0cc47aab8067</td>\n",
              "      <td>...</td>\n",
              "      <td>NaN</td>\n",
              "      <td>NaN</td>\n",
              "      <td>NaN</td>\n",
              "      <td>NaN</td>\n",
              "      <td>NaN</td>\n",
              "      <td>NaN</td>\n",
              "      <td>NaN</td>\n",
              "      <td>NaN</td>\n",
              "      <td>NaN</td>\n",
              "      <td>NaN</td>\n",
              "    </tr>\n",
              "    <tr>\n",
              "      <th>4</th>\n",
              "      <td>5a24806c-f033-11eb-80f6-0cc47aab8067</td>\n",
              "      <td>52eb6a7d-c1ab-11ea-80dd-0cc47aab8067</td>\n",
              "      <td>1999-03-21T00:00:00</td>\n",
              "      <td>Женский</td>\n",
              "      <td>Женский</td>\n",
              "      <td>2021-07-29T00:00:00</td>\n",
              "      <td>Периодический</td>\n",
              "      <td>Периодический</td>\n",
              "      <td>False</td>\n",
              "      <td>3d01b2d6-ae08-11e9-80cf-0cc47aab8067</td>\n",
              "      <td>...</td>\n",
              "      <td>NaN</td>\n",
              "      <td>NaN</td>\n",
              "      <td>NaN</td>\n",
              "      <td>NaN</td>\n",
              "      <td>NaN</td>\n",
              "      <td>NaN</td>\n",
              "      <td>NaN</td>\n",
              "      <td>NaN</td>\n",
              "      <td>NaN</td>\n",
              "      <td>NaN</td>\n",
              "    </tr>\n",
              "  </tbody>\n",
              "</table>\n",
              "<p>5 rows × 289 columns</p>\n",
              "</div>\n",
              "      <button class=\"colab-df-convert\" onclick=\"convertToInteractive('df-453267b7-4d94-463c-abca-d384c57f88c8')\"\n",
              "              title=\"Convert this dataframe to an interactive table.\"\n",
              "              style=\"display:none;\">\n",
              "        \n",
              "  <svg xmlns=\"http://www.w3.org/2000/svg\" height=\"24px\"viewBox=\"0 0 24 24\"\n",
              "       width=\"24px\">\n",
              "    <path d=\"M0 0h24v24H0V0z\" fill=\"none\"/>\n",
              "    <path d=\"M18.56 5.44l.94 2.06.94-2.06 2.06-.94-2.06-.94-.94-2.06-.94 2.06-2.06.94zm-11 1L8.5 8.5l.94-2.06 2.06-.94-2.06-.94L8.5 2.5l-.94 2.06-2.06.94zm10 10l.94 2.06.94-2.06 2.06-.94-2.06-.94-.94-2.06-.94 2.06-2.06.94z\"/><path d=\"M17.41 7.96l-1.37-1.37c-.4-.4-.92-.59-1.43-.59-.52 0-1.04.2-1.43.59L10.3 9.45l-7.72 7.72c-.78.78-.78 2.05 0 2.83L4 21.41c.39.39.9.59 1.41.59.51 0 1.02-.2 1.41-.59l7.78-7.78 2.81-2.81c.8-.78.8-2.07 0-2.86zM5.41 20L4 18.59l7.72-7.72 1.47 1.35L5.41 20z\"/>\n",
              "  </svg>\n",
              "      </button>\n",
              "      \n",
              "  <style>\n",
              "    .colab-df-container {\n",
              "      display:flex;\n",
              "      flex-wrap:wrap;\n",
              "      gap: 12px;\n",
              "    }\n",
              "\n",
              "    .colab-df-convert {\n",
              "      background-color: #E8F0FE;\n",
              "      border: none;\n",
              "      border-radius: 50%;\n",
              "      cursor: pointer;\n",
              "      display: none;\n",
              "      fill: #1967D2;\n",
              "      height: 32px;\n",
              "      padding: 0 0 0 0;\n",
              "      width: 32px;\n",
              "    }\n",
              "\n",
              "    .colab-df-convert:hover {\n",
              "      background-color: #E2EBFA;\n",
              "      box-shadow: 0px 1px 2px rgba(60, 64, 67, 0.3), 0px 1px 3px 1px rgba(60, 64, 67, 0.15);\n",
              "      fill: #174EA6;\n",
              "    }\n",
              "\n",
              "    [theme=dark] .colab-df-convert {\n",
              "      background-color: #3B4455;\n",
              "      fill: #D2E3FC;\n",
              "    }\n",
              "\n",
              "    [theme=dark] .colab-df-convert:hover {\n",
              "      background-color: #434B5C;\n",
              "      box-shadow: 0px 1px 3px 1px rgba(0, 0, 0, 0.15);\n",
              "      filter: drop-shadow(0px 1px 2px rgba(0, 0, 0, 0.3));\n",
              "      fill: #FFFFFF;\n",
              "    }\n",
              "  </style>\n",
              "\n",
              "      <script>\n",
              "        const buttonEl =\n",
              "          document.querySelector('#df-453267b7-4d94-463c-abca-d384c57f88c8 button.colab-df-convert');\n",
              "        buttonEl.style.display =\n",
              "          google.colab.kernel.accessAllowed ? 'block' : 'none';\n",
              "\n",
              "        async function convertToInteractive(key) {\n",
              "          const element = document.querySelector('#df-453267b7-4d94-463c-abca-d384c57f88c8');\n",
              "          const dataTable =\n",
              "            await google.colab.kernel.invokeFunction('convertToInteractive',\n",
              "                                                     [key], {});\n",
              "          if (!dataTable) return;\n",
              "\n",
              "          const docLinkHtml = 'Like what you see? Visit the ' +\n",
              "            '<a target=\"_blank\" href=https://colab.research.google.com/notebooks/data_table.ipynb>data table notebook</a>'\n",
              "            + ' to learn more about interactive tables.';\n",
              "          element.innerHTML = '';\n",
              "          dataTable['output_type'] = 'display_data';\n",
              "          await google.colab.output.renderOutput(dataTable, element);\n",
              "          const docLink = document.createElement('div');\n",
              "          docLink.innerHTML = docLinkHtml;\n",
              "          element.appendChild(docLink);\n",
              "        }\n",
              "      </script>\n",
              "    </div>\n",
              "  </div>\n",
              "  "
            ]
          },
          "metadata": {},
          "execution_count": 4
        }
      ],
      "source": [
        "url = 'https://storage.yandexcloud.net/terratraineeship/23_InspectrumClinic_RS/datasets/%D0%92%D0%B5%D1%81%D1%8C%20%D0%BF%D0%B5%D1%80%D0%B8%D0%BE%D0%B4.csv'\n",
        "file_name = 'data.csv'\n",
        "gdown.download(url, file_name, quiet=False)\n",
        "df_backup = pd.read_csv(file_name, sep = ';', on_bad_lines='skip', engine='python' )\n",
        "df_backup.head()"
      ]
    },
    {
      "cell_type": "markdown",
      "metadata": {
        "id": "FPckeeRI-4eA"
      },
      "source": [
        "#Getting started with a dataframe"
      ]
    },
    {
      "cell_type": "markdown",
      "metadata": {
        "id": "0039arXp50L9"
      },
      "source": [
        "Делаем копию датафрейма"
      ]
    },
    {
      "cell_type": "code",
      "execution_count": 5,
      "metadata": {
        "id": "wnH_DbiFMjO9"
      },
      "outputs": [],
      "source": [
        "df = df_backup.copy()"
      ]
    },
    {
      "cell_type": "markdown",
      "metadata": {
        "id": "Go_Ihwfz6Ho1"
      },
      "source": [
        "Блок с функциями.\n",
        "\n",
        "* `clean_clear` - функция, удаляющая дубликаты строк/столбцов и полностью пустые\n",
        "строки/столбцы.\n",
        "* `regex_to_nan` - функция, находящая значения по регулярному выражению и заменяющая его на `np.nan`.\n",
        "* `fills_count` - функция, возвращающая заполненность датафрейма в процентах."
      ]
    },
    {
      "cell_type": "code",
      "execution_count": 6,
      "metadata": {
        "id": "nidpOYFtRUwI"
      },
      "outputs": [],
      "source": [
        "def clean_clear(df, pflag=False):\n",
        "    # Сохраняем размерность датафрейма\n",
        "    shape_sum = df.shape\n",
        "\n",
        "    # Удаляем дубликаты строк\n",
        "    df = df.drop_duplicates()\n",
        "    # Удаляем дубликаты столбцов\n",
        "    df = df.T.drop_duplicates().T\n",
        "\n",
        "    # Удаляем полностью пустые столбцы и строки\n",
        "    df = df.dropna(axis=0, how='all')\n",
        "    df = df.dropna(axis=1, how='all')\n",
        "\n",
        "    # Выводим результаты\n",
        "    if pflag:\n",
        "        print(f\"Форма датасета до операции: {shape_sum}\")\n",
        "        print(f\"Форма датасета после операции: {df.shape}\")\n",
        "\n",
        "        print(f\"Количество строк после удаления пустых и повторяющихся: {df.shape[0]}\")\n",
        "        print(f\"Количество столбцов после удаления пустых и повторяющихся: {df.shape[1]}\")\n",
        "        print(f\"\\n*Удалено {shape_sum[0] - df.shape[0]} строк и {shape_sum[1] - df.shape[1]} столбцов.\")\n",
        "    df = df.convert_dtypes()\n",
        "    return df\n",
        "\n",
        "# Регулярное выражения для GUID\n",
        "regex_GUID = \"^[{]?[0-9a-fA-F]{8}\" + \"-([0-9a-fA-F]{4}-)\" + \"{3}[0-9a-fA-F]{12}[}]?$\"\n",
        "\n",
        "# Поиск и удаление GUID столбцов\n",
        "def regex_to_nan(df, to_replace=regex_GUID, value=np.nan, pflag=False):\n",
        "    df = df.replace(to_replace=to_replace, value=value, regex=True)\n",
        "    if pflag:\n",
        "        print(f\"Колонки для удаления:\\n{df.columns[df.isna().all()].tolist()}\")\n",
        "    return df\n",
        "\n",
        "# Подсчет заполненности таблицы\n",
        "def fills_count(df):\n",
        "    return f\"Заполненность: ~{round((1 - (df.isna().sum().sum() / df.size))*100, 2)}%\""
      ]
    },
    {
      "cell_type": "markdown",
      "metadata": {
        "id": "eognNahh6-O1"
      },
      "source": [
        "Анализ данных.\n",
        "* форма\n",
        "* количество значений\n",
        "* основная информация о датафрейме\n",
        "* определение и подсчет типов данных до и после попытки автоматического преобразования типов `df.convert_dtypes()`\n",
        "* процент заполненности данными"
      ]
    },
    {
      "cell_type": "code",
      "execution_count": 7,
      "metadata": {
        "colab": {
          "base_uri": "https://localhost:8080/",
          "height": 468
        },
        "id": "dhY9U6CjMoEC",
        "outputId": "e23ff305-3a96-41a1-fcad-094fcd39da21"
      },
      "outputs": [
        {
          "output_type": "stream",
          "name": "stdout",
          "text": [
            "\n",
            "Форма:  (32686, 289)\n",
            "Количество значений:  9446254\n",
            "\n",
            "<class 'pandas.core.frame.DataFrame'>\n",
            "RangeIndex: 32686 entries, 0 to 32685\n",
            "Columns: 289 entries, ДокументПрохождениеМедосмотра to Эндоскопия1_МКБ102\n",
            "dtypes: bool(1), float64(75), object(213)\n",
            "memory usage: 71.9+ MB\n"
          ]
        },
        {
          "output_type": "display_data",
          "data": {
            "text/plain": [
              "None"
            ]
          },
          "metadata": {}
        },
        {
          "output_type": "stream",
          "name": "stdout",
          "text": [
            "\n",
            "Типы данных в фрейме:\n"
          ]
        },
        {
          "output_type": "display_data",
          "data": {
            "text/plain": [
              "object     213\n",
              "float64     75\n",
              "bool         1\n",
              "dtype: int64"
            ]
          },
          "metadata": {}
        },
        {
          "output_type": "stream",
          "name": "stdout",
          "text": [
            "\n",
            "Преобразование типов данных.\n",
            "\n",
            "Типы данных после преобразования:\n"
          ]
        },
        {
          "output_type": "display_data",
          "data": {
            "text/plain": [
              "string     213\n",
              "Int64       75\n",
              "boolean      1\n",
              "dtype: int64"
            ]
          },
          "metadata": {}
        },
        {
          "output_type": "stream",
          "name": "stdout",
          "text": [
            "\n",
            "Заполненность: ~6.93%\n"
          ]
        }
      ],
      "source": [
        "print()\n",
        "print(\"Форма: \", df.shape)\n",
        "print(\"Количество значений: \", df.size)\n",
        "print()\n",
        "display(df.info(max_cols=0))\n",
        "# pd.set_option('display.max_rows', None) # (default=20) для сброса pd.reset_option('display.max_rows') | для колонок max_columns\n",
        "# display(df.dtypes)\n",
        "# pd.reset_option('display.max_rows')\n",
        "print(\"\\nТипы данных в фрейме:\")\n",
        "display(df.dtypes.value_counts())\n",
        "print(\"\\nПреобразование типов данных.\")\n",
        "df = df.convert_dtypes()\n",
        "print(\"\\nТипы данных после преобразования:\")\n",
        "display(df.dtypes.value_counts())\n",
        "print()\n",
        "print(fills_count(df))"
      ]
    },
    {
      "cell_type": "markdown",
      "metadata": {
        "id": "fi9q6pJE7eb6"
      },
      "source": [
        "Поиск колонок с датами.\n",
        "* нахождение по обнаруженному типу `datetime64[ns]`\n",
        "* нахождение колонок, содержащих в названии слово `Дата`\n",
        "\n",
        "Сопоставление полученных результатов между собой.\n",
        "Получилось, что данные по слову `Дата` имеют действительно даты, только не определились и полностью включают в себя найденные стобцы по автоматически определенному типу данных - `datetime64[ns]`"
      ]
    },
    {
      "cell_type": "code",
      "execution_count": 8,
      "metadata": {
        "colab": {
          "base_uri": "https://localhost:8080/"
        },
        "id": "l9jiypVDSI-x",
        "outputId": "d3fefe49-95c3-4cef-c3ff-396cc0a5e2c6"
      },
      "outputs": [
        {
          "output_type": "stream",
          "name": "stdout",
          "text": [
            "Количество столбцов с типом 'datetime64[ns]': 0\n",
            "Количество столбцов со словом 'Дата': 2\n",
            "\n",
            "Список datatype_list входит в dataword_list\n",
            "\n"
          ]
        }
      ],
      "source": [
        "datatype_list = df.columns[df.dtypes == 'datetime64[ns]'].values.tolist()\n",
        "print(f\"Количество столбцов с типом 'datetime64[ns]': {len(datatype_list)}\")\n",
        "dataword_list = df.filter(regex=re.compile(\"дата\", re.IGNORECASE), axis=1).columns.values.tolist()\n",
        "print(f\"Количество столбцов со словом 'Дата': {len(dataword_list)}\")\n",
        "print()\n",
        "if len(datatype_list) > len(dataword_list):\n",
        "    data_diff = set(datatype_list) - set(dataword_list)\n",
        "    if set(dataword_list).issubset(datatype_list):\n",
        "        print(\"Список dataword_list входит в datatype_list\\n\")\n",
        "elif len(datatype_list) < len(dataword_list):\n",
        "    data_diff =  set(dataword_list) - set(datatype_list)\n",
        "    if set(datatype_list).issubset(dataword_list):\n",
        "        print(\"Список datatype_list входит в dataword_list\\n\")\n",
        "else: print(\"Списки равны\\n\")\n",
        "\n",
        "# Для вывода списка разницы колонок убрать комментарий с строки\n",
        "# print(*data_diff, sep=\"\\n\")"
      ]
    },
    {
      "cell_type": "markdown",
      "metadata": {
        "id": "lYQbinkRTDFC"
      },
      "source": [
        "Ищем колонки с Ф.И.О. врачей и названием медицинского учреждения"
      ]
    },
    {
      "cell_type": "code",
      "execution_count": 9,
      "metadata": {
        "colab": {
          "base_uri": "https://localhost:8080/"
        },
        "id": "33LI-sB5SX-f",
        "outputId": "4dabb767-d872-4d8c-c620-698f0e3104e1"
      },
      "outputs": [
        {
          "output_type": "stream",
          "name": "stdout",
          "text": [
            "Колчество колонок с Ф.И.О. врачей: 0\n",
            "Колчество колонок с названием мед. учреждения: 0\n",
            "Колчество колонок с названием специализации: 0\n"
          ]
        }
      ],
      "source": [
        "datadoctor_list = df.filter(regex=re.compile(\"врач\", re.IGNORECASE), axis=1).columns.values.tolist()\n",
        "print(f\"Колчество колонок с Ф.И.О. врачей: {len(datadoctor_list)}\")\n",
        "datasalon_list = df.filter(regex=re.compile(\"салон\", re.IGNORECASE), axis=1).columns.values.tolist()\n",
        "print(f\"Колчество колонок с названием мед. учреждения: {len(datasalon_list)}\")\n",
        "dataspec_list = df.filter(regex=re.compile(\"специализация\", re.IGNORECASE), axis=1).columns.values.tolist()\n",
        "print(f\"Колчество колонок с названием специализации: {len(datasalon_list)}\")"
      ]
    },
    {
      "cell_type": "markdown",
      "metadata": {
        "id": "_6bsMIZt8VTk"
      },
      "source": [
        "Анализ и проверка целевой колонки `ЗаключениеМК` на предмет \"мусорных\" данных и пропусков."
      ]
    },
    {
      "cell_type": "code",
      "execution_count": 10,
      "metadata": {
        "colab": {
          "base_uri": "https://localhost:8080/",
          "height": 225
        },
        "id": "UEQXNULHAD1a",
        "outputId": "d31bf789-01f9-4f05-f69d-66d201bb9d0a"
      },
      "outputs": [
        {
          "output_type": "display_data",
          "data": {
            "text/plain": [
              "['Годен',\n",
              " 'ГоденСКоррекциейЗрения',\n",
              " 'НуждаетсяВДообследованииИЛечении',\n",
              " <NA>,\n",
              " 'ГоденБезРаботНаВысотах',\n",
              " 'ГоденСКоррекциейСлуха',\n",
              " ' п. 11.3',\n",
              " 'ОграниченноГоден',\n",
              " 'машинист бульдозера',\n",
              " 'Газоспасатель',\n",
              " ' Газоспасатель',\n",
              " 'Негоден']"
            ]
          },
          "metadata": {}
        }
      ],
      "source": [
        "display(df['ЗаключениеМК'].unique().tolist())"
      ]
    },
    {
      "cell_type": "markdown",
      "metadata": {
        "id": "rmz6kkCB8ez-"
      },
      "source": [
        "Создание маски с соответствующими критериям данными для целевой колонки."
      ]
    },
    {
      "cell_type": "code",
      "execution_count": 11,
      "metadata": {
        "id": "BCcrQW1xATBx"
      },
      "outputs": [],
      "source": [
        "mask_list = ['Годен', 'ГоденСКоррекциейЗрения', 'ГоденБезРаботНаВысотах',\n",
        "        'ГоденСКоррекциейСлуха', 'НуждаетсяВДообследованииИЛечении',\n",
        "        'ВременноНегоден', 'ОграниченноГоден', 'Негоден']"
      ]
    },
    {
      "cell_type": "markdown",
      "metadata": {
        "id": "fmQRtrw1816X"
      },
      "source": [
        "Чистка от мусорных, дублирующих, не имеющих ценности и пустых данных.\n",
        "\n",
        "Сначала производится чистка по маске из целевой колонки `ЗаключениеМК`, затем удаляются данные с датами, затем данные с GUID, дублирующие и пустые.\n",
        "\n",
        "Сравнивается форма датафрейма до и после чистки."
      ]
    },
    {
      "cell_type": "code",
      "execution_count": 12,
      "metadata": {
        "colab": {
          "base_uri": "https://localhost:8080/"
        },
        "id": "eLJDwq9R6s_a",
        "outputId": "f8e368ce-a836-4ee8-d3bd-c51944e62b30"
      },
      "outputs": [
        {
          "output_type": "stream",
          "name": "stdout",
          "text": [
            "Форма датафрейма до: (32686, 289)\n",
            "Чистка от некорректных данных в целевой колонке\n",
            "(19200, 289)\n",
            "Чистка от колонок с датами\n",
            "(19200, 287)\n",
            "Чистка от колонок с Ф.И.О. врачей\n",
            "(19200, 287)\n",
            "Чистка от колонок с названием мед. учреждений\n",
            "(19200, 287)\n",
            "Чистка от колонок с названием специализации врача\n",
            "(19200, 287)\n",
            "Чистка от колонок с GUID, полностью пустых колонок и строк, дубликатов колонок и строк...\n",
            "Форма датафрейма после: (12370, 138)\n"
          ]
        }
      ],
      "source": [
        "print(f\"Форма датафрейма до: {df.shape}\")\n",
        "try:\n",
        "    print(\"Чистка от некорректных данных в целевой колонке\")\n",
        "    df = df[df['ЗаключениеМК'].isin(mask_list)]\n",
        "    print(df.shape)\n",
        "\n",
        "    print(\"Чистка от колонок с датами\")\n",
        "    df = df.drop(dataword_list, axis='columns')\n",
        "    print(df.shape)\n",
        "\n",
        "    print(\"Чистка от колонок с Ф.И.О. врачей\")\n",
        "    df = df.drop(datadoctor_list, axis='columns')\n",
        "    print(df.shape)\n",
        "\n",
        "    print(\"Чистка от колонок с названием мед. учреждений\")\n",
        "    df = df.drop(datasalon_list, axis='columns')\n",
        "    print(df.shape)\n",
        "\n",
        "    print(\"Чистка от колонок с названием специализации врача\")\n",
        "    df = df.drop(dataspec_list, axis='columns')\n",
        "    print(df.shape)\n",
        "\n",
        "    print(\"Чистка от колонок с GUID, полностью пустых колонок и строк, дубликатов колонок и строк...\")\n",
        "    df = regex_to_nan(df)\n",
        "    df = clean_clear(df)\n",
        "except Exception as e:\n",
        "    print(e)\n",
        "print(f\"Форма датафрейма после: {df.shape}\")"
      ]
    },
    {
      "cell_type": "markdown",
      "metadata": {
        "id": "ZAIdKzAk9eVt"
      },
      "source": [
        "#Categorization, OHE, Tokenization, BoW, etc..."
      ]
    },
    {
      "cell_type": "markdown",
      "metadata": {
        "id": "vk5KVnBZiGG-"
      },
      "source": [
        "Проверим типы данных в датафрейме"
      ]
    },
    {
      "cell_type": "code",
      "execution_count": 14,
      "metadata": {
        "colab": {
          "base_uri": "https://localhost:8080/",
          "height": 69
        },
        "id": "f2S9R4XXiIX_",
        "outputId": "8c9454f2-5690-4089-eb85-913a7b28f36f"
      },
      "outputs": [
        {
          "output_type": "display_data",
          "data": {
            "text/plain": [
              "string     137\n",
              "boolean      1\n",
              "dtype: int64"
            ]
          },
          "metadata": {}
        }
      ],
      "source": [
        "display(df.dtypes.value_counts())"
      ]
    },
    {
      "cell_type": "code",
      "source": [
        "display(df.head())"
      ],
      "metadata": {
        "colab": {
          "base_uri": "https://localhost:8080/",
          "height": 560
        },
        "id": "_bgi2p6pXxZO",
        "outputId": "59a8bead-4052-4168-efd3-b9814b38c01a"
      },
      "execution_count": 15,
      "outputs": [
        {
          "output_type": "display_data",
          "data": {
            "text/plain": [
              "  КлиентПол КлиентПолПредставление  ТипМедосмотра  ПсихОсвидетельствование  \\\n",
              "0   Женский                Женский  Периодический                    False   \n",
              "1   Женский                Женский  Периодический                    False   \n",
              "2   Женский                Женский  Периодический                    False   \n",
              "3   Женский                Женский  Периодический                    False   \n",
              "4   Женский                Женский  Периодический                    False   \n",
              "\n",
              "    Цех                     Профессия ЗаключениеМК  \\\n",
              "0  <NA>               Продавец-кассир        Годен   \n",
              "1  <NA>               Продавец-кассир        Годен   \n",
              "2  <NA>  Младший продавец-консультант        Годен   \n",
              "3  <NA>             Менеджер магазина        Годен   \n",
              "4  <NA>               Продавец-кассир        Годен   \n",
              "\n",
              "             ЗаключениеМКПредставление                           Заключение  \\\n",
              "0  Годен к работе в указанных условиях  Годен к работе в указанных условиях   \n",
              "1  Годен к работе в указанных условиях  Годен к работе в указанных условиях   \n",
              "2  Годен к работе в указанных условиях  Годен к работе в указанных условиях   \n",
              "3  Годен к работе в указанных условиях  Годен к работе в указанных условиях   \n",
              "4  Годен к работе в указанных условиях  Годен к работе в указанных условиях   \n",
              "\n",
              "  ВредныеФакторы  ... Хирургия3_МКБ101 Хирургия3_МКБ102 ХирургНеИсп1_МКБ101  \\\n",
              "0           <NA>  ...             <NA>             <NA>                <NA>   \n",
              "1         04.окт  ...             <NA>             <NA>                <NA>   \n",
              "2             23  ...             <NA>             <NA>                <NA>   \n",
              "3             23  ...             <NA>             <NA>                <NA>   \n",
              "4             23  ...             <NA>             <NA>                <NA>   \n",
              "\n",
              "  ХирургНеИсп1_МКБ102 ХирургНеИсп1_МКБ103 ХирургНеИсп2_МКБ101  \\\n",
              "0                <NA>                <NA>                <NA>   \n",
              "1                <NA>                <NA>                <NA>   \n",
              "2                <NA>                <NA>                <NA>   \n",
              "3                <NA>                <NA>                <NA>   \n",
              "4                <NA>                <NA>                <NA>   \n",
              "\n",
              "  ЭКГНеИсп1_МКБ101 ЭКГНеИсп1_МКБ102 Эндоскопия1_МКБ101 Эндоскопия1_МКБ102  \n",
              "0             <NA>             <NA>               <NA>               <NA>  \n",
              "1             <NA>             <NA>               <NA>               <NA>  \n",
              "2             <NA>             <NA>               <NA>               <NA>  \n",
              "3             <NA>             <NA>               <NA>               <NA>  \n",
              "4             <NA>             <NA>               <NA>               <NA>  \n",
              "\n",
              "[5 rows x 138 columns]"
            ],
            "text/html": [
              "\n",
              "  <div id=\"df-226f46fc-38bb-4e41-90b7-461e4c4e8ce8\">\n",
              "    <div class=\"colab-df-container\">\n",
              "      <div>\n",
              "<style scoped>\n",
              "    .dataframe tbody tr th:only-of-type {\n",
              "        vertical-align: middle;\n",
              "    }\n",
              "\n",
              "    .dataframe tbody tr th {\n",
              "        vertical-align: top;\n",
              "    }\n",
              "\n",
              "    .dataframe thead th {\n",
              "        text-align: right;\n",
              "    }\n",
              "</style>\n",
              "<table border=\"1\" class=\"dataframe\">\n",
              "  <thead>\n",
              "    <tr style=\"text-align: right;\">\n",
              "      <th></th>\n",
              "      <th>КлиентПол</th>\n",
              "      <th>КлиентПолПредставление</th>\n",
              "      <th>ТипМедосмотра</th>\n",
              "      <th>ПсихОсвидетельствование</th>\n",
              "      <th>Цех</th>\n",
              "      <th>Профессия</th>\n",
              "      <th>ЗаключениеМК</th>\n",
              "      <th>ЗаключениеМКПредставление</th>\n",
              "      <th>Заключение</th>\n",
              "      <th>ВредныеФакторы</th>\n",
              "      <th>...</th>\n",
              "      <th>Хирургия3_МКБ101</th>\n",
              "      <th>Хирургия3_МКБ102</th>\n",
              "      <th>ХирургНеИсп1_МКБ101</th>\n",
              "      <th>ХирургНеИсп1_МКБ102</th>\n",
              "      <th>ХирургНеИсп1_МКБ103</th>\n",
              "      <th>ХирургНеИсп2_МКБ101</th>\n",
              "      <th>ЭКГНеИсп1_МКБ101</th>\n",
              "      <th>ЭКГНеИсп1_МКБ102</th>\n",
              "      <th>Эндоскопия1_МКБ101</th>\n",
              "      <th>Эндоскопия1_МКБ102</th>\n",
              "    </tr>\n",
              "  </thead>\n",
              "  <tbody>\n",
              "    <tr>\n",
              "      <th>0</th>\n",
              "      <td>Женский</td>\n",
              "      <td>Женский</td>\n",
              "      <td>Периодический</td>\n",
              "      <td>False</td>\n",
              "      <td>&lt;NA&gt;</td>\n",
              "      <td>Продавец-кассир</td>\n",
              "      <td>Годен</td>\n",
              "      <td>Годен к работе в указанных условиях</td>\n",
              "      <td>Годен к работе в указанных условиях</td>\n",
              "      <td>&lt;NA&gt;</td>\n",
              "      <td>...</td>\n",
              "      <td>&lt;NA&gt;</td>\n",
              "      <td>&lt;NA&gt;</td>\n",
              "      <td>&lt;NA&gt;</td>\n",
              "      <td>&lt;NA&gt;</td>\n",
              "      <td>&lt;NA&gt;</td>\n",
              "      <td>&lt;NA&gt;</td>\n",
              "      <td>&lt;NA&gt;</td>\n",
              "      <td>&lt;NA&gt;</td>\n",
              "      <td>&lt;NA&gt;</td>\n",
              "      <td>&lt;NA&gt;</td>\n",
              "    </tr>\n",
              "    <tr>\n",
              "      <th>1</th>\n",
              "      <td>Женский</td>\n",
              "      <td>Женский</td>\n",
              "      <td>Периодический</td>\n",
              "      <td>False</td>\n",
              "      <td>&lt;NA&gt;</td>\n",
              "      <td>Продавец-кассир</td>\n",
              "      <td>Годен</td>\n",
              "      <td>Годен к работе в указанных условиях</td>\n",
              "      <td>Годен к работе в указанных условиях</td>\n",
              "      <td>04.окт</td>\n",
              "      <td>...</td>\n",
              "      <td>&lt;NA&gt;</td>\n",
              "      <td>&lt;NA&gt;</td>\n",
              "      <td>&lt;NA&gt;</td>\n",
              "      <td>&lt;NA&gt;</td>\n",
              "      <td>&lt;NA&gt;</td>\n",
              "      <td>&lt;NA&gt;</td>\n",
              "      <td>&lt;NA&gt;</td>\n",
              "      <td>&lt;NA&gt;</td>\n",
              "      <td>&lt;NA&gt;</td>\n",
              "      <td>&lt;NA&gt;</td>\n",
              "    </tr>\n",
              "    <tr>\n",
              "      <th>2</th>\n",
              "      <td>Женский</td>\n",
              "      <td>Женский</td>\n",
              "      <td>Периодический</td>\n",
              "      <td>False</td>\n",
              "      <td>&lt;NA&gt;</td>\n",
              "      <td>Младший продавец-консультант</td>\n",
              "      <td>Годен</td>\n",
              "      <td>Годен к работе в указанных условиях</td>\n",
              "      <td>Годен к работе в указанных условиях</td>\n",
              "      <td>23</td>\n",
              "      <td>...</td>\n",
              "      <td>&lt;NA&gt;</td>\n",
              "      <td>&lt;NA&gt;</td>\n",
              "      <td>&lt;NA&gt;</td>\n",
              "      <td>&lt;NA&gt;</td>\n",
              "      <td>&lt;NA&gt;</td>\n",
              "      <td>&lt;NA&gt;</td>\n",
              "      <td>&lt;NA&gt;</td>\n",
              "      <td>&lt;NA&gt;</td>\n",
              "      <td>&lt;NA&gt;</td>\n",
              "      <td>&lt;NA&gt;</td>\n",
              "    </tr>\n",
              "    <tr>\n",
              "      <th>3</th>\n",
              "      <td>Женский</td>\n",
              "      <td>Женский</td>\n",
              "      <td>Периодический</td>\n",
              "      <td>False</td>\n",
              "      <td>&lt;NA&gt;</td>\n",
              "      <td>Менеджер магазина</td>\n",
              "      <td>Годен</td>\n",
              "      <td>Годен к работе в указанных условиях</td>\n",
              "      <td>Годен к работе в указанных условиях</td>\n",
              "      <td>23</td>\n",
              "      <td>...</td>\n",
              "      <td>&lt;NA&gt;</td>\n",
              "      <td>&lt;NA&gt;</td>\n",
              "      <td>&lt;NA&gt;</td>\n",
              "      <td>&lt;NA&gt;</td>\n",
              "      <td>&lt;NA&gt;</td>\n",
              "      <td>&lt;NA&gt;</td>\n",
              "      <td>&lt;NA&gt;</td>\n",
              "      <td>&lt;NA&gt;</td>\n",
              "      <td>&lt;NA&gt;</td>\n",
              "      <td>&lt;NA&gt;</td>\n",
              "    </tr>\n",
              "    <tr>\n",
              "      <th>4</th>\n",
              "      <td>Женский</td>\n",
              "      <td>Женский</td>\n",
              "      <td>Периодический</td>\n",
              "      <td>False</td>\n",
              "      <td>&lt;NA&gt;</td>\n",
              "      <td>Продавец-кассир</td>\n",
              "      <td>Годен</td>\n",
              "      <td>Годен к работе в указанных условиях</td>\n",
              "      <td>Годен к работе в указанных условиях</td>\n",
              "      <td>23</td>\n",
              "      <td>...</td>\n",
              "      <td>&lt;NA&gt;</td>\n",
              "      <td>&lt;NA&gt;</td>\n",
              "      <td>&lt;NA&gt;</td>\n",
              "      <td>&lt;NA&gt;</td>\n",
              "      <td>&lt;NA&gt;</td>\n",
              "      <td>&lt;NA&gt;</td>\n",
              "      <td>&lt;NA&gt;</td>\n",
              "      <td>&lt;NA&gt;</td>\n",
              "      <td>&lt;NA&gt;</td>\n",
              "      <td>&lt;NA&gt;</td>\n",
              "    </tr>\n",
              "  </tbody>\n",
              "</table>\n",
              "<p>5 rows × 138 columns</p>\n",
              "</div>\n",
              "      <button class=\"colab-df-convert\" onclick=\"convertToInteractive('df-226f46fc-38bb-4e41-90b7-461e4c4e8ce8')\"\n",
              "              title=\"Convert this dataframe to an interactive table.\"\n",
              "              style=\"display:none;\">\n",
              "        \n",
              "  <svg xmlns=\"http://www.w3.org/2000/svg\" height=\"24px\"viewBox=\"0 0 24 24\"\n",
              "       width=\"24px\">\n",
              "    <path d=\"M0 0h24v24H0V0z\" fill=\"none\"/>\n",
              "    <path d=\"M18.56 5.44l.94 2.06.94-2.06 2.06-.94-2.06-.94-.94-2.06-.94 2.06-2.06.94zm-11 1L8.5 8.5l.94-2.06 2.06-.94-2.06-.94L8.5 2.5l-.94 2.06-2.06.94zm10 10l.94 2.06.94-2.06 2.06-.94-2.06-.94-.94-2.06-.94 2.06-2.06.94z\"/><path d=\"M17.41 7.96l-1.37-1.37c-.4-.4-.92-.59-1.43-.59-.52 0-1.04.2-1.43.59L10.3 9.45l-7.72 7.72c-.78.78-.78 2.05 0 2.83L4 21.41c.39.39.9.59 1.41.59.51 0 1.02-.2 1.41-.59l7.78-7.78 2.81-2.81c.8-.78.8-2.07 0-2.86zM5.41 20L4 18.59l7.72-7.72 1.47 1.35L5.41 20z\"/>\n",
              "  </svg>\n",
              "      </button>\n",
              "      \n",
              "  <style>\n",
              "    .colab-df-container {\n",
              "      display:flex;\n",
              "      flex-wrap:wrap;\n",
              "      gap: 12px;\n",
              "    }\n",
              "\n",
              "    .colab-df-convert {\n",
              "      background-color: #E8F0FE;\n",
              "      border: none;\n",
              "      border-radius: 50%;\n",
              "      cursor: pointer;\n",
              "      display: none;\n",
              "      fill: #1967D2;\n",
              "      height: 32px;\n",
              "      padding: 0 0 0 0;\n",
              "      width: 32px;\n",
              "    }\n",
              "\n",
              "    .colab-df-convert:hover {\n",
              "      background-color: #E2EBFA;\n",
              "      box-shadow: 0px 1px 2px rgba(60, 64, 67, 0.3), 0px 1px 3px 1px rgba(60, 64, 67, 0.15);\n",
              "      fill: #174EA6;\n",
              "    }\n",
              "\n",
              "    [theme=dark] .colab-df-convert {\n",
              "      background-color: #3B4455;\n",
              "      fill: #D2E3FC;\n",
              "    }\n",
              "\n",
              "    [theme=dark] .colab-df-convert:hover {\n",
              "      background-color: #434B5C;\n",
              "      box-shadow: 0px 1px 3px 1px rgba(0, 0, 0, 0.15);\n",
              "      filter: drop-shadow(0px 1px 2px rgba(0, 0, 0, 0.3));\n",
              "      fill: #FFFFFF;\n",
              "    }\n",
              "  </style>\n",
              "\n",
              "      <script>\n",
              "        const buttonEl =\n",
              "          document.querySelector('#df-226f46fc-38bb-4e41-90b7-461e4c4e8ce8 button.colab-df-convert');\n",
              "        buttonEl.style.display =\n",
              "          google.colab.kernel.accessAllowed ? 'block' : 'none';\n",
              "\n",
              "        async function convertToInteractive(key) {\n",
              "          const element = document.querySelector('#df-226f46fc-38bb-4e41-90b7-461e4c4e8ce8');\n",
              "          const dataTable =\n",
              "            await google.colab.kernel.invokeFunction('convertToInteractive',\n",
              "                                                     [key], {});\n",
              "          if (!dataTable) return;\n",
              "\n",
              "          const docLinkHtml = 'Like what you see? Visit the ' +\n",
              "            '<a target=\"_blank\" href=https://colab.research.google.com/notebooks/data_table.ipynb>data table notebook</a>'\n",
              "            + ' to learn more about interactive tables.';\n",
              "          element.innerHTML = '';\n",
              "          dataTable['output_type'] = 'display_data';\n",
              "          await google.colab.output.renderOutput(dataTable, element);\n",
              "          const docLink = document.createElement('div');\n",
              "          docLink.innerHTML = docLinkHtml;\n",
              "          element.appendChild(docLink);\n",
              "        }\n",
              "      </script>\n",
              "    </div>\n",
              "  </div>\n",
              "  "
            ]
          },
          "metadata": {}
        }
      ]
    }
  ],
  "metadata": {
    "colab": {
      "collapsed_sections": [
        "0DOWxZHo-rKv"
      ],
      "provenance": [],
      "authorship_tag": "ABX9TyNoNJ7EqH5awcZXDFDZ+yY5",
      "include_colab_link": true
    },
    "kernelspec": {
      "display_name": "Python 3",
      "name": "python3"
    },
    "language_info": {
      "name": "python"
    }
  },
  "nbformat": 4,
  "nbformat_minor": 0
}