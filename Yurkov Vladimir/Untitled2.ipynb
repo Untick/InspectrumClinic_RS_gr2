{
  "cells": [
    {
      "cell_type": "markdown",
      "metadata": {
        "id": "view-in-github",
        "colab_type": "text"
      },
      "source": [
        "<a href=\"https://colab.research.google.com/github/Untick/InspectrumClinic_RS_gr2/blob/main/Yurkov%20Vladimir/Untitled2.ipynb\" target=\"_parent\"><img src=\"https://colab.research.google.com/assets/colab-badge.svg\" alt=\"Open In Colab\"/></a>"
      ]
    },
    {
      "cell_type": "markdown",
      "metadata": {
        "id": "0DOWxZHo-rKv"
      },
      "source": [
        "#Preparations"
      ]
    },
    {
      "cell_type": "markdown",
      "metadata": {
        "id": "7gqe5IcI564K"
      },
      "source": [
        "Импортируем модули"
      ]
    },
    {
      "cell_type": "code",
      "execution_count": 131,
      "metadata": {
        "id": "-8PJMnHHMYl2"
      },
      "outputs": [],
      "source": [
        "import pandas as pd\n",
        "import numpy as np\n",
        "import gdown\n",
        "import matplotlib.pyplot as plt\n",
        "import re\n",
        "import tensorflow as tf\n",
        "from tensorflow import keras\n",
        "from tensorflow.keras.preprocessing.text import Tokenizer"
      ]
    },
    {
      "cell_type": "markdown",
      "metadata": {
        "id": "2j-GR4BO586l"
      },
      "source": [
        "Загружаем данные и преобразуем их в pandas dataframe"
      ]
    },
    {
      "cell_type": "code",
      "execution_count": 132,
      "metadata": {
        "colab": {
          "base_uri": "https://localhost:8080/",
          "height": 0
        },
        "id": "SWzCwkkXMcW4",
        "outputId": "93a18b5b-60e7-4b79-afa9-2c586d6b03da"
      },
      "outputs": [
        {
          "output_type": "stream",
          "name": "stderr",
          "text": [
            "Downloading...\n",
            "From: https://storage.yandexcloud.net/terratraineeship/23_InspectrumClinic_RS/datasets/%D0%92%D0%B5%D1%81%D1%8C%20%D0%BF%D0%B5%D1%80%D0%B8%D0%BE%D0%B4.csv\n",
            "To: /content/data.csv\n",
            "100%|██████████| 23.0M/23.0M [00:01<00:00, 12.1MB/s]\n"
          ]
        },
        {
          "output_type": "execute_result",
          "data": {
            "text/plain": [
              "          ДокументПрохождениеМедосмотра                                Клиент  \\\n",
              "0  79292387-652a-11eb-80e7-0cc47aab8067  dca98d4e-2098-11ea-80d6-0cc47aab8067   \n",
              "1  78efe744-9c36-11eb-80eb-0cc47aab8067  b35fb2bb-9c35-11eb-80eb-0cc47aab8067   \n",
              "2  131f68ef-9c2d-11eb-80eb-0cc47aab8067  f8c98e39-9c2c-11eb-80eb-0cc47aab8067   \n",
              "3  941e4b56-9c2d-11eb-80eb-0cc47aab8067  7ea364a1-9c2d-11eb-80eb-0cc47aab8067   \n",
              "4  5a24806c-f033-11eb-80f6-0cc47aab8067  52eb6a7d-c1ab-11ea-80dd-0cc47aab8067   \n",
              "\n",
              "    КлиентДатаРождения КлиентПол КлиентПолПредставление  \\\n",
              "0  1989-12-31T00:00:00   Женский                Женский   \n",
              "1  1998-07-20T00:00:00   Женский                Женский   \n",
              "2  2002-01-04T00:00:00   Женский                Женский   \n",
              "3  1991-08-26T00:00:00   Женский                Женский   \n",
              "4  1999-03-21T00:00:00   Женский                Женский   \n",
              "\n",
              "  ДатаЗавершенияМедосмотра  ТипМедосмотра ТипМедосмотраПредставление  \\\n",
              "0      2021-02-02T00:00:00  Периодический              Периодический   \n",
              "1      2021-04-13T00:00:00  Периодический              Периодический   \n",
              "2      2021-04-13T00:00:00  Периодический              Периодический   \n",
              "3      2021-04-13T00:00:00  Периодический              Периодический   \n",
              "4      2021-07-29T00:00:00  Периодический              Периодический   \n",
              "\n",
              "   ПсихОсвидетельствование                            Контрагент  ...  \\\n",
              "0                    False  3d01b2d6-ae08-11e9-80cf-0cc47aab8067  ...   \n",
              "1                    False  3d01b2d6-ae08-11e9-80cf-0cc47aab8067  ...   \n",
              "2                    False  3d01b2d6-ae08-11e9-80cf-0cc47aab8067  ...   \n",
              "3                    False  3d01b2d6-ae08-11e9-80cf-0cc47aab8067  ...   \n",
              "4                    False  3d01b2d6-ae08-11e9-80cf-0cc47aab8067  ...   \n",
              "\n",
              "  ХирургНеИсп3_Диагноз_ЗначениеПредставлениеПредставление ХирургНеИсп3_МКБ101  \\\n",
              "0                                                NaN                      NaN   \n",
              "1                                                NaN                      NaN   \n",
              "2                                                NaN                      NaN   \n",
              "3                                                NaN                      NaN   \n",
              "4                                                NaN                      NaN   \n",
              "\n",
              "  ХирургНеИсп3_МКБ102 ХирургНеИсп3_МКБ103 ЭКГНеИсп1_МКБ101 ЭКГНеИсп1_МКБ102  \\\n",
              "0                 NaN                 NaN              NaN              NaN   \n",
              "1                 NaN                 NaN              NaN              NaN   \n",
              "2                 NaN                 NaN              NaN              NaN   \n",
              "3                 NaN                 NaN              NaN              NaN   \n",
              "4                 NaN                 NaN              NaN              NaN   \n",
              "\n",
              "  ЭКГНеИсп2_МКБ101 ЭКГНеИсп2_МКБ102 Эндоскопия1_МКБ101 Эндоскопия1_МКБ102  \n",
              "0              NaN              NaN                NaN                NaN  \n",
              "1              NaN              NaN                NaN                NaN  \n",
              "2              NaN              NaN                NaN                NaN  \n",
              "3              NaN              NaN                NaN                NaN  \n",
              "4              NaN              NaN                NaN                NaN  \n",
              "\n",
              "[5 rows x 289 columns]"
            ],
            "text/html": [
              "\n",
              "\n",
              "  <div id=\"df-c78bc3ae-e857-40af-bd01-445f243626fd\">\n",
              "    <div class=\"colab-df-container\">\n",
              "      <div>\n",
              "<style scoped>\n",
              "    .dataframe tbody tr th:only-of-type {\n",
              "        vertical-align: middle;\n",
              "    }\n",
              "\n",
              "    .dataframe tbody tr th {\n",
              "        vertical-align: top;\n",
              "    }\n",
              "\n",
              "    .dataframe thead th {\n",
              "        text-align: right;\n",
              "    }\n",
              "</style>\n",
              "<table border=\"1\" class=\"dataframe\">\n",
              "  <thead>\n",
              "    <tr style=\"text-align: right;\">\n",
              "      <th></th>\n",
              "      <th>ДокументПрохождениеМедосмотра</th>\n",
              "      <th>Клиент</th>\n",
              "      <th>КлиентДатаРождения</th>\n",
              "      <th>КлиентПол</th>\n",
              "      <th>КлиентПолПредставление</th>\n",
              "      <th>ДатаЗавершенияМедосмотра</th>\n",
              "      <th>ТипМедосмотра</th>\n",
              "      <th>ТипМедосмотраПредставление</th>\n",
              "      <th>ПсихОсвидетельствование</th>\n",
              "      <th>Контрагент</th>\n",
              "      <th>...</th>\n",
              "      <th>ХирургНеИсп3_Диагноз_ЗначениеПредставлениеПредставление</th>\n",
              "      <th>ХирургНеИсп3_МКБ101</th>\n",
              "      <th>ХирургНеИсп3_МКБ102</th>\n",
              "      <th>ХирургНеИсп3_МКБ103</th>\n",
              "      <th>ЭКГНеИсп1_МКБ101</th>\n",
              "      <th>ЭКГНеИсп1_МКБ102</th>\n",
              "      <th>ЭКГНеИсп2_МКБ101</th>\n",
              "      <th>ЭКГНеИсп2_МКБ102</th>\n",
              "      <th>Эндоскопия1_МКБ101</th>\n",
              "      <th>Эндоскопия1_МКБ102</th>\n",
              "    </tr>\n",
              "  </thead>\n",
              "  <tbody>\n",
              "    <tr>\n",
              "      <th>0</th>\n",
              "      <td>79292387-652a-11eb-80e7-0cc47aab8067</td>\n",
              "      <td>dca98d4e-2098-11ea-80d6-0cc47aab8067</td>\n",
              "      <td>1989-12-31T00:00:00</td>\n",
              "      <td>Женский</td>\n",
              "      <td>Женский</td>\n",
              "      <td>2021-02-02T00:00:00</td>\n",
              "      <td>Периодический</td>\n",
              "      <td>Периодический</td>\n",
              "      <td>False</td>\n",
              "      <td>3d01b2d6-ae08-11e9-80cf-0cc47aab8067</td>\n",
              "      <td>...</td>\n",
              "      <td>NaN</td>\n",
              "      <td>NaN</td>\n",
              "      <td>NaN</td>\n",
              "      <td>NaN</td>\n",
              "      <td>NaN</td>\n",
              "      <td>NaN</td>\n",
              "      <td>NaN</td>\n",
              "      <td>NaN</td>\n",
              "      <td>NaN</td>\n",
              "      <td>NaN</td>\n",
              "    </tr>\n",
              "    <tr>\n",
              "      <th>1</th>\n",
              "      <td>78efe744-9c36-11eb-80eb-0cc47aab8067</td>\n",
              "      <td>b35fb2bb-9c35-11eb-80eb-0cc47aab8067</td>\n",
              "      <td>1998-07-20T00:00:00</td>\n",
              "      <td>Женский</td>\n",
              "      <td>Женский</td>\n",
              "      <td>2021-04-13T00:00:00</td>\n",
              "      <td>Периодический</td>\n",
              "      <td>Периодический</td>\n",
              "      <td>False</td>\n",
              "      <td>3d01b2d6-ae08-11e9-80cf-0cc47aab8067</td>\n",
              "      <td>...</td>\n",
              "      <td>NaN</td>\n",
              "      <td>NaN</td>\n",
              "      <td>NaN</td>\n",
              "      <td>NaN</td>\n",
              "      <td>NaN</td>\n",
              "      <td>NaN</td>\n",
              "      <td>NaN</td>\n",
              "      <td>NaN</td>\n",
              "      <td>NaN</td>\n",
              "      <td>NaN</td>\n",
              "    </tr>\n",
              "    <tr>\n",
              "      <th>2</th>\n",
              "      <td>131f68ef-9c2d-11eb-80eb-0cc47aab8067</td>\n",
              "      <td>f8c98e39-9c2c-11eb-80eb-0cc47aab8067</td>\n",
              "      <td>2002-01-04T00:00:00</td>\n",
              "      <td>Женский</td>\n",
              "      <td>Женский</td>\n",
              "      <td>2021-04-13T00:00:00</td>\n",
              "      <td>Периодический</td>\n",
              "      <td>Периодический</td>\n",
              "      <td>False</td>\n",
              "      <td>3d01b2d6-ae08-11e9-80cf-0cc47aab8067</td>\n",
              "      <td>...</td>\n",
              "      <td>NaN</td>\n",
              "      <td>NaN</td>\n",
              "      <td>NaN</td>\n",
              "      <td>NaN</td>\n",
              "      <td>NaN</td>\n",
              "      <td>NaN</td>\n",
              "      <td>NaN</td>\n",
              "      <td>NaN</td>\n",
              "      <td>NaN</td>\n",
              "      <td>NaN</td>\n",
              "    </tr>\n",
              "    <tr>\n",
              "      <th>3</th>\n",
              "      <td>941e4b56-9c2d-11eb-80eb-0cc47aab8067</td>\n",
              "      <td>7ea364a1-9c2d-11eb-80eb-0cc47aab8067</td>\n",
              "      <td>1991-08-26T00:00:00</td>\n",
              "      <td>Женский</td>\n",
              "      <td>Женский</td>\n",
              "      <td>2021-04-13T00:00:00</td>\n",
              "      <td>Периодический</td>\n",
              "      <td>Периодический</td>\n",
              "      <td>False</td>\n",
              "      <td>3d01b2d6-ae08-11e9-80cf-0cc47aab8067</td>\n",
              "      <td>...</td>\n",
              "      <td>NaN</td>\n",
              "      <td>NaN</td>\n",
              "      <td>NaN</td>\n",
              "      <td>NaN</td>\n",
              "      <td>NaN</td>\n",
              "      <td>NaN</td>\n",
              "      <td>NaN</td>\n",
              "      <td>NaN</td>\n",
              "      <td>NaN</td>\n",
              "      <td>NaN</td>\n",
              "    </tr>\n",
              "    <tr>\n",
              "      <th>4</th>\n",
              "      <td>5a24806c-f033-11eb-80f6-0cc47aab8067</td>\n",
              "      <td>52eb6a7d-c1ab-11ea-80dd-0cc47aab8067</td>\n",
              "      <td>1999-03-21T00:00:00</td>\n",
              "      <td>Женский</td>\n",
              "      <td>Женский</td>\n",
              "      <td>2021-07-29T00:00:00</td>\n",
              "      <td>Периодический</td>\n",
              "      <td>Периодический</td>\n",
              "      <td>False</td>\n",
              "      <td>3d01b2d6-ae08-11e9-80cf-0cc47aab8067</td>\n",
              "      <td>...</td>\n",
              "      <td>NaN</td>\n",
              "      <td>NaN</td>\n",
              "      <td>NaN</td>\n",
              "      <td>NaN</td>\n",
              "      <td>NaN</td>\n",
              "      <td>NaN</td>\n",
              "      <td>NaN</td>\n",
              "      <td>NaN</td>\n",
              "      <td>NaN</td>\n",
              "      <td>NaN</td>\n",
              "    </tr>\n",
              "  </tbody>\n",
              "</table>\n",
              "<p>5 rows × 289 columns</p>\n",
              "</div>\n",
              "      <button class=\"colab-df-convert\" onclick=\"convertToInteractive('df-c78bc3ae-e857-40af-bd01-445f243626fd')\"\n",
              "              title=\"Convert this dataframe to an interactive table.\"\n",
              "              style=\"display:none;\">\n",
              "\n",
              "  <svg xmlns=\"http://www.w3.org/2000/svg\" height=\"24px\"viewBox=\"0 0 24 24\"\n",
              "       width=\"24px\">\n",
              "    <path d=\"M0 0h24v24H0V0z\" fill=\"none\"/>\n",
              "    <path d=\"M18.56 5.44l.94 2.06.94-2.06 2.06-.94-2.06-.94-.94-2.06-.94 2.06-2.06.94zm-11 1L8.5 8.5l.94-2.06 2.06-.94-2.06-.94L8.5 2.5l-.94 2.06-2.06.94zm10 10l.94 2.06.94-2.06 2.06-.94-2.06-.94-.94-2.06-.94 2.06-2.06.94z\"/><path d=\"M17.41 7.96l-1.37-1.37c-.4-.4-.92-.59-1.43-.59-.52 0-1.04.2-1.43.59L10.3 9.45l-7.72 7.72c-.78.78-.78 2.05 0 2.83L4 21.41c.39.39.9.59 1.41.59.51 0 1.02-.2 1.41-.59l7.78-7.78 2.81-2.81c.8-.78.8-2.07 0-2.86zM5.41 20L4 18.59l7.72-7.72 1.47 1.35L5.41 20z\"/>\n",
              "  </svg>\n",
              "      </button>\n",
              "\n",
              "\n",
              "\n",
              "    <div id=\"df-598a6971-d296-426e-8ecd-393dc268d203\">\n",
              "      <button class=\"colab-df-quickchart\" onclick=\"quickchart('df-598a6971-d296-426e-8ecd-393dc268d203')\"\n",
              "              title=\"Suggest charts.\"\n",
              "              style=\"display:none;\">\n",
              "\n",
              "<svg xmlns=\"http://www.w3.org/2000/svg\" height=\"24px\"viewBox=\"0 0 24 24\"\n",
              "     width=\"24px\">\n",
              "    <g>\n",
              "        <path d=\"M19 3H5c-1.1 0-2 .9-2 2v14c0 1.1.9 2 2 2h14c1.1 0 2-.9 2-2V5c0-1.1-.9-2-2-2zM9 17H7v-7h2v7zm4 0h-2V7h2v10zm4 0h-2v-4h2v4z\"/>\n",
              "    </g>\n",
              "</svg>\n",
              "      </button>\n",
              "    </div>\n",
              "\n",
              "<style>\n",
              "  .colab-df-quickchart {\n",
              "    background-color: #E8F0FE;\n",
              "    border: none;\n",
              "    border-radius: 50%;\n",
              "    cursor: pointer;\n",
              "    display: none;\n",
              "    fill: #1967D2;\n",
              "    height: 32px;\n",
              "    padding: 0 0 0 0;\n",
              "    width: 32px;\n",
              "  }\n",
              "\n",
              "  .colab-df-quickchart:hover {\n",
              "    background-color: #E2EBFA;\n",
              "    box-shadow: 0px 1px 2px rgba(60, 64, 67, 0.3), 0px 1px 3px 1px rgba(60, 64, 67, 0.15);\n",
              "    fill: #174EA6;\n",
              "  }\n",
              "\n",
              "  [theme=dark] .colab-df-quickchart {\n",
              "    background-color: #3B4455;\n",
              "    fill: #D2E3FC;\n",
              "  }\n",
              "\n",
              "  [theme=dark] .colab-df-quickchart:hover {\n",
              "    background-color: #434B5C;\n",
              "    box-shadow: 0px 1px 3px 1px rgba(0, 0, 0, 0.15);\n",
              "    filter: drop-shadow(0px 1px 2px rgba(0, 0, 0, 0.3));\n",
              "    fill: #FFFFFF;\n",
              "  }\n",
              "</style>\n",
              "\n",
              "    <script>\n",
              "      async function quickchart(key) {\n",
              "        const containerElement = document.querySelector('#' + key);\n",
              "        const charts = await google.colab.kernel.invokeFunction(\n",
              "            'suggestCharts', [key], {});\n",
              "      }\n",
              "    </script>\n",
              "\n",
              "      <script>\n",
              "\n",
              "function displayQuickchartButton(domScope) {\n",
              "  let quickchartButtonEl =\n",
              "    domScope.querySelector('#df-598a6971-d296-426e-8ecd-393dc268d203 button.colab-df-quickchart');\n",
              "  quickchartButtonEl.style.display =\n",
              "    google.colab.kernel.accessAllowed ? 'block' : 'none';\n",
              "}\n",
              "\n",
              "        displayQuickchartButton(document);\n",
              "      </script>\n",
              "      <style>\n",
              "    .colab-df-container {\n",
              "      display:flex;\n",
              "      flex-wrap:wrap;\n",
              "      gap: 12px;\n",
              "    }\n",
              "\n",
              "    .colab-df-convert {\n",
              "      background-color: #E8F0FE;\n",
              "      border: none;\n",
              "      border-radius: 50%;\n",
              "      cursor: pointer;\n",
              "      display: none;\n",
              "      fill: #1967D2;\n",
              "      height: 32px;\n",
              "      padding: 0 0 0 0;\n",
              "      width: 32px;\n",
              "    }\n",
              "\n",
              "    .colab-df-convert:hover {\n",
              "      background-color: #E2EBFA;\n",
              "      box-shadow: 0px 1px 2px rgba(60, 64, 67, 0.3), 0px 1px 3px 1px rgba(60, 64, 67, 0.15);\n",
              "      fill: #174EA6;\n",
              "    }\n",
              "\n",
              "    [theme=dark] .colab-df-convert {\n",
              "      background-color: #3B4455;\n",
              "      fill: #D2E3FC;\n",
              "    }\n",
              "\n",
              "    [theme=dark] .colab-df-convert:hover {\n",
              "      background-color: #434B5C;\n",
              "      box-shadow: 0px 1px 3px 1px rgba(0, 0, 0, 0.15);\n",
              "      filter: drop-shadow(0px 1px 2px rgba(0, 0, 0, 0.3));\n",
              "      fill: #FFFFFF;\n",
              "    }\n",
              "  </style>\n",
              "\n",
              "      <script>\n",
              "        const buttonEl =\n",
              "          document.querySelector('#df-c78bc3ae-e857-40af-bd01-445f243626fd button.colab-df-convert');\n",
              "        buttonEl.style.display =\n",
              "          google.colab.kernel.accessAllowed ? 'block' : 'none';\n",
              "\n",
              "        async function convertToInteractive(key) {\n",
              "          const element = document.querySelector('#df-c78bc3ae-e857-40af-bd01-445f243626fd');\n",
              "          const dataTable =\n",
              "            await google.colab.kernel.invokeFunction('convertToInteractive',\n",
              "                                                     [key], {});\n",
              "          if (!dataTable) return;\n",
              "\n",
              "          const docLinkHtml = 'Like what you see? Visit the ' +\n",
              "            '<a target=\"_blank\" href=https://colab.research.google.com/notebooks/data_table.ipynb>data table notebook</a>'\n",
              "            + ' to learn more about interactive tables.';\n",
              "          element.innerHTML = '';\n",
              "          dataTable['output_type'] = 'display_data';\n",
              "          await google.colab.output.renderOutput(dataTable, element);\n",
              "          const docLink = document.createElement('div');\n",
              "          docLink.innerHTML = docLinkHtml;\n",
              "          element.appendChild(docLink);\n",
              "        }\n",
              "      </script>\n",
              "    </div>\n",
              "  </div>\n"
            ]
          },
          "metadata": {},
          "execution_count": 132
        }
      ],
      "source": [
        "url = 'https://storage.yandexcloud.net/terratraineeship/23_InspectrumClinic_RS/datasets/%D0%92%D0%B5%D1%81%D1%8C%20%D0%BF%D0%B5%D1%80%D0%B8%D0%BE%D0%B4.csv'\n",
        "file_name = 'data.csv'\n",
        "gdown.download(url, file_name, quiet=False)\n",
        "df_backup = pd.read_csv(file_name, sep = ';', on_bad_lines='skip', engine='python' )\n",
        "df_backup.head()"
      ]
    },
    {
      "cell_type": "markdown",
      "metadata": {
        "id": "FPckeeRI-4eA"
      },
      "source": [
        "#Getting started with a dataframe"
      ]
    },
    {
      "cell_type": "markdown",
      "metadata": {
        "id": "0039arXp50L9"
      },
      "source": [
        "Делаем копию датафрейма"
      ]
    },
    {
      "cell_type": "code",
      "execution_count": 241,
      "metadata": {
        "id": "wnH_DbiFMjO9"
      },
      "outputs": [],
      "source": [
        "df = df_backup.copy()"
      ]
    },
    {
      "cell_type": "markdown",
      "metadata": {
        "id": "Go_Ihwfz6Ho1"
      },
      "source": [
        "Блок с функциями.\n",
        "\n",
        "* `clean_clear` - функция, удаляющая дубликаты строк/столбцов и полностью пустые\n",
        "строки/столбцы.\n",
        "* `regex_to_nan` - функция, находящая значения по регулярному выражению и заменяющая его на `np.nan`.\n",
        "* `fills_count` - функция, возвращающая заполненность датафрейма в процентах."
      ]
    },
    {
      "cell_type": "code",
      "execution_count": 242,
      "metadata": {
        "id": "nidpOYFtRUwI"
      },
      "outputs": [],
      "source": [
        "def clean_clear(df, pflag=False):\n",
        "    # Сохраняем размерность датафрейма\n",
        "    shape_sum = df.shape\n",
        "\n",
        "    # Удаляем дубликаты строк\n",
        "    df = df.drop_duplicates()\n",
        "    # Удаляем дубликаты столбцов\n",
        "    df = df.T.drop_duplicates().T\n",
        "\n",
        "    # Удаляем полностью пустые столбцы и строки\n",
        "    df = df.dropna(axis=0, how='all')\n",
        "    df = df.dropna(axis=1, how='all')\n",
        "\n",
        "    # Выводим результаты\n",
        "    if pflag:\n",
        "        print(f\"Форма датасета до операции: {shape_sum}\")\n",
        "        print(f\"Форма датасета после операции: {df.shape}\")\n",
        "\n",
        "        print(f\"Количество строк после удаления пустых и повторяющихся: {df.shape[0]}\")\n",
        "        print(f\"Количество столбцов после удаления пустых и повторяющихся: {df.shape[1]}\")\n",
        "        print(f\"\\n*Удалено {shape_sum[0] - df.shape[0]} строк и {shape_sum[1] - df.shape[1]} столбцов.\")\n",
        "    df = df.convert_dtypes()\n",
        "    return df\n",
        "\n",
        "# Регулярное выражения для GUID\n",
        "regex_GUID = \"^[{]?[0-9a-fA-F]{8}\" + \"-([0-9a-fA-F]{4}-)\" + \"{3}[0-9a-fA-F]{12}[}]?$\"\n",
        "\n",
        "# Поиск и удаление GUID столбцов\n",
        "def regex_to_nan(df, to_replace=regex_GUID, value=np.nan, pflag=False):\n",
        "    df = df.replace(to_replace=to_replace, value=value, regex=True)\n",
        "    if pflag:\n",
        "        print(f\"Колонки для удаления:\\n{df.columns[df.isna().all()].tolist()}\")\n",
        "    return df\n",
        "\n",
        "# Подсчет заполненности таблицы\n",
        "def fills_count(df):\n",
        "    return f\"Заполненность: ~{round((1 - (df.isna().sum().sum() / df.size))*100, 2)}%\""
      ]
    },
    {
      "cell_type": "markdown",
      "metadata": {
        "id": "eognNahh6-O1"
      },
      "source": [
        "Анализ данных.\n",
        "* форма\n",
        "* количество значений\n",
        "* основная информация о датафрейме\n",
        "* определение и подсчет типов данных до и после попытки автоматического преобразования типов `df.convert_dtypes()`\n",
        "* процент заполненности данными"
      ]
    },
    {
      "cell_type": "code",
      "execution_count": 243,
      "metadata": {
        "colab": {
          "base_uri": "https://localhost:8080/",
          "height": 0
        },
        "id": "dhY9U6CjMoEC",
        "outputId": "0400abcb-e5d5-4566-f6a0-a074691c03e2"
      },
      "outputs": [
        {
          "output_type": "stream",
          "name": "stdout",
          "text": [
            "\n",
            "Форма:  (32686, 289)\n",
            "Количество значений:  9446254\n",
            "\n",
            "<class 'pandas.core.frame.DataFrame'>\n",
            "RangeIndex: 32686 entries, 0 to 32685\n",
            "Columns: 289 entries, ДокументПрохождениеМедосмотра to Эндоскопия1_МКБ102\n",
            "dtypes: bool(1), float64(75), object(213)\n",
            "memory usage: 71.9+ MB\n"
          ]
        },
        {
          "output_type": "display_data",
          "data": {
            "text/plain": [
              "None"
            ]
          },
          "metadata": {}
        },
        {
          "output_type": "stream",
          "name": "stdout",
          "text": [
            "\n",
            "Типы данных в фрейме:\n"
          ]
        },
        {
          "output_type": "display_data",
          "data": {
            "text/plain": [
              "object     213\n",
              "float64     75\n",
              "bool         1\n",
              "dtype: int64"
            ]
          },
          "metadata": {}
        },
        {
          "output_type": "stream",
          "name": "stdout",
          "text": [
            "\n",
            "Преобразование типов данных.\n",
            "\n",
            "Типы данных после преобразования:\n"
          ]
        },
        {
          "output_type": "display_data",
          "data": {
            "text/plain": [
              "string     213\n",
              "Int64       75\n",
              "boolean      1\n",
              "dtype: int64"
            ]
          },
          "metadata": {}
        },
        {
          "output_type": "stream",
          "name": "stdout",
          "text": [
            "\n",
            "Заполненность: ~6.93%\n"
          ]
        }
      ],
      "source": [
        "print()\n",
        "print(\"Форма: \", df.shape)\n",
        "print(\"Количество значений: \", df.size)\n",
        "print()\n",
        "display(df.info(max_cols=0))\n",
        "# pd.set_option('display.max_rows', None) # (default=20) для сброса pd.reset_option('display.max_rows') | для колонок max_columns\n",
        "# display(df.dtypes)\n",
        "# pd.reset_option('display.max_rows')\n",
        "print(\"\\nТипы данных в фрейме:\")\n",
        "display(df.dtypes.value_counts())\n",
        "print(\"\\nПреобразование типов данных.\")\n",
        "df = df.convert_dtypes()\n",
        "print(\"\\nТипы данных после преобразования:\")\n",
        "display(df.dtypes.value_counts())\n",
        "print()\n",
        "print(fills_count(df))"
      ]
    },
    {
      "cell_type": "markdown",
      "metadata": {
        "id": "fi9q6pJE7eb6"
      },
      "source": [
        "Поиск колонок с датами.\n",
        "* нахождение по обнаруженному типу `datetime64[ns]`\n",
        "* нахождение колонок, содержащих в названии слово `Дата`\n",
        "\n",
        "Сопоставление полученных результатов между собой.\n",
        "Получилось, что данные по слову `Дата` имеют действительно даты, только не определились и полностью включают в себя найденные стобцы по автоматически определенному типу данных - `datetime64[ns]`"
      ]
    },
    {
      "cell_type": "code",
      "execution_count": 244,
      "metadata": {
        "colab": {
          "base_uri": "https://localhost:8080/"
        },
        "id": "l9jiypVDSI-x",
        "outputId": "15ec0239-97aa-4a71-aed8-522309976f63"
      },
      "outputs": [
        {
          "output_type": "stream",
          "name": "stdout",
          "text": [
            "Количество столбцов с типом 'datetime64[ns]': 0\n",
            "Количество столбцов со словом 'Дата': 2\n",
            "\n",
            "Список datatype_list входит в dataword_list\n",
            "\n"
          ]
        }
      ],
      "source": [
        "datatype_list = df.columns[df.dtypes == 'datetime64[ns]'].values.tolist()\n",
        "print(f\"Количество столбцов с типом 'datetime64[ns]': {len(datatype_list)}\")\n",
        "dataword_list = df.filter(regex=re.compile(\"дата\", re.IGNORECASE), axis=1).columns.values.tolist()\n",
        "print(f\"Количество столбцов со словом 'Дата': {len(dataword_list)}\")\n",
        "print()\n",
        "if len(datatype_list) > len(dataword_list):\n",
        "    data_diff = set(datatype_list) - set(dataword_list)\n",
        "    if set(dataword_list).issubset(datatype_list):\n",
        "        print(\"Список dataword_list входит в datatype_list\\n\")\n",
        "elif len(datatype_list) < len(dataword_list):\n",
        "    data_diff =  set(dataword_list) - set(datatype_list)\n",
        "    if set(datatype_list).issubset(dataword_list):\n",
        "        print(\"Список datatype_list входит в dataword_list\\n\")\n",
        "else: print(\"Списки равны\\n\")\n",
        "\n",
        "# Для вывода списка разницы колонок убрать комментарий с строки\n",
        "# print(*data_diff, sep=\"\\n\")"
      ]
    },
    {
      "cell_type": "markdown",
      "metadata": {
        "id": "lYQbinkRTDFC"
      },
      "source": [
        "Ищем колонки с Ф.И.О. врачей и названием медицинского учреждения"
      ]
    },
    {
      "cell_type": "code",
      "execution_count": 245,
      "metadata": {
        "colab": {
          "base_uri": "https://localhost:8080/"
        },
        "id": "33LI-sB5SX-f",
        "outputId": "e4414f45-d678-471b-dfff-5a40fa1410f2"
      },
      "outputs": [
        {
          "output_type": "stream",
          "name": "stdout",
          "text": [
            "Колчество колонок с Ф.И.О. врачей: 0\n",
            "Колчество колонок с названием мед. учреждения: 0\n",
            "Колчество колонок с названием специализации: 0\n"
          ]
        }
      ],
      "source": [
        "datadoctor_list = df.filter(regex=re.compile(\"врач\", re.IGNORECASE), axis=1).columns.values.tolist()\n",
        "print(f\"Колчество колонок с Ф.И.О. врачей: {len(datadoctor_list)}\")\n",
        "datasalon_list = df.filter(regex=re.compile(\"салон\", re.IGNORECASE), axis=1).columns.values.tolist()\n",
        "print(f\"Колчество колонок с названием мед. учреждения: {len(datasalon_list)}\")\n",
        "dataspec_list = df.filter(regex=re.compile(\"специализация\", re.IGNORECASE), axis=1).columns.values.tolist()\n",
        "print(f\"Колчество колонок с названием специализации: {len(datasalon_list)}\")"
      ]
    },
    {
      "cell_type": "markdown",
      "metadata": {
        "id": "_6bsMIZt8VTk"
      },
      "source": [
        "Анализ и проверка целевой колонки `ЗаключениеМК` на предмет \"мусорных\" данных и пропусков."
      ]
    },
    {
      "cell_type": "code",
      "execution_count": 246,
      "metadata": {
        "colab": {
          "base_uri": "https://localhost:8080/",
          "height": 0
        },
        "id": "UEQXNULHAD1a",
        "outputId": "b62b702c-8dbb-4bb5-9d75-3b9712bcebea"
      },
      "outputs": [
        {
          "output_type": "display_data",
          "data": {
            "text/plain": [
              "['Годен',\n",
              " 'ГоденСКоррекциейЗрения',\n",
              " 'НуждаетсяВДообследованииИЛечении',\n",
              " <NA>,\n",
              " 'ГоденБезРаботНаВысотах',\n",
              " 'ГоденСКоррекциейСлуха',\n",
              " ' п. 11.3',\n",
              " 'ОграниченноГоден',\n",
              " 'машинист бульдозера',\n",
              " 'Газоспасатель',\n",
              " ' Газоспасатель',\n",
              " 'Негоден']"
            ]
          },
          "metadata": {}
        }
      ],
      "source": [
        "display(df['ЗаключениеМК'].unique().tolist())"
      ]
    },
    {
      "cell_type": "markdown",
      "metadata": {
        "id": "rmz6kkCB8ez-"
      },
      "source": [
        "Создание маски с соответствующими критериям данными для целевой колонки."
      ]
    },
    {
      "cell_type": "code",
      "execution_count": 247,
      "metadata": {
        "id": "BCcrQW1xATBx"
      },
      "outputs": [],
      "source": [
        "mask_list = ['Годен', 'ГоденСКоррекциейЗрения', 'ГоденБезРаботНаВысотах',\n",
        "        'ГоденСКоррекциейСлуха', 'НуждаетсяВДообследованииИЛечении',\n",
        "        'ВременноНегоден', 'ОграниченноГоден', 'Негоден']"
      ]
    },
    {
      "cell_type": "markdown",
      "metadata": {
        "id": "fmQRtrw1816X"
      },
      "source": [
        "Чистка от мусорных, дублирующих, не имеющих ценности и пустых данных.\n",
        "\n",
        "Сначала производится чистка по маске из целевой колонки `ЗаключениеМК`, затем удаляются данные с датами, затем данные с GUID, дублирующие и пустые.\n",
        "\n",
        "Сравнивается форма датафрейма до и после чистки."
      ]
    },
    {
      "cell_type": "code",
      "execution_count": 248,
      "metadata": {
        "colab": {
          "base_uri": "https://localhost:8080/"
        },
        "id": "eLJDwq9R6s_a",
        "outputId": "73b06842-7558-44d2-c0c1-e665b35b5d51"
      },
      "outputs": [
        {
          "output_type": "stream",
          "name": "stdout",
          "text": [
            "Форма датафрейма до: (32686, 289)\n",
            "Чистка от некорректных данных в целевой колонке\n",
            "(19200, 289)\n",
            "Чистка от колонок с датами\n",
            "(19200, 287)\n",
            "Чистка от колонок с Ф.И.О. врачей\n",
            "(19200, 287)\n",
            "Чистка от колонок с названием мед. учреждений\n",
            "(19200, 287)\n",
            "Чистка от колонок с названием специализации врача\n",
            "(19200, 287)\n",
            "Чистка от колонок 'ЗаключениеМКПредставление', 'Заключение' и 'КлиентПолПредставление'\n",
            "(19200, 284)\n",
            "Чистка от колонок с GUID, полностью пустых колонок и строк, дубликатов колонок и строк...\n",
            "Форма датафрейма после: (12311, 135)\n"
          ]
        }
      ],
      "source": [
        "print(f\"Форма датафрейма до: {df.shape}\")\n",
        "try:\n",
        "    print(\"Чистка от некорректных данных в целевой колонке\")\n",
        "    df = df[df['ЗаключениеМК'].isin(mask_list)]\n",
        "    print(df.shape)\n",
        "\n",
        "    print(\"Чистка от колонок с датами\")\n",
        "    df = df.drop(dataword_list, axis='columns')\n",
        "    print(df.shape)\n",
        "\n",
        "    print(\"Чистка от колонок с Ф.И.О. врачей\")\n",
        "    df = df.drop(datadoctor_list, axis='columns')\n",
        "    print(df.shape)\n",
        "\n",
        "    print(\"Чистка от колонок с названием мед. учреждений\")\n",
        "    df = df.drop(datasalon_list, axis='columns')\n",
        "    print(df.shape)\n",
        "\n",
        "    print(\"Чистка от колонок с названием специализации врача\")\n",
        "    df = df.drop(dataspec_list, axis='columns')\n",
        "    print(df.shape)\n",
        "\n",
        "    print(\"Чистка от колонок 'ЗаключениеМКПредставление', 'Заключение' и 'КлиентПолПредставление'\")\n",
        "    df = df.drop(['ЗаключениеМКПредставление', 'Заключение', 'КлиентПолПредставление'], axis='columns')\n",
        "    print(df.shape)\n",
        "\n",
        "    print(\"Чистка от колонок с GUID, полностью пустых колонок и строк, дубликатов колонок и строк...\")\n",
        "    df = regex_to_nan(df)\n",
        "    df = clean_clear(df)\n",
        "except Exception as e:\n",
        "    print(e)\n",
        "print(f\"Форма датафрейма после: {df.shape}\")"
      ]
    },
    {
      "cell_type": "markdown",
      "metadata": {
        "id": "ZAIdKzAk9eVt"
      },
      "source": [
        "#Categorization, OHE, Tokenization, BoW, etc..."
      ]
    },
    {
      "cell_type": "code",
      "source": [
        "def categorize_reports(arg):\n",
        "    y_categories = [\n",
        "        ['Годен'],\n",
        "        ['ГоденСКоррекциейЗрения', 'ГоденБезРаботНаВысотах', 'ГоденСКоррекциейСлуха', 'ОграниченноГоден'],\n",
        "        ['НуждаетсяВДообследованииИЛечении', 'ВременноНегоден', 'Негоден']\n",
        "    ]\n",
        "    item = arg.strip()\n",
        "    if item in y_categories[0]:     return 'Годен'\n",
        "    if item in y_categories[1]:     return 'ОграниченноГоден'\n",
        "    if item in y_categories[2]:     return 'ВременноНегоден'"
      ],
      "metadata": {
        "id": "RbtvHXG84Adi"
      },
      "execution_count": 249,
      "outputs": []
    },
    {
      "cell_type": "code",
      "source": [
        "display(df['ЗаключениеМК'].value_counts())\n",
        "df['ЗаключениеМК'] = [categorize_reports(arg) for arg in df['ЗаключениеМК']]\n",
        "print()\n",
        "display(df['ЗаключениеМК'].value_counts())"
      ],
      "metadata": {
        "colab": {
          "base_uri": "https://localhost:8080/",
          "height": 0
        },
        "id": "BqX-Kpvd4Cu0",
        "outputId": "a7b1916b-f7f8-442d-e533-c840dcba2168"
      },
      "execution_count": 250,
      "outputs": [
        {
          "output_type": "display_data",
          "data": {
            "text/plain": [
              "Годен                               11349\n",
              "ГоденСКоррекциейЗрения                877\n",
              "ГоденБезРаботНаВысотах                 41\n",
              "НуждаетсяВДообследованииИЛечении       33\n",
              "ГоденСКоррекциейСлуха                   5\n",
              "ОграниченноГоден                        4\n",
              "Негоден                                 2\n",
              "Name: ЗаключениеМК, dtype: Int64"
            ]
          },
          "metadata": {}
        },
        {
          "output_type": "stream",
          "name": "stdout",
          "text": [
            "\n"
          ]
        },
        {
          "output_type": "display_data",
          "data": {
            "text/plain": [
              "Годен               11349\n",
              "ОграниченноГоден      927\n",
              "ВременноНегоден        35\n",
              "Name: ЗаключениеМК, dtype: int64"
            ]
          },
          "metadata": {}
        }
      ]
    },
    {
      "cell_type": "markdown",
      "metadata": {
        "id": "vk5KVnBZiGG-"
      },
      "source": [
        "Проверим типы данных в датафрейме"
      ]
    },
    {
      "cell_type": "code",
      "execution_count": 251,
      "metadata": {
        "colab": {
          "base_uri": "https://localhost:8080/",
          "height": 0
        },
        "id": "f2S9R4XXiIX_",
        "outputId": "e983c6ea-5973-4c19-8328-012e1e696977"
      },
      "outputs": [
        {
          "output_type": "display_data",
          "data": {
            "text/plain": [
              "string     133\n",
              "boolean      1\n",
              "object       1\n",
              "dtype: int64"
            ]
          },
          "metadata": {}
        }
      ],
      "source": [
        "display(df.dtypes.value_counts())"
      ]
    },
    {
      "cell_type": "code",
      "source": [
        "display(df.head())"
      ],
      "metadata": {
        "colab": {
          "base_uri": "https://localhost:8080/",
          "height": 0
        },
        "id": "_bgi2p6pXxZO",
        "outputId": "48d1e68c-0725-464a-b24c-6a9fda7e4359"
      },
      "execution_count": 252,
      "outputs": [
        {
          "output_type": "display_data",
          "data": {
            "text/plain": [
              "  КлиентПол  ТипМедосмотра  ПсихОсвидетельствование   Цех  \\\n",
              "0   Женский  Периодический                    False  <NA>   \n",
              "1   Женский  Периодический                    False  <NA>   \n",
              "2   Женский  Периодический                    False  <NA>   \n",
              "3   Женский  Периодический                    False  <NA>   \n",
              "4   Женский  Периодический                    False  <NA>   \n",
              "\n",
              "                      Профессия ЗаключениеМК ВредныеФакторы  \\\n",
              "0               Продавец-кассир        Годен           <NA>   \n",
              "1               Продавец-кассир        Годен         04.окт   \n",
              "2  Младший продавец-консультант        Годен             23   \n",
              "3             Менеджер магазина        Годен             23   \n",
              "4               Продавец-кассир        Годен             23   \n",
              "\n",
              "  Гинекология1_МКБ101 Гинекология1_МКБ102 Гинекология1_МКБ103  ...  \\\n",
              "0               Z00.0                <NA>                <NA>  ...   \n",
              "1               Z00.0                <NA>                <NA>  ...   \n",
              "2               Z00.0                <NA>                <NA>  ...   \n",
              "3               Z00.0                <NA>                <NA>  ...   \n",
              "4               Z00.0                <NA>                <NA>  ...   \n",
              "\n",
              "  Хирургия3_МКБ101 Хирургия3_МКБ102 ХирургНеИсп1_МКБ101 ХирургНеИсп1_МКБ102  \\\n",
              "0             <NA>             <NA>                <NA>                <NA>   \n",
              "1             <NA>             <NA>                <NA>                <NA>   \n",
              "2             <NA>             <NA>                <NA>                <NA>   \n",
              "3             <NA>             <NA>                <NA>                <NA>   \n",
              "4             <NA>             <NA>                <NA>                <NA>   \n",
              "\n",
              "  ХирургНеИсп1_МКБ103 ХирургНеИсп2_МКБ101 ЭКГНеИсп1_МКБ101 ЭКГНеИсп1_МКБ102  \\\n",
              "0                <NA>                <NA>             <NA>             <NA>   \n",
              "1                <NA>                <NA>             <NA>             <NA>   \n",
              "2                <NA>                <NA>             <NA>             <NA>   \n",
              "3                <NA>                <NA>             <NA>             <NA>   \n",
              "4                <NA>                <NA>             <NA>             <NA>   \n",
              "\n",
              "  Эндоскопия1_МКБ101 Эндоскопия1_МКБ102  \n",
              "0               <NA>               <NA>  \n",
              "1               <NA>               <NA>  \n",
              "2               <NA>               <NA>  \n",
              "3               <NA>               <NA>  \n",
              "4               <NA>               <NA>  \n",
              "\n",
              "[5 rows x 135 columns]"
            ],
            "text/html": [
              "\n",
              "\n",
              "  <div id=\"df-35e9b9f5-f17e-45fa-a96a-9b70660879be\">\n",
              "    <div class=\"colab-df-container\">\n",
              "      <div>\n",
              "<style scoped>\n",
              "    .dataframe tbody tr th:only-of-type {\n",
              "        vertical-align: middle;\n",
              "    }\n",
              "\n",
              "    .dataframe tbody tr th {\n",
              "        vertical-align: top;\n",
              "    }\n",
              "\n",
              "    .dataframe thead th {\n",
              "        text-align: right;\n",
              "    }\n",
              "</style>\n",
              "<table border=\"1\" class=\"dataframe\">\n",
              "  <thead>\n",
              "    <tr style=\"text-align: right;\">\n",
              "      <th></th>\n",
              "      <th>КлиентПол</th>\n",
              "      <th>ТипМедосмотра</th>\n",
              "      <th>ПсихОсвидетельствование</th>\n",
              "      <th>Цех</th>\n",
              "      <th>Профессия</th>\n",
              "      <th>ЗаключениеМК</th>\n",
              "      <th>ВредныеФакторы</th>\n",
              "      <th>Гинекология1_МКБ101</th>\n",
              "      <th>Гинекология1_МКБ102</th>\n",
              "      <th>Гинекология1_МКБ103</th>\n",
              "      <th>...</th>\n",
              "      <th>Хирургия3_МКБ101</th>\n",
              "      <th>Хирургия3_МКБ102</th>\n",
              "      <th>ХирургНеИсп1_МКБ101</th>\n",
              "      <th>ХирургНеИсп1_МКБ102</th>\n",
              "      <th>ХирургНеИсп1_МКБ103</th>\n",
              "      <th>ХирургНеИсп2_МКБ101</th>\n",
              "      <th>ЭКГНеИсп1_МКБ101</th>\n",
              "      <th>ЭКГНеИсп1_МКБ102</th>\n",
              "      <th>Эндоскопия1_МКБ101</th>\n",
              "      <th>Эндоскопия1_МКБ102</th>\n",
              "    </tr>\n",
              "  </thead>\n",
              "  <tbody>\n",
              "    <tr>\n",
              "      <th>0</th>\n",
              "      <td>Женский</td>\n",
              "      <td>Периодический</td>\n",
              "      <td>False</td>\n",
              "      <td>&lt;NA&gt;</td>\n",
              "      <td>Продавец-кассир</td>\n",
              "      <td>Годен</td>\n",
              "      <td>&lt;NA&gt;</td>\n",
              "      <td>Z00.0</td>\n",
              "      <td>&lt;NA&gt;</td>\n",
              "      <td>&lt;NA&gt;</td>\n",
              "      <td>...</td>\n",
              "      <td>&lt;NA&gt;</td>\n",
              "      <td>&lt;NA&gt;</td>\n",
              "      <td>&lt;NA&gt;</td>\n",
              "      <td>&lt;NA&gt;</td>\n",
              "      <td>&lt;NA&gt;</td>\n",
              "      <td>&lt;NA&gt;</td>\n",
              "      <td>&lt;NA&gt;</td>\n",
              "      <td>&lt;NA&gt;</td>\n",
              "      <td>&lt;NA&gt;</td>\n",
              "      <td>&lt;NA&gt;</td>\n",
              "    </tr>\n",
              "    <tr>\n",
              "      <th>1</th>\n",
              "      <td>Женский</td>\n",
              "      <td>Периодический</td>\n",
              "      <td>False</td>\n",
              "      <td>&lt;NA&gt;</td>\n",
              "      <td>Продавец-кассир</td>\n",
              "      <td>Годен</td>\n",
              "      <td>04.окт</td>\n",
              "      <td>Z00.0</td>\n",
              "      <td>&lt;NA&gt;</td>\n",
              "      <td>&lt;NA&gt;</td>\n",
              "      <td>...</td>\n",
              "      <td>&lt;NA&gt;</td>\n",
              "      <td>&lt;NA&gt;</td>\n",
              "      <td>&lt;NA&gt;</td>\n",
              "      <td>&lt;NA&gt;</td>\n",
              "      <td>&lt;NA&gt;</td>\n",
              "      <td>&lt;NA&gt;</td>\n",
              "      <td>&lt;NA&gt;</td>\n",
              "      <td>&lt;NA&gt;</td>\n",
              "      <td>&lt;NA&gt;</td>\n",
              "      <td>&lt;NA&gt;</td>\n",
              "    </tr>\n",
              "    <tr>\n",
              "      <th>2</th>\n",
              "      <td>Женский</td>\n",
              "      <td>Периодический</td>\n",
              "      <td>False</td>\n",
              "      <td>&lt;NA&gt;</td>\n",
              "      <td>Младший продавец-консультант</td>\n",
              "      <td>Годен</td>\n",
              "      <td>23</td>\n",
              "      <td>Z00.0</td>\n",
              "      <td>&lt;NA&gt;</td>\n",
              "      <td>&lt;NA&gt;</td>\n",
              "      <td>...</td>\n",
              "      <td>&lt;NA&gt;</td>\n",
              "      <td>&lt;NA&gt;</td>\n",
              "      <td>&lt;NA&gt;</td>\n",
              "      <td>&lt;NA&gt;</td>\n",
              "      <td>&lt;NA&gt;</td>\n",
              "      <td>&lt;NA&gt;</td>\n",
              "      <td>&lt;NA&gt;</td>\n",
              "      <td>&lt;NA&gt;</td>\n",
              "      <td>&lt;NA&gt;</td>\n",
              "      <td>&lt;NA&gt;</td>\n",
              "    </tr>\n",
              "    <tr>\n",
              "      <th>3</th>\n",
              "      <td>Женский</td>\n",
              "      <td>Периодический</td>\n",
              "      <td>False</td>\n",
              "      <td>&lt;NA&gt;</td>\n",
              "      <td>Менеджер магазина</td>\n",
              "      <td>Годен</td>\n",
              "      <td>23</td>\n",
              "      <td>Z00.0</td>\n",
              "      <td>&lt;NA&gt;</td>\n",
              "      <td>&lt;NA&gt;</td>\n",
              "      <td>...</td>\n",
              "      <td>&lt;NA&gt;</td>\n",
              "      <td>&lt;NA&gt;</td>\n",
              "      <td>&lt;NA&gt;</td>\n",
              "      <td>&lt;NA&gt;</td>\n",
              "      <td>&lt;NA&gt;</td>\n",
              "      <td>&lt;NA&gt;</td>\n",
              "      <td>&lt;NA&gt;</td>\n",
              "      <td>&lt;NA&gt;</td>\n",
              "      <td>&lt;NA&gt;</td>\n",
              "      <td>&lt;NA&gt;</td>\n",
              "    </tr>\n",
              "    <tr>\n",
              "      <th>4</th>\n",
              "      <td>Женский</td>\n",
              "      <td>Периодический</td>\n",
              "      <td>False</td>\n",
              "      <td>&lt;NA&gt;</td>\n",
              "      <td>Продавец-кассир</td>\n",
              "      <td>Годен</td>\n",
              "      <td>23</td>\n",
              "      <td>Z00.0</td>\n",
              "      <td>&lt;NA&gt;</td>\n",
              "      <td>&lt;NA&gt;</td>\n",
              "      <td>...</td>\n",
              "      <td>&lt;NA&gt;</td>\n",
              "      <td>&lt;NA&gt;</td>\n",
              "      <td>&lt;NA&gt;</td>\n",
              "      <td>&lt;NA&gt;</td>\n",
              "      <td>&lt;NA&gt;</td>\n",
              "      <td>&lt;NA&gt;</td>\n",
              "      <td>&lt;NA&gt;</td>\n",
              "      <td>&lt;NA&gt;</td>\n",
              "      <td>&lt;NA&gt;</td>\n",
              "      <td>&lt;NA&gt;</td>\n",
              "    </tr>\n",
              "  </tbody>\n",
              "</table>\n",
              "<p>5 rows × 135 columns</p>\n",
              "</div>\n",
              "      <button class=\"colab-df-convert\" onclick=\"convertToInteractive('df-35e9b9f5-f17e-45fa-a96a-9b70660879be')\"\n",
              "              title=\"Convert this dataframe to an interactive table.\"\n",
              "              style=\"display:none;\">\n",
              "\n",
              "  <svg xmlns=\"http://www.w3.org/2000/svg\" height=\"24px\"viewBox=\"0 0 24 24\"\n",
              "       width=\"24px\">\n",
              "    <path d=\"M0 0h24v24H0V0z\" fill=\"none\"/>\n",
              "    <path d=\"M18.56 5.44l.94 2.06.94-2.06 2.06-.94-2.06-.94-.94-2.06-.94 2.06-2.06.94zm-11 1L8.5 8.5l.94-2.06 2.06-.94-2.06-.94L8.5 2.5l-.94 2.06-2.06.94zm10 10l.94 2.06.94-2.06 2.06-.94-2.06-.94-.94-2.06-.94 2.06-2.06.94z\"/><path d=\"M17.41 7.96l-1.37-1.37c-.4-.4-.92-.59-1.43-.59-.52 0-1.04.2-1.43.59L10.3 9.45l-7.72 7.72c-.78.78-.78 2.05 0 2.83L4 21.41c.39.39.9.59 1.41.59.51 0 1.02-.2 1.41-.59l7.78-7.78 2.81-2.81c.8-.78.8-2.07 0-2.86zM5.41 20L4 18.59l7.72-7.72 1.47 1.35L5.41 20z\"/>\n",
              "  </svg>\n",
              "      </button>\n",
              "\n",
              "\n",
              "\n",
              "    <div id=\"df-341dab27-8dbf-4947-87d3-f92f4cc1863c\">\n",
              "      <button class=\"colab-df-quickchart\" onclick=\"quickchart('df-341dab27-8dbf-4947-87d3-f92f4cc1863c')\"\n",
              "              title=\"Suggest charts.\"\n",
              "              style=\"display:none;\">\n",
              "\n",
              "<svg xmlns=\"http://www.w3.org/2000/svg\" height=\"24px\"viewBox=\"0 0 24 24\"\n",
              "     width=\"24px\">\n",
              "    <g>\n",
              "        <path d=\"M19 3H5c-1.1 0-2 .9-2 2v14c0 1.1.9 2 2 2h14c1.1 0 2-.9 2-2V5c0-1.1-.9-2-2-2zM9 17H7v-7h2v7zm4 0h-2V7h2v10zm4 0h-2v-4h2v4z\"/>\n",
              "    </g>\n",
              "</svg>\n",
              "      </button>\n",
              "    </div>\n",
              "\n",
              "<style>\n",
              "  .colab-df-quickchart {\n",
              "    background-color: #E8F0FE;\n",
              "    border: none;\n",
              "    border-radius: 50%;\n",
              "    cursor: pointer;\n",
              "    display: none;\n",
              "    fill: #1967D2;\n",
              "    height: 32px;\n",
              "    padding: 0 0 0 0;\n",
              "    width: 32px;\n",
              "  }\n",
              "\n",
              "  .colab-df-quickchart:hover {\n",
              "    background-color: #E2EBFA;\n",
              "    box-shadow: 0px 1px 2px rgba(60, 64, 67, 0.3), 0px 1px 3px 1px rgba(60, 64, 67, 0.15);\n",
              "    fill: #174EA6;\n",
              "  }\n",
              "\n",
              "  [theme=dark] .colab-df-quickchart {\n",
              "    background-color: #3B4455;\n",
              "    fill: #D2E3FC;\n",
              "  }\n",
              "\n",
              "  [theme=dark] .colab-df-quickchart:hover {\n",
              "    background-color: #434B5C;\n",
              "    box-shadow: 0px 1px 3px 1px rgba(0, 0, 0, 0.15);\n",
              "    filter: drop-shadow(0px 1px 2px rgba(0, 0, 0, 0.3));\n",
              "    fill: #FFFFFF;\n",
              "  }\n",
              "</style>\n",
              "\n",
              "    <script>\n",
              "      async function quickchart(key) {\n",
              "        const containerElement = document.querySelector('#' + key);\n",
              "        const charts = await google.colab.kernel.invokeFunction(\n",
              "            'suggestCharts', [key], {});\n",
              "      }\n",
              "    </script>\n",
              "\n",
              "      <script>\n",
              "\n",
              "function displayQuickchartButton(domScope) {\n",
              "  let quickchartButtonEl =\n",
              "    domScope.querySelector('#df-341dab27-8dbf-4947-87d3-f92f4cc1863c button.colab-df-quickchart');\n",
              "  quickchartButtonEl.style.display =\n",
              "    google.colab.kernel.accessAllowed ? 'block' : 'none';\n",
              "}\n",
              "\n",
              "        displayQuickchartButton(document);\n",
              "      </script>\n",
              "      <style>\n",
              "    .colab-df-container {\n",
              "      display:flex;\n",
              "      flex-wrap:wrap;\n",
              "      gap: 12px;\n",
              "    }\n",
              "\n",
              "    .colab-df-convert {\n",
              "      background-color: #E8F0FE;\n",
              "      border: none;\n",
              "      border-radius: 50%;\n",
              "      cursor: pointer;\n",
              "      display: none;\n",
              "      fill: #1967D2;\n",
              "      height: 32px;\n",
              "      padding: 0 0 0 0;\n",
              "      width: 32px;\n",
              "    }\n",
              "\n",
              "    .colab-df-convert:hover {\n",
              "      background-color: #E2EBFA;\n",
              "      box-shadow: 0px 1px 2px rgba(60, 64, 67, 0.3), 0px 1px 3px 1px rgba(60, 64, 67, 0.15);\n",
              "      fill: #174EA6;\n",
              "    }\n",
              "\n",
              "    [theme=dark] .colab-df-convert {\n",
              "      background-color: #3B4455;\n",
              "      fill: #D2E3FC;\n",
              "    }\n",
              "\n",
              "    [theme=dark] .colab-df-convert:hover {\n",
              "      background-color: #434B5C;\n",
              "      box-shadow: 0px 1px 3px 1px rgba(0, 0, 0, 0.15);\n",
              "      filter: drop-shadow(0px 1px 2px rgba(0, 0, 0, 0.3));\n",
              "      fill: #FFFFFF;\n",
              "    }\n",
              "  </style>\n",
              "\n",
              "      <script>\n",
              "        const buttonEl =\n",
              "          document.querySelector('#df-35e9b9f5-f17e-45fa-a96a-9b70660879be button.colab-df-convert');\n",
              "        buttonEl.style.display =\n",
              "          google.colab.kernel.accessAllowed ? 'block' : 'none';\n",
              "\n",
              "        async function convertToInteractive(key) {\n",
              "          const element = document.querySelector('#df-35e9b9f5-f17e-45fa-a96a-9b70660879be');\n",
              "          const dataTable =\n",
              "            await google.colab.kernel.invokeFunction('convertToInteractive',\n",
              "                                                     [key], {});\n",
              "          if (!dataTable) return;\n",
              "\n",
              "          const docLinkHtml = 'Like what you see? Visit the ' +\n",
              "            '<a target=\"_blank\" href=https://colab.research.google.com/notebooks/data_table.ipynb>data table notebook</a>'\n",
              "            + ' to learn more about interactive tables.';\n",
              "          element.innerHTML = '';\n",
              "          dataTable['output_type'] = 'display_data';\n",
              "          await google.colab.output.renderOutput(dataTable, element);\n",
              "          const docLink = document.createElement('div');\n",
              "          docLink.innerHTML = docLinkHtml;\n",
              "          element.appendChild(docLink);\n",
              "        }\n",
              "      </script>\n",
              "    </div>\n",
              "  </div>\n"
            ]
          },
          "metadata": {}
        }
      ]
    },
    {
      "cell_type": "code",
      "source": [
        "display(df.columns[df.dtypes == 'boolean'].values.tolist())"
      ],
      "metadata": {
        "colab": {
          "base_uri": "https://localhost:8080/",
          "height": 0
        },
        "id": "yXWfSwuWwHX-",
        "outputId": "3bb1007f-bf21-4437-e4e7-2b594f7bd290"
      },
      "execution_count": 253,
      "outputs": [
        {
          "output_type": "display_data",
          "data": {
            "text/plain": [
              "['ПсихОсвидетельствование']"
            ]
          },
          "metadata": {}
        }
      ]
    },
    {
      "cell_type": "markdown",
      "source": [
        "Представим `boolean` данные как данные типа `object`.\n",
        "Заменим значения `<NA>` на `-1`, `False` на `0`, а `True` на `1`.\n",
        "Сохраним как `float`"
      ],
      "metadata": {
        "id": "ICFawHu45cWB"
      }
    },
    {
      "cell_type": "code",
      "source": [
        "print(\"df['ПсихОсвидетельствование'] dtype(boolean -> object)\")\n",
        "df['ПсихОсвидетельствование'] = df['ПсихОсвидетельствование'].astype('object')\n",
        "print(\"df['ПсихОсвидетельствование'] Замена <NA> -> -1, False -> 0, True -> 1...\")\n",
        "df['ПсихОсвидетельствование'] = df['ПсихОсвидетельствование'].fillna(-1).replace(False, 0).replace(True, 1)\n",
        "df['ПсихОсвидетельствование'] = df['ПсихОсвидетельствование'].astype('float')\n",
        "#display(df['ПсихОсвидетельствование'].head())\n",
        "#display(df['ПсихОсвидетельствование'].dtype)\n",
        "display(df.dtypes.value_counts())"
      ],
      "metadata": {
        "colab": {
          "base_uri": "https://localhost:8080/",
          "height": 0
        },
        "id": "iMNOxYb0wByQ",
        "outputId": "d32062c8-3c98-46cd-f14f-d9a46e80a3eb"
      },
      "execution_count": 254,
      "outputs": [
        {
          "output_type": "stream",
          "name": "stdout",
          "text": [
            "df['ПсихОсвидетельствование'] dtype(boolean -> object)\n",
            "df['ПсихОсвидетельствование'] Замена <NA> -> -1, False -> 0, True -> 1...\n"
          ]
        },
        {
          "output_type": "display_data",
          "data": {
            "text/plain": [
              "string     133\n",
              "float64      1\n",
              "object       1\n",
              "dtype: int64"
            ]
          },
          "metadata": {}
        }
      ]
    },
    {
      "cell_type": "markdown",
      "source": [
        "В колонке `'ВредныеФакторы'` есть неверно интерпретированные данные вида `18.фев` и `04.02.2005`.\n",
        "Иправим приведя данные к нужному виду."
      ],
      "metadata": {
        "id": "wkFNhhaK50cs"
      }
    },
    {
      "cell_type": "code",
      "source": [
        "#display(df['ВредныеФакторы'].unique().tolist())\n",
        "\n",
        "#создадим словарь замены буквенного написания месяца на числовые символы\n",
        "m_dict = {'янв': '1', 'фев': '2', 'мар': '3',\n",
        "          'апр': '4', 'май': '05', 'июн': '6',\n",
        "          'июл': '7', 'авг': '8', 'сен': '9',\n",
        "          'окт': '10', 'ноя': '11', 'дек': '12'}\n",
        "\n",
        "#пройдемся по словарю и заменим ошибочные значения формата '18.фев'\n",
        "for k,v in m_dict.items():\n",
        "    df['ВредныеФакторы'] = df['ВредныеФакторы'].str.replace(k, v, regex=True)\n",
        "\n",
        "#заменим другие ошибочные значения формата '04.02.2005' и уберем подстановку 20хх года и лишние нули перед номерами\n",
        "df['ВредныеФакторы'] = df['ВредныеФакторы'].str.replace(r'\\.20', '.', regex=True)\n",
        "df['ВредныеФакторы'] = df['ВредныеФакторы'].str.replace(r'^0', '', regex=True)\n",
        "df['ВредныеФакторы'] = df['ВредныеФакторы'].str.replace(r'\\.0', '.', regex=True)\n",
        "df['ВредныеФакторы'] = df['ВредныеФакторы'].str.replace(r'\\,0', ',', regex=True)"
      ],
      "metadata": {
        "id": "4iCutXJ4QdUa"
      },
      "execution_count": 255,
      "outputs": []
    },
    {
      "cell_type": "markdown",
      "source": [
        "Проверим колонку `КлиентПол`"
      ],
      "metadata": {
        "id": "AY9v5ddt9_5O"
      }
    },
    {
      "cell_type": "code",
      "source": [
        "display(df['КлиентПол'].unique().tolist())"
      ],
      "metadata": {
        "colab": {
          "base_uri": "https://localhost:8080/",
          "height": 0
        },
        "id": "mH7F6eTD79Fr",
        "outputId": "bd03fab8-fda9-4bb8-f0c0-b2efb34eedb0"
      },
      "execution_count": 256,
      "outputs": [
        {
          "output_type": "display_data",
          "data": {
            "text/plain": [
              "['Женский', 'Мужской', <NA>, 'НеУказан']"
            ]
          },
          "metadata": {}
        }
      ]
    },
    {
      "cell_type": "code",
      "source": [
        "# заменим отсуствующие значения на значение 'НеУказан'\n",
        "df['КлиентПол'] = df['КлиентПол'].fillna('НеУказан')\n",
        "display(df['КлиентПол'].dtype)\n",
        "display(df['КлиентПол'].unique().tolist())\n",
        "display(df.dtypes.value_counts())"
      ],
      "metadata": {
        "colab": {
          "base_uri": "https://localhost:8080/",
          "height": 0
        },
        "id": "GViWdyU--D3A",
        "outputId": "e0008e20-667d-44e3-cae0-94efa1f38d9b"
      },
      "execution_count": 257,
      "outputs": [
        {
          "output_type": "display_data",
          "data": {
            "text/plain": [
              "string[python]"
            ]
          },
          "metadata": {}
        },
        {
          "output_type": "display_data",
          "data": {
            "text/plain": [
              "['Женский', 'Мужской', 'НеУказан']"
            ]
          },
          "metadata": {}
        },
        {
          "output_type": "display_data",
          "data": {
            "text/plain": [
              "string     133\n",
              "float64      1\n",
              "object       1\n",
              "dtype: int64"
            ]
          },
          "metadata": {}
        }
      ]
    }
  ],
  "metadata": {
    "colab": {
      "collapsed_sections": [
        "0DOWxZHo-rKv",
        "FPckeeRI-4eA",
        "ZAIdKzAk9eVt"
      ],
      "provenance": [],
      "authorship_tag": "ABX9TyMQXU1N+zikPqWNbbhCCwcd",
      "include_colab_link": true
    },
    "kernelspec": {
      "display_name": "Python 3",
      "name": "python3"
    },
    "language_info": {
      "name": "python"
    }
  },
  "nbformat": 4,
  "nbformat_minor": 0
}