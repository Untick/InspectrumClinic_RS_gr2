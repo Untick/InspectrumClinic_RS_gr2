{
  "nbformat": 4,
  "nbformat_minor": 0,
  "metadata": {
    "colab": {
      "provenance": [],
      "collapsed_sections": [
        "0DOWxZHo-rKv",
        "FPckeeRI-4eA",
        "ZAIdKzAk9eVt"
      ],
      "authorship_tag": "ABX9TyOv4GZc+tXfEzYxPX3/y0cF",
      "include_colab_link": true
    },
    "kernelspec": {
      "name": "python3",
      "display_name": "Python 3"
    },
    "language_info": {
      "name": "python"
    }
  },
  "cells": [
    {
      "cell_type": "markdown",
      "metadata": {
        "id": "view-in-github",
        "colab_type": "text"
      },
      "source": [
        "<a href=\"https://colab.research.google.com/github/Untick/InspectrumClinic_RS_gr2/blob/main/Yurkov%20Vladimir/Untitled1.ipynb\" target=\"_parent\"><img src=\"https://colab.research.google.com/assets/colab-badge.svg\" alt=\"Open In Colab\"/></a>"
      ]
    },
    {
      "cell_type": "markdown",
      "source": [
        "#Preparations"
      ],
      "metadata": {
        "id": "0DOWxZHo-rKv"
      }
    },
    {
      "cell_type": "markdown",
      "source": [
        "Импортируем модули"
      ],
      "metadata": {
        "id": "7gqe5IcI564K"
      }
    },
    {
      "cell_type": "code",
      "execution_count": 1,
      "metadata": {
        "id": "-8PJMnHHMYl2"
      },
      "outputs": [],
      "source": [
        "import pandas as pd\n",
        "import numpy as np\n",
        "import gdown\n",
        "import matplotlib.pyplot as plt\n",
        "import re"
      ]
    },
    {
      "cell_type": "markdown",
      "source": [
        "Загружаем данные и преобразуем их в pandas dataframe"
      ],
      "metadata": {
        "id": "2j-GR4BO586l"
      }
    },
    {
      "cell_type": "code",
      "source": [
        "url = 'https://storage.yandexcloud.net/terratraineeship/23_InspectrumClinic_RS/datasets/%D0%B4%D0%B0%D1%82%D0%B0%D1%81%D0%B5%D1%82%20%D0%BF%D1%80%D0%BE%D1%84%D0%BF%D0%B0%D1%82%D0%BE%D0%BB%D0%BE%D0%B3%20%D1%87%D0%B0%D1%81%D1%82%D1%8C.xlsx'\n",
        "file_name = 'data.xlsx'\n",
        "gdown.download(url, file_name, quiet=False)\n",
        "df_backup = pd.read_excel(file_name)\n",
        "df_backup.head()"
      ],
      "metadata": {
        "colab": {
          "base_uri": "https://localhost:8080/",
          "height": 629
        },
        "id": "SWzCwkkXMcW4",
        "outputId": "5400929e-feff-4cc7-95a8-49d1ef6bc416"
      },
      "execution_count": 2,
      "outputs": [
        {
          "output_type": "stream",
          "name": "stderr",
          "text": [
            "Downloading...\n",
            "From: https://storage.yandexcloud.net/terratraineeship/23_InspectrumClinic_RS/datasets/%D0%B4%D0%B0%D1%82%D0%B0%D1%81%D0%B5%D1%82%20%D0%BF%D1%80%D0%BE%D1%84%D0%BF%D0%B0%D1%82%D0%BE%D0%BB%D0%BE%D0%B3%20%D1%87%D0%B0%D1%81%D1%82%D1%8C.xlsx\n",
            "To: /content/data.xlsx\n",
            "100%|██████████| 32.4M/32.4M [00:02<00:00, 13.6MB/s]\n"
          ]
        },
        {
          "output_type": "execute_result",
          "data": {
            "text/plain": [
              "          ДокументПрохождениеМедосмотра                                Клиент  \\\n",
              "0  7f41ca7e-7dac-11ec-80fc-0cc47aab8067  c91e3407-b81f-11e9-80cf-0cc47aab8067   \n",
              "1  2ee1f9ac-83dd-11ec-80fc-0cc47aab8067  1a1a5fea-8b7f-11eb-80e8-0cc47aab8067   \n",
              "2  9cbb191e-8e24-11ec-80fe-0cc47aab8067  7fe324e0-fa51-11eb-80f6-0cc47aab8067   \n",
              "3  b8a33910-8eec-11ec-80fe-0cc47aab8067  98f9d761-8d65-11ec-80fe-0cc47aab8067   \n",
              "4  0bb0d181-938c-11ec-80fe-0cc47aab8067  009aac7d-7bcf-11eb-80e8-0cc47aab8067   \n",
              "\n",
              "  КлиентДатаРождения КлиентПол КлиентПолПредставление  \\\n",
              "0         1976-10-24   Женский                Женский   \n",
              "1         1987-11-18   Мужской                Мужской   \n",
              "2         1985-09-08   Мужской                Мужской   \n",
              "3         1988-04-25   Мужской                Мужской   \n",
              "4         1984-04-17   Мужской                Мужской   \n",
              "\n",
              "  ДатаЗавершенияМедосмотра  ТипМедосмотра ТипМедосмотраПредставление  \\\n",
              "0               2022-01-25  Периодический              Периодический   \n",
              "1               2022-02-02  Периодический              Периодический   \n",
              "2               2022-02-15  Периодический              Периодический   \n",
              "3               2022-02-16  Периодический              Периодический   \n",
              "4               2022-02-22  Периодический              Периодический   \n",
              "\n",
              "   ПсихОсвидетельствование                            Контрагент  ...  \\\n",
              "0                    False  23c173a7-30d9-11e7-80d8-708bcd7f83cd  ...   \n",
              "1                    False  a6d559b0-7835-11eb-80e8-0cc47aab8067  ...   \n",
              "2                    False  a6d559b0-7835-11eb-80e8-0cc47aab8067  ...   \n",
              "3                    False  a6d559b0-7835-11eb-80e8-0cc47aab8067  ...   \n",
              "4                    False  a6d559b0-7835-11eb-80e8-0cc47aab8067  ...   \n",
              "\n",
              "  Оториноларингология3_Аудиометрия1_Значение  \\\n",
              "0                                        NaN   \n",
              "1                                        NaN   \n",
              "2                                        NaN   \n",
              "3                                        NaN   \n",
              "4                                        NaN   \n",
              "\n",
              "  Оториноларингология3_Аудиометрия1_ЗначениеПредставление  \\\n",
              "0                                                NaN        \n",
              "1                                                NaN        \n",
              "2                                                NaN        \n",
              "3                                                NaN        \n",
              "4                                                NaN        \n",
              "\n",
              "  Оториноларингология1_ЖалобыДополнение_Значение  \\\n",
              "0                                            NaN   \n",
              "1                                            NaN   \n",
              "2                                            NaN   \n",
              "3                                            NaN   \n",
              "4                                            NaN   \n",
              "\n",
              "  Оториноларингология1_ЖалобыДополнение_ЗначениеПредставление  \\\n",
              "0                                                NaN            \n",
              "1                                                NaN            \n",
              "2                                                NaN            \n",
              "3                                                NaN            \n",
              "4                                                NaN            \n",
              "\n",
              "  Стоматология2_ВП2_Значение Стоматология2_ВП2_ЗначениеПредставление  \\\n",
              "0                        NaN                                     NaN   \n",
              "1                        NaN                                     NaN   \n",
              "2                        NaN                                     NaN   \n",
              "3                        NaN                                     NaN   \n",
              "4                        NaN                                     NaN   \n",
              "\n",
              "  Терапия2_ЗаключениеФОГК_Значение  \\\n",
              "0                              NaN   \n",
              "1                              NaN   \n",
              "2                              NaN   \n",
              "3                              NaN   \n",
              "4                              NaN   \n",
              "\n",
              "  Терапия2_ЗаключениеФОГК_ЗначениеПредставление  \\\n",
              "0                                           NaN   \n",
              "1                                           NaN   \n",
              "2                                           NaN   \n",
              "3                                           NaN   \n",
              "4                                           NaN   \n",
              "\n",
              "  Офтальмология1_ДвигательныйАппаратГлазДополнение_Значение  \\\n",
              "0                                                NaN          \n",
              "1                                                NaN          \n",
              "2                                                NaN          \n",
              "3                                                NaN          \n",
              "4                                                NaN          \n",
              "\n",
              "  Офтальмология1_ДвигательныйАппаратГлазДополнение_ЗначениеПредставление  \n",
              "0                                                NaN                      \n",
              "1                                                NaN                      \n",
              "2                                                NaN                      \n",
              "3                                                NaN                      \n",
              "4                                                NaN                      \n",
              "\n",
              "[5 rows x 4587 columns]"
            ],
            "text/html": [
              "\n",
              "  <div id=\"df-7c09a6ce-85b7-4f66-ab0e-3d465758f8be\">\n",
              "    <div class=\"colab-df-container\">\n",
              "      <div>\n",
              "<style scoped>\n",
              "    .dataframe tbody tr th:only-of-type {\n",
              "        vertical-align: middle;\n",
              "    }\n",
              "\n",
              "    .dataframe tbody tr th {\n",
              "        vertical-align: top;\n",
              "    }\n",
              "\n",
              "    .dataframe thead th {\n",
              "        text-align: right;\n",
              "    }\n",
              "</style>\n",
              "<table border=\"1\" class=\"dataframe\">\n",
              "  <thead>\n",
              "    <tr style=\"text-align: right;\">\n",
              "      <th></th>\n",
              "      <th>ДокументПрохождениеМедосмотра</th>\n",
              "      <th>Клиент</th>\n",
              "      <th>КлиентДатаРождения</th>\n",
              "      <th>КлиентПол</th>\n",
              "      <th>КлиентПолПредставление</th>\n",
              "      <th>ДатаЗавершенияМедосмотра</th>\n",
              "      <th>ТипМедосмотра</th>\n",
              "      <th>ТипМедосмотраПредставление</th>\n",
              "      <th>ПсихОсвидетельствование</th>\n",
              "      <th>Контрагент</th>\n",
              "      <th>...</th>\n",
              "      <th>Оториноларингология3_Аудиометрия1_Значение</th>\n",
              "      <th>Оториноларингология3_Аудиометрия1_ЗначениеПредставление</th>\n",
              "      <th>Оториноларингология1_ЖалобыДополнение_Значение</th>\n",
              "      <th>Оториноларингология1_ЖалобыДополнение_ЗначениеПредставление</th>\n",
              "      <th>Стоматология2_ВП2_Значение</th>\n",
              "      <th>Стоматология2_ВП2_ЗначениеПредставление</th>\n",
              "      <th>Терапия2_ЗаключениеФОГК_Значение</th>\n",
              "      <th>Терапия2_ЗаключениеФОГК_ЗначениеПредставление</th>\n",
              "      <th>Офтальмология1_ДвигательныйАппаратГлазДополнение_Значение</th>\n",
              "      <th>Офтальмология1_ДвигательныйАппаратГлазДополнение_ЗначениеПредставление</th>\n",
              "    </tr>\n",
              "  </thead>\n",
              "  <tbody>\n",
              "    <tr>\n",
              "      <th>0</th>\n",
              "      <td>7f41ca7e-7dac-11ec-80fc-0cc47aab8067</td>\n",
              "      <td>c91e3407-b81f-11e9-80cf-0cc47aab8067</td>\n",
              "      <td>1976-10-24</td>\n",
              "      <td>Женский</td>\n",
              "      <td>Женский</td>\n",
              "      <td>2022-01-25</td>\n",
              "      <td>Периодический</td>\n",
              "      <td>Периодический</td>\n",
              "      <td>False</td>\n",
              "      <td>23c173a7-30d9-11e7-80d8-708bcd7f83cd</td>\n",
              "      <td>...</td>\n",
              "      <td>NaN</td>\n",
              "      <td>NaN</td>\n",
              "      <td>NaN</td>\n",
              "      <td>NaN</td>\n",
              "      <td>NaN</td>\n",
              "      <td>NaN</td>\n",
              "      <td>NaN</td>\n",
              "      <td>NaN</td>\n",
              "      <td>NaN</td>\n",
              "      <td>NaN</td>\n",
              "    </tr>\n",
              "    <tr>\n",
              "      <th>1</th>\n",
              "      <td>2ee1f9ac-83dd-11ec-80fc-0cc47aab8067</td>\n",
              "      <td>1a1a5fea-8b7f-11eb-80e8-0cc47aab8067</td>\n",
              "      <td>1987-11-18</td>\n",
              "      <td>Мужской</td>\n",
              "      <td>Мужской</td>\n",
              "      <td>2022-02-02</td>\n",
              "      <td>Периодический</td>\n",
              "      <td>Периодический</td>\n",
              "      <td>False</td>\n",
              "      <td>a6d559b0-7835-11eb-80e8-0cc47aab8067</td>\n",
              "      <td>...</td>\n",
              "      <td>NaN</td>\n",
              "      <td>NaN</td>\n",
              "      <td>NaN</td>\n",
              "      <td>NaN</td>\n",
              "      <td>NaN</td>\n",
              "      <td>NaN</td>\n",
              "      <td>NaN</td>\n",
              "      <td>NaN</td>\n",
              "      <td>NaN</td>\n",
              "      <td>NaN</td>\n",
              "    </tr>\n",
              "    <tr>\n",
              "      <th>2</th>\n",
              "      <td>9cbb191e-8e24-11ec-80fe-0cc47aab8067</td>\n",
              "      <td>7fe324e0-fa51-11eb-80f6-0cc47aab8067</td>\n",
              "      <td>1985-09-08</td>\n",
              "      <td>Мужской</td>\n",
              "      <td>Мужской</td>\n",
              "      <td>2022-02-15</td>\n",
              "      <td>Периодический</td>\n",
              "      <td>Периодический</td>\n",
              "      <td>False</td>\n",
              "      <td>a6d559b0-7835-11eb-80e8-0cc47aab8067</td>\n",
              "      <td>...</td>\n",
              "      <td>NaN</td>\n",
              "      <td>NaN</td>\n",
              "      <td>NaN</td>\n",
              "      <td>NaN</td>\n",
              "      <td>NaN</td>\n",
              "      <td>NaN</td>\n",
              "      <td>NaN</td>\n",
              "      <td>NaN</td>\n",
              "      <td>NaN</td>\n",
              "      <td>NaN</td>\n",
              "    </tr>\n",
              "    <tr>\n",
              "      <th>3</th>\n",
              "      <td>b8a33910-8eec-11ec-80fe-0cc47aab8067</td>\n",
              "      <td>98f9d761-8d65-11ec-80fe-0cc47aab8067</td>\n",
              "      <td>1988-04-25</td>\n",
              "      <td>Мужской</td>\n",
              "      <td>Мужской</td>\n",
              "      <td>2022-02-16</td>\n",
              "      <td>Периодический</td>\n",
              "      <td>Периодический</td>\n",
              "      <td>False</td>\n",
              "      <td>a6d559b0-7835-11eb-80e8-0cc47aab8067</td>\n",
              "      <td>...</td>\n",
              "      <td>NaN</td>\n",
              "      <td>NaN</td>\n",
              "      <td>NaN</td>\n",
              "      <td>NaN</td>\n",
              "      <td>NaN</td>\n",
              "      <td>NaN</td>\n",
              "      <td>NaN</td>\n",
              "      <td>NaN</td>\n",
              "      <td>NaN</td>\n",
              "      <td>NaN</td>\n",
              "    </tr>\n",
              "    <tr>\n",
              "      <th>4</th>\n",
              "      <td>0bb0d181-938c-11ec-80fe-0cc47aab8067</td>\n",
              "      <td>009aac7d-7bcf-11eb-80e8-0cc47aab8067</td>\n",
              "      <td>1984-04-17</td>\n",
              "      <td>Мужской</td>\n",
              "      <td>Мужской</td>\n",
              "      <td>2022-02-22</td>\n",
              "      <td>Периодический</td>\n",
              "      <td>Периодический</td>\n",
              "      <td>False</td>\n",
              "      <td>a6d559b0-7835-11eb-80e8-0cc47aab8067</td>\n",
              "      <td>...</td>\n",
              "      <td>NaN</td>\n",
              "      <td>NaN</td>\n",
              "      <td>NaN</td>\n",
              "      <td>NaN</td>\n",
              "      <td>NaN</td>\n",
              "      <td>NaN</td>\n",
              "      <td>NaN</td>\n",
              "      <td>NaN</td>\n",
              "      <td>NaN</td>\n",
              "      <td>NaN</td>\n",
              "    </tr>\n",
              "  </tbody>\n",
              "</table>\n",
              "<p>5 rows × 4587 columns</p>\n",
              "</div>\n",
              "      <button class=\"colab-df-convert\" onclick=\"convertToInteractive('df-7c09a6ce-85b7-4f66-ab0e-3d465758f8be')\"\n",
              "              title=\"Convert this dataframe to an interactive table.\"\n",
              "              style=\"display:none;\">\n",
              "        \n",
              "  <svg xmlns=\"http://www.w3.org/2000/svg\" height=\"24px\"viewBox=\"0 0 24 24\"\n",
              "       width=\"24px\">\n",
              "    <path d=\"M0 0h24v24H0V0z\" fill=\"none\"/>\n",
              "    <path d=\"M18.56 5.44l.94 2.06.94-2.06 2.06-.94-2.06-.94-.94-2.06-.94 2.06-2.06.94zm-11 1L8.5 8.5l.94-2.06 2.06-.94-2.06-.94L8.5 2.5l-.94 2.06-2.06.94zm10 10l.94 2.06.94-2.06 2.06-.94-2.06-.94-.94-2.06-.94 2.06-2.06.94z\"/><path d=\"M17.41 7.96l-1.37-1.37c-.4-.4-.92-.59-1.43-.59-.52 0-1.04.2-1.43.59L10.3 9.45l-7.72 7.72c-.78.78-.78 2.05 0 2.83L4 21.41c.39.39.9.59 1.41.59.51 0 1.02-.2 1.41-.59l7.78-7.78 2.81-2.81c.8-.78.8-2.07 0-2.86zM5.41 20L4 18.59l7.72-7.72 1.47 1.35L5.41 20z\"/>\n",
              "  </svg>\n",
              "      </button>\n",
              "      \n",
              "  <style>\n",
              "    .colab-df-container {\n",
              "      display:flex;\n",
              "      flex-wrap:wrap;\n",
              "      gap: 12px;\n",
              "    }\n",
              "\n",
              "    .colab-df-convert {\n",
              "      background-color: #E8F0FE;\n",
              "      border: none;\n",
              "      border-radius: 50%;\n",
              "      cursor: pointer;\n",
              "      display: none;\n",
              "      fill: #1967D2;\n",
              "      height: 32px;\n",
              "      padding: 0 0 0 0;\n",
              "      width: 32px;\n",
              "    }\n",
              "\n",
              "    .colab-df-convert:hover {\n",
              "      background-color: #E2EBFA;\n",
              "      box-shadow: 0px 1px 2px rgba(60, 64, 67, 0.3), 0px 1px 3px 1px rgba(60, 64, 67, 0.15);\n",
              "      fill: #174EA6;\n",
              "    }\n",
              "\n",
              "    [theme=dark] .colab-df-convert {\n",
              "      background-color: #3B4455;\n",
              "      fill: #D2E3FC;\n",
              "    }\n",
              "\n",
              "    [theme=dark] .colab-df-convert:hover {\n",
              "      background-color: #434B5C;\n",
              "      box-shadow: 0px 1px 3px 1px rgba(0, 0, 0, 0.15);\n",
              "      filter: drop-shadow(0px 1px 2px rgba(0, 0, 0, 0.3));\n",
              "      fill: #FFFFFF;\n",
              "    }\n",
              "  </style>\n",
              "\n",
              "      <script>\n",
              "        const buttonEl =\n",
              "          document.querySelector('#df-7c09a6ce-85b7-4f66-ab0e-3d465758f8be button.colab-df-convert');\n",
              "        buttonEl.style.display =\n",
              "          google.colab.kernel.accessAllowed ? 'block' : 'none';\n",
              "\n",
              "        async function convertToInteractive(key) {\n",
              "          const element = document.querySelector('#df-7c09a6ce-85b7-4f66-ab0e-3d465758f8be');\n",
              "          const dataTable =\n",
              "            await google.colab.kernel.invokeFunction('convertToInteractive',\n",
              "                                                     [key], {});\n",
              "          if (!dataTable) return;\n",
              "\n",
              "          const docLinkHtml = 'Like what you see? Visit the ' +\n",
              "            '<a target=\"_blank\" href=https://colab.research.google.com/notebooks/data_table.ipynb>data table notebook</a>'\n",
              "            + ' to learn more about interactive tables.';\n",
              "          element.innerHTML = '';\n",
              "          dataTable['output_type'] = 'display_data';\n",
              "          await google.colab.output.renderOutput(dataTable, element);\n",
              "          const docLink = document.createElement('div');\n",
              "          docLink.innerHTML = docLinkHtml;\n",
              "          element.appendChild(docLink);\n",
              "        }\n",
              "      </script>\n",
              "    </div>\n",
              "  </div>\n",
              "  "
            ]
          },
          "metadata": {},
          "execution_count": 2
        }
      ]
    },
    {
      "cell_type": "markdown",
      "source": [
        "#Getting started with a dataframe"
      ],
      "metadata": {
        "id": "FPckeeRI-4eA"
      }
    },
    {
      "cell_type": "markdown",
      "source": [
        "Делаем копию датафрейма"
      ],
      "metadata": {
        "id": "0039arXp50L9"
      }
    },
    {
      "cell_type": "code",
      "source": [
        "df = df_backup.copy()"
      ],
      "metadata": {
        "id": "wnH_DbiFMjO9"
      },
      "execution_count": 3,
      "outputs": []
    },
    {
      "cell_type": "markdown",
      "source": [
        "Блок с функциями.\n",
        "\n",
        "* `clean_clear` - функция, удаляющая дубликаты строк/столбцов и полностью пустые \n",
        "строки/столбцы.\n",
        "* `regex_to_nan` - функция, находящая значения по регулярному выражению и заменяющая его на `np.nan`.\n",
        "* `fills_count` - функция, возвращающая заполненность датафрейма в процентах."
      ],
      "metadata": {
        "id": "Go_Ihwfz6Ho1"
      }
    },
    {
      "cell_type": "code",
      "source": [
        "def clean_clear(df, pflag=False):\n",
        "    # Сохраняем размерность датафрейма\n",
        "    shape_sum = df.shape\n",
        "\n",
        "    # Удаляем дубликаты строк\n",
        "    df = df.drop_duplicates()\n",
        "    # Удаляем дубликаты столбцов\n",
        "    df = df.T.drop_duplicates().T\n",
        "\n",
        "    # Удаляем полностью пустые столбцы и строки\n",
        "    df = df.dropna(axis=0, how='all')\n",
        "    df = df.dropna(axis=1, how='all')\n",
        "\n",
        "    # Выводим результаты\n",
        "    if pflag:\n",
        "        print(f\"Форма датасета до операции: {shape_sum}\")\n",
        "        print(f\"Форма датасета после операции: {df.shape}\")\n",
        "\n",
        "        print(f\"Количество строк после удаления пустых и повторяющихся: {df.shape[0]}\")\n",
        "        print(f\"Количество столбцов после удаления пустых и повторяющихся: {df.shape[1]}\")\n",
        "        print(f\"\\n*Удалено {shape_sum[0] - df.shape[0]} строк и {shape_sum[1] - df.shape[1]} столбцов.\")\n",
        "    df = df.convert_dtypes()\n",
        "    return df\n",
        "\n",
        "# Регулярное выражения для GUID\n",
        "regex_GUID = \"^[{]?[0-9a-fA-F]{8}\" + \"-([0-9a-fA-F]{4}-)\" + \"{3}[0-9a-fA-F]{12}[}]?$\"\n",
        "\n",
        "# Поиск и удаление GUID столбцов\n",
        "def regex_to_nan(df, to_replace=regex_GUID, value=np.nan, pflag=False):\n",
        "    df = df.replace(to_replace=to_replace, value=value, regex=True)\n",
        "    if pflag:\n",
        "        print(f\"Колонки для удаления:\\n{df.columns[df.isna().all()].tolist()}\")\n",
        "    return df\n",
        "\n",
        "# Подсчет заполненности таблицы\n",
        "def fills_count(df):\n",
        "    return f\"Заполненность: ~{round((1 - (df.isna().sum().sum() / df.size))*100, 2)}%\""
      ],
      "metadata": {
        "id": "nidpOYFtRUwI"
      },
      "execution_count": 4,
      "outputs": []
    },
    {
      "cell_type": "markdown",
      "source": [
        "Анализ данных.\n",
        "* форма\n",
        "* количество значений\n",
        "* основная информация о датафрейме\n",
        "* определение и подсчет типов данных до и после попытки автоматического преобразования типов `df.convert_dtypes()`\n",
        "* процент заполненности данными"
      ],
      "metadata": {
        "id": "eognNahh6-O1"
      }
    },
    {
      "cell_type": "code",
      "source": [
        "print()\n",
        "print(\"Форма: \", df.shape)\n",
        "print(\"Количество значений: \", df.size)\n",
        "print()\n",
        "display(df.info(max_cols=0))\n",
        "# pd.set_option('display.max_rows', None) # (default=20) для сброса pd.reset_option('display.max_rows') | для колонок max_columns\n",
        "# display(df.dtypes)\n",
        "# pd.reset_option('display.max_rows')\n",
        "print(\"\\nТипы данных в фрейме:\")\n",
        "display(df.dtypes.value_counts())\n",
        "print(\"\\nПреобразование типов данных.\")\n",
        "df = df.convert_dtypes()\n",
        "print(\"\\nТипы данных после преобразования:\")\n",
        "display(df.dtypes.value_counts())\n",
        "print()\n",
        "print(fills_count(df))"
      ],
      "metadata": {
        "colab": {
          "base_uri": "https://localhost:8080/",
          "height": 520
        },
        "id": "dhY9U6CjMoEC",
        "outputId": "ae9d4793-aabd-4a00-fba9-fd26e3dd80e3"
      },
      "execution_count": 5,
      "outputs": [
        {
          "output_type": "stream",
          "name": "stdout",
          "text": [
            "\n",
            "Форма:  (1982, 4587)\n",
            "Количество значений:  9091434\n",
            "\n",
            "<class 'pandas.core.frame.DataFrame'>\n",
            "RangeIndex: 1982 entries, 0 to 1981\n",
            "Columns: 4587 entries, ДокументПрохождениеМедосмотра to Офтальмология1_ДвигательныйАппаратГлазДополнение_ЗначениеПредставление\n",
            "dtypes: bool(1), datetime64[ns](43), float64(1253), object(3290)\n",
            "memory usage: 69.3+ MB\n"
          ]
        },
        {
          "output_type": "display_data",
          "data": {
            "text/plain": [
              "None"
            ]
          },
          "metadata": {}
        },
        {
          "output_type": "stream",
          "name": "stdout",
          "text": [
            "\n",
            "Типы данных в фрейме:\n"
          ]
        },
        {
          "output_type": "display_data",
          "data": {
            "text/plain": [
              "object            3290\n",
              "float64           1253\n",
              "datetime64[ns]      43\n",
              "bool                 1\n",
              "dtype: int64"
            ]
          },
          "metadata": {}
        },
        {
          "output_type": "stream",
          "name": "stdout",
          "text": [
            "\n",
            "Преобразование типов данных.\n",
            "\n",
            "Типы данных после преобразования:\n"
          ]
        },
        {
          "output_type": "display_data",
          "data": {
            "text/plain": [
              "string            3206\n",
              "Int64             1228\n",
              "boolean             85\n",
              "datetime64[ns]      43\n",
              "Float64             25\n",
              "dtype: int64"
            ]
          },
          "metadata": {}
        },
        {
          "output_type": "stream",
          "name": "stdout",
          "text": [
            "\n",
            "Заполненность: ~10.83%\n"
          ]
        }
      ]
    },
    {
      "cell_type": "markdown",
      "source": [
        "Поиск колонок с датами.\n",
        "* нахождение по обнаруженному типу `datetime64[ns]`\n",
        "* нахождение колонок, содержащих в названии слово `Дата`\n",
        "\n",
        "Сопоставление полученных результатов между собой.\n",
        "Получилось, что данные по слову `Дата` имеют действительно даты, только не определились и полностью включают в себя найденные стобцы по автоматически определенному типу данных - `datetime64[ns]`"
      ],
      "metadata": {
        "id": "fi9q6pJE7eb6"
      }
    },
    {
      "cell_type": "code",
      "source": [
        "datatype_list = df.columns[df.dtypes == 'datetime64[ns]'].values.tolist()\n",
        "print(f\"Количество столбцов с типом 'datetime64[ns]': {len(datatype_list)}\")\n",
        "dataword_list = df.filter(regex=\"Дата\", axis=1).columns.values.tolist()\n",
        "print(f\"Количество столбцов со словом 'Дата': {len(dataword_list)}\")\n",
        "print()\n",
        "if len(datatype_list) > len(dataword_list):\n",
        "    data_diff = set(datatype_list) - set(dataword_list)\n",
        "    if set(dataword_list).issubset(datatype_list):\n",
        "        print(\"Список dataword_list входит в datatype_list\\n\")\n",
        "elif len(datatype_list) < len(dataword_list):\n",
        "    data_diff =  set(dataword_list) - set(datatype_list)\n",
        "    if set(datatype_list).issubset(dataword_list):\n",
        "        print(\"Список datatype_list входит в dataword_list\\n\")\n",
        "else: print(\"Списки равны\\n\")\n",
        "\n",
        "# Для вывода списка разницы колонок убрать комментарий с строки\n",
        "# print(*data_diff, sep=\"\\n\")"
      ],
      "metadata": {
        "colab": {
          "base_uri": "https://localhost:8080/"
        },
        "id": "l9jiypVDSI-x",
        "outputId": "e7d7aa5f-a50d-4bd0-8f55-8e44d2abd31a"
      },
      "execution_count": 6,
      "outputs": [
        {
          "output_type": "stream",
          "name": "stdout",
          "text": [
            "Количество столбцов с типом 'datetime64[ns]': 43\n",
            "Количество столбцов со словом 'Дата': 111\n",
            "\n",
            "Список datatype_list входит в dataword_list\n",
            "\n"
          ]
        }
      ]
    },
    {
      "cell_type": "markdown",
      "source": [
        "Анализ и проверка целевой колонки `ЗаключениеМК` на предмет \"мусорных\" данных и пропусков."
      ],
      "metadata": {
        "id": "_6bsMIZt8VTk"
      }
    },
    {
      "cell_type": "code",
      "source": [
        "display(df['ЗаключениеМК'].unique().tolist())"
      ],
      "metadata": {
        "colab": {
          "base_uri": "https://localhost:8080/",
          "height": 191
        },
        "id": "UEQXNULHAD1a",
        "outputId": "634023c8-6dfd-4f06-b323-07d7a782bf9e"
      },
      "execution_count": 7,
      "outputs": [
        {
          "output_type": "display_data",
          "data": {
            "text/plain": [
              "['Годен',\n",
              " 'ГоденСКоррекциейЗрения',\n",
              " 'ГоденБезРаботНаВысотах',\n",
              " 'НуждаетсяВДообследованииИЛечении',\n",
              " 'ВременноНегоден',\n",
              " 'ОграниченноГоден',\n",
              " <NA>,\n",
              " 'машинист бульдозера',\n",
              " 'Газоспасатель',\n",
              " ' Газоспасатель']"
            ]
          },
          "metadata": {}
        }
      ]
    },
    {
      "cell_type": "markdown",
      "source": [
        "Создание маски с соответствующими критериям данными для целевой колонки."
      ],
      "metadata": {
        "id": "rmz6kkCB8ez-"
      }
    },
    {
      "cell_type": "code",
      "source": [
        "mask_list = ['Годен', 'ГоденСКоррекциейЗрения', 'ГоденБезРаботНаВысотах',\n",
        "       'НуждаетсяВДообследованииИЛечении', 'ВременноНегоден',\n",
        "       'ОграниченноГоден']"
      ],
      "metadata": {
        "id": "BCcrQW1xATBx"
      },
      "execution_count": 8,
      "outputs": []
    },
    {
      "cell_type": "markdown",
      "source": [
        "Чистка от мусорных, дублирующих, не имеющих ценности и пустых данных.\n",
        "\n",
        "Сначала производится чистка по маске из целевой колонки `ЗаключениеМК`, затем удаляются данные с датами, затем данные с GUID, дублирующие и пустые.\n",
        "\n",
        "Сравнивается форма датафрейма до и после чистки."
      ],
      "metadata": {
        "id": "fmQRtrw1816X"
      }
    },
    {
      "cell_type": "code",
      "source": [
        "print(f\"Форма датафрейма до: {df.shape}\")\n",
        "try:\n",
        "    print(\"Чистка от некорректных данных в целевой колонке\")\n",
        "    df = df[df['ЗаключениеМК'].isin(mask_list)]\n",
        "    print(\"Чистка от колонок с датами\")\n",
        "    df = df.drop(dataword_list, axis='columns')\n",
        "    print(\"Чистка от GUID колонок, полностью пустых строк и колонок, дубликатов строк и колонок...\")\n",
        "    df = regex_to_nan(df)\n",
        "    df = clean_clear(df)\n",
        "except Exception as e:\n",
        "    print(e)\n",
        "print(f\"Форма датафрейма после: {df.shape}\")"
      ],
      "metadata": {
        "colab": {
          "base_uri": "https://localhost:8080/"
        },
        "id": "eLJDwq9R6s_a",
        "outputId": "df27935f-8082-4f71-87f3-6bd3053d768b"
      },
      "execution_count": 9,
      "outputs": [
        {
          "output_type": "stream",
          "name": "stdout",
          "text": [
            "Форма датафрейма до: (1982, 4587)\n",
            "Чистка от некорректных данных в целевой колонке\n",
            "Чистка от колонок с датами\n",
            "Чистка от GUID колонок, полностью пустых строк и колонок, дубликатов строк и колонок...\n",
            "Форма датафрейма после: (1446, 1580)\n"
          ]
        }
      ]
    },
    {
      "cell_type": "markdown",
      "source": [
        "#Categorization"
      ],
      "metadata": {
        "id": "ZAIdKzAk9eVt"
      }
    },
    {
      "cell_type": "code",
      "source": [
        "print(fills_count(df))\n",
        "display(df.info())"
      ],
      "metadata": {
        "colab": {
          "base_uri": "https://localhost:8080/",
          "height": 139
        },
        "id": "0f2nIKUMC4X8",
        "outputId": "a5bae222-bb97-415f-b80b-72a6009bb2b7"
      },
      "execution_count": 10,
      "outputs": [
        {
          "output_type": "stream",
          "name": "stdout",
          "text": [
            "Заполненность: ~16.37%\n",
            "<class 'pandas.core.frame.DataFrame'>\n",
            "Int64Index: 1446 entries, 0 to 1981\n",
            "Columns: 1580 entries, КлиентПол to Офтальмология1_ДвигательныйАппаратГлазДополнение_Значение\n",
            "dtypes: boolean(40), object(151), string(1389)\n",
            "memory usage: 17.1+ MB\n"
          ]
        },
        {
          "output_type": "display_data",
          "data": {
            "text/plain": [
              "None"
            ]
          },
          "metadata": {}
        }
      ]
    }
  ]
}