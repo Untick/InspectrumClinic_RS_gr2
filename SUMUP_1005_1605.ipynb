{
  "nbformat": 4,
  "nbformat_minor": 0,
  "metadata": {
    "colab": {
      "provenance": [],
      "authorship_tag": "ABX9TyOYi1vTsHXtiPBisqlsrAiP",
      "include_colab_link": true
    },
    "kernelspec": {
      "name": "python3",
      "display_name": "Python 3"
    },
    "language_info": {
      "name": "python"
    }
  },
  "cells": [
    {
      "cell_type": "markdown",
      "metadata": {
        "id": "view-in-github",
        "colab_type": "text"
      },
      "source": [
        "<a href=\"https://colab.research.google.com/github/Untick/InspectrumClinic_RS_gr2/blob/Kostin-Sergey-folder/SUMUP_1005_1605.ipynb\" target=\"_parent\"><img src=\"https://colab.research.google.com/assets/colab-badge.svg\" alt=\"Open In Colab\"/></a>"
      ]
    },
    {
      "cell_type": "markdown",
      "source": [
        "# Первые попытки работы с данными"
      ],
      "metadata": {
        "id": "gLZAQ8faEDHS"
      }
    },
    {
      "cell_type": "markdown",
      "source": [
        "1. [Clear.ipynb](https://colab.research.google.com/drive/1peawYWY8zCS8wUF67TJ2vxbD6XAK_DNf?usp=sharing) - по большей части игровая площадка\n",
        "2. [Review.ipynb](https://colab.research.google.com/drive/116G1PqMp8cwSUYrW_RhS-Y4sf4mr4bMw?usp=sharing) - попытка автоматической чистки столбцов по NaN данным"
      ],
      "metadata": {
        "id": "0XHI462XEJxW"
      }
    },
    {
      "cell_type": "markdown",
      "source": [
        "# Осознанные попытки работы с данными"
      ],
      "metadata": {
        "id": "K-1FDzT_FolM"
      }
    },
    {
      "cell_type": "markdown",
      "source": [
        "1. [DataClear.ipynb](https://colab.research.google.com/drive/1P_yqwpsJF94cJlJEtanc4-yAs3NS3W5e?usp=sharing) - очистка данных по столбцам (guid, DateTime, NaN .%). Вывод результатов чистки в [логи](https://drive.google.com/file/d/1-NNDd_rWkeYlWjMC5iNzafCP6VxEROmb/view?usp=sharing); сохранение [очищенных данных](https://docs.google.com/spreadsheets/d/18_tQTsF1rLmxnDanFNPzulmqQInizoS-/edit?usp=sharing&ouid=103535794943199540726&rtpof=true&sd=true)\n",
        "2. [DataSetup.ipynb](https://colab.research.google.com/drive/1MHi-10hdR1jNpMsDGJ5wpQcAjcDbKW0K?usp=sharing) - очистка данных по строкам, задача на оптимизацию по соотношению пустых строк/колонок. Разбитие данных по полу М/Ж. Финализация (токенизация) [данных](https://docs.google.com/spreadsheets/d/1-VgqSZ7sudOPfvhPKXMxrv00s1WpjdhA/edit?usp=sharing&ouid=103535794943199540726&rtpof=true&sd=true)."
      ],
      "metadata": {
        "id": "XnBQUQimFuAo"
      }
    }
  ]
}